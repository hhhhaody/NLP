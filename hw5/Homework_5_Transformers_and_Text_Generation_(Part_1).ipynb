{
  "nbformat": 4,
  "nbformat_minor": 0,
  "metadata": {
    "colab": {
      "name": "Homework 5-Transformers and Text-Generation (Part 1)",
      "provenance": [],
      "collapsed_sections": []
    },
    "kernelspec": {
      "name": "python3",
      "display_name": "Python 3"
    },
    "widgets": {
      "application/vnd.jupyter.widget-state+json": {
        "f34571feb6f94589917e23c0ec6a0d36": {
          "model_module": "@jupyter-widgets/controls",
          "model_name": "HBoxModel",
          "state": {
            "_view_name": "HBoxView",
            "_dom_classes": [],
            "_model_name": "HBoxModel",
            "_view_module": "@jupyter-widgets/controls",
            "_model_module_version": "1.5.0",
            "_view_count": null,
            "_view_module_version": "1.5.0",
            "box_style": "",
            "layout": "IPY_MODEL_e381f36fb5234ebe9f97596d567ad6fc",
            "_model_module": "@jupyter-widgets/controls",
            "children": [
              "IPY_MODEL_38f9916768a54f0f8b5f62db2172db2a",
              "IPY_MODEL_29183b98eef640be87fba77c7549d50f"
            ]
          }
        },
        "e381f36fb5234ebe9f97596d567ad6fc": {
          "model_module": "@jupyter-widgets/base",
          "model_name": "LayoutModel",
          "state": {
            "_view_name": "LayoutView",
            "grid_template_rows": null,
            "right": null,
            "justify_content": null,
            "_view_module": "@jupyter-widgets/base",
            "overflow": null,
            "_model_module_version": "1.2.0",
            "_view_count": null,
            "flex_flow": null,
            "width": null,
            "min_width": null,
            "border": null,
            "align_items": null,
            "bottom": null,
            "_model_module": "@jupyter-widgets/base",
            "top": null,
            "grid_column": null,
            "overflow_y": null,
            "overflow_x": null,
            "grid_auto_flow": null,
            "grid_area": null,
            "grid_template_columns": null,
            "flex": null,
            "_model_name": "LayoutModel",
            "justify_items": null,
            "grid_row": null,
            "max_height": null,
            "align_content": null,
            "visibility": null,
            "align_self": null,
            "height": null,
            "min_height": null,
            "padding": null,
            "grid_auto_rows": null,
            "grid_gap": null,
            "max_width": null,
            "order": null,
            "_view_module_version": "1.2.0",
            "grid_template_areas": null,
            "object_position": null,
            "object_fit": null,
            "grid_auto_columns": null,
            "margin": null,
            "display": null,
            "left": null
          }
        },
        "38f9916768a54f0f8b5f62db2172db2a": {
          "model_module": "@jupyter-widgets/controls",
          "model_name": "FloatProgressModel",
          "state": {
            "_view_name": "ProgressView",
            "style": "IPY_MODEL_8f2cd40e5fea4e93afed7a96b8411259",
            "_dom_classes": [],
            "description": "Downloading: 100%",
            "_model_name": "FloatProgressModel",
            "bar_style": "success",
            "max": 762,
            "_view_module": "@jupyter-widgets/controls",
            "_model_module_version": "1.5.0",
            "value": 762,
            "_view_count": null,
            "_view_module_version": "1.5.0",
            "orientation": "horizontal",
            "min": 0,
            "description_tooltip": null,
            "_model_module": "@jupyter-widgets/controls",
            "layout": "IPY_MODEL_4eff5098d5864384943f7b415397bc72"
          }
        },
        "29183b98eef640be87fba77c7549d50f": {
          "model_module": "@jupyter-widgets/controls",
          "model_name": "HTMLModel",
          "state": {
            "_view_name": "HTMLView",
            "style": "IPY_MODEL_b60b4ecd910b4a0596e265146cb598bf",
            "_dom_classes": [],
            "description": "",
            "_model_name": "HTMLModel",
            "placeholder": "​",
            "_view_module": "@jupyter-widgets/controls",
            "_model_module_version": "1.5.0",
            "value": " 762/762 [00:00&lt;00:00, 6.30kB/s]",
            "_view_count": null,
            "_view_module_version": "1.5.0",
            "description_tooltip": null,
            "_model_module": "@jupyter-widgets/controls",
            "layout": "IPY_MODEL_b7af1851b5124627935bb1e45c7a5536"
          }
        },
        "8f2cd40e5fea4e93afed7a96b8411259": {
          "model_module": "@jupyter-widgets/controls",
          "model_name": "ProgressStyleModel",
          "state": {
            "_view_name": "StyleView",
            "_model_name": "ProgressStyleModel",
            "description_width": "initial",
            "_view_module": "@jupyter-widgets/base",
            "_model_module_version": "1.5.0",
            "_view_count": null,
            "_view_module_version": "1.2.0",
            "bar_color": null,
            "_model_module": "@jupyter-widgets/controls"
          }
        },
        "4eff5098d5864384943f7b415397bc72": {
          "model_module": "@jupyter-widgets/base",
          "model_name": "LayoutModel",
          "state": {
            "_view_name": "LayoutView",
            "grid_template_rows": null,
            "right": null,
            "justify_content": null,
            "_view_module": "@jupyter-widgets/base",
            "overflow": null,
            "_model_module_version": "1.2.0",
            "_view_count": null,
            "flex_flow": null,
            "width": null,
            "min_width": null,
            "border": null,
            "align_items": null,
            "bottom": null,
            "_model_module": "@jupyter-widgets/base",
            "top": null,
            "grid_column": null,
            "overflow_y": null,
            "overflow_x": null,
            "grid_auto_flow": null,
            "grid_area": null,
            "grid_template_columns": null,
            "flex": null,
            "_model_name": "LayoutModel",
            "justify_items": null,
            "grid_row": null,
            "max_height": null,
            "align_content": null,
            "visibility": null,
            "align_self": null,
            "height": null,
            "min_height": null,
            "padding": null,
            "grid_auto_rows": null,
            "grid_gap": null,
            "max_width": null,
            "order": null,
            "_view_module_version": "1.2.0",
            "grid_template_areas": null,
            "object_position": null,
            "object_fit": null,
            "grid_auto_columns": null,
            "margin": null,
            "display": null,
            "left": null
          }
        },
        "b60b4ecd910b4a0596e265146cb598bf": {
          "model_module": "@jupyter-widgets/controls",
          "model_name": "DescriptionStyleModel",
          "state": {
            "_view_name": "StyleView",
            "_model_name": "DescriptionStyleModel",
            "description_width": "",
            "_view_module": "@jupyter-widgets/base",
            "_model_module_version": "1.5.0",
            "_view_count": null,
            "_view_module_version": "1.2.0",
            "_model_module": "@jupyter-widgets/controls"
          }
        },
        "b7af1851b5124627935bb1e45c7a5536": {
          "model_module": "@jupyter-widgets/base",
          "model_name": "LayoutModel",
          "state": {
            "_view_name": "LayoutView",
            "grid_template_rows": null,
            "right": null,
            "justify_content": null,
            "_view_module": "@jupyter-widgets/base",
            "overflow": null,
            "_model_module_version": "1.2.0",
            "_view_count": null,
            "flex_flow": null,
            "width": null,
            "min_width": null,
            "border": null,
            "align_items": null,
            "bottom": null,
            "_model_module": "@jupyter-widgets/base",
            "top": null,
            "grid_column": null,
            "overflow_y": null,
            "overflow_x": null,
            "grid_auto_flow": null,
            "grid_area": null,
            "grid_template_columns": null,
            "flex": null,
            "_model_name": "LayoutModel",
            "justify_items": null,
            "grid_row": null,
            "max_height": null,
            "align_content": null,
            "visibility": null,
            "align_self": null,
            "height": null,
            "min_height": null,
            "padding": null,
            "grid_auto_rows": null,
            "grid_gap": null,
            "max_width": null,
            "order": null,
            "_view_module_version": "1.2.0",
            "grid_template_areas": null,
            "object_position": null,
            "object_fit": null,
            "grid_auto_columns": null,
            "margin": null,
            "display": null,
            "left": null
          }
        },
        "1ffb5c9dd77c49a7959feb70c00e490b": {
          "model_module": "@jupyter-widgets/controls",
          "model_name": "HBoxModel",
          "state": {
            "_view_name": "HBoxView",
            "_dom_classes": [],
            "_model_name": "HBoxModel",
            "_view_module": "@jupyter-widgets/controls",
            "_model_module_version": "1.5.0",
            "_view_count": null,
            "_view_module_version": "1.5.0",
            "box_style": "",
            "layout": "IPY_MODEL_4b3561f241854414a34df1df65199fc0",
            "_model_module": "@jupyter-widgets/controls",
            "children": [
              "IPY_MODEL_a800db999f904dc5aa1b7af588000368",
              "IPY_MODEL_04464346ce144f33afa2be5311eef7ab"
            ]
          }
        },
        "4b3561f241854414a34df1df65199fc0": {
          "model_module": "@jupyter-widgets/base",
          "model_name": "LayoutModel",
          "state": {
            "_view_name": "LayoutView",
            "grid_template_rows": null,
            "right": null,
            "justify_content": null,
            "_view_module": "@jupyter-widgets/base",
            "overflow": null,
            "_model_module_version": "1.2.0",
            "_view_count": null,
            "flex_flow": null,
            "width": null,
            "min_width": null,
            "border": null,
            "align_items": null,
            "bottom": null,
            "_model_module": "@jupyter-widgets/base",
            "top": null,
            "grid_column": null,
            "overflow_y": null,
            "overflow_x": null,
            "grid_auto_flow": null,
            "grid_area": null,
            "grid_template_columns": null,
            "flex": null,
            "_model_name": "LayoutModel",
            "justify_items": null,
            "grid_row": null,
            "max_height": null,
            "align_content": null,
            "visibility": null,
            "align_self": null,
            "height": null,
            "min_height": null,
            "padding": null,
            "grid_auto_rows": null,
            "grid_gap": null,
            "max_width": null,
            "order": null,
            "_view_module_version": "1.2.0",
            "grid_template_areas": null,
            "object_position": null,
            "object_fit": null,
            "grid_auto_columns": null,
            "margin": null,
            "display": null,
            "left": null
          }
        },
        "a800db999f904dc5aa1b7af588000368": {
          "model_module": "@jupyter-widgets/controls",
          "model_name": "FloatProgressModel",
          "state": {
            "_view_name": "ProgressView",
            "style": "IPY_MODEL_6d0b64cc7ac045bdaa63a951facdb14b",
            "_dom_classes": [],
            "description": "Downloading: 100%",
            "_model_name": "FloatProgressModel",
            "bar_style": "success",
            "max": 352833716,
            "_view_module": "@jupyter-widgets/controls",
            "_model_module_version": "1.5.0",
            "value": 352833716,
            "_view_count": null,
            "_view_module_version": "1.5.0",
            "orientation": "horizontal",
            "min": 0,
            "description_tooltip": null,
            "_model_module": "@jupyter-widgets/controls",
            "layout": "IPY_MODEL_827e95cb2375436e900ba020d1c3988a"
          }
        },
        "04464346ce144f33afa2be5311eef7ab": {
          "model_module": "@jupyter-widgets/controls",
          "model_name": "HTMLModel",
          "state": {
            "_view_name": "HTMLView",
            "style": "IPY_MODEL_6ceea65cc42441449ba88b27aea29168",
            "_dom_classes": [],
            "description": "",
            "_model_name": "HTMLModel",
            "placeholder": "​",
            "_view_module": "@jupyter-widgets/controls",
            "_model_module_version": "1.5.0",
            "value": " 353M/353M [00:07&lt;00:00, 49.5MB/s]",
            "_view_count": null,
            "_view_module_version": "1.5.0",
            "description_tooltip": null,
            "_model_module": "@jupyter-widgets/controls",
            "layout": "IPY_MODEL_0fda4fc7e2174196b4cfe72cbcb57f1f"
          }
        },
        "6d0b64cc7ac045bdaa63a951facdb14b": {
          "model_module": "@jupyter-widgets/controls",
          "model_name": "ProgressStyleModel",
          "state": {
            "_view_name": "StyleView",
            "_model_name": "ProgressStyleModel",
            "description_width": "initial",
            "_view_module": "@jupyter-widgets/base",
            "_model_module_version": "1.5.0",
            "_view_count": null,
            "_view_module_version": "1.2.0",
            "bar_color": null,
            "_model_module": "@jupyter-widgets/controls"
          }
        },
        "827e95cb2375436e900ba020d1c3988a": {
          "model_module": "@jupyter-widgets/base",
          "model_name": "LayoutModel",
          "state": {
            "_view_name": "LayoutView",
            "grid_template_rows": null,
            "right": null,
            "justify_content": null,
            "_view_module": "@jupyter-widgets/base",
            "overflow": null,
            "_model_module_version": "1.2.0",
            "_view_count": null,
            "flex_flow": null,
            "width": null,
            "min_width": null,
            "border": null,
            "align_items": null,
            "bottom": null,
            "_model_module": "@jupyter-widgets/base",
            "top": null,
            "grid_column": null,
            "overflow_y": null,
            "overflow_x": null,
            "grid_auto_flow": null,
            "grid_area": null,
            "grid_template_columns": null,
            "flex": null,
            "_model_name": "LayoutModel",
            "justify_items": null,
            "grid_row": null,
            "max_height": null,
            "align_content": null,
            "visibility": null,
            "align_self": null,
            "height": null,
            "min_height": null,
            "padding": null,
            "grid_auto_rows": null,
            "grid_gap": null,
            "max_width": null,
            "order": null,
            "_view_module_version": "1.2.0",
            "grid_template_areas": null,
            "object_position": null,
            "object_fit": null,
            "grid_auto_columns": null,
            "margin": null,
            "display": null,
            "left": null
          }
        },
        "6ceea65cc42441449ba88b27aea29168": {
          "model_module": "@jupyter-widgets/controls",
          "model_name": "DescriptionStyleModel",
          "state": {
            "_view_name": "StyleView",
            "_model_name": "DescriptionStyleModel",
            "description_width": "",
            "_view_module": "@jupyter-widgets/base",
            "_model_module_version": "1.5.0",
            "_view_count": null,
            "_view_module_version": "1.2.0",
            "_model_module": "@jupyter-widgets/controls"
          }
        },
        "0fda4fc7e2174196b4cfe72cbcb57f1f": {
          "model_module": "@jupyter-widgets/base",
          "model_name": "LayoutModel",
          "state": {
            "_view_name": "LayoutView",
            "grid_template_rows": null,
            "right": null,
            "justify_content": null,
            "_view_module": "@jupyter-widgets/base",
            "overflow": null,
            "_model_module_version": "1.2.0",
            "_view_count": null,
            "flex_flow": null,
            "width": null,
            "min_width": null,
            "border": null,
            "align_items": null,
            "bottom": null,
            "_model_module": "@jupyter-widgets/base",
            "top": null,
            "grid_column": null,
            "overflow_y": null,
            "overflow_x": null,
            "grid_auto_flow": null,
            "grid_area": null,
            "grid_template_columns": null,
            "flex": null,
            "_model_name": "LayoutModel",
            "justify_items": null,
            "grid_row": null,
            "max_height": null,
            "align_content": null,
            "visibility": null,
            "align_self": null,
            "height": null,
            "min_height": null,
            "padding": null,
            "grid_auto_rows": null,
            "grid_gap": null,
            "max_width": null,
            "order": null,
            "_view_module_version": "1.2.0",
            "grid_template_areas": null,
            "object_position": null,
            "object_fit": null,
            "grid_auto_columns": null,
            "margin": null,
            "display": null,
            "left": null
          }
        },
        "acb7895163254a18be2b20a6d7a1b030": {
          "model_module": "@jupyter-widgets/controls",
          "model_name": "HBoxModel",
          "state": {
            "_view_name": "HBoxView",
            "_dom_classes": [],
            "_model_name": "HBoxModel",
            "_view_module": "@jupyter-widgets/controls",
            "_model_module_version": "1.5.0",
            "_view_count": null,
            "_view_module_version": "1.5.0",
            "box_style": "",
            "layout": "IPY_MODEL_4fb13e741718424e9d9983e1edfcb7f8",
            "_model_module": "@jupyter-widgets/controls",
            "children": [
              "IPY_MODEL_3c9ba514c4f04306b1ed1b4927292844",
              "IPY_MODEL_cc25daa4207842f8a5b7b23f966b6b05"
            ]
          }
        },
        "4fb13e741718424e9d9983e1edfcb7f8": {
          "model_module": "@jupyter-widgets/base",
          "model_name": "LayoutModel",
          "state": {
            "_view_name": "LayoutView",
            "grid_template_rows": null,
            "right": null,
            "justify_content": null,
            "_view_module": "@jupyter-widgets/base",
            "overflow": null,
            "_model_module_version": "1.2.0",
            "_view_count": null,
            "flex_flow": null,
            "width": null,
            "min_width": null,
            "border": null,
            "align_items": null,
            "bottom": null,
            "_model_module": "@jupyter-widgets/base",
            "top": null,
            "grid_column": null,
            "overflow_y": null,
            "overflow_x": null,
            "grid_auto_flow": null,
            "grid_area": null,
            "grid_template_columns": null,
            "flex": null,
            "_model_name": "LayoutModel",
            "justify_items": null,
            "grid_row": null,
            "max_height": null,
            "align_content": null,
            "visibility": null,
            "align_self": null,
            "height": null,
            "min_height": null,
            "padding": null,
            "grid_auto_rows": null,
            "grid_gap": null,
            "max_width": null,
            "order": null,
            "_view_module_version": "1.2.0",
            "grid_template_areas": null,
            "object_position": null,
            "object_fit": null,
            "grid_auto_columns": null,
            "margin": null,
            "display": null,
            "left": null
          }
        },
        "3c9ba514c4f04306b1ed1b4927292844": {
          "model_module": "@jupyter-widgets/controls",
          "model_name": "FloatProgressModel",
          "state": {
            "_view_name": "ProgressView",
            "style": "IPY_MODEL_3272b8a3493147a3a59325974b57a830",
            "_dom_classes": [],
            "description": "Downloading: 100%",
            "_model_name": "FloatProgressModel",
            "bar_style": "success",
            "max": 1042301,
            "_view_module": "@jupyter-widgets/controls",
            "_model_module_version": "1.5.0",
            "value": 1042301,
            "_view_count": null,
            "_view_module_version": "1.5.0",
            "orientation": "horizontal",
            "min": 0,
            "description_tooltip": null,
            "_model_module": "@jupyter-widgets/controls",
            "layout": "IPY_MODEL_fb14909ac2d046b4a25c6ee2863e3612"
          }
        },
        "cc25daa4207842f8a5b7b23f966b6b05": {
          "model_module": "@jupyter-widgets/controls",
          "model_name": "HTMLModel",
          "state": {
            "_view_name": "HTMLView",
            "style": "IPY_MODEL_71e3f5e86d9b42289979960aec14c759",
            "_dom_classes": [],
            "description": "",
            "_model_name": "HTMLModel",
            "placeholder": "​",
            "_view_module": "@jupyter-widgets/controls",
            "_model_module_version": "1.5.0",
            "value": " 1.04M/1.04M [00:01&lt;00:00, 746kB/s]",
            "_view_count": null,
            "_view_module_version": "1.5.0",
            "description_tooltip": null,
            "_model_module": "@jupyter-widgets/controls",
            "layout": "IPY_MODEL_9436cc09f6ec47f8ba86adac388eadae"
          }
        },
        "3272b8a3493147a3a59325974b57a830": {
          "model_module": "@jupyter-widgets/controls",
          "model_name": "ProgressStyleModel",
          "state": {
            "_view_name": "StyleView",
            "_model_name": "ProgressStyleModel",
            "description_width": "initial",
            "_view_module": "@jupyter-widgets/base",
            "_model_module_version": "1.5.0",
            "_view_count": null,
            "_view_module_version": "1.2.0",
            "bar_color": null,
            "_model_module": "@jupyter-widgets/controls"
          }
        },
        "fb14909ac2d046b4a25c6ee2863e3612": {
          "model_module": "@jupyter-widgets/base",
          "model_name": "LayoutModel",
          "state": {
            "_view_name": "LayoutView",
            "grid_template_rows": null,
            "right": null,
            "justify_content": null,
            "_view_module": "@jupyter-widgets/base",
            "overflow": null,
            "_model_module_version": "1.2.0",
            "_view_count": null,
            "flex_flow": null,
            "width": null,
            "min_width": null,
            "border": null,
            "align_items": null,
            "bottom": null,
            "_model_module": "@jupyter-widgets/base",
            "top": null,
            "grid_column": null,
            "overflow_y": null,
            "overflow_x": null,
            "grid_auto_flow": null,
            "grid_area": null,
            "grid_template_columns": null,
            "flex": null,
            "_model_name": "LayoutModel",
            "justify_items": null,
            "grid_row": null,
            "max_height": null,
            "align_content": null,
            "visibility": null,
            "align_self": null,
            "height": null,
            "min_height": null,
            "padding": null,
            "grid_auto_rows": null,
            "grid_gap": null,
            "max_width": null,
            "order": null,
            "_view_module_version": "1.2.0",
            "grid_template_areas": null,
            "object_position": null,
            "object_fit": null,
            "grid_auto_columns": null,
            "margin": null,
            "display": null,
            "left": null
          }
        },
        "71e3f5e86d9b42289979960aec14c759": {
          "model_module": "@jupyter-widgets/controls",
          "model_name": "DescriptionStyleModel",
          "state": {
            "_view_name": "StyleView",
            "_model_name": "DescriptionStyleModel",
            "description_width": "",
            "_view_module": "@jupyter-widgets/base",
            "_model_module_version": "1.5.0",
            "_view_count": null,
            "_view_module_version": "1.2.0",
            "_model_module": "@jupyter-widgets/controls"
          }
        },
        "9436cc09f6ec47f8ba86adac388eadae": {
          "model_module": "@jupyter-widgets/base",
          "model_name": "LayoutModel",
          "state": {
            "_view_name": "LayoutView",
            "grid_template_rows": null,
            "right": null,
            "justify_content": null,
            "_view_module": "@jupyter-widgets/base",
            "overflow": null,
            "_model_module_version": "1.2.0",
            "_view_count": null,
            "flex_flow": null,
            "width": null,
            "min_width": null,
            "border": null,
            "align_items": null,
            "bottom": null,
            "_model_module": "@jupyter-widgets/base",
            "top": null,
            "grid_column": null,
            "overflow_y": null,
            "overflow_x": null,
            "grid_auto_flow": null,
            "grid_area": null,
            "grid_template_columns": null,
            "flex": null,
            "_model_name": "LayoutModel",
            "justify_items": null,
            "grid_row": null,
            "max_height": null,
            "align_content": null,
            "visibility": null,
            "align_self": null,
            "height": null,
            "min_height": null,
            "padding": null,
            "grid_auto_rows": null,
            "grid_gap": null,
            "max_width": null,
            "order": null,
            "_view_module_version": "1.2.0",
            "grid_template_areas": null,
            "object_position": null,
            "object_fit": null,
            "grid_auto_columns": null,
            "margin": null,
            "display": null,
            "left": null
          }
        },
        "b23b43a817db4adf8200e629c1d6b7ec": {
          "model_module": "@jupyter-widgets/controls",
          "model_name": "HBoxModel",
          "state": {
            "_view_name": "HBoxView",
            "_dom_classes": [],
            "_model_name": "HBoxModel",
            "_view_module": "@jupyter-widgets/controls",
            "_model_module_version": "1.5.0",
            "_view_count": null,
            "_view_module_version": "1.5.0",
            "box_style": "",
            "layout": "IPY_MODEL_97bd75358c6e4edab50aa6644e33f4fd",
            "_model_module": "@jupyter-widgets/controls",
            "children": [
              "IPY_MODEL_e36fbfc52cc8444180b5899c68d6f755",
              "IPY_MODEL_3a42d68252aa4d028fb8aec2ffed2afd"
            ]
          }
        },
        "97bd75358c6e4edab50aa6644e33f4fd": {
          "model_module": "@jupyter-widgets/base",
          "model_name": "LayoutModel",
          "state": {
            "_view_name": "LayoutView",
            "grid_template_rows": null,
            "right": null,
            "justify_content": null,
            "_view_module": "@jupyter-widgets/base",
            "overflow": null,
            "_model_module_version": "1.2.0",
            "_view_count": null,
            "flex_flow": null,
            "width": null,
            "min_width": null,
            "border": null,
            "align_items": null,
            "bottom": null,
            "_model_module": "@jupyter-widgets/base",
            "top": null,
            "grid_column": null,
            "overflow_y": null,
            "overflow_x": null,
            "grid_auto_flow": null,
            "grid_area": null,
            "grid_template_columns": null,
            "flex": null,
            "_model_name": "LayoutModel",
            "justify_items": null,
            "grid_row": null,
            "max_height": null,
            "align_content": null,
            "visibility": null,
            "align_self": null,
            "height": null,
            "min_height": null,
            "padding": null,
            "grid_auto_rows": null,
            "grid_gap": null,
            "max_width": null,
            "order": null,
            "_view_module_version": "1.2.0",
            "grid_template_areas": null,
            "object_position": null,
            "object_fit": null,
            "grid_auto_columns": null,
            "margin": null,
            "display": null,
            "left": null
          }
        },
        "e36fbfc52cc8444180b5899c68d6f755": {
          "model_module": "@jupyter-widgets/controls",
          "model_name": "FloatProgressModel",
          "state": {
            "_view_name": "ProgressView",
            "style": "IPY_MODEL_76831104a1a645da804afd7e8d8aa198",
            "_dom_classes": [],
            "description": "Downloading: 100%",
            "_model_name": "FloatProgressModel",
            "bar_style": "success",
            "max": 456318,
            "_view_module": "@jupyter-widgets/controls",
            "_model_module_version": "1.5.0",
            "value": 456318,
            "_view_count": null,
            "_view_module_version": "1.5.0",
            "orientation": "horizontal",
            "min": 0,
            "description_tooltip": null,
            "_model_module": "@jupyter-widgets/controls",
            "layout": "IPY_MODEL_bb34d28bb5854052995f71feff46b21f"
          }
        },
        "3a42d68252aa4d028fb8aec2ffed2afd": {
          "model_module": "@jupyter-widgets/controls",
          "model_name": "HTMLModel",
          "state": {
            "_view_name": "HTMLView",
            "style": "IPY_MODEL_9c683809180b4f5fabc307e56bc09f6e",
            "_dom_classes": [],
            "description": "",
            "_model_name": "HTMLModel",
            "placeholder": "​",
            "_view_module": "@jupyter-widgets/controls",
            "_model_module_version": "1.5.0",
            "value": " 456k/456k [00:00&lt;00:00, 794kB/s]",
            "_view_count": null,
            "_view_module_version": "1.5.0",
            "description_tooltip": null,
            "_model_module": "@jupyter-widgets/controls",
            "layout": "IPY_MODEL_f0d4a9b46bb74a7e8c6ddb0c0fa7076e"
          }
        },
        "76831104a1a645da804afd7e8d8aa198": {
          "model_module": "@jupyter-widgets/controls",
          "model_name": "ProgressStyleModel",
          "state": {
            "_view_name": "StyleView",
            "_model_name": "ProgressStyleModel",
            "description_width": "initial",
            "_view_module": "@jupyter-widgets/base",
            "_model_module_version": "1.5.0",
            "_view_count": null,
            "_view_module_version": "1.2.0",
            "bar_color": null,
            "_model_module": "@jupyter-widgets/controls"
          }
        },
        "bb34d28bb5854052995f71feff46b21f": {
          "model_module": "@jupyter-widgets/base",
          "model_name": "LayoutModel",
          "state": {
            "_view_name": "LayoutView",
            "grid_template_rows": null,
            "right": null,
            "justify_content": null,
            "_view_module": "@jupyter-widgets/base",
            "overflow": null,
            "_model_module_version": "1.2.0",
            "_view_count": null,
            "flex_flow": null,
            "width": null,
            "min_width": null,
            "border": null,
            "align_items": null,
            "bottom": null,
            "_model_module": "@jupyter-widgets/base",
            "top": null,
            "grid_column": null,
            "overflow_y": null,
            "overflow_x": null,
            "grid_auto_flow": null,
            "grid_area": null,
            "grid_template_columns": null,
            "flex": null,
            "_model_name": "LayoutModel",
            "justify_items": null,
            "grid_row": null,
            "max_height": null,
            "align_content": null,
            "visibility": null,
            "align_self": null,
            "height": null,
            "min_height": null,
            "padding": null,
            "grid_auto_rows": null,
            "grid_gap": null,
            "max_width": null,
            "order": null,
            "_view_module_version": "1.2.0",
            "grid_template_areas": null,
            "object_position": null,
            "object_fit": null,
            "grid_auto_columns": null,
            "margin": null,
            "display": null,
            "left": null
          }
        },
        "9c683809180b4f5fabc307e56bc09f6e": {
          "model_module": "@jupyter-widgets/controls",
          "model_name": "DescriptionStyleModel",
          "state": {
            "_view_name": "StyleView",
            "_model_name": "DescriptionStyleModel",
            "description_width": "",
            "_view_module": "@jupyter-widgets/base",
            "_model_module_version": "1.5.0",
            "_view_count": null,
            "_view_module_version": "1.2.0",
            "_model_module": "@jupyter-widgets/controls"
          }
        },
        "f0d4a9b46bb74a7e8c6ddb0c0fa7076e": {
          "model_module": "@jupyter-widgets/base",
          "model_name": "LayoutModel",
          "state": {
            "_view_name": "LayoutView",
            "grid_template_rows": null,
            "right": null,
            "justify_content": null,
            "_view_module": "@jupyter-widgets/base",
            "overflow": null,
            "_model_module_version": "1.2.0",
            "_view_count": null,
            "flex_flow": null,
            "width": null,
            "min_width": null,
            "border": null,
            "align_items": null,
            "bottom": null,
            "_model_module": "@jupyter-widgets/base",
            "top": null,
            "grid_column": null,
            "overflow_y": null,
            "overflow_x": null,
            "grid_auto_flow": null,
            "grid_area": null,
            "grid_template_columns": null,
            "flex": null,
            "_model_name": "LayoutModel",
            "justify_items": null,
            "grid_row": null,
            "max_height": null,
            "align_content": null,
            "visibility": null,
            "align_self": null,
            "height": null,
            "min_height": null,
            "padding": null,
            "grid_auto_rows": null,
            "grid_gap": null,
            "max_width": null,
            "order": null,
            "_view_module_version": "1.2.0",
            "grid_template_areas": null,
            "object_position": null,
            "object_fit": null,
            "grid_auto_columns": null,
            "margin": null,
            "display": null,
            "left": null
          }
        },
        "285d9114728b4d13bd4e5c5e548020d6": {
          "model_module": "@jupyter-widgets/controls",
          "model_name": "HBoxModel",
          "state": {
            "_view_name": "HBoxView",
            "_dom_classes": [],
            "_model_name": "HBoxModel",
            "_view_module": "@jupyter-widgets/controls",
            "_model_module_version": "1.5.0",
            "_view_count": null,
            "_view_module_version": "1.5.0",
            "box_style": "",
            "layout": "IPY_MODEL_7f20d44351c142f4ba1ffc4b4a810399",
            "_model_module": "@jupyter-widgets/controls",
            "children": [
              "IPY_MODEL_3761fdadaaaf4dcc80d85a0a971e2461",
              "IPY_MODEL_1cbb829acff24e50b2fbbbb30b0246e4"
            ]
          }
        },
        "7f20d44351c142f4ba1ffc4b4a810399": {
          "model_module": "@jupyter-widgets/base",
          "model_name": "LayoutModel",
          "state": {
            "_view_name": "LayoutView",
            "grid_template_rows": null,
            "right": null,
            "justify_content": null,
            "_view_module": "@jupyter-widgets/base",
            "overflow": null,
            "_model_module_version": "1.2.0",
            "_view_count": null,
            "flex_flow": null,
            "width": null,
            "min_width": null,
            "border": null,
            "align_items": null,
            "bottom": null,
            "_model_module": "@jupyter-widgets/base",
            "top": null,
            "grid_column": null,
            "overflow_y": null,
            "overflow_x": null,
            "grid_auto_flow": null,
            "grid_area": null,
            "grid_template_columns": null,
            "flex": null,
            "_model_name": "LayoutModel",
            "justify_items": null,
            "grid_row": null,
            "max_height": null,
            "align_content": null,
            "visibility": null,
            "align_self": null,
            "height": null,
            "min_height": null,
            "padding": null,
            "grid_auto_rows": null,
            "grid_gap": null,
            "max_width": null,
            "order": null,
            "_view_module_version": "1.2.0",
            "grid_template_areas": null,
            "object_position": null,
            "object_fit": null,
            "grid_auto_columns": null,
            "margin": null,
            "display": null,
            "left": null
          }
        },
        "3761fdadaaaf4dcc80d85a0a971e2461": {
          "model_module": "@jupyter-widgets/controls",
          "model_name": "FloatProgressModel",
          "state": {
            "_view_name": "ProgressView",
            "style": "IPY_MODEL_812a48e0b1c7485d807ba0acbf208948",
            "_dom_classes": [],
            "description": "Downloading: 100%",
            "_model_name": "FloatProgressModel",
            "bar_style": "success",
            "max": 1355256,
            "_view_module": "@jupyter-widgets/controls",
            "_model_module_version": "1.5.0",
            "value": 1355256,
            "_view_count": null,
            "_view_module_version": "1.5.0",
            "orientation": "horizontal",
            "min": 0,
            "description_tooltip": null,
            "_model_module": "@jupyter-widgets/controls",
            "layout": "IPY_MODEL_8849dce8e2ff4c6c8fe75ab301598927"
          }
        },
        "1cbb829acff24e50b2fbbbb30b0246e4": {
          "model_module": "@jupyter-widgets/controls",
          "model_name": "HTMLModel",
          "state": {
            "_view_name": "HTMLView",
            "style": "IPY_MODEL_5047b60b3cff47b59e7167c00fbff13c",
            "_dom_classes": [],
            "description": "",
            "_model_name": "HTMLModel",
            "placeholder": "​",
            "_view_module": "@jupyter-widgets/controls",
            "_model_module_version": "1.5.0",
            "value": " 1.36M/1.36M [00:07&lt;00:00, 175kB/s]",
            "_view_count": null,
            "_view_module_version": "1.5.0",
            "description_tooltip": null,
            "_model_module": "@jupyter-widgets/controls",
            "layout": "IPY_MODEL_a58d540a86eb431a8444007a954c30c7"
          }
        },
        "812a48e0b1c7485d807ba0acbf208948": {
          "model_module": "@jupyter-widgets/controls",
          "model_name": "ProgressStyleModel",
          "state": {
            "_view_name": "StyleView",
            "_model_name": "ProgressStyleModel",
            "description_width": "initial",
            "_view_module": "@jupyter-widgets/base",
            "_model_module_version": "1.5.0",
            "_view_count": null,
            "_view_module_version": "1.2.0",
            "bar_color": null,
            "_model_module": "@jupyter-widgets/controls"
          }
        },
        "8849dce8e2ff4c6c8fe75ab301598927": {
          "model_module": "@jupyter-widgets/base",
          "model_name": "LayoutModel",
          "state": {
            "_view_name": "LayoutView",
            "grid_template_rows": null,
            "right": null,
            "justify_content": null,
            "_view_module": "@jupyter-widgets/base",
            "overflow": null,
            "_model_module_version": "1.2.0",
            "_view_count": null,
            "flex_flow": null,
            "width": null,
            "min_width": null,
            "border": null,
            "align_items": null,
            "bottom": null,
            "_model_module": "@jupyter-widgets/base",
            "top": null,
            "grid_column": null,
            "overflow_y": null,
            "overflow_x": null,
            "grid_auto_flow": null,
            "grid_area": null,
            "grid_template_columns": null,
            "flex": null,
            "_model_name": "LayoutModel",
            "justify_items": null,
            "grid_row": null,
            "max_height": null,
            "align_content": null,
            "visibility": null,
            "align_self": null,
            "height": null,
            "min_height": null,
            "padding": null,
            "grid_auto_rows": null,
            "grid_gap": null,
            "max_width": null,
            "order": null,
            "_view_module_version": "1.2.0",
            "grid_template_areas": null,
            "object_position": null,
            "object_fit": null,
            "grid_auto_columns": null,
            "margin": null,
            "display": null,
            "left": null
          }
        },
        "5047b60b3cff47b59e7167c00fbff13c": {
          "model_module": "@jupyter-widgets/controls",
          "model_name": "DescriptionStyleModel",
          "state": {
            "_view_name": "StyleView",
            "_model_name": "DescriptionStyleModel",
            "description_width": "",
            "_view_module": "@jupyter-widgets/base",
            "_model_module_version": "1.5.0",
            "_view_count": null,
            "_view_module_version": "1.2.0",
            "_model_module": "@jupyter-widgets/controls"
          }
        },
        "a58d540a86eb431a8444007a954c30c7": {
          "model_module": "@jupyter-widgets/base",
          "model_name": "LayoutModel",
          "state": {
            "_view_name": "LayoutView",
            "grid_template_rows": null,
            "right": null,
            "justify_content": null,
            "_view_module": "@jupyter-widgets/base",
            "overflow": null,
            "_model_module_version": "1.2.0",
            "_view_count": null,
            "flex_flow": null,
            "width": null,
            "min_width": null,
            "border": null,
            "align_items": null,
            "bottom": null,
            "_model_module": "@jupyter-widgets/base",
            "top": null,
            "grid_column": null,
            "overflow_y": null,
            "overflow_x": null,
            "grid_auto_flow": null,
            "grid_area": null,
            "grid_template_columns": null,
            "flex": null,
            "_model_name": "LayoutModel",
            "justify_items": null,
            "grid_row": null,
            "max_height": null,
            "align_content": null,
            "visibility": null,
            "align_self": null,
            "height": null,
            "min_height": null,
            "padding": null,
            "grid_auto_rows": null,
            "grid_gap": null,
            "max_width": null,
            "order": null,
            "_view_module_version": "1.2.0",
            "grid_template_areas": null,
            "object_position": null,
            "object_fit": null,
            "grid_auto_columns": null,
            "margin": null,
            "display": null,
            "left": null
          }
        },
        "fd4a2396ee194be3bbecf9f6ca8fde7a": {
          "model_module": "@jupyter-widgets/controls",
          "model_name": "HBoxModel",
          "state": {
            "_view_name": "HBoxView",
            "_dom_classes": [],
            "_model_name": "HBoxModel",
            "_view_module": "@jupyter-widgets/controls",
            "_model_module_version": "1.5.0",
            "_view_count": null,
            "_view_module_version": "1.5.0",
            "box_style": "",
            "layout": "IPY_MODEL_5373b6bd08574d9d858c728706ab8916",
            "_model_module": "@jupyter-widgets/controls",
            "children": [
              "IPY_MODEL_d5ba377a120d4a2e985c6706a0051a84",
              "IPY_MODEL_e07ad1f2910e43269728b8dafe881397"
            ]
          }
        },
        "5373b6bd08574d9d858c728706ab8916": {
          "model_module": "@jupyter-widgets/base",
          "model_name": "LayoutModel",
          "state": {
            "_view_name": "LayoutView",
            "grid_template_rows": null,
            "right": null,
            "justify_content": null,
            "_view_module": "@jupyter-widgets/base",
            "overflow": null,
            "_model_module_version": "1.2.0",
            "_view_count": null,
            "flex_flow": null,
            "width": null,
            "min_width": null,
            "border": null,
            "align_items": null,
            "bottom": null,
            "_model_module": "@jupyter-widgets/base",
            "top": null,
            "grid_column": null,
            "overflow_y": null,
            "overflow_x": null,
            "grid_auto_flow": null,
            "grid_area": null,
            "grid_template_columns": null,
            "flex": null,
            "_model_name": "LayoutModel",
            "justify_items": null,
            "grid_row": null,
            "max_height": null,
            "align_content": null,
            "visibility": null,
            "align_self": null,
            "height": null,
            "min_height": null,
            "padding": null,
            "grid_auto_rows": null,
            "grid_gap": null,
            "max_width": null,
            "order": null,
            "_view_module_version": "1.2.0",
            "grid_template_areas": null,
            "object_position": null,
            "object_fit": null,
            "grid_auto_columns": null,
            "margin": null,
            "display": null,
            "left": null
          }
        },
        "d5ba377a120d4a2e985c6706a0051a84": {
          "model_module": "@jupyter-widgets/controls",
          "model_name": "FloatProgressModel",
          "state": {
            "_view_name": "ProgressView",
            "style": "IPY_MODEL_d992786d0c4a4fed8edb6df96ddcdf01",
            "_dom_classes": [],
            "description": "Downloading: 100%",
            "_model_name": "FloatProgressModel",
            "bar_style": "success",
            "max": 760,
            "_view_module": "@jupyter-widgets/controls",
            "_model_module_version": "1.5.0",
            "value": 760,
            "_view_count": null,
            "_view_module_version": "1.5.0",
            "orientation": "horizontal",
            "min": 0,
            "description_tooltip": null,
            "_model_module": "@jupyter-widgets/controls",
            "layout": "IPY_MODEL_aeb8f2a2cd2e43de9bb1edb232e219eb"
          }
        },
        "e07ad1f2910e43269728b8dafe881397": {
          "model_module": "@jupyter-widgets/controls",
          "model_name": "HTMLModel",
          "state": {
            "_view_name": "HTMLView",
            "style": "IPY_MODEL_e7971f183f5446c7aba50fb84f1ef0c8",
            "_dom_classes": [],
            "description": "",
            "_model_name": "HTMLModel",
            "placeholder": "​",
            "_view_module": "@jupyter-widgets/controls",
            "_model_module_version": "1.5.0",
            "value": " 760/760 [00:09&lt;00:00, 79.4B/s]",
            "_view_count": null,
            "_view_module_version": "1.5.0",
            "description_tooltip": null,
            "_model_module": "@jupyter-widgets/controls",
            "layout": "IPY_MODEL_d09a930e85fc4b508c9eeeadc59899bb"
          }
        },
        "d992786d0c4a4fed8edb6df96ddcdf01": {
          "model_module": "@jupyter-widgets/controls",
          "model_name": "ProgressStyleModel",
          "state": {
            "_view_name": "StyleView",
            "_model_name": "ProgressStyleModel",
            "description_width": "initial",
            "_view_module": "@jupyter-widgets/base",
            "_model_module_version": "1.5.0",
            "_view_count": null,
            "_view_module_version": "1.2.0",
            "bar_color": null,
            "_model_module": "@jupyter-widgets/controls"
          }
        },
        "aeb8f2a2cd2e43de9bb1edb232e219eb": {
          "model_module": "@jupyter-widgets/base",
          "model_name": "LayoutModel",
          "state": {
            "_view_name": "LayoutView",
            "grid_template_rows": null,
            "right": null,
            "justify_content": null,
            "_view_module": "@jupyter-widgets/base",
            "overflow": null,
            "_model_module_version": "1.2.0",
            "_view_count": null,
            "flex_flow": null,
            "width": null,
            "min_width": null,
            "border": null,
            "align_items": null,
            "bottom": null,
            "_model_module": "@jupyter-widgets/base",
            "top": null,
            "grid_column": null,
            "overflow_y": null,
            "overflow_x": null,
            "grid_auto_flow": null,
            "grid_area": null,
            "grid_template_columns": null,
            "flex": null,
            "_model_name": "LayoutModel",
            "justify_items": null,
            "grid_row": null,
            "max_height": null,
            "align_content": null,
            "visibility": null,
            "align_self": null,
            "height": null,
            "min_height": null,
            "padding": null,
            "grid_auto_rows": null,
            "grid_gap": null,
            "max_width": null,
            "order": null,
            "_view_module_version": "1.2.0",
            "grid_template_areas": null,
            "object_position": null,
            "object_fit": null,
            "grid_auto_columns": null,
            "margin": null,
            "display": null,
            "left": null
          }
        },
        "e7971f183f5446c7aba50fb84f1ef0c8": {
          "model_module": "@jupyter-widgets/controls",
          "model_name": "DescriptionStyleModel",
          "state": {
            "_view_name": "StyleView",
            "_model_name": "DescriptionStyleModel",
            "description_width": "",
            "_view_module": "@jupyter-widgets/base",
            "_model_module_version": "1.5.0",
            "_view_count": null,
            "_view_module_version": "1.2.0",
            "_model_module": "@jupyter-widgets/controls"
          }
        },
        "d09a930e85fc4b508c9eeeadc59899bb": {
          "model_module": "@jupyter-widgets/base",
          "model_name": "LayoutModel",
          "state": {
            "_view_name": "LayoutView",
            "grid_template_rows": null,
            "right": null,
            "justify_content": null,
            "_view_module": "@jupyter-widgets/base",
            "overflow": null,
            "_model_module_version": "1.2.0",
            "_view_count": null,
            "flex_flow": null,
            "width": null,
            "min_width": null,
            "border": null,
            "align_items": null,
            "bottom": null,
            "_model_module": "@jupyter-widgets/base",
            "top": null,
            "grid_column": null,
            "overflow_y": null,
            "overflow_x": null,
            "grid_auto_flow": null,
            "grid_area": null,
            "grid_template_columns": null,
            "flex": null,
            "_model_name": "LayoutModel",
            "justify_items": null,
            "grid_row": null,
            "max_height": null,
            "align_content": null,
            "visibility": null,
            "align_self": null,
            "height": null,
            "min_height": null,
            "padding": null,
            "grid_auto_rows": null,
            "grid_gap": null,
            "max_width": null,
            "order": null,
            "_view_module_version": "1.2.0",
            "grid_template_areas": null,
            "object_position": null,
            "object_fit": null,
            "grid_auto_columns": null,
            "margin": null,
            "display": null,
            "left": null
          }
        },
        "7d5ed852b0e94c8fb82682bcc76b0abd": {
          "model_module": "@jupyter-widgets/controls",
          "model_name": "HBoxModel",
          "state": {
            "_view_name": "HBoxView",
            "_dom_classes": [],
            "_model_name": "HBoxModel",
            "_view_module": "@jupyter-widgets/controls",
            "_model_module_version": "1.5.0",
            "_view_count": null,
            "_view_module_version": "1.5.0",
            "box_style": "",
            "layout": "IPY_MODEL_c4c820793b824f6e97c4fc48b2d35965",
            "_model_module": "@jupyter-widgets/controls",
            "children": [
              "IPY_MODEL_16acd3807b2945aaa73993628a0e8c53",
              "IPY_MODEL_5d571006a9a54194b9f5b5f03be90f60"
            ]
          }
        },
        "c4c820793b824f6e97c4fc48b2d35965": {
          "model_module": "@jupyter-widgets/base",
          "model_name": "LayoutModel",
          "state": {
            "_view_name": "LayoutView",
            "grid_template_rows": null,
            "right": null,
            "justify_content": null,
            "_view_module": "@jupyter-widgets/base",
            "overflow": null,
            "_model_module_version": "1.2.0",
            "_view_count": null,
            "flex_flow": null,
            "width": null,
            "min_width": null,
            "border": null,
            "align_items": null,
            "bottom": null,
            "_model_module": "@jupyter-widgets/base",
            "top": null,
            "grid_column": null,
            "overflow_y": null,
            "overflow_x": null,
            "grid_auto_flow": null,
            "grid_area": null,
            "grid_template_columns": null,
            "flex": null,
            "_model_name": "LayoutModel",
            "justify_items": null,
            "grid_row": null,
            "max_height": null,
            "align_content": null,
            "visibility": null,
            "align_self": null,
            "height": null,
            "min_height": null,
            "padding": null,
            "grid_auto_rows": null,
            "grid_gap": null,
            "max_width": null,
            "order": null,
            "_view_module_version": "1.2.0",
            "grid_template_areas": null,
            "object_position": null,
            "object_fit": null,
            "grid_auto_columns": null,
            "margin": null,
            "display": null,
            "left": null
          }
        },
        "16acd3807b2945aaa73993628a0e8c53": {
          "model_module": "@jupyter-widgets/controls",
          "model_name": "FloatProgressModel",
          "state": {
            "_view_name": "ProgressView",
            "style": "IPY_MODEL_708d66d351d54678bc32fbe07abe44d1",
            "_dom_classes": [],
            "description": "Downloading: 100%",
            "_model_name": "FloatProgressModel",
            "bar_style": "success",
            "max": 467042463,
            "_view_module": "@jupyter-widgets/controls",
            "_model_module_version": "1.5.0",
            "value": 467042463,
            "_view_count": null,
            "_view_module_version": "1.5.0",
            "orientation": "horizontal",
            "min": 0,
            "description_tooltip": null,
            "_model_module": "@jupyter-widgets/controls",
            "layout": "IPY_MODEL_49114918f7ed488ba5eea9d0ebf521d3"
          }
        },
        "5d571006a9a54194b9f5b5f03be90f60": {
          "model_module": "@jupyter-widgets/controls",
          "model_name": "HTMLModel",
          "state": {
            "_view_name": "HTMLView",
            "style": "IPY_MODEL_5e9f9820c4324a2fa47c236f37474601",
            "_dom_classes": [],
            "description": "",
            "_model_name": "HTMLModel",
            "placeholder": "​",
            "_view_module": "@jupyter-widgets/controls",
            "_model_module_version": "1.5.0",
            "value": " 467M/467M [00:09&lt;00:00, 50.4MB/s]",
            "_view_count": null,
            "_view_module_version": "1.5.0",
            "description_tooltip": null,
            "_model_module": "@jupyter-widgets/controls",
            "layout": "IPY_MODEL_ff0c5ed00dba4ae49f85b98bedd12143"
          }
        },
        "708d66d351d54678bc32fbe07abe44d1": {
          "model_module": "@jupyter-widgets/controls",
          "model_name": "ProgressStyleModel",
          "state": {
            "_view_name": "StyleView",
            "_model_name": "ProgressStyleModel",
            "description_width": "initial",
            "_view_module": "@jupyter-widgets/base",
            "_model_module_version": "1.5.0",
            "_view_count": null,
            "_view_module_version": "1.2.0",
            "bar_color": null,
            "_model_module": "@jupyter-widgets/controls"
          }
        },
        "49114918f7ed488ba5eea9d0ebf521d3": {
          "model_module": "@jupyter-widgets/base",
          "model_name": "LayoutModel",
          "state": {
            "_view_name": "LayoutView",
            "grid_template_rows": null,
            "right": null,
            "justify_content": null,
            "_view_module": "@jupyter-widgets/base",
            "overflow": null,
            "_model_module_version": "1.2.0",
            "_view_count": null,
            "flex_flow": null,
            "width": null,
            "min_width": null,
            "border": null,
            "align_items": null,
            "bottom": null,
            "_model_module": "@jupyter-widgets/base",
            "top": null,
            "grid_column": null,
            "overflow_y": null,
            "overflow_x": null,
            "grid_auto_flow": null,
            "grid_area": null,
            "grid_template_columns": null,
            "flex": null,
            "_model_name": "LayoutModel",
            "justify_items": null,
            "grid_row": null,
            "max_height": null,
            "align_content": null,
            "visibility": null,
            "align_self": null,
            "height": null,
            "min_height": null,
            "padding": null,
            "grid_auto_rows": null,
            "grid_gap": null,
            "max_width": null,
            "order": null,
            "_view_module_version": "1.2.0",
            "grid_template_areas": null,
            "object_position": null,
            "object_fit": null,
            "grid_auto_columns": null,
            "margin": null,
            "display": null,
            "left": null
          }
        },
        "5e9f9820c4324a2fa47c236f37474601": {
          "model_module": "@jupyter-widgets/controls",
          "model_name": "DescriptionStyleModel",
          "state": {
            "_view_name": "StyleView",
            "_model_name": "DescriptionStyleModel",
            "description_width": "",
            "_view_module": "@jupyter-widgets/base",
            "_model_module_version": "1.5.0",
            "_view_count": null,
            "_view_module_version": "1.2.0",
            "_model_module": "@jupyter-widgets/controls"
          }
        },
        "ff0c5ed00dba4ae49f85b98bedd12143": {
          "model_module": "@jupyter-widgets/base",
          "model_name": "LayoutModel",
          "state": {
            "_view_name": "LayoutView",
            "grid_template_rows": null,
            "right": null,
            "justify_content": null,
            "_view_module": "@jupyter-widgets/base",
            "overflow": null,
            "_model_module_version": "1.2.0",
            "_view_count": null,
            "flex_flow": null,
            "width": null,
            "min_width": null,
            "border": null,
            "align_items": null,
            "bottom": null,
            "_model_module": "@jupyter-widgets/base",
            "top": null,
            "grid_column": null,
            "overflow_y": null,
            "overflow_x": null,
            "grid_auto_flow": null,
            "grid_area": null,
            "grid_template_columns": null,
            "flex": null,
            "_model_name": "LayoutModel",
            "justify_items": null,
            "grid_row": null,
            "max_height": null,
            "align_content": null,
            "visibility": null,
            "align_self": null,
            "height": null,
            "min_height": null,
            "padding": null,
            "grid_auto_rows": null,
            "grid_gap": null,
            "max_width": null,
            "order": null,
            "_view_module_version": "1.2.0",
            "grid_template_areas": null,
            "object_position": null,
            "object_fit": null,
            "grid_auto_columns": null,
            "margin": null,
            "display": null,
            "left": null
          }
        },
        "33100287556c47da84a0ddeadc612c70": {
          "model_module": "@jupyter-widgets/controls",
          "model_name": "HBoxModel",
          "state": {
            "_view_name": "HBoxView",
            "_dom_classes": [],
            "_model_name": "HBoxModel",
            "_view_module": "@jupyter-widgets/controls",
            "_model_module_version": "1.5.0",
            "_view_count": null,
            "_view_module_version": "1.5.0",
            "box_style": "",
            "layout": "IPY_MODEL_9b7d9e6ddb574a9cbfa5c56ac652c399",
            "_model_module": "@jupyter-widgets/controls",
            "children": [
              "IPY_MODEL_321635cf46b9472580393bf6d92f3466",
              "IPY_MODEL_44697d2e86884ac1a042ed6b144b2c38"
            ]
          }
        },
        "9b7d9e6ddb574a9cbfa5c56ac652c399": {
          "model_module": "@jupyter-widgets/base",
          "model_name": "LayoutModel",
          "state": {
            "_view_name": "LayoutView",
            "grid_template_rows": null,
            "right": null,
            "justify_content": null,
            "_view_module": "@jupyter-widgets/base",
            "overflow": null,
            "_model_module_version": "1.2.0",
            "_view_count": null,
            "flex_flow": null,
            "width": null,
            "min_width": null,
            "border": null,
            "align_items": null,
            "bottom": null,
            "_model_module": "@jupyter-widgets/base",
            "top": null,
            "grid_column": null,
            "overflow_y": null,
            "overflow_x": null,
            "grid_auto_flow": null,
            "grid_area": null,
            "grid_template_columns": null,
            "flex": null,
            "_model_name": "LayoutModel",
            "justify_items": null,
            "grid_row": null,
            "max_height": null,
            "align_content": null,
            "visibility": null,
            "align_self": null,
            "height": null,
            "min_height": null,
            "padding": null,
            "grid_auto_rows": null,
            "grid_gap": null,
            "max_width": null,
            "order": null,
            "_view_module_version": "1.2.0",
            "grid_template_areas": null,
            "object_position": null,
            "object_fit": null,
            "grid_auto_columns": null,
            "margin": null,
            "display": null,
            "left": null
          }
        },
        "321635cf46b9472580393bf6d92f3466": {
          "model_module": "@jupyter-widgets/controls",
          "model_name": "FloatProgressModel",
          "state": {
            "_view_name": "ProgressView",
            "style": "IPY_MODEL_ff554915f2484cfc8484f5927f90cd34",
            "_dom_classes": [],
            "description": "Downloading: 100%",
            "_model_name": "FloatProgressModel",
            "bar_style": "success",
            "max": 798011,
            "_view_module": "@jupyter-widgets/controls",
            "_model_module_version": "1.5.0",
            "value": 798011,
            "_view_count": null,
            "_view_module_version": "1.5.0",
            "orientation": "horizontal",
            "min": 0,
            "description_tooltip": null,
            "_model_module": "@jupyter-widgets/controls",
            "layout": "IPY_MODEL_fed75cf4f04b474aac922ababf4e2cbe"
          }
        },
        "44697d2e86884ac1a042ed6b144b2c38": {
          "model_module": "@jupyter-widgets/controls",
          "model_name": "HTMLModel",
          "state": {
            "_view_name": "HTMLView",
            "style": "IPY_MODEL_5f86e1087dab458e83d1da8778f9315e",
            "_dom_classes": [],
            "description": "",
            "_model_name": "HTMLModel",
            "placeholder": "​",
            "_view_module": "@jupyter-widgets/controls",
            "_model_module_version": "1.5.0",
            "value": " 798k/798k [00:00&lt;00:00, 864kB/s]",
            "_view_count": null,
            "_view_module_version": "1.5.0",
            "description_tooltip": null,
            "_model_module": "@jupyter-widgets/controls",
            "layout": "IPY_MODEL_12fa410a12e64fb281ee6824ea0924a4"
          }
        },
        "ff554915f2484cfc8484f5927f90cd34": {
          "model_module": "@jupyter-widgets/controls",
          "model_name": "ProgressStyleModel",
          "state": {
            "_view_name": "StyleView",
            "_model_name": "ProgressStyleModel",
            "description_width": "initial",
            "_view_module": "@jupyter-widgets/base",
            "_model_module_version": "1.5.0",
            "_view_count": null,
            "_view_module_version": "1.2.0",
            "bar_color": null,
            "_model_module": "@jupyter-widgets/controls"
          }
        },
        "fed75cf4f04b474aac922ababf4e2cbe": {
          "model_module": "@jupyter-widgets/base",
          "model_name": "LayoutModel",
          "state": {
            "_view_name": "LayoutView",
            "grid_template_rows": null,
            "right": null,
            "justify_content": null,
            "_view_module": "@jupyter-widgets/base",
            "overflow": null,
            "_model_module_version": "1.2.0",
            "_view_count": null,
            "flex_flow": null,
            "width": null,
            "min_width": null,
            "border": null,
            "align_items": null,
            "bottom": null,
            "_model_module": "@jupyter-widgets/base",
            "top": null,
            "grid_column": null,
            "overflow_y": null,
            "overflow_x": null,
            "grid_auto_flow": null,
            "grid_area": null,
            "grid_template_columns": null,
            "flex": null,
            "_model_name": "LayoutModel",
            "justify_items": null,
            "grid_row": null,
            "max_height": null,
            "align_content": null,
            "visibility": null,
            "align_self": null,
            "height": null,
            "min_height": null,
            "padding": null,
            "grid_auto_rows": null,
            "grid_gap": null,
            "max_width": null,
            "order": null,
            "_view_module_version": "1.2.0",
            "grid_template_areas": null,
            "object_position": null,
            "object_fit": null,
            "grid_auto_columns": null,
            "margin": null,
            "display": null,
            "left": null
          }
        },
        "5f86e1087dab458e83d1da8778f9315e": {
          "model_module": "@jupyter-widgets/controls",
          "model_name": "DescriptionStyleModel",
          "state": {
            "_view_name": "StyleView",
            "_model_name": "DescriptionStyleModel",
            "description_width": "",
            "_view_module": "@jupyter-widgets/base",
            "_model_module_version": "1.5.0",
            "_view_count": null,
            "_view_module_version": "1.2.0",
            "_model_module": "@jupyter-widgets/controls"
          }
        },
        "12fa410a12e64fb281ee6824ea0924a4": {
          "model_module": "@jupyter-widgets/base",
          "model_name": "LayoutModel",
          "state": {
            "_view_name": "LayoutView",
            "grid_template_rows": null,
            "right": null,
            "justify_content": null,
            "_view_module": "@jupyter-widgets/base",
            "overflow": null,
            "_model_module_version": "1.2.0",
            "_view_count": null,
            "flex_flow": null,
            "width": null,
            "min_width": null,
            "border": null,
            "align_items": null,
            "bottom": null,
            "_model_module": "@jupyter-widgets/base",
            "top": null,
            "grid_column": null,
            "overflow_y": null,
            "overflow_x": null,
            "grid_auto_flow": null,
            "grid_area": null,
            "grid_template_columns": null,
            "flex": null,
            "_model_name": "LayoutModel",
            "justify_items": null,
            "grid_row": null,
            "max_height": null,
            "align_content": null,
            "visibility": null,
            "align_self": null,
            "height": null,
            "min_height": null,
            "padding": null,
            "grid_auto_rows": null,
            "grid_gap": null,
            "max_width": null,
            "order": null,
            "_view_module_version": "1.2.0",
            "grid_template_areas": null,
            "object_position": null,
            "object_fit": null,
            "grid_auto_columns": null,
            "margin": null,
            "display": null,
            "left": null
          }
        },
        "e773db47244545f893c71145a3f900b6": {
          "model_module": "@jupyter-widgets/controls",
          "model_name": "HBoxModel",
          "state": {
            "_view_name": "HBoxView",
            "_dom_classes": [],
            "_model_name": "HBoxModel",
            "_view_module": "@jupyter-widgets/controls",
            "_model_module_version": "1.5.0",
            "_view_count": null,
            "_view_module_version": "1.5.0",
            "box_style": "",
            "layout": "IPY_MODEL_4d7a3833594d46b9b306ee21a75951ca",
            "_model_module": "@jupyter-widgets/controls",
            "children": [
              "IPY_MODEL_4746f07c35954ee5b5ccfad5a0913c47",
              "IPY_MODEL_f9646643ef4e456f983b256872ec2e56"
            ]
          }
        },
        "4d7a3833594d46b9b306ee21a75951ca": {
          "model_module": "@jupyter-widgets/base",
          "model_name": "LayoutModel",
          "state": {
            "_view_name": "LayoutView",
            "grid_template_rows": null,
            "right": null,
            "justify_content": null,
            "_view_module": "@jupyter-widgets/base",
            "overflow": null,
            "_model_module_version": "1.2.0",
            "_view_count": null,
            "flex_flow": null,
            "width": null,
            "min_width": null,
            "border": null,
            "align_items": null,
            "bottom": null,
            "_model_module": "@jupyter-widgets/base",
            "top": null,
            "grid_column": null,
            "overflow_y": null,
            "overflow_x": null,
            "grid_auto_flow": null,
            "grid_area": null,
            "grid_template_columns": null,
            "flex": null,
            "_model_name": "LayoutModel",
            "justify_items": null,
            "grid_row": null,
            "max_height": null,
            "align_content": null,
            "visibility": null,
            "align_self": null,
            "height": null,
            "min_height": null,
            "padding": null,
            "grid_auto_rows": null,
            "grid_gap": null,
            "max_width": null,
            "order": null,
            "_view_module_version": "1.2.0",
            "grid_template_areas": null,
            "object_position": null,
            "object_fit": null,
            "grid_auto_columns": null,
            "margin": null,
            "display": null,
            "left": null
          }
        },
        "4746f07c35954ee5b5ccfad5a0913c47": {
          "model_module": "@jupyter-widgets/controls",
          "model_name": "FloatProgressModel",
          "state": {
            "_view_name": "ProgressView",
            "style": "IPY_MODEL_c272db4c20ff457eadc50e2b53d8a0cb",
            "_dom_classes": [],
            "description": "Downloading: 100%",
            "_model_name": "FloatProgressModel",
            "bar_style": "success",
            "max": 1382015,
            "_view_module": "@jupyter-widgets/controls",
            "_model_module_version": "1.5.0",
            "value": 1382015,
            "_view_count": null,
            "_view_module_version": "1.5.0",
            "orientation": "horizontal",
            "min": 0,
            "description_tooltip": null,
            "_model_module": "@jupyter-widgets/controls",
            "layout": "IPY_MODEL_7a79145cbbee4a1d82e9358d42e37605"
          }
        },
        "f9646643ef4e456f983b256872ec2e56": {
          "model_module": "@jupyter-widgets/controls",
          "model_name": "HTMLModel",
          "state": {
            "_view_name": "HTMLView",
            "style": "IPY_MODEL_795036c61d1a47f1a2940a036b9be28d",
            "_dom_classes": [],
            "description": "",
            "_model_name": "HTMLModel",
            "placeholder": "​",
            "_view_module": "@jupyter-widgets/controls",
            "_model_module_version": "1.5.0",
            "value": " 1.38M/1.38M [00:35&lt;00:00, 39.4kB/s]",
            "_view_count": null,
            "_view_module_version": "1.5.0",
            "description_tooltip": null,
            "_model_module": "@jupyter-widgets/controls",
            "layout": "IPY_MODEL_148fad73b50b4719bd59bdbb3b52b7cd"
          }
        },
        "c272db4c20ff457eadc50e2b53d8a0cb": {
          "model_module": "@jupyter-widgets/controls",
          "model_name": "ProgressStyleModel",
          "state": {
            "_view_name": "StyleView",
            "_model_name": "ProgressStyleModel",
            "description_width": "initial",
            "_view_module": "@jupyter-widgets/base",
            "_model_module_version": "1.5.0",
            "_view_count": null,
            "_view_module_version": "1.2.0",
            "bar_color": null,
            "_model_module": "@jupyter-widgets/controls"
          }
        },
        "7a79145cbbee4a1d82e9358d42e37605": {
          "model_module": "@jupyter-widgets/base",
          "model_name": "LayoutModel",
          "state": {
            "_view_name": "LayoutView",
            "grid_template_rows": null,
            "right": null,
            "justify_content": null,
            "_view_module": "@jupyter-widgets/base",
            "overflow": null,
            "_model_module_version": "1.2.0",
            "_view_count": null,
            "flex_flow": null,
            "width": null,
            "min_width": null,
            "border": null,
            "align_items": null,
            "bottom": null,
            "_model_module": "@jupyter-widgets/base",
            "top": null,
            "grid_column": null,
            "overflow_y": null,
            "overflow_x": null,
            "grid_auto_flow": null,
            "grid_area": null,
            "grid_template_columns": null,
            "flex": null,
            "_model_name": "LayoutModel",
            "justify_items": null,
            "grid_row": null,
            "max_height": null,
            "align_content": null,
            "visibility": null,
            "align_self": null,
            "height": null,
            "min_height": null,
            "padding": null,
            "grid_auto_rows": null,
            "grid_gap": null,
            "max_width": null,
            "order": null,
            "_view_module_version": "1.2.0",
            "grid_template_areas": null,
            "object_position": null,
            "object_fit": null,
            "grid_auto_columns": null,
            "margin": null,
            "display": null,
            "left": null
          }
        },
        "795036c61d1a47f1a2940a036b9be28d": {
          "model_module": "@jupyter-widgets/controls",
          "model_name": "DescriptionStyleModel",
          "state": {
            "_view_name": "StyleView",
            "_model_name": "DescriptionStyleModel",
            "description_width": "",
            "_view_module": "@jupyter-widgets/base",
            "_model_module_version": "1.5.0",
            "_view_count": null,
            "_view_module_version": "1.2.0",
            "_model_module": "@jupyter-widgets/controls"
          }
        },
        "148fad73b50b4719bd59bdbb3b52b7cd": {
          "model_module": "@jupyter-widgets/base",
          "model_name": "LayoutModel",
          "state": {
            "_view_name": "LayoutView",
            "grid_template_rows": null,
            "right": null,
            "justify_content": null,
            "_view_module": "@jupyter-widgets/base",
            "overflow": null,
            "_model_module_version": "1.2.0",
            "_view_count": null,
            "flex_flow": null,
            "width": null,
            "min_width": null,
            "border": null,
            "align_items": null,
            "bottom": null,
            "_model_module": "@jupyter-widgets/base",
            "top": null,
            "grid_column": null,
            "overflow_y": null,
            "overflow_x": null,
            "grid_auto_flow": null,
            "grid_area": null,
            "grid_template_columns": null,
            "flex": null,
            "_model_name": "LayoutModel",
            "justify_items": null,
            "grid_row": null,
            "max_height": null,
            "align_content": null,
            "visibility": null,
            "align_self": null,
            "height": null,
            "min_height": null,
            "padding": null,
            "grid_auto_rows": null,
            "grid_gap": null,
            "max_width": null,
            "order": null,
            "_view_module_version": "1.2.0",
            "grid_template_areas": null,
            "object_position": null,
            "object_fit": null,
            "grid_auto_columns": null,
            "margin": null,
            "display": null,
            "left": null
          }
        },
        "96c9c5579a3e493388fbb3fc11a33e54": {
          "model_module": "@jupyter-widgets/controls",
          "model_name": "HBoxModel",
          "state": {
            "_view_name": "HBoxView",
            "_dom_classes": [],
            "_model_name": "HBoxModel",
            "_view_module": "@jupyter-widgets/controls",
            "_model_module_version": "1.5.0",
            "_view_count": null,
            "_view_module_version": "1.5.0",
            "box_style": "",
            "layout": "IPY_MODEL_9867901390d74093931bee5892bb908e",
            "_model_module": "@jupyter-widgets/controls",
            "children": [
              "IPY_MODEL_bdb6e37e46f4400a8cc1fbec49e14c25",
              "IPY_MODEL_c33956c48d6340eaa56faf471e44dd93"
            ]
          }
        },
        "9867901390d74093931bee5892bb908e": {
          "model_module": "@jupyter-widgets/base",
          "model_name": "LayoutModel",
          "state": {
            "_view_name": "LayoutView",
            "grid_template_rows": null,
            "right": null,
            "justify_content": null,
            "_view_module": "@jupyter-widgets/base",
            "overflow": null,
            "_model_module_version": "1.2.0",
            "_view_count": null,
            "flex_flow": null,
            "width": null,
            "min_width": null,
            "border": null,
            "align_items": null,
            "bottom": null,
            "_model_module": "@jupyter-widgets/base",
            "top": null,
            "grid_column": null,
            "overflow_y": null,
            "overflow_x": null,
            "grid_auto_flow": null,
            "grid_area": null,
            "grid_template_columns": null,
            "flex": null,
            "_model_name": "LayoutModel",
            "justify_items": null,
            "grid_row": null,
            "max_height": null,
            "align_content": null,
            "visibility": null,
            "align_self": null,
            "height": null,
            "min_height": null,
            "padding": null,
            "grid_auto_rows": null,
            "grid_gap": null,
            "max_width": null,
            "order": null,
            "_view_module_version": "1.2.0",
            "grid_template_areas": null,
            "object_position": null,
            "object_fit": null,
            "grid_auto_columns": null,
            "margin": null,
            "display": null,
            "left": null
          }
        },
        "bdb6e37e46f4400a8cc1fbec49e14c25": {
          "model_module": "@jupyter-widgets/controls",
          "model_name": "FloatProgressModel",
          "state": {
            "_view_name": "ProgressView",
            "style": "IPY_MODEL_9e2ed9f869ff415696b1235c3be5ea37",
            "_dom_classes": [],
            "description": "Downloading: 100%",
            "_model_name": "FloatProgressModel",
            "bar_style": "success",
            "max": 8140,
            "_view_module": "@jupyter-widgets/controls",
            "_model_module_version": "1.5.0",
            "value": 8140,
            "_view_count": null,
            "_view_module_version": "1.5.0",
            "orientation": "horizontal",
            "min": 0,
            "description_tooltip": null,
            "_model_module": "@jupyter-widgets/controls",
            "layout": "IPY_MODEL_c3346846544c42c0a8c81d4eb95694c1"
          }
        },
        "c33956c48d6340eaa56faf471e44dd93": {
          "model_module": "@jupyter-widgets/controls",
          "model_name": "HTMLModel",
          "state": {
            "_view_name": "HTMLView",
            "style": "IPY_MODEL_d2b3bf8b6b2240289958260485607b9b",
            "_dom_classes": [],
            "description": "",
            "_model_name": "HTMLModel",
            "placeholder": "​",
            "_view_module": "@jupyter-widgets/controls",
            "_model_module_version": "1.5.0",
            "value": " 8.14k/8.14k [00:00&lt;00:00, 9.33kB/s]",
            "_view_count": null,
            "_view_module_version": "1.5.0",
            "description_tooltip": null,
            "_model_module": "@jupyter-widgets/controls",
            "layout": "IPY_MODEL_ec251f17828847ef9b3ff86695db0936"
          }
        },
        "9e2ed9f869ff415696b1235c3be5ea37": {
          "model_module": "@jupyter-widgets/controls",
          "model_name": "ProgressStyleModel",
          "state": {
            "_view_name": "StyleView",
            "_model_name": "ProgressStyleModel",
            "description_width": "initial",
            "_view_module": "@jupyter-widgets/base",
            "_model_module_version": "1.5.0",
            "_view_count": null,
            "_view_module_version": "1.2.0",
            "bar_color": null,
            "_model_module": "@jupyter-widgets/controls"
          }
        },
        "c3346846544c42c0a8c81d4eb95694c1": {
          "model_module": "@jupyter-widgets/base",
          "model_name": "LayoutModel",
          "state": {
            "_view_name": "LayoutView",
            "grid_template_rows": null,
            "right": null,
            "justify_content": null,
            "_view_module": "@jupyter-widgets/base",
            "overflow": null,
            "_model_module_version": "1.2.0",
            "_view_count": null,
            "flex_flow": null,
            "width": null,
            "min_width": null,
            "border": null,
            "align_items": null,
            "bottom": null,
            "_model_module": "@jupyter-widgets/base",
            "top": null,
            "grid_column": null,
            "overflow_y": null,
            "overflow_x": null,
            "grid_auto_flow": null,
            "grid_area": null,
            "grid_template_columns": null,
            "flex": null,
            "_model_name": "LayoutModel",
            "justify_items": null,
            "grid_row": null,
            "max_height": null,
            "align_content": null,
            "visibility": null,
            "align_self": null,
            "height": null,
            "min_height": null,
            "padding": null,
            "grid_auto_rows": null,
            "grid_gap": null,
            "max_width": null,
            "order": null,
            "_view_module_version": "1.2.0",
            "grid_template_areas": null,
            "object_position": null,
            "object_fit": null,
            "grid_auto_columns": null,
            "margin": null,
            "display": null,
            "left": null
          }
        },
        "d2b3bf8b6b2240289958260485607b9b": {
          "model_module": "@jupyter-widgets/controls",
          "model_name": "DescriptionStyleModel",
          "state": {
            "_view_name": "StyleView",
            "_model_name": "DescriptionStyleModel",
            "description_width": "",
            "_view_module": "@jupyter-widgets/base",
            "_model_module_version": "1.5.0",
            "_view_count": null,
            "_view_module_version": "1.2.0",
            "_model_module": "@jupyter-widgets/controls"
          }
        },
        "ec251f17828847ef9b3ff86695db0936": {
          "model_module": "@jupyter-widgets/base",
          "model_name": "LayoutModel",
          "state": {
            "_view_name": "LayoutView",
            "grid_template_rows": null,
            "right": null,
            "justify_content": null,
            "_view_module": "@jupyter-widgets/base",
            "overflow": null,
            "_model_module_version": "1.2.0",
            "_view_count": null,
            "flex_flow": null,
            "width": null,
            "min_width": null,
            "border": null,
            "align_items": null,
            "bottom": null,
            "_model_module": "@jupyter-widgets/base",
            "top": null,
            "grid_column": null,
            "overflow_y": null,
            "overflow_x": null,
            "grid_auto_flow": null,
            "grid_area": null,
            "grid_template_columns": null,
            "flex": null,
            "_model_name": "LayoutModel",
            "justify_items": null,
            "grid_row": null,
            "max_height": null,
            "align_content": null,
            "visibility": null,
            "align_self": null,
            "height": null,
            "min_height": null,
            "padding": null,
            "grid_auto_rows": null,
            "grid_gap": null,
            "max_width": null,
            "order": null,
            "_view_module_version": "1.2.0",
            "grid_template_areas": null,
            "object_position": null,
            "object_fit": null,
            "grid_auto_columns": null,
            "margin": null,
            "display": null,
            "left": null
          }
        },
        "c612e04d60b04395b49c566c2b96c00c": {
          "model_module": "@jupyter-widgets/controls",
          "model_name": "HBoxModel",
          "state": {
            "_view_name": "HBoxView",
            "_dom_classes": [],
            "_model_name": "HBoxModel",
            "_view_module": "@jupyter-widgets/controls",
            "_model_module_version": "1.5.0",
            "_view_count": null,
            "_view_module_version": "1.5.0",
            "box_style": "",
            "layout": "IPY_MODEL_48418d976d4242ebb5809b0142fb1d02",
            "_model_module": "@jupyter-widgets/controls",
            "children": [
              "IPY_MODEL_6b97f426fd8746da84542e037afd14ba",
              "IPY_MODEL_7d660e4112024ca981d9c704e99703a4"
            ]
          }
        },
        "48418d976d4242ebb5809b0142fb1d02": {
          "model_module": "@jupyter-widgets/base",
          "model_name": "LayoutModel",
          "state": {
            "_view_name": "LayoutView",
            "grid_template_rows": null,
            "right": null,
            "justify_content": null,
            "_view_module": "@jupyter-widgets/base",
            "overflow": null,
            "_model_module_version": "1.2.0",
            "_view_count": null,
            "flex_flow": null,
            "width": null,
            "min_width": null,
            "border": null,
            "align_items": null,
            "bottom": null,
            "_model_module": "@jupyter-widgets/base",
            "top": null,
            "grid_column": null,
            "overflow_y": null,
            "overflow_x": null,
            "grid_auto_flow": null,
            "grid_area": null,
            "grid_template_columns": null,
            "flex": null,
            "_model_name": "LayoutModel",
            "justify_items": null,
            "grid_row": null,
            "max_height": null,
            "align_content": null,
            "visibility": null,
            "align_self": null,
            "height": null,
            "min_height": null,
            "padding": null,
            "grid_auto_rows": null,
            "grid_gap": null,
            "max_width": null,
            "order": null,
            "_view_module_version": "1.2.0",
            "grid_template_areas": null,
            "object_position": null,
            "object_fit": null,
            "grid_auto_columns": null,
            "margin": null,
            "display": null,
            "left": null
          }
        },
        "6b97f426fd8746da84542e037afd14ba": {
          "model_module": "@jupyter-widgets/controls",
          "model_name": "FloatProgressModel",
          "state": {
            "_view_name": "ProgressView",
            "style": "IPY_MODEL_d3992f9b2fc7418e9217bca4f7790ef3",
            "_dom_classes": [],
            "description": "Downloading: 100%",
            "_model_name": "FloatProgressModel",
            "bar_style": "success",
            "max": 5806,
            "_view_module": "@jupyter-widgets/controls",
            "_model_module_version": "1.5.0",
            "value": 5806,
            "_view_count": null,
            "_view_module_version": "1.5.0",
            "orientation": "horizontal",
            "min": 0,
            "description_tooltip": null,
            "_model_module": "@jupyter-widgets/controls",
            "layout": "IPY_MODEL_b6747505ff04479182640290f8e171b8"
          }
        },
        "7d660e4112024ca981d9c704e99703a4": {
          "model_module": "@jupyter-widgets/controls",
          "model_name": "HTMLModel",
          "state": {
            "_view_name": "HTMLView",
            "style": "IPY_MODEL_95903189d1a24172be51d8428c9e5358",
            "_dom_classes": [],
            "description": "",
            "_model_name": "HTMLModel",
            "placeholder": "​",
            "_view_module": "@jupyter-widgets/controls",
            "_model_module_version": "1.5.0",
            "value": " 5.81k/5.81k [00:00&lt;00:00, 24.1kB/s]",
            "_view_count": null,
            "_view_module_version": "1.5.0",
            "description_tooltip": null,
            "_model_module": "@jupyter-widgets/controls",
            "layout": "IPY_MODEL_71e887147acb483f9d53fc671d609da9"
          }
        },
        "d3992f9b2fc7418e9217bca4f7790ef3": {
          "model_module": "@jupyter-widgets/controls",
          "model_name": "ProgressStyleModel",
          "state": {
            "_view_name": "StyleView",
            "_model_name": "ProgressStyleModel",
            "description_width": "initial",
            "_view_module": "@jupyter-widgets/base",
            "_model_module_version": "1.5.0",
            "_view_count": null,
            "_view_module_version": "1.2.0",
            "bar_color": null,
            "_model_module": "@jupyter-widgets/controls"
          }
        },
        "b6747505ff04479182640290f8e171b8": {
          "model_module": "@jupyter-widgets/base",
          "model_name": "LayoutModel",
          "state": {
            "_view_name": "LayoutView",
            "grid_template_rows": null,
            "right": null,
            "justify_content": null,
            "_view_module": "@jupyter-widgets/base",
            "overflow": null,
            "_model_module_version": "1.2.0",
            "_view_count": null,
            "flex_flow": null,
            "width": null,
            "min_width": null,
            "border": null,
            "align_items": null,
            "bottom": null,
            "_model_module": "@jupyter-widgets/base",
            "top": null,
            "grid_column": null,
            "overflow_y": null,
            "overflow_x": null,
            "grid_auto_flow": null,
            "grid_area": null,
            "grid_template_columns": null,
            "flex": null,
            "_model_name": "LayoutModel",
            "justify_items": null,
            "grid_row": null,
            "max_height": null,
            "align_content": null,
            "visibility": null,
            "align_self": null,
            "height": null,
            "min_height": null,
            "padding": null,
            "grid_auto_rows": null,
            "grid_gap": null,
            "max_width": null,
            "order": null,
            "_view_module_version": "1.2.0",
            "grid_template_areas": null,
            "object_position": null,
            "object_fit": null,
            "grid_auto_columns": null,
            "margin": null,
            "display": null,
            "left": null
          }
        },
        "95903189d1a24172be51d8428c9e5358": {
          "model_module": "@jupyter-widgets/controls",
          "model_name": "DescriptionStyleModel",
          "state": {
            "_view_name": "StyleView",
            "_model_name": "DescriptionStyleModel",
            "description_width": "",
            "_view_module": "@jupyter-widgets/base",
            "_model_module_version": "1.5.0",
            "_view_count": null,
            "_view_module_version": "1.2.0",
            "_model_module": "@jupyter-widgets/controls"
          }
        },
        "71e887147acb483f9d53fc671d609da9": {
          "model_module": "@jupyter-widgets/base",
          "model_name": "LayoutModel",
          "state": {
            "_view_name": "LayoutView",
            "grid_template_rows": null,
            "right": null,
            "justify_content": null,
            "_view_module": "@jupyter-widgets/base",
            "overflow": null,
            "_model_module_version": "1.2.0",
            "_view_count": null,
            "flex_flow": null,
            "width": null,
            "min_width": null,
            "border": null,
            "align_items": null,
            "bottom": null,
            "_model_module": "@jupyter-widgets/base",
            "top": null,
            "grid_column": null,
            "overflow_y": null,
            "overflow_x": null,
            "grid_auto_flow": null,
            "grid_area": null,
            "grid_template_columns": null,
            "flex": null,
            "_model_name": "LayoutModel",
            "justify_items": null,
            "grid_row": null,
            "max_height": null,
            "align_content": null,
            "visibility": null,
            "align_self": null,
            "height": null,
            "min_height": null,
            "padding": null,
            "grid_auto_rows": null,
            "grid_gap": null,
            "max_width": null,
            "order": null,
            "_view_module_version": "1.2.0",
            "grid_template_areas": null,
            "object_position": null,
            "object_fit": null,
            "grid_auto_columns": null,
            "margin": null,
            "display": null,
            "left": null
          }
        },
        "0d30ffd9e25c4a039ea92865c99d4c9a": {
          "model_module": "@jupyter-widgets/controls",
          "model_name": "HBoxModel",
          "state": {
            "_view_name": "HBoxView",
            "_dom_classes": [],
            "_model_name": "HBoxModel",
            "_view_module": "@jupyter-widgets/controls",
            "_model_module_version": "1.5.0",
            "_view_count": null,
            "_view_module_version": "1.5.0",
            "box_style": "",
            "layout": "IPY_MODEL_cd2bfb76867d488aa7ad657adae7e88e",
            "_model_module": "@jupyter-widgets/controls",
            "children": [
              "IPY_MODEL_803222493ac8424c8b114520bd52670d",
              "IPY_MODEL_43bfbefb64924a65a3b3216f4c554f09"
            ]
          }
        },
        "cd2bfb76867d488aa7ad657adae7e88e": {
          "model_module": "@jupyter-widgets/base",
          "model_name": "LayoutModel",
          "state": {
            "_view_name": "LayoutView",
            "grid_template_rows": null,
            "right": null,
            "justify_content": null,
            "_view_module": "@jupyter-widgets/base",
            "overflow": null,
            "_model_module_version": "1.2.0",
            "_view_count": null,
            "flex_flow": null,
            "width": null,
            "min_width": null,
            "border": null,
            "align_items": null,
            "bottom": null,
            "_model_module": "@jupyter-widgets/base",
            "top": null,
            "grid_column": null,
            "overflow_y": null,
            "overflow_x": null,
            "grid_auto_flow": null,
            "grid_area": null,
            "grid_template_columns": null,
            "flex": null,
            "_model_name": "LayoutModel",
            "justify_items": null,
            "grid_row": null,
            "max_height": null,
            "align_content": null,
            "visibility": null,
            "align_self": null,
            "height": null,
            "min_height": null,
            "padding": null,
            "grid_auto_rows": null,
            "grid_gap": null,
            "max_width": null,
            "order": null,
            "_view_module_version": "1.2.0",
            "grid_template_areas": null,
            "object_position": null,
            "object_fit": null,
            "grid_auto_columns": null,
            "margin": null,
            "display": null,
            "left": null
          }
        },
        "803222493ac8424c8b114520bd52670d": {
          "model_module": "@jupyter-widgets/controls",
          "model_name": "FloatProgressModel",
          "state": {
            "_view_name": "ProgressView",
            "style": "IPY_MODEL_ceb84f1d7fe94d3d8de6250b5a921288",
            "_dom_classes": [],
            "description": "Downloading: 100%",
            "_model_name": "FloatProgressModel",
            "bar_style": "success",
            "max": 4721645,
            "_view_module": "@jupyter-widgets/controls",
            "_model_module_version": "1.5.0",
            "value": 4721645,
            "_view_count": null,
            "_view_module_version": "1.5.0",
            "orientation": "horizontal",
            "min": 0,
            "description_tooltip": null,
            "_model_module": "@jupyter-widgets/controls",
            "layout": "IPY_MODEL_58eb70880dc0449481e7feafbb2dfe8f"
          }
        },
        "43bfbefb64924a65a3b3216f4c554f09": {
          "model_module": "@jupyter-widgets/controls",
          "model_name": "HTMLModel",
          "state": {
            "_view_name": "HTMLView",
            "style": "IPY_MODEL_b6360a61b9db43abafef1cf461550d95",
            "_dom_classes": [],
            "description": "",
            "_model_name": "HTMLModel",
            "placeholder": "​",
            "_view_module": "@jupyter-widgets/controls",
            "_model_module_version": "1.5.0",
            "value": " 4.72M/4.72M [00:00&lt;00:00, 6.61MB/s]",
            "_view_count": null,
            "_view_module_version": "1.5.0",
            "description_tooltip": null,
            "_model_module": "@jupyter-widgets/controls",
            "layout": "IPY_MODEL_5943a7bced5c4b83be6bc9f551bbff84"
          }
        },
        "ceb84f1d7fe94d3d8de6250b5a921288": {
          "model_module": "@jupyter-widgets/controls",
          "model_name": "ProgressStyleModel",
          "state": {
            "_view_name": "StyleView",
            "_model_name": "ProgressStyleModel",
            "description_width": "initial",
            "_view_module": "@jupyter-widgets/base",
            "_model_module_version": "1.5.0",
            "_view_count": null,
            "_view_module_version": "1.2.0",
            "bar_color": null,
            "_model_module": "@jupyter-widgets/controls"
          }
        },
        "58eb70880dc0449481e7feafbb2dfe8f": {
          "model_module": "@jupyter-widgets/base",
          "model_name": "LayoutModel",
          "state": {
            "_view_name": "LayoutView",
            "grid_template_rows": null,
            "right": null,
            "justify_content": null,
            "_view_module": "@jupyter-widgets/base",
            "overflow": null,
            "_model_module_version": "1.2.0",
            "_view_count": null,
            "flex_flow": null,
            "width": null,
            "min_width": null,
            "border": null,
            "align_items": null,
            "bottom": null,
            "_model_module": "@jupyter-widgets/base",
            "top": null,
            "grid_column": null,
            "overflow_y": null,
            "overflow_x": null,
            "grid_auto_flow": null,
            "grid_area": null,
            "grid_template_columns": null,
            "flex": null,
            "_model_name": "LayoutModel",
            "justify_items": null,
            "grid_row": null,
            "max_height": null,
            "align_content": null,
            "visibility": null,
            "align_self": null,
            "height": null,
            "min_height": null,
            "padding": null,
            "grid_auto_rows": null,
            "grid_gap": null,
            "max_width": null,
            "order": null,
            "_view_module_version": "1.2.0",
            "grid_template_areas": null,
            "object_position": null,
            "object_fit": null,
            "grid_auto_columns": null,
            "margin": null,
            "display": null,
            "left": null
          }
        },
        "b6360a61b9db43abafef1cf461550d95": {
          "model_module": "@jupyter-widgets/controls",
          "model_name": "DescriptionStyleModel",
          "state": {
            "_view_name": "StyleView",
            "_model_name": "DescriptionStyleModel",
            "description_width": "",
            "_view_module": "@jupyter-widgets/base",
            "_model_module_version": "1.5.0",
            "_view_count": null,
            "_view_module_version": "1.2.0",
            "_model_module": "@jupyter-widgets/controls"
          }
        },
        "5943a7bced5c4b83be6bc9f551bbff84": {
          "model_module": "@jupyter-widgets/base",
          "model_name": "LayoutModel",
          "state": {
            "_view_name": "LayoutView",
            "grid_template_rows": null,
            "right": null,
            "justify_content": null,
            "_view_module": "@jupyter-widgets/base",
            "overflow": null,
            "_model_module_version": "1.2.0",
            "_view_count": null,
            "flex_flow": null,
            "width": null,
            "min_width": null,
            "border": null,
            "align_items": null,
            "bottom": null,
            "_model_module": "@jupyter-widgets/base",
            "top": null,
            "grid_column": null,
            "overflow_y": null,
            "overflow_x": null,
            "grid_auto_flow": null,
            "grid_area": null,
            "grid_template_columns": null,
            "flex": null,
            "_model_name": "LayoutModel",
            "justify_items": null,
            "grid_row": null,
            "max_height": null,
            "align_content": null,
            "visibility": null,
            "align_self": null,
            "height": null,
            "min_height": null,
            "padding": null,
            "grid_auto_rows": null,
            "grid_gap": null,
            "max_width": null,
            "order": null,
            "_view_module_version": "1.2.0",
            "grid_template_areas": null,
            "object_position": null,
            "object_fit": null,
            "grid_auto_columns": null,
            "margin": null,
            "display": null,
            "left": null
          }
        },
        "ca160ba709124908b31bd709b7f96a30": {
          "model_module": "@jupyter-widgets/controls",
          "model_name": "HBoxModel",
          "state": {
            "_view_name": "HBoxView",
            "_dom_classes": [],
            "_model_name": "HBoxModel",
            "_view_module": "@jupyter-widgets/controls",
            "_model_module_version": "1.5.0",
            "_view_count": null,
            "_view_module_version": "1.5.0",
            "box_style": "",
            "layout": "IPY_MODEL_74df24f0e4cb4b199854cdb77b9df38a",
            "_model_module": "@jupyter-widgets/controls",
            "children": [
              "IPY_MODEL_7b36b4b186ee47e490b1789e21a178c2",
              "IPY_MODEL_7f30c91885c84093b0e8befdad306c30"
            ]
          }
        },
        "74df24f0e4cb4b199854cdb77b9df38a": {
          "model_module": "@jupyter-widgets/base",
          "model_name": "LayoutModel",
          "state": {
            "_view_name": "LayoutView",
            "grid_template_rows": null,
            "right": null,
            "justify_content": null,
            "_view_module": "@jupyter-widgets/base",
            "overflow": null,
            "_model_module_version": "1.2.0",
            "_view_count": null,
            "flex_flow": null,
            "width": null,
            "min_width": null,
            "border": null,
            "align_items": null,
            "bottom": null,
            "_model_module": "@jupyter-widgets/base",
            "top": null,
            "grid_column": null,
            "overflow_y": null,
            "overflow_x": null,
            "grid_auto_flow": null,
            "grid_area": null,
            "grid_template_columns": null,
            "flex": null,
            "_model_name": "LayoutModel",
            "justify_items": null,
            "grid_row": null,
            "max_height": null,
            "align_content": null,
            "visibility": null,
            "align_self": null,
            "height": null,
            "min_height": null,
            "padding": null,
            "grid_auto_rows": null,
            "grid_gap": null,
            "max_width": null,
            "order": null,
            "_view_module_version": "1.2.0",
            "grid_template_areas": null,
            "object_position": null,
            "object_fit": null,
            "grid_auto_columns": null,
            "margin": null,
            "display": null,
            "left": null
          }
        },
        "7b36b4b186ee47e490b1789e21a178c2": {
          "model_module": "@jupyter-widgets/controls",
          "model_name": "FloatProgressModel",
          "state": {
            "_view_name": "ProgressView",
            "style": "IPY_MODEL_f6e64d9508504932a5286c978a96ae5c",
            "_dom_classes": [],
            "description": "",
            "_model_name": "FloatProgressModel",
            "bar_style": "info",
            "max": 1,
            "_view_module": "@jupyter-widgets/controls",
            "_model_module_version": "1.5.0",
            "value": 1,
            "_view_count": null,
            "_view_module_version": "1.5.0",
            "orientation": "horizontal",
            "min": 0,
            "description_tooltip": null,
            "_model_module": "@jupyter-widgets/controls",
            "layout": "IPY_MODEL_a1aa6a2dfad84203bb3ecd0f5daa6cb0"
          }
        },
        "7f30c91885c84093b0e8befdad306c30": {
          "model_module": "@jupyter-widgets/controls",
          "model_name": "HTMLModel",
          "state": {
            "_view_name": "HTMLView",
            "style": "IPY_MODEL_89801171aabd445c921797ab8ff2fb3d",
            "_dom_classes": [],
            "description": "",
            "_model_name": "HTMLModel",
            "placeholder": "​",
            "_view_module": "@jupyter-widgets/controls",
            "_model_module_version": "1.5.0",
            "value": " 4358/0 [00:00&lt;00:00, 21603.89 examples/s]",
            "_view_count": null,
            "_view_module_version": "1.5.0",
            "description_tooltip": null,
            "_model_module": "@jupyter-widgets/controls",
            "layout": "IPY_MODEL_0d95164a5d784484a986feece53dcb87"
          }
        },
        "f6e64d9508504932a5286c978a96ae5c": {
          "model_module": "@jupyter-widgets/controls",
          "model_name": "ProgressStyleModel",
          "state": {
            "_view_name": "StyleView",
            "_model_name": "ProgressStyleModel",
            "description_width": "initial",
            "_view_module": "@jupyter-widgets/base",
            "_model_module_version": "1.5.0",
            "_view_count": null,
            "_view_module_version": "1.2.0",
            "bar_color": null,
            "_model_module": "@jupyter-widgets/controls"
          }
        },
        "a1aa6a2dfad84203bb3ecd0f5daa6cb0": {
          "model_module": "@jupyter-widgets/base",
          "model_name": "LayoutModel",
          "state": {
            "_view_name": "LayoutView",
            "grid_template_rows": null,
            "right": null,
            "justify_content": null,
            "_view_module": "@jupyter-widgets/base",
            "overflow": null,
            "_model_module_version": "1.2.0",
            "_view_count": null,
            "flex_flow": null,
            "width": null,
            "min_width": null,
            "border": null,
            "align_items": null,
            "bottom": null,
            "_model_module": "@jupyter-widgets/base",
            "top": null,
            "grid_column": null,
            "overflow_y": null,
            "overflow_x": null,
            "grid_auto_flow": null,
            "grid_area": null,
            "grid_template_columns": null,
            "flex": null,
            "_model_name": "LayoutModel",
            "justify_items": null,
            "grid_row": null,
            "max_height": null,
            "align_content": null,
            "visibility": null,
            "align_self": null,
            "height": null,
            "min_height": null,
            "padding": null,
            "grid_auto_rows": null,
            "grid_gap": null,
            "max_width": null,
            "order": null,
            "_view_module_version": "1.2.0",
            "grid_template_areas": null,
            "object_position": null,
            "object_fit": null,
            "grid_auto_columns": null,
            "margin": null,
            "display": null,
            "left": null
          }
        },
        "89801171aabd445c921797ab8ff2fb3d": {
          "model_module": "@jupyter-widgets/controls",
          "model_name": "DescriptionStyleModel",
          "state": {
            "_view_name": "StyleView",
            "_model_name": "DescriptionStyleModel",
            "description_width": "",
            "_view_module": "@jupyter-widgets/base",
            "_model_module_version": "1.5.0",
            "_view_count": null,
            "_view_module_version": "1.2.0",
            "_model_module": "@jupyter-widgets/controls"
          }
        },
        "0d95164a5d784484a986feece53dcb87": {
          "model_module": "@jupyter-widgets/base",
          "model_name": "LayoutModel",
          "state": {
            "_view_name": "LayoutView",
            "grid_template_rows": null,
            "right": null,
            "justify_content": null,
            "_view_module": "@jupyter-widgets/base",
            "overflow": null,
            "_model_module_version": "1.2.0",
            "_view_count": null,
            "flex_flow": null,
            "width": null,
            "min_width": null,
            "border": null,
            "align_items": null,
            "bottom": null,
            "_model_module": "@jupyter-widgets/base",
            "top": null,
            "grid_column": null,
            "overflow_y": null,
            "overflow_x": null,
            "grid_auto_flow": null,
            "grid_area": null,
            "grid_template_columns": null,
            "flex": null,
            "_model_name": "LayoutModel",
            "justify_items": null,
            "grid_row": null,
            "max_height": null,
            "align_content": null,
            "visibility": null,
            "align_self": null,
            "height": null,
            "min_height": null,
            "padding": null,
            "grid_auto_rows": null,
            "grid_gap": null,
            "max_width": null,
            "order": null,
            "_view_module_version": "1.2.0",
            "grid_template_areas": null,
            "object_position": null,
            "object_fit": null,
            "grid_auto_columns": null,
            "margin": null,
            "display": null,
            "left": null
          }
        },
        "b08ae1a8ac8b4a75ba3670c639307f31": {
          "model_module": "@jupyter-widgets/controls",
          "model_name": "HBoxModel",
          "state": {
            "_view_name": "HBoxView",
            "_dom_classes": [],
            "_model_name": "HBoxModel",
            "_view_module": "@jupyter-widgets/controls",
            "_model_module_version": "1.5.0",
            "_view_count": null,
            "_view_module_version": "1.5.0",
            "box_style": "",
            "layout": "IPY_MODEL_6a4f185ff27c404b90e587c793f53ea4",
            "_model_module": "@jupyter-widgets/controls",
            "children": [
              "IPY_MODEL_4aa91142ad8e42de821a0f4f2a5f3759",
              "IPY_MODEL_9a3b5ecc4b364e7ebd852faad5b13235"
            ]
          }
        },
        "6a4f185ff27c404b90e587c793f53ea4": {
          "model_module": "@jupyter-widgets/base",
          "model_name": "LayoutModel",
          "state": {
            "_view_name": "LayoutView",
            "grid_template_rows": null,
            "right": null,
            "justify_content": null,
            "_view_module": "@jupyter-widgets/base",
            "overflow": null,
            "_model_module_version": "1.2.0",
            "_view_count": null,
            "flex_flow": null,
            "width": null,
            "min_width": null,
            "border": null,
            "align_items": null,
            "bottom": null,
            "_model_module": "@jupyter-widgets/base",
            "top": null,
            "grid_column": null,
            "overflow_y": null,
            "overflow_x": null,
            "grid_auto_flow": null,
            "grid_area": null,
            "grid_template_columns": null,
            "flex": null,
            "_model_name": "LayoutModel",
            "justify_items": null,
            "grid_row": null,
            "max_height": null,
            "align_content": null,
            "visibility": null,
            "align_self": null,
            "height": null,
            "min_height": null,
            "padding": null,
            "grid_auto_rows": null,
            "grid_gap": null,
            "max_width": null,
            "order": null,
            "_view_module_version": "1.2.0",
            "grid_template_areas": null,
            "object_position": null,
            "object_fit": null,
            "grid_auto_columns": null,
            "margin": null,
            "display": null,
            "left": null
          }
        },
        "4aa91142ad8e42de821a0f4f2a5f3759": {
          "model_module": "@jupyter-widgets/controls",
          "model_name": "FloatProgressModel",
          "state": {
            "_view_name": "ProgressView",
            "style": "IPY_MODEL_3a5d2ef892fc40a7a3140074d15bc227",
            "_dom_classes": [],
            "description": "",
            "_model_name": "FloatProgressModel",
            "bar_style": "info",
            "max": 1,
            "_view_module": "@jupyter-widgets/controls",
            "_model_module_version": "1.5.0",
            "value": 1,
            "_view_count": null,
            "_view_module_version": "1.5.0",
            "orientation": "horizontal",
            "min": 0,
            "description_tooltip": null,
            "_model_module": "@jupyter-widgets/controls",
            "layout": "IPY_MODEL_efd98a348d854d18b3dfe02a61228892"
          }
        },
        "9a3b5ecc4b364e7ebd852faad5b13235": {
          "model_module": "@jupyter-widgets/controls",
          "model_name": "HTMLModel",
          "state": {
            "_view_name": "HTMLView",
            "style": "IPY_MODEL_ffff7090bc8942949b6d841f49c4a6b9",
            "_dom_classes": [],
            "description": "",
            "_model_name": "HTMLModel",
            "placeholder": "​",
            "_view_module": "@jupyter-widgets/controls",
            "_model_module_version": "1.5.0",
            "value": " 36718/0 [00:00&lt;00:00, 78385.57 examples/s]",
            "_view_count": null,
            "_view_module_version": "1.5.0",
            "description_tooltip": null,
            "_model_module": "@jupyter-widgets/controls",
            "layout": "IPY_MODEL_0130dd56bd2d47eebc2208e36119bbc6"
          }
        },
        "3a5d2ef892fc40a7a3140074d15bc227": {
          "model_module": "@jupyter-widgets/controls",
          "model_name": "ProgressStyleModel",
          "state": {
            "_view_name": "StyleView",
            "_model_name": "ProgressStyleModel",
            "description_width": "initial",
            "_view_module": "@jupyter-widgets/base",
            "_model_module_version": "1.5.0",
            "_view_count": null,
            "_view_module_version": "1.2.0",
            "bar_color": null,
            "_model_module": "@jupyter-widgets/controls"
          }
        },
        "efd98a348d854d18b3dfe02a61228892": {
          "model_module": "@jupyter-widgets/base",
          "model_name": "LayoutModel",
          "state": {
            "_view_name": "LayoutView",
            "grid_template_rows": null,
            "right": null,
            "justify_content": null,
            "_view_module": "@jupyter-widgets/base",
            "overflow": null,
            "_model_module_version": "1.2.0",
            "_view_count": null,
            "flex_flow": null,
            "width": null,
            "min_width": null,
            "border": null,
            "align_items": null,
            "bottom": null,
            "_model_module": "@jupyter-widgets/base",
            "top": null,
            "grid_column": null,
            "overflow_y": null,
            "overflow_x": null,
            "grid_auto_flow": null,
            "grid_area": null,
            "grid_template_columns": null,
            "flex": null,
            "_model_name": "LayoutModel",
            "justify_items": null,
            "grid_row": null,
            "max_height": null,
            "align_content": null,
            "visibility": null,
            "align_self": null,
            "height": null,
            "min_height": null,
            "padding": null,
            "grid_auto_rows": null,
            "grid_gap": null,
            "max_width": null,
            "order": null,
            "_view_module_version": "1.2.0",
            "grid_template_areas": null,
            "object_position": null,
            "object_fit": null,
            "grid_auto_columns": null,
            "margin": null,
            "display": null,
            "left": null
          }
        },
        "ffff7090bc8942949b6d841f49c4a6b9": {
          "model_module": "@jupyter-widgets/controls",
          "model_name": "DescriptionStyleModel",
          "state": {
            "_view_name": "StyleView",
            "_model_name": "DescriptionStyleModel",
            "description_width": "",
            "_view_module": "@jupyter-widgets/base",
            "_model_module_version": "1.5.0",
            "_view_count": null,
            "_view_module_version": "1.2.0",
            "_model_module": "@jupyter-widgets/controls"
          }
        },
        "0130dd56bd2d47eebc2208e36119bbc6": {
          "model_module": "@jupyter-widgets/base",
          "model_name": "LayoutModel",
          "state": {
            "_view_name": "LayoutView",
            "grid_template_rows": null,
            "right": null,
            "justify_content": null,
            "_view_module": "@jupyter-widgets/base",
            "overflow": null,
            "_model_module_version": "1.2.0",
            "_view_count": null,
            "flex_flow": null,
            "width": null,
            "min_width": null,
            "border": null,
            "align_items": null,
            "bottom": null,
            "_model_module": "@jupyter-widgets/base",
            "top": null,
            "grid_column": null,
            "overflow_y": null,
            "overflow_x": null,
            "grid_auto_flow": null,
            "grid_area": null,
            "grid_template_columns": null,
            "flex": null,
            "_model_name": "LayoutModel",
            "justify_items": null,
            "grid_row": null,
            "max_height": null,
            "align_content": null,
            "visibility": null,
            "align_self": null,
            "height": null,
            "min_height": null,
            "padding": null,
            "grid_auto_rows": null,
            "grid_gap": null,
            "max_width": null,
            "order": null,
            "_view_module_version": "1.2.0",
            "grid_template_areas": null,
            "object_position": null,
            "object_fit": null,
            "grid_auto_columns": null,
            "margin": null,
            "display": null,
            "left": null
          }
        },
        "d1f39c41a4dc4cdfae0fa8a447d8c624": {
          "model_module": "@jupyter-widgets/controls",
          "model_name": "HBoxModel",
          "state": {
            "_view_name": "HBoxView",
            "_dom_classes": [],
            "_model_name": "HBoxModel",
            "_view_module": "@jupyter-widgets/controls",
            "_model_module_version": "1.5.0",
            "_view_count": null,
            "_view_module_version": "1.5.0",
            "box_style": "",
            "layout": "IPY_MODEL_decc8177881e46fa96aa38a01837e03e",
            "_model_module": "@jupyter-widgets/controls",
            "children": [
              "IPY_MODEL_9552e6dbdab44917bba66034a1fc5de2",
              "IPY_MODEL_84a75e82ea66482b9bcd9388f4130804"
            ]
          }
        },
        "decc8177881e46fa96aa38a01837e03e": {
          "model_module": "@jupyter-widgets/base",
          "model_name": "LayoutModel",
          "state": {
            "_view_name": "LayoutView",
            "grid_template_rows": null,
            "right": null,
            "justify_content": null,
            "_view_module": "@jupyter-widgets/base",
            "overflow": null,
            "_model_module_version": "1.2.0",
            "_view_count": null,
            "flex_flow": null,
            "width": null,
            "min_width": null,
            "border": null,
            "align_items": null,
            "bottom": null,
            "_model_module": "@jupyter-widgets/base",
            "top": null,
            "grid_column": null,
            "overflow_y": null,
            "overflow_x": null,
            "grid_auto_flow": null,
            "grid_area": null,
            "grid_template_columns": null,
            "flex": null,
            "_model_name": "LayoutModel",
            "justify_items": null,
            "grid_row": null,
            "max_height": null,
            "align_content": null,
            "visibility": null,
            "align_self": null,
            "height": null,
            "min_height": null,
            "padding": null,
            "grid_auto_rows": null,
            "grid_gap": null,
            "max_width": null,
            "order": null,
            "_view_module_version": "1.2.0",
            "grid_template_areas": null,
            "object_position": null,
            "object_fit": null,
            "grid_auto_columns": null,
            "margin": null,
            "display": null,
            "left": null
          }
        },
        "9552e6dbdab44917bba66034a1fc5de2": {
          "model_module": "@jupyter-widgets/controls",
          "model_name": "FloatProgressModel",
          "state": {
            "_view_name": "ProgressView",
            "style": "IPY_MODEL_a9bade9a9796401ea1e345afe7a8ab4c",
            "_dom_classes": [],
            "description": "",
            "_model_name": "FloatProgressModel",
            "bar_style": "info",
            "max": 1,
            "_view_module": "@jupyter-widgets/controls",
            "_model_module_version": "1.5.0",
            "value": 1,
            "_view_count": null,
            "_view_module_version": "1.5.0",
            "orientation": "horizontal",
            "min": 0,
            "description_tooltip": null,
            "_model_module": "@jupyter-widgets/controls",
            "layout": "IPY_MODEL_a79c8b45cb564114a09f0c133b00ad15"
          }
        },
        "84a75e82ea66482b9bcd9388f4130804": {
          "model_module": "@jupyter-widgets/controls",
          "model_name": "HTMLModel",
          "state": {
            "_view_name": "HTMLView",
            "style": "IPY_MODEL_48c3baea342b48f39e8e76749f1c6a71",
            "_dom_classes": [],
            "description": "",
            "_model_name": "HTMLModel",
            "placeholder": "​",
            "_view_module": "@jupyter-widgets/controls",
            "_model_module_version": "1.5.0",
            "value": " 3760/0 [00:00&lt;00:00, 46226.76 examples/s]",
            "_view_count": null,
            "_view_module_version": "1.5.0",
            "description_tooltip": null,
            "_model_module": "@jupyter-widgets/controls",
            "layout": "IPY_MODEL_df84e2d1f9b14e29a6641c6ecfae6118"
          }
        },
        "a9bade9a9796401ea1e345afe7a8ab4c": {
          "model_module": "@jupyter-widgets/controls",
          "model_name": "ProgressStyleModel",
          "state": {
            "_view_name": "StyleView",
            "_model_name": "ProgressStyleModel",
            "description_width": "initial",
            "_view_module": "@jupyter-widgets/base",
            "_model_module_version": "1.5.0",
            "_view_count": null,
            "_view_module_version": "1.2.0",
            "bar_color": null,
            "_model_module": "@jupyter-widgets/controls"
          }
        },
        "a79c8b45cb564114a09f0c133b00ad15": {
          "model_module": "@jupyter-widgets/base",
          "model_name": "LayoutModel",
          "state": {
            "_view_name": "LayoutView",
            "grid_template_rows": null,
            "right": null,
            "justify_content": null,
            "_view_module": "@jupyter-widgets/base",
            "overflow": null,
            "_model_module_version": "1.2.0",
            "_view_count": null,
            "flex_flow": null,
            "width": null,
            "min_width": null,
            "border": null,
            "align_items": null,
            "bottom": null,
            "_model_module": "@jupyter-widgets/base",
            "top": null,
            "grid_column": null,
            "overflow_y": null,
            "overflow_x": null,
            "grid_auto_flow": null,
            "grid_area": null,
            "grid_template_columns": null,
            "flex": null,
            "_model_name": "LayoutModel",
            "justify_items": null,
            "grid_row": null,
            "max_height": null,
            "align_content": null,
            "visibility": null,
            "align_self": null,
            "height": null,
            "min_height": null,
            "padding": null,
            "grid_auto_rows": null,
            "grid_gap": null,
            "max_width": null,
            "order": null,
            "_view_module_version": "1.2.0",
            "grid_template_areas": null,
            "object_position": null,
            "object_fit": null,
            "grid_auto_columns": null,
            "margin": null,
            "display": null,
            "left": null
          }
        },
        "48c3baea342b48f39e8e76749f1c6a71": {
          "model_module": "@jupyter-widgets/controls",
          "model_name": "DescriptionStyleModel",
          "state": {
            "_view_name": "StyleView",
            "_model_name": "DescriptionStyleModel",
            "description_width": "",
            "_view_module": "@jupyter-widgets/base",
            "_model_module_version": "1.5.0",
            "_view_count": null,
            "_view_module_version": "1.2.0",
            "_model_module": "@jupyter-widgets/controls"
          }
        },
        "df84e2d1f9b14e29a6641c6ecfae6118": {
          "model_module": "@jupyter-widgets/base",
          "model_name": "LayoutModel",
          "state": {
            "_view_name": "LayoutView",
            "grid_template_rows": null,
            "right": null,
            "justify_content": null,
            "_view_module": "@jupyter-widgets/base",
            "overflow": null,
            "_model_module_version": "1.2.0",
            "_view_count": null,
            "flex_flow": null,
            "width": null,
            "min_width": null,
            "border": null,
            "align_items": null,
            "bottom": null,
            "_model_module": "@jupyter-widgets/base",
            "top": null,
            "grid_column": null,
            "overflow_y": null,
            "overflow_x": null,
            "grid_auto_flow": null,
            "grid_area": null,
            "grid_template_columns": null,
            "flex": null,
            "_model_name": "LayoutModel",
            "justify_items": null,
            "grid_row": null,
            "max_height": null,
            "align_content": null,
            "visibility": null,
            "align_self": null,
            "height": null,
            "min_height": null,
            "padding": null,
            "grid_auto_rows": null,
            "grid_gap": null,
            "max_width": null,
            "order": null,
            "_view_module_version": "1.2.0",
            "grid_template_areas": null,
            "object_position": null,
            "object_fit": null,
            "grid_auto_columns": null,
            "margin": null,
            "display": null,
            "left": null
          }
        },
        "0b736f895c654a09b034cb541c92db3d": {
          "model_module": "@jupyter-widgets/controls",
          "model_name": "HBoxModel",
          "state": {
            "_view_name": "HBoxView",
            "_dom_classes": [],
            "_model_name": "HBoxModel",
            "_view_module": "@jupyter-widgets/controls",
            "_model_module_version": "1.5.0",
            "_view_count": null,
            "_view_module_version": "1.5.0",
            "box_style": "",
            "layout": "IPY_MODEL_d6127b38677b447d8fb89a2f4effa3da",
            "_model_module": "@jupyter-widgets/controls",
            "children": [
              "IPY_MODEL_65265bab46794a46b719099335d80f3e",
              "IPY_MODEL_3cc1370d545c4dbcbc830520ffed274c"
            ]
          }
        },
        "d6127b38677b447d8fb89a2f4effa3da": {
          "model_module": "@jupyter-widgets/base",
          "model_name": "LayoutModel",
          "state": {
            "_view_name": "LayoutView",
            "grid_template_rows": null,
            "right": null,
            "justify_content": null,
            "_view_module": "@jupyter-widgets/base",
            "overflow": null,
            "_model_module_version": "1.2.0",
            "_view_count": null,
            "flex_flow": null,
            "width": null,
            "min_width": null,
            "border": null,
            "align_items": null,
            "bottom": null,
            "_model_module": "@jupyter-widgets/base",
            "top": null,
            "grid_column": null,
            "overflow_y": null,
            "overflow_x": null,
            "grid_auto_flow": null,
            "grid_area": null,
            "grid_template_columns": null,
            "flex": null,
            "_model_name": "LayoutModel",
            "justify_items": null,
            "grid_row": null,
            "max_height": null,
            "align_content": null,
            "visibility": null,
            "align_self": null,
            "height": null,
            "min_height": null,
            "padding": null,
            "grid_auto_rows": null,
            "grid_gap": null,
            "max_width": null,
            "order": null,
            "_view_module_version": "1.2.0",
            "grid_template_areas": null,
            "object_position": null,
            "object_fit": null,
            "grid_auto_columns": null,
            "margin": null,
            "display": null,
            "left": null
          }
        },
        "65265bab46794a46b719099335d80f3e": {
          "model_module": "@jupyter-widgets/controls",
          "model_name": "FloatProgressModel",
          "state": {
            "_view_name": "ProgressView",
            "style": "IPY_MODEL_42d1bca2344c4716a278529547053f69",
            "_dom_classes": [],
            "description": "100%",
            "_model_name": "FloatProgressModel",
            "bar_style": "success",
            "max": 1,
            "_view_module": "@jupyter-widgets/controls",
            "_model_module_version": "1.5.0",
            "value": 1,
            "_view_count": null,
            "_view_module_version": "1.5.0",
            "orientation": "horizontal",
            "min": 0,
            "description_tooltip": null,
            "_model_module": "@jupyter-widgets/controls",
            "layout": "IPY_MODEL_50b8fddda24f4fd9985fa157357067dc"
          }
        },
        "3cc1370d545c4dbcbc830520ffed274c": {
          "model_module": "@jupyter-widgets/controls",
          "model_name": "HTMLModel",
          "state": {
            "_view_name": "HTMLView",
            "style": "IPY_MODEL_0cc9684eb071416889a559bfda119b05",
            "_dom_classes": [],
            "description": "",
            "_model_name": "HTMLModel",
            "placeholder": "​",
            "_view_module": "@jupyter-widgets/controls",
            "_model_module_version": "1.5.0",
            "value": " 1/1 [00:27&lt;00:00, 27.81s/ba]",
            "_view_count": null,
            "_view_module_version": "1.5.0",
            "description_tooltip": null,
            "_model_module": "@jupyter-widgets/controls",
            "layout": "IPY_MODEL_aaa59266fef749769b53453243afd33a"
          }
        },
        "42d1bca2344c4716a278529547053f69": {
          "model_module": "@jupyter-widgets/controls",
          "model_name": "ProgressStyleModel",
          "state": {
            "_view_name": "StyleView",
            "_model_name": "ProgressStyleModel",
            "description_width": "initial",
            "_view_module": "@jupyter-widgets/base",
            "_model_module_version": "1.5.0",
            "_view_count": null,
            "_view_module_version": "1.2.0",
            "bar_color": null,
            "_model_module": "@jupyter-widgets/controls"
          }
        },
        "50b8fddda24f4fd9985fa157357067dc": {
          "model_module": "@jupyter-widgets/base",
          "model_name": "LayoutModel",
          "state": {
            "_view_name": "LayoutView",
            "grid_template_rows": null,
            "right": null,
            "justify_content": null,
            "_view_module": "@jupyter-widgets/base",
            "overflow": null,
            "_model_module_version": "1.2.0",
            "_view_count": null,
            "flex_flow": null,
            "width": null,
            "min_width": null,
            "border": null,
            "align_items": null,
            "bottom": null,
            "_model_module": "@jupyter-widgets/base",
            "top": null,
            "grid_column": null,
            "overflow_y": null,
            "overflow_x": null,
            "grid_auto_flow": null,
            "grid_area": null,
            "grid_template_columns": null,
            "flex": null,
            "_model_name": "LayoutModel",
            "justify_items": null,
            "grid_row": null,
            "max_height": null,
            "align_content": null,
            "visibility": null,
            "align_self": null,
            "height": null,
            "min_height": null,
            "padding": null,
            "grid_auto_rows": null,
            "grid_gap": null,
            "max_width": null,
            "order": null,
            "_view_module_version": "1.2.0",
            "grid_template_areas": null,
            "object_position": null,
            "object_fit": null,
            "grid_auto_columns": null,
            "margin": null,
            "display": null,
            "left": null
          }
        },
        "0cc9684eb071416889a559bfda119b05": {
          "model_module": "@jupyter-widgets/controls",
          "model_name": "DescriptionStyleModel",
          "state": {
            "_view_name": "StyleView",
            "_model_name": "DescriptionStyleModel",
            "description_width": "",
            "_view_module": "@jupyter-widgets/base",
            "_model_module_version": "1.5.0",
            "_view_count": null,
            "_view_module_version": "1.2.0",
            "_model_module": "@jupyter-widgets/controls"
          }
        },
        "aaa59266fef749769b53453243afd33a": {
          "model_module": "@jupyter-widgets/base",
          "model_name": "LayoutModel",
          "state": {
            "_view_name": "LayoutView",
            "grid_template_rows": null,
            "right": null,
            "justify_content": null,
            "_view_module": "@jupyter-widgets/base",
            "overflow": null,
            "_model_module_version": "1.2.0",
            "_view_count": null,
            "flex_flow": null,
            "width": null,
            "min_width": null,
            "border": null,
            "align_items": null,
            "bottom": null,
            "_model_module": "@jupyter-widgets/base",
            "top": null,
            "grid_column": null,
            "overflow_y": null,
            "overflow_x": null,
            "grid_auto_flow": null,
            "grid_area": null,
            "grid_template_columns": null,
            "flex": null,
            "_model_name": "LayoutModel",
            "justify_items": null,
            "grid_row": null,
            "max_height": null,
            "align_content": null,
            "visibility": null,
            "align_self": null,
            "height": null,
            "min_height": null,
            "padding": null,
            "grid_auto_rows": null,
            "grid_gap": null,
            "max_width": null,
            "order": null,
            "_view_module_version": "1.2.0",
            "grid_template_areas": null,
            "object_position": null,
            "object_fit": null,
            "grid_auto_columns": null,
            "margin": null,
            "display": null,
            "left": null
          }
        }
      }
    },
    "accelerator": "GPU"
  },
  "cells": [
    {
      "cell_type": "markdown",
      "metadata": {
        "id": "ljhQ3WC79pAa"
      },
      "source": [
        "# From: Transformers and Text-Generation\n",
        "by Liam Dugan (UPenn). \n",
        "\n",
        "\n",
        "Please write your answers and code in the cells with questions below. "
      ]
    },
    {
      "cell_type": "markdown",
      "metadata": {
        "id": "EwQJB7Ft9wJ3"
      },
      "source": [
        "----------\n",
        "\n",
        "For this homework, we will take ideas from the entire class: language models, text generation, vector-based word representations, syntactic analysis, and neural networks. We'll be using large, pre-trained language models to generate text, and studying how we can fine-tune these large language models to generate text in whatever genre and style we want!\n",
        "\n",
        "In this assignment you will get:\n",
        "1. An overview of the \"Transformer\" architecture is and why it is particularly well suited for Natural Language Processing tasks\n",
        "2. An introduction to the Generative Pretrained Transformer (GPT) family, which is a set of large-scale language models that can be used to generate text that often sounds like it was written by a human.\n",
        "3. Experience with using the HuggingFace package to fine-tune these models to generate text that sounds like it comes from a specific source."
      ]
    },
    {
      "cell_type": "markdown",
      "metadata": {
        "id": "ZLt2-8LK9pO_"
      },
      "source": [
        "# Part 1: What is a Transformer? (Reading)\n",
        "<figure align=\"center\">\n",
        "<img src=\"https://media.giphy.com/media/VeWllmR9zfaco/giphy.gif\" />\n",
        "<figcaption>(It's probably not this guy, right?)</figcaption>\n",
        "</figure>\n",
        "\n",
        "### The Transformer\n",
        "\n",
        "The current state-of-the-art for a variety of natural language processing tasks belongs to the **Transformer** architecture, first published December 6th 2017. \n",
        "\n",
        "The Transformer can be thought of as a big feed-forward network with every feed-forward layer containing something called an \"attention module\". \n",
        "\n",
        ">You might be wondering: why are we moving back to feed-forward networks after having so much success with recurrent neural networks and variants like LSTMs? Aren't RNNs naturally poised to handle sequences as their inputs? Well, as it turns out, the sequential nature of RNNs make them really difficult to train in a distributed/parallel fashion. So while RNNs make more sense to use on sequences of inputs, serial networks such as the transformer can be trained much faster, allowing orders of magnitude more training data to be used. \n"
      ]
    },
    {
      "cell_type": "markdown",
      "metadata": {
        "id": "8kDBzHuT-vPj"
      },
      "source": [
        "\n",
        "### Reading \\# 1 - What is a Transformer?\n",
        "\n",
        "In order to get a good grasp on exactly *why* these models are so good it's important to understand what they are and how they work. \n",
        "\n",
        "Your first task for this homework is to read the blog post [\"The Illustrated Transformer\" by Jay Alammar](http://jalammar.github.io/illustrated-transformer/). This blog post explains the transformer architecture (and the all-important \"Attention Module\") with helpful visualizations and diagrams. \n",
        "\n",
        "**You should read this post very closely and understand exactly what the Transformer is and how it works. Once you're finished reading, answer the following questions in 2-3 sentences each.**\n",
        "\n",
        "1. (2 pts) What is Self-Attention (at a high level)?\n",
        "\n",
        "   > It is a layer that helps the encoder look at other words in the input sentence as it encodes a specific word\n",
        "\n",
        "2. (2 pts) How is Self-Attention computed?\n",
        "\n",
        "   > First, we create three vectors from each of the encoder’s input vectors : a Query vector, a Key vector, and a Value vector. Next, calculate a score by taking the dot product of the Query vector and all the Key vectors. Then divide the score by the square root of the dimension of the Key vector, and normalize the value through a softmax function. The softmax score is multiplied with the Value vector to create weighted value vectors and taking the sum of those weighted value vectors gives the self-attention vector.\n",
        "\n",
        "3. (2 pts) What do the \"Query\", \"Key\", and \"Value\" vectors encode (at a high level)?\n",
        "\n",
        "   > They’re abstractions that are useful for calculating and thinking about attention.\n",
        "\n",
        "4. (2 pts) What is an attention \"head\" and why should we use multiple heads?\n",
        "\n",
        "   > An attention head means an attention layer, if we do multiple heads, then we have multiple layers so that each layer could focus on different aspects.\n",
        "\n",
        "5. (2 pts) What are positional embeddings?\n",
        "\n",
        "   > These are the embeddings to help determine the positions of the words.\n",
        "\n",
        "6. (2 pts) Why are positional embeddings important?\n",
        "\n",
        "   > The positional embeddings provides meaningful distances between the original embedding vectors once they’re projected into Q/K/V vectors and during dot-product attention.\n",
        "\n",
        "\n"
      ]
    },
    {
      "cell_type": "markdown",
      "metadata": {
        "id": "HZ-OTakPCPJc"
      },
      "source": [
        "-----------\n",
        "### Reading \\# 2 - Transformer Language Models\n",
        "\n",
        "On June 11th 2018, OpenAI released a model named **GPT**, standing for *Generative Pre-Trained Transformer*. This model was a Transformer architecture that was modified such that it could be used for Text Generation instead of sequence to sequence modeling. This model was also pre-trained, which means that anyone could download the fully trained model and use it without needing to train the model themselves. \n",
        "\n",
        "On February 14th 2019, OpenAI released a blog post detailing a brand new version of GPT that had an insane **1.5 billion parameters**. They named this version **GPT-2**. To train such a large model, OpenAI crawled 40GB worth of text from the web (roughly 20,000,000,000 words). \n",
        "\n",
        "GPT-2 is an extremely impressive language model that can generate text that often sounds so plausible that it seems like it might have been written by a human.  Here is an example of what GPT-2 can generate, taken from [OpenAI’s blog post](https://openai.com/blog/better-language-models/):\n",
        "\n",
        "**Human-Written Prompt:**\n",
        "> “Miley Cyrus was caught shoplifting from Abercrombie and Fitch on Hollywood Boulevard today.”\n",
        "\n",
        "**Model Continuation:**\n",
        "> The 19-year-old singer was caught on camera being escorted out of the store by security guards.\n",
        "> \n",
        "> The singer was wearing a black hoodie with the label ‘Blurred Lines’ on the front and ‘Fashion Police’ on the back.\n",
        "> \n",
        "> Scroll down for video\n",
        "> \n",
        "> Shoplifting: Miley Cyrus was caught shoplifting from Abercrombie and Fitch on Hollywood Boulevard today (pictured)\n",
        "> \n",
        "> The singer was also wearing a pair of black-rimmed glasses, a black jacket, black jeans and black sandals.\n",
        "> \n",
        "> She was carrying a pair of black and white striped gloves and a small black bag.\n",
        "\n",
        "*(To be clear: Miley Cyrus was never actually arrested for shoplifting)*.  \n",
        "\n",
        "The quality of the model's output was so good, that the researchers at OpenAI were worried that, in addition to positive applications, it might be used for malicious purposes like generating fake news, impersonating people online, creating abusive or fake content to post on social media, or automating spam and phishing scams. In a [demo to Wired Magazine](https://www.wired.com/story/ai-text-generator-too-dangerous-to-make-public/), the reporter typed in “Hillary Clinton and George Soros” and GPT-2 generated a crazy rant with lots of conspiracy theories: \n",
        "> Hillary Clinton and George Soros are a perfect match, and their agenda appears to be to create a political movement where Soros and his political machine and Clinton are two of the only major players. This is the first time Soros and Clinton have been caught on tape directly colluding in promoting the same false narrative. One of the key revelations in the leaked audio was Clinton's admission to a Russian banker that she knew about the Uranium One deal before it was approved by Congress. Clinton was shown sharing the same talking points that were originally drafted by a Fusion GPS contractor hired by an anti-Trump Republican donor. The leaked audio is the clearest evidence yet that the Clinton campaign and the Hillary Foundation colluded with Fusion GPS to manufacture propaganda against President Trump.\n",
        "\n",
        "\n",
        "They were concerned enough that they labeled GPT-2 \"too dangerous to release\", and OpenAI initially refused to release their dataset, training code, or GPT-2 model weights.  OpenAI decided to release in a delayed, phased fashion so that researchers could spend time working on automatic detection of generated text.\n",
        "\n",
        "In this homework, you'll get to be the judge of how good GPT-2 is, as you'll be using it yourself to generate text!\n",
        "\n",
        "**To start your journey into the world of Text Generation, you should read Part 1 of the blog post [\"The Illustrated GPT-2\" by Jay Alammar](http://jalammar.github.io/illustrated-gpt2/) and answer the following questions in 2-3 sentences each**\n",
        "\n",
        "1. (4 pts) How does the architecture of GPT-2 differ from the standard Encoder-Decoder Transformer model?\n",
        "   > GPT-2 only uses the transformer decoder blocks.\n",
        "2. (4 pts) What is the difference between \"Masked Self-Attention\" and \"Self-Attention\"\n",
        "   > A normal self-attention block allows a position to peak at tokens to its right. In Masked self-attention, information from tokens that are to the right of the position is blocked from calculation.\n",
        "3. (4 pts) What are logits? How are they computed? and How does GPT-2 use them to decide which word to predict next?\n",
        "   > The logits are the output token probabilities of the vocabulary size, GPT-2 takes the one with the highest values to be the output prediction.\n",
        "\n",
        "### Aside: GPT-3 \n",
        "\n",
        "On June 11th 2020, OpenAI released GPT-3 [(paper)](https://arxiv.org/pdf/2005.14165.pdf) [(wikipedia)](https://en.wikipedia.org/wiki/GPT-3). This model has an unfathomable **175 billion parameters** (100x larger than GPT-2!) and was trained on 570GB of text! This model is virtually indistinguishable from human output and can generate text about any topic and in any style with only a few words of priming text. It is by far the largest language model ever trained and it can do some very terrifying things.\n",
        "\n",
        "GPT-3 Can:\n",
        "- Generate JSX code off natural language descriptions\n",
        "- Generate Emojis based off of descriptions of the feeling\n",
        "- Generate regular expressions off natural language descriptions\n",
        "- Generate website mockups off natural language descriptions\n",
        "- Generate charts with titles, labels and legends from natural language descriptions\n",
        "- Explain python code in plain english\n",
        "- Automatically generate quiz questions (and grade them)\n",
        "- Generate Latex from natural language descriptions\n",
        "- Generate Linux commands from natural language descriptions\n",
        "- Generate a Machine Learning model from natural language descriptions\n",
        "\n",
        "[Here's a collection of 21 things GPT-3 can do (with examples)](https://machinelearningknowledge.ai/openai-gpt-3-demos-to-convince-you-that-ai-threat-is-real-or-is-it/#OpenAI_GPT-3_Demos)\n",
        "\n",
        "[Here's a NYT article about how GPT-3 can write code, poetry, and argue](https://www.nytimes.com/2020/11/24/science/artificial-intelligence-ai-gpt3.html)\n",
        "\n",
        "[Here's an article GPT-3 wrote for The Guardian about how it loves humans and would never subjugate humanity](https://www.theguardian.com/commentisfree/2020/sep/08/robot-wrote-this-article-gpt-3)\n",
        "\n",
        "**You may optionally choose to read Jay Alammar's most recent blog post [\"How GPT3 Works - Visualizations and Animations\"](http://jalammar.github.io/how-gpt3-works-visualizations-animations/) from July 2020 if you're curious as to how GPT-3 differs from GPT-2**\n",
        "\n",
        "Similarly to GPT-2, OpenAI has decided not to release GPT-3, this time opting to put GPT-3 behind an API which you need to request permission to use. This allows them to control exactly who can generate text and what type of text is generated. While this is a good solution in the short term, the long term implications of GPT-3 are still unclear.\n",
        "\n",
        "If you are interested in trying out GPT-3 yourself, feel free to [Join the OpenAI API Waitlist](https://share.hsforms.com/1Lfc7WtPLRk2ppXhPjcYY-A4sk30)"
      ]
    },
    {
      "cell_type": "markdown",
      "metadata": {
        "id": "-DFqk7jra-Li"
      },
      "source": [
        "-------------------------------"
      ]
    },
    {
      "cell_type": "markdown",
      "metadata": {
        "id": "Y14gbpSjOTt7"
      },
      "source": [
        "# Part 2: GPT-2 Text Generation with HuggingFace\n",
        "\n",
        "Phew, that was a lot of reading. Now lets get to the fun part! Let's use the transformer to generate some text!!\n",
        "\n",
        "We will use the [Transformers library from HuggingFace](https://transformer.huggingface.co), which provides support for many Transformer-based language models like GPT-2. \n",
        "\n",
        "**IMPORTANT: Make sure that you have GPU set as your Hardware Accelerator in `Runtime > Change runtime type` before running this Colab.**"
      ]
    },
    {
      "cell_type": "code",
      "metadata": {
        "id": "h6yWI0ae9knK",
        "colab": {
          "base_uri": "https://localhost:8080/"
        },
        "outputId": "c2e20063-5164-43a0-d285-8ff7b21c9959"
      },
      "source": [
        "!pip install transformers"
      ],
      "execution_count": 1,
      "outputs": [
        {
          "output_type": "stream",
          "text": [
            "Requirement already satisfied: transformers in /usr/local/lib/python3.7/dist-packages (4.5.0)\n",
            "Requirement already satisfied: regex!=2019.12.17 in /usr/local/lib/python3.7/dist-packages (from transformers) (2019.12.20)\n",
            "Requirement already satisfied: numpy>=1.17 in /usr/local/lib/python3.7/dist-packages (from transformers) (1.19.5)\n",
            "Requirement already satisfied: packaging in /usr/local/lib/python3.7/dist-packages (from transformers) (20.9)\n",
            "Requirement already satisfied: requests in /usr/local/lib/python3.7/dist-packages (from transformers) (2.23.0)\n",
            "Requirement already satisfied: filelock in /usr/local/lib/python3.7/dist-packages (from transformers) (3.0.12)\n",
            "Requirement already satisfied: sacremoses in /usr/local/lib/python3.7/dist-packages (from transformers) (0.0.44)\n",
            "Requirement already satisfied: tqdm>=4.27 in /usr/local/lib/python3.7/dist-packages (from transformers) (4.41.1)\n",
            "Requirement already satisfied: tokenizers<0.11,>=0.10.1 in /usr/local/lib/python3.7/dist-packages (from transformers) (0.10.2)\n",
            "Requirement already satisfied: importlib-metadata; python_version < \"3.8\" in /usr/local/lib/python3.7/dist-packages (from transformers) (3.8.1)\n",
            "Requirement already satisfied: pyparsing>=2.0.2 in /usr/local/lib/python3.7/dist-packages (from packaging->transformers) (2.4.7)\n",
            "Requirement already satisfied: certifi>=2017.4.17 in /usr/local/lib/python3.7/dist-packages (from requests->transformers) (2020.12.5)\n",
            "Requirement already satisfied: chardet<4,>=3.0.2 in /usr/local/lib/python3.7/dist-packages (from requests->transformers) (3.0.4)\n",
            "Requirement already satisfied: idna<3,>=2.5 in /usr/local/lib/python3.7/dist-packages (from requests->transformers) (2.10)\n",
            "Requirement already satisfied: urllib3!=1.25.0,!=1.25.1,<1.26,>=1.21.1 in /usr/local/lib/python3.7/dist-packages (from requests->transformers) (1.24.3)\n",
            "Requirement already satisfied: joblib in /usr/local/lib/python3.7/dist-packages (from sacremoses->transformers) (1.0.1)\n",
            "Requirement already satisfied: six in /usr/local/lib/python3.7/dist-packages (from sacremoses->transformers) (1.15.0)\n",
            "Requirement already satisfied: click in /usr/local/lib/python3.7/dist-packages (from sacremoses->transformers) (7.1.2)\n",
            "Requirement already satisfied: typing-extensions>=3.6.4; python_version < \"3.8\" in /usr/local/lib/python3.7/dist-packages (from importlib-metadata; python_version < \"3.8\"->transformers) (3.7.4.3)\n",
            "Requirement already satisfied: zipp>=0.5 in /usr/local/lib/python3.7/dist-packages (from importlib-metadata; python_version < \"3.8\"->transformers) (3.4.1)\n"
          ],
          "name": "stdout"
        }
      ]
    },
    {
      "cell_type": "markdown",
      "metadata": {
        "id": "sLdW3FOcIRqi"
      },
      "source": [
        "## 2.1 The 'Pipeline' Interface\n",
        "\n",
        "The simplest way to use the HuggingFace library is to use their [Pipeline interface](https://huggingface.co/transformers/main_classes/pipelines.html)\n",
        "\n",
        "There are many different types of Pipelines available but in this section we'll use the TextGenerationPipeline to get up and running with pretrained gpt2 as fast as possible"
      ]
    },
    {
      "cell_type": "code",
      "metadata": {
        "id": "DpOwY1ZVOew4"
      },
      "source": [
        "from transformers import pipeline"
      ],
      "execution_count": 1,
      "outputs": []
    },
    {
      "cell_type": "code",
      "metadata": {
        "id": "-MCgVfPSG8Sg"
      },
      "source": [
        "# Note: device=0 means to use GPU, device=-1 is to use CPU\n",
        "generator = pipeline('text-generation', model='gpt2', device=0) "
      ],
      "execution_count": 3,
      "outputs": []
    },
    {
      "cell_type": "code",
      "metadata": {
        "id": "H_gc4VRmHCHA",
        "colab": {
          "base_uri": "https://localhost:8080/"
        },
        "outputId": "b98a9af1-4307-4527-d5e2-e94a4c15a460"
      },
      "source": [
        "outputs = generator('I wonder what I will generate?')\n",
        "print(outputs)"
      ],
      "execution_count": 4,
      "outputs": [
        {
          "output_type": "stream",
          "text": [
            "Setting `pad_token_id` to `eos_token_id`:50256 for open-end generation.\n"
          ],
          "name": "stderr"
        },
        {
          "output_type": "stream",
          "text": [
            "[{'generated_text': 'I wonder what I will generate? I have not seen a single word!\" said S.M., who had been absent on an attempt to get in touch in the past few days.\\n\\nS.M. was referring to the lack of electricity'}]\n"
          ],
          "name": "stdout"
        }
      ]
    },
    {
      "cell_type": "markdown",
      "metadata": {
        "id": "vWDdGag_UrkA"
      },
      "source": [
        "Note that the 'text-generation' pipeline will work with any **auto-regressive** language model (a.k.a 'causal-lm' models according to the HuggingFace lingo). You can find a list of all such models here https://huggingface.co/models?filter=causal-lm. \n",
        "\n",
        "(6 pts) **Your first task is to use the Pipeline interface to get generation output below for at least two different 'causal-lm' models (One of these two can be a different version of GPT2, but make sure at least one is a non-gpt family language model)**"
      ]
    },
    {
      "cell_type": "code",
      "metadata": {
        "id": "vYbWdguUU2Bl",
        "colab": {
          "base_uri": "https://localhost:8080/",
          "height": 316,
          "referenced_widgets": [
            "f34571feb6f94589917e23c0ec6a0d36",
            "e381f36fb5234ebe9f97596d567ad6fc",
            "38f9916768a54f0f8b5f62db2172db2a",
            "29183b98eef640be87fba77c7549d50f",
            "8f2cd40e5fea4e93afed7a96b8411259",
            "4eff5098d5864384943f7b415397bc72",
            "b60b4ecd910b4a0596e265146cb598bf",
            "b7af1851b5124627935bb1e45c7a5536",
            "1ffb5c9dd77c49a7959feb70c00e490b",
            "4b3561f241854414a34df1df65199fc0",
            "a800db999f904dc5aa1b7af588000368",
            "04464346ce144f33afa2be5311eef7ab",
            "6d0b64cc7ac045bdaa63a951facdb14b",
            "827e95cb2375436e900ba020d1c3988a",
            "6ceea65cc42441449ba88b27aea29168",
            "0fda4fc7e2174196b4cfe72cbcb57f1f",
            "acb7895163254a18be2b20a6d7a1b030",
            "4fb13e741718424e9d9983e1edfcb7f8",
            "3c9ba514c4f04306b1ed1b4927292844",
            "cc25daa4207842f8a5b7b23f966b6b05",
            "3272b8a3493147a3a59325974b57a830",
            "fb14909ac2d046b4a25c6ee2863e3612",
            "71e3f5e86d9b42289979960aec14c759",
            "9436cc09f6ec47f8ba86adac388eadae",
            "b23b43a817db4adf8200e629c1d6b7ec",
            "97bd75358c6e4edab50aa6644e33f4fd",
            "e36fbfc52cc8444180b5899c68d6f755",
            "3a42d68252aa4d028fb8aec2ffed2afd",
            "76831104a1a645da804afd7e8d8aa198",
            "bb34d28bb5854052995f71feff46b21f",
            "9c683809180b4f5fabc307e56bc09f6e",
            "f0d4a9b46bb74a7e8c6ddb0c0fa7076e",
            "285d9114728b4d13bd4e5c5e548020d6",
            "7f20d44351c142f4ba1ffc4b4a810399",
            "3761fdadaaaf4dcc80d85a0a971e2461",
            "1cbb829acff24e50b2fbbbb30b0246e4",
            "812a48e0b1c7485d807ba0acbf208948",
            "8849dce8e2ff4c6c8fe75ab301598927",
            "5047b60b3cff47b59e7167c00fbff13c",
            "a58d540a86eb431a8444007a954c30c7"
          ]
        },
        "outputId": "7efdb495-3ded-4dfc-a383-6fe2fab90aa6"
      },
      "source": [
        "## YOUR CODE HERE FOR MODEL 1\n",
        "generator1 = pipeline('text-generation', model='distilgpt2', device=0) \n",
        "output1 = generator1('I wonder what I will generate?')\n",
        "print(output1)"
      ],
      "execution_count": 3,
      "outputs": [
        {
          "output_type": "display_data",
          "data": {
            "application/vnd.jupyter.widget-view+json": {
              "model_id": "f34571feb6f94589917e23c0ec6a0d36",
              "version_minor": 0,
              "version_major": 2
            },
            "text/plain": [
              "HBox(children=(FloatProgress(value=0.0, description='Downloading', max=762.0, style=ProgressStyle(description_…"
            ]
          },
          "metadata": {
            "tags": []
          }
        },
        {
          "output_type": "stream",
          "text": [
            "\n"
          ],
          "name": "stdout"
        },
        {
          "output_type": "display_data",
          "data": {
            "application/vnd.jupyter.widget-view+json": {
              "model_id": "1ffb5c9dd77c49a7959feb70c00e490b",
              "version_minor": 0,
              "version_major": 2
            },
            "text/plain": [
              "HBox(children=(FloatProgress(value=0.0, description='Downloading', max=352833716.0, style=ProgressStyle(descri…"
            ]
          },
          "metadata": {
            "tags": []
          }
        },
        {
          "output_type": "stream",
          "text": [
            "\n"
          ],
          "name": "stdout"
        },
        {
          "output_type": "display_data",
          "data": {
            "application/vnd.jupyter.widget-view+json": {
              "model_id": "acb7895163254a18be2b20a6d7a1b030",
              "version_minor": 0,
              "version_major": 2
            },
            "text/plain": [
              "HBox(children=(FloatProgress(value=0.0, description='Downloading', max=1042301.0, style=ProgressStyle(descript…"
            ]
          },
          "metadata": {
            "tags": []
          }
        },
        {
          "output_type": "stream",
          "text": [
            "\n"
          ],
          "name": "stdout"
        },
        {
          "output_type": "display_data",
          "data": {
            "application/vnd.jupyter.widget-view+json": {
              "model_id": "b23b43a817db4adf8200e629c1d6b7ec",
              "version_minor": 0,
              "version_major": 2
            },
            "text/plain": [
              "HBox(children=(FloatProgress(value=0.0, description='Downloading', max=456318.0, style=ProgressStyle(descripti…"
            ]
          },
          "metadata": {
            "tags": []
          }
        },
        {
          "output_type": "stream",
          "text": [
            "\n"
          ],
          "name": "stdout"
        },
        {
          "output_type": "display_data",
          "data": {
            "application/vnd.jupyter.widget-view+json": {
              "model_id": "285d9114728b4d13bd4e5c5e548020d6",
              "version_minor": 0,
              "version_major": 2
            },
            "text/plain": [
              "HBox(children=(FloatProgress(value=0.0, description='Downloading', max=1355256.0, style=ProgressStyle(descript…"
            ]
          },
          "metadata": {
            "tags": []
          }
        },
        {
          "output_type": "stream",
          "text": [
            "\n"
          ],
          "name": "stdout"
        },
        {
          "output_type": "stream",
          "text": [
            "Setting `pad_token_id` to `eos_token_id`:50256 for open-end generation.\n"
          ],
          "name": "stderr"
        },
        {
          "output_type": "stream",
          "text": [
            "[{'generated_text': \"I wonder what I will generate? For me, and for the rest of the world, I wonder if those on one side have the right to create so many different, and then I wonder what I will create.\\n\\nI haven't really gotten\"}]\n"
          ],
          "name": "stdout"
        }
      ]
    },
    {
      "cell_type": "code",
      "metadata": {
        "id": "lZLHYzr4U54s",
        "colab": {
          "base_uri": "https://localhost:8080/",
          "height": 250,
          "referenced_widgets": [
            "fd4a2396ee194be3bbecf9f6ca8fde7a",
            "5373b6bd08574d9d858c728706ab8916",
            "d5ba377a120d4a2e985c6706a0051a84",
            "e07ad1f2910e43269728b8dafe881397",
            "d992786d0c4a4fed8edb6df96ddcdf01",
            "aeb8f2a2cd2e43de9bb1edb232e219eb",
            "e7971f183f5446c7aba50fb84f1ef0c8",
            "d09a930e85fc4b508c9eeeadc59899bb",
            "7d5ed852b0e94c8fb82682bcc76b0abd",
            "c4c820793b824f6e97c4fc48b2d35965",
            "16acd3807b2945aaa73993628a0e8c53",
            "5d571006a9a54194b9f5b5f03be90f60",
            "708d66d351d54678bc32fbe07abe44d1",
            "49114918f7ed488ba5eea9d0ebf521d3",
            "5e9f9820c4324a2fa47c236f37474601",
            "ff0c5ed00dba4ae49f85b98bedd12143",
            "33100287556c47da84a0ddeadc612c70",
            "9b7d9e6ddb574a9cbfa5c56ac652c399",
            "321635cf46b9472580393bf6d92f3466",
            "44697d2e86884ac1a042ed6b144b2c38",
            "ff554915f2484cfc8484f5927f90cd34",
            "fed75cf4f04b474aac922ababf4e2cbe",
            "5f86e1087dab458e83d1da8778f9315e",
            "12fa410a12e64fb281ee6824ea0924a4",
            "e773db47244545f893c71145a3f900b6",
            "4d7a3833594d46b9b306ee21a75951ca",
            "4746f07c35954ee5b5ccfad5a0913c47",
            "f9646643ef4e456f983b256872ec2e56",
            "c272db4c20ff457eadc50e2b53d8a0cb",
            "7a79145cbbee4a1d82e9358d42e37605",
            "795036c61d1a47f1a2940a036b9be28d",
            "148fad73b50b4719bd59bdbb3b52b7cd"
          ]
        },
        "outputId": "62e15894-914f-4597-805f-6d92a2072e5a"
      },
      "source": [
        "## YOUR CODE HERE FOR MODEL 2\n",
        "generator2 = pipeline('text-generation', model='xlnet-base-cased', device=0) \n",
        "output2 = generator2('I wonder what I will generate?')\n",
        "print(output2)"
      ],
      "execution_count": 4,
      "outputs": [
        {
          "output_type": "display_data",
          "data": {
            "application/vnd.jupyter.widget-view+json": {
              "model_id": "fd4a2396ee194be3bbecf9f6ca8fde7a",
              "version_minor": 0,
              "version_major": 2
            },
            "text/plain": [
              "HBox(children=(FloatProgress(value=0.0, description='Downloading', max=760.0, style=ProgressStyle(description_…"
            ]
          },
          "metadata": {
            "tags": []
          }
        },
        {
          "output_type": "stream",
          "text": [
            "\n"
          ],
          "name": "stdout"
        },
        {
          "output_type": "display_data",
          "data": {
            "application/vnd.jupyter.widget-view+json": {
              "model_id": "7d5ed852b0e94c8fb82682bcc76b0abd",
              "version_minor": 0,
              "version_major": 2
            },
            "text/plain": [
              "HBox(children=(FloatProgress(value=0.0, description='Downloading', max=467042463.0, style=ProgressStyle(descri…"
            ]
          },
          "metadata": {
            "tags": []
          }
        },
        {
          "output_type": "stream",
          "text": [
            "\n"
          ],
          "name": "stdout"
        },
        {
          "output_type": "display_data",
          "data": {
            "application/vnd.jupyter.widget-view+json": {
              "model_id": "33100287556c47da84a0ddeadc612c70",
              "version_minor": 0,
              "version_major": 2
            },
            "text/plain": [
              "HBox(children=(FloatProgress(value=0.0, description='Downloading', max=798011.0, style=ProgressStyle(descripti…"
            ]
          },
          "metadata": {
            "tags": []
          }
        },
        {
          "output_type": "stream",
          "text": [
            "\n"
          ],
          "name": "stdout"
        },
        {
          "output_type": "display_data",
          "data": {
            "application/vnd.jupyter.widget-view+json": {
              "model_id": "e773db47244545f893c71145a3f900b6",
              "version_minor": 0,
              "version_major": 2
            },
            "text/plain": [
              "HBox(children=(FloatProgress(value=0.0, description='Downloading', max=1382015.0, style=ProgressStyle(descript…"
            ]
          },
          "metadata": {
            "tags": []
          }
        },
        {
          "output_type": "stream",
          "text": [
            "\n",
            "[{'generated_text': 'I wonder what I will generate? If I don’t have a net about what will happen to a net? Are there any chances for me to do something not good for the net? Will it be in the future of that web? How in the world is it going to go with any technology? The net might be a good thing for this internet. We have a whole galaxy of things. The web will be'}]\n"
          ],
          "name": "stdout"
        }
      ]
    },
    {
      "cell_type": "markdown",
      "metadata": {
        "id": "joicqRgHJHcW"
      },
      "source": [
        "## 2.2 Dissecting the Pipeline\n",
        "Now that was easy!\n",
        "\n",
        "As beautiful and easy as the Pipeline interface is, we want to know what's going on under the hood!\n",
        "\n",
        "There are four main steps to a text generation pipeline:\n",
        "1. (Tokenize) Turn the raw input text into a vector of integer token IDs using a tokenizer\n",
        "\n",
        "2. (Encode) Feed those token IDs into the language model by querying for each token's embedding in the model's embedding matrix (the \"encoder\") and then feed the \"encoded\" sequence into the decoder module\n",
        "\n",
        "3. (Decode) The decoder will output logits (a probability distribution over all possible integer token IDs) and we sample from those logits to get our next token -- repeat until EOS token is generated or we hit max_length\n",
        "\n",
        "4. (Detokenize) Take the output sequence of token IDs and turn them from integer token IDs back to tokens with the tokenizer\n",
        "\n",
        "Below you'll see how HuggingFace does this:\n",
        "\n",
        "First we have to initialize both the tokenizer and the model from their pre-trained checkpoints. Note that the tokenizer has to match the model."
      ]
    },
    {
      "cell_type": "code",
      "metadata": {
        "id": "nRgGzAuTJakH"
      },
      "source": [
        "from transformers import AutoTokenizer, AutoModelForCausalLM\n",
        "\n",
        "tokenizer = AutoTokenizer.from_pretrained('gpt2')\n",
        "model = AutoModelForCausalLM.from_pretrained('gpt2').cuda()"
      ],
      "execution_count": 2,
      "outputs": []
    },
    {
      "cell_type": "code",
      "metadata": {
        "id": "azhDlBgYM9bP",
        "colab": {
          "base_uri": "https://localhost:8080/"
        },
        "outputId": "70e02c6e-7a97-43aa-b5e5-d0ac631ab3de"
      },
      "source": [
        "#### Step 1: Tokenize the input into integer token IDs\n",
        "inputs = tokenizer.encode(\"Hello, how are you?\", return_tensors='pt').to(model.device)\n",
        "print(\"Input Token IDs: \" + str(inputs))"
      ],
      "execution_count": 6,
      "outputs": [
        {
          "output_type": "stream",
          "text": [
            "Input Token IDs: tensor([[15496,    11,   703,   389,   345,    30]], device='cuda:0')\n"
          ],
          "name": "stdout"
        }
      ]
    },
    {
      "cell_type": "code",
      "metadata": {
        "id": "zaFR6j-5Rz6C",
        "colab": {
          "base_uri": "https://localhost:8080/"
        },
        "outputId": "1c2391ad-5bb6-45a6-8ec9-104ec331b085"
      },
      "source": [
        "#### Step 2 and 3: Feed in the integer token IDs and get out a sequence of token IDs as output\n",
        "outputs = model.generate(inputs)\n",
        "print(\"Output Token IDs: \" + str(outputs))"
      ],
      "execution_count": 7,
      "outputs": [
        {
          "output_type": "stream",
          "text": [
            "Setting `pad_token_id` to `eos_token_id`:50256 for open-end generation.\n"
          ],
          "name": "stderr"
        },
        {
          "output_type": "stream",
          "text": [
            "Output Token IDs: tensor([[15496,    11,   703,   389,   345,    30,   198,   198,    40,  1101,\n",
            "           257,  1310,  1643,   286,   257, 34712,    13,   314,  1101,   257]],\n",
            "       device='cuda:0')\n"
          ],
          "name": "stdout"
        }
      ]
    },
    {
      "cell_type": "code",
      "metadata": {
        "id": "tO1NWK9DSD8u",
        "colab": {
          "base_uri": "https://localhost:8080/"
        },
        "outputId": "00ca2491-2725-4ddb-b484-711683eb8e18"
      },
      "source": [
        "#### Step 4: Feed in the integer token IDs and get out a sequence of token IDs as output\n",
        "output_text = [tokenizer.decode(x) for x in outputs]\n",
        "print(\"Output Text: \" + str(output_text))"
      ],
      "execution_count": 8,
      "outputs": [
        {
          "output_type": "stream",
          "text": [
            "Output Text: [\"Hello, how are you?\\n\\nI'm a little bit of a nerd. I'm a\"]\n"
          ],
          "name": "stdout"
        }
      ]
    },
    {
      "cell_type": "markdown",
      "metadata": {
        "id": "yNRN-CfvOiU0"
      },
      "source": [
        "Now that you have dissected the pipeline, it's time to play with some common parameters!\n",
        "\n",
        "[Check out this demo notebook from HuggingFace](https://github.com/huggingface/blog/blob/master/notebooks/02_how_to_generate.ipynb) for a good overview of the different generation parameters and what they do (with example code!).\n",
        "\n",
        "The full documentation on all of the parameters you can use in the generate function can be found [here](https://huggingface.co/transformers/main_classes/model.html#transformers.generation_utils.GenerationMixin.generate)\n",
        "\n",
        "As an example, below we have a call to generate that:\n",
        "- randomly samples from the top 50 words in the output distribution (rather than just greedily picking the best one every time)\n",
        "- downweights the probability of all previously generated tokens by a factor of 1.2 (to prevent repetition)\n",
        "- goes on for 512 tokens, because its more interesting"
      ]
    },
    {
      "cell_type": "code",
      "metadata": {
        "id": "8fNJ5InvTtgm",
        "colab": {
          "base_uri": "https://localhost:8080/"
        },
        "outputId": "ebf6132e-71be-4434-8770-969d42232036"
      },
      "source": [
        "inputs = tokenizer.encode(\"Hello, how are you?\", return_tensors='pt').to(model.device)\n",
        "outputs = model.generate(\n",
        "      inputs,\n",
        "      do_sample=True,          # Randomly sample from the logits instead of greedily picking next word with highest probability\n",
        "      top_k=50,                 # Only sample from the top 50 most likely words\n",
        "      repetition_penalty=1.2,    # Downweights the probability of all previously generated tokens by a factor of 1.2\n",
        "      max_length=512          # Generate for a maximum of 512 tokens\n",
        "  )\n",
        "print([tokenizer.decode(x) for x in outputs][0])\n"
      ],
      "execution_count": 9,
      "outputs": [
        {
          "output_type": "stream",
          "text": [
            "Setting `pad_token_id` to `eos_token_id`:50256 for open-end generation.\n"
          ],
          "name": "stderr"
        },
        {
          "output_type": "stream",
          "text": [
            "Hello, how are you? When did this happen?\" she asked.\n",
            "\"It was shortly after I arrived at the restaurant two nights ago,\" Kana told me last week in a letter from North Korea to New York police about her life and future situation on Wall Street as part of an effort by his father-inlaw, Kim Jong Il (Kim Kardashian), against both East Asia's powerful central banks that would face sanctions due to their actions leading up into September 12th 2011 through June 24rd 2012 which had been ordered according what many Korean saw first hand when they heard it happening during Operation Enduring Freedom held around 30 times over 2 weeks earlier every year for four years between late 2005; \"this is where we came here today\". My family made arrangements with friends or relatives involved with foreign companies under my name not to travel internationally but just so people knew who were working if there ever existed anyone like them living out these same problems - those very questions became one thing even before our young adult couple began buying tickets back home without telling themselves more.\" She says while talking down all details other than age/financial condition might have prompted some concern among Koreans though he denies any financial influence whatsoever:\n",
            "\n",
            "...I don't know whether anything has altered your mind since then....but although none of us wants everything go away anymore.......well.. maybe now will soon..... [continued] http://www2ndhandoffreedom.com<|endoftext|>\n"
          ],
          "name": "stdout"
        }
      ]
    },
    {
      "cell_type": "markdown",
      "metadata": {
        "id": "ZSb6SAgnV4GD"
      },
      "source": [
        "**Your job is to provide two different examples of generation output from GPT-2 with different choices of generation parameters. You must also provide a 1-2 sentence explanation of what these parameters do and how they affect your output**\n",
        "\n",
        "Feel free to get creative with this! Really poke around and try to find the combination of settings that gives you the best sounding text! The ways in which these parameters affect how 'human-like' a section of generated text sounds is an area of active research. :)"
      ]
    },
    {
      "cell_type": "code",
      "metadata": {
        "id": "b3VcRifdWRNf",
        "colab": {
          "base_uri": "https://localhost:8080/"
        },
        "outputId": "6cd4e5ef-e240-48e2-e898-153a5ae4fb42"
      },
      "source": [
        "## YOUR CODE HERE FOR HYPERPARAMETER VARIATION 1\n",
        "inputs = tokenizer.encode(\"Hello, how are you?\", return_tensors='pt').to(model.device)\n",
        "outputs = model.generate(\n",
        "      inputs,\n",
        "      max_length=512,          # Generate for a maximum of 512 tokens\n",
        "      num_beams=5,  # Keep the most likely 5 of hypotheses at each time step\n",
        "      no_repeat_ngram_size=2 # all 2-grams can only occur once\n",
        "  )\n",
        "print([tokenizer.decode(x) for x in outputs][0])"
      ],
      "execution_count": 10,
      "outputs": [
        {
          "output_type": "stream",
          "text": [
            "Setting `pad_token_id` to `eos_token_id`:50256 for open-end generation.\n"
          ],
          "name": "stderr"
        },
        {
          "output_type": "stream",
          "text": [
            "Hello, how are you?\n",
            "\n",
            "\"I'm fine,\" I said. \"It's just that I don't know what to do with myself. I'm not sure if I'll ever be able to get out of here. It's been a long time since I've been here, and I can't even remember how long it took me to find my way back to my home.\"\n",
            "... \"Well, I guess you're right,\" he said, \"I guess it's a little bit of a shock to hear that, but I think you've got a lot of things to worry about, right? I mean, there's no way I could ever get back home without you. You're the only person I know who's ever been to a place like this before. So, what do you think? Do you want to go back? Or is there something else you'd like to talk to me about?\" He looked at me for a moment, then looked back at the door. He didn't say a word. Then he turned and walked back into the living room, where I was sitting on the couch, staring at my phone. The phone was still ringing, so I turned it off and went to turn it back on again. As I did so, the phone started to ring again, which made me realize that it was the same one that had been ringing the whole time I'd been there. And that's when I realized that there was something I needed to tell him. Something that would make him feel better about what he'd just done. But I couldn't do it, because I wasn't sure what I wanted to say to him, or how I would feel about it. That's why I decided to ask him a few questions. First of all, did you know that you were going to have to leave the country? And, second, was there anything you wanted him to know about your situation? What would you do if he told you that he wanted you to stay in the U.S.? And third, if you had any questions about the situation, would he tell you anything about how you could help him find you a new home? So I asked him the following questions: 1. How long have you been living here? 2. What is your current status? 3. If you have any other questions, please feel free to contact me at [email protected]. I will try to answer them as quickly as possible. Thank you very much for your time and consideration.<|endoftext|>\n"
          ],
          "name": "stdout"
        }
      ]
    },
    {
      "cell_type": "markdown",
      "metadata": {
        "id": "D-4Xj-9mXNNF"
      },
      "source": [
        "(4 pts) If we add no_repeat_ngram_size as above then all 2-grams will only appear once, which reduces repetition when we use multiple beams, since when there are multiple beams we are likly to have the same generated text again and again."
      ]
    },
    {
      "cell_type": "code",
      "metadata": {
        "id": "FosxFhqoWUsG",
        "colab": {
          "base_uri": "https://localhost:8080/"
        },
        "outputId": "f8d3d82b-4b85-4b21-a5db-ea1d9eb8adae"
      },
      "source": [
        "## YOUR CODE HERE FOR HYPERPARAMETER VARIATION 2\n",
        "inputs = tokenizer.encode(\"Hello, how are you?\", return_tensors='pt').to(model.device)\n",
        "outputs = model.generate(\n",
        "      inputs,\n",
        "      max_length=512,          # Generate for a maximum of 512 tokens\n",
        "      do_sample=True, \n",
        "      top_p=0.95\n",
        "  )\n",
        "print([tokenizer.decode(x) for x in outputs][0])"
      ],
      "execution_count": 11,
      "outputs": [
        {
          "output_type": "stream",
          "text": [
            "Setting `pad_token_id` to `eos_token_id`:50256 for open-end generation.\n"
          ],
          "name": "stderr"
        },
        {
          "output_type": "stream",
          "text": [
            "Hello, how are you? You are a friend of mine, my mother-in-law. I'm going to be here forever, just a little bit before you die. But wait a minute, my name is Don and I'm here for you, to be the new, beautiful woman.\"\n",
            "\n",
            "Don nodded.\n",
            "\n",
            "She took a deep breath and spoke softly, \"No one ever told me, I've been through so many people I've turned into the other side of the world. I love you dearly, but I know the love isn't worth anything, and if they think I'm a jerk, let me tell them I'm a good person and they should know that.\"\n",
            "\n",
            "He sighed. \"You're a good person, man. I really appreciate that. So why don't we try a bit of magic in your life? I was supposed to take you from me, to save you from that world, but that didn't happen. It could be better for us to get some rest in the meantime, maybe a little bit of time, you know?\"\n",
            "\n",
            "They spoke like they were separated, Don not having told the whole story. It was a new kind of friendship, of the true friends who have loved each other for years. Don felt he deserved to be in that part of the world that he hated and he needed something from her. And now they were just making sure she understood that. Don couldn't stay here for long.\n",
            "\n",
            "\"What are you going to say to that?\" she asked after a while.\n",
            "\n",
            "\"I'll say that my family is my home. I will go to the gym as often as possible.\"\n",
            "\n",
            "\"What?\" Don looked at her. His heart dropped hard, he shook his head.\n",
            "\n",
            "\"I'll call you Don,\" she said firmly and Don knew it, just like he knew it.\n",
            "\n",
            "Then he remembered.\n",
            "\n",
            "So did he.\n",
            "\n",
            "In the next instant he was a friend who knew it and she was a love of his. So he started saying things to her that she might not agree with.\n",
            "\n",
            "He didn't say anything back until the last moment. He stared.\n",
            "\n",
            "\"Don't worry. I'm your friend and I like you for being where you are,\" she said, and he saw her heart beating faster than she ever has. \"Please know that I respect that. I have everything you deserve and I care a lot about you. Thank you for everything.\"\n",
            "\n",
            "His heart sank\n"
          ],
          "name": "stdout"
        }
      ]
    },
    {
      "cell_type": "markdown",
      "metadata": {
        "id": "r8G2LIiIWX5R"
      },
      "source": [
        "(4 pts) When do_sample is set to True, we have top_k be 50 as default, and set the top_p to be 0.95, which means that only the most probable tokens with probabilities that add up to 0.95 or higher are kept for generation."
      ]
    },
    {
      "cell_type": "markdown",
      "metadata": {
        "id": "H3rz6Nd2XUXc"
      },
      "source": [
        "## 2.3 Fine-Tuning GPT-2\n",
        "Okay now time for the best part!\n",
        "\n",
        "Generating general-purpose text from pre-trained models is great, but what if we want our text to be in a specific genre or style? Luckily for us, the GPT family of models use the idea of \"Transfer learning\" -- using knowledge gained from one problem (or training setting), and applying it to another area or domain. The idea of transfer learning for NLP, is that we can train a language model on general texts, and then adapt it to use it for a specific task or domain that we're interested in. This process is also called **fine-tuning**.\n",
        "\n",
        "In this section we'll walk you through an example of using HuggingFace to fine-tune GPT-2 and then you'll be asked to fine-tune GPT-2 on two datasets of your own choosing!"
      ]
    },
    {
      "cell_type": "markdown",
      "metadata": {
        "id": "vtTdNBlOckGX"
      },
      "source": [
        "### Fine-Tuning Example using HuggingFace Datasets library: Crime and Punishment\n",
        "\n",
        "For our fine-tuning example we're going to train GPT-2 to mimic the style of Fyodor Dostoevsky's novel \"Crime and Punishment\"\n",
        "\n",
        "We will be downloading our data using the HuggingFace [Datasets](https://huggingface.co/docs/datasets/) library."
      ]
    },
    {
      "cell_type": "code",
      "metadata": {
        "id": "ZGUNYK5M4iMa",
        "colab": {
          "base_uri": "https://localhost:8080/"
        },
        "outputId": "45fb6f47-8d42-4be0-dda2-3bcf40b166a8"
      },
      "source": [
        "!pip install datasets"
      ],
      "execution_count": 12,
      "outputs": [
        {
          "output_type": "stream",
          "text": [
            "Requirement already satisfied: datasets in /usr/local/lib/python3.7/dist-packages (1.5.0)\n",
            "Requirement already satisfied: importlib-metadata; python_version < \"3.8\" in /usr/local/lib/python3.7/dist-packages (from datasets) (3.8.1)\n",
            "Requirement already satisfied: pandas in /usr/local/lib/python3.7/dist-packages (from datasets) (1.1.5)\n",
            "Requirement already satisfied: numpy>=1.17 in /usr/local/lib/python3.7/dist-packages (from datasets) (1.19.5)\n",
            "Requirement already satisfied: xxhash in /usr/local/lib/python3.7/dist-packages (from datasets) (2.0.0)\n",
            "Requirement already satisfied: multiprocess in /usr/local/lib/python3.7/dist-packages (from datasets) (0.70.11.1)\n",
            "Requirement already satisfied: fsspec in /usr/local/lib/python3.7/dist-packages (from datasets) (0.9.0)\n",
            "Requirement already satisfied: pyarrow>=0.17.1 in /usr/local/lib/python3.7/dist-packages (from datasets) (3.0.0)\n",
            "Requirement already satisfied: dill in /usr/local/lib/python3.7/dist-packages (from datasets) (0.3.3)\n",
            "Requirement already satisfied: huggingface-hub<0.1.0 in /usr/local/lib/python3.7/dist-packages (from datasets) (0.0.8)\n",
            "Requirement already satisfied: tqdm<4.50.0,>=4.27 in /usr/local/lib/python3.7/dist-packages (from datasets) (4.41.1)\n",
            "Requirement already satisfied: requests>=2.19.0 in /usr/local/lib/python3.7/dist-packages (from datasets) (2.23.0)\n",
            "Requirement already satisfied: zipp>=0.5 in /usr/local/lib/python3.7/dist-packages (from importlib-metadata; python_version < \"3.8\"->datasets) (3.4.1)\n",
            "Requirement already satisfied: typing-extensions>=3.6.4; python_version < \"3.8\" in /usr/local/lib/python3.7/dist-packages (from importlib-metadata; python_version < \"3.8\"->datasets) (3.7.4.3)\n",
            "Requirement already satisfied: pytz>=2017.2 in /usr/local/lib/python3.7/dist-packages (from pandas->datasets) (2018.9)\n",
            "Requirement already satisfied: python-dateutil>=2.7.3 in /usr/local/lib/python3.7/dist-packages (from pandas->datasets) (2.8.1)\n",
            "Requirement already satisfied: filelock in /usr/local/lib/python3.7/dist-packages (from huggingface-hub<0.1.0->datasets) (3.0.12)\n",
            "Requirement already satisfied: chardet<4,>=3.0.2 in /usr/local/lib/python3.7/dist-packages (from requests>=2.19.0->datasets) (3.0.4)\n",
            "Requirement already satisfied: idna<3,>=2.5 in /usr/local/lib/python3.7/dist-packages (from requests>=2.19.0->datasets) (2.10)\n",
            "Requirement already satisfied: urllib3!=1.25.0,!=1.25.1,<1.26,>=1.21.1 in /usr/local/lib/python3.7/dist-packages (from requests>=2.19.0->datasets) (1.24.3)\n",
            "Requirement already satisfied: certifi>=2017.4.17 in /usr/local/lib/python3.7/dist-packages (from requests>=2.19.0->datasets) (2020.12.5)\n",
            "Requirement already satisfied: six>=1.5 in /usr/local/lib/python3.7/dist-packages (from python-dateutil>=2.7.3->pandas->datasets) (1.15.0)\n"
          ],
          "name": "stdout"
        }
      ]
    },
    {
      "cell_type": "code",
      "metadata": {
        "id": "nsHEIKHS2_4O"
      },
      "source": [
        "from transformers import Trainer, TrainingArguments, DataCollatorForLanguageModeling\n",
        "import datasets\n",
        "from datasets import load_dataset, list_datasets"
      ],
      "execution_count": 3,
      "outputs": []
    },
    {
      "cell_type": "markdown",
      "metadata": {
        "id": "GyTmMnOVc_ab"
      },
      "source": [
        "### Step 1: Initialize a Brand New GPT-2 Model and Tokenizer"
      ]
    },
    {
      "cell_type": "code",
      "metadata": {
        "id": "L0JbWSYvQydJ"
      },
      "source": [
        "tokenizer = AutoTokenizer.from_pretrained('gpt2')\n",
        "tokenizer.pad_token = tokenizer.eos_token\n",
        "model = AutoModelForCausalLM.from_pretrained('gpt2').cuda()\n",
        "data_collator = DataCollatorForLanguageModeling(tokenizer=tokenizer, mlm=False)"
      ],
      "execution_count": 4,
      "outputs": []
    },
    {
      "cell_type": "markdown",
      "metadata": {
        "id": "TVMuJpwLdGWI"
      },
      "source": [
        "###Step 2: Load the text of \"Crime and Punishment\" and tokenize it\n",
        "\n",
        "The 'load_dataset' function queries for a dataset with a certain tag and downloads the corresponding data from HuggingFace's hosting site. This allows us to download all sorts of datasets through the same interface!\n",
        "\n",
        "The documentation for load_dataset can be found [here](https://huggingface.co/docs/datasets/package_reference/loading_methods.html#datasets.load_dataset)\n",
        "\n",
        "Here we take our tokenizer and run it on the entirety of Crime and Punishment in a single batch by using map on our custom encode function."
      ]
    },
    {
      "cell_type": "code",
      "metadata": {
        "id": "82TWhrUBHbGs",
        "colab": {
          "base_uri": "https://localhost:8080/"
        },
        "outputId": "07f2555e-21fb-4e9e-e034-8ed8ff99fb70"
      },
      "source": [
        "def encode(batch): return tokenizer([x.strip('\\n\\r') for x in batch['line']], truncation=True, padding=True)\n",
        "\n",
        "crime_and_punishment = load_dataset('crime_and_punish', split='train')\n",
        "processed = crime_and_punishment.map(encode, batched=True, batch_size=len(crime_and_punishment))\n",
        "processed.set_format('torch', columns=['input_ids', 'attention_mask'])"
      ],
      "execution_count": 13,
      "outputs": [
        {
          "output_type": "stream",
          "text": [
            "Reusing dataset crime_and_punish (/root/.cache/huggingface/datasets/crime_and_punish/crime-and-punish/1.0.0/87ec36ba9cb8741325bea3e40a6d4525210c8f8ef13e7b07872fe32eb72c13ac)\n",
            "Loading cached processed dataset at /root/.cache/huggingface/datasets/crime_and_punish/crime-and-punish/1.0.0/87ec36ba9cb8741325bea3e40a6d4525210c8f8ef13e7b07872fe32eb72c13ac/cache-afeb316fb7f9e767.arrow\n"
          ],
          "name": "stderr"
        }
      ]
    },
    {
      "cell_type": "markdown",
      "metadata": {
        "id": "tq-2h_RQeYqe"
      },
      "source": [
        "### Step 3: Initialize the Trainer\n",
        "\n",
        "The 'Trainer' module is the main way we perform fine-tuning. In order to initialize a Trainer, you need a model, tokenizer, TrainingArguments, your training data (in a Dataset object) and something called a data_collator (which tells the Trainer not to look for a vector of labels). "
      ]
    },
    {
      "cell_type": "code",
      "metadata": {
        "id": "3xYPXcIPADUB"
      },
      "source": [
        "training_args = TrainingArguments(\n",
        "    output_dir='/content/',\n",
        "    overwrite_output_dir=True,\n",
        "    num_train_epochs=1,\n",
        "    per_device_train_batch_size=16,\n",
        "    per_device_eval_batch_size=64,\n",
        "    logging_steps=100,\n",
        "    weight_decay=0.01,\n",
        "    logging_dir='./logs',\n",
        ")\n",
        "\n",
        "trainer = Trainer(\n",
        "    model=model,\n",
        "    tokenizer=tokenizer,\n",
        "    args=training_args,\n",
        "    data_collator=data_collator,\n",
        "    train_dataset=processed,\n",
        ")"
      ],
      "execution_count": 16,
      "outputs": []
    },
    {
      "cell_type": "markdown",
      "metadata": {
        "id": "Zrom-2JlfvET"
      },
      "source": [
        "### Step 4: Fine-Tune the Model!\n",
        "\n",
        "Now we're done! All we have to do is hit run and sit back!"
      ]
    },
    {
      "cell_type": "code",
      "metadata": {
        "id": "ui52Yu-pA9c3",
        "colab": {
          "base_uri": "https://localhost:8080/",
          "height": 515
        },
        "outputId": "f6c64b6e-1332-4104-9861-3167d1a0a05a"
      },
      "source": [
        "trainer.train()"
      ],
      "execution_count": 17,
      "outputs": [
        {
          "output_type": "display_data",
          "data": {
            "text/html": [
              "\n",
              "    <div>\n",
              "        <style>\n",
              "            /* Turns off some styling */\n",
              "            progress {\n",
              "                /* gets rid of default border in Firefox and Opera. */\n",
              "                border: none;\n",
              "                /* Needs to be in here for Safari polyfill so background images work as expected. */\n",
              "                background-size: auto;\n",
              "            }\n",
              "        </style>\n",
              "      \n",
              "      <progress value='1374' max='1374' style='width:300px; height:20px; vertical-align: middle;'></progress>\n",
              "      [1374/1374 06:19, Epoch 1/1]\n",
              "    </div>\n",
              "    <table border=\"1\" class=\"dataframe\">\n",
              "  <thead>\n",
              "    <tr style=\"text-align: left;\">\n",
              "      <th>Step</th>\n",
              "      <th>Training Loss</th>\n",
              "    </tr>\n",
              "  </thead>\n",
              "  <tbody>\n",
              "    <tr>\n",
              "      <td>100</td>\n",
              "      <td>4.001300</td>\n",
              "    </tr>\n",
              "    <tr>\n",
              "      <td>200</td>\n",
              "      <td>3.697400</td>\n",
              "    </tr>\n",
              "    <tr>\n",
              "      <td>300</td>\n",
              "      <td>3.662800</td>\n",
              "    </tr>\n",
              "    <tr>\n",
              "      <td>400</td>\n",
              "      <td>3.635400</td>\n",
              "    </tr>\n",
              "    <tr>\n",
              "      <td>500</td>\n",
              "      <td>3.592000</td>\n",
              "    </tr>\n",
              "    <tr>\n",
              "      <td>600</td>\n",
              "      <td>3.591000</td>\n",
              "    </tr>\n",
              "    <tr>\n",
              "      <td>700</td>\n",
              "      <td>3.536100</td>\n",
              "    </tr>\n",
              "    <tr>\n",
              "      <td>800</td>\n",
              "      <td>3.501100</td>\n",
              "    </tr>\n",
              "    <tr>\n",
              "      <td>900</td>\n",
              "      <td>3.507700</td>\n",
              "    </tr>\n",
              "    <tr>\n",
              "      <td>1000</td>\n",
              "      <td>3.487800</td>\n",
              "    </tr>\n",
              "    <tr>\n",
              "      <td>1100</td>\n",
              "      <td>3.466800</td>\n",
              "    </tr>\n",
              "    <tr>\n",
              "      <td>1200</td>\n",
              "      <td>3.473500</td>\n",
              "    </tr>\n",
              "    <tr>\n",
              "      <td>1300</td>\n",
              "      <td>3.498800</td>\n",
              "    </tr>\n",
              "  </tbody>\n",
              "</table><p>"
            ],
            "text/plain": [
              "<IPython.core.display.HTML object>"
            ]
          },
          "metadata": {
            "tags": []
          }
        },
        {
          "output_type": "execute_result",
          "data": {
            "text/plain": [
              "TrainOutput(global_step=1374, training_loss=3.5788374766165165, metrics={'train_runtime': 379.7802, 'train_samples_per_second': 3.618, 'total_flos': 574101809809920.0, 'epoch': 1.0, 'init_mem_cpu_alloc_delta': 0, 'init_mem_gpu_alloc_delta': 0, 'init_mem_cpu_peaked_delta': 0, 'init_mem_gpu_peaked_delta': 0, 'train_mem_cpu_alloc_delta': -558952448, 'train_mem_gpu_alloc_delta': 1498660864, 'train_mem_cpu_peaked_delta': 575156224, 'train_mem_gpu_peaked_delta': 1100962304})"
            ]
          },
          "metadata": {
            "tags": []
          },
          "execution_count": 17
        }
      ]
    },
    {
      "cell_type": "markdown",
      "metadata": {
        "id": "IJ_D6i-Wf4eV"
      },
      "source": [
        "### Step 5: Save the Model and use it to Generate!\n",
        "\n",
        "Save your fine-tuned model and compare its output with regular GPT-2's output to see the difference for yourself!"
      ]
    },
    {
      "cell_type": "code",
      "metadata": {
        "id": "xhRSQdbsS3fo"
      },
      "source": [
        "trainer.save_model('./dostoevskypt2')"
      ],
      "execution_count": 18,
      "outputs": []
    },
    {
      "cell_type": "code",
      "metadata": {
        "id": "vI8OQBmwTLF3"
      },
      "source": [
        "dostoevskypt2 = pipeline('text-generation', model='./dostoevskypt2', device=0)\n",
        "gpt2 = pipeline('text-generation', model='gpt2', device=0)"
      ],
      "execution_count": 19,
      "outputs": []
    },
    {
      "cell_type": "code",
      "metadata": {
        "id": "BwH-idynVTvl",
        "colab": {
          "base_uri": "https://localhost:8080/"
        },
        "outputId": "32f13b75-d708-42d1-9f40-b30af9259bb0"
      },
      "source": [
        "print(dostoevskypt2('Saint Petersburg is'))\n",
        "print(gpt2('Saint Petersburg is'))"
      ],
      "execution_count": 20,
      "outputs": [
        {
          "output_type": "stream",
          "text": [
            "Setting `pad_token_id` to `eos_token_id`:50256 for open-end generation.\n",
            "Setting `pad_token_id` to `eos_token_id`:50256 for open-end generation.\n"
          ],
          "name": "stderr"
        },
        {
          "output_type": "stream",
          "text": [
            "[{'generated_text': 'Saint Petersburg is no stranger to such men. One can hardly believe that you, _Pigmatism_. One knows that Porfiry Zagorsky has a great deal in common with Ivan Ilya Petrovitch and that Katerina'}]\n",
            "[{'generated_text': \"Saint Petersburg is home again for a very strong first-ever game and you should make no mistake about that. Their defense is still very good, but you have to be careful with how they run things now, or it's going to get worse.\"}]\n"
          ],
          "name": "stdout"
        }
      ]
    },
    {
      "cell_type": "markdown",
      "metadata": {
        "id": "DAtTbv1MSMoQ"
      },
      "source": [
        "## PERPLEXITY\n",
        "\n",
        "(3 pts) Using the pointer [here](https://huggingface.co/transformers/perplexity.html), compute the perplexity of the GPT2 pre-trained model on the Wikipedia test set (you can keep the same hyperparameters as in the link) "
      ]
    },
    {
      "cell_type": "code",
      "metadata": {
        "colab": {
          "base_uri": "https://localhost:8080/"
        },
        "id": "xaoOufTaIAiF",
        "outputId": "7188b6c2-42bf-4b98-8bb1-587e78782a3d"
      },
      "source": [
        "!pip install nlp"
      ],
      "execution_count": 21,
      "outputs": [
        {
          "output_type": "stream",
          "text": [
            "Collecting nlp\n",
            "\u001b[?25l  Downloading https://files.pythonhosted.org/packages/09/e3/bcdc59f3434b224040c1047769c47b82705feca2b89ebbc28311e3764782/nlp-0.4.0-py3-none-any.whl (1.7MB)\n",
            "\r\u001b[K     |▏                               | 10kB 11.1MB/s eta 0:00:01\r\u001b[K     |▍                               | 20kB 17.0MB/s eta 0:00:01\r\u001b[K     |▋                               | 30kB 15.2MB/s eta 0:00:01\r\u001b[K     |▉                               | 40kB 13.6MB/s eta 0:00:01\r\u001b[K     |█                               | 51kB 8.2MB/s eta 0:00:01\r\u001b[K     |█▏                              | 61kB 8.8MB/s eta 0:00:01\r\u001b[K     |█▍                              | 71kB 8.0MB/s eta 0:00:01\r\u001b[K     |█▋                              | 81kB 8.9MB/s eta 0:00:01\r\u001b[K     |█▉                              | 92kB 9.3MB/s eta 0:00:01\r\u001b[K     |██                              | 102kB 7.7MB/s eta 0:00:01\r\u001b[K     |██▏                             | 112kB 7.7MB/s eta 0:00:01\r\u001b[K     |██▍                             | 122kB 7.7MB/s eta 0:00:01\r\u001b[K     |██▋                             | 133kB 7.7MB/s eta 0:00:01\r\u001b[K     |██▊                             | 143kB 7.7MB/s eta 0:00:01\r\u001b[K     |███                             | 153kB 7.7MB/s eta 0:00:01\r\u001b[K     |███▏                            | 163kB 7.7MB/s eta 0:00:01\r\u001b[K     |███▍                            | 174kB 7.7MB/s eta 0:00:01\r\u001b[K     |███▋                            | 184kB 7.7MB/s eta 0:00:01\r\u001b[K     |███▊                            | 194kB 7.7MB/s eta 0:00:01\r\u001b[K     |████                            | 204kB 7.7MB/s eta 0:00:01\r\u001b[K     |████▏                           | 215kB 7.7MB/s eta 0:00:01\r\u001b[K     |████▍                           | 225kB 7.7MB/s eta 0:00:01\r\u001b[K     |████▌                           | 235kB 7.7MB/s eta 0:00:01\r\u001b[K     |████▊                           | 245kB 7.7MB/s eta 0:00:01\r\u001b[K     |█████                           | 256kB 7.7MB/s eta 0:00:01\r\u001b[K     |█████▏                          | 266kB 7.7MB/s eta 0:00:01\r\u001b[K     |█████▍                          | 276kB 7.7MB/s eta 0:00:01\r\u001b[K     |█████▌                          | 286kB 7.7MB/s eta 0:00:01\r\u001b[K     |█████▊                          | 296kB 7.7MB/s eta 0:00:01\r\u001b[K     |██████                          | 307kB 7.7MB/s eta 0:00:01\r\u001b[K     |██████▏                         | 317kB 7.7MB/s eta 0:00:01\r\u001b[K     |██████▎                         | 327kB 7.7MB/s eta 0:00:01\r\u001b[K     |██████▌                         | 337kB 7.7MB/s eta 0:00:01\r\u001b[K     |██████▊                         | 348kB 7.7MB/s eta 0:00:01\r\u001b[K     |███████                         | 358kB 7.7MB/s eta 0:00:01\r\u001b[K     |███████▏                        | 368kB 7.7MB/s eta 0:00:01\r\u001b[K     |███████▎                        | 378kB 7.7MB/s eta 0:00:01\r\u001b[K     |███████▌                        | 389kB 7.7MB/s eta 0:00:01\r\u001b[K     |███████▊                        | 399kB 7.7MB/s eta 0:00:01\r\u001b[K     |████████                        | 409kB 7.7MB/s eta 0:00:01\r\u001b[K     |████████                        | 419kB 7.7MB/s eta 0:00:01\r\u001b[K     |████████▎                       | 430kB 7.7MB/s eta 0:00:01\r\u001b[K     |████████▌                       | 440kB 7.7MB/s eta 0:00:01\r\u001b[K     |████████▊                       | 450kB 7.7MB/s eta 0:00:01\r\u001b[K     |█████████                       | 460kB 7.7MB/s eta 0:00:01\r\u001b[K     |█████████                       | 471kB 7.7MB/s eta 0:00:01\r\u001b[K     |█████████▎                      | 481kB 7.7MB/s eta 0:00:01\r\u001b[K     |█████████▌                      | 491kB 7.7MB/s eta 0:00:01\r\u001b[K     |█████████▊                      | 501kB 7.7MB/s eta 0:00:01\r\u001b[K     |█████████▉                      | 512kB 7.7MB/s eta 0:00:01\r\u001b[K     |██████████                      | 522kB 7.7MB/s eta 0:00:01\r\u001b[K     |██████████▎                     | 532kB 7.7MB/s eta 0:00:01\r\u001b[K     |██████████▌                     | 542kB 7.7MB/s eta 0:00:01\r\u001b[K     |██████████▊                     | 552kB 7.7MB/s eta 0:00:01\r\u001b[K     |██████████▉                     | 563kB 7.7MB/s eta 0:00:01\r\u001b[K     |███████████                     | 573kB 7.7MB/s eta 0:00:01\r\u001b[K     |███████████▎                    | 583kB 7.7MB/s eta 0:00:01\r\u001b[K     |███████████▌                    | 593kB 7.7MB/s eta 0:00:01\r\u001b[K     |███████████▋                    | 604kB 7.7MB/s eta 0:00:01\r\u001b[K     |███████████▉                    | 614kB 7.7MB/s eta 0:00:01\r\u001b[K     |████████████                    | 624kB 7.7MB/s eta 0:00:01\r\u001b[K     |████████████▎                   | 634kB 7.7MB/s eta 0:00:01\r\u001b[K     |████████████▌                   | 645kB 7.7MB/s eta 0:00:01\r\u001b[K     |████████████▋                   | 655kB 7.7MB/s eta 0:00:01\r\u001b[K     |████████████▉                   | 665kB 7.7MB/s eta 0:00:01\r\u001b[K     |█████████████                   | 675kB 7.7MB/s eta 0:00:01\r\u001b[K     |█████████████▎                  | 686kB 7.7MB/s eta 0:00:01\r\u001b[K     |█████████████▍                  | 696kB 7.7MB/s eta 0:00:01\r\u001b[K     |█████████████▋                  | 706kB 7.7MB/s eta 0:00:01\r\u001b[K     |█████████████▉                  | 716kB 7.7MB/s eta 0:00:01\r\u001b[K     |██████████████                  | 727kB 7.7MB/s eta 0:00:01\r\u001b[K     |██████████████▎                 | 737kB 7.7MB/s eta 0:00:01\r\u001b[K     |██████████████▍                 | 747kB 7.7MB/s eta 0:00:01\r\u001b[K     |██████████████▋                 | 757kB 7.7MB/s eta 0:00:01\r\u001b[K     |██████████████▉                 | 768kB 7.7MB/s eta 0:00:01\r\u001b[K     |███████████████                 | 778kB 7.7MB/s eta 0:00:01\r\u001b[K     |███████████████▏                | 788kB 7.7MB/s eta 0:00:01\r\u001b[K     |███████████████▍                | 798kB 7.7MB/s eta 0:00:01\r\u001b[K     |███████████████▋                | 808kB 7.7MB/s eta 0:00:01\r\u001b[K     |███████████████▉                | 819kB 7.7MB/s eta 0:00:01\r\u001b[K     |████████████████                | 829kB 7.7MB/s eta 0:00:01\r\u001b[K     |████████████████▏               | 839kB 7.7MB/s eta 0:00:01\r\u001b[K     |████████████████▍               | 849kB 7.7MB/s eta 0:00:01\r\u001b[K     |████████████████▋               | 860kB 7.7MB/s eta 0:00:01\r\u001b[K     |████████████████▉               | 870kB 7.7MB/s eta 0:00:01\r\u001b[K     |█████████████████               | 880kB 7.7MB/s eta 0:00:01\r\u001b[K     |█████████████████▏              | 890kB 7.7MB/s eta 0:00:01\r\u001b[K     |█████████████████▍              | 901kB 7.7MB/s eta 0:00:01\r\u001b[K     |█████████████████▋              | 911kB 7.7MB/s eta 0:00:01\r\u001b[K     |█████████████████▉              | 921kB 7.7MB/s eta 0:00:01\r\u001b[K     |██████████████████              | 931kB 7.7MB/s eta 0:00:01\r\u001b[K     |██████████████████▏             | 942kB 7.7MB/s eta 0:00:01\r\u001b[K     |██████████████████▍             | 952kB 7.7MB/s eta 0:00:01\r\u001b[K     |██████████████████▋             | 962kB 7.7MB/s eta 0:00:01\r\u001b[K     |██████████████████▊             | 972kB 7.7MB/s eta 0:00:01\r\u001b[K     |███████████████████             | 983kB 7.7MB/s eta 0:00:01\r\u001b[K     |███████████████████▏            | 993kB 7.7MB/s eta 0:00:01\r\u001b[K     |███████████████████▍            | 1.0MB 7.7MB/s eta 0:00:01\r\u001b[K     |███████████████████▋            | 1.0MB 7.7MB/s eta 0:00:01\r\u001b[K     |███████████████████▊            | 1.0MB 7.7MB/s eta 0:00:01\r\u001b[K     |████████████████████            | 1.0MB 7.7MB/s eta 0:00:01\r\u001b[K     |████████████████████▏           | 1.0MB 7.7MB/s eta 0:00:01\r\u001b[K     |████████████████████▍           | 1.1MB 7.7MB/s eta 0:00:01\r\u001b[K     |████████████████████▌           | 1.1MB 7.7MB/s eta 0:00:01\r\u001b[K     |████████████████████▊           | 1.1MB 7.7MB/s eta 0:00:01\r\u001b[K     |█████████████████████           | 1.1MB 7.7MB/s eta 0:00:01\r\u001b[K     |█████████████████████▏          | 1.1MB 7.7MB/s eta 0:00:01\r\u001b[K     |█████████████████████▍          | 1.1MB 7.7MB/s eta 0:00:01\r\u001b[K     |█████████████████████▌          | 1.1MB 7.7MB/s eta 0:00:01\r\u001b[K     |█████████████████████▊          | 1.1MB 7.7MB/s eta 0:00:01\r\u001b[K     |██████████████████████          | 1.1MB 7.7MB/s eta 0:00:01\r\u001b[K     |██████████████████████▏         | 1.1MB 7.7MB/s eta 0:00:01\r\u001b[K     |██████████████████████▎         | 1.2MB 7.7MB/s eta 0:00:01\r\u001b[K     |██████████████████████▌         | 1.2MB 7.7MB/s eta 0:00:01\r\u001b[K     |██████████████████████▊         | 1.2MB 7.7MB/s eta 0:00:01\r\u001b[K     |███████████████████████         | 1.2MB 7.7MB/s eta 0:00:01\r\u001b[K     |███████████████████████▏        | 1.2MB 7.7MB/s eta 0:00:01\r\u001b[K     |███████████████████████▎        | 1.2MB 7.7MB/s eta 0:00:01\r\u001b[K     |███████████████████████▌        | 1.2MB 7.7MB/s eta 0:00:01\r\u001b[K     |███████████████████████▊        | 1.2MB 7.7MB/s eta 0:00:01\r\u001b[K     |████████████████████████        | 1.2MB 7.7MB/s eta 0:00:01\r\u001b[K     |████████████████████████        | 1.2MB 7.7MB/s eta 0:00:01\r\u001b[K     |████████████████████████▎       | 1.3MB 7.7MB/s eta 0:00:01\r\u001b[K     |████████████████████████▌       | 1.3MB 7.7MB/s eta 0:00:01\r\u001b[K     |████████████████████████▊       | 1.3MB 7.7MB/s eta 0:00:01\r\u001b[K     |█████████████████████████       | 1.3MB 7.7MB/s eta 0:00:01\r\u001b[K     |█████████████████████████       | 1.3MB 7.7MB/s eta 0:00:01\r\u001b[K     |█████████████████████████▎      | 1.3MB 7.7MB/s eta 0:00:01\r\u001b[K     |█████████████████████████▌      | 1.3MB 7.7MB/s eta 0:00:01\r\u001b[K     |█████████████████████████▊      | 1.3MB 7.7MB/s eta 0:00:01\r\u001b[K     |█████████████████████████▉      | 1.3MB 7.7MB/s eta 0:00:01\r\u001b[K     |██████████████████████████      | 1.4MB 7.7MB/s eta 0:00:01\r\u001b[K     |██████████████████████████▎     | 1.4MB 7.7MB/s eta 0:00:01\r\u001b[K     |██████████████████████████▌     | 1.4MB 7.7MB/s eta 0:00:01\r\u001b[K     |██████████████████████████▊     | 1.4MB 7.7MB/s eta 0:00:01\r\u001b[K     |██████████████████████████▉     | 1.4MB 7.7MB/s eta 0:00:01\r\u001b[K     |███████████████████████████     | 1.4MB 7.7MB/s eta 0:00:01\r\u001b[K     |███████████████████████████▎    | 1.4MB 7.7MB/s eta 0:00:01\r\u001b[K     |███████████████████████████▌    | 1.4MB 7.7MB/s eta 0:00:01\r\u001b[K     |███████████████████████████▋    | 1.4MB 7.7MB/s eta 0:00:01\r\u001b[K     |███████████████████████████▉    | 1.4MB 7.7MB/s eta 0:00:01\r\u001b[K     |████████████████████████████    | 1.5MB 7.7MB/s eta 0:00:01\r\u001b[K     |████████████████████████████▎   | 1.5MB 7.7MB/s eta 0:00:01\r\u001b[K     |████████████████████████████▌   | 1.5MB 7.7MB/s eta 0:00:01\r\u001b[K     |████████████████████████████▋   | 1.5MB 7.7MB/s eta 0:00:01\r\u001b[K     |████████████████████████████▉   | 1.5MB 7.7MB/s eta 0:00:01\r\u001b[K     |█████████████████████████████   | 1.5MB 7.7MB/s eta 0:00:01\r\u001b[K     |█████████████████████████████▎  | 1.5MB 7.7MB/s eta 0:00:01\r\u001b[K     |█████████████████████████████▍  | 1.5MB 7.7MB/s eta 0:00:01\r\u001b[K     |█████████████████████████████▋  | 1.5MB 7.7MB/s eta 0:00:01\r\u001b[K     |█████████████████████████████▉  | 1.5MB 7.7MB/s eta 0:00:01\r\u001b[K     |██████████████████████████████  | 1.6MB 7.7MB/s eta 0:00:01\r\u001b[K     |██████████████████████████████▎ | 1.6MB 7.7MB/s eta 0:00:01\r\u001b[K     |██████████████████████████████▍ | 1.6MB 7.7MB/s eta 0:00:01\r\u001b[K     |██████████████████████████████▋ | 1.6MB 7.7MB/s eta 0:00:01\r\u001b[K     |██████████████████████████████▉ | 1.6MB 7.7MB/s eta 0:00:01\r\u001b[K     |███████████████████████████████ | 1.6MB 7.7MB/s eta 0:00:01\r\u001b[K     |███████████████████████████████▏| 1.6MB 7.7MB/s eta 0:00:01\r\u001b[K     |███████████████████████████████▍| 1.6MB 7.7MB/s eta 0:00:01\r\u001b[K     |███████████████████████████████▋| 1.6MB 7.7MB/s eta 0:00:01\r\u001b[K     |███████████████████████████████▉| 1.6MB 7.7MB/s eta 0:00:01\r\u001b[K     |████████████████████████████████| 1.7MB 7.7MB/s \n",
            "\u001b[?25hRequirement already satisfied: dill in /usr/local/lib/python3.7/dist-packages (from nlp) (0.3.3)\n",
            "Requirement already satisfied: tqdm>=4.27 in /usr/local/lib/python3.7/dist-packages (from nlp) (4.41.1)\n",
            "Requirement already satisfied: pyarrow>=0.16.0 in /usr/local/lib/python3.7/dist-packages (from nlp) (3.0.0)\n",
            "Requirement already satisfied: numpy in /usr/local/lib/python3.7/dist-packages (from nlp) (1.19.5)\n",
            "Requirement already satisfied: pandas in /usr/local/lib/python3.7/dist-packages (from nlp) (1.1.5)\n",
            "Requirement already satisfied: requests>=2.19.0 in /usr/local/lib/python3.7/dist-packages (from nlp) (2.23.0)\n",
            "Requirement already satisfied: xxhash in /usr/local/lib/python3.7/dist-packages (from nlp) (2.0.0)\n",
            "Requirement already satisfied: filelock in /usr/local/lib/python3.7/dist-packages (from nlp) (3.0.12)\n",
            "Requirement already satisfied: python-dateutil>=2.7.3 in /usr/local/lib/python3.7/dist-packages (from pandas->nlp) (2.8.1)\n",
            "Requirement already satisfied: pytz>=2017.2 in /usr/local/lib/python3.7/dist-packages (from pandas->nlp) (2018.9)\n",
            "Requirement already satisfied: idna<3,>=2.5 in /usr/local/lib/python3.7/dist-packages (from requests>=2.19.0->nlp) (2.10)\n",
            "Requirement already satisfied: chardet<4,>=3.0.2 in /usr/local/lib/python3.7/dist-packages (from requests>=2.19.0->nlp) (3.0.4)\n",
            "Requirement already satisfied: urllib3!=1.25.0,!=1.25.1,<1.26,>=1.21.1 in /usr/local/lib/python3.7/dist-packages (from requests>=2.19.0->nlp) (1.24.3)\n",
            "Requirement already satisfied: certifi>=2017.4.17 in /usr/local/lib/python3.7/dist-packages (from requests>=2.19.0->nlp) (2020.12.5)\n",
            "Requirement already satisfied: six>=1.5 in /usr/local/lib/python3.7/dist-packages (from python-dateutil>=2.7.3->pandas->nlp) (1.15.0)\n",
            "Installing collected packages: nlp\n",
            "Successfully installed nlp-0.4.0\n"
          ],
          "name": "stdout"
        }
      ]
    },
    {
      "cell_type": "code",
      "metadata": {
        "id": "tVwqVMq2NeUC"
      },
      "source": [
        "import torch\n",
        "from tqdm import tqdm\n",
        "from nlp import load_dataset as load_data\n",
        "# torch.cuda.empty_cache()"
      ],
      "execution_count": 4,
      "outputs": []
    },
    {
      "cell_type": "code",
      "metadata": {
        "id": "J7yXtWG-UFvK",
        "colab": {
          "base_uri": "https://localhost:8080/",
          "height": 252,
          "referenced_widgets": [
            "96c9c5579a3e493388fbb3fc11a33e54",
            "9867901390d74093931bee5892bb908e",
            "bdb6e37e46f4400a8cc1fbec49e14c25",
            "c33956c48d6340eaa56faf471e44dd93",
            "9e2ed9f869ff415696b1235c3be5ea37",
            "c3346846544c42c0a8c81d4eb95694c1",
            "d2b3bf8b6b2240289958260485607b9b",
            "ec251f17828847ef9b3ff86695db0936",
            "c612e04d60b04395b49c566c2b96c00c",
            "48418d976d4242ebb5809b0142fb1d02",
            "6b97f426fd8746da84542e037afd14ba",
            "7d660e4112024ca981d9c704e99703a4",
            "d3992f9b2fc7418e9217bca4f7790ef3",
            "b6747505ff04479182640290f8e171b8",
            "95903189d1a24172be51d8428c9e5358",
            "71e887147acb483f9d53fc671d609da9",
            "0d30ffd9e25c4a039ea92865c99d4c9a",
            "cd2bfb76867d488aa7ad657adae7e88e",
            "803222493ac8424c8b114520bd52670d",
            "43bfbefb64924a65a3b3216f4c554f09",
            "ceb84f1d7fe94d3d8de6250b5a921288",
            "58eb70880dc0449481e7feafbb2dfe8f",
            "b6360a61b9db43abafef1cf461550d95",
            "5943a7bced5c4b83be6bc9f551bbff84",
            "ca160ba709124908b31bd709b7f96a30",
            "74df24f0e4cb4b199854cdb77b9df38a",
            "7b36b4b186ee47e490b1789e21a178c2",
            "7f30c91885c84093b0e8befdad306c30",
            "f6e64d9508504932a5286c978a96ae5c",
            "a1aa6a2dfad84203bb3ecd0f5daa6cb0",
            "89801171aabd445c921797ab8ff2fb3d",
            "0d95164a5d784484a986feece53dcb87",
            "b08ae1a8ac8b4a75ba3670c639307f31",
            "6a4f185ff27c404b90e587c793f53ea4",
            "4aa91142ad8e42de821a0f4f2a5f3759",
            "9a3b5ecc4b364e7ebd852faad5b13235",
            "3a5d2ef892fc40a7a3140074d15bc227",
            "efd98a348d854d18b3dfe02a61228892",
            "ffff7090bc8942949b6d841f49c4a6b9",
            "0130dd56bd2d47eebc2208e36119bbc6",
            "d1f39c41a4dc4cdfae0fa8a447d8c624",
            "decc8177881e46fa96aa38a01837e03e",
            "9552e6dbdab44917bba66034a1fc5de2",
            "84a75e82ea66482b9bcd9388f4130804",
            "a9bade9a9796401ea1e345afe7a8ab4c",
            "a79c8b45cb564114a09f0c133b00ad15",
            "48c3baea342b48f39e8e76749f1c6a71",
            "df84e2d1f9b14e29a6641c6ecfae6118"
          ]
        },
        "outputId": "372abec5-f652-4d92-d45c-9d17ef2496e3"
      },
      "source": [
        "## YOUR CODE HERE - FOR COMPUTING PERPLEXITY OF GPT2 ON WIKIPEDIA TEST SET \n",
        "tokenizer = AutoTokenizer.from_pretrained('gpt2')\n",
        "model = AutoModelForCausalLM.from_pretrained('gpt2').cuda()\n",
        "test = load_data('wikitext', 'wikitext-2-raw-v1', split='test')\n",
        "encodings = tokenizer('\\n\\n'.join(test['text']), return_tensors='pt')\n",
        "\n",
        "max_length = model.config.n_positions\n",
        "stride = 512\n",
        "\n",
        "lls = []\n",
        "for i in tqdm(range(0, encodings.input_ids.size(1), stride)):\n",
        "    begin_loc = max(i + stride - max_length, 0)\n",
        "    end_loc = min(i + stride, encodings.input_ids.size(1))\n",
        "    trg_len = end_loc - i    # may be different from stride on last loop\n",
        "    input_ids = encodings.input_ids[:,begin_loc:end_loc].to(model.device)\n",
        "    target_ids = input_ids.clone()\n",
        "    target_ids[:,:-trg_len] = -100\n",
        "\n",
        "    with torch.no_grad():\n",
        "      outputs = model(input_ids, labels=target_ids)\n",
        "      log_likelihood = outputs[0] * trg_len\n",
        "\n",
        "    lls.append(log_likelihood)\n",
        "\n",
        "ppl = torch.exp(torch.stack(lls).sum() / end_loc)"
      ],
      "execution_count": 23,
      "outputs": [
        {
          "output_type": "display_data",
          "data": {
            "application/vnd.jupyter.widget-view+json": {
              "model_id": "96c9c5579a3e493388fbb3fc11a33e54",
              "version_minor": 0,
              "version_major": 2
            },
            "text/plain": [
              "HBox(children=(FloatProgress(value=0.0, description='Downloading', max=8140.0, style=ProgressStyle(description…"
            ]
          },
          "metadata": {
            "tags": []
          }
        },
        {
          "output_type": "stream",
          "text": [
            "\n"
          ],
          "name": "stdout"
        },
        {
          "output_type": "display_data",
          "data": {
            "application/vnd.jupyter.widget-view+json": {
              "model_id": "c612e04d60b04395b49c566c2b96c00c",
              "version_minor": 0,
              "version_major": 2
            },
            "text/plain": [
              "HBox(children=(FloatProgress(value=0.0, description='Downloading', max=5806.0, style=ProgressStyle(description…"
            ]
          },
          "metadata": {
            "tags": []
          }
        },
        {
          "output_type": "stream",
          "text": [
            "\n",
            "Downloading and preparing dataset wikitext/wikitext-2-raw-v1 (download: 4.50 MiB, generated: 12.91 MiB, post-processed: Unknown sizetotal: 17.41 MiB) to /root/.cache/huggingface/datasets/wikitext/wikitext-2-raw-v1/1.0.0/8e456126357b4411737ead54576f99321fc077a0d4b64e4a724ab3454ba5b730...\n"
          ],
          "name": "stdout"
        },
        {
          "output_type": "display_data",
          "data": {
            "application/vnd.jupyter.widget-view+json": {
              "model_id": "0d30ffd9e25c4a039ea92865c99d4c9a",
              "version_minor": 0,
              "version_major": 2
            },
            "text/plain": [
              "HBox(children=(FloatProgress(value=0.0, description='Downloading', max=4721645.0, style=ProgressStyle(descript…"
            ]
          },
          "metadata": {
            "tags": []
          }
        },
        {
          "output_type": "stream",
          "text": [
            "\n"
          ],
          "name": "stdout"
        },
        {
          "output_type": "display_data",
          "data": {
            "application/vnd.jupyter.widget-view+json": {
              "model_id": "ca160ba709124908b31bd709b7f96a30",
              "version_minor": 0,
              "version_major": 2
            },
            "text/plain": [
              "HBox(children=(FloatProgress(value=1.0, bar_style='info', max=1.0), HTML(value='')))"
            ]
          },
          "metadata": {
            "tags": []
          }
        },
        {
          "output_type": "stream",
          "text": [
            "\r"
          ],
          "name": "stdout"
        },
        {
          "output_type": "display_data",
          "data": {
            "application/vnd.jupyter.widget-view+json": {
              "model_id": "b08ae1a8ac8b4a75ba3670c639307f31",
              "version_minor": 0,
              "version_major": 2
            },
            "text/plain": [
              "HBox(children=(FloatProgress(value=1.0, bar_style='info', max=1.0), HTML(value='')))"
            ]
          },
          "metadata": {
            "tags": []
          }
        },
        {
          "output_type": "stream",
          "text": [
            "\r"
          ],
          "name": "stdout"
        },
        {
          "output_type": "display_data",
          "data": {
            "application/vnd.jupyter.widget-view+json": {
              "model_id": "d1f39c41a4dc4cdfae0fa8a447d8c624",
              "version_minor": 0,
              "version_major": 2
            },
            "text/plain": [
              "HBox(children=(FloatProgress(value=1.0, bar_style='info', max=1.0), HTML(value='')))"
            ]
          },
          "metadata": {
            "tags": []
          }
        },
        {
          "output_type": "stream",
          "text": [
            "\rDataset wikitext downloaded and prepared to /root/.cache/huggingface/datasets/wikitext/wikitext-2-raw-v1/1.0.0/8e456126357b4411737ead54576f99321fc077a0d4b64e4a724ab3454ba5b730. Subsequent calls will reuse this data.\n"
          ],
          "name": "stdout"
        },
        {
          "output_type": "stream",
          "text": [
            "Token indices sequence length is longer than the specified maximum sequence length for this model (287644 > 1024). Running this sequence through the model will result in indexing errors\n",
            "100%|██████████| 562/562 [01:04<00:00,  8.72it/s]\n"
          ],
          "name": "stderr"
        }
      ]
    },
    {
      "cell_type": "code",
      "metadata": {
        "colab": {
          "base_uri": "https://localhost:8080/"
        },
        "id": "jzKsnS_oN_KK",
        "outputId": "b1a34d31-a782-4be4-80da-e40a1ca8b9bf"
      },
      "source": [
        "ppl"
      ],
      "execution_count": 24,
      "outputs": [
        {
          "output_type": "execute_result",
          "data": {
            "text/plain": [
              "tensor(25.1705, device='cuda:0')"
            ]
          },
          "metadata": {
            "tags": []
          },
          "execution_count": 24
        }
      ]
    },
    {
      "cell_type": "markdown",
      "metadata": {
        "id": "4uIEdUD-isKa"
      },
      "source": [
        "> PERPLEXITY: 25.1705"
      ]
    },
    {
      "cell_type": "markdown",
      "metadata": {
        "id": "zbogHdnDqxEc"
      },
      "source": [
        "(2 pts) Compute the  perplexity of the dostoevskypt2 model on Wikipedia test set\n",
        "\n",
        "\n"
      ]
    },
    {
      "cell_type": "code",
      "metadata": {
        "id": "2MbCvfbJqxEm"
      },
      "source": [
        "## YOUR CODE HERE - FOR COMPUTING PERPLEXITY OF DOSTOEVSKYPT2 ON WIKIPEDIA TEST SET\n",
        "tokenizer = AutoTokenizer.from_pretrained('./dostoevskypt2')\n",
        "model = AutoModelForCausalLM.from_pretrained('./dostoevskypt2').cuda()"
      ],
      "execution_count": 25,
      "outputs": []
    },
    {
      "cell_type": "code",
      "metadata": {
        "colab": {
          "base_uri": "https://localhost:8080/"
        },
        "id": "Ju6G_PMLO2ej",
        "outputId": "ac7832ff-af0a-4ddf-bd8f-25770de16996"
      },
      "source": [
        "encodings = tokenizer('\\n\\n'.join(test['text']), return_tensors='pt')\n",
        "max_length = model.config.n_positions\n",
        "\n",
        "lls = []\n",
        "for i in tqdm(range(0, encodings.input_ids.size(1), stride)):\n",
        "    begin_loc = max(i + stride - max_length, 0)\n",
        "    end_loc = min(i + stride, encodings.input_ids.size(1))\n",
        "    trg_len = end_loc - i    # may be different from stride on last loop\n",
        "    input_ids = encodings.input_ids[:,begin_loc:end_loc].to(model.device)\n",
        "    target_ids = input_ids.clone()\n",
        "    target_ids[:,:-trg_len] = -100\n",
        "\n",
        "    with torch.no_grad():\n",
        "      outputs = model(input_ids, labels=target_ids)\n",
        "      log_likelihood = outputs[0] * trg_len\n",
        "\n",
        "    lls.append(log_likelihood)\n",
        "\n",
        "ppl = torch.exp(torch.stack(lls).sum() / end_loc)\n",
        "ppl"
      ],
      "execution_count": 26,
      "outputs": [
        {
          "output_type": "stream",
          "text": [
            "Token indices sequence length is longer than the specified maximum sequence length for this model (287644 > 1024). Running this sequence through the model will result in indexing errors\n",
            "100%|██████████| 562/562 [01:05<00:00,  8.52it/s]\n"
          ],
          "name": "stderr"
        },
        {
          "output_type": "execute_result",
          "data": {
            "text/plain": [
              "tensor(67.4607, device='cuda:0')"
            ]
          },
          "metadata": {
            "tags": []
          },
          "execution_count": 26
        }
      ]
    },
    {
      "cell_type": "markdown",
      "metadata": {
        "id": "BcAOnePGnuX4"
      },
      "source": [
        "> PERPLEXITY: 67.4607"
      ]
    },
    {
      "cell_type": "markdown",
      "metadata": {
        "id": "87eu1LZjTGrs"
      },
      "source": [
        "(2 pts) Compute the perplexity of the GPT2 pre-trained model on the Crime and Punishment train dataset"
      ]
    },
    {
      "cell_type": "code",
      "metadata": {
        "id": "lHjajoo9TEyE",
        "colab": {
          "base_uri": "https://localhost:8080/"
        },
        "outputId": "656a0cd1-af65-4fed-f814-9c480ee89b62"
      },
      "source": [
        "## YOUR CODE HERE - FOR COMPUTING PERPLEXITY OF GPT2 ON CRIME AND PUNISHMENT TRAIN DATASET \n",
        "tokenizer = AutoTokenizer.from_pretrained('gpt2')\n",
        "model = AutoModelForCausalLM.from_pretrained('gpt2').cuda()\n",
        "cap = [x.strip('\\n\\r') for x in crime_and_punishment['line']]\n",
        "encodings = tokenizer('\\n\\n'.join(cap), return_tensors='pt')"
      ],
      "execution_count": 27,
      "outputs": [
        {
          "output_type": "stream",
          "text": [
            "Token indices sequence length is longer than the specified maximum sequence length for this model (334477 > 1024). Running this sequence through the model will result in indexing errors\n"
          ],
          "name": "stderr"
        }
      ]
    },
    {
      "cell_type": "code",
      "metadata": {
        "colab": {
          "base_uri": "https://localhost:8080/"
        },
        "id": "pqUuAK8BRN7A",
        "outputId": "12223d3f-5ba5-4167-df91-50c47c402694"
      },
      "source": [
        "max_length = model.config.n_positions\n",
        "\n",
        "lls = []\n",
        "for i in tqdm(range(0, encodings.input_ids.size(1), stride)):\n",
        "    begin_loc = max(i + stride - max_length, 0)\n",
        "    end_loc = min(i + stride, encodings.input_ids.size(1))\n",
        "    trg_len = end_loc - i    # may be different from stride on last loop\n",
        "    input_ids = encodings.input_ids[:,begin_loc:end_loc].to(model.device)\n",
        "    target_ids = input_ids.clone()\n",
        "    target_ids[:,:-trg_len] = -100\n",
        "\n",
        "    with torch.no_grad():\n",
        "      outputs = model(input_ids, labels=target_ids)\n",
        "      log_likelihood = outputs[0] * trg_len\n",
        "\n",
        "    lls.append(log_likelihood)\n",
        "\n",
        "ppl = torch.exp(torch.stack(lls).sum() / end_loc)\n",
        "ppl"
      ],
      "execution_count": 28,
      "outputs": [
        {
          "output_type": "stream",
          "text": [
            "100%|██████████| 654/654 [01:17<00:00,  8.45it/s]\n"
          ],
          "name": "stderr"
        },
        {
          "output_type": "execute_result",
          "data": {
            "text/plain": [
              "tensor(21.4867, device='cuda:0')"
            ]
          },
          "metadata": {
            "tags": []
          },
          "execution_count": 28
        }
      ]
    },
    {
      "cell_type": "markdown",
      "metadata": {
        "id": "P5iaw2ztixEk"
      },
      "source": [
        "> PERPLEXITY: 21.4867"
      ]
    },
    {
      "cell_type": "markdown",
      "metadata": {
        "id": "rrQR4yoPTT4K"
      },
      "source": [
        "(2 pts) Compute the **train** perplexity of the **dostoevskypt2** model \n",
        "\n",
        "\n"
      ]
    },
    {
      "cell_type": "code",
      "metadata": {
        "id": "JwLNNB328crd",
        "colab": {
          "base_uri": "https://localhost:8080/"
        },
        "outputId": "7f0f4b02-2944-4022-f066-62fceb59e3ce"
      },
      "source": [
        "## YOUR CODE HERE - FOR COMPUTING PERPLEXITY OF DOSTOEVSKYPT2 ON CRIME AND PUNISHMENT TRAIN DATASET \n",
        "tokenizer = AutoTokenizer.from_pretrained('./dostoevskypt2')\n",
        "model = AutoModelForCausalLM.from_pretrained('./dostoevskypt2').cuda()\n",
        "encodings = tokenizer('\\n\\n'.join(cap), return_tensors='pt')\n",
        "max_length = model.config.n_positions\n",
        "\n",
        "lls = []\n",
        "for i in tqdm(range(0, encodings.input_ids.size(1), stride)):\n",
        "    begin_loc = max(i + stride - max_length, 0)\n",
        "    end_loc = min(i + stride, encodings.input_ids.size(1))\n",
        "    trg_len = end_loc - i    # may be different from stride on last loop\n",
        "    input_ids = encodings.input_ids[:,begin_loc:end_loc].to(model.device)\n",
        "    target_ids = input_ids.clone()\n",
        "    target_ids[:,:-trg_len] = -100\n",
        "\n",
        "    with torch.no_grad():\n",
        "      outputs = model(input_ids, labels=target_ids)\n",
        "      log_likelihood = outputs[0] * trg_len\n",
        "\n",
        "    lls.append(log_likelihood)\n",
        "\n",
        "ppl = torch.exp(torch.stack(lls).sum() / end_loc)\n",
        "ppl"
      ],
      "execution_count": 29,
      "outputs": [
        {
          "output_type": "stream",
          "text": [
            "Token indices sequence length is longer than the specified maximum sequence length for this model (334477 > 1024). Running this sequence through the model will result in indexing errors\n",
            "100%|██████████| 654/654 [01:18<00:00,  8.29it/s]\n"
          ],
          "name": "stderr"
        },
        {
          "output_type": "execute_result",
          "data": {
            "text/plain": [
              "tensor(20.2664, device='cuda:0')"
            ]
          },
          "metadata": {
            "tags": []
          },
          "execution_count": 29
        }
      ]
    },
    {
      "cell_type": "markdown",
      "metadata": {
        "id": "ajI9qA0WizXA"
      },
      "source": [
        "> PERPLEXITY: 20.2664"
      ]
    },
    {
      "cell_type": "markdown",
      "metadata": {
        "id": "Dk5r0g3wUavA"
      },
      "source": [
        "(2 pts) Compute the perplexity of the GPT2 model on your Pride and Prejudice text\n",
        "\n",
        "\n"
      ]
    },
    {
      "cell_type": "code",
      "metadata": {
        "id": "SAIFQ5J_UavB"
      },
      "source": [
        "## YOUR CODE HERE - FOR COMPUTING PERPLEXITY OF GPT2 ON PRIDE AND PREJUDICE TEXT \n",
        "with open('/content/drive/MyDrive/Colab Notebooks/prideAndPrejudice.txt','r') as f:\n",
        "  text = [line.rstrip('\\n') for line in f]"
      ],
      "execution_count": null,
      "outputs": []
    },
    {
      "cell_type": "code",
      "metadata": {
        "id": "oXZtGJ-28wOW"
      },
      "source": [
        "tokenizer = AutoTokenizer.from_pretrained('gpt2')\n",
        "model = AutoModelForCausalLM.from_pretrained('gpt2').cuda()\n",
        "encodings = tokenizer('\\n\\n'.join(text), return_tensors='pt')"
      ],
      "execution_count": null,
      "outputs": []
    },
    {
      "cell_type": "code",
      "metadata": {
        "id": "3GjGScia87_e"
      },
      "source": [
        "max_length = model.config.n_positions\n",
        "\n",
        "lls = []\n",
        "for i in tqdm(range(0, encodings.input_ids.size(1), stride)):\n",
        "    begin_loc = max(i + stride - max_length, 0)\n",
        "    end_loc = min(i + stride, encodings.input_ids.size(1))\n",
        "    trg_len = end_loc - i    # may be different from stride on last loop\n",
        "    input_ids = encodings.input_ids[:,begin_loc:end_loc].to(model.device)\n",
        "    target_ids = input_ids.clone()\n",
        "    target_ids[:,:-trg_len] = -100\n",
        "\n",
        "    with torch.no_grad():\n",
        "      outputs = model(input_ids, labels=target_ids)\n",
        "      log_likelihood = outputs[0] * trg_len\n",
        "\n",
        "    lls.append(log_likelihood)\n",
        "\n",
        "ppl = torch.exp(torch.stack(lls).sum() / end_loc)\n",
        "ppl"
      ],
      "execution_count": null,
      "outputs": []
    },
    {
      "cell_type": "markdown",
      "metadata": {
        "id": "2JQ--Ab9i4uf"
      },
      "source": [
        "> PERPLEXITY: 27.8958"
      ]
    },
    {
      "cell_type": "markdown",
      "metadata": {
        "id": "e--kB-_JUuXd"
      },
      "source": [
        "(2 pts) Compute the perplexity of the dostoevskypt2 model on your Pride and Prejudice text\n",
        "\n",
        "\n"
      ]
    },
    {
      "cell_type": "code",
      "metadata": {
        "id": "RM9U2LslUuXe"
      },
      "source": [
        "## YOUR CODE HERE - FOR COMPUTING PERPLEXITY OF DOSTOEVSKYPT2 ON PRIDE AND PREJUDICE TEXT \n",
        "tokenizer = AutoTokenizer.from_pretrained('./dostoevskypt2')\n",
        "model = AutoModelForCausalLM.from_pretrained('./dostoevskypt2').cuda()\n",
        "encodings = tokenizer('\\n\\n'.join(text), return_tensors='pt')\n",
        "\n",
        "max_length = model.config.n_positions\n",
        "\n",
        "lls = []\n",
        "for i in tqdm(range(0, encodings.input_ids.size(1), stride)):\n",
        "    begin_loc = max(i + stride - max_length, 0)\n",
        "    end_loc = min(i + stride, encodings.input_ids.size(1))\n",
        "    trg_len = end_loc - i    # may be different from stride on last loop\n",
        "    input_ids = encodings.input_ids[:,begin_loc:end_loc].to(model.device)\n",
        "    target_ids = input_ids.clone()\n",
        "    target_ids[:,:-trg_len] = -100\n",
        "\n",
        "    with torch.no_grad():\n",
        "      outputs = model(input_ids, labels=target_ids)\n",
        "      log_likelihood = outputs[0] * trg_len\n",
        "\n",
        "    lls.append(log_likelihood)\n",
        "\n",
        "ppl = torch.exp(torch.stack(lls).sum() / end_loc)\n",
        "ppl"
      ],
      "execution_count": null,
      "outputs": []
    },
    {
      "cell_type": "markdown",
      "metadata": {
        "id": "7LoR4AQQi7Bl"
      },
      "source": [
        "> PERPLEXITY:41.3754"
      ]
    },
    {
      "cell_type": "markdown",
      "metadata": {
        "id": "6QdlBas0VHtv"
      },
      "source": [
        "1. (1 pt) Which model performs better on Wikipedia text?\n",
        "   > GPT2 performs better on Wiki text.\n",
        "2. (1 pt) Which model performs better on Pride and Prejudice text?\n",
        "   > GPT2 also performs better on Pride and Prejudice text."
      ]
    },
    {
      "cell_type": "markdown",
      "metadata": {
        "id": "vff5qb5BSq6j"
      },
      "source": [
        "### Now's Your Turn!\n",
        "\n",
        "**Your job is to fine-tune GPT2 one more time with your choice of fine-tuning dataset.**\n",
        "\n",
        "*****For the fine-tuned model you create, you should clearly demonstrate (through visible generation outputs and analysis) that your fine-tuned model follows the desired style better than vanilla GPT2** ***\n",
        "\n",
        "Please make sure to give a brief description \n",
        "\n",
        "In order to see which datasets are available for download, run the cell below. Pick one that you think would be interesting!"
      ]
    },
    {
      "cell_type": "code",
      "metadata": {
        "id": "2kclua3zSqNz",
        "colab": {
          "base_uri": "https://localhost:8080/"
        },
        "outputId": "44c83e0f-0cb4-4963-9ede-2062752abf09"
      },
      "source": [
        "datasets_list = list_datasets()\n",
        "print(', '.join(dataset for dataset in datasets_list))"
      ],
      "execution_count": 30,
      "outputs": [
        {
          "output_type": "stream",
          "text": [
            "acronym_identification, ade_corpus_v2, adversarial_qa, aeslc, afrikaans_ner_corpus, ag_news, ai2_arc, air_dialogue, ajgt_twitter_ar, allegro_reviews, allocine, alt, amazon_polarity, amazon_reviews_multi, amazon_us_reviews, ambig_qa, amttl, anli, app_reviews, aqua_rat, aquamuse, ar_cov19, ar_res_reviews, ar_sarcasm, arabic_billion_words, arabic_pos_dialect, arabic_speech_corpus, arcd, arsentd_lev, art, arxiv_dataset, aslg_pc12, asnq, asset, assin, assin2, atomic, autshumato, babi_qa, banking77, bbc_hindi_nli, bc2gm_corpus, best2009, bianet, bible_para, big_patent, billsum, bing_coronavirus_query_set, biomrc, blended_skill_talk, blimp, blog_authorship_corpus, bn_hate_speech, bookcorpus, bookcorpusopen, boolq, bprec, break_data, brwac, bsd_ja_en, bswac, c3, c4, cail2018, caner, capes, catalonia_independence, cawac, cbt, cc100, cc_news, ccaligned_multilingual, cdsc, cdt, cfq, chr_en, cifar10, cifar100, circa, civil_comments, clickbait_news_bg, climate_fever, clinc_oos, clue, cmrc2018, cnn_dailymail, coached_conv_pref, coarse_discourse, codah, code_search_net, com_qa, common_gen, common_voice, commonsense_qa, compguesswhat, conceptnet5, conll2000, conll2002, conll2003, conllpp, conv_ai, conv_ai_2, conv_ai_3, coqa, cord19, cornell_movie_dialog, cos_e, cosmos_qa, counter, covid_qa_castorini, covid_qa_deepset, covid_qa_ucsd, covid_tweets_japanese, covost2, craigslist_bargains, crawl_domain, crd3, crime_and_punish, crows_pairs, cryptonite, cs_restaurants, curiosity_dialogs, daily_dialog, dane, danish_political_comments, dart, datacommons_factcheck, dbpedia_14, dbrd, deal_or_no_dialog, definite_pronoun_resolution, dengue_filipino, dialog_re, diplomacy_detection, disaster_response_messages, discofuse, discovery, doc2dial, docred, doqa, dream, drop, duorc, dutch_social, dyk, e2e_nlg, e2e_nlg_cleaned, ecb, ecthr_cases, ehealth_kd, eitb_parcc, eli5, emea, emo, emotion, emotone_ar, empathetic_dialogues, enriched_web_nlg, eraser_multi_rc, esnli, eth_py150_open, ethos, eu_regulatory_ir, eurlex, euronews, europa_eac_tm, europa_ecdc_tm, europarl_bilingual, event2Mind, evidence_infer_treatment, exams, factckbr, fake_news_english, fake_news_filipino, farsi_news, fashion_mnist, fever, few_rel, financial_phrasebank, finer, flores, flue, fquad, freebase_qa, gap, gem, generated_reviews_enth, generics_kb, german_legal_entity_recognition, germaner, germeval_14, giga_fren, gigaword, glucose, glue, gnad10, go_emotions, google_wellformed_query, grail_qa, great_code, guardian_authorship, gutenberg_time, hans, hansards, hard, harem, has_part, hate_offensive, hate_speech18, hate_speech_filipino, hate_speech_offensive, hate_speech_pl, hate_speech_portuguese, hatexplain, hausa_voa_ner, hausa_voa_topics, hda_nli_hindi, head_qa, health_fact, hebrew_projectbenyehuda, hebrew_sentiment, hebrew_this_world, hellaswag, hind_encorp, hindi_discourse, hippocorpus, hkcancor, hope_edi, hotpot_qa, hover, hrenwac_para, hrwac, humicroedit, hybrid_qa, hyperpartisan_news_detection, iapp_wiki_qa_squad, id_clickbait, id_liputan6, id_nergrit_corpus, id_newspapers_2018, id_panl_bppt, id_puisi, igbo_english_machine_translation, igbo_monolingual, igbo_ner, ilist, imdb, imdb_urdu_reviews, imppres, indic_glue, indonlu, inquisitive_qg, interpress_news_category_tr, interpress_news_category_tr_lite, irc_disentangle, isixhosa_ner_corpus, isizulu_ner_corpus, iwslt2017, jeopardy, jfleg, jigsaw_toxicity_pred, jnlpba, journalists_questions, kannada_news, kd_conv, kde4, kelm, kilt_tasks, kilt_wikipedia, kinnews_kirnews, kor_3i4k, kor_hate, kor_ner, kor_nli, kor_nlu, kor_qpair, kor_sae, kor_sarcasm, labr, lama, lambada, large_spanish_corpus, laroseda, lc_quad, lener_br, liar, librispeech_asr, librispeech_lm, limit, lince, linnaeus, liveqa, lj_speech, lm1b, lst20, m_lama, mac_morpho, makhzan, math_dataset, math_qa, matinf, mc_taco, md_gender_bias, mdd, med_hop, medal, medical_dialog, medical_questions_pairs, menyo20k_mt, meta_woz, metooma, metrec, miam, mkb, mkqa, mlqa, mlsum, mnist, mocha, moroco, movie_rationales, mrqa, ms_marco, ms_terms, msr_genomics_kbcomp, msr_sqa, msr_text_compression, msr_zhen_translation_parity, msra_ner, mt_eng_vietnamese, muchocine, multi_booked, multi_news, multi_nli, multi_nli_mismatch, multi_para_crawl, multi_re_qa, multi_woz_v22, multi_x_science_sum, mutual_friends, mwsc, myanmar_news, narrativeqa, narrativeqa_manual, natural_questions, ncbi_disease, nchlt, ncslgr, nell, neural_code_search, news_commentary, newsgroup, newsph, newsph_nli, newspop, newsqa, newsroom, nkjp-ner, nli_tr, norec, norne, norwegian_ner, nq_open, nsmc, numer_sense, numeric_fused_head, oclar, offcombr, offenseval2020_tr, offenseval_dravidian, ofis_publik, ohsumed, ollie, omp, onestop_english, open_subtitles, openbookqa, openwebtext, opinosis, opus100, opus_books, opus_dgt, opus_dogc, opus_elhuyar, opus_euconst, opus_finlex, opus_fiskmo, opus_gnome, opus_infopankki, opus_memat, opus_montenegrinsubs, opus_openoffice, opus_paracrawl, opus_rf, opus_tedtalks, opus_ubuntu, opus_wikipedia, opus_xhosanavy, orange_sum, oscar, para_crawl, para_pat, parsinlu_reading_comprehension, paws, paws-x, pec, peer_read, peoples_daily_ner, per_sent, persian_ner, pg19, php, piaf, pib, piqa, pn_summary, poem_sentiment, polemo2, poleval2019_cyberbullying, poleval2019_mt, polsum, polyglot_ner, prachathai67k, pragmeval, proto_qa, psc, ptb_text_only, pubmed, pubmed_qa, py_ast, qa4mre, qa_srl, qa_zre, qangaroo, qanta, qasc, qed, qed_amara, quac, quail, quarel, quartz, quora, quoref, race, re_dial, reasoning_bg, recipe_nlg, reclor, reddit, reddit_tifu, refresd, reuters21578, ro_sent, ro_sts, ro_sts_parallel, roman_urdu, ronec, ropes, rotten_tomatoes, s2orc, samsum, sanskrit_classic, saudinewsnet, scan, scb_mt_enth_2020, schema_guided_dstc8, scicite, scielo, scientific_papers, scifact, sciq, scitail, scitldr, search_qa, selqa, sem_eval_2010_task_8, sem_eval_2014_task_1, sem_eval_2020_task_11, sent_comp, senti_lex, senti_ws, sentiment140, sepedi_ner, sesotho_ner_corpus, setimes, setswana_ner_corpus, sharc, sharc_modified, sick, silicone, simple_questions_v2, siswati_ner_corpus, smartdata, sms_spam, snips_built_in_intents, snli, snow_simplified_japanese_corpus, so_stacksample, social_bias_frames, social_i_qa, sofc_materials_articles, sogou_news, spanish_billion_words, spc, species_800, spider, squad, squad_adversarial, squad_es, squad_it, squad_kor_v1, squad_kor_v2, squad_v1_pt, squad_v2, squadshifts, srwac, sst, stereoset, stsb_mt_sv, stsb_multi_mt, style_change_detection, super_glue, swag, swahili, swahili_news, swda, swedish_ner_corpus, swedish_reviews, tab_fact, tamilmixsentiment, tanzil, tapaco, tashkeela, taskmaster1, taskmaster2, taskmaster3, tatoeba, ted_hrlr, ted_iwlst2013, ted_multi, ted_talks_iwslt, telugu_books, telugu_news, tep_en_fa_para, thai_toxicity_tweet, thainer, thaiqa_squad, thaisum, tilde_model, times_of_india_news_headlines, timit_asr, tiny_shakespeare, tlc, tmu_gfm_dataset, totto, trec, trivia_qa, tsac, ttc4900, tunizi, tuple_ie, turk, turkish_movie_sentiment, turkish_ner, turkish_product_reviews, turkish_shrinked_ner, turku_ner_corpus, tweet_eval, tweet_qa, tweets_ar_en_parallel, tweets_hate_speech_detection, twi_text_c3, twi_wordsim353, tydiqa, ubuntu_dialogs_corpus, udhr, um005, un_ga, un_multi, un_pc, universal_dependencies, universal_morphologies, urdu_fake_news, urdu_sentiment_corpus, web_nlg, web_of_science, web_questions, weibo_ner, wi_locness, wiki40b, wiki_asp, wiki_atomic_edits, wiki_auto, wiki_bio, wiki_dpr, wiki_hop, wiki_lingua, wiki_movies, wiki_qa, wiki_qa_ar, wiki_snippets, wiki_source, wiki_split, wiki_summary, wikiann, wikicorpus, wikihow, wikipedia, wikisql, wikitext, wikitext_tl39, wili_2018, wino_bias, winograd_wsc, winogrande, wiqa, wisesight1000, wisesight_sentiment, wmt14, wmt15, wmt16, wmt17, wmt18, wmt19, wmt20_mlqe_task1, wmt20_mlqe_task2, wmt20_mlqe_task3, wmt_t2t, wnut_17, wongnai_reviews, woz_dialogue, wrbsc, x_stance, xcopa, xed_en_fi, xglue, xnli, xor_tydi_qa, xquad, xquad_r, xsum, xsum_factuality, xtreme, yahoo_answers_qa, yahoo_answers_topics, yelp_polarity, yelp_review_full, yoruba_bbc_topics, yoruba_gv_ner, yoruba_text_c3, yoruba_wordsim353, youtube_caption_corrections, zest, AConsApart/anime_subtitles_DialoGPT, Adnan/Urdu_News_Headlines, Avishekavi/Avi, Binbin/my_dataset, CMU-Zeyu/TuringBench, EMBO/biolang, EMBO/sd-nlp, Eymen3455/xsum_tr, FRTNX/cosuju, Firoj/CrisisBench, Fraser/mnist-text-default, Fraser/mnist-text-no-spaces, Fraser/mnist-text-small, Fraser/news-category-dataset, Fraser/python-lines, Fraser/short-jokes, Halilyesilceng/autonlp-data-nameEntityRecognition, Harveenchadha/Gujarati-Monolingual-Data, Jean-Baptiste/wikiner_fr, KidDiabeetus/Unhinged, MarianaSahagun/test, Melinoe/TheLabTexts, NbAiLab/norec_agg, NbAiLab/norne, NbAiLab/norwegian_parliament, Ofrit/tmp, QA/abk-eng, SinyorHalibo/Question_Ask, Terry0107/RiSAWOZ, TimTreasure4/Test, Valahaar/wsdmt, Vishva/UniFAQ_DataSET, Wikidepia/IndoParaCrawl, Wikidepia/IndoSQuAD, Yves/fhnw_swiss_parliament, abwicke/C-B-R, abwicke/koplo, adamlin/re_dial, ajmbell/test-dataset, alireza655/alireza655, allenai/c4, ashish-shrivastava/dont-know-dataset, astarostap/antisemitic-tweets, astarostap/antisemitic_tweets, ausgequetschtem/jtrddfhfgh, bemanningssitua/dplremjfjfj, caca/zscczs, ccccccc/hdjw_94ejrjr, cdminix/mgb1, cemigo/taylor_vs_shakes, cemigo/test-data, clarin-pl/cst-wikinews, cnrcastroli/aaaa, congpt/dstc23_asr, dasago78/dasago78dataset, david-wb/zeshel, dispenst/jhghdghfd, dispix/test-dataset, dynabench/qa, eason929/test, edfews/szdfcszdf, ervis/aaa, ervis/qqq, formermagic/github_python_1m, formu/CVT, fuliucansheng/data_for_test, german-nlp-group/german_common_crawl, godzillavskongonlinetv/ergfdg, godzillavskongonlinetv/godzillavskongfullmovie, gustavecortal/fr_covid_news, hartzeer/kdfjdshfje, hfface/poopi, iamshsdf/sssssssssss, jaimin/wav2vec2-large-xlsr-gujarati-demo, jdepoix/junit_test_completion, joelito/ler, joelito/sem_eval_2010_task_8, julien-c/dummy-dataset-from-colab, k-halid/ar, katoensp/VR-OP, lavis-nlp/german_legal_sentences, lhoestq/custom_squad, lhoestq/squad, lhoestq/test, lkiouiou/o9ui7877687, lohanna/testedjkcxkf, lucien/sciencemission, lucien/voacantonesed, lucien/wsaderfffjjjhhh, majod/CleanNaturalQuestionsDataset, medzaf/test, metalearning/kaggale-nlp-tutorial, mmm-da/rutracker_anime_torrent_titles, mohsenfayyaz/toxicity-classification-datasets, mulcyber/europarl-mono, mustafa12/db_ee, mustafa12/edaaaas, mustafa12/thors, oelkrise/CRT, parivartanayurveda/Malesexproblemsayurvedictreatment, patrickvonplaten/librispeech_asr_dummy, patrickvonplaten/scientific_papers_dummy, pdesoyres/test, peixian/equity_evaluation_corpus, peixian/rtGender, persiannlp/parsinlu_entailment, persiannlp/parsinlu_query_paraphrasing, persiannlp/parsinlu_reading_comprehension, persiannlp/parsinlu_sentiment, persiannlp/parsinlu_translation_en_fa, persiannlp/parsinlu_translation_fa_en, piEsposito/br-quad-2.0, piEsposito/br_quad_20, piEsposito/squad_20_ptbr, projectaligned/reddit_writingprompts_full, salesken/Paraphrase_category_detection, scrapfast/news_french_2020, sdfufygvjh/fgghuviugviu, seamew/amazon_reviews_zh, sharejing/BiPaR, sismetanin/rureviews, spacemanidol/msmarco_passage_ranking, ssasaa/gghghgh, sshleifer/pseudo_bart_xsum, stas/wmt14-en-de-pre-processed, stas/wmt16-en-ro-pre-processed, stiel/skjdhjkasdhasjkd, susumu2357/squad_v2_sv, tals/test, toriving/agnews, toriving/atis-intent, toriving/cola, toriving/cr, toriving/dbpedia-content, toriving/dbpedia, toriving/imdb, toriving/mpqa, toriving/mr, toriving/snips-intent, toriving/sst2, toriving/sst5, toriving/subj, toriving/trec6, toriving/yahoo-answers, toriving/yelp, uasoyasser/rgfes, vasudevgupta/temperature-distribution-2d-plate, vasudevgupta/temperature-distribution-3d-cylinder, versae/adobo, w11wo/imdb-javanese, wmt/europarl, wmt/news-commentary, wmt/uncorpus, wmt/wikititles, wmt/wmt10, wmt/wmt13, wmt/wmt14, wmt/wmt15, wmt/wmt16, wmt/wmt17, wmt/wmt18, wmt/wmt19, yluisfern/PBU, zhengxuanzenwu/ARC-Objects\n"
          ],
          "name": "stdout"
        }
      ]
    },
    {
      "cell_type": "markdown",
      "metadata": {
        "id": "C6NsclQPi4XI"
      },
      "source": [
        "### Tips\n",
        "- Most of the datasets hosted by HuggingFace are not meant for Causal LM fine-tuning. Make sure you preprocess them accordingly if you want to use them.\n",
        "- In order to check out information about a dataset hosted by huggingface you can use [this web viewer](https://huggingface.co/datasets/viewer/?dataset=crime_and_punish). Try to avoid downloading a dataset that's too big!\n",
        "- You will likely have to change the custom 'encode' function for each new dataset you want to fine-tune on. You need to change batch['line'] to instead index with the correct column label for your specific dataset (it probably wont be called 'line').\n",
        "\n",
        "### Useful Links\n",
        "[load_datasets Documentation](https://huggingface.co/docs/datasets/package_reference/loading_methods.html#datasets.load_dataset)\n",
        "\n",
        "[Trainer Documentation](https://huggingface.co/transformers/main_classes/trainer.html#id1)\n",
        "\n",
        "[Example: Fine-Tuning BERT for Esperanto](https://colab.research.google.com/github/huggingface/blog/blob/master/notebooks/01_how_to_train.ipynb#scrollTo=zTgWPa9Dipk2)\n",
        "\n",
        "[Example: Fine-Tuning for IMDb Classification](https://colab.research.google.com/drive/1-JIJlao4dI-Ilww_NnTc0rxtp-ymgDgM?usp=sharing#scrollTo=5DEWNilys9Ty)\n"
      ]
    },
    {
      "cell_type": "markdown",
      "metadata": {
        "id": "NzjWvQnft8t2"
      },
      "source": [
        "#### Dataset \\#1"
      ]
    },
    {
      "cell_type": "code",
      "metadata": {
        "id": "a3M0lPs5mMkk"
      },
      "source": [
        "## YOUR CODE HERE - FOR FINE-TUNING GPT2 ON DATASET \n",
        "tokenizer = AutoTokenizer.from_pretrained('gpt2')\n",
        "tokenizer.pad_token = tokenizer.eos_token\n",
        "model = AutoModelForCausalLM.from_pretrained('gpt2').cuda()\n",
        "data_collator = DataCollatorForLanguageModeling(tokenizer=tokenizer, mlm=False)"
      ],
      "execution_count": 5,
      "outputs": []
    },
    {
      "cell_type": "code",
      "metadata": {
        "colab": {
          "base_uri": "https://localhost:8080/",
          "height": 120,
          "referenced_widgets": [
            "0b736f895c654a09b034cb541c92db3d",
            "d6127b38677b447d8fb89a2f4effa3da",
            "65265bab46794a46b719099335d80f3e",
            "3cc1370d545c4dbcbc830520ffed274c",
            "42d1bca2344c4716a278529547053f69",
            "50b8fddda24f4fd9985fa157357067dc",
            "0cc9684eb071416889a559bfda119b05",
            "aaa59266fef749769b53453243afd33a"
          ]
        },
        "id": "jerITnRSDlgu",
        "outputId": "789ed148-395d-47b2-cc1b-bd0aa713d40d"
      },
      "source": [
        "def encode(batch): return tokenizer([x.strip('\\n\\r') for x in batch['sentence']], truncation=True, padding=True)\n",
        "limit = load_dataset('limit', split='train')\n",
        "limit = limit.remove_columns(['id', 'motion','motion_entities'])\n",
        "processed = limit.map(encode, batched=True, batch_size=len(limit))\n",
        "processed.set_format('torch', columns=['input_ids', 'attention_mask'])"
      ],
      "execution_count": 12,
      "outputs": [
        {
          "output_type": "stream",
          "text": [
            "Using custom data configuration default\n",
            "Reusing dataset limit (/root/.cache/huggingface/datasets/limit/default/1.0.0/22ff29c4830e016ecdcd2959050a5140aab92edf492ebfd9a97f398441ad7c22)\n"
          ],
          "name": "stderr"
        },
        {
          "output_type": "display_data",
          "data": {
            "application/vnd.jupyter.widget-view+json": {
              "model_id": "0b736f895c654a09b034cb541c92db3d",
              "version_minor": 0,
              "version_major": 2
            },
            "text/plain": [
              "HBox(children=(FloatProgress(value=0.0, max=1.0), HTML(value='')))"
            ]
          },
          "metadata": {
            "tags": []
          }
        },
        {
          "output_type": "stream",
          "text": [
            "\n"
          ],
          "name": "stdout"
        }
      ]
    },
    {
      "cell_type": "code",
      "metadata": {
        "id": "-eO10tgNDuOk"
      },
      "source": [
        "training_args = TrainingArguments(\n",
        "    output_dir='/content/',\n",
        "    overwrite_output_dir=True,\n",
        "    num_train_epochs=1,\n",
        "    per_device_train_batch_size=16,\n",
        "    per_device_eval_batch_size=64,\n",
        "    logging_steps=100,\n",
        "    weight_decay=0.01,\n",
        "    logging_dir='./logs',\n",
        ")\n",
        "\n",
        "trainer = Trainer(\n",
        "    model=model,\n",
        "    tokenizer=tokenizer,\n",
        "    args=training_args,\n",
        "    data_collator=data_collator,\n",
        "    train_dataset=processed,\n",
        ")"
      ],
      "execution_count": 14,
      "outputs": []
    },
    {
      "cell_type": "code",
      "metadata": {
        "colab": {
          "base_uri": "https://localhost:8080/",
          "height": 546
        },
        "id": "PoBVYNbDD0hP",
        "outputId": "059e0d41-df26-40cb-e53f-ed55a7e96029"
      },
      "source": [
        "trainer.train()"
      ],
      "execution_count": 15,
      "outputs": [
        {
          "output_type": "display_data",
          "data": {
            "text/html": [
              "\n",
              "    <div>\n",
              "        <style>\n",
              "            /* Turns off some styling */\n",
              "            progress {\n",
              "                /* gets rid of default border in Firefox and Opera. */\n",
              "                border: none;\n",
              "                /* Needs to be in here for Safari polyfill so background images work as expected. */\n",
              "                background-size: auto;\n",
              "            }\n",
              "        </style>\n",
              "      \n",
              "      <progress value='1473' max='1473' style='width:300px; height:20px; vertical-align: middle;'></progress>\n",
              "      [1473/1473 20:05, Epoch 1/1]\n",
              "    </div>\n",
              "    <table border=\"1\" class=\"dataframe\">\n",
              "  <thead>\n",
              "    <tr style=\"text-align: left;\">\n",
              "      <th>Step</th>\n",
              "      <th>Training Loss</th>\n",
              "    </tr>\n",
              "  </thead>\n",
              "  <tbody>\n",
              "    <tr>\n",
              "      <td>100</td>\n",
              "      <td>4.237300</td>\n",
              "    </tr>\n",
              "    <tr>\n",
              "      <td>200</td>\n",
              "      <td>4.127500</td>\n",
              "    </tr>\n",
              "    <tr>\n",
              "      <td>300</td>\n",
              "      <td>4.077300</td>\n",
              "    </tr>\n",
              "    <tr>\n",
              "      <td>400</td>\n",
              "      <td>4.057500</td>\n",
              "    </tr>\n",
              "    <tr>\n",
              "      <td>500</td>\n",
              "      <td>4.063200</td>\n",
              "    </tr>\n",
              "    <tr>\n",
              "      <td>600</td>\n",
              "      <td>4.037700</td>\n",
              "    </tr>\n",
              "    <tr>\n",
              "      <td>700</td>\n",
              "      <td>3.968800</td>\n",
              "    </tr>\n",
              "    <tr>\n",
              "      <td>800</td>\n",
              "      <td>3.991100</td>\n",
              "    </tr>\n",
              "    <tr>\n",
              "      <td>900</td>\n",
              "      <td>3.984100</td>\n",
              "    </tr>\n",
              "    <tr>\n",
              "      <td>1000</td>\n",
              "      <td>3.973700</td>\n",
              "    </tr>\n",
              "    <tr>\n",
              "      <td>1100</td>\n",
              "      <td>3.986700</td>\n",
              "    </tr>\n",
              "    <tr>\n",
              "      <td>1200</td>\n",
              "      <td>3.968400</td>\n",
              "    </tr>\n",
              "    <tr>\n",
              "      <td>1300</td>\n",
              "      <td>3.971800</td>\n",
              "    </tr>\n",
              "    <tr>\n",
              "      <td>1400</td>\n",
              "      <td>3.951600</td>\n",
              "    </tr>\n",
              "  </tbody>\n",
              "</table><p>"
            ],
            "text/plain": [
              "<IPython.core.display.HTML object>"
            ]
          },
          "metadata": {
            "tags": []
          }
        },
        {
          "output_type": "execute_result",
          "data": {
            "text/plain": [
              "TrainOutput(global_step=1473, training_loss=4.0259538224499325, metrics={'train_runtime': 1206.4177, 'train_samples_per_second': 1.221, 'total_flos': 3025491114645504.0, 'epoch': 1.0, 'init_mem_cpu_alloc_delta': 0, 'init_mem_gpu_alloc_delta': 0, 'init_mem_cpu_peaked_delta': 0, 'init_mem_gpu_peaked_delta': 0, 'train_mem_cpu_alloc_delta': -295440384, 'train_mem_gpu_alloc_delta': 1500909568, 'train_mem_cpu_peaked_delta': 325840896, 'train_mem_gpu_peaked_delta': 6013088256})"
            ]
          },
          "metadata": {
            "tags": []
          },
          "execution_count": 15
        }
      ]
    },
    {
      "cell_type": "markdown",
      "metadata": {
        "id": "b6NwNFURsQe_"
      },
      "source": [
        "(3 pts) I used the dataset Literal-Motion-in-Text which is a large human-annotated collection of English text sentences describing physical occurrence of motion, with annotated physical entities in motion. "
      ]
    },
    {
      "cell_type": "code",
      "metadata": {
        "id": "Kgg1M26eD1U6"
      },
      "source": [
        "trainer.save_model('./limit')\n",
        "limitmodel = pipeline('text-generation', model='./limit', device=0)\n",
        "gpt2 = pipeline('text-generation', model='gpt2', device=0)"
      ],
      "execution_count": 17,
      "outputs": []
    },
    {
      "cell_type": "code",
      "metadata": {
        "colab": {
          "base_uri": "https://localhost:8080/"
        },
        "id": "Og-hn_2hu-UL",
        "outputId": "def1fd2d-04c3-4d6e-d1eb-6ca1a8be20ca"
      },
      "source": [
        "for i in range(10):\n",
        "  print(limitmodel('The ball'))\n",
        "\n",
        "print()\n",
        "\n",
        "for i in range(10):\n",
        "  print(gpt2('The ball'))"
      ],
      "execution_count": 22,
      "outputs": [
        {
          "output_type": "stream",
          "text": [
            "Setting `pad_token_id` to `eos_token_id`:50256 for open-end generation.\n",
            "Setting `pad_token_id` to `eos_token_id`:50256 for open-end generation.\n"
          ],
          "name": "stderr"
        },
        {
          "output_type": "stream",
          "text": [
            "[{'generated_text': 'The ball struck him on the head. In his agony of agony, he sank back, his forehead sinking like a rag, while his voice was almost unintelligible. \"Auld sir,\" he whispered, but he sat down and fell to his'}]\n"
          ],
          "name": "stdout"
        },
        {
          "output_type": "stream",
          "text": [
            "Setting `pad_token_id` to `eos_token_id`:50256 for open-end generation.\n"
          ],
          "name": "stderr"
        },
        {
          "output_type": "stream",
          "text": [
            "[{'generated_text': 'The ball was given to Nubal and the people went forth and the man who had carried it away, then went out into the street where the old lady sat and waited for a change. The old woman with the maid brought the ball and threw'}]\n"
          ],
          "name": "stdout"
        },
        {
          "output_type": "stream",
          "text": [
            "Setting `pad_token_id` to `eos_token_id`:50256 for open-end generation.\n"
          ],
          "name": "stderr"
        },
        {
          "output_type": "stream",
          "text": [
            "[{'generated_text': 'The ball struck against the wall and knocked out its fellow, giving her the advantage. Even if she had been saved, she would not escape the injury. \"Did that not throw you off? For now you know that you are, I would say'}]\n"
          ],
          "name": "stdout"
        },
        {
          "output_type": "stream",
          "text": [
            "Setting `pad_token_id` to `eos_token_id`:50256 for open-end generation.\n"
          ],
          "name": "stderr"
        },
        {
          "output_type": "stream",
          "text": [
            "[{'generated_text': 'The ball is shown off again and the man scores more of his shots. The clip also shows a video of two female players kicking goalies and leads into the woman kicking a goal. The player scores and a man walks out. The man then wins'}]\n"
          ],
          "name": "stdout"
        },
        {
          "output_type": "stream",
          "text": [
            "Setting `pad_token_id` to `eos_token_id`:50256 for open-end generation.\n"
          ],
          "name": "stderr"
        },
        {
          "output_type": "stream",
          "text": [
            "[{'generated_text': 'The ball was rolling up to him, and he hit it. The ball bounced back as he struck it. He put his foot on it. After some minutes he passed the ball and returned it. Several hundred yards forward the same player returned it,'}]\n"
          ],
          "name": "stdout"
        },
        {
          "output_type": "stream",
          "text": [
            "Setting `pad_token_id` to `eos_token_id`:50256 for open-end generation.\n"
          ],
          "name": "stderr"
        },
        {
          "output_type": "stream",
          "text": [
            "[{'generated_text': 'The ball rolled aside and the crowd applauded. The man in Black, who was talking with a hand on his shoulder, threw himself back and forth with excitement. The onlookers applauded him, and the man in Black began to raise his hand. The'}]\n"
          ],
          "name": "stdout"
        },
        {
          "output_type": "stream",
          "text": [
            "Setting `pad_token_id` to `eos_token_id`:50256 for open-end generation.\n"
          ],
          "name": "stderr"
        },
        {
          "output_type": "stream",
          "text": [
            "[{'generated_text': 'The ball struck home on the second pitch, and the captain rose and went to congratulate his mother. \"You\\'ve been a big success, captain, and I am very glad. Don\\'t you know, we\\'re going to set you up here to'}]\n"
          ],
          "name": "stdout"
        },
        {
          "output_type": "stream",
          "text": [
            "Setting `pad_token_id` to `eos_token_id`:50256 for open-end generation.\n"
          ],
          "name": "stderr"
        },
        {
          "output_type": "stream",
          "text": [
            "[{'generated_text': 'The ball went round the ring, the ring fell down, and the spectators began to dance on the floor and to hear the dancing.\\n\\nThe crowd was so small that there were scarcely ten men on the stage, but they looked to be more'}]\n"
          ],
          "name": "stdout"
        },
        {
          "output_type": "stream",
          "text": [
            "Setting `pad_token_id` to `eos_token_id`:50256 for open-end generation.\n"
          ],
          "name": "stderr"
        },
        {
          "output_type": "stream",
          "text": [
            "[{'generated_text': 'The ball is now on the bottom of the bench. A girl is kneeling in the middle of the stage. The girl turns red and grabs a ball. She grabs the ball and scores the game out with ten to two to beat her. She then'}]\n"
          ],
          "name": "stdout"
        },
        {
          "output_type": "stream",
          "text": [
            "Setting `pad_token_id` to `eos_token_id`:50256 for open-end generation.\n"
          ],
          "name": "stderr"
        },
        {
          "output_type": "stream",
          "text": [
            "[{'generated_text': 'The ball left the table, then it dropped to the floor by the foot of another table, and there it fell again. The ball struck the bottom of the two tables. When the floor was shaken a dozen or more hits are made in the floor'}]\n",
            "\n"
          ],
          "name": "stdout"
        },
        {
          "output_type": "stream",
          "text": [
            "Setting `pad_token_id` to `eos_token_id`:50256 for open-end generation.\n"
          ],
          "name": "stderr"
        },
        {
          "output_type": "stream",
          "text": [
            "[{'generated_text': \"The ball is always a little high in the air when we are doing this – it is pretty intense now because we are in touch with the game's best players in an age when there are so many exciting youngsters who will come round and play in Europe\"}]\n"
          ],
          "name": "stdout"
        },
        {
          "output_type": "stream",
          "text": [
            "Setting `pad_token_id` to `eos_token_id`:50256 for open-end generation.\n"
          ],
          "name": "stderr"
        },
        {
          "output_type": "stream",
          "text": [
            "[{'generated_text': 'The ball will continue to settle at an ever faster pace over the summer and it is expected to start to break through, as well, with just as much speed as its predecessor and should have come into effect in the summer.'}]\n"
          ],
          "name": "stdout"
        },
        {
          "output_type": "stream",
          "text": [
            "Setting `pad_token_id` to `eos_token_id`:50256 for open-end generation.\n"
          ],
          "name": "stderr"
        },
        {
          "output_type": "stream",
          "text": [
            "[{'generated_text': 'The ball bounces from head to toe before it bounces to its next position, with the receiver bouncing back to the receiver and again the ball bounces back to the receiver.\\n\\n\"That is what a receiver is,\" says Robson, who has spent'}]\n"
          ],
          "name": "stdout"
        },
        {
          "output_type": "stream",
          "text": [
            "Setting `pad_token_id` to `eos_token_id`:50256 for open-end generation.\n"
          ],
          "name": "stderr"
        },
        {
          "output_type": "stream",
          "text": [
            "[{'generated_text': \"The ball is coming in and they're going to put our whole stadium on the line. It's tough. They're gonna use any available space for an action that makes sense for us. We just have to step that up against some of the worst\"}]\n"
          ],
          "name": "stdout"
        },
        {
          "output_type": "stream",
          "text": [
            "Setting `pad_token_id` to `eos_token_id`:50256 for open-end generation.\n",
            "Setting `pad_token_id` to `eos_token_id`:50256 for open-end generation.\n"
          ],
          "name": "stderr"
        },
        {
          "output_type": "stream",
          "text": [
            "[{'generated_text': \"The ball doesn't hit the ground, but it moves out to full speed! When it's free, you keep it out of the way so that your other guys can jump in. It is an amazing weapon!\\n\\nThat leaves your opponents with\"}]\n",
            "[{'generated_text': 'The ball is going the way it has long been.'}]\n"
          ],
          "name": "stdout"
        },
        {
          "output_type": "stream",
          "text": [
            "Setting `pad_token_id` to `eos_token_id`:50256 for open-end generation.\n"
          ],
          "name": "stderr"
        },
        {
          "output_type": "stream",
          "text": [
            "[{'generated_text': 'The ball is a game changer for our football environment.\\n\\n\"We\\'ve got one of the nicest stadiums in the country but now we can get off to a terrific start. As an English team, Arsenal\\'s been winning League One as'}]\n"
          ],
          "name": "stdout"
        },
        {
          "output_type": "stream",
          "text": [
            "Setting `pad_token_id` to `eos_token_id`:50256 for open-end generation.\n"
          ],
          "name": "stderr"
        },
        {
          "output_type": "stream",
          "text": [
            "[{'generated_text': 'The ball was in my lap and the thought of it getting to me, feeling the weight of the ball. I could tell my friends was there because I looked in his hands and he looked up to me. So it was just amazing. I have'}]\n"
          ],
          "name": "stdout"
        },
        {
          "output_type": "stream",
          "text": [
            "Setting `pad_token_id` to `eos_token_id`:50256 for open-end generation.\n"
          ],
          "name": "stderr"
        },
        {
          "output_type": "stream",
          "text": [
            "[{'generated_text': \"The ball had gotten in his hand before he left the court and he hadn't touched it. But he had just been sitting there in pain. My eyes widened for a moment, and I couldn't help but think that maybe the guy hadn't touched\"}]\n",
            "[{'generated_text': 'The ball was held in his hands, and the headpiece was placed on her thigh. When the game was over, she had become the fourth maid in that wardage, and the last maid of her wardage. There were few who were less'}]\n"
          ],
          "name": "stdout"
        }
      ]
    },
    {
      "cell_type": "markdown",
      "metadata": {
        "id": "cXLqnbnhs_nC"
      },
      "source": [
        "(4 pts) According to the output, we can see that the generation from fine-tuned model indicates motion more frequently than the normal gpt2 model.\n"
      ]
    }
  ]
}