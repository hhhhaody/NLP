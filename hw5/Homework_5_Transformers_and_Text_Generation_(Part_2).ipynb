{
  "nbformat": 4,
  "nbformat_minor": 0,
  "metadata": {
    "colab": {
      "name": "Homework 5-Transformers and Text-Generation (Part 2)",
      "provenance": [],
      "collapsed_sections": []
    },
    "kernelspec": {
      "name": "python3",
      "display_name": "Python 3"
    },
    "accelerator": "GPU",
    "widgets": {
      "application/vnd.jupyter.widget-state+json": {
        "b040df67f22341d2a1a6659b068be9ce": {
          "model_module": "@jupyter-widgets/controls",
          "model_name": "HBoxModel",
          "state": {
            "_view_name": "HBoxView",
            "_dom_classes": [],
            "_model_name": "HBoxModel",
            "_view_module": "@jupyter-widgets/controls",
            "_model_module_version": "1.5.0",
            "_view_count": null,
            "_view_module_version": "1.5.0",
            "box_style": "",
            "layout": "IPY_MODEL_09f3f6db79e44c18aa2fe7d61bfc709f",
            "_model_module": "@jupyter-widgets/controls",
            "children": [
              "IPY_MODEL_da24027b10184e07ae3c1465436131b4",
              "IPY_MODEL_7bffabf311b74048a26cce0977c64ec1"
            ]
          }
        },
        "09f3f6db79e44c18aa2fe7d61bfc709f": {
          "model_module": "@jupyter-widgets/base",
          "model_name": "LayoutModel",
          "state": {
            "_view_name": "LayoutView",
            "grid_template_rows": null,
            "right": null,
            "justify_content": null,
            "_view_module": "@jupyter-widgets/base",
            "overflow": null,
            "_model_module_version": "1.2.0",
            "_view_count": null,
            "flex_flow": null,
            "width": null,
            "min_width": null,
            "border": null,
            "align_items": null,
            "bottom": null,
            "_model_module": "@jupyter-widgets/base",
            "top": null,
            "grid_column": null,
            "overflow_y": null,
            "overflow_x": null,
            "grid_auto_flow": null,
            "grid_area": null,
            "grid_template_columns": null,
            "flex": null,
            "_model_name": "LayoutModel",
            "justify_items": null,
            "grid_row": null,
            "max_height": null,
            "align_content": null,
            "visibility": null,
            "align_self": null,
            "height": null,
            "min_height": null,
            "padding": null,
            "grid_auto_rows": null,
            "grid_gap": null,
            "max_width": null,
            "order": null,
            "_view_module_version": "1.2.0",
            "grid_template_areas": null,
            "object_position": null,
            "object_fit": null,
            "grid_auto_columns": null,
            "margin": null,
            "display": null,
            "left": null
          }
        },
        "da24027b10184e07ae3c1465436131b4": {
          "model_module": "@jupyter-widgets/controls",
          "model_name": "FloatProgressModel",
          "state": {
            "_view_name": "ProgressView",
            "style": "IPY_MODEL_9ec36e8390534dceb260214a6f73df26",
            "_dom_classes": [],
            "description": "Downloading: 100%",
            "_model_name": "FloatProgressModel",
            "bar_style": "success",
            "max": 1042301,
            "_view_module": "@jupyter-widgets/controls",
            "_model_module_version": "1.5.0",
            "value": 1042301,
            "_view_count": null,
            "_view_module_version": "1.5.0",
            "orientation": "horizontal",
            "min": 0,
            "description_tooltip": null,
            "_model_module": "@jupyter-widgets/controls",
            "layout": "IPY_MODEL_5a48f54240024c8fabf01654f828a373"
          }
        },
        "7bffabf311b74048a26cce0977c64ec1": {
          "model_module": "@jupyter-widgets/controls",
          "model_name": "HTMLModel",
          "state": {
            "_view_name": "HTMLView",
            "style": "IPY_MODEL_3cbf7c30a1e044f28432b38157f3ed94",
            "_dom_classes": [],
            "description": "",
            "_model_name": "HTMLModel",
            "placeholder": "​",
            "_view_module": "@jupyter-widgets/controls",
            "_model_module_version": "1.5.0",
            "value": " 1.04M/1.04M [00:00&lt;00:00, 7.72MB/s]",
            "_view_count": null,
            "_view_module_version": "1.5.0",
            "description_tooltip": null,
            "_model_module": "@jupyter-widgets/controls",
            "layout": "IPY_MODEL_fc34b9018b3a4f20ab2bac44161b26c0"
          }
        },
        "9ec36e8390534dceb260214a6f73df26": {
          "model_module": "@jupyter-widgets/controls",
          "model_name": "ProgressStyleModel",
          "state": {
            "_view_name": "StyleView",
            "_model_name": "ProgressStyleModel",
            "description_width": "initial",
            "_view_module": "@jupyter-widgets/base",
            "_model_module_version": "1.5.0",
            "_view_count": null,
            "_view_module_version": "1.2.0",
            "bar_color": null,
            "_model_module": "@jupyter-widgets/controls"
          }
        },
        "5a48f54240024c8fabf01654f828a373": {
          "model_module": "@jupyter-widgets/base",
          "model_name": "LayoutModel",
          "state": {
            "_view_name": "LayoutView",
            "grid_template_rows": null,
            "right": null,
            "justify_content": null,
            "_view_module": "@jupyter-widgets/base",
            "overflow": null,
            "_model_module_version": "1.2.0",
            "_view_count": null,
            "flex_flow": null,
            "width": null,
            "min_width": null,
            "border": null,
            "align_items": null,
            "bottom": null,
            "_model_module": "@jupyter-widgets/base",
            "top": null,
            "grid_column": null,
            "overflow_y": null,
            "overflow_x": null,
            "grid_auto_flow": null,
            "grid_area": null,
            "grid_template_columns": null,
            "flex": null,
            "_model_name": "LayoutModel",
            "justify_items": null,
            "grid_row": null,
            "max_height": null,
            "align_content": null,
            "visibility": null,
            "align_self": null,
            "height": null,
            "min_height": null,
            "padding": null,
            "grid_auto_rows": null,
            "grid_gap": null,
            "max_width": null,
            "order": null,
            "_view_module_version": "1.2.0",
            "grid_template_areas": null,
            "object_position": null,
            "object_fit": null,
            "grid_auto_columns": null,
            "margin": null,
            "display": null,
            "left": null
          }
        },
        "3cbf7c30a1e044f28432b38157f3ed94": {
          "model_module": "@jupyter-widgets/controls",
          "model_name": "DescriptionStyleModel",
          "state": {
            "_view_name": "StyleView",
            "_model_name": "DescriptionStyleModel",
            "description_width": "",
            "_view_module": "@jupyter-widgets/base",
            "_model_module_version": "1.5.0",
            "_view_count": null,
            "_view_module_version": "1.2.0",
            "_model_module": "@jupyter-widgets/controls"
          }
        },
        "fc34b9018b3a4f20ab2bac44161b26c0": {
          "model_module": "@jupyter-widgets/base",
          "model_name": "LayoutModel",
          "state": {
            "_view_name": "LayoutView",
            "grid_template_rows": null,
            "right": null,
            "justify_content": null,
            "_view_module": "@jupyter-widgets/base",
            "overflow": null,
            "_model_module_version": "1.2.0",
            "_view_count": null,
            "flex_flow": null,
            "width": null,
            "min_width": null,
            "border": null,
            "align_items": null,
            "bottom": null,
            "_model_module": "@jupyter-widgets/base",
            "top": null,
            "grid_column": null,
            "overflow_y": null,
            "overflow_x": null,
            "grid_auto_flow": null,
            "grid_area": null,
            "grid_template_columns": null,
            "flex": null,
            "_model_name": "LayoutModel",
            "justify_items": null,
            "grid_row": null,
            "max_height": null,
            "align_content": null,
            "visibility": null,
            "align_self": null,
            "height": null,
            "min_height": null,
            "padding": null,
            "grid_auto_rows": null,
            "grid_gap": null,
            "max_width": null,
            "order": null,
            "_view_module_version": "1.2.0",
            "grid_template_areas": null,
            "object_position": null,
            "object_fit": null,
            "grid_auto_columns": null,
            "margin": null,
            "display": null,
            "left": null
          }
        },
        "211b18071e80418c9e31f3d710908255": {
          "model_module": "@jupyter-widgets/controls",
          "model_name": "HBoxModel",
          "state": {
            "_view_name": "HBoxView",
            "_dom_classes": [],
            "_model_name": "HBoxModel",
            "_view_module": "@jupyter-widgets/controls",
            "_model_module_version": "1.5.0",
            "_view_count": null,
            "_view_module_version": "1.5.0",
            "box_style": "",
            "layout": "IPY_MODEL_d116ced1e6c64c27bc03f17f0abd6264",
            "_model_module": "@jupyter-widgets/controls",
            "children": [
              "IPY_MODEL_8fcf65a793aa45879e53361bb146b123",
              "IPY_MODEL_dba6386834a54e7dad2cf961baeada75"
            ]
          }
        },
        "d116ced1e6c64c27bc03f17f0abd6264": {
          "model_module": "@jupyter-widgets/base",
          "model_name": "LayoutModel",
          "state": {
            "_view_name": "LayoutView",
            "grid_template_rows": null,
            "right": null,
            "justify_content": null,
            "_view_module": "@jupyter-widgets/base",
            "overflow": null,
            "_model_module_version": "1.2.0",
            "_view_count": null,
            "flex_flow": null,
            "width": null,
            "min_width": null,
            "border": null,
            "align_items": null,
            "bottom": null,
            "_model_module": "@jupyter-widgets/base",
            "top": null,
            "grid_column": null,
            "overflow_y": null,
            "overflow_x": null,
            "grid_auto_flow": null,
            "grid_area": null,
            "grid_template_columns": null,
            "flex": null,
            "_model_name": "LayoutModel",
            "justify_items": null,
            "grid_row": null,
            "max_height": null,
            "align_content": null,
            "visibility": null,
            "align_self": null,
            "height": null,
            "min_height": null,
            "padding": null,
            "grid_auto_rows": null,
            "grid_gap": null,
            "max_width": null,
            "order": null,
            "_view_module_version": "1.2.0",
            "grid_template_areas": null,
            "object_position": null,
            "object_fit": null,
            "grid_auto_columns": null,
            "margin": null,
            "display": null,
            "left": null
          }
        },
        "8fcf65a793aa45879e53361bb146b123": {
          "model_module": "@jupyter-widgets/controls",
          "model_name": "FloatProgressModel",
          "state": {
            "_view_name": "ProgressView",
            "style": "IPY_MODEL_65702e35f15a44d6b8efb57b87dd092b",
            "_dom_classes": [],
            "description": "Downloading: 100%",
            "_model_name": "FloatProgressModel",
            "bar_style": "success",
            "max": 456318,
            "_view_module": "@jupyter-widgets/controls",
            "_model_module_version": "1.5.0",
            "value": 456318,
            "_view_count": null,
            "_view_module_version": "1.5.0",
            "orientation": "horizontal",
            "min": 0,
            "description_tooltip": null,
            "_model_module": "@jupyter-widgets/controls",
            "layout": "IPY_MODEL_6b0ebbeea3e5496290b9cb392e1e44cb"
          }
        },
        "dba6386834a54e7dad2cf961baeada75": {
          "model_module": "@jupyter-widgets/controls",
          "model_name": "HTMLModel",
          "state": {
            "_view_name": "HTMLView",
            "style": "IPY_MODEL_ba4d54b3b7ae43ef80bfa363d0c92e7d",
            "_dom_classes": [],
            "description": "",
            "_model_name": "HTMLModel",
            "placeholder": "​",
            "_view_module": "@jupyter-widgets/controls",
            "_model_module_version": "1.5.0",
            "value": " 456k/456k [00:00&lt;00:00, 1.37MB/s]",
            "_view_count": null,
            "_view_module_version": "1.5.0",
            "description_tooltip": null,
            "_model_module": "@jupyter-widgets/controls",
            "layout": "IPY_MODEL_530ff01872ca45f684898a859639bc5a"
          }
        },
        "65702e35f15a44d6b8efb57b87dd092b": {
          "model_module": "@jupyter-widgets/controls",
          "model_name": "ProgressStyleModel",
          "state": {
            "_view_name": "StyleView",
            "_model_name": "ProgressStyleModel",
            "description_width": "initial",
            "_view_module": "@jupyter-widgets/base",
            "_model_module_version": "1.5.0",
            "_view_count": null,
            "_view_module_version": "1.2.0",
            "bar_color": null,
            "_model_module": "@jupyter-widgets/controls"
          }
        },
        "6b0ebbeea3e5496290b9cb392e1e44cb": {
          "model_module": "@jupyter-widgets/base",
          "model_name": "LayoutModel",
          "state": {
            "_view_name": "LayoutView",
            "grid_template_rows": null,
            "right": null,
            "justify_content": null,
            "_view_module": "@jupyter-widgets/base",
            "overflow": null,
            "_model_module_version": "1.2.0",
            "_view_count": null,
            "flex_flow": null,
            "width": null,
            "min_width": null,
            "border": null,
            "align_items": null,
            "bottom": null,
            "_model_module": "@jupyter-widgets/base",
            "top": null,
            "grid_column": null,
            "overflow_y": null,
            "overflow_x": null,
            "grid_auto_flow": null,
            "grid_area": null,
            "grid_template_columns": null,
            "flex": null,
            "_model_name": "LayoutModel",
            "justify_items": null,
            "grid_row": null,
            "max_height": null,
            "align_content": null,
            "visibility": null,
            "align_self": null,
            "height": null,
            "min_height": null,
            "padding": null,
            "grid_auto_rows": null,
            "grid_gap": null,
            "max_width": null,
            "order": null,
            "_view_module_version": "1.2.0",
            "grid_template_areas": null,
            "object_position": null,
            "object_fit": null,
            "grid_auto_columns": null,
            "margin": null,
            "display": null,
            "left": null
          }
        },
        "ba4d54b3b7ae43ef80bfa363d0c92e7d": {
          "model_module": "@jupyter-widgets/controls",
          "model_name": "DescriptionStyleModel",
          "state": {
            "_view_name": "StyleView",
            "_model_name": "DescriptionStyleModel",
            "description_width": "",
            "_view_module": "@jupyter-widgets/base",
            "_model_module_version": "1.5.0",
            "_view_count": null,
            "_view_module_version": "1.2.0",
            "_model_module": "@jupyter-widgets/controls"
          }
        },
        "530ff01872ca45f684898a859639bc5a": {
          "model_module": "@jupyter-widgets/base",
          "model_name": "LayoutModel",
          "state": {
            "_view_name": "LayoutView",
            "grid_template_rows": null,
            "right": null,
            "justify_content": null,
            "_view_module": "@jupyter-widgets/base",
            "overflow": null,
            "_model_module_version": "1.2.0",
            "_view_count": null,
            "flex_flow": null,
            "width": null,
            "min_width": null,
            "border": null,
            "align_items": null,
            "bottom": null,
            "_model_module": "@jupyter-widgets/base",
            "top": null,
            "grid_column": null,
            "overflow_y": null,
            "overflow_x": null,
            "grid_auto_flow": null,
            "grid_area": null,
            "grid_template_columns": null,
            "flex": null,
            "_model_name": "LayoutModel",
            "justify_items": null,
            "grid_row": null,
            "max_height": null,
            "align_content": null,
            "visibility": null,
            "align_self": null,
            "height": null,
            "min_height": null,
            "padding": null,
            "grid_auto_rows": null,
            "grid_gap": null,
            "max_width": null,
            "order": null,
            "_view_module_version": "1.2.0",
            "grid_template_areas": null,
            "object_position": null,
            "object_fit": null,
            "grid_auto_columns": null,
            "margin": null,
            "display": null,
            "left": null
          }
        },
        "2fdf7c9acaa04801b488a42b4894c4fe": {
          "model_module": "@jupyter-widgets/controls",
          "model_name": "HBoxModel",
          "state": {
            "_view_name": "HBoxView",
            "_dom_classes": [],
            "_model_name": "HBoxModel",
            "_view_module": "@jupyter-widgets/controls",
            "_model_module_version": "1.5.0",
            "_view_count": null,
            "_view_module_version": "1.5.0",
            "box_style": "",
            "layout": "IPY_MODEL_94cbe9fc6aa7405693450f8fd88101b6",
            "_model_module": "@jupyter-widgets/controls",
            "children": [
              "IPY_MODEL_932af4ad04b24b6d91a9211222a87cfa",
              "IPY_MODEL_e93fd8e586e548cd884784a2e618ab1a"
            ]
          }
        },
        "94cbe9fc6aa7405693450f8fd88101b6": {
          "model_module": "@jupyter-widgets/base",
          "model_name": "LayoutModel",
          "state": {
            "_view_name": "LayoutView",
            "grid_template_rows": null,
            "right": null,
            "justify_content": null,
            "_view_module": "@jupyter-widgets/base",
            "overflow": null,
            "_model_module_version": "1.2.0",
            "_view_count": null,
            "flex_flow": null,
            "width": null,
            "min_width": null,
            "border": null,
            "align_items": null,
            "bottom": null,
            "_model_module": "@jupyter-widgets/base",
            "top": null,
            "grid_column": null,
            "overflow_y": null,
            "overflow_x": null,
            "grid_auto_flow": null,
            "grid_area": null,
            "grid_template_columns": null,
            "flex": null,
            "_model_name": "LayoutModel",
            "justify_items": null,
            "grid_row": null,
            "max_height": null,
            "align_content": null,
            "visibility": null,
            "align_self": null,
            "height": null,
            "min_height": null,
            "padding": null,
            "grid_auto_rows": null,
            "grid_gap": null,
            "max_width": null,
            "order": null,
            "_view_module_version": "1.2.0",
            "grid_template_areas": null,
            "object_position": null,
            "object_fit": null,
            "grid_auto_columns": null,
            "margin": null,
            "display": null,
            "left": null
          }
        },
        "932af4ad04b24b6d91a9211222a87cfa": {
          "model_module": "@jupyter-widgets/controls",
          "model_name": "FloatProgressModel",
          "state": {
            "_view_name": "ProgressView",
            "style": "IPY_MODEL_3e9debc7a3724fd2a2c63f244c5074e2",
            "_dom_classes": [],
            "description": "Downloading: 100%",
            "_model_name": "FloatProgressModel",
            "bar_style": "success",
            "max": 1355256,
            "_view_module": "@jupyter-widgets/controls",
            "_model_module_version": "1.5.0",
            "value": 1355256,
            "_view_count": null,
            "_view_module_version": "1.5.0",
            "orientation": "horizontal",
            "min": 0,
            "description_tooltip": null,
            "_model_module": "@jupyter-widgets/controls",
            "layout": "IPY_MODEL_a0f02988875b41b4bf5258cedb12e929"
          }
        },
        "e93fd8e586e548cd884784a2e618ab1a": {
          "model_module": "@jupyter-widgets/controls",
          "model_name": "HTMLModel",
          "state": {
            "_view_name": "HTMLView",
            "style": "IPY_MODEL_ade4bce17a464e28844b60492bb229de",
            "_dom_classes": [],
            "description": "",
            "_model_name": "HTMLModel",
            "placeholder": "​",
            "_view_module": "@jupyter-widgets/controls",
            "_model_module_version": "1.5.0",
            "value": " 1.36M/1.36M [00:00&lt;00:00, 9.02MB/s]",
            "_view_count": null,
            "_view_module_version": "1.5.0",
            "description_tooltip": null,
            "_model_module": "@jupyter-widgets/controls",
            "layout": "IPY_MODEL_f21ae27c32fb43258106fa8807f157cb"
          }
        },
        "3e9debc7a3724fd2a2c63f244c5074e2": {
          "model_module": "@jupyter-widgets/controls",
          "model_name": "ProgressStyleModel",
          "state": {
            "_view_name": "StyleView",
            "_model_name": "ProgressStyleModel",
            "description_width": "initial",
            "_view_module": "@jupyter-widgets/base",
            "_model_module_version": "1.5.0",
            "_view_count": null,
            "_view_module_version": "1.2.0",
            "bar_color": null,
            "_model_module": "@jupyter-widgets/controls"
          }
        },
        "a0f02988875b41b4bf5258cedb12e929": {
          "model_module": "@jupyter-widgets/base",
          "model_name": "LayoutModel",
          "state": {
            "_view_name": "LayoutView",
            "grid_template_rows": null,
            "right": null,
            "justify_content": null,
            "_view_module": "@jupyter-widgets/base",
            "overflow": null,
            "_model_module_version": "1.2.0",
            "_view_count": null,
            "flex_flow": null,
            "width": null,
            "min_width": null,
            "border": null,
            "align_items": null,
            "bottom": null,
            "_model_module": "@jupyter-widgets/base",
            "top": null,
            "grid_column": null,
            "overflow_y": null,
            "overflow_x": null,
            "grid_auto_flow": null,
            "grid_area": null,
            "grid_template_columns": null,
            "flex": null,
            "_model_name": "LayoutModel",
            "justify_items": null,
            "grid_row": null,
            "max_height": null,
            "align_content": null,
            "visibility": null,
            "align_self": null,
            "height": null,
            "min_height": null,
            "padding": null,
            "grid_auto_rows": null,
            "grid_gap": null,
            "max_width": null,
            "order": null,
            "_view_module_version": "1.2.0",
            "grid_template_areas": null,
            "object_position": null,
            "object_fit": null,
            "grid_auto_columns": null,
            "margin": null,
            "display": null,
            "left": null
          }
        },
        "ade4bce17a464e28844b60492bb229de": {
          "model_module": "@jupyter-widgets/controls",
          "model_name": "DescriptionStyleModel",
          "state": {
            "_view_name": "StyleView",
            "_model_name": "DescriptionStyleModel",
            "description_width": "",
            "_view_module": "@jupyter-widgets/base",
            "_model_module_version": "1.5.0",
            "_view_count": null,
            "_view_module_version": "1.2.0",
            "_model_module": "@jupyter-widgets/controls"
          }
        },
        "f21ae27c32fb43258106fa8807f157cb": {
          "model_module": "@jupyter-widgets/base",
          "model_name": "LayoutModel",
          "state": {
            "_view_name": "LayoutView",
            "grid_template_rows": null,
            "right": null,
            "justify_content": null,
            "_view_module": "@jupyter-widgets/base",
            "overflow": null,
            "_model_module_version": "1.2.0",
            "_view_count": null,
            "flex_flow": null,
            "width": null,
            "min_width": null,
            "border": null,
            "align_items": null,
            "bottom": null,
            "_model_module": "@jupyter-widgets/base",
            "top": null,
            "grid_column": null,
            "overflow_y": null,
            "overflow_x": null,
            "grid_auto_flow": null,
            "grid_area": null,
            "grid_template_columns": null,
            "flex": null,
            "_model_name": "LayoutModel",
            "justify_items": null,
            "grid_row": null,
            "max_height": null,
            "align_content": null,
            "visibility": null,
            "align_self": null,
            "height": null,
            "min_height": null,
            "padding": null,
            "grid_auto_rows": null,
            "grid_gap": null,
            "max_width": null,
            "order": null,
            "_view_module_version": "1.2.0",
            "grid_template_areas": null,
            "object_position": null,
            "object_fit": null,
            "grid_auto_columns": null,
            "margin": null,
            "display": null,
            "left": null
          }
        },
        "91a65d5295f446fdb3e43649ac2914bf": {
          "model_module": "@jupyter-widgets/controls",
          "model_name": "HBoxModel",
          "state": {
            "_view_name": "HBoxView",
            "_dom_classes": [],
            "_model_name": "HBoxModel",
            "_view_module": "@jupyter-widgets/controls",
            "_model_module_version": "1.5.0",
            "_view_count": null,
            "_view_module_version": "1.5.0",
            "box_style": "",
            "layout": "IPY_MODEL_f8a38d6022e14ebf8d545543598b9048",
            "_model_module": "@jupyter-widgets/controls",
            "children": [
              "IPY_MODEL_b44c63ec25754359947d3ad13e35c5f5",
              "IPY_MODEL_6df32eb98b964734a14d70bae4f12822"
            ]
          }
        },
        "f8a38d6022e14ebf8d545543598b9048": {
          "model_module": "@jupyter-widgets/base",
          "model_name": "LayoutModel",
          "state": {
            "_view_name": "LayoutView",
            "grid_template_rows": null,
            "right": null,
            "justify_content": null,
            "_view_module": "@jupyter-widgets/base",
            "overflow": null,
            "_model_module_version": "1.2.0",
            "_view_count": null,
            "flex_flow": null,
            "width": null,
            "min_width": null,
            "border": null,
            "align_items": null,
            "bottom": null,
            "_model_module": "@jupyter-widgets/base",
            "top": null,
            "grid_column": null,
            "overflow_y": null,
            "overflow_x": null,
            "grid_auto_flow": null,
            "grid_area": null,
            "grid_template_columns": null,
            "flex": null,
            "_model_name": "LayoutModel",
            "justify_items": null,
            "grid_row": null,
            "max_height": null,
            "align_content": null,
            "visibility": null,
            "align_self": null,
            "height": null,
            "min_height": null,
            "padding": null,
            "grid_auto_rows": null,
            "grid_gap": null,
            "max_width": null,
            "order": null,
            "_view_module_version": "1.2.0",
            "grid_template_areas": null,
            "object_position": null,
            "object_fit": null,
            "grid_auto_columns": null,
            "margin": null,
            "display": null,
            "left": null
          }
        },
        "b44c63ec25754359947d3ad13e35c5f5": {
          "model_module": "@jupyter-widgets/controls",
          "model_name": "FloatProgressModel",
          "state": {
            "_view_name": "ProgressView",
            "style": "IPY_MODEL_11076008c95940049a5f50295e5aa042",
            "_dom_classes": [],
            "description": "Downloading: 100%",
            "_model_name": "FloatProgressModel",
            "bar_style": "success",
            "max": 665,
            "_view_module": "@jupyter-widgets/controls",
            "_model_module_version": "1.5.0",
            "value": 665,
            "_view_count": null,
            "_view_module_version": "1.5.0",
            "orientation": "horizontal",
            "min": 0,
            "description_tooltip": null,
            "_model_module": "@jupyter-widgets/controls",
            "layout": "IPY_MODEL_d6e9b10d06c24d3893c567759a7df391"
          }
        },
        "6df32eb98b964734a14d70bae4f12822": {
          "model_module": "@jupyter-widgets/controls",
          "model_name": "HTMLModel",
          "state": {
            "_view_name": "HTMLView",
            "style": "IPY_MODEL_27948d8b89244e81907891ef5a54cd36",
            "_dom_classes": [],
            "description": "",
            "_model_name": "HTMLModel",
            "placeholder": "​",
            "_view_module": "@jupyter-widgets/controls",
            "_model_module_version": "1.5.0",
            "value": " 665/665 [00:01&lt;00:00, 358B/s]",
            "_view_count": null,
            "_view_module_version": "1.5.0",
            "description_tooltip": null,
            "_model_module": "@jupyter-widgets/controls",
            "layout": "IPY_MODEL_44c32227f3bd4969bb4a347464ae672f"
          }
        },
        "11076008c95940049a5f50295e5aa042": {
          "model_module": "@jupyter-widgets/controls",
          "model_name": "ProgressStyleModel",
          "state": {
            "_view_name": "StyleView",
            "_model_name": "ProgressStyleModel",
            "description_width": "initial",
            "_view_module": "@jupyter-widgets/base",
            "_model_module_version": "1.5.0",
            "_view_count": null,
            "_view_module_version": "1.2.0",
            "bar_color": null,
            "_model_module": "@jupyter-widgets/controls"
          }
        },
        "d6e9b10d06c24d3893c567759a7df391": {
          "model_module": "@jupyter-widgets/base",
          "model_name": "LayoutModel",
          "state": {
            "_view_name": "LayoutView",
            "grid_template_rows": null,
            "right": null,
            "justify_content": null,
            "_view_module": "@jupyter-widgets/base",
            "overflow": null,
            "_model_module_version": "1.2.0",
            "_view_count": null,
            "flex_flow": null,
            "width": null,
            "min_width": null,
            "border": null,
            "align_items": null,
            "bottom": null,
            "_model_module": "@jupyter-widgets/base",
            "top": null,
            "grid_column": null,
            "overflow_y": null,
            "overflow_x": null,
            "grid_auto_flow": null,
            "grid_area": null,
            "grid_template_columns": null,
            "flex": null,
            "_model_name": "LayoutModel",
            "justify_items": null,
            "grid_row": null,
            "max_height": null,
            "align_content": null,
            "visibility": null,
            "align_self": null,
            "height": null,
            "min_height": null,
            "padding": null,
            "grid_auto_rows": null,
            "grid_gap": null,
            "max_width": null,
            "order": null,
            "_view_module_version": "1.2.0",
            "grid_template_areas": null,
            "object_position": null,
            "object_fit": null,
            "grid_auto_columns": null,
            "margin": null,
            "display": null,
            "left": null
          }
        },
        "27948d8b89244e81907891ef5a54cd36": {
          "model_module": "@jupyter-widgets/controls",
          "model_name": "DescriptionStyleModel",
          "state": {
            "_view_name": "StyleView",
            "_model_name": "DescriptionStyleModel",
            "description_width": "",
            "_view_module": "@jupyter-widgets/base",
            "_model_module_version": "1.5.0",
            "_view_count": null,
            "_view_module_version": "1.2.0",
            "_model_module": "@jupyter-widgets/controls"
          }
        },
        "44c32227f3bd4969bb4a347464ae672f": {
          "model_module": "@jupyter-widgets/base",
          "model_name": "LayoutModel",
          "state": {
            "_view_name": "LayoutView",
            "grid_template_rows": null,
            "right": null,
            "justify_content": null,
            "_view_module": "@jupyter-widgets/base",
            "overflow": null,
            "_model_module_version": "1.2.0",
            "_view_count": null,
            "flex_flow": null,
            "width": null,
            "min_width": null,
            "border": null,
            "align_items": null,
            "bottom": null,
            "_model_module": "@jupyter-widgets/base",
            "top": null,
            "grid_column": null,
            "overflow_y": null,
            "overflow_x": null,
            "grid_auto_flow": null,
            "grid_area": null,
            "grid_template_columns": null,
            "flex": null,
            "_model_name": "LayoutModel",
            "justify_items": null,
            "grid_row": null,
            "max_height": null,
            "align_content": null,
            "visibility": null,
            "align_self": null,
            "height": null,
            "min_height": null,
            "padding": null,
            "grid_auto_rows": null,
            "grid_gap": null,
            "max_width": null,
            "order": null,
            "_view_module_version": "1.2.0",
            "grid_template_areas": null,
            "object_position": null,
            "object_fit": null,
            "grid_auto_columns": null,
            "margin": null,
            "display": null,
            "left": null
          }
        },
        "2023ea9d83894e0aa523481696ef9682": {
          "model_module": "@jupyter-widgets/controls",
          "model_name": "HBoxModel",
          "state": {
            "_view_name": "HBoxView",
            "_dom_classes": [],
            "_model_name": "HBoxModel",
            "_view_module": "@jupyter-widgets/controls",
            "_model_module_version": "1.5.0",
            "_view_count": null,
            "_view_module_version": "1.5.0",
            "box_style": "",
            "layout": "IPY_MODEL_23dcad9f84e14d29bdd6b03fbdf0c19a",
            "_model_module": "@jupyter-widgets/controls",
            "children": [
              "IPY_MODEL_cc743fe0709047df81cc065ded1f2173",
              "IPY_MODEL_e0294b8e7f6a4679832c6e41b05f44c4"
            ]
          }
        },
        "23dcad9f84e14d29bdd6b03fbdf0c19a": {
          "model_module": "@jupyter-widgets/base",
          "model_name": "LayoutModel",
          "state": {
            "_view_name": "LayoutView",
            "grid_template_rows": null,
            "right": null,
            "justify_content": null,
            "_view_module": "@jupyter-widgets/base",
            "overflow": null,
            "_model_module_version": "1.2.0",
            "_view_count": null,
            "flex_flow": null,
            "width": null,
            "min_width": null,
            "border": null,
            "align_items": null,
            "bottom": null,
            "_model_module": "@jupyter-widgets/base",
            "top": null,
            "grid_column": null,
            "overflow_y": null,
            "overflow_x": null,
            "grid_auto_flow": null,
            "grid_area": null,
            "grid_template_columns": null,
            "flex": null,
            "_model_name": "LayoutModel",
            "justify_items": null,
            "grid_row": null,
            "max_height": null,
            "align_content": null,
            "visibility": null,
            "align_self": null,
            "height": null,
            "min_height": null,
            "padding": null,
            "grid_auto_rows": null,
            "grid_gap": null,
            "max_width": null,
            "order": null,
            "_view_module_version": "1.2.0",
            "grid_template_areas": null,
            "object_position": null,
            "object_fit": null,
            "grid_auto_columns": null,
            "margin": null,
            "display": null,
            "left": null
          }
        },
        "cc743fe0709047df81cc065ded1f2173": {
          "model_module": "@jupyter-widgets/controls",
          "model_name": "FloatProgressModel",
          "state": {
            "_view_name": "ProgressView",
            "style": "IPY_MODEL_a116a90d29694487a42cd947d2db4e90",
            "_dom_classes": [],
            "description": "Downloading: 100%",
            "_model_name": "FloatProgressModel",
            "bar_style": "success",
            "max": 548118077,
            "_view_module": "@jupyter-widgets/controls",
            "_model_module_version": "1.5.0",
            "value": 548118077,
            "_view_count": null,
            "_view_module_version": "1.5.0",
            "orientation": "horizontal",
            "min": 0,
            "description_tooltip": null,
            "_model_module": "@jupyter-widgets/controls",
            "layout": "IPY_MODEL_0f615f5a811c45bd8e9b5f8e952c2274"
          }
        },
        "e0294b8e7f6a4679832c6e41b05f44c4": {
          "model_module": "@jupyter-widgets/controls",
          "model_name": "HTMLModel",
          "state": {
            "_view_name": "HTMLView",
            "style": "IPY_MODEL_02f496189f9c48ef9f6634c45c40440f",
            "_dom_classes": [],
            "description": "",
            "_model_name": "HTMLModel",
            "placeholder": "​",
            "_view_module": "@jupyter-widgets/controls",
            "_model_module_version": "1.5.0",
            "value": " 548M/548M [1:06:05&lt;00:00, 138kB/s]",
            "_view_count": null,
            "_view_module_version": "1.5.0",
            "description_tooltip": null,
            "_model_module": "@jupyter-widgets/controls",
            "layout": "IPY_MODEL_0f39a13bf6634f879833ebb9427f4c88"
          }
        },
        "a116a90d29694487a42cd947d2db4e90": {
          "model_module": "@jupyter-widgets/controls",
          "model_name": "ProgressStyleModel",
          "state": {
            "_view_name": "StyleView",
            "_model_name": "ProgressStyleModel",
            "description_width": "initial",
            "_view_module": "@jupyter-widgets/base",
            "_model_module_version": "1.5.0",
            "_view_count": null,
            "_view_module_version": "1.2.0",
            "bar_color": null,
            "_model_module": "@jupyter-widgets/controls"
          }
        },
        "0f615f5a811c45bd8e9b5f8e952c2274": {
          "model_module": "@jupyter-widgets/base",
          "model_name": "LayoutModel",
          "state": {
            "_view_name": "LayoutView",
            "grid_template_rows": null,
            "right": null,
            "justify_content": null,
            "_view_module": "@jupyter-widgets/base",
            "overflow": null,
            "_model_module_version": "1.2.0",
            "_view_count": null,
            "flex_flow": null,
            "width": null,
            "min_width": null,
            "border": null,
            "align_items": null,
            "bottom": null,
            "_model_module": "@jupyter-widgets/base",
            "top": null,
            "grid_column": null,
            "overflow_y": null,
            "overflow_x": null,
            "grid_auto_flow": null,
            "grid_area": null,
            "grid_template_columns": null,
            "flex": null,
            "_model_name": "LayoutModel",
            "justify_items": null,
            "grid_row": null,
            "max_height": null,
            "align_content": null,
            "visibility": null,
            "align_self": null,
            "height": null,
            "min_height": null,
            "padding": null,
            "grid_auto_rows": null,
            "grid_gap": null,
            "max_width": null,
            "order": null,
            "_view_module_version": "1.2.0",
            "grid_template_areas": null,
            "object_position": null,
            "object_fit": null,
            "grid_auto_columns": null,
            "margin": null,
            "display": null,
            "left": null
          }
        },
        "02f496189f9c48ef9f6634c45c40440f": {
          "model_module": "@jupyter-widgets/controls",
          "model_name": "DescriptionStyleModel",
          "state": {
            "_view_name": "StyleView",
            "_model_name": "DescriptionStyleModel",
            "description_width": "",
            "_view_module": "@jupyter-widgets/base",
            "_model_module_version": "1.5.0",
            "_view_count": null,
            "_view_module_version": "1.2.0",
            "_model_module": "@jupyter-widgets/controls"
          }
        },
        "0f39a13bf6634f879833ebb9427f4c88": {
          "model_module": "@jupyter-widgets/base",
          "model_name": "LayoutModel",
          "state": {
            "_view_name": "LayoutView",
            "grid_template_rows": null,
            "right": null,
            "justify_content": null,
            "_view_module": "@jupyter-widgets/base",
            "overflow": null,
            "_model_module_version": "1.2.0",
            "_view_count": null,
            "flex_flow": null,
            "width": null,
            "min_width": null,
            "border": null,
            "align_items": null,
            "bottom": null,
            "_model_module": "@jupyter-widgets/base",
            "top": null,
            "grid_column": null,
            "overflow_y": null,
            "overflow_x": null,
            "grid_auto_flow": null,
            "grid_area": null,
            "grid_template_columns": null,
            "flex": null,
            "_model_name": "LayoutModel",
            "justify_items": null,
            "grid_row": null,
            "max_height": null,
            "align_content": null,
            "visibility": null,
            "align_self": null,
            "height": null,
            "min_height": null,
            "padding": null,
            "grid_auto_rows": null,
            "grid_gap": null,
            "max_width": null,
            "order": null,
            "_view_module_version": "1.2.0",
            "grid_template_areas": null,
            "object_position": null,
            "object_fit": null,
            "grid_auto_columns": null,
            "margin": null,
            "display": null,
            "left": null
          }
        }
      }
    }
  },
  "cells": [
    {
      "cell_type": "markdown",
      "metadata": {
        "id": "EKOTlwcmxmej"
      },
      "source": [
        "# GPT-2 Fine-Tuning Tutorial using raw text corpus\n",
        "\n",
        "From Rey Farhan (https://reyfarhan.com/posts/easy-gpt2-finetuning-huggingface/)\n",
        "\n",
        "\n"
      ]
    },
    {
      "cell_type": "markdown",
      "metadata": {
        "id": "NKGBoVwuhM4H"
      },
      "source": [
        "This is a simplified script for fine-tuning GPT2 using Hugging Face's [Transformers library](https://huggingface.co/transformers/) and PyTorch on raw data. "
      ]
    },
    {
      "cell_type": "markdown",
      "metadata": {
        "id": "lS58Tugpg5gf"
      },
      "source": [
        "---------\n",
        "Your task is to modify this assignment on raw text of your choice (I have put Pride and Prejudice as an example below) and include 10 sample generations from your chosen text that you find interesting. \n"
      ]
    },
    {
      "cell_type": "markdown",
      "metadata": {
        "id": "Xf3Qw77SZGbS"
      },
      "source": [
        "# Setup"
      ]
    },
    {
      "cell_type": "code",
      "metadata": {
        "id": "0NmMdkZO8R6q",
        "colab": {
          "base_uri": "https://localhost:8080/"
        },
        "outputId": "5f8b9314-16c5-4439-b2fb-f5f5b1c33d6c"
      },
      "source": [
        "!pip install transformers"
      ],
      "execution_count": 1,
      "outputs": [
        {
          "output_type": "stream",
          "text": [
            "Collecting transformers\n",
            "\u001b[?25l  Downloading https://files.pythonhosted.org/packages/81/91/61d69d58a1af1bd81d9ca9d62c90a6de3ab80d77f27c5df65d9a2c1f5626/transformers-4.5.0-py3-none-any.whl (2.1MB)\n",
            "\u001b[K     |████████████████████████████████| 2.2MB 17.5MB/s \n",
            "\u001b[?25hCollecting tokenizers<0.11,>=0.10.1\n",
            "\u001b[?25l  Downloading https://files.pythonhosted.org/packages/ae/04/5b870f26a858552025a62f1649c20d29d2672c02ff3c3fb4c688ca46467a/tokenizers-0.10.2-cp37-cp37m-manylinux2010_x86_64.whl (3.3MB)\n",
            "\u001b[K     |████████████████████████████████| 3.3MB 53.4MB/s \n",
            "\u001b[?25hRequirement already satisfied: requests in /usr/local/lib/python3.7/dist-packages (from transformers) (2.23.0)\n",
            "Requirement already satisfied: regex!=2019.12.17 in /usr/local/lib/python3.7/dist-packages (from transformers) (2019.12.20)\n",
            "Requirement already satisfied: tqdm>=4.27 in /usr/local/lib/python3.7/dist-packages (from transformers) (4.41.1)\n",
            "Requirement already satisfied: importlib-metadata; python_version < \"3.8\" in /usr/local/lib/python3.7/dist-packages (from transformers) (3.8.1)\n",
            "Collecting sacremoses\n",
            "\u001b[?25l  Downloading https://files.pythonhosted.org/packages/08/cd/342e584ee544d044fb573ae697404ce22ede086c9e87ce5960772084cad0/sacremoses-0.0.44.tar.gz (862kB)\n",
            "\u001b[K     |████████████████████████████████| 870kB 52.6MB/s \n",
            "\u001b[?25hRequirement already satisfied: packaging in /usr/local/lib/python3.7/dist-packages (from transformers) (20.9)\n",
            "Requirement already satisfied: numpy>=1.17 in /usr/local/lib/python3.7/dist-packages (from transformers) (1.19.5)\n",
            "Requirement already satisfied: filelock in /usr/local/lib/python3.7/dist-packages (from transformers) (3.0.12)\n",
            "Requirement already satisfied: idna<3,>=2.5 in /usr/local/lib/python3.7/dist-packages (from requests->transformers) (2.10)\n",
            "Requirement already satisfied: chardet<4,>=3.0.2 in /usr/local/lib/python3.7/dist-packages (from requests->transformers) (3.0.4)\n",
            "Requirement already satisfied: urllib3!=1.25.0,!=1.25.1,<1.26,>=1.21.1 in /usr/local/lib/python3.7/dist-packages (from requests->transformers) (1.24.3)\n",
            "Requirement already satisfied: certifi>=2017.4.17 in /usr/local/lib/python3.7/dist-packages (from requests->transformers) (2020.12.5)\n",
            "Requirement already satisfied: typing-extensions>=3.6.4; python_version < \"3.8\" in /usr/local/lib/python3.7/dist-packages (from importlib-metadata; python_version < \"3.8\"->transformers) (3.7.4.3)\n",
            "Requirement already satisfied: zipp>=0.5 in /usr/local/lib/python3.7/dist-packages (from importlib-metadata; python_version < \"3.8\"->transformers) (3.4.1)\n",
            "Requirement already satisfied: six in /usr/local/lib/python3.7/dist-packages (from sacremoses->transformers) (1.15.0)\n",
            "Requirement already satisfied: click in /usr/local/lib/python3.7/dist-packages (from sacremoses->transformers) (7.1.2)\n",
            "Requirement already satisfied: joblib in /usr/local/lib/python3.7/dist-packages (from sacremoses->transformers) (1.0.1)\n",
            "Requirement already satisfied: pyparsing>=2.0.2 in /usr/local/lib/python3.7/dist-packages (from packaging->transformers) (2.4.7)\n",
            "Building wheels for collected packages: sacremoses\n",
            "  Building wheel for sacremoses (setup.py) ... \u001b[?25l\u001b[?25hdone\n",
            "  Created wheel for sacremoses: filename=sacremoses-0.0.44-cp37-none-any.whl size=886084 sha256=94d6158c1d776cf3a0067ae7f49a2dac3aeb044b0c521dca8d697d7ad8f71deb\n",
            "  Stored in directory: /root/.cache/pip/wheels/3e/fb/c0/13ab4d63d537658f448366744654323077c4d90069b6512f3c\n",
            "Successfully built sacremoses\n",
            "Installing collected packages: tokenizers, sacremoses, transformers\n",
            "Successfully installed sacremoses-0.0.44 tokenizers-0.10.2 transformers-4.5.0\n"
          ],
          "name": "stdout"
        }
      ]
    },
    {
      "cell_type": "code",
      "metadata": {
        "id": "JCCeyhuDHdOu",
        "colab": {
          "base_uri": "https://localhost:8080/"
        },
        "outputId": "00e86574-48d6-4b5c-fd6b-97bca88e1577"
      },
      "source": [
        "import os\n",
        "import time\n",
        "import datetime\n",
        "from google.colab import drive\n",
        "\n",
        "import pandas as pd\n",
        "import seaborn as sns\n",
        "import numpy as np\n",
        "import random\n",
        "\n",
        "import matplotlib.pyplot as plt\n",
        "% matplotlib inline\n",
        "\n",
        "import torch\n",
        "from torch.utils.data import Dataset, DataLoader, random_split, RandomSampler, SequentialSampler\n",
        "torch.manual_seed(42)\n",
        "\n",
        "from transformers import GPT2LMHeadModel,  GPT2Tokenizer, GPT2Config, GPT2LMHeadModel\n",
        "from transformers import AdamW, get_linear_schedule_with_warmup\n",
        "\n",
        "import nltk\n",
        "nltk.download('punkt')"
      ],
      "execution_count": 2,
      "outputs": [
        {
          "output_type": "stream",
          "text": [
            "[nltk_data] Downloading package punkt to /root/nltk_data...\n",
            "[nltk_data]   Unzipping tokenizers/punkt.zip.\n"
          ],
          "name": "stdout"
        },
        {
          "output_type": "execute_result",
          "data": {
            "text/plain": [
              "True"
            ]
          },
          "metadata": {
            "tags": []
          },
          "execution_count": 2
        }
      ]
    },
    {
      "cell_type": "code",
      "metadata": {
        "id": "satxtOn9CzgR",
        "colab": {
          "base_uri": "https://localhost:8080/"
        },
        "outputId": "eda404f6-ba45-4bf1-e48e-c3b62f256e5b"
      },
      "source": [
        "!nvidia-smi"
      ],
      "execution_count": 3,
      "outputs": [
        {
          "output_type": "stream",
          "text": [
            "Sun Apr 11 07:12:34 2021       \n",
            "+-----------------------------------------------------------------------------+\n",
            "| NVIDIA-SMI 460.67       Driver Version: 460.32.03    CUDA Version: 11.2     |\n",
            "|-------------------------------+----------------------+----------------------+\n",
            "| GPU  Name        Persistence-M| Bus-Id        Disp.A | Volatile Uncorr. ECC |\n",
            "| Fan  Temp  Perf  Pwr:Usage/Cap|         Memory-Usage | GPU-Util  Compute M. |\n",
            "|                               |                      |               MIG M. |\n",
            "|===============================+======================+======================|\n",
            "|   0  Tesla T4            Off  | 00000000:00:04.0 Off |                    0 |\n",
            "| N/A   64C    P8    10W /  70W |      0MiB / 15109MiB |      0%      Default |\n",
            "|                               |                      |                  N/A |\n",
            "+-------------------------------+----------------------+----------------------+\n",
            "                                                                               \n",
            "+-----------------------------------------------------------------------------+\n",
            "| Processes:                                                                  |\n",
            "|  GPU   GI   CI        PID   Type   Process name                  GPU Memory |\n",
            "|        ID   ID                                                   Usage      |\n",
            "|=============================================================================|\n",
            "|  No running processes found                                                 |\n",
            "+-----------------------------------------------------------------------------+\n"
          ],
          "name": "stdout"
        }
      ]
    },
    {
      "cell_type": "markdown",
      "metadata": {
        "id": "ZfdCML6Parvv"
      },
      "source": [
        "# Create Training Set\n",
        "\n",
        "The data used to finetune the language model is a set of around 1000 DJ biographies, with the aim of generating them in the same general format and style.\n",
        "\n",
        "This data isn't public so if you want to use this script, you'll have to source your own training set."
      ]
    },
    {
      "cell_type": "code",
      "metadata": {
        "id": "_EYFrNxr-TYb",
        "colab": {
          "base_uri": "https://localhost:8080/"
        },
        "outputId": "a76cc4b0-2066-4a42-f56c-8425f3116b84"
      },
      "source": [
        "# mount my Google Drive directory and access the training data located there\n",
        "gdrive_dir = '/content/gdrive/'\n",
        "data_dir = os.path.join(gdrive_dir, \"'MyDrive/Colab Notebooks'\")\n",
        "filename = 'prideAndPrejudice.txt'\n",
        "drive.mount(gdrive_dir, force_remount=True)"
      ],
      "execution_count": 8,
      "outputs": [
        {
          "output_type": "stream",
          "text": [
            "Mounted at /content/gdrive/\n"
          ],
          "name": "stdout"
        }
      ]
    },
    {
      "cell_type": "code",
      "metadata": {
        "id": "G_DWAMe1FopX"
      },
      "source": [
        "# copy the data to the current Colab working directory\n",
        "!cp $data_dir/$filename ."
      ],
      "execution_count": 9,
      "outputs": []
    },
    {
      "cell_type": "code",
      "metadata": {
        "id": "_U3m6wr3Ahzt",
        "colab": {
          "base_uri": "https://localhost:8080/"
        },
        "outputId": "60390ece-ada4-40e3-ecd4-66e11930b873"
      },
      "source": [
        "f=open(filename)\n",
        "bios=f.readlines()\n",
        "bios=[b.strip() for b in bios]\n",
        "bios"
      ],
      "execution_count": 10,
      "outputs": [
        {
          "output_type": "execute_result",
          "data": {
            "text/plain": [
              "['It is a truth universally acknowledged, that a single man in possession of a good fortune, must be in want of a wife.',\n",
              " 'However little known the feelings or views of such a man may be on his first entering a neighbourhood, this truth is so well fixed in the minds of the surrounding families, that he is considered the rightful property of some one or other of their daughters.',\n",
              " '\"My dear Mr. Bennet,\" said his lady to him one day, \"have you heard that Netherfield Park is let at last?\"',\n",
              " 'Mr. Bennet replied that he had not.',\n",
              " '\"But it is,\" returned she; \"for Mrs. Long has just been here, and she told me all about it.\"',\n",
              " 'Mr. Bennet made no answer.',\n",
              " '\"Do you not want to know who has taken it?\" cried his wife impatiently.',\n",
              " '\"_You_ want to tell me, and I have no objection to hearing it.\"',\n",
              " 'This was invitation enough.',\n",
              " '\"Why, my dear, you must know, Mrs. Long says that Netherfield is taken by a young man of large fortune from the north of England; that he came down on Monday in a chaise and four to see the place, and was so much delighted with it, that he agreed with Mr. Morris immediately; that he is to take possession before Michaelmas, and some of his servants are to be in the house by the end of next week.\"',\n",
              " '\"What is his name?\"',\n",
              " '\"Bingley.\"',\n",
              " '\"Is he married or single?\"',\n",
              " '\"Oh! Single, my dear, to be sure! A single man of large fortune; four or five thousand a year. What a fine thing for our girls!\"',\n",
              " '\"How so? How can it affect them?\"',\n",
              " '\"My dear Mr. Bennet,\" replied his wife, \"how can you be so tiresome! You must know that I am thinking of his marrying one of them.\"',\n",
              " '\"Is that his design in settling here?\"',\n",
              " '\"Design! Nonsense, how can you talk so! But it is very likely that he _may_ fall in love with one of them, and therefore you must visit him as soon as he comes.\"',\n",
              " '\"I see no occasion for that. You and the girls may go, or you may send them by themselves, which perhaps will be still better, for as you are as handsome as any of them, Mr. Bingley may like you the best of the party.\"',\n",
              " '\"My dear, you flatter me. I certainly _have_ had my share of beauty, but I do not pretend to be anything extraordinary now. When a woman has five grown-up daughters, she ought to give over thinking of her own beauty.\"',\n",
              " '\"In such cases, a woman has not often much beauty to think of.\"',\n",
              " '\"But, my dear, you must indeed go and see Mr. Bingley when he comes into the neighbourhood.\"',\n",
              " '\"It is more than I engage for, I assure you.\"',\n",
              " '\"But consider your daughters. Only think what an establishment it would be for one of them. Sir William and Lady Lucas are determined to go, merely on that account, for in general, you know, they visit no newcomers. Indeed you must go, for it will be impossible for _us_ to visit him if you do not.\"',\n",
              " '\"You are over-scrupulous, surely. I dare say Mr. Bingley will be very glad to see you; and I will send a few lines by you to assure him of my hearty consent to his marrying whichever he chooses of the girls; though I must throw in a good word for my little Lizzy.\"',\n",
              " '\"I desire you will do no such thing. Lizzy is not a bit better than the others; and I am sure she is not half so handsome as Jane, nor half so good-humoured as Lydia. But you are always giving _her_ the preference.\"',\n",
              " '\"They have none of them much to recommend them,\" replied he; \"they are all silly and ignorant like other girls; but Lizzy has something more of quickness than her sisters.\"',\n",
              " '\"Mr. Bennet, how _can_ you abuse your own children in such a way? You take delight in vexing me. You have no compassion for my poor nerves.\"',\n",
              " '\"You mistake me, my dear. I have a high respect for your nerves. They are my old friends. I have heard you mention them with consideration these last twenty years at least.\"',\n",
              " '\"Ah, you do not know what I suffer.\"',\n",
              " '\"But I hope you will get over it, and live to see many young men of four thousand a year come into the neighbourhood.\"',\n",
              " '\"It will be no use to us, if twenty such should come, since you will not visit them.\"',\n",
              " '\"Depend upon it, my dear, that when there are twenty, I will visit them all.\"',\n",
              " 'Mr. Bennet was so odd a mixture of quick parts, sarcastic humour, reserve, and caprice, that the experience of three-and-twenty years had been insufficient to make his wife understand his character. _Her_ mind was less difficult to develop. She was a woman of mean understanding, little information, and uncertain temper. When she was discontented, she fancied herself nervous. The business of her life was to get her daughters married; its solace was visiting and news.',\n",
              " 'Mr. Bennet was among the earliest of those who waited on Mr. Bingley. He had always intended to visit him, though to the last always assuring his wife that he should not go; and till the evening after the visit was paid she had no knowledge of it. It was then disclosed in the following manner. Observing his second daughter employed in trimming a hat, he suddenly addressed her with:',\n",
              " '\"I hope Mr. Bingley will like it, Lizzy.\"',\n",
              " '\"We are not in a way to know _what_ Mr. Bingley likes,\" said her mother resentfully, \"since we are not to visit.\"',\n",
              " '\"But you forget, mamma,\" said Elizabeth, \"that we shall meet him at the assemblies, and that Mrs. Long promised to introduce him.\"',\n",
              " '\"I do not believe Mrs. Long will do any such thing. She has two nieces of her own. She is a selfish, hypocritical woman, and I have no opinion of her.\"',\n",
              " '\"No more have I,\" said Mr. Bennet; \"and I am glad to find that you do not depend on her serving you.\"',\n",
              " 'Mrs. Bennet deigned not to make any reply, but, unable to contain herself, began scolding one of her daughters.',\n",
              " '\"Don\\'t keep coughing so, Kitty, for Heaven\\'s sake! Have a little compassion on my nerves. You tear them to pieces.\"',\n",
              " '\"Kitty has no discretion in her coughs,\" said her father; \"she times them ill.\"',\n",
              " '\"I do not cough for my own amusement,\" replied Kitty fretfully. \"When is your next ball to be, Lizzy?\"',\n",
              " '\"To-morrow fortnight.\"',\n",
              " '\"Aye, so it is,\" cried her mother, \"and Mrs. Long does not come back till the day before; so it will be impossible for her to introduce him, for she will not know him herself.\"',\n",
              " '\"Then, my dear, you may have the advantage of your friend, and introduce Mr. Bingley to _her_.\"',\n",
              " '\"Impossible, Mr. Bennet, impossible, when I am not acquainted with him myself; how can you be so teasing?\"',\n",
              " '\"I honour your circumspection. A fortnight\\'s acquaintance is certainly very little. One cannot know what a man really is by the end of a fortnight. But if _we_ do not venture somebody else will; and after all, Mrs. Long and her daughters must stand their chance; and, therefore, as she will think it an act of kindness, if you decline the office, I will take it on myself.\"',\n",
              " 'The girls stared at their father. Mrs. Bennet said only, \"Nonsense, nonsense!\"',\n",
              " '\"What can be the meaning of that emphatic exclamation?\" cried he. \"Do you consider the forms of introduction, and the stress that is laid on them, as nonsense? I cannot quite agree with you _there_. What say you, Mary? For you are a young lady of deep reflection, I know, and read great books and make extracts.\"',\n",
              " 'Mary wished to say something sensible, but knew not how.',\n",
              " '\"While Mary is adjusting her ideas,\" he continued, \"let us return to Mr. Bingley.\"',\n",
              " '\"I am sick of Mr. Bingley,\" cried his wife.',\n",
              " '\"I am sorry to hear _that_; but why did not you tell me that before? If I had known as much this morning I certainly would not have called on him. It is very unlucky; but as I have actually paid the visit, we cannot escape the acquaintance now.\"',\n",
              " 'The astonishment of the ladies was just what he wished; that of Mrs. Bennet perhaps surpassing the rest; though, when the first tumult of joy was over, she began to declare that it was what she had expected all the while.',\n",
              " '\"How good it was in you, my dear Mr. Bennet! But I knew I should persuade you at last. I was sure you loved your girls too well to neglect such an acquaintance. Well, how pleased I am! and it is such a good joke, too, that you should have gone this morning and never said a word about it till now.\"',\n",
              " '\"Now, Kitty, you may cough as much as you choose,\" said Mr. Bennet; and, as he spoke, he left the room, fatigued with the raptures of his wife.',\n",
              " '\"What an excellent father you have, girls!\" said she, when the door was shut. \"I do not know how you will ever make him amends for his kindness; or me, either, for that matter. At our time of life it is not so pleasant, I can tell you, to be making new acquaintances every day; but for your sakes, we would do anything. Lydia, my love, though you _are_ the youngest, I dare say Mr. Bingley will dance with you at the next ball.\"',\n",
              " '\"Oh!\" said Lydia stoutly, \"I am not afraid; for though I _am_ the youngest, I\\'m the tallest.\"',\n",
              " \"The rest of the evening was spent in conjecturing how soon he would return Mr. Bennet's visit, and determining when they should ask him to dinner.\",\n",
              " \"Not all that Mrs. Bennet, however, with the assistance of her five daughters, could ask on the subject, was sufficient to draw from her husband any satisfactory description of Mr. Bingley. They attacked him in various ways--with barefaced questions, ingenious suppositions, and distant surmises; but he eluded the skill of them all, and they were at last obliged to accept the second-hand intelligence of their neighbour, Lady Lucas. Her report was highly favourable. Sir William had been delighted with him. He was quite young, wonderfully handsome, extremely agreeable, and, to crown the whole, he meant to be at the next assembly with a large party. Nothing could be more delightful! To be fond of dancing was a certain step towards falling in love; and very lively hopes of Mr. Bingley's heart were entertained.\",\n",
              " '\"If I can but see one of my daughters happily settled at Netherfield,\" said Mrs. Bennet to her husband, \"and all the others equally well married, I shall have nothing to wish for.\"',\n",
              " \"In a few days Mr. Bingley returned Mr. Bennet's visit, and sat about ten minutes with him in his library. He had entertained hopes of being admitted to a sight of the young ladies, of whose beauty he had heard much; but he saw only the father. The ladies were somewhat more fortunate, for they had the advantage of ascertaining from an upper window that he wore a blue coat, and rode a black horse.\",\n",
              " 'An invitation to dinner was soon afterwards dispatched; and already had Mrs. Bennet planned the courses that were to do credit to her housekeeping, when an answer arrived which deferred it all. Mr. Bingley was obliged to be in town the following day, and, consequently, unable to accept the honour of their invitation, etc. Mrs. Bennet was quite disconcerted. She could not imagine what business he could have in town so soon after his arrival in Hertfordshire; and she began to fear that he might be always flying about from one place to another, and never settled at Netherfield as he ought to be. Lady Lucas quieted her fears a little by starting the idea of his being gone to London only to get a large party for the ball; and a report soon followed that Mr. Bingley was to bring twelve ladies and seven gentlemen with him to the assembly. The girls grieved over such a number of ladies, but were comforted the day before the ball by hearing, that instead of twelve he brought only six with him from London--his five sisters and a cousin. And when the party entered the assembly room it consisted of only five altogether--Mr. Bingley, his two sisters, the husband of the eldest, and another young man.',\n",
              " 'Mr. Bingley was good-looking and gentlemanlike; he had a pleasant countenance, and easy, unaffected manners. His sisters were fine women, with an air of decided fashion. His brother-in-law, Mr. Hurst, merely looked the gentleman; but his friend Mr. Darcy soon drew the attention of the room by his fine, tall person, handsome features, noble mien, and the report which was in general circulation within five minutes after his entrance, of his having ten thousand a year. The gentlemen pronounced him to be a fine figure of a man, the ladies declared he was much handsomer than Mr. Bingley, and he was looked at with great admiration for about half the evening, till his manners gave a disgust which turned the tide of his popularity; for he was discovered to be proud; to be above his company, and above being pleased; and not all his large estate in Derbyshire could then save him from having a most forbidding, disagreeable countenance, and being unworthy to be compared with his friend.',\n",
              " 'Mr. Bingley had soon made himself acquainted with all the principal people in the room; he was lively and unreserved, danced every dance, was angry that the ball closed so early, and talked of giving one himself at Netherfield. Such amiable qualities must speak for themselves. What a contrast between him and his friend! Mr. Darcy danced only once with Mrs. Hurst and once with Miss Bingley, declined being introduced to any other lady, and spent the rest of the evening in walking about the room, speaking occasionally to one of his own party. His character was decided. He was the proudest, most disagreeable man in the world, and everybody hoped that he would never come there again. Amongst the most violent against him was Mrs. Bennet, whose dislike of his general behaviour was sharpened into particular resentment by his having slighted one of her daughters.',\n",
              " 'Elizabeth Bennet had been obliged, by the scarcity of gentlemen, to sit down for two dances; and during part of that time, Mr. Darcy had been standing near enough for her to hear a conversation between him and Mr. Bingley, who came from the dance for a few minutes, to press his friend to join it.',\n",
              " '\"Come, Darcy,\" said he, \"I must have you dance. I hate to see you standing about by yourself in this stupid manner. You had much better dance.\"',\n",
              " '\"I certainly shall not. You know how I detest it, unless I am particularly acquainted with my partner. At such an assembly as this it would be insupportable. Your sisters are engaged, and there is not another woman in the room whom it would not be a punishment to me to stand up with.\"',\n",
              " '\"I would not be so fastidious as you are,\" cried Mr. Bingley, \"for a kingdom! Upon my honour, I never met with so many pleasant girls in my life as I have this evening; and there are several of them you see uncommonly pretty.\"',\n",
              " '\"_You_ are dancing with the only handsome girl in the room,\" said Mr. Darcy, looking at the eldest Miss Bennet.',\n",
              " '\"Oh! She is the most beautiful creature I ever beheld! But there is one of her sisters sitting down just behind you, who is very pretty, and I dare say very agreeable. Do let me ask my partner to introduce you.\"',\n",
              " '\"Which do you mean?\" and turning round he looked for a moment at Elizabeth, till catching her eye, he withdrew his own and coldly said: \"She is tolerable, but not handsome enough to tempt _me_; I am in no humour at present to give consequence to young ladies who are slighted by other men. You had better return to your partner and enjoy her smiles, for you are wasting your time with me.\"',\n",
              " 'Mr. Bingley followed his advice. Mr. Darcy walked off; and Elizabeth remained with no very cordial feelings toward him. She told the story, however, with great spirit among her friends; for she had a lively, playful disposition, which delighted in anything ridiculous.',\n",
              " \"The evening altogether passed off pleasantly to the whole family. Mrs. Bennet had seen her eldest daughter much admired by the Netherfield party. Mr. Bingley had danced with her twice, and she had been distinguished by his sisters. Jane was as much gratified by this as her mother could be, though in a quieter way. Elizabeth felt Jane's pleasure. Mary had heard herself mentioned to Miss Bingley as the most accomplished girl in the neighbourhood; and Catherine and Lydia had been fortunate enough never to be without partners, which was all that they had yet learnt to care for at a ball. They returned, therefore, in good spirits to Longbourn, the village where they lived, and of which they were the principal inhabitants. They found Mr. Bennet still up. With a book he was regardless of time; and on the present occasion he had a good deal of curiosity as to the events of an evening which had raised such splendid expectations. He had rather hoped that his wife's views on the stranger would be disappointed; but he soon found out that he had a different story to hear.\",\n",
              " '\"Oh! my dear Mr. Bennet,\" as she entered the room, \"we have had a most delightful evening, a most excellent ball. I wish you had been there. Jane was so admired, nothing could be like it. Everybody said how well she looked; and Mr. Bingley thought her quite beautiful, and danced with her twice! Only think of _that_, my dear; he actually danced with her twice! and she was the only creature in the room that he asked a second time. First of all, he asked Miss Lucas. I was so vexed to see him stand up with her! But, however, he did not admire her at all; indeed, nobody can, you know; and he seemed quite struck with Jane as she was going down the dance. So he inquired who she was, and got introduced, and asked her for the two next. Then the two third he danced with Miss King, and the two fourth with Maria Lucas, and the two fifth with Jane again, and the two sixth with Lizzy, and the _Boulanger_--\"',\n",
              " '\"If he had had any compassion for _me_,\" cried her husband impatiently, \"he would not have danced half so much! For God\\'s sake, say no more of his partners. O that he had sprained his ankle in the first dance!\"',\n",
              " '\"Oh! my dear, I am quite delighted with him. He is so excessively handsome! And his sisters are charming women. I never in my life saw anything more elegant than their dresses. I dare say the lace upon Mrs. Hurst\\'s gown--\"',\n",
              " 'Here she was interrupted again. Mr. Bennet protested against any description of finery. She was therefore obliged to seek another branch of the subject, and related, with much bitterness of spirit and some exaggeration, the shocking rudeness of Mr. Darcy.',\n",
              " '\"But I can assure you,\" she added, \"that Lizzy does not lose much by not suiting _his_ fancy; for he is a most disagreeable, horrid man, not at all worth pleasing. So high and so conceited that there was no enduring him! He walked here, and he walked there, fancying himself so very great! Not handsome enough to dance with! I wish you had been there, my dear, to have given him one of your set-downs. I quite detest the man.\"',\n",
              " 'When Jane and Elizabeth were alone, the former, who had been cautious in her praise of Mr. Bingley before, expressed to her sister just how very much she admired him.',\n",
              " '\"He is just what a young man ought to be,\" said she, \"sensible, good-humoured, lively; and I never saw such happy manners!--so much ease, with such perfect good breeding!\"',\n",
              " '\"He is also handsome,\" replied Elizabeth, \"which a young man ought likewise to be, if he possibly can. His character is thereby complete.\"',\n",
              " '\"I was very much flattered by his asking me to dance a second time. I did not expect such a compliment.\"',\n",
              " '\"Did not you? I did for you. But that is one great difference between us. Compliments always take _you_ by surprise, and _me_ never. What could be more natural than his asking you again? He could not help seeing that you were about five times as pretty as every other woman in the room. No thanks to his gallantry for that. Well, he certainly is very agreeable, and I give you leave to like him. You have liked many a stupider person.\"',\n",
              " '\"Dear Lizzy!\"',\n",
              " '\"Oh! you are a great deal too apt, you know, to like people in general. You never see a fault in anybody. All the world are good and agreeable in your eyes. I never heard you speak ill of a human being in your life.\"',\n",
              " '\"I would not wish to be hasty in censuring anyone; but I always speak what I think.\"',\n",
              " '\"I know you do; and it is _that_ which makes the wonder. With _your_ good sense, to be so honestly blind to the follies and nonsense of others! Affectation of candour is common enough--one meets with it everywhere. But to be candid without ostentation or design--to take the good of everybody\\'s character and make it still better, and say nothing of the bad--belongs to you alone. And so you like this man\\'s sisters, too, do you? Their manners are not equal to his.\"',\n",
              " '\"Certainly not--at first. But they are very pleasing women when you converse with them. Miss Bingley is to live with her brother, and keep his house; and I am much mistaken if we shall not find a very charming neighbour in her.\"',\n",
              " \"Elizabeth listened in silence, but was not convinced; their behaviour at the assembly had not been calculated to please in general; and with more quickness of observation and less pliancy of temper than her sister, and with a judgement too unassailed by any attention to herself, she was very little disposed to approve them. They were in fact very fine ladies; not deficient in good humour when they were pleased, nor in the power of making themselves agreeable when they chose it, but proud and conceited. They were rather handsome, had been educated in one of the first private seminaries in town, had a fortune of twenty thousand pounds, were in the habit of spending more than they ought, and of associating with people of rank, and were therefore in every respect entitled to think well of themselves, and meanly of others. They were of a respectable family in the north of England; a circumstance more deeply impressed on their memories than that their brother's fortune and their own had been acquired by trade.\",\n",
              " 'Mr. Bingley inherited property to the amount of nearly a hundred thousand pounds from his father, who had intended to purchase an estate, but did not live to do it. Mr. Bingley intended it likewise, and sometimes made choice of his county; but as he was now provided with a good house and the liberty of a manor, it was doubtful to many of those who best knew the easiness of his temper, whether he might not spend the remainder of his days at Netherfield, and leave the next generation to purchase.',\n",
              " 'His sisters were anxious for his having an estate of his own; but, though he was now only established as a tenant, Miss Bingley was by no means unwilling to preside at his table--nor was Mrs. Hurst, who had married a man of more fashion than fortune, less disposed to consider his house as her home when it suited her. Mr. Bingley had not been of age two years, when he was tempted by an accidental recommendation to look at Netherfield House. He did look at it, and into it for half-an-hour--was pleased with the situation and the principal rooms, satisfied with what the owner said in its praise, and took it immediately.',\n",
              " \"Between him and Darcy there was a very steady friendship, in spite of great opposition of character. Bingley was endeared to Darcy by the easiness, openness, and ductility of his temper, though no disposition could offer a greater contrast to his own, and though with his own he never appeared dissatisfied. On the strength of Darcy's regard, Bingley had the firmest reliance, and of his judgement the highest opinion. In understanding, Darcy was the superior. Bingley was by no means deficient, but Darcy was clever. He was at the same time haughty, reserved, and fastidious, and his manners, though well-bred, were not inviting. In that respect his friend had greatly the advantage. Bingley was sure of being liked wherever he appeared, Darcy was continually giving offense.\",\n",
              " 'The manner in which they spoke of the Meryton assembly was sufficiently characteristic. Bingley had never met with more pleasant people or prettier girls in his life; everybody had been most kind and attentive to him; there had been no formality, no stiffness; he had soon felt acquainted with all the room; and, as to Miss Bennet, he could not conceive an angel more beautiful. Darcy, on the contrary, had seen a collection of people in whom there was little beauty and no fashion, for none of whom he had felt the smallest interest, and from none received either attention or pleasure. Miss Bennet he acknowledged to be pretty, but she smiled too much.',\n",
              " 'Mrs. Hurst and her sister allowed it to be so--but still they admired her and liked her, and pronounced her to be a sweet girl, and one whom they would not object to know more of. Miss Bennet was therefore established as a sweet girl, and their brother felt authorized by such commendation to think of her as he chose.',\n",
              " \"Within a short walk of Longbourn lived a family with whom the Bennets were particularly intimate. Sir William Lucas had been formerly in trade in Meryton, where he had made a tolerable fortune, and risen to the honour of knighthood by an address to the king during his mayoralty. The distinction had perhaps been felt too strongly. It had given him a disgust to his business, and to his residence in a small market town; and, in quitting them both, he had removed with his family to a house about a mile from Meryton, denominated from that period Lucas Lodge, where he could think with pleasure of his own importance, and, unshackled by business, occupy himself solely in being civil to all the world. For, though elated by his rank, it did not render him supercilious; on the contrary, he was all attention to everybody. By nature inoffensive, friendly, and obliging, his presentation at St. James's had made him courteous.\",\n",
              " \"Lady Lucas was a very good kind of woman, not too clever to be a valuable neighbour to Mrs. Bennet. They had several children. The eldest of them, a sensible, intelligent young woman, about twenty-seven, was Elizabeth's intimate friend.\",\n",
              " 'That the Miss Lucases and the Miss Bennets should meet to talk over a ball was absolutely necessary; and the morning after the assembly brought the former to Longbourn to hear and to communicate.',\n",
              " '\"_You_ began the evening well, Charlotte,\" said Mrs. Bennet with civil self-command to Miss Lucas. \"_You_ were Mr. Bingley\\'s first choice.\"',\n",
              " '\"Yes; but he seemed to like his second better.\"',\n",
              " '\"Oh! you mean Jane, I suppose, because he danced with her twice. To be sure that _did_ seem as if he admired her--indeed I rather believe he _did_--I heard something about it--but I hardly know what--something about Mr. Robinson.\"',\n",
              " '\"Perhaps you mean what I overheard between him and Mr. Robinson; did not I mention it to you? Mr. Robinson\\'s asking him how he liked our Meryton assemblies, and whether he did not think there were a great many pretty women in the room, and _which_ he thought the prettiest? and his answering immediately to the last question: \\'Oh! the eldest Miss Bennet, beyond a doubt; there cannot be two opinions on that point.\\'\"',\n",
              " '\"Upon my word! Well, that is very decided indeed--that does seem as if--but, however, it may all come to nothing, you know.\"',\n",
              " '\"_My_ overhearings were more to the purpose than _yours_, Eliza,\" said Charlotte. \"Mr. Darcy is not so well worth listening to as his friend, is he?--poor Eliza!--to be only just _tolerable_.\"',\n",
              " '\"I beg you would not put it into Lizzy\\'s head to be vexed by his ill-treatment, for he is such a disagreeable man, that it would be quite a misfortune to be liked by him. Mrs. Long told me last night that he sat close to her for half-an-hour without once opening his lips.\"',\n",
              " '\"Are you quite sure, ma\\'am?--is not there a little mistake?\" said Jane. \"I certainly saw Mr. Darcy speaking to her.\"',\n",
              " '\"Aye--because she asked him at last how he liked Netherfield, and he could not help answering her; but she said he seemed quite angry at being spoke to.\"',\n",
              " '\"Miss Bingley told me,\" said Jane, \"that he never speaks much, unless among his intimate acquaintances. With _them_ he is remarkably agreeable.\"',\n",
              " '\"I do not believe a word of it, my dear. If he had been so very agreeable, he would have talked to Mrs. Long. But I can guess how it was; everybody says that he is eat up with pride, and I dare say he had heard somehow that Mrs. Long does not keep a carriage, and had come to the ball in a hack chaise.\"',\n",
              " '\"I do not mind his not talking to Mrs. Long,\" said Miss Lucas, \"but I wish he had danced with Eliza.\"',\n",
              " '\"Another time, Lizzy,\" said her mother, \"I would not dance with _him_, if I were you.\"',\n",
              " '\"I believe, ma\\'am, I may safely promise you _never_ to dance with him.\"',\n",
              " '\"His pride,\" said Miss Lucas, \"does not offend _me_ so much as pride often does, because there is an excuse for it. One cannot wonder that so very fine a young man, with family, fortune, everything in his favour, should think highly of himself. If I may so express it, he has a _right_ to be proud.\"',\n",
              " '\"That is very true,\" replied Elizabeth, \"and I could easily forgive _his_ pride, if he had not mortified _mine_.\"',\n",
              " '\"Pride,\" observed Mary, who piqued herself upon the solidity of her reflections, \"is a very common failing, I believe. By all that I have ever read, I am convinced that it is very common indeed; that human nature is particularly prone to it, and that there are very few of us who do not cherish a feeling of self-complacency on the score of some quality or other, real or imaginary. Vanity and pride are different things, though the words are often used synonymously. A person may be proud without being vain. Pride relates more to our opinion of ourselves, vanity to what we would have others think of us.\"',\n",
              " '\"If I were as rich as Mr. Darcy,\" cried a young Lucas, who came with his sisters, \"I should not care how proud I was. I would keep a pack of foxhounds, and drink a bottle of wine a day.\"',\n",
              " '\"Then you would drink a great deal more than you ought,\" said Mrs. Bennet; \"and if I were to see you at it, I should take away your bottle directly.\"',\n",
              " 'The boy protested that she should not; she continued to declare that she would, and the argument ended only with the visit.',\n",
              " \"The ladies of Longbourn soon waited on those of Netherfield. The visit was soon returned in due form. Miss Bennet's pleasing manners grew on the goodwill of Mrs. Hurst and Miss Bingley; and though the mother was found to be intolerable, and the younger sisters not worth speaking to, a wish of being better acquainted with _them_ was expressed towards the two eldest. By Jane, this attention was received with the greatest pleasure, but Elizabeth still saw superciliousness in their treatment of everybody, hardly excepting even her sister, and could not like them; though their kindness to Jane, such as it was, had a value as arising in all probability from the influence of their brother's admiration. It was generally evident whenever they met, that he _did_ admire her and to _her_ it was equally evident that Jane was yielding to the preference which she had begun to entertain for him from the first, and was in a way to be very much in love; but she considered with pleasure that it was not likely to be discovered by the world in general, since Jane united, with great strength of feeling, a composure of temper and a uniform cheerfulness of manner which would guard her from the suspicions of the impertinent. She mentioned this to her friend Miss Lucas.\",\n",
              " '\"It may perhaps be pleasant,\" replied Charlotte, \"to be able to impose on the public in such a case; but it is sometimes a disadvantage to be so very guarded. If a woman conceals her affection with the same skill from the object of it, she may lose the opportunity of fixing him; and it will then be but poor consolation to believe the world equally in the dark. There is so much of gratitude or vanity in almost every attachment, that it is not safe to leave any to itself. We can all _begin_ freely--a slight preference is natural enough; but there are very few of us who have heart enough to be really in love without encouragement. In nine cases out of ten a women had better show _more_ affection than she feels. Bingley likes your sister undoubtedly; but he may never do more than like her, if she does not help him on.\"',\n",
              " '\"But she does help him on, as much as her nature will allow. If I can perceive her regard for him, he must be a simpleton, indeed, not to discover it too.\"',\n",
              " '\"Remember, Eliza, that he does not know Jane\\'s disposition as you do.\"',\n",
              " '\"But if a woman is partial to a man, and does not endeavour to conceal it, he must find it out.\"',\n",
              " '\"Perhaps he must, if he sees enough of her. But, though Bingley and Jane meet tolerably often, it is never for many hours together; and, as they always see each other in large mixed parties, it is impossible that every moment should be employed in conversing together. Jane should therefore make the most of every half-hour in which she can command his attention. When she is secure of him, there will be more leisure for falling in love as much as she chooses.\"',\n",
              " '\"Your plan is a good one,\" replied Elizabeth, \"where nothing is in question but the desire of being well married, and if I were determined to get a rich husband, or any husband, I dare say I should adopt it. But these are not Jane\\'s feelings; she is not acting by design. As yet, she cannot even be certain of the degree of her own regard nor of its reasonableness. She has known him only a fortnight. She danced four dances with him at Meryton; she saw him one morning at his own house, and has since dined with him in company four times. This is not quite enough to make her understand his character.\"',\n",
              " '\"Not as you represent it. Had she merely _dined_ with him, she might only have discovered whether he had a good appetite; but you must remember that four evenings have also been spent together--and four evenings may do a great deal.\"',\n",
              " '\"Yes; these four evenings have enabled them to ascertain that they both like Vingt-un better than Commerce; but with respect to any other leading characteristic, I do not imagine that much has been unfolded.\"',\n",
              " '\"Well,\" said Charlotte, \"I wish Jane success with all my heart; and if she were married to him to-morrow, I should think she had as good a chance of happiness as if she were to be studying his character for a twelvemonth. Happiness in marriage is entirely a matter of chance. If the dispositions of the parties are ever so well known to each other or ever so similar beforehand, it does not advance their felicity in the least. They always continue to grow sufficiently unlike afterwards to have their share of vexation; and it is better to know as little as possible of the defects of the person with whom you are to pass your life.\"',\n",
              " '\"You make me laugh, Charlotte; but it is not sound. You know it is not sound, and that you would never act in this way yourself.\"',\n",
              " \"Occupied in observing Mr. Bingley's attentions to her sister, Elizabeth was far from suspecting that she was herself becoming an object of some interest in the eyes of his friend. Mr. Darcy had at first scarcely allowed her to be pretty; he had looked at her without admiration at the ball; and when they next met, he looked at her only to criticise. But no sooner had he made it clear to himself and his friends that she hardly had a good feature in her face, than he began to find it was rendered uncommonly intelligent by the beautiful expression of her dark eyes. To this discovery succeeded some others equally mortifying. Though he had detected with a critical eye more than one failure of perfect symmetry in her form, he was forced to acknowledge her figure to be light and pleasing; and in spite of his asserting that her manners were not those of the fashionable world, he was caught by their easy playfulness. Of this she was perfectly unaware; to her he was only the man who made himself agreeable nowhere, and who had not thought her handsome enough to dance with.\",\n",
              " \"He began to wish to know more of her, and as a step towards conversing with her himself, attended to her conversation with others. His doing so drew her notice. It was at Sir William Lucas's, where a large party were assembled.\",\n",
              " '\"What does Mr. Darcy mean,\" said she to Charlotte, \"by listening to my conversation with Colonel Forster?\"',\n",
              " '\"That is a question which Mr. Darcy only can answer.\"',\n",
              " '\"But if he does it any more I shall certainly let him know that I see what he is about. He has a very satirical eye, and if I do not begin by being impertinent myself, I shall soon grow afraid of him.\"',\n",
              " 'On his approaching them soon afterwards, though without seeming to have any intention of speaking, Miss Lucas defied her friend to mention such a subject to him; which immediately provoking Elizabeth to do it, she turned to him and said:',\n",
              " '\"Did you not think, Mr. Darcy, that I expressed myself uncommonly well just now, when I was teasing Colonel Forster to give us a ball at Meryton?\"',\n",
              " '\"With great energy; but it is always a subject which makes a lady energetic.\"',\n",
              " '\"You are severe on us.\"',\n",
              " '\"It will be _her_ turn soon to be teased,\" said Miss Lucas. \"I am going to open the instrument, Eliza, and you know what follows.\"',\n",
              " '\"You are a very strange creature by way of a friend!--always wanting me to play and sing before anybody and everybody! If my vanity had taken a musical turn, you would have been invaluable; but as it is, I would really rather not sit down before those who must be in the habit of hearing the very best performers.\" On Miss Lucas\\'s persevering, however, she added, \"Very well, if it must be so, it must.\" And gravely glancing at Mr. Darcy, \"There is a fine old saying, which everybody here is of course familiar with: \\'Keep your breath to cool your porridge\\'; and I shall keep mine to swell my song.\"',\n",
              " 'Her performance was pleasing, though by no means capital. After a song or two, and before she could reply to the entreaties of several that she would sing again, she was eagerly succeeded at the instrument by her sister Mary, who having, in consequence of being the only plain one in the family, worked hard for knowledge and accomplishments, was always impatient for display.',\n",
              " 'Mary had neither genius nor taste; and though vanity had given her application, it had given her likewise a pedantic air and conceited manner, which would have injured a higher degree of excellence than she had reached. Elizabeth, easy and unaffected, had been listened to with much more pleasure, though not playing half so well; and Mary, at the end of a long concerto, was glad to purchase praise and gratitude by Scotch and Irish airs, at the request of her younger sisters, who, with some of the Lucases, and two or three officers, joined eagerly in dancing at one end of the room.',\n",
              " 'Mr. Darcy stood near them in silent indignation at such a mode of passing the evening, to the exclusion of all conversation, and was too much engrossed by his thoughts to perceive that Sir William Lucas was his neighbour, till Sir William thus began:',\n",
              " '\"What a charming amusement for young people this is, Mr. Darcy! There is nothing like dancing after all. I consider it as one of the first refinements of polished society.\"',\n",
              " '\"Certainly, sir; and it has the advantage also of being in vogue amongst the less polished societies of the world. Every savage can dance.\"',\n",
              " 'Sir William only smiled. \"Your friend performs delightfully,\" he continued after a pause, on seeing Bingley join the group; \"and I doubt not that you are an adept in the science yourself, Mr. Darcy.\"',\n",
              " '\"You saw me dance at Meryton, I believe, sir.\"',\n",
              " '\"Yes, indeed, and received no inconsiderable pleasure from the sight. Do you often dance at St. James\\'s?\"',\n",
              " '\"Never, sir.\"',\n",
              " '\"Do you not think it would be a proper compliment to the place?\"',\n",
              " '\"It is a compliment which I never pay to any place if I can avoid it.\"',\n",
              " '\"You have a house in town, I conclude?\"',\n",
              " 'Mr. Darcy bowed.',\n",
              " '\"I had once had some thought of fixing in town myself--for I am fond of superior society; but I did not feel quite certain that the air of London would agree with Lady Lucas.\"',\n",
              " 'He paused in hopes of an answer; but his companion was not disposed to make any; and Elizabeth at that instant moving towards them, he was struck with the action of doing a very gallant thing, and called out to her:',\n",
              " '\"My dear Miss Eliza, why are you not dancing? Mr. Darcy, you must allow me to present this young lady to you as a very desirable partner. You cannot refuse to dance, I am sure when so much beauty is before you.\" And, taking her hand, he would have given it to Mr. Darcy who, though extremely surprised, was not unwilling to receive it, when she instantly drew back, and said with some discomposure to Sir William:',\n",
              " '\"Indeed, sir, I have not the least intention of dancing. I entreat you not to suppose that I moved this way in order to beg for a partner.\"',\n",
              " 'Mr. Darcy, with grave propriety, requested to be allowed the honour of her hand, but in vain. Elizabeth was determined; nor did Sir William at all shake her purpose by his attempt at persuasion.',\n",
              " '\"You excel so much in the dance, Miss Eliza, that it is cruel to deny me the happiness of seeing you; and though this gentleman dislikes the amusement in general, he can have no objection, I am sure, to oblige us for one half-hour.\"',\n",
              " '\"Mr. Darcy is all politeness,\" said Elizabeth, smiling.',\n",
              " '\"He is, indeed; but, considering the inducement, my dear Miss Eliza, we cannot wonder at his complaisance--for who would object to such a partner?\"',\n",
              " 'Elizabeth looked archly, and turned away. Her resistance had not injured her with the gentleman, and he was thinking of her with some complacency, when thus accosted by Miss Bingley:',\n",
              " '\"I can guess the subject of your reverie.\"',\n",
              " '\"I should imagine not.\"',\n",
              " '\"You are considering how insupportable it would be to pass many evenings in this manner--in such society; and indeed I am quite of your opinion. I was never more annoyed! The insipidity, and yet the noise--the nothingness, and yet the self-importance of all those people! What would I give to hear your strictures on them!\"',\n",
              " '\"Your conjecture is totally wrong, I assure you. My mind was more agreeably engaged. I have been meditating on the very great pleasure which a pair of fine eyes in the face of a pretty woman can bestow.\"',\n",
              " 'Miss Bingley immediately fixed her eyes on his face, and desired he would tell her what lady had the credit of inspiring such reflections. Mr. Darcy replied with great intrepidity:',\n",
              " '\"Miss Elizabeth Bennet.\"',\n",
              " '\"Miss Elizabeth Bennet!\" repeated Miss Bingley. \"I am all astonishment. How long has she been such a favourite?--and pray, when am I to wish you joy?\"',\n",
              " '\"That is exactly the question which I expected you to ask. A lady\\'s imagination is very rapid; it jumps from admiration to love, from love to matrimony, in a moment. I knew you would be wishing me joy.\"',\n",
              " '\"Nay, if you are serious about it, I shall consider the matter is absolutely settled. You will be having a charming mother-in-law, indeed; and, of course, she will always be at Pemberley with you.\"',\n",
              " 'He listened to her with perfect indifference while she chose to entertain herself in this manner; and as his composure convinced her that all was safe, her wit flowed long.',\n",
              " \"Mr. Bennet's property consisted almost entirely in an estate of two thousand a year, which, unfortunately for his daughters, was entailed, in default of heirs male, on a distant relation; and their mother's fortune, though ample for her situation in life, could but ill supply the deficiency of his. Her father had been an attorney in Meryton, and had left her four thousand pounds.\",\n",
              " 'She had a sister married to a Mr. Phillips, who had been a clerk to their father and succeeded him in the business, and a brother settled in London in a respectable line of trade.',\n",
              " \"The village of Longbourn was only one mile from Meryton; a most convenient distance for the young ladies, who were usually tempted thither three or four times a week, to pay their duty to their aunt and to a milliner's shop just over the way. The two youngest of the family, Catherine and Lydia, were particularly frequent in these attentions; their minds were more vacant than their sisters', and when nothing better offered, a walk to Meryton was necessary to amuse their morning hours and furnish conversation for the evening; and however bare of news the country in general might be, they always contrived to learn some from their aunt. At present, indeed, they were well supplied both with news and happiness by the recent arrival of a militia regiment in the neighbourhood; it was to remain the whole winter, and Meryton was the headquarters.\",\n",
              " \"Their visits to Mrs. Phillips were now productive of the most interesting intelligence. Every day added something to their knowledge of the officers' names and connections. Their lodgings were not long a secret, and at length they began to know the officers themselves. Mr. Phillips visited them all, and this opened to his nieces a store of felicity unknown before. They could talk of nothing but officers; and Mr. Bingley's large fortune, the mention of which gave animation to their mother, was worthless in their eyes when opposed to the regimentals of an ensign.\",\n",
              " 'After listening one morning to their effusions on this subject, Mr. Bennet coolly observed:',\n",
              " '\"From all that I can collect by your manner of talking, you must be two of the silliest girls in the country. I have suspected it some time, but I am now convinced.\"',\n",
              " 'Catherine was disconcerted, and made no answer; but Lydia, with perfect indifference, continued to express her admiration of Captain Carter, and her hope of seeing him in the course of the day, as he was going the next morning to London.',\n",
              " '\"I am astonished, my dear,\" said Mrs. Bennet, \"that you should be so ready to think your own children silly. If I wished to think slightingly of anybody\\'s children, it should not be of my own, however.\"',\n",
              " '\"If my children are silly, I must hope to be always sensible of it.\"',\n",
              " '\"Yes--but as it happens, they are all of them very clever.\"',\n",
              " '\"This is the only point, I flatter myself, on which we do not agree. I had hoped that our sentiments coincided in every particular, but I must so far differ from you as to think our two youngest daughters uncommonly foolish.\"',\n",
              " '\"My dear Mr. Bennet, you must not expect such girls to have the sense of their father and mother. When they get to our age, I dare say they will not think about officers any more than we do. I remember the time when I liked a red coat myself very well--and, indeed, so I do still at my heart; and if a smart young colonel, with five or six thousand a year, should want one of my girls I shall not say nay to him; and I thought Colonel Forster looked very becoming the other night at Sir William\\'s in his regimentals.\"',\n",
              " '\"Mamma,\" cried Lydia, \"my aunt says that Colonel Forster and Captain Carter do not go so often to Miss Watson\\'s as they did when they first came; she sees them now very often standing in Clarke\\'s library.\"',\n",
              " \"Mrs. Bennet was prevented replying by the entrance of the footman with a note for Miss Bennet; it came from Netherfield, and the servant waited for an answer. Mrs. Bennet's eyes sparkled with pleasure, and she was eagerly calling out, while her daughter read,\",\n",
              " '\"Well, Jane, who is it from? What is it about? What does he say? Well, Jane, make haste and tell us; make haste, my love.\"',\n",
              " '\"It is from Miss Bingley,\" said Jane, and then read it aloud.',\n",
              " '\"MY DEAR FRIEND,--',\n",
              " '\"If you are not so compassionate as to dine to-day with Louisa and me, we shall be in danger of hating each other for the rest of our lives, for a whole day\\'s tete-a-tete between two women can never end without a quarrel. Come as soon as you can on receipt of this. My brother and the gentlemen are to dine with the officers.--Yours ever,',\n",
              " '\"CAROLINE BINGLEY\"',\n",
              " '\"With the officers!\" cried Lydia. \"I wonder my aunt did not tell us of _that_.\"',\n",
              " '\"Dining out,\" said Mrs. Bennet, \"that is very unlucky.\"',\n",
              " '\"Can I have the carriage?\" said Jane.',\n",
              " '\"No, my dear, you had better go on horseback, because it seems likely to rain; and then you must stay all night.\"',\n",
              " '\"That would be a good scheme,\" said Elizabeth, \"if you were sure that they would not offer to send her home.\"',\n",
              " '\"Oh! but the gentlemen will have Mr. Bingley\\'s chaise to go to Meryton, and the Hursts have no horses to theirs.\"',\n",
              " '\"I had much rather go in the coach.\"',\n",
              " '\"But, my dear, your father cannot spare the horses, I am sure. They are wanted in the farm, Mr. Bennet, are they not?\"',\n",
              " '\"They are wanted in the farm much oftener than I can get them.\"',\n",
              " '\"But if you have got them to-day,\" said Elizabeth, \"my mother\\'s purpose will be answered.\"',\n",
              " 'She did at last extort from her father an acknowledgment that the horses were engaged. Jane was therefore obliged to go on horseback, and her mother attended her to the door with many cheerful prognostics of a bad day. Her hopes were answered; Jane had not been gone long before it rained hard. Her sisters were uneasy for her, but her mother was delighted. The rain continued the whole evening without intermission; Jane certainly could not come back.',\n",
              " '\"This was a lucky idea of mine, indeed!\" said Mrs. Bennet more than once, as if the credit of making it rain were all her own. Till the next morning, however, she was not aware of all the felicity of her contrivance. Breakfast was scarcely over when a servant from Netherfield brought the following note for Elizabeth:',\n",
              " '\"MY DEAREST LIZZY,--',\n",
              " '\"I find myself very unwell this morning, which, I suppose, is to be imputed to my getting wet through yesterday. My kind friends will not hear of my returning till I am better. They insist also on my seeing Mr. Jones--therefore do not be alarmed if you should hear of his having been to me--and, excepting a sore throat and headache, there is not much the matter with me.--Yours, etc.\"',\n",
              " '\"Well, my dear,\" said Mr. Bennet, when Elizabeth had read the note aloud, \"if your daughter should have a dangerous fit of illness--if she should die, it would be a comfort to know that it was all in pursuit of Mr. Bingley, and under your orders.\"',\n",
              " '\"Oh! I am not afraid of her dying. People do not die of little trifling colds. She will be taken good care of. As long as she stays there, it is all very well. I would go and see her if I could have the carriage.\"',\n",
              " 'Elizabeth, feeling really anxious, was determined to go to her, though the carriage was not to be had; and as she was no horsewoman, walking was her only alternative. She declared her resolution.',\n",
              " '\"How can you be so silly,\" cried her mother, \"as to think of such a thing, in all this dirt! You will not be fit to be seen when you get there.\"',\n",
              " '\"I shall be very fit to see Jane--which is all I want.\"',\n",
              " '\"Is this a hint to me, Lizzy,\" said her father, \"to send for the horses?\"',\n",
              " '\"No, indeed, I do not wish to avoid the walk. The distance is nothing when one has a motive; only three miles. I shall be back by dinner.\"',\n",
              " '\"I admire the activity of your benevolence,\" observed Mary, \"but every impulse of feeling should be guided by reason; and, in my opinion, exertion should always be in proportion to what is required.\"',\n",
              " '\"We will go as far as Meryton with you,\" said Catherine and Lydia. Elizabeth accepted their company, and the three young ladies set off together.',\n",
              " '\"If we make haste,\" said Lydia, as they walked along, \"perhaps we may see something of Captain Carter before he goes.\"',\n",
              " \"In Meryton they parted; the two youngest repaired to the lodgings of one of the officers' wives, and Elizabeth continued her walk alone, crossing field after field at a quick pace, jumping over stiles and springing over puddles with impatient activity, and finding herself at last within view of the house, with weary ankles, dirty stockings, and a face glowing with the warmth of exercise.\",\n",
              " \"She was shown into the breakfast-parlour, where all but Jane were assembled, and where her appearance created a great deal of surprise. That she should have walked three miles so early in the day, in such dirty weather, and by herself, was almost incredible to Mrs. Hurst and Miss Bingley; and Elizabeth was convinced that they held her in contempt for it. She was received, however, very politely by them; and in their brother's manners there was something better than politeness; there was good humour and kindness. Mr. Darcy said very little, and Mr. Hurst nothing at all. The former was divided between admiration of the brilliancy which exercise had given to her complexion, and doubt as to the occasion's justifying her coming so far alone. The latter was thinking only of his breakfast.\",\n",
              " 'Her inquiries after her sister were not very favourably answered. Miss Bennet had slept ill, and though up, was very feverish, and not well enough to leave her room. Elizabeth was glad to be taken to her immediately; and Jane, who had only been withheld by the fear of giving alarm or inconvenience from expressing in her note how much she longed for such a visit, was delighted at her entrance. She was not equal, however, to much conversation, and when Miss Bingley left them together, could attempt little besides expressions of gratitude for the extraordinary kindness she was treated with. Elizabeth silently attended her.',\n",
              " 'When breakfast was over they were joined by the sisters; and Elizabeth began to like them herself, when she saw how much affection and solicitude they showed for Jane. The apothecary came, and having examined his patient, said, as might be supposed, that she had caught a violent cold, and that they must endeavour to get the better of it; advised her to return to bed, and promised her some draughts. The advice was followed readily, for the feverish symptoms increased, and her head ached acutely. Elizabeth did not quit her room for a moment; nor were the other ladies often absent; the gentlemen being out, they had, in fact, nothing to do elsewhere.',\n",
              " 'When the clock struck three, Elizabeth felt that she must go, and very unwillingly said so. Miss Bingley offered her the carriage, and she only wanted a little pressing to accept it, when Jane testified such concern in parting with her, that Miss Bingley was obliged to convert the offer of the chaise to an invitation to remain at Netherfield for the present. Elizabeth most thankfully consented, and a servant was dispatched to Longbourn to acquaint the family with her stay and bring back a supply of clothes.',\n",
              " \"At five o'clock the two ladies retired to dress, and at half-past six Elizabeth was summoned to dinner. To the civil inquiries which then poured in, and amongst which she had the pleasure of distinguishing the much superior solicitude of Mr. Bingley's, she could not make a very favourable answer. Jane was by no means better. The sisters, on hearing this, repeated three or four times how much they were grieved, how shocking it was to have a bad cold, and how excessively they disliked being ill themselves; and then thought no more of the matter: and their indifference towards Jane when not immediately before them restored Elizabeth to the enjoyment of all her former dislike.\",\n",
              " 'Their brother, indeed, was the only one of the party whom she could regard with any complacency. His anxiety for Jane was evident, and his attentions to herself most pleasing, and they prevented her feeling herself so much an intruder as she believed she was considered by the others. She had very little notice from any but him. Miss Bingley was engrossed by Mr. Darcy, her sister scarcely less so; and as for Mr. Hurst, by whom Elizabeth sat, he was an indolent man, who lived only to eat, drink, and play at cards; who, when he found her to prefer a plain dish to a ragout, had nothing to say to her.',\n",
              " 'When dinner was over, she returned directly to Jane, and Miss Bingley began abusing her as soon as she was out of the room. Her manners were pronounced to be very bad indeed, a mixture of pride and impertinence; she had no conversation, no style, no beauty. Mrs. Hurst thought the same, and added:',\n",
              " '\"She has nothing, in short, to recommend her, but being an excellent walker. I shall never forget her appearance this morning. She really looked almost wild.\"',\n",
              " '\"She did, indeed, Louisa. I could hardly keep my countenance. Very nonsensical to come at all! Why must _she_ be scampering about the country, because her sister had a cold? Her hair, so untidy, so blowsy!\"',\n",
              " '\"Yes, and her petticoat; I hope you saw her petticoat, six inches deep in mud, I am absolutely certain; and the gown which had been let down to hide it not doing its office.\"',\n",
              " '\"Your picture may be very exact, Louisa,\" said Bingley; \"but this was all lost upon me. I thought Miss Elizabeth Bennet looked remarkably well when she came into the room this morning. Her dirty petticoat quite escaped my notice.\"',\n",
              " '\"_You_ observed it, Mr. Darcy, I am sure,\" said Miss Bingley; \"and I am inclined to think that you would not wish to see _your_ sister make such an exhibition.\"',\n",
              " '\"Certainly not.\"',\n",
              " '\"To walk three miles, or four miles, or five miles, or whatever it is, above her ankles in dirt, and alone, quite alone! What could she mean by it? It seems to me to show an abominable sort of conceited independence, a most country-town indifference to decorum.\"',\n",
              " '\"It shows an affection for her sister that is very pleasing,\" said Bingley.',\n",
              " '\"I am afraid, Mr. Darcy,\" observed Miss Bingley in a half whisper, \"that this adventure has rather affected your admiration of her fine eyes.\"',\n",
              " '\"Not at all,\" he replied; \"they were brightened by the exercise.\" A short pause followed this speech, and Mrs. Hurst began again:',\n",
              " '\"I have an excessive regard for Miss Jane Bennet, she is really a very sweet girl, and I wish with all my heart she were well settled. But with such a father and mother, and such low connections, I am afraid there is no chance of it.\"',\n",
              " '\"I think I have heard you say that their uncle is an attorney on Meryton.\"',\n",
              " '\"Yes; and they have another, who lives somewhere near Cheapside.\"',\n",
              " '\"That is capital,\" added her sister, and they both laughed heartily.',\n",
              " '\"If they had uncles enough to fill _all_ Cheapside,\" cried Bingley, \"it would not make them one jot less agreeable.\"',\n",
              " '\"But it must very materially lessen their chance of marrying men of any consideration in the world,\" replied Darcy.',\n",
              " \"To this speech Bingley made no answer; but his sisters gave it their hearty assent, and indulged their mirth for some time at the expense of their dear friend's vulgar relations.\",\n",
              " 'With a renewal of tenderness, however, they returned to her room on leaving the dining-parlour, and sat with her till summoned to coffee. She was still very poorly, and Elizabeth would not quit her at all, till late in the evening, when she had the comfort of seeing her sleep, and when it seemed to her rather right than pleasant that she should go downstairs herself. On entering the drawing-room she found the whole party at loo, and was immediately invited to join them; but suspecting them to be playing high she declined it, and making her sister the excuse, said she would amuse herself for the short time she could stay below, with a book. Mr. Hurst looked at her with astonishment.',\n",
              " '\"Do you prefer reading to cards?\" said he; \"that is rather singular.\"',\n",
              " '\"Miss Eliza Bennet,\" said Miss Bingley, \"despises cards. She is a great reader, and has no pleasure in anything else.\"',\n",
              " '\"I deserve neither such praise nor such censure,\" cried Elizabeth; \"I am _not_ a great reader, and I have pleasure in many things.\"',\n",
              " '\"In nursing your sister I am sure you have pleasure,\" said Bingley; \"and I hope it will be soon increased by seeing her quite well.\"',\n",
              " 'Elizabeth thanked him from her heart, and then walked towards the table where a few books were lying. He immediately offered to fetch her others--all that his library afforded.',\n",
              " '\"And I wish my collection were larger for your benefit and my own credit; but I am an idle fellow, and though I have not many, I have more than I ever looked into.\"',\n",
              " 'Elizabeth assured him that she could suit herself perfectly with those in the room.',\n",
              " '\"I am astonished,\" said Miss Bingley, \"that my father should have left so small a collection of books. What a delightful library you have at Pemberley, Mr. Darcy!\"',\n",
              " '\"It ought to be good,\" he replied, \"it has been the work of many generations.\"',\n",
              " '\"And then you have added so much to it yourself, you are always buying books.\"',\n",
              " '\"I cannot comprehend the neglect of a family library in such days as these.\"',\n",
              " '\"Neglect! I am sure you neglect nothing that can add to the beauties of that noble place. Charles, when you build _your_ house, I wish it may be half as delightful as Pemberley.\"',\n",
              " '\"I wish it may.\"',\n",
              " '\"But I would really advise you to make your purchase in that neighbourhood, and take Pemberley for a kind of model. There is not a finer county in England than Derbyshire.\"',\n",
              " '\"With all my heart; I will buy Pemberley itself if Darcy will sell it.\"',\n",
              " '\"I am talking of possibilities, Charles.\"',\n",
              " '\"Upon my word, Caroline, I should think it more possible to get Pemberley by purchase than by imitation.\"',\n",
              " 'Elizabeth was so much caught with what passed, as to leave her very little attention for her book; and soon laying it wholly aside, she drew near the card-table, and stationed herself between Mr. Bingley and his eldest sister, to observe the game.',\n",
              " '\"Is Miss Darcy much grown since the spring?\" said Miss Bingley; \"will she be as tall as I am?\"',\n",
              " '\"I think she will. She is now about Miss Elizabeth Bennet\\'s height, or rather taller.\"',\n",
              " '\"How I long to see her again! I never met with anybody who delighted me so much. Such a countenance, such manners! And so extremely accomplished for her age! Her performance on the pianoforte is exquisite.\"',\n",
              " '\"It is amazing to me,\" said Bingley, \"how young ladies can have patience to be so very accomplished as they all are.\"',\n",
              " '\"All young ladies accomplished! My dear Charles, what do you mean?\"',\n",
              " '\"Yes, all of them, I think. They all paint tables, cover screens, and net purses. I scarcely know anyone who cannot do all this, and I am sure I never heard a young lady spoken of for the first time, without being informed that she was very accomplished.\"',\n",
              " '\"Your list of the common extent of accomplishments,\" said Darcy, \"has too much truth. The word is applied to many a woman who deserves it no otherwise than by netting a purse or covering a screen. But I am very far from agreeing with you in your estimation of ladies in general. I cannot boast of knowing more than half-a-dozen, in the whole range of my acquaintance, that are really accomplished.\"',\n",
              " '\"Nor I, I am sure,\" said Miss Bingley.',\n",
              " '\"Then,\" observed Elizabeth, \"you must comprehend a great deal in your idea of an accomplished woman.\"',\n",
              " '\"Yes, I do comprehend a great deal in it.\"',\n",
              " '\"Oh! certainly,\" cried his faithful assistant, \"no one can be really esteemed accomplished who does not greatly surpass what is usually met with. A woman must have a thorough knowledge of music, singing, drawing, dancing, and the modern languages, to deserve the word; and besides all this, she must possess a certain something in her air and manner of walking, the tone of her voice, her address and expressions, or the word will be but half-deserved.\"',\n",
              " '\"All this she must possess,\" added Darcy, \"and to all this she must yet add something more substantial, in the improvement of her mind by extensive reading.\"',\n",
              " '\"I am no longer surprised at your knowing _only_ six accomplished women. I rather wonder now at your knowing _any_.\"',\n",
              " '\"Are you so severe upon your own sex as to doubt the possibility of all this?\"',\n",
              " '\"I never saw such a woman. I never saw such capacity, and taste, and application, and elegance, as you describe united.\"',\n",
              " 'Mrs. Hurst and Miss Bingley both cried out against the injustice of her implied doubt, and were both protesting that they knew many women who answered this description, when Mr. Hurst called them to order, with bitter complaints of their inattention to what was going forward. As all conversation was thereby at an end, Elizabeth soon afterwards left the room.',\n",
              " '\"Elizabeth Bennet,\" said Miss Bingley, when the door was closed on her, \"is one of those young ladies who seek to recommend themselves to the other sex by undervaluing their own; and with many men, I dare say, it succeeds. But, in my opinion, it is a paltry device, a very mean art.\"',\n",
              " '\"Undoubtedly,\" replied Darcy, to whom this remark was chiefly addressed, \"there is a meanness in _all_ the arts which ladies sometimes condescend to employ for captivation. Whatever bears affinity to cunning is despicable.\"',\n",
              " 'Miss Bingley was not so entirely satisfied with this reply as to continue the subject.',\n",
              " \"Elizabeth joined them again only to say that her sister was worse, and that she could not leave her. Bingley urged Mr. Jones being sent for immediately; while his sisters, convinced that no country advice could be of any service, recommended an express to town for one of the most eminent physicians. This she would not hear of; but she was not so unwilling to comply with their brother's proposal; and it was settled that Mr. Jones should be sent for early in the morning, if Miss Bennet were not decidedly better. Bingley was quite uncomfortable; his sisters declared that they were miserable. They solaced their wretchedness, however, by duets after supper, while he could find no better relief to his feelings than by giving his housekeeper directions that every attention might be paid to the sick lady and her sister.\",\n",
              " \"Elizabeth passed the chief of the night in her sister's room, and in the morning had the pleasure of being able to send a tolerable answer to the inquiries which she very early received from Mr. Bingley by a housemaid, and some time afterwards from the two elegant ladies who waited on his sisters. In spite of this amendment, however, she requested to have a note sent to Longbourn, desiring her mother to visit Jane, and form her own judgement of her situation. The note was immediately dispatched, and its contents as quickly complied with. Mrs. Bennet, accompanied by her two youngest girls, reached Netherfield soon after the family breakfast.\",\n",
              " \"Had she found Jane in any apparent danger, Mrs. Bennet would have been very miserable; but being satisfied on seeing her that her illness was not alarming, she had no wish of her recovering immediately, as her restoration to health would probably remove her from Netherfield. She would not listen, therefore, to her daughter's proposal of being carried home; neither did the apothecary, who arrived about the same time, think it at all advisable. After sitting a little while with Jane, on Miss Bingley's appearance and invitation, the mother and three daughter all attended her into the breakfast parlour. Bingley met them with hopes that Mrs. Bennet had not found Miss Bennet worse than she expected.\",\n",
              " '\"Indeed I have, sir,\" was her answer. \"She is a great deal too ill to be moved. Mr. Jones says we must not think of moving her. We must trespass a little longer on your kindness.\"',\n",
              " '\"Removed!\" cried Bingley. \"It must not be thought of. My sister, I am sure, will not hear of her removal.\"',\n",
              " '\"You may depend upon it, Madam,\" said Miss Bingley, with cold civility, \"that Miss Bennet will receive every possible attention while she remains with us.\"',\n",
              " 'Mrs. Bennet was profuse in her acknowledgments.',\n",
              " '\"I am sure,\" she added, \"if it was not for such good friends I do not know what would become of her, for she is very ill indeed, and suffers a vast deal, though with the greatest patience in the world, which is always the way with her, for she has, without exception, the sweetest temper I have ever met with. I often tell my other girls they are nothing to _her_. You have a sweet room here, Mr. Bingley, and a charming prospect over the gravel walk. I do not know a place in the country that is equal to Netherfield. You will not think of quitting it in a hurry, I hope, though you have but a short lease.\"',\n",
              " '\"Whatever I do is done in a hurry,\" replied he; \"and therefore if I should resolve to quit Netherfield, I should probably be off in five minutes. At present, however, I consider myself as quite fixed here.\"',\n",
              " '\"That is exactly what I should have supposed of you,\" said Elizabeth.',\n",
              " '\"You begin to comprehend me, do you?\" cried he, turning towards her.',\n",
              " '\"Oh! yes--I understand you perfectly.\"',\n",
              " '\"I wish I might take this for a compliment; but to be so easily seen through I am afraid is pitiful.\"',\n",
              " '\"That is as it happens. It does not follow that a deep, intricate character is more or less estimable than such a one as yours.\"',\n",
              " '\"Lizzy,\" cried her mother, \"remember where you are, and do not run on in the wild manner that you are suffered to do at home.\"',\n",
              " '\"I did not know before,\" continued Bingley immediately, \"that you were a studier of character. It must be an amusing study.\"',\n",
              " '\"Yes, but intricate characters are the _most_ amusing. They have at least that advantage.\"',\n",
              " '\"The country,\" said Darcy, \"can in general supply but a few subjects for such a study. In a country neighbourhood you move in a very confined and unvarying society.\"',\n",
              " '\"But people themselves alter so much, that there is something new to be observed in them for ever.\"',\n",
              " '\"Yes, indeed,\" cried Mrs. Bennet, offended by his manner of mentioning a country neighbourhood. \"I assure you there is quite as much of _that_ going on in the country as in town.\"',\n",
              " 'Everybody was surprised, and Darcy, after looking at her for a moment, turned silently away. Mrs. Bennet, who fancied she had gained a complete victory over him, continued her triumph.',\n",
              " '\"I cannot see that London has any great advantage over the country, for my part, except the shops and public places. The country is a vast deal pleasanter, is it not, Mr. Bingley?\"',\n",
              " '\"When I am in the country,\" he replied, \"I never wish to leave it; and when I am in town it is pretty much the same. They have each their advantages, and I can be equally happy in either.\"',\n",
              " '\"Aye--that is because you have the right disposition. But that gentleman,\" looking at Darcy, \"seemed to think the country was nothing at all.\"',\n",
              " '\"Indeed, Mamma, you are mistaken,\" said Elizabeth, blushing for her mother. \"You quite mistook Mr. Darcy. He only meant that there was not such a variety of people to be met with in the country as in the town, which you must acknowledge to be true.\"',\n",
              " '\"Certainly, my dear, nobody said there were; but as to not meeting with many people in this neighbourhood, I believe there are few neighbourhoods larger. I know we dine with four-and-twenty families.\"',\n",
              " \"Nothing but concern for Elizabeth could enable Bingley to keep his countenance. His sister was less delicate, and directed her eyes towards Mr. Darcy with a very expressive smile. Elizabeth, for the sake of saying something that might turn her mother's thoughts, now asked her if Charlotte Lucas had been at Longbourn since _her_ coming away.\",\n",
              " '\"Yes, she called yesterday with her father. What an agreeable man Sir William is, Mr. Bingley, is not he? So much the man of fashion! So genteel and easy! He had always something to say to everybody. _That_ is my idea of good breeding; and those persons who fancy themselves very important, and never open their mouths, quite mistake the matter.\"',\n",
              " '\"Did Charlotte dine with you?\"',\n",
              " '\"No, she would go home. I fancy she was wanted about the mince-pies. For my part, Mr. Bingley, I always keep servants that can do their own work; _my_ daughters are brought up very differently. But everybody is to judge for themselves, and the Lucases are a very good sort of girls, I assure you. It is a pity they are not handsome! Not that I think Charlotte so _very_ plain--but then she is our particular friend.\"',\n",
              " '\"She seems a very pleasant young woman.\"',\n",
              " '\"Oh! dear, yes; but you must own she is very plain. Lady Lucas herself has often said so, and envied me Jane\\'s beauty. I do not like to boast of my own child, but to be sure, Jane--one does not often see anybody better looking. It is what everybody says. I do not trust my own partiality. When she was only fifteen, there was a man at my brother Gardiner\\'s in town so much in love with her that my sister-in-law was sure he would make her an offer before we came away. But, however, he did not. Perhaps he thought her too young. However, he wrote some verses on her, and very pretty they were.\"',\n",
              " '\"And so ended his affection,\" said Elizabeth impatiently. \"There has been many a one, I fancy, overcome in the same way. I wonder who first discovered the efficacy of poetry in driving away love!\"',\n",
              " '\"I have been used to consider poetry as the _food_ of love,\" said Darcy.',\n",
              " '\"Of a fine, stout, healthy love it may. Everything nourishes what is strong already. But if it be only a slight, thin sort of inclination, I am convinced that one good sonnet will starve it entirely away.\"',\n",
              " 'Darcy only smiled; and the general pause which ensued made Elizabeth tremble lest her mother should be exposing herself again. She longed to speak, but could think of nothing to say; and after a short silence Mrs. Bennet began repeating her thanks to Mr. Bingley for his kindness to Jane, with an apology for troubling him also with Lizzy. Mr. Bingley was unaffectedly civil in his answer, and forced his younger sister to be civil also, and say what the occasion required. She performed her part indeed without much graciousness, but Mrs. Bennet was satisfied, and soon afterwards ordered her carriage. Upon this signal, the youngest of her daughters put herself forward. The two girls had been whispering to each other during the whole visit, and the result of it was, that the youngest should tax Mr. Bingley with having promised on his first coming into the country to give a ball at Netherfield.',\n",
              " \"Lydia was a stout, well-grown girl of fifteen, with a fine complexion and good-humoured countenance; a favourite with her mother, whose affection had brought her into public at an early age. She had high animal spirits, and a sort of natural self-consequence, which the attention of the officers, to whom her uncle's good dinners, and her own easy manners recommended her, had increased into assurance. She was very equal, therefore, to address Mr. Bingley on the subject of the ball, and abruptly reminded him of his promise; adding, that it would be the most shameful thing in the world if he did not keep it. His answer to this sudden attack was delightful to their mother's ear:\",\n",
              " '\"I am perfectly ready, I assure you, to keep my engagement; and when your sister is recovered, you shall, if you please, name the very day of the ball. But you would not wish to be dancing when she is ill.\"',\n",
              " 'Lydia declared herself satisfied. \"Oh! yes--it would be much better to wait till Jane was well, and by that time most likely Captain Carter would be at Meryton again. And when you have given _your_ ball,\" she added, \"I shall insist on their giving one also. I shall tell Colonel Forster it will be quite a shame if he does not.\"',\n",
              " \"Mrs. Bennet and her daughters then departed, and Elizabeth returned instantly to Jane, leaving her own and her relations' behaviour to the remarks of the two ladies and Mr. Darcy; the latter of whom, however, could not be prevailed on to join in their censure of _her_, in spite of all Miss Bingley's witticisms on _fine eyes_.\",\n",
              " 'The day passed much as the day before had done. Mrs. Hurst and Miss Bingley had spent some hours of the morning with the invalid, who continued, though slowly, to mend; and in the evening Elizabeth joined their party in the drawing-room. The loo-table, however, did not appear. Mr. Darcy was writing, and Miss Bingley, seated near him, was watching the progress of his letter and repeatedly calling off his attention by messages to his sister. Mr. Hurst and Mr. Bingley were at piquet, and Mrs. Hurst was observing their game.',\n",
              " 'Elizabeth took up some needlework, and was sufficiently amused in attending to what passed between Darcy and his companion. The perpetual commendations of the lady, either on his handwriting, or on the evenness of his lines, or on the length of his letter, with the perfect unconcern with which her praises were received, formed a curious dialogue, and was exactly in union with her opinion of each.',\n",
              " '\"How delighted Miss Darcy will be to receive such a letter!\"',\n",
              " 'He made no answer.',\n",
              " '\"You write uncommonly fast.\"',\n",
              " '\"You are mistaken. I write rather slowly.\"',\n",
              " '\"How many letters you must have occasion to write in the course of a year! Letters of business, too! How odious I should think them!\"',\n",
              " '\"It is fortunate, then, that they fall to my lot instead of yours.\"',\n",
              " '\"Pray tell your sister that I long to see her.\"',\n",
              " '\"I have already told her so once, by your desire.\"',\n",
              " '\"I am afraid you do not like your pen. Let me mend it for you. I mend pens remarkably well.\"',\n",
              " '\"Thank you--but I always mend my own.\"',\n",
              " '\"How can you contrive to write so even?\"',\n",
              " 'He was silent.',\n",
              " '\"Tell your sister I am delighted to hear of her improvement on the harp; and pray let her know that I am quite in raptures with her beautiful little design for a table, and I think it infinitely superior to Miss Grantley\\'s.\"',\n",
              " '\"Will you give me leave to defer your raptures till I write again? At present I have not room to do them justice.\"',\n",
              " '\"Oh! it is of no consequence. I shall see her in January. But do you always write such charming long letters to her, Mr. Darcy?\"',\n",
              " '\"They are generally long; but whether always charming it is not for me to determine.\"',\n",
              " '\"It is a rule with me, that a person who can write a long letter with ease, cannot write ill.\"',\n",
              " '\"That will not do for a compliment to Darcy, Caroline,\" cried her brother, \"because he does _not_ write with ease. He studies too much for words of four syllables. Do not you, Darcy?\"',\n",
              " '\"My style of writing is very different from yours.\"',\n",
              " '\"Oh!\" cried Miss Bingley, \"Charles writes in the most careless way imaginable. He leaves out half his words, and blots the rest.\"',\n",
              " '\"My ideas flow so rapidly that I have not time to express them--by which means my letters sometimes convey no ideas at all to my correspondents.\"',\n",
              " '\"Your humility, Mr. Bingley,\" said Elizabeth, \"must disarm reproof.\"',\n",
              " '\"Nothing is more deceitful,\" said Darcy, \"than the appearance of humility. It is often only carelessness of opinion, and sometimes an indirect boast.\"',\n",
              " '\"And which of the two do you call _my_ little recent piece of modesty?\"',\n",
              " '\"The indirect boast; for you are really proud of your defects in writing, because you consider them as proceeding from a rapidity of thought and carelessness of execution, which, if not estimable, you think at least highly interesting. The power of doing anything with quickness is always prized much by the possessor, and often without any attention to the imperfection of the performance. When you told Mrs. Bennet this morning that if you ever resolved upon quitting Netherfield you should be gone in five minutes, you meant it to be a sort of panegyric, of compliment to yourself--and yet what is there so very laudable in a precipitance which must leave very necessary business undone, and can be of no real advantage to yourself or anyone else?\"',\n",
              " '\"Nay,\" cried Bingley, \"this is too much, to remember at night all the foolish things that were said in the morning. And yet, upon my honour, I believe what I said of myself to be true, and I believe it at this moment. At least, therefore, I did not assume the character of needless precipitance merely to show off before the ladies.\"',\n",
              " '\"I dare say you believed it; but I am by no means convinced that you would be gone with such celerity. Your conduct would be quite as dependent on chance as that of any man I know; and if, as you were mounting your horse, a friend were to say, \\'Bingley, you had better stay till next week,\\' you would probably do it, you would probably not go--and at another word, might stay a month.\"',\n",
              " '\"You have only proved by this,\" cried Elizabeth, \"that Mr. Bingley did not do justice to his own disposition. You have shown him off now much more than he did himself.\"',\n",
              " '\"I am exceedingly gratified,\" said Bingley, \"by your converting what my friend says into a compliment on the sweetness of my temper. But I am afraid you are giving it a turn which that gentleman did by no means intend; for he would certainly think better of me, if under such a circumstance I were to give a flat denial, and ride off as fast as I could.\"',\n",
              " '\"Would Mr. Darcy then consider the rashness of your original intentions as atoned for by your obstinacy in adhering to it?\"',\n",
              " '\"Upon my word, I cannot exactly explain the matter; Darcy must speak for himself.\"',\n",
              " '\"You expect me to account for opinions which you choose to call mine, but which I have never acknowledged. Allowing the case, however, to stand according to your representation, you must remember, Miss Bennet, that the friend who is supposed to desire his return to the house, and the delay of his plan, has merely desired it, asked it without offering one argument in favour of its propriety.\"',\n",
              " '\"To yield readily--easily--to the _persuasion_ of a friend is no merit with you.\"',\n",
              " '\"To yield without conviction is no compliment to the understanding of either.\"',\n",
              " '\"You appear to me, Mr. Darcy, to allow nothing for the influence of friendship and affection. A regard for the requester would often make one readily yield to a request, without waiting for arguments to reason one into it. I am not particularly speaking of such a case as you have supposed about Mr. Bingley. We may as well wait, perhaps, till the circumstance occurs before we discuss the discretion of his behaviour thereupon. But in general and ordinary cases between friend and friend, where one of them is desired by the other to change a resolution of no very great moment, should you think ill of that person for complying with the desire, without waiting to be argued into it?\"',\n",
              " '\"Will it not be advisable, before we proceed on this subject, to arrange with rather more precision the degree of importance which is to appertain to this request, as well as the degree of intimacy subsisting between the parties?\"',\n",
              " '\"By all means,\" cried Bingley; \"let us hear all the particulars, not forgetting their comparative height and size; for that will have more weight in the argument, Miss Bennet, than you may be aware of. I assure you, that if Darcy were not such a great tall fellow, in comparison with myself, I should not pay him half so much deference. I declare I do not know a more awful object than Darcy, on particular occasions, and in particular places; at his own house especially, and of a Sunday evening, when he has nothing to do.\"',\n",
              " 'Mr. Darcy smiled; but Elizabeth thought she could perceive that he was rather offended, and therefore checked her laugh. Miss Bingley warmly resented the indignity he had received, in an expostulation with her brother for talking such nonsense.',\n",
              " '\"I see your design, Bingley,\" said his friend. \"You dislike an argument, and want to silence this.\"',\n",
              " '\"Perhaps I do. Arguments are too much like disputes. If you and Miss Bennet will defer yours till I am out of the room, I shall be very thankful; and then you may say whatever you like of me.\"',\n",
              " '\"What you ask,\" said Elizabeth, \"is no sacrifice on my side; and Mr. Darcy had much better finish his letter.\"',\n",
              " 'Mr. Darcy took her advice, and did finish his letter.',\n",
              " 'When that business was over, he applied to Miss Bingley and Elizabeth for an indulgence of some music. Miss Bingley moved with some alacrity to the pianoforte; and, after a polite request that Elizabeth would lead the way which the other as politely and more earnestly negatived, she seated herself.',\n",
              " \"Mrs. Hurst sang with her sister, and while they were thus employed, Elizabeth could not help observing, as she turned over some music-books that lay on the instrument, how frequently Mr. Darcy's eyes were fixed on her. She hardly knew how to suppose that she could be an object of admiration to so great a man; and yet that he should look at her because he disliked her, was still more strange. She could only imagine, however, at last that she drew his notice because there was something more wrong and reprehensible, according to his ideas of right, than in any other person present. The supposition did not pain her. She liked him too little to care for his approbation.\",\n",
              " 'After playing some Italian songs, Miss Bingley varied the charm by a lively Scotch air; and soon afterwards Mr. Darcy, drawing near Elizabeth, said to her:',\n",
              " '\"Do not you feel a great inclination, Miss Bennet, to seize such an opportunity of dancing a reel?\"',\n",
              " 'She smiled, but made no answer. He repeated the question, with some surprise at her silence.',\n",
              " '\"Oh!\" said she, \"I heard you before, but I could not immediately determine what to say in reply. You wanted me, I know, to say \\'Yes,\\' that you might have the pleasure of despising my taste; but I always delight in overthrowing those kind of schemes, and cheating a person of their premeditated contempt. I have, therefore, made up my mind to tell you, that I do not want to dance a reel at all--and now despise me if you dare.\"',\n",
              " '\"Indeed I do not dare.\"',\n",
              " 'Elizabeth, having rather expected to affront him, was amazed at his gallantry; but there was a mixture of sweetness and archness in her manner which made it difficult for her to affront anybody; and Darcy had never been so bewitched by any woman as he was by her. He really believed, that were it not for the inferiority of her connections, he should be in some danger.',\n",
              " 'Miss Bingley saw, or suspected enough to be jealous; and her great anxiety for the recovery of her dear friend Jane received some assistance from her desire of getting rid of Elizabeth.',\n",
              " 'She often tried to provoke Darcy into disliking her guest, by talking of their supposed marriage, and planning his happiness in such an alliance.',\n",
              " '\"I hope,\" said she, as they were walking together in the shrubbery the next day, \"you will give your mother-in-law a few hints, when this desirable event takes place, as to the advantage of holding her tongue; and if you can compass it, do cure the younger girls of running after officers. And, if I may mention so delicate a subject, endeavour to check that little something, bordering on conceit and impertinence, which your lady possesses.\"',\n",
              " '\"Have you anything else to propose for my domestic felicity?\"',\n",
              " '\"Oh! yes. Do let the portraits of your uncle and aunt Phillips be placed in the gallery at Pemberley. Put them next to your great-uncle the judge. They are in the same profession, you know, only in different lines. As for your Elizabeth\\'s picture, you must not have it taken, for what painter could do justice to those beautiful eyes?\"',\n",
              " '\"It would not be easy, indeed, to catch their expression, but their colour and shape, and the eyelashes, so remarkably fine, might be copied.\"',\n",
              " 'At that moment they were met from another walk by Mrs. Hurst and Elizabeth herself.',\n",
              " '\"I did not know that you intended to walk,\" said Miss Bingley, in some confusion, lest they had been overheard.',\n",
              " '\"You used us abominably ill,\" answered Mrs. Hurst, \"running away without telling us that you were coming out.\"',\n",
              " 'Then taking the disengaged arm of Mr. Darcy, she left Elizabeth to walk by herself. The path just admitted three. Mr. Darcy felt their rudeness, and immediately said:',\n",
              " '\"This walk is not wide enough for our party. We had better go into the avenue.\"',\n",
              " 'But Elizabeth, who had not the least inclination to remain with them, laughingly answered:',\n",
              " '\"No, no; stay where you are. You are charmingly grouped, and appear to uncommon advantage. The picturesque would be spoilt by admitting a fourth. Good-bye.\"',\n",
              " 'She then ran gaily off, rejoicing as she rambled about, in the hope of being at home again in a day or two. Jane was already so much recovered as to intend leaving her room for a couple of hours that evening.',\n",
              " 'When the ladies removed after dinner, Elizabeth ran up to her sister, and seeing her well guarded from cold, attended her into the drawing-room, where she was welcomed by her two friends with many professions of pleasure; and Elizabeth had never seen them so agreeable as they were during the hour which passed before the gentlemen appeared. Their powers of conversation were considerable. They could describe an entertainment with accuracy, relate an anecdote with humour, and laugh at their acquaintance with spirit.',\n",
              " 'But when the gentlemen entered, Jane was no longer the first object; Miss Bingley\\'s eyes were instantly turned toward Darcy, and she had something to say to him before he had advanced many steps. He addressed himself to Miss Bennet, with a polite congratulation; Mr. Hurst also made her a slight bow, and said he was \"very glad;\" but diffuseness and warmth remained for Bingley\\'s salutation. He was full of joy and attention. The first half-hour was spent in piling up the fire, lest she should suffer from the change of room; and she removed at his desire to the other side of the fireplace, that she might be further from the door. He then sat down by her, and talked scarcely to anyone else. Elizabeth, at work in the opposite corner, saw it all with great delight.',\n",
              " \"When tea was over, Mr. Hurst reminded his sister-in-law of the card-table--but in vain. She had obtained private intelligence that Mr. Darcy did not wish for cards; and Mr. Hurst soon found even his open petition rejected. She assured him that no one intended to play, and the silence of the whole party on the subject seemed to justify her. Mr. Hurst had therefore nothing to do, but to stretch himself on one of the sofas and go to sleep. Darcy took up a book; Miss Bingley did the same; and Mrs. Hurst, principally occupied in playing with her bracelets and rings, joined now and then in her brother's conversation with Miss Bennet.\",\n",
              " 'Miss Bingley\\'s attention was quite as much engaged in watching Mr. Darcy\\'s progress through _his_ book, as in reading her own; and she was perpetually either making some inquiry, or looking at his page. She could not win him, however, to any conversation; he merely answered her question, and read on. At length, quite exhausted by the attempt to be amused with her own book, which she had only chosen because it was the second volume of his, she gave a great yawn and said, \"How pleasant it is to spend an evening in this way! I declare after all there is no enjoyment like reading! How much sooner one tires of anything than of a book! When I have a house of my own, I shall be miserable if I have not an excellent library.\"',\n",
              " 'No one made any reply. She then yawned again, threw aside her book, and cast her eyes round the room in quest for some amusement; when hearing her brother mentioning a ball to Miss Bennet, she turned suddenly towards him and said:',\n",
              " '\"By the bye, Charles, are you really serious in meditating a dance at Netherfield? I would advise you, before you determine on it, to consult the wishes of the present party; I am much mistaken if there are not some among us to whom a ball would be rather a punishment than a pleasure.\"',\n",
              " '\"If you mean Darcy,\" cried her brother, \"he may go to bed, if he chooses, before it begins--but as for the ball, it is quite a settled thing; and as soon as Nicholls has made white soup enough, I shall send round my cards.\"',\n",
              " '\"I should like balls infinitely better,\" she replied, \"if they were carried on in a different manner; but there is something insufferably tedious in the usual process of such a meeting. It would surely be much more rational if conversation instead of dancing were made the order of the day.\"',\n",
              " '\"Much more rational, my dear Caroline, I dare say, but it would not be near so much like a ball.\"',\n",
              " 'Miss Bingley made no answer, and soon afterwards she got up and walked about the room. Her figure was elegant, and she walked well; but Darcy, at whom it was all aimed, was still inflexibly studious. In the desperation of her feelings, she resolved on one effort more, and, turning to Elizabeth, said:',\n",
              " '\"Miss Eliza Bennet, let me persuade you to follow my example, and take a turn about the room. I assure you it is very refreshing after sitting so long in one attitude.\"',\n",
              " 'Elizabeth was surprised, but agreed to it immediately. Miss Bingley succeeded no less in the real object of her civility; Mr. Darcy looked up. He was as much awake to the novelty of attention in that quarter as Elizabeth herself could be, and unconsciously closed his book. He was directly invited to join their party, but he declined it, observing that he could imagine but two motives for their choosing to walk up and down the room together, with either of which motives his joining them would interfere. \"What could he mean? She was dying to know what could be his meaning?\"--and asked Elizabeth whether she could at all understand him?',\n",
              " '\"Not at all,\" was her answer; \"but depend upon it, he means to be severe on us, and our surest way of disappointing him will be to ask nothing about it.\"',\n",
              " 'Miss Bingley, however, was incapable of disappointing Mr. Darcy in anything, and persevered therefore in requiring an explanation of his two motives.',\n",
              " '\"I have not the smallest objection to explaining them,\" said he, as soon as she allowed him to speak. \"You either choose this method of passing the evening because you are in each other\\'s confidence, and have secret affairs to discuss, or because you are conscious that your figures appear to the greatest advantage in walking; if the first, I would be completely in your way, and if the second, I can admire you much better as I sit by the fire.\"',\n",
              " '\"Oh! shocking!\" cried Miss Bingley. \"I never heard anything so abominable. How shall we punish him for such a speech?\"',\n",
              " '\"Nothing so easy, if you have but the inclination,\" said Elizabeth. \"We can all plague and punish one another. Tease him--laugh at him. Intimate as you are, you must know how it is to be done.\"',\n",
              " '\"But upon my honour, I do _not_. I do assure you that my intimacy has not yet taught me _that_. Tease calmness of manner and presence of mind! No, no--feel he may defy us there. And as to laughter, we will not expose ourselves, if you please, by attempting to laugh without a subject. Mr. Darcy may hug himself.\"',\n",
              " '\"Mr. Darcy is not to be laughed at!\" cried Elizabeth. \"That is an uncommon advantage, and uncommon I hope it will continue, for it would be a great loss to _me_ to have many such acquaintances. I dearly love a laugh.\"',\n",
              " '\"Miss Bingley,\" said he, \"has given me more credit than can be. The wisest and the best of men--nay, the wisest and best of their actions--may be rendered ridiculous by a person whose first object in life is a joke.\"',\n",
              " '\"Certainly,\" replied Elizabeth--\"there are such people, but I hope I am not one of _them_. I hope I never ridicule what is wise and good. Follies and nonsense, whims and inconsistencies, _do_ divert me, I own, and I laugh at them whenever I can. But these, I suppose, are precisely what you are without.\"',\n",
              " '\"Perhaps that is not possible for anyone. But it has been the study of my life to avoid those weaknesses which often expose a strong understanding to ridicule.\"',\n",
              " '\"Such as vanity and pride.\"',\n",
              " '\"Yes, vanity is a weakness indeed. But pride--where there is a real superiority of mind, pride will be always under good regulation.\"',\n",
              " 'Elizabeth turned away to hide a smile.',\n",
              " '\"Your examination of Mr. Darcy is over, I presume,\" said Miss Bingley; \"and pray what is the result?\"',\n",
              " '\"I am perfectly convinced by it that Mr. Darcy has no defect. He owns it himself without disguise.\"',\n",
              " '\"No,\" said Darcy, \"I have made no such pretension. I have faults enough, but they are not, I hope, of understanding. My temper I dare not vouch for. It is, I believe, too little yielding--certainly too little for the convenience of the world. I cannot forget the follies and vices of others so soon as I ought, nor their offenses against myself. My feelings are not puffed about with every attempt to move them. My temper would perhaps be called resentful. My good opinion once lost, is lost forever.\"',\n",
              " '\"_That_ is a failing indeed!\" cried Elizabeth. \"Implacable resentment _is_ a shade in a character. But you have chosen your fault well. I really cannot _laugh_ at it. You are safe from me.\"',\n",
              " '\"There is, I believe, in every disposition a tendency to some particular evil--a natural defect, which not even the best education can overcome.\"',\n",
              " '\"And _your_ defect is to hate everybody.\"',\n",
              " '\"And yours,\" he replied with a smile, \"is willfully to misunderstand them.\"',\n",
              " '\"Do let us have a little music,\" cried Miss Bingley, tired of a conversation in which she had no share. \"Louisa, you will not mind my waking Mr. Hurst?\"',\n",
              " \"Her sister had not the smallest objection, and the pianoforte was opened; and Darcy, after a few moments' recollection, was not sorry for it. He began to feel the danger of paying Elizabeth too much attention.\",\n",
              " \"In consequence of an agreement between the sisters, Elizabeth wrote the next morning to their mother, to beg that the carriage might be sent for them in the course of the day. But Mrs. Bennet, who had calculated on her daughters remaining at Netherfield till the following Tuesday, which would exactly finish Jane's week, could not bring herself to receive them with pleasure before. Her answer, therefore, was not propitious, at least not to Elizabeth's wishes, for she was impatient to get home. Mrs. Bennet sent them word that they could not possibly have the carriage before Tuesday; and in her postscript it was added, that if Mr. Bingley and his sister pressed them to stay longer, she could spare them very well. Against staying longer, however, Elizabeth was positively resolved--nor did she much expect it would be asked; and fearful, on the contrary, as being considered as intruding themselves needlessly long, she urged Jane to borrow Mr. Bingley's carriage immediately, and at length it was settled that their original design of leaving Netherfield that morning should be mentioned, and the request made.\",\n",
              " 'The communication excited many professions of concern; and enough was said of wishing them to stay at least till the following day to work on Jane; and till the morrow their going was deferred. Miss Bingley was then sorry that she had proposed the delay, for her jealousy and dislike of one sister much exceeded her affection for the other.',\n",
              " 'The master of the house heard with real sorrow that they were to go so soon, and repeatedly tried to persuade Miss Bennet that it would not be safe for her--that she was not enough recovered; but Jane was firm where she felt herself to be right.',\n",
              " 'To Mr. Darcy it was welcome intelligence--Elizabeth had been at Netherfield long enough. She attracted him more than he liked--and Miss Bingley was uncivil to _her_, and more teasing than usual to himself. He wisely resolved to be particularly careful that no sign of admiration should _now_ escape him, nothing that could elevate her with the hope of influencing his felicity; sensible that if such an idea had been suggested, his behaviour during the last day must have material weight in confirming or crushing it. Steady to his purpose, he scarcely spoke ten words to her through the whole of Saturday, and though they were at one time left by themselves for half-an-hour, he adhered most conscientiously to his book, and would not even look at her.',\n",
              " \"On Sunday, after morning service, the separation, so agreeable to almost all, took place. Miss Bingley's civility to Elizabeth increased at last very rapidly, as well as her affection for Jane; and when they parted, after assuring the latter of the pleasure it would always give her to see her either at Longbourn or Netherfield, and embracing her most tenderly, she even shook hands with the former. Elizabeth took leave of the whole party in the liveliest of spirits.\",\n",
              " 'They were not welcomed home very cordially by their mother. Mrs. Bennet wondered at their coming, and thought them very wrong to give so much trouble, and was sure Jane would have caught cold again. But their father, though very laconic in his expressions of pleasure, was really glad to see them; he had felt their importance in the family circle. The evening conversation, when they were all assembled, had lost much of its animation, and almost all its sense by the absence of Jane and Elizabeth.',\n",
              " 'They found Mary, as usual, deep in the study of thorough-bass and human nature; and had some extracts to admire, and some new observations of threadbare morality to listen to. Catherine and Lydia had information for them of a different sort. Much had been done and much had been said in the regiment since the preceding Wednesday; several of the officers had dined lately with their uncle, a private had been flogged, and it had actually been hinted that Colonel Forster was going to be married.',\n",
              " '\"I hope, my dear,\" said Mr. Bennet to his wife, as they were at breakfast the next morning, \"that you have ordered a good dinner to-day, because I have reason to expect an addition to our family party.\"',\n",
              " '\"Who do you mean, my dear? I know of nobody that is coming, I am sure, unless Charlotte Lucas should happen to call in--and I hope _my_ dinners are good enough for her. I do not believe she often sees such at home.\"',\n",
              " '\"The person of whom I speak is a gentleman, and a stranger.\"',\n",
              " 'Mrs. Bennet\\'s eyes sparkled. \"A gentleman and a stranger! It is Mr. Bingley, I am sure! Well, I am sure I shall be extremely glad to see Mr. Bingley. But--good Lord! how unlucky! There is not a bit of fish to be got to-day. Lydia, my love, ring the bell--I must speak to Hill this moment.\"',\n",
              " '\"It is _not_ Mr. Bingley,\" said her husband; \"it is a person whom I never saw in the whole course of my life.\"',\n",
              " 'This roused a general astonishment; and he had the pleasure of being eagerly questioned by his wife and his five daughters at once.',\n",
              " 'After amusing himself some time with their curiosity, he thus explained:',\n",
              " '\"About a month ago I received this letter; and about a fortnight ago I answered it, for I thought it a case of some delicacy, and requiring early attention. It is from my cousin, Mr. Collins, who, when I am dead, may turn you all out of this house as soon as he pleases.\"',\n",
              " '\"Oh! my dear,\" cried his wife, \"I cannot bear to hear that mentioned. Pray do not talk of that odious man. I do think it is the hardest thing in the world, that your estate should be entailed away from your own children; and I am sure, if I had been you, I should have tried long ago to do something or other about it.\"',\n",
              " 'Jane and Elizabeth tried to explain to her the nature of an entail. They had often attempted to do it before, but it was a subject on which Mrs. Bennet was beyond the reach of reason, and she continued to rail bitterly against the cruelty of settling an estate away from a family of five daughters, in favour of a man whom nobody cared anything about.',\n",
              " '\"It certainly is a most iniquitous affair,\" said Mr. Bennet, \"and nothing can clear Mr. Collins from the guilt of inheriting Longbourn. But if you will listen to his letter, you may perhaps be a little softened by his manner of expressing himself.\"',\n",
              " '\"No, that I am sure I shall not; and I think it is very impertinent of him to write to you at all, and very hypocritical. I hate such false friends. Why could he not keep on quarreling with you, as his father did before him?\"',\n",
              " '\"Why, indeed; he does seem to have had some filial scruples on that head, as you will hear.\"',\n",
              " '\"Hunsford, near Westerham, Kent, 15th October.',\n",
              " '\"Dear Sir,--',\n",
              " '\"The disagreement subsisting between yourself and my late honoured father always gave me much uneasiness, and since I have had the misfortune to lose him, I have frequently wished to heal the breach; but for some time I was kept back by my own doubts, fearing lest it might seem disrespectful to his memory for me to be on good terms with anyone with whom it had always pleased him to be at variance.--\\'There, Mrs. Bennet.\\'--My mind, however, is now made up on the subject, for having received ordination at Easter, I have been so fortunate as to be distinguished by the patronage of the Right Honourable Lady Catherine de Bourgh, widow of Sir Lewis de Bourgh, whose bounty and beneficence has preferred me to the valuable rectory of this parish, where it shall be my earnest endeavour to demean myself with grateful respect towards her ladyship, and be ever ready to perform those rites and ceremonies which are instituted by the Church of England. As a clergyman, moreover, I feel it my duty to promote and establish the blessing of peace in all families within the reach of my influence; and on these grounds I flatter myself that my present overtures are highly commendable, and that the circumstance of my being next in the entail of Longbourn estate will be kindly overlooked on your side, and not lead you to reject the offered olive-branch. I cannot be otherwise than concerned at being the means of injuring your amiable daughters, and beg leave to apologise for it, as well as to assure you of my readiness to make them every possible amends--but of this hereafter. If you should have no objection to receive me into your house, I propose myself the satisfaction of waiting on you and your family, Monday, November 18th, by four o\\'clock, and shall probably trespass on your hospitality till the Saturday se\\'ennight following, which I can do without any inconvenience, as Lady Catherine is far from objecting to my occasional absence on a Sunday, provided that some other clergyman is engaged to do the duty of the day.--I remain, dear sir, with respectful compliments to your lady and daughters, your well-wisher and friend,',\n",
              " '\"WILLIAM COLLINS\"',\n",
              " '\"At four o\\'clock, therefore, we may expect this peace-making gentleman,\" said Mr. Bennet, as he folded up the letter. \"He seems to be a most conscientious and polite young man, upon my word, and I doubt not will prove a valuable acquaintance, especially if Lady Catherine should be so indulgent as to let him come to us again.\"',\n",
              " '\"There is some sense in what he says about the girls, however, and if he is disposed to make them any amends, I shall not be the person to discourage him.\"',\n",
              " '\"Though it is difficult,\" said Jane, \"to guess in what way he can mean to make us the atonement he thinks our due, the wish is certainly to his credit.\"',\n",
              " 'Elizabeth was chiefly struck by his extraordinary deference for Lady Catherine, and his kind intention of christening, marrying, and burying his parishioners whenever it were required.',\n",
              " '\"He must be an oddity, I think,\" said she. \"I cannot make him out.--There is something very pompous in his style.--And what can he mean by apologising for being next in the entail?--We cannot suppose he would help it if he could.--Could he be a sensible man, sir?\"',\n",
              " '\"No, my dear, I think not. I have great hopes of finding him quite the reverse. There is a mixture of servility and self-importance in his letter, which promises well. I am impatient to see him.\"',\n",
              " '\"In point of composition,\" said Mary, \"the letter does not seem defective. The idea of the olive-branch perhaps is not wholly new, yet I think it is well expressed.\"',\n",
              " \"To Catherine and Lydia, neither the letter nor its writer were in any degree interesting. It was next to impossible that their cousin should come in a scarlet coat, and it was now some weeks since they had received pleasure from the society of a man in any other colour. As for their mother, Mr. Collins's letter had done away much of her ill-will, and she was preparing to see him with a degree of composure which astonished her husband and daughters.\",\n",
              " 'Mr. Collins was punctual to his time, and was received with great politeness by the whole family. Mr. Bennet indeed said little; but the ladies were ready enough to talk, and Mr. Collins seemed neither in need of encouragement, nor inclined to be silent himself. He was a tall, heavy-looking young man of five-and-twenty. His air was grave and stately, and his manners were very formal. He had not been long seated before he complimented Mrs. Bennet on having so fine a family of daughters; said he had heard much of their beauty, but that in this instance fame had fallen short of the truth; and added, that he did not doubt her seeing them all in due time disposed of in marriage. This gallantry was not much to the taste of some of his hearers; but Mrs. Bennet, who quarreled with no compliments, answered most readily.',\n",
              " '\"You are very kind, I am sure; and I wish with all my heart it may prove so, for else they will be destitute enough. Things are settled so oddly.\"',\n",
              " '\"You allude, perhaps, to the entail of this estate.\"',\n",
              " '\"Ah! sir, I do indeed. It is a grievous affair to my poor girls, you must confess. Not that I mean to find fault with _you_, for such things I know are all chance in this world. There is no knowing how estates will go when once they come to be entailed.\"',\n",
              " '\"I am very sensible, madam, of the hardship to my fair cousins, and could say much on the subject, but that I am cautious of appearing forward and precipitate. But I can assure the young ladies that I come prepared to admire them. At present I will not say more; but, perhaps, when we are better acquainted--\"',\n",
              " \"He was interrupted by a summons to dinner; and the girls smiled on each other. They were not the only objects of Mr. Collins's admiration. The hall, the dining-room, and all its furniture, were examined and praised; and his commendation of everything would have touched Mrs. Bennet's heart, but for the mortifying supposition of his viewing it all as his own future property. The dinner too in its turn was highly admired; and he begged to know to which of his fair cousins the excellency of its cooking was owing. But he was set right there by Mrs. Bennet, who assured him with some asperity that they were very well able to keep a good cook, and that her daughters had nothing to do in the kitchen. He begged pardon for having displeased her. In a softened tone she declared herself not at all offended; but he continued to apologise for about a quarter of an hour.\",\n",
              " 'During dinner, Mr. Bennet scarcely spoke at all; but when the servants were withdrawn, he thought it time to have some conversation with his guest, and therefore started a subject in which he expected him to shine, by observing that he seemed very fortunate in his patroness. Lady Catherine de Bourgh\\'s attention to his wishes, and consideration for his comfort, appeared very remarkable. Mr. Bennet could not have chosen better. Mr. Collins was eloquent in her praise. The subject elevated him to more than usual solemnity of manner, and with a most important aspect he protested that \"he had never in his life witnessed such behaviour in a person of rank--such affability and condescension, as he had himself experienced from Lady Catherine. She had been graciously pleased to approve of both of the discourses which he had already had the honour of preaching before her. She had also asked him twice to dine at Rosings, and had sent for him only the Saturday before, to make up her pool of quadrille in the evening. Lady Catherine was reckoned proud by many people he knew, but _he_ had never seen anything but affability in her. She had always spoken to him as she would to any other gentleman; she made not the smallest objection to his joining in the society of the neighbourhood nor to his leaving the parish occasionally for a week or two, to visit his relations. She had even condescended to advise him to marry as soon as he could, provided he chose with discretion; and had once paid him a visit in his humble parsonage, where she had perfectly approved all the alterations he had been making, and had even vouchsafed to suggest some herself--some shelves in the closet upstairs.\"',\n",
              " '\"That is all very proper and civil, I am sure,\" said Mrs. Bennet, \"and I dare say she is a very agreeable woman. It is a pity that great ladies in general are not more like her. Does she live near you, sir?\"',\n",
              " '\"The garden in which stands my humble abode is separated only by a lane from Rosings Park, her ladyship\\'s residence.\"',\n",
              " '\"I think you said she was a widow, sir? Has she any family?\"',\n",
              " '\"She has only one daughter, the heiress of Rosings, and of very extensive property.\"',\n",
              " '\"Ah!\" said Mrs. Bennet, shaking her head, \"then she is better off than many girls. And what sort of young lady is she? Is she handsome?\"',\n",
              " '\"She is a most charming young lady indeed. Lady Catherine herself says that, in point of true beauty, Miss de Bourgh is far superior to the handsomest of her sex, because there is that in her features which marks the young lady of distinguished birth. She is unfortunately of a sickly constitution, which has prevented her from making that progress in many accomplishments which she could not have otherwise failed of, as I am informed by the lady who superintended her education, and who still resides with them. But she is perfectly amiable, and often condescends to drive by my humble abode in her little phaeton and ponies.\"',\n",
              " '\"Has she been presented? I do not remember her name among the ladies at court.\"',\n",
              " '\"Her indifferent state of health unhappily prevents her being in town; and by that means, as I told Lady Catherine one day, has deprived the British court of its brightest ornaments. Her ladyship seemed pleased with the idea; and you may imagine that I am happy on every occasion to offer those little delicate compliments which are always acceptable to ladies. I have more than once observed to Lady Catherine, that her charming daughter seemed born to be a duchess, and that the most elevated rank, instead of giving her consequence, would be adorned by her. These are the kind of little things which please her ladyship, and it is a sort of attention which I conceive myself peculiarly bound to pay.\"',\n",
              " '\"You judge very properly,\" said Mr. Bennet, \"and it is happy for you that you possess the talent of flattering with delicacy. May I ask whether these pleasing attentions proceed from the impulse of the moment, or are the result of previous study?\"',\n",
              " '\"They arise chiefly from what is passing at the time, and though I sometimes amuse myself with suggesting and arranging such little elegant compliments as may be adapted to ordinary occasions, I always wish to give them as unstudied an air as possible.\"',\n",
              " \"Mr. Bennet's expectations were fully answered. His cousin was as absurd as he had hoped, and he listened to him with the keenest enjoyment, maintaining at the same time the most resolute composure of countenance, and, except in an occasional glance at Elizabeth, requiring no partner in his pleasure.\",\n",
              " \"By tea-time, however, the dose had been enough, and Mr. Bennet was glad to take his guest into the drawing-room again, and, when tea was over, glad to invite him to read aloud to the ladies. Mr. Collins readily assented, and a book was produced; but, on beholding it (for everything announced it to be from a circulating library), he started back, and begging pardon, protested that he never read novels. Kitty stared at him, and Lydia exclaimed. Other books were produced, and after some deliberation he chose Fordyce's Sermons. Lydia gaped as he opened the volume, and before he had, with very monotonous solemnity, read three pages, she interrupted him with:\",\n",
              " '\"Do you know, mamma, that my uncle Phillips talks of turning away Richard; and if he does, Colonel Forster will hire him. My aunt told me so herself on Saturday. I shall walk to Meryton to-morrow to hear more about it, and to ask when Mr. Denny comes back from town.\"',\n",
              " 'Lydia was bid by her two eldest sisters to hold her tongue; but Mr. Collins, much offended, laid aside his book, and said:',\n",
              " '\"I have often observed how little young ladies are interested by books of a serious stamp, though written solely for their benefit. It amazes me, I confess; for, certainly, there can be nothing so advantageous to them as instruction. But I will no longer importune my young cousin.\"',\n",
              " \"Then turning to Mr. Bennet, he offered himself as his antagonist at backgammon. Mr. Bennet accepted the challenge, observing that he acted very wisely in leaving the girls to their own trifling amusements. Mrs. Bennet and her daughters apologised most civilly for Lydia's interruption, and promised that it should not occur again, if he would resume his book; but Mr. Collins, after assuring them that he bore his young cousin no ill-will, and should never resent her behaviour as any affront, seated himself at another table with Mr. Bennet, and prepared for backgammon.\",\n",
              " 'Mr. Collins was not a sensible man, and the deficiency of nature had been but little assisted by education or society; the greatest part of his life having been spent under the guidance of an illiterate and miserly father; and though he belonged to one of the universities, he had merely kept the necessary terms, without forming at it any useful acquaintance. The subjection in which his father had brought him up had given him originally great humility of manner; but it was now a good deal counteracted by the self-conceit of a weak head, living in retirement, and the consequential feelings of early and unexpected prosperity. A fortunate chance had recommended him to Lady Catherine de Bourgh when the living of Hunsford was vacant; and the respect which he felt for her high rank, and his veneration for her as his patroness, mingling with a very good opinion of himself, of his authority as a clergyman, and his right as a rector, made him altogether a mixture of pride and obsequiousness, self-importance and humility.',\n",
              " \"Having now a good house and a very sufficient income, he intended to marry; and in seeking a reconciliation with the Longbourn family he had a wife in view, as he meant to choose one of the daughters, if he found them as handsome and amiable as they were represented by common report. This was his plan of amends--of atonement--for inheriting their father's estate; and he thought it an excellent one, full of eligibility and suitableness, and excessively generous and disinterested on his own part.\",\n",
              " 'His plan did not vary on seeing them. Miss Bennet\\'s lovely face confirmed his views, and established all his strictest notions of what was due to seniority; and for the first evening _she_ was his settled choice. The next morning, however, made an alteration; for in a quarter of an hour\\'s tete-a-tete with Mrs. Bennet before breakfast, a conversation beginning with his parsonage-house, and leading naturally to the avowal of his hopes, that a mistress might be found for it at Longbourn, produced from her, amid very complaisant smiles and general encouragement, a caution against the very Jane he had fixed on. \"As to her _younger_ daughters, she could not take upon her to say--she could not positively answer--but she did not _know_ of any prepossession; her _eldest_ daughter, she must just mention--she felt it incumbent on her to hint, was likely to be very soon engaged.\"',\n",
              " 'Mr. Collins had only to change from Jane to Elizabeth--and it was soon done--done while Mrs. Bennet was stirring the fire. Elizabeth, equally next to Jane in birth and beauty, succeeded her of course.',\n",
              " 'Mrs. Bennet treasured up the hint, and trusted that she might soon have two daughters married; and the man whom she could not bear to speak of the day before was now high in her good graces.',\n",
              " \"Lydia's intention of walking to Meryton was not forgotten; every sister except Mary agreed to go with her; and Mr. Collins was to attend them, at the request of Mr. Bennet, who was most anxious to get rid of him, and have his library to himself; for thither Mr. Collins had followed him after breakfast; and there he would continue, nominally engaged with one of the largest folios in the collection, but really talking to Mr. Bennet, with little cessation, of his house and garden at Hunsford. Such doings discomposed Mr. Bennet exceedingly. In his library he had been always sure of leisure and tranquillity; and though prepared, as he told Elizabeth, to meet with folly and conceit in every other room of the house, he was used to be free from them there; his civility, therefore, was most prompt in inviting Mr. Collins to join his daughters in their walk; and Mr. Collins, being in fact much better fitted for a walker than a reader, was extremely pleased to close his large book, and go.\",\n",
              " 'In pompous nothings on his side, and civil assents on that of his cousins, their time passed till they entered Meryton. The attention of the younger ones was then no longer to be gained by him. Their eyes were immediately wandering up in the street in quest of the officers, and nothing less than a very smart bonnet indeed, or a really new muslin in a shop window, could recall them.',\n",
              " \"But the attention of every lady was soon caught by a young man, whom they had never seen before, of most gentlemanlike appearance, walking with another officer on the other side of the way. The officer was the very Mr. Denny concerning whose return from London Lydia came to inquire, and he bowed as they passed. All were struck with the stranger's air, all wondered who he could be; and Kitty and Lydia, determined if possible to find out, led the way across the street, under pretense of wanting something in an opposite shop, and fortunately had just gained the pavement when the two gentlemen, turning back, had reached the same spot. Mr. Denny addressed them directly, and entreated permission to introduce his friend, Mr. Wickham, who had returned with him the day before from town, and he was happy to say had accepted a commission in their corps. This was exactly as it should be; for the young man wanted only regimentals to make him completely charming. His appearance was greatly in his favour; he had all the best part of beauty, a fine countenance, a good figure, and very pleasing address. The introduction was followed up on his side by a happy readiness of conversation--a readiness at the same time perfectly correct and unassuming; and the whole party were still standing and talking together very agreeably, when the sound of horses drew their notice, and Darcy and Bingley were seen riding down the street. On distinguishing the ladies of the group, the two gentlemen came directly towards them, and began the usual civilities. Bingley was the principal spokesman, and Miss Bennet the principal object. He was then, he said, on his way to Longbourn on purpose to inquire after her. Mr. Darcy corroborated it with a bow, and was beginning to determine not to fix his eyes on Elizabeth, when they were suddenly arrested by the sight of the stranger, and Elizabeth happening to see the countenance of both as they looked at each other, was all astonishment at the effect of the meeting. Both changed colour, one looked white, the other red. Mr. Wickham, after a few moments, touched his hat--a salutation which Mr. Darcy just deigned to return. What could be the meaning of it? It was impossible to imagine; it was impossible not to long to know.\",\n",
              " 'In another minute, Mr. Bingley, but without seeming to have noticed what passed, took leave and rode on with his friend.',\n",
              " \"Mr. Denny and Mr. Wickham walked with the young ladies to the door of Mr. Phillip's house, and then made their bows, in spite of Miss Lydia's pressing entreaties that they should come in, and even in spite of Mrs. Phillips's throwing up the parlour window and loudly seconding the invitation.\",\n",
              " 'Mrs. Phillips was always glad to see her nieces; and the two eldest, from their recent absence, were particularly welcome, and she was eagerly expressing her surprise at their sudden return home, which, as their own carriage had not fetched them, she should have known nothing about, if she had not happened to see Mr. Jones\\'s shop-boy in the street, who had told her that they were not to send any more draughts to Netherfield because the Miss Bennets were come away, when her civility was claimed towards Mr. Collins by Jane\\'s introduction of him. She received him with her very best politeness, which he returned with as much more, apologising for his intrusion, without any previous acquaintance with her, which he could not help flattering himself, however, might be justified by his relationship to the young ladies who introduced him to her notice. Mrs. Phillips was quite awed by such an excess of good breeding; but her contemplation of one stranger was soon put to an end by exclamations and inquiries about the other; of whom, however, she could only tell her nieces what they already knew, that Mr. Denny had brought him from London, and that he was to have a lieutenant\\'s commission in the ----shire. She had been watching him the last hour, she said, as he walked up and down the street, and had Mr. Wickham appeared, Kitty and Lydia would certainly have continued the occupation, but unluckily no one passed windows now except a few of the officers, who, in comparison with the stranger, were become \"stupid, disagreeable fellows.\" Some of them were to dine with the Phillipses the next day, and their aunt promised to make her husband call on Mr. Wickham, and give him an invitation also, if the family from Longbourn would come in the evening. This was agreed to, and Mrs. Phillips protested that they would have a nice comfortable noisy game of lottery tickets, and a little bit of hot supper afterwards. The prospect of such delights was very cheering, and they parted in mutual good spirits. Mr. Collins repeated his apologies in quitting the room, and was assured with unwearying civility that they were perfectly needless.',\n",
              " 'As they walked home, Elizabeth related to Jane what she had seen pass between the two gentlemen; but though Jane would have defended either or both, had they appeared to be in the wrong, she could no more explain such behaviour than her sister.',\n",
              " \"Mr. Collins on his return highly gratified Mrs. Bennet by admiring Mrs. Phillips's manners and politeness. He protested that, except Lady Catherine and her daughter, he had never seen a more elegant woman; for she had not only received him with the utmost civility, but even pointedly included him in her invitation for the next evening, although utterly unknown to her before. Something, he supposed, might be attributed to his connection with them, but yet he had never met with so much attention in the whole course of his life.\",\n",
              " \"As no objection was made to the young people's engagement with their aunt, and all Mr. Collins's scruples of leaving Mr. and Mrs. Bennet for a single evening during his visit were most steadily resisted, the coach conveyed him and his five cousins at a suitable hour to Meryton; and the girls had the pleasure of hearing, as they entered the drawing-room, that Mr. Wickham had accepted their uncle's invitation, and was then in the house.\",\n",
              " \"When this information was given, and they had all taken their seats, Mr. Collins was at leisure to look around him and admire, and he was so much struck with the size and furniture of the apartment, that he declared he might almost have supposed himself in the small summer breakfast parlour at Rosings; a comparison that did not at first convey much gratification; but when Mrs. Phillips understood from him what Rosings was, and who was its proprietor--when she had listened to the description of only one of Lady Catherine's drawing-rooms, and found that the chimney-piece alone had cost eight hundred pounds, she felt all the force of the compliment, and would hardly have resented a comparison with the housekeeper's room.\",\n",
              " 'In describing to her all the grandeur of Lady Catherine and her mansion, with occasional digressions in praise of his own humble abode, and the improvements it was receiving, he was happily employed until the gentlemen joined them; and he found in Mrs. Phillips a very attentive listener, whose opinion of his consequence increased with what she heard, and who was resolving to retail it all among her neighbours as soon as she could. To the girls, who could not listen to their cousin, and who had nothing to do but to wish for an instrument, and examine their own indifferent imitations of china on the mantelpiece, the interval of waiting appeared very long. It was over at last, however. The gentlemen did approach, and when Mr. Wickham walked into the room, Elizabeth felt that she had neither been seeing him before, nor thinking of him since, with the smallest degree of unreasonable admiration. The officers of the ----shire were in general a very creditable, gentlemanlike set, and the best of them were of the present party; but Mr. Wickham was as far beyond them all in person, countenance, air, and walk, as _they_ were superior to the broad-faced, stuffy uncle Phillips, breathing port wine, who followed them into the room.',\n",
              " 'Mr. Wickham was the happy man towards whom almost every female eye was turned, and Elizabeth was the happy woman by whom he finally seated himself; and the agreeable manner in which he immediately fell into conversation, though it was only on its being a wet night, made her feel that the commonest, dullest, most threadbare topic might be rendered interesting by the skill of the speaker.',\n",
              " 'With such rivals for the notice of the fair as Mr. Wickham and the officers, Mr. Collins seemed to sink into insignificance; to the young ladies he certainly was nothing; but he had still at intervals a kind listener in Mrs. Phillips, and was by her watchfulness, most abundantly supplied with coffee and muffin. When the card-tables were placed, he had the opportunity of obliging her in turn, by sitting down to whist.',\n",
              " '\"I know little of the game at present,\" said he, \"but I shall be glad to improve myself, for in my situation in life--\" Mrs. Phillips was very glad for his compliance, but could not wait for his reason.',\n",
              " \"Mr. Wickham did not play at whist, and with ready delight was he received at the other table between Elizabeth and Lydia. At first there seemed danger of Lydia's engrossing him entirely, for she was a most determined talker; but being likewise extremely fond of lottery tickets, she soon grew too much interested in the game, too eager in making bets and exclaiming after prizes to have attention for anyone in particular. Allowing for the common demands of the game, Mr. Wickham was therefore at leisure to talk to Elizabeth, and she was very willing to hear him, though what she chiefly wished to hear she could not hope to be told--the history of his acquaintance with Mr. Darcy. She dared not even mention that gentleman. Her curiosity, however, was unexpectedly relieved. Mr. Wickham began the subject himself. He inquired how far Netherfield was from Meryton; and, after receiving her answer, asked in a hesitating manner how long Mr. Darcy had been staying there.\",\n",
              " '\"About a month,\" said Elizabeth; and then, unwilling to let the subject drop, added, \"He is a man of very large property in Derbyshire, I understand.\"',\n",
              " '\"Yes,\" replied Mr. Wickham; \"his estate there is a noble one. A clear ten thousand per annum. You could not have met with a person more capable of giving you certain information on that head than myself, for I have been connected with his family in a particular manner from my infancy.\"',\n",
              " 'Elizabeth could not but look surprised.',\n",
              " '\"You may well be surprised, Miss Bennet, at such an assertion, after seeing, as you probably might, the very cold manner of our meeting yesterday. Are you much acquainted with Mr. Darcy?\"',\n",
              " '\"As much as I ever wish to be,\" cried Elizabeth very warmly. \"I have spent four days in the same house with him, and I think him very disagreeable.\"',\n",
              " '\"I have no right to give _my_ opinion,\" said Wickham, \"as to his being agreeable or otherwise. I am not qualified to form one. I have known him too long and too well to be a fair judge. It is impossible for _me_ to be impartial. But I believe your opinion of him would in general astonish--and perhaps you would not express it quite so strongly anywhere else. Here you are in your own family.\"',\n",
              " '\"Upon my word, I say no more _here_ than I might say in any house in the neighbourhood, except Netherfield. He is not at all liked in Hertfordshire. Everybody is disgusted with his pride. You will not find him more favourably spoken of by anyone.\"',\n",
              " '\"I cannot pretend to be sorry,\" said Wickham, after a short interruption, \"that he or that any man should not be estimated beyond their deserts; but with _him_ I believe it does not often happen. The world is blinded by his fortune and consequence, or frightened by his high and imposing manners, and sees him only as he chooses to be seen.\"',\n",
              " '\"I should take him, even on _my_ slight acquaintance, to be an ill-tempered man.\" Wickham only shook his head.',\n",
              " '\"I wonder,\" said he, at the next opportunity of speaking, \"whether he is likely to be in this country much longer.\"',\n",
              " '\"I do not at all know; but I _heard_ nothing of his going away when I was at Netherfield. I hope your plans in favour of the ----shire will not be affected by his being in the neighbourhood.\"',\n",
              " '\"Oh! no--it is not for _me_ to be driven away by Mr. Darcy. If _he_ wishes to avoid seeing _me_, he must go. We are not on friendly terms, and it always gives me pain to meet him, but I have no reason for avoiding _him_ but what I might proclaim before all the world, a sense of very great ill-usage, and most painful regrets at his being what he is. His father, Miss Bennet, the late Mr. Darcy, was one of the best men that ever breathed, and the truest friend I ever had; and I can never be in company with this Mr. Darcy without being grieved to the soul by a thousand tender recollections. His behaviour to myself has been scandalous; but I verily believe I could forgive him anything and everything, rather than his disappointing the hopes and disgracing the memory of his father.\"',\n",
              " 'Elizabeth found the interest of the subject increase, and listened with all her heart; but the delicacy of it prevented further inquiry.',\n",
              " 'Mr. Wickham began to speak on more general topics, Meryton, the neighbourhood, the society, appearing highly pleased with all that he had yet seen, and speaking of the latter with gentle but very intelligible gallantry.',\n",
              " '\"It was the prospect of constant society, and good society,\" he added, \"which was my chief inducement to enter the ----shire. I knew it to be a most respectable, agreeable corps, and my friend Denny tempted me further by his account of their present quarters, and the very great attentions and excellent acquaintances Meryton had procured them. Society, I own, is necessary to me. I have been a disappointed man, and my spirits will not bear solitude. I _must_ have employment and society. A military life is not what I was intended for, but circumstances have now made it eligible. The church _ought_ to have been my profession--I was brought up for the church, and I should at this time have been in possession of a most valuable living, had it pleased the gentleman we were speaking of just now.\"',\n",
              " '\"Indeed!\"',\n",
              " '\"Yes--the late Mr. Darcy bequeathed me the next presentation of the best living in his gift. He was my godfather, and excessively attached to me. I cannot do justice to his kindness. He meant to provide for me amply, and thought he had done it; but when the living fell, it was given elsewhere.\"',\n",
              " '\"Good heavens!\" cried Elizabeth; \"but how could _that_ be? How could his will be disregarded? Why did you not seek legal redress?\"',\n",
              " '\"There was just such an informality in the terms of the bequest as to give me no hope from law. A man of honour could not have doubted the intention, but Mr. Darcy chose to doubt it--or to treat it as a merely conditional recommendation, and to assert that I had forfeited all claim to it by extravagance, imprudence--in short anything or nothing. Certain it is, that the living became vacant two years ago, exactly as I was of an age to hold it, and that it was given to another man; and no less certain is it, that I cannot accuse myself of having really done anything to deserve to lose it. I have a warm, unguarded temper, and I may have spoken my opinion _of_ him, and _to_ him, too freely. I can recall nothing worse. But the fact is, that we are very different sort of men, and that he hates me.\"',\n",
              " '\"This is quite shocking! He deserves to be publicly disgraced.\"',\n",
              " '\"Some time or other he _will_ be--but it shall not be by _me_. Till I can forget his father, I can never defy or expose _him_.\"',\n",
              " 'Elizabeth honoured him for such feelings, and thought him handsomer than ever as he expressed them.',\n",
              " '\"But what,\" said she, after a pause, \"can have been his motive? What can have induced him to behave so cruelly?\"',\n",
              " '\"A thorough, determined dislike of me--a dislike which I cannot but attribute in some measure to jealousy. Had the late Mr. Darcy liked me less, his son might have borne with me better; but his father\\'s uncommon attachment to me irritated him, I believe, very early in life. He had not a temper to bear the sort of competition in which we stood--the sort of preference which was often given me.\"',\n",
              " '\"I had not thought Mr. Darcy so bad as this--though I have never liked him. I had not thought so very ill of him. I had supposed him to be despising his fellow-creatures in general, but did not suspect him of descending to such malicious revenge, such injustice, such inhumanity as this.\"',\n",
              " 'After a few minutes\\' reflection, however, she continued, \"I _do_ remember his boasting one day, at Netherfield, of the implacability of his resentments, of his having an unforgiving temper. His disposition must be dreadful.\"',\n",
              " '\"I will not trust myself on the subject,\" replied Wickham; \"I can hardly be just to him.\"',\n",
              " 'Elizabeth was again deep in thought, and after a time exclaimed, \"To treat in such a manner the godson, the friend, the favourite of his father!\" She could have added, \"A young man, too, like _you_, whose very countenance may vouch for your being amiable\"--but she contented herself with, \"and one, too, who had probably been his companion from childhood, connected together, as I think you said, in the closest manner!\"',\n",
              " '\"We were born in the same parish, within the same park; the greatest part of our youth was passed together; inmates of the same house, sharing the same amusements, objects of the same parental care. _My_ father began life in the profession which your uncle, Mr. Phillips, appears to do so much credit to--but he gave up everything to be of use to the late Mr. Darcy and devoted all his time to the care of the Pemberley property. He was most highly esteemed by Mr. Darcy, a most intimate, confidential friend. Mr. Darcy often acknowledged himself to be under the greatest obligations to my father\\'s active superintendence, and when, immediately before my father\\'s death, Mr. Darcy gave him a voluntary promise of providing for me, I am convinced that he felt it to be as much a debt of gratitude to _him_, as of his affection to myself.\"',\n",
              " '\"How strange!\" cried Elizabeth. \"How abominable! I wonder that the very pride of this Mr. Darcy has not made him just to you! If from no better motive, that he should not have been too proud to be dishonest--for dishonesty I must call it.\"',\n",
              " '\"It _is_ wonderful,\" replied Wickham, \"for almost all his actions may be traced to pride; and pride had often been his best friend. It has connected him nearer with virtue than with any other feeling. But we are none of us consistent, and in his behaviour to me there were stronger impulses even than pride.\"',\n",
              " '\"Can such abominable pride as his have ever done him good?\"',\n",
              " '\"Yes. It has often led him to be liberal and generous, to give his money freely, to display hospitality, to assist his tenants, and relieve the poor. Family pride, and _filial_ pride--for he is very proud of what his father was--have done this. Not to appear to disgrace his family, to degenerate from the popular qualities, or lose the influence of the Pemberley House, is a powerful motive. He has also _brotherly_ pride, which, with _some_ brotherly affection, makes him a very kind and careful guardian of his sister, and you will hear him generally cried up as the most attentive and best of brothers.\"',\n",
              " '\"What sort of girl is Miss Darcy?\"',\n",
              " 'He shook his head. \"I wish I could call her amiable. It gives me pain to speak ill of a Darcy. But she is too much like her brother--very, very proud. As a child, she was affectionate and pleasing, and extremely fond of me; and I have devoted hours and hours to her amusement. But she is nothing to me now. She is a handsome girl, about fifteen or sixteen, and, I understand, highly accomplished. Since her father\\'s death, her home has been London, where a lady lives with her, and superintends her education.\"',\n",
              " 'After many pauses and many trials of other subjects, Elizabeth could not help reverting once more to the first, and saying:',\n",
              " '\"I am astonished at his intimacy with Mr. Bingley! How can Mr. Bingley, who seems good humour itself, and is, I really believe, truly amiable, be in friendship with such a man? How can they suit each other? Do you know Mr. Bingley?\"',\n",
              " '\"Not at all.\"',\n",
              " '\"He is a sweet-tempered, amiable, charming man. He cannot know what Mr. Darcy is.\"',\n",
              " '\"Probably not; but Mr. Darcy can please where he chooses. He does not want abilities. He can be a conversible companion if he thinks it worth his while. Among those who are at all his equals in consequence, he is a very different man from what he is to the less prosperous. His pride never deserts him; but with the rich he is liberal-minded, just, sincere, rational, honourable, and perhaps agreeable--allowing something for fortune and figure.\"',\n",
              " 'The whist party soon afterwards breaking up, the players gathered round the other table and Mr. Collins took his station between his cousin Elizabeth and Mrs. Phillips. The usual inquiries as to his success was made by the latter. It had not been very great; he had lost every point; but when Mrs. Phillips began to express her concern thereupon, he assured her with much earnest gravity that it was not of the least importance, that he considered the money as a mere trifle, and begged that she would not make herself uneasy.',\n",
              " '\"I know very well, madam,\" said he, \"that when persons sit down to a card-table, they must take their chances of these things, and happily I am not in such circumstances as to make five shillings any object. There are undoubtedly many who could not say the same, but thanks to Lady Catherine de Bourgh, I am removed far beyond the necessity of regarding little matters.\"',\n",
              " \"Mr. Wickham's attention was caught; and after observing Mr. Collins for a few moments, he asked Elizabeth in a low voice whether her relation was very intimately acquainted with the family of de Bourgh.\",\n",
              " '\"Lady Catherine de Bourgh,\" she replied, \"has very lately given him a living. I hardly know how Mr. Collins was first introduced to her notice, but he certainly has not known her long.\"',\n",
              " '\"You know of course that Lady Catherine de Bourgh and Lady Anne Darcy were sisters; consequently that she is aunt to the present Mr. Darcy.\"',\n",
              " '\"No, indeed, I did not. I knew nothing at all of Lady Catherine\\'s connections. I never heard of her existence till the day before yesterday.\"',\n",
              " '\"Her daughter, Miss de Bourgh, will have a very large fortune, and it is believed that she and her cousin will unite the two estates.\"',\n",
              " 'This information made Elizabeth smile, as she thought of poor Miss Bingley. Vain indeed must be all her attentions, vain and useless her affection for his sister and her praise of himself, if he were already self-destined for another.',\n",
              " '\"Mr. Collins,\" said she, \"speaks highly both of Lady Catherine and her daughter; but from some particulars that he has related of her ladyship, I suspect his gratitude misleads him, and that in spite of her being his patroness, she is an arrogant, conceited woman.\"',\n",
              " '\"I believe her to be both in a great degree,\" replied Wickham; \"I have not seen her for many years, but I very well remember that I never liked her, and that her manners were dictatorial and insolent. She has the reputation of being remarkably sensible and clever; but I rather believe she derives part of her abilities from her rank and fortune, part from her authoritative manner, and the rest from the pride for her nephew, who chooses that everyone connected with him should have an understanding of the first class.\"',\n",
              " \"Elizabeth allowed that he had given a very rational account of it, and they continued talking together, with mutual satisfaction till supper put an end to cards, and gave the rest of the ladies their share of Mr. Wickham's attentions. There could be no conversation in the noise of Mrs. Phillips's supper party, but his manners recommended him to everybody. Whatever he said, was said well; and whatever he did, done gracefully. Elizabeth went away with her head full of him. She could think of nothing but of Mr. Wickham, and of what he had told her, all the way home; but there was not time for her even to mention his name as they went, for neither Lydia nor Mr. Collins were once silent. Lydia talked incessantly of lottery tickets, of the fish she had lost and the fish she had won; and Mr. Collins in describing the civility of Mr. and Mrs. Phillips, protesting that he did not in the least regard his losses at whist, enumerating all the dishes at supper, and repeatedly fearing that he crowded his cousins, had more to say than he could well manage before the carriage stopped at Longbourn House.\",\n",
              " \"Elizabeth related to Jane the next day what had passed between Mr. Wickham and herself. Jane listened with astonishment and concern; she knew not how to believe that Mr. Darcy could be so unworthy of Mr. Bingley's regard; and yet, it was not in her nature to question the veracity of a young man of such amiable appearance as Wickham. The possibility of his having endured such unkindness, was enough to interest all her tender feelings; and nothing remained therefore to be done, but to think well of them both, to defend the conduct of each, and throw into the account of accident or mistake whatever could not be otherwise explained.\",\n",
              " '\"They have both,\" said she, \"been deceived, I dare say, in some way or other, of which we can form no idea. Interested people have perhaps misrepresented each to the other. It is, in short, impossible for us to conjecture the causes or circumstances which may have alienated them, without actual blame on either side.\"',\n",
              " '\"Very true, indeed; and now, my dear Jane, what have you got to say on behalf of the interested people who have probably been concerned in the business? Do clear _them_ too, or we shall be obliged to think ill of somebody.\"',\n",
              " '\"Laugh as much as you choose, but you will not laugh me out of my opinion. My dearest Lizzy, do but consider in what a disgraceful light it places Mr. Darcy, to be treating his father\\'s favourite in such a manner, one whom his father had promised to provide for. It is impossible. No man of common humanity, no man who had any value for his character, could be capable of it. Can his most intimate friends be so excessively deceived in him? Oh! no.\"',\n",
              " '\"I can much more easily believe Mr. Bingley\\'s being imposed on, than that Mr. Wickham should invent such a history of himself as he gave me last night; names, facts, everything mentioned without ceremony. If it be not so, let Mr. Darcy contradict it. Besides, there was truth in his looks.\"',\n",
              " '\"It is difficult indeed--it is distressing. One does not know what to think.\"',\n",
              " '\"I beg your pardon; one knows exactly what to think.\"',\n",
              " 'But Jane could think with certainty on only one point--that Mr. Bingley, if he _had_ been imposed on, would have much to suffer when the affair became public.',\n",
              " \"The two young ladies were summoned from the shrubbery, where this conversation passed, by the arrival of the very persons of whom they had been speaking; Mr. Bingley and his sisters came to give their personal invitation for the long-expected ball at Netherfield, which was fixed for the following Tuesday. The two ladies were delighted to see their dear friend again, called it an age since they had met, and repeatedly asked what she had been doing with herself since their separation. To the rest of the family they paid little attention; avoiding Mrs. Bennet as much as possible, saying not much to Elizabeth, and nothing at all to the others. They were soon gone again, rising from their seats with an activity which took their brother by surprise, and hurrying off as if eager to escape from Mrs. Bennet's civilities.\",\n",
              " \"The prospect of the Netherfield ball was extremely agreeable to every female of the family. Mrs. Bennet chose to consider it as given in compliment to her eldest daughter, and was particularly flattered by receiving the invitation from Mr. Bingley himself, instead of a ceremonious card. Jane pictured to herself a happy evening in the society of her two friends, and the attentions of her brother; and Elizabeth thought with pleasure of dancing a great deal with Mr. Wickham, and of seeing a confirmation of everything in Mr. Darcy's look and behavior. The happiness anticipated by Catherine and Lydia depended less on any single event, or any particular person, for though they each, like Elizabeth, meant to dance half the evening with Mr. Wickham, he was by no means the only partner who could satisfy them, and a ball was, at any rate, a ball. And even Mary could assure her family that she had no disinclination for it.\",\n",
              " '\"While I can have my mornings to myself,\" said she, \"it is enough--I think it is no sacrifice to join occasionally in evening engagements. Society has claims on us all; and I profess myself one of those who consider intervals of recreation and amusement as desirable for everybody.\"',\n",
              " \"Elizabeth's spirits were so high on this occasion, that though she did not often speak unnecessarily to Mr. Collins, she could not help asking him whether he intended to accept Mr. Bingley's invitation, and if he did, whether he would think it proper to join in the evening's amusement; and she was rather surprised to find that he entertained no scruple whatever on that head, and was very far from dreading a rebuke either from the Archbishop, or Lady Catherine de Bourgh, by venturing to dance.\",\n",
              " '\"I am by no means of the opinion, I assure you,\" said he, \"that a ball of this kind, given by a young man of character, to respectable people, can have any evil tendency; and I am so far from objecting to dancing myself, that I shall hope to be honoured with the hands of all my fair cousins in the course of the evening; and I take this opportunity of soliciting yours, Miss Elizabeth, for the two first dances especially, a preference which I trust my cousin Jane will attribute to the right cause, and not to any disrespect for her.\"',\n",
              " \"Elizabeth felt herself completely taken in. She had fully proposed being engaged by Mr. Wickham for those very dances; and to have Mr. Collins instead! her liveliness had never been worse timed. There was no help for it, however. Mr. Wickham's happiness and her own were perforce delayed a little longer, and Mr. Collins's proposal accepted with as good a grace as she could. She was not the better pleased with his gallantry from the idea it suggested of something more. It now first struck her, that _she_ was selected from among her sisters as worthy of being mistress of Hunsford Parsonage, and of assisting to form a quadrille table at Rosings, in the absence of more eligible visitors. The idea soon reached to conviction, as she observed his increasing civilities toward herself, and heard his frequent attempt at a compliment on her wit and vivacity; and though more astonished than gratified herself by this effect of her charms, it was not long before her mother gave her to understand that the probability of their marriage was extremely agreeable to _her_. Elizabeth, however, did not choose to take the hint, being well aware that a serious dispute must be the consequence of any reply. Mr. Collins might never make the offer, and till he did, it was useless to quarrel about him.\",\n",
              " 'If there had not been a Netherfield ball to prepare for and talk of, the younger Miss Bennets would have been in a very pitiable state at this time, for from the day of the invitation, to the day of the ball, there was such a succession of rain as prevented their walking to Meryton once. No aunt, no officers, no news could be sought after--the very shoe-roses for Netherfield were got by proxy. Even Elizabeth might have found some trial of her patience in weather which totally suspended the improvement of her acquaintance with Mr. Wickham; and nothing less than a dance on Tuesday, could have made such a Friday, Saturday, Sunday, and Monday endurable to Kitty and Lydia.',\n",
              " 'Till Elizabeth entered the drawing-room at Netherfield, and looked in vain for Mr. Wickham among the cluster of red coats there assembled, a doubt of his being present had never occurred to her. The certainty of meeting him had not been checked by any of those recollections that might not unreasonably have alarmed her. She had dressed with more than usual care, and prepared in the highest spirits for the conquest of all that remained unsubdued of his heart, trusting that it was not more than might be won in the course of the evening. But in an instant arose the dreadful suspicion of his being purposely omitted for Mr. Darcy\\'s pleasure in the Bingleys\\' invitation to the officers; and though this was not exactly the case, the absolute fact of his absence was pronounced by his friend Denny, to whom Lydia eagerly applied, and who told them that Wickham had been obliged to go to town on business the day before, and was not yet returned; adding, with a significant smile, \"I do not imagine his business would have called him away just now, if he had not wanted to avoid a certain gentleman here.\"',\n",
              " \"This part of his intelligence, though unheard by Lydia, was caught by Elizabeth, and, as it assured her that Darcy was not less answerable for Wickham's absence than if her first surmise had been just, every feeling of displeasure against the former was so sharpened by immediate disappointment, that she could hardly reply with tolerable civility to the polite inquiries which he directly afterwards approached to make. Attendance, forbearance, patience with Darcy, was injury to Wickham. She was resolved against any sort of conversation with him, and turned away with a degree of ill-humour which she could not wholly surmount even in speaking to Mr. Bingley, whose blind partiality provoked her.\",\n",
              " 'But Elizabeth was not formed for ill-humour; and though every prospect of her own was destroyed for the evening, it could not dwell long on her spirits; and having told all her griefs to Charlotte Lucas, whom she had not seen for a week, she was soon able to make a voluntary transition to the oddities of her cousin, and to point him out to her particular notice. The first two dances, however, brought a return of distress; they were dances of mortification. Mr. Collins, awkward and solemn, apologising instead of attending, and often moving wrong without being aware of it, gave her all the shame and misery which a disagreeable partner for a couple of dances can give. The moment of her release from him was ecstasy.',\n",
              " 'She danced next with an officer, and had the refreshment of talking of Wickham, and of hearing that he was universally liked. When those dances were over, she returned to Charlotte Lucas, and was in conversation with her, when she found herself suddenly addressed by Mr. Darcy who took her so much by surprise in his application for her hand, that, without knowing what she did, she accepted him. He walked away again immediately, and she was left to fret over her own want of presence of mind; Charlotte tried to console her:',\n",
              " '\"I dare say you will find him very agreeable.\"',\n",
              " '\"Heaven forbid! _That_ would be the greatest misfortune of all! To find a man agreeable whom one is determined to hate! Do not wish me such an evil.\"',\n",
              " 'When the dancing recommenced, however, and Darcy approached to claim her hand, Charlotte could not help cautioning her in a whisper, not to be a simpleton, and allow her fancy for Wickham to make her appear unpleasant in the eyes of a man ten times his consequence. Elizabeth made no answer, and took her place in the set, amazed at the dignity to which she was arrived in being allowed to stand opposite to Mr. Darcy, and reading in her neighbours\\' looks, their equal amazement in beholding it. They stood for some time without speaking a word; and she began to imagine that their silence was to last through the two dances, and at first was resolved not to break it; till suddenly fancying that it would be the greater punishment to her partner to oblige him to talk, she made some slight observation on the dance. He replied, and was again silent. After a pause of some minutes, she addressed him a second time with:--\"It is _your_ turn to say something now, Mr. Darcy. I talked about the dance, and _you_ ought to make some sort of remark on the size of the room, or the number of couples.\"',\n",
              " 'He smiled, and assured her that whatever she wished him to say should be said.',\n",
              " '\"Very well. That reply will do for the present. Perhaps by and by I may observe that private balls are much pleasanter than public ones. But _now_ we may be silent.\"',\n",
              " '\"Do you talk by rule, then, while you are dancing?\"',\n",
              " '\"Sometimes. One must speak a little, you know. It would look odd to be entirely silent for half an hour together; and yet for the advantage of _some_, conversation ought to be so arranged, as that they may have the trouble of saying as little as possible.\"',\n",
              " '\"Are you consulting your own feelings in the present case, or do you imagine that you are gratifying mine?\"',\n",
              " '\"Both,\" replied Elizabeth archly; \"for I have always seen a great similarity in the turn of our minds. We are each of an unsocial, taciturn disposition, unwilling to speak, unless we expect to say something that will amaze the whole room, and be handed down to posterity with all the eclat of a proverb.\"',\n",
              " '\"This is no very striking resemblance of your own character, I am sure,\" said he. \"How near it may be to _mine_, I cannot pretend to say. _You_ think it a faithful portrait undoubtedly.\"',\n",
              " '\"I must not decide on my own performance.\"',\n",
              " 'He made no answer, and they were again silent till they had gone down the dance, when he asked her if she and her sisters did not very often walk to Meryton. She answered in the affirmative, and, unable to resist the temptation, added, \"When you met us there the other day, we had just been forming a new acquaintance.\"',\n",
              " 'The effect was immediate. A deeper shade of _hauteur_ overspread his features, but he said not a word, and Elizabeth, though blaming herself for her own weakness, could not go on. At length Darcy spoke, and in a constrained manner said, \"Mr. Wickham is blessed with such happy manners as may ensure his _making_ friends--whether he may be equally capable of _retaining_ them, is less certain.\"',\n",
              " '\"He has been so unlucky as to lose _your_ friendship,\" replied Elizabeth with emphasis, \"and in a manner which he is likely to suffer from all his life.\"',\n",
              " 'Darcy made no answer, and seemed desirous of changing the subject. At that moment, Sir William Lucas appeared close to them, meaning to pass through the set to the other side of the room; but on perceiving Mr. Darcy, he stopped with a bow of superior courtesy to compliment him on his dancing and his partner.',\n",
              " '\"I have been most highly gratified indeed, my dear sir. Such very superior dancing is not often seen. It is evident that you belong to the first circles. Allow me to say, however, that your fair partner does not disgrace you, and that I must hope to have this pleasure often repeated, especially when a certain desirable event, my dear Eliza (glancing at her sister and Bingley) shall take place. What congratulations will then flow in! I appeal to Mr. Darcy:--but let me not interrupt you, sir. You will not thank me for detaining you from the bewitching converse of that young lady, whose bright eyes are also upbraiding me.\"',\n",
              " 'The latter part of this address was scarcely heard by Darcy; but Sir William\\'s allusion to his friend seemed to strike him forcibly, and his eyes were directed with a very serious expression towards Bingley and Jane, who were dancing together. Recovering himself, however, shortly, he turned to his partner, and said, \"Sir William\\'s interruption has made me forget what we were talking of.\"',\n",
              " '\"I do not think we were speaking at all. Sir William could not have interrupted two people in the room who had less to say for themselves. We have tried two or three subjects already without success, and what we are to talk of next I cannot imagine.\"',\n",
              " '\"What think you of books?\" said he, smiling.',\n",
              " '\"Books--oh! no. I am sure we never read the same, or not with the same feelings.\"',\n",
              " '\"I am sorry you think so; but if that be the case, there can at least be no want of subject. We may compare our different opinions.\"',\n",
              " '\"No--I cannot talk of books in a ball-room; my head is always full of something else.\"',\n",
              " '\"The _present_ always occupies you in such scenes--does it?\" said he, with a look of doubt.',\n",
              " '\"Yes, always,\" she replied, without knowing what she said, for her thoughts had wandered far from the subject, as soon afterwards appeared by her suddenly exclaiming, \"I remember hearing you once say, Mr. Darcy, that you hardly ever forgave, that your resentment once created was unappeasable. You are very cautious, I suppose, as to its _being created_.\"',\n",
              " '\"I am,\" said he, with a firm voice.',\n",
              " '\"And never allow yourself to be blinded by prejudice?\"',\n",
              " '\"I hope not.\"',\n",
              " '\"It is particularly incumbent on those who never change their opinion, to be secure of judging properly at first.\"',\n",
              " '\"May I ask to what these questions tend?\"',\n",
              " '\"Merely to the illustration of _your_ character,\" said she, endeavouring to shake off her gravity. \"I am trying to make it out.\"',\n",
              " '\"And what is your success?\"',\n",
              " 'She shook her head. \"I do not get on at all. I hear such different accounts of you as puzzle me exceedingly.\"',\n",
              " '\"I can readily believe,\" answered he gravely, \"that reports may vary greatly with respect to me; and I could wish, Miss Bennet, that you were not to sketch my character at the present moment, as there is reason to fear that the performance would reflect no credit on either.\"',\n",
              " '\"But if I do not take your likeness now, I may never have another opportunity.\"',\n",
              " '\"I would by no means suspend any pleasure of yours,\" he coldly replied. She said no more, and they went down the other dance and parted in silence; and on each side dissatisfied, though not to an equal degree, for in Darcy\\'s breast there was a tolerable powerful feeling towards her, which soon procured her pardon, and directed all his anger against another.',\n",
              " 'They had not long separated, when Miss Bingley came towards her, and with an expression of civil disdain accosted her:',\n",
              " '\"So, Miss Eliza, I hear you are quite delighted with George Wickham! Your sister has been talking to me about him, and asking me a thousand questions; and I find that the young man quite forgot to tell you, among his other communication, that he was the son of old Wickham, the late Mr. Darcy\\'s steward. Let me recommend you, however, as a friend, not to give implicit confidence to all his assertions; for as to Mr. Darcy\\'s using him ill, it is perfectly false; for, on the contrary, he has always been remarkably kind to him, though George Wickham has treated Mr. Darcy in a most infamous manner. I do not know the particulars, but I know very well that Mr. Darcy is not in the least to blame, that he cannot bear to hear George Wickham mentioned, and that though my brother thought that he could not well avoid including him in his invitation to the officers, he was excessively glad to find that he had taken himself out of the way. His coming into the country at all is a most insolent thing, indeed, and I wonder how he could presume to do it. I pity you, Miss Eliza, for this discovery of your favourite\\'s guilt; but really, considering his descent, one could not expect much better.\"',\n",
              " '\"His guilt and his descent appear by your account to be the same,\" said Elizabeth angrily; \"for I have heard you accuse him of nothing worse than of being the son of Mr. Darcy\\'s steward, and of _that_, I can assure you, he informed me himself.\"',\n",
              " '\"I beg your pardon,\" replied Miss Bingley, turning away with a sneer. \"Excuse my interference--it was kindly meant.\"',\n",
              " '\"Insolent girl!\" said Elizabeth to herself. \"You are much mistaken if you expect to influence me by such a paltry attack as this. I see nothing in it but your own wilful ignorance and the malice of Mr. Darcy.\" She then sought her eldest sister, who has undertaken to make inquiries on the same subject of Bingley. Jane met her with a smile of such sweet complacency, a glow of such happy expression, as sufficiently marked how well she was satisfied with the occurrences of the evening. Elizabeth instantly read her feelings, and at that moment solicitude for Wickham, resentment against his enemies, and everything else, gave way before the hope of Jane\\'s being in the fairest way for happiness.',\n",
              " '\"I want to know,\" said she, with a countenance no less smiling than her sister\\'s, \"what you have learnt about Mr. Wickham. But perhaps you have been too pleasantly engaged to think of any third person; in which case you may be sure of my pardon.\"',\n",
              " '\"No,\" replied Jane, \"I have not forgotten him; but I have nothing satisfactory to tell you. Mr. Bingley does not know the whole of his history, and is quite ignorant of the circumstances which have principally offended Mr. Darcy; but he will vouch for the good conduct, the probity, and honour of his friend, and is perfectly convinced that Mr. Wickham has deserved much less attention from Mr. Darcy than he has received; and I am sorry to say by his account as well as his sister\\'s, Mr. Wickham is by no means a respectable young man. I am afraid he has been very imprudent, and has deserved to lose Mr. Darcy\\'s regard.\"',\n",
              " '\"Mr. Bingley does not know Mr. Wickham himself?\"',\n",
              " '\"No; he never saw him till the other morning at Meryton.\"',\n",
              " '\"This account then is what he has received from Mr. Darcy. I am satisfied. But what does he say of the living?\"',\n",
              " '\"He does not exactly recollect the circumstances, though he has heard them from Mr. Darcy more than once, but he believes that it was left to him _conditionally_ only.\"',\n",
              " '\"I have not a doubt of Mr. Bingley\\'s sincerity,\" said Elizabeth warmly; \"but you must excuse my not being convinced by assurances only. Mr. Bingley\\'s defense of his friend was a very able one, I dare say; but since he is unacquainted with several parts of the story, and has learnt the rest from that friend himself, I shall venture to still think of both gentlemen as I did before.\"',\n",
              " \"She then changed the discourse to one more gratifying to each, and on which there could be no difference of sentiment. Elizabeth listened with delight to the happy, though modest hopes which Jane entertained of Mr. Bingley's regard, and said all in her power to heighten her confidence in it. On their being joined by Mr. Bingley himself, Elizabeth withdrew to Miss Lucas; to whose inquiry after the pleasantness of her last partner she had scarcely replied, before Mr. Collins came up to them, and told her with great exultation that he had just been so fortunate as to make a most important discovery.\",\n",
              " '\"I have found out,\" said he, \"by a singular accident, that there is now in the room a near relation of my patroness. I happened to overhear the gentleman himself mentioning to the young lady who does the honours of the house the names of his cousin Miss de Bourgh, and of her mother Lady Catherine. How wonderfully these sort of things occur! Who would have thought of my meeting with, perhaps, a nephew of Lady Catherine de Bourgh in this assembly! I am most thankful that the discovery is made in time for me to pay my respects to him, which I am now going to do, and trust he will excuse my not having done it before. My total ignorance of the connection must plead my apology.\"',\n",
              " '\"You are not going to introduce yourself to Mr. Darcy!\"',\n",
              " '\"Indeed I am. I shall entreat his pardon for not having done it earlier. I believe him to be Lady Catherine\\'s _nephew_. It will be in my power to assure him that her ladyship was quite well yesterday se\\'nnight.\"',\n",
              " 'Elizabeth tried hard to dissuade him from such a scheme, assuring him that Mr. Darcy would consider his addressing him without introduction as an impertinent freedom, rather than a compliment to his aunt; that it was not in the least necessary there should be any notice on either side; and that if it were, it must belong to Mr. Darcy, the superior in consequence, to begin the acquaintance. Mr. Collins listened to her with the determined air of following his own inclination, and, when she ceased speaking, replied thus:',\n",
              " '\"My dear Miss Elizabeth, I have the highest opinion in the world in your excellent judgement in all matters within the scope of your understanding; but permit me to say, that there must be a wide difference between the established forms of ceremony amongst the laity, and those which regulate the clergy; for, give me leave to observe that I consider the clerical office as equal in point of dignity with the highest rank in the kingdom--provided that a proper humility of behaviour is at the same time maintained. You must therefore allow me to follow the dictates of my conscience on this occasion, which leads me to perform what I look on as a point of duty. Pardon me for neglecting to profit by your advice, which on every other subject shall be my constant guide, though in the case before us I consider myself more fitted by education and habitual study to decide on what is right than a young lady like yourself.\" And with a low bow he left her to attack Mr. Darcy, whose reception of his advances she eagerly watched, and whose astonishment at being so addressed was very evident. Her cousin prefaced his speech with a solemn bow and though she could not hear a word of it, she felt as if hearing it all, and saw in the motion of his lips the words \"apology,\" \"Hunsford,\" and \"Lady Catherine de Bourgh.\" It vexed her to see him expose himself to such a man. Mr. Darcy was eyeing him with unrestrained wonder, and when at last Mr. Collins allowed him time to speak, replied with an air of distant civility. Mr. Collins, however, was not discouraged from speaking again, and Mr. Darcy\\'s contempt seemed abundantly increasing with the length of his second speech, and at the end of it he only made him a slight bow, and moved another way. Mr. Collins then returned to Elizabeth.',\n",
              " '\"I have no reason, I assure you,\" said he, \"to be dissatisfied with my reception. Mr. Darcy seemed much pleased with the attention. He answered me with the utmost civility, and even paid me the compliment of saying that he was so well convinced of Lady Catherine\\'s discernment as to be certain she could never bestow a favour unworthily. It was really a very handsome thought. Upon the whole, I am much pleased with him.\"',\n",
              " \"As Elizabeth had no longer any interest of her own to pursue, she turned her attention almost entirely on her sister and Mr. Bingley; and the train of agreeable reflections which her observations gave birth to, made her perhaps almost as happy as Jane. She saw her in idea settled in that very house, in all the felicity which a marriage of true affection could bestow; and she felt capable, under such circumstances, of endeavouring even to like Bingley's two sisters. Her mother's thoughts she plainly saw were bent the same way, and she determined not to venture near her, lest she might hear too much. When they sat down to supper, therefore, she considered it a most unlucky perverseness which placed them within one of each other; and deeply was she vexed to find that her mother was talking to that one person (Lady Lucas) freely, openly, and of nothing else but her expectation that Jane would soon be married to Mr. Bingley. It was an animating subject, and Mrs. Bennet seemed incapable of fatigue while enumerating the advantages of the match. His being such a charming young man, and so rich, and living but three miles from them, were the first points of self-gratulation; and then it was such a comfort to think how fond the two sisters were of Jane, and to be certain that they must desire the connection as much as she could do. It was, moreover, such a promising thing for her younger daughters, as Jane's marrying so greatly must throw them in the way of other rich men; and lastly, it was so pleasant at her time of life to be able to consign her single daughters to the care of their sister, that she might not be obliged to go into company more than she liked. It was necessary to make this circumstance a matter of pleasure, because on such occasions it is the etiquette; but no one was less likely than Mrs. Bennet to find comfort in staying home at any period of her life. She concluded with many good wishes that Lady Lucas might soon be equally fortunate, though evidently and triumphantly believing there was no chance of it.\",\n",
              " \"In vain did Elizabeth endeavour to check the rapidity of her mother's words, or persuade her to describe her felicity in a less audible whisper; for, to her inexpressible vexation, she could perceive that the chief of it was overheard by Mr. Darcy, who sat opposite to them. Her mother only scolded her for being nonsensical.\",\n",
              " '\"What is Mr. Darcy to me, pray, that I should be afraid of him? I am sure we owe him no such particular civility as to be obliged to say nothing _he_ may not like to hear.\"',\n",
              " '\"For heaven\\'s sake, madam, speak lower. What advantage can it be for you to offend Mr. Darcy? You will never recommend yourself to his friend by so doing!\"',\n",
              " 'Nothing that she could say, however, had any influence. Her mother would talk of her views in the same intelligible tone. Elizabeth blushed and blushed again with shame and vexation. She could not help frequently glancing her eye at Mr. Darcy, though every glance convinced her of what she dreaded; for though he was not always looking at her mother, she was convinced that his attention was invariably fixed by her. The expression of his face changed gradually from indignant contempt to a composed and steady gravity.',\n",
              " 'At length, however, Mrs. Bennet had no more to say; and Lady Lucas, who had been long yawning at the repetition of delights which she saw no likelihood of sharing, was left to the comforts of cold ham and chicken. Elizabeth now began to revive. But not long was the interval of tranquillity; for, when supper was over, singing was talked of, and she had the mortification of seeing Mary, after very little entreaty, preparing to oblige the company. By many significant looks and silent entreaties, did she endeavour to prevent such a proof of complaisance, but in vain; Mary would not understand them; such an opportunity of exhibiting was delightful to her, and she began her song. Elizabeth\\'s eyes were fixed on her with most painful sensations, and she watched her progress through the several stanzas with an impatience which was very ill rewarded at their close; for Mary, on receiving, amongst the thanks of the table, the hint of a hope that she might be prevailed on to favour them again, after the pause of half a minute began another. Mary\\'s powers were by no means fitted for such a display; her voice was weak, and her manner affected. Elizabeth was in agonies. She looked at Jane, to see how she bore it; but Jane was very composedly talking to Bingley. She looked at his two sisters, and saw them making signs of derision at each other, and at Darcy, who continued, however, imperturbably grave. She looked at her father to entreat his interference, lest Mary should be singing all night. He took the hint, and when Mary had finished her second song, said aloud, \"That will do extremely well, child. You have delighted us long enough. Let the other young ladies have time to exhibit.\"',\n",
              " \"Mary, though pretending not to hear, was somewhat disconcerted; and Elizabeth, sorry for her, and sorry for her father's speech, was afraid her anxiety had done no good. Others of the party were now applied to.\",\n",
              " '\"If I,\" said Mr. Collins, \"were so fortunate as to be able to sing, I should have great pleasure, I am sure, in obliging the company with an air; for I consider music as a very innocent diversion, and perfectly compatible with the profession of a clergyman. I do not mean, however, to assert that we can be justified in devoting too much of our time to music, for there are certainly other things to be attended to. The rector of a parish has much to do. In the first place, he must make such an agreement for tithes as may be beneficial to himself and not offensive to his patron. He must write his own sermons; and the time that remains will not be too much for his parish duties, and the care and improvement of his dwelling, which he cannot be excused from making as comfortable as possible. And I do not think it of light importance that he should have attentive and conciliatory manner towards everybody, especially towards those to whom he owes his preferment. I cannot acquit him of that duty; nor could I think well of the man who should omit an occasion of testifying his respect towards anybody connected with the family.\" And with a bow to Mr. Darcy, he concluded his speech, which had been spoken so loud as to be heard by half the room. Many stared--many smiled; but no one looked more amused than Mr. Bennet himself, while his wife seriously commended Mr. Collins for having spoken so sensibly, and observed in a half-whisper to Lady Lucas, that he was a remarkably clever, good kind of young man.',\n",
              " 'To Elizabeth it appeared that, had her family made an agreement to expose themselves as much as they could during the evening, it would have been impossible for them to play their parts with more spirit or finer success; and happy did she think it for Bingley and her sister that some of the exhibition had escaped his notice, and that his feelings were not of a sort to be much distressed by the folly which he must have witnessed. That his two sisters and Mr. Darcy, however, should have such an opportunity of ridiculing her relations, was bad enough, and she could not determine whether the silent contempt of the gentleman, or the insolent smiles of the ladies, were more intolerable.',\n",
              " \"The rest of the evening brought her little amusement. She was teased by Mr. Collins, who continued most perseveringly by her side, and though he could not prevail on her to dance with him again, put it out of her power to dance with others. In vain did she entreat him to stand up with somebody else, and offer to introduce him to any young lady in the room. He assured her, that as to dancing, he was perfectly indifferent to it; that his chief object was by delicate attentions to recommend himself to her and that he should therefore make a point of remaining close to her the whole evening. There was no arguing upon such a project. She owed her greatest relief to her friend Miss Lucas, who often joined them, and good-naturedly engaged Mr. Collins's conversation to herself.\",\n",
              " \"She was at least free from the offense of Mr. Darcy's further notice; though often standing within a very short distance of her, quite disengaged, he never came near enough to speak. She felt it to be the probable consequence of her allusions to Mr. Wickham, and rejoiced in it.\",\n",
              " 'The Longbourn party were the last of all the company to depart, and, by a manoeuvre of Mrs. Bennet, had to wait for their carriage a quarter of an hour after everybody else was gone, which gave them time to see how heartily they were wished away by some of the family. Mrs. Hurst and her sister scarcely opened their mouths, except to complain of fatigue, and were evidently impatient to have the house to themselves. They repulsed every attempt of Mrs. Bennet at conversation, and by so doing threw a languor over the whole party, which was very little relieved by the long speeches of Mr. Collins, who was complimenting Mr. Bingley and his sisters on the elegance of their entertainment, and the hospitality and politeness which had marked their behaviour to their guests. Darcy said nothing at all. Mr. Bennet, in equal silence, was enjoying the scene. Mr. Bingley and Jane were standing together, a little detached from the rest, and talked only to each other. Elizabeth preserved as steady a silence as either Mrs. Hurst or Miss Bingley; and even Lydia was too much fatigued to utter more than the occasional exclamation of \"Lord, how tired I am!\" accompanied by a violent yawn.',\n",
              " 'When at length they arose to take leave, Mrs. Bennet was most pressingly civil in her hope of seeing the whole family soon at Longbourn, and addressed herself especially to Mr. Bingley, to assure him how happy he would make them by eating a family dinner with them at any time, without the ceremony of a formal invitation. Bingley was all grateful pleasure, and he readily engaged for taking the earliest opportunity of waiting on her, after his return from London, whither he was obliged to go the next day for a short time.',\n",
              " 'Mrs. Bennet was perfectly satisfied, and quitted the house under the delightful persuasion that, allowing for the necessary preparations of settlements, new carriages, and wedding clothes, she should undoubtedly see her daughter settled at Netherfield in the course of three or four months. Of having another daughter married to Mr. Collins, she thought with equal certainty, and with considerable, though not equal, pleasure. Elizabeth was the least dear to her of all her children; and though the man and the match were quite good enough for _her_, the worth of each was eclipsed by Mr. Bingley and Netherfield.',\n",
              " 'The next day opened a new scene at Longbourn. Mr. Collins made his declaration in form. Having resolved to do it without loss of time, as his leave of absence extended only to the following Saturday, and having no feelings of diffidence to make it distressing to himself even at the moment, he set about it in a very orderly manner, with all the observances, which he supposed a regular part of the business. On finding Mrs. Bennet, Elizabeth, and one of the younger girls together, soon after breakfast, he addressed the mother in these words:',\n",
              " '\"May I hope, madam, for your interest with your fair daughter Elizabeth, when I solicit for the honour of a private audience with her in the course of this morning?\"',\n",
              " 'Before Elizabeth had time for anything but a blush of surprise, Mrs. Bennet answered instantly, \"Oh dear!--yes--certainly. I am sure Lizzy will be very happy--I am sure she can have no objection. Come, Kitty, I want you upstairs.\" And, gathering her work together, she was hastening away, when Elizabeth called out:',\n",
              " '\"Dear madam, do not go. I beg you will not go. Mr. Collins must excuse me. He can have nothing to say to me that anybody need not hear. I am going away myself.\"',\n",
              " '\"No, no, nonsense, Lizzy. I desire you to stay where you are.\" And upon Elizabeth\\'s seeming really, with vexed and embarrassed looks, about to escape, she added: \"Lizzy, I _insist_ upon your staying and hearing Mr. Collins.\"',\n",
              " \"Elizabeth would not oppose such an injunction--and a moment's consideration making her also sensible that it would be wisest to get it over as soon and as quietly as possible, she sat down again and tried to conceal, by incessant employment the feelings which were divided between distress and diversion. Mrs. Bennet and Kitty walked off, and as soon as they were gone, Mr. Collins began.\",\n",
              " '\"Believe me, my dear Miss Elizabeth, that your modesty, so far from doing you any disservice, rather adds to your other perfections. You would have been less amiable in my eyes had there _not_ been this little unwillingness; but allow me to assure you, that I have your respected mother\\'s permission for this address. You can hardly doubt the purport of my discourse, however your natural delicacy may lead you to dissemble; my attentions have been too marked to be mistaken. Almost as soon as I entered the house, I singled you out as the companion of my future life. But before I am run away with by my feelings on this subject, perhaps it would be advisable for me to state my reasons for marrying--and, moreover, for coming into Hertfordshire with the design of selecting a wife, as I certainly did.\"',\n",
              " 'The idea of Mr. Collins, with all his solemn composure, being run away with by his feelings, made Elizabeth so near laughing, that she could not use the short pause he allowed in any attempt to stop him further, and he continued:',\n",
              " '\"My reasons for marrying are, first, that I think it a right thing for every clergyman in easy circumstances (like myself) to set the example of matrimony in his parish; secondly, that I am convinced that it will add very greatly to my happiness; and thirdly--which perhaps I ought to have mentioned earlier, that it is the particular advice and recommendation of the very noble lady whom I have the honour of calling patroness. Twice has she condescended to give me her opinion (unasked too!) on this subject; and it was but the very Saturday night before I left Hunsford--between our pools at quadrille, while Mrs. Jenkinson was arranging Miss de Bourgh\\'s footstool, that she said, \\'Mr. Collins, you must marry. A clergyman like you must marry. Choose properly, choose a gentlewoman for _my_ sake; and for your _own_, let her be an active, useful sort of person, not brought up high, but able to make a small income go a good way. This is my advice. Find such a woman as soon as you can, bring her to Hunsford, and I will visit her.\\' Allow me, by the way, to observe, my fair cousin, that I do not reckon the notice and kindness of Lady Catherine de Bourgh as among the least of the advantages in my power to offer. You will find her manners beyond anything I can describe; and your wit and vivacity, I think, must be acceptable to her, especially when tempered with the silence and respect which her rank will inevitably excite. Thus much for my general intention in favour of matrimony; it remains to be told why my views were directed towards Longbourn instead of my own neighbourhood, where I can assure you there are many amiable young women. But the fact is, that being, as I am, to inherit this estate after the death of your honoured father (who, however, may live many years longer), I could not satisfy myself without resolving to choose a wife from among his daughters, that the loss to them might be as little as possible, when the melancholy event takes place--which, however, as I have already said, may not be for several years. This has been my motive, my fair cousin, and I flatter myself it will not sink me in your esteem. And now nothing remains for me but to assure you in the most animated language of the violence of my affection. To fortune I am perfectly indifferent, and shall make no demand of that nature on your father, since I am well aware that it could not be complied with; and that one thousand pounds in the four per cents, which will not be yours till after your mother\\'s decease, is all that you may ever be entitled to. On that head, therefore, I shall be uniformly silent; and you may assure yourself that no ungenerous reproach shall ever pass my lips when we are married.\"',\n",
              " 'It was absolutely necessary to interrupt him now.',\n",
              " '\"You are too hasty, sir,\" she cried. \"You forget that I have made no answer. Let me do it without further loss of time. Accept my thanks for the compliment you are paying me. I am very sensible of the honour of your proposals, but it is impossible for me to do otherwise than to decline them.\"',\n",
              " '\"I am not now to learn,\" replied Mr. Collins, with a formal wave of the hand, \"that it is usual with young ladies to reject the addresses of the man whom they secretly mean to accept, when he first applies for their favour; and that sometimes the refusal is repeated a second, or even a third time. I am therefore by no means discouraged by what you have just said, and shall hope to lead you to the altar ere long.\"',\n",
              " '\"Upon my word, sir,\" cried Elizabeth, \"your hope is a rather extraordinary one after my declaration. I do assure you that I am not one of those young ladies (if such young ladies there are) who are so daring as to risk their happiness on the chance of being asked a second time. I am perfectly serious in my refusal. You could not make _me_ happy, and I am convinced that I am the last woman in the world who could make you so. Nay, were your friend Lady Catherine to know me, I am persuaded she would find me in every respect ill qualified for the situation.\"',\n",
              " '\"Were it certain that Lady Catherine would think so,\" said Mr. Collins very gravely--\"but I cannot imagine that her ladyship would at all disapprove of you. And you may be certain when I have the honour of seeing her again, I shall speak in the very highest terms of your modesty, economy, and other amiable qualification.\"',\n",
              " '\"Indeed, Mr. Collins, all praise of me will be unnecessary. You must give me leave to judge for myself, and pay me the compliment of believing what I say. I wish you very happy and very rich, and by refusing your hand, do all in my power to prevent your being otherwise. In making me the offer, you must have satisfied the delicacy of your feelings with regard to my family, and may take possession of Longbourn estate whenever it falls, without any self-reproach. This matter may be considered, therefore, as finally settled.\" And rising as she thus spoke, she would have quitted the room, had Mr. Collins not thus addressed her:',\n",
              " '\"When I do myself the honour of speaking to you next on the subject, I shall hope to receive a more favourable answer than you have now given me; though I am far from accusing you of cruelty at present, because I know it to be the established custom of your sex to reject a man on the first application, and perhaps you have even now said as much to encourage my suit as would be consistent with the true delicacy of the female character.\"',\n",
              " '\"Really, Mr. Collins,\" cried Elizabeth with some warmth, \"you puzzle me exceedingly. If what I have hitherto said can appear to you in the form of encouragement, I know not how to express my refusal in such a way as to convince you of its being one.\"',\n",
              " '\"You must give me leave to flatter myself, my dear cousin, that your refusal of my addresses is merely words of course. My reasons for believing it are briefly these: It does not appear to me that my hand is unworthy your acceptance, or that the establishment I can offer would be any other than highly desirable. My situation in life, my connections with the family of de Bourgh, and my relationship to your own, are circumstances highly in my favour; and you should take it into further consideration, that in spite of your manifold attractions, it is by no means certain that another offer of marriage may ever be made you. Your portion is unhappily so small that it will in all likelihood undo the effects of your loveliness and amiable qualifications. As I must therefore conclude that you are not serious in your rejection of me, I shall choose to attribute it to your wish of increasing my love by suspense, according to the usual practice of elegant females.\"',\n",
              " '\"I do assure you, sir, that I have no pretensions whatever to that kind of elegance which consists in tormenting a respectable man. I would rather be paid the compliment of being believed sincere. I thank you again and again for the honour you have done me in your proposals, but to accept them is absolutely impossible. My feelings in every respect forbid it. Can I speak plainer? Do not consider me now as an elegant female, intending to plague you, but as a rational creature, speaking the truth from her heart.\"',\n",
              " '\"You are uniformly charming!\" cried he, with an air of awkward gallantry; \"and I am persuaded that when sanctioned by the express authority of both your excellent parents, my proposals will not fail of being acceptable.\"',\n",
              " 'To such perseverance in wilful self-deception Elizabeth would make no reply, and immediately and in silence withdrew; determined, if he persisted in considering her repeated refusals as flattering encouragement, to apply to her father, whose negative might be uttered in such a manner as to be decisive, and whose behavior at least could not be mistaken for the affectation and coquetry of an elegant female.',\n",
              " 'Mr. Collins was not left long to the silent contemplation of his successful love; for Mrs. Bennet, having dawdled about in the vestibule to watch for the end of the conference, no sooner saw Elizabeth open the door and with quick step pass her towards the staircase, than she entered the breakfast-room, and congratulated both him and herself in warm terms on the happy prospect or their nearer connection. Mr. Collins received and returned these felicitations with equal pleasure, and then proceeded to relate the particulars of their interview, with the result of which he trusted he had every reason to be satisfied, since the refusal which his cousin had steadfastly given him would naturally flow from her bashful modesty and the genuine delicacy of her character.',\n",
              " 'This information, however, startled Mrs. Bennet; she would have been glad to be equally satisfied that her daughter had meant to encourage him by protesting against his proposals, but she dared not believe it, and could not help saying so.',\n",
              " '\"But, depend upon it, Mr. Collins,\" she added, \"that Lizzy shall be brought to reason. I will speak to her about it directly. She is a very headstrong, foolish girl, and does not know her own interest but I will _make_ her know it.\"',\n",
              " '\"Pardon me for interrupting you, madam,\" cried Mr. Collins; \"but if she is really headstrong and foolish, I know not whether she would altogether be a very desirable wife to a man in my situation, who naturally looks for happiness in the marriage state. If therefore she actually persists in rejecting my suit, perhaps it were better not to force her into accepting me, because if liable to such defects of temper, she could not contribute much to my felicity.\"',\n",
              " '\"Sir, you quite misunderstand me,\" said Mrs. Bennet, alarmed. \"Lizzy is only headstrong in such matters as these. In everything else she is as good-natured a girl as ever lived. I will go directly to Mr. Bennet, and we shall very soon settle it with her, I am sure.\"',\n",
              " 'She would not give him time to reply, but hurrying instantly to her husband, called out as she entered the library, \"Oh! Mr. Bennet, you are wanted immediately; we are all in an uproar. You must come and make Lizzy marry Mr. Collins, for she vows she will not have him, and if you do not make haste he will change his mind and not have _her_.\"',\n",
              " 'Mr. Bennet raised his eyes from his book as she entered, and fixed them on her face with a calm unconcern which was not in the least altered by her communication.',\n",
              " '\"I have not the pleasure of understanding you,\" said he, when she had finished her speech. \"Of what are you talking?\"',\n",
              " '\"Of Mr. Collins and Lizzy. Lizzy declares she will not have Mr. Collins, and Mr. Collins begins to say that he will not have Lizzy.\"',\n",
              " '\"And what am I to do on the occasion? It seems an hopeless business.\"',\n",
              " '\"Speak to Lizzy about it yourself. Tell her that you insist upon her marrying him.\"',\n",
              " '\"Let her be called down. She shall hear my opinion.\"',\n",
              " 'Mrs. Bennet rang the bell, and Miss Elizabeth was summoned to the library.',\n",
              " '\"Come here, child,\" cried her father as she appeared. \"I have sent for you on an affair of importance. I understand that Mr. Collins has made you an offer of marriage. Is it true?\" Elizabeth replied that it was. \"Very well--and this offer of marriage you have refused?\"',\n",
              " '\"I have, sir.\"',\n",
              " '\"Very well. We now come to the point. Your mother insists upon your accepting it. Is it not so, Mrs. Bennet?\"',\n",
              " '\"Yes, or I will never see her again.\"',\n",
              " '\"An unhappy alternative is before you, Elizabeth. From this day you must be a stranger to one of your parents. Your mother will never see you again if you do _not_ marry Mr. Collins, and I will never see you again if you _do_.\"',\n",
              " 'Elizabeth could not but smile at such a conclusion of such a beginning, but Mrs. Bennet, who had persuaded herself that her husband regarded the affair as she wished, was excessively disappointed.',\n",
              " '\"What do you mean, Mr. Bennet, in talking this way? You promised me to _insist_ upon her marrying him.\"',\n",
              " '\"My dear,\" replied her husband, \"I have two small favours to request. First, that you will allow me the free use of my understanding on the present occasion; and secondly, of my room. I shall be glad to have the library to myself as soon as may be.\"',\n",
              " 'Not yet, however, in spite of her disappointment in her husband, did Mrs. Bennet give up the point. She talked to Elizabeth again and again; coaxed and threatened her by turns. She endeavoured to secure Jane in her interest; but Jane, with all possible mildness, declined interfering; and Elizabeth, sometimes with real earnestness, and sometimes with playful gaiety, replied to her attacks. Though her manner varied, however, her determination never did.',\n",
              " \"Mr. Collins, meanwhile, was meditating in solitude on what had passed. He thought too well of himself to comprehend on what motives his cousin could refuse him; and though his pride was hurt, he suffered in no other way. His regard for her was quite imaginary; and the possibility of her deserving her mother's reproach prevented his feeling any regret.\",\n",
              " 'While the family were in this confusion, Charlotte Lucas came to spend the day with them. She was met in the vestibule by Lydia, who, flying to her, cried in a half whisper, \"I am glad you are come, for there is such fun here! What do you think has happened this morning? Mr. Collins has made an offer to Lizzy, and she will not have him.\"',\n",
              " 'Charlotte hardly had time to answer, before they were joined by Kitty, who came to tell the same news; and no sooner had they entered the breakfast-room, where Mrs. Bennet was alone, than she likewise began on the subject, calling on Miss Lucas for her compassion, and entreating her to persuade her friend Lizzy to comply with the wishes of all her family. \"Pray do, my dear Miss Lucas,\" she added in a melancholy tone, \"for nobody is on my side, nobody takes part with me. I am cruelly used, nobody feels for my poor nerves.\"',\n",
              " \"Charlotte's reply was spared by the entrance of Jane and Elizabeth.\",\n",
              " '\"Aye, there she comes,\" continued Mrs. Bennet, \"looking as unconcerned as may be, and caring no more for us than if we were at York, provided she can have her own way. But I tell you, Miss Lizzy--if you take it into your head to go on refusing every offer of marriage in this way, you will never get a husband at all--and I am sure I do not know who is to maintain you when your father is dead. I shall not be able to keep you--and so I warn you. I have done with you from this very day. I told you in the library, you know, that I should never speak to you again, and you will find me as good as my word. I have no pleasure in talking to undutiful children. Not that I have much pleasure, indeed, in talking to anybody. People who suffer as I do from nervous complaints can have no great inclination for talking. Nobody can tell what I suffer! But it is always so. Those who do not complain are never pitied.\"',\n",
              " 'Her daughters listened in silence to this effusion, sensible that any attempt to reason with her or soothe her would only increase the irritation. She talked on, therefore, without interruption from any of them, till they were joined by Mr. Collins, who entered the room with an air more stately than usual, and on perceiving whom, she said to the girls, \"Now, I do insist upon it, that you, all of you, hold your tongues, and let me and Mr. Collins have a little conversation together.\"',\n",
              " 'Elizabeth passed quietly out of the room, Jane and Kitty followed, but Lydia stood her ground, determined to hear all she could; and Charlotte, detained first by the civility of Mr. Collins, whose inquiries after herself and all her family were very minute, and then by a little curiosity, satisfied herself with walking to the window and pretending not to hear. In a doleful voice Mrs. Bennet began the projected conversation: \"Oh! Mr. Collins!\"',\n",
              " '\"My dear madam,\" replied he, \"let us be for ever silent on this point. Far be it from me,\" he presently continued, in a voice that marked his displeasure, \"to resent the behaviour of your daughter. Resignation to inevitable evils is the evil duty of us all; the peculiar duty of a young man who has been so fortunate as I have been in early preferment; and I trust I am resigned. Perhaps not the less so from feeling a doubt of my positive happiness had my fair cousin honoured me with her hand; for I have often observed that resignation is never so perfect as when the blessing denied begins to lose somewhat of its value in our estimation. You will not, I hope, consider me as showing any disrespect to your family, my dear madam, by thus withdrawing my pretensions to your daughter\\'s favour, without having paid yourself and Mr. Bennet the compliment of requesting you to interpose your authority in my behalf. My conduct may, I fear, be objectionable in having accepted my dismission from your daughter\\'s lips instead of your own. But we are all liable to error. I have certainly meant well through the whole affair. My object has been to secure an amiable companion for myself, with due consideration for the advantage of all your family, and if my _manner_ has been at all reprehensible, I here beg leave to apologise.\"',\n",
              " \"The discussion of Mr. Collins's offer was now nearly at an end, and Elizabeth had only to suffer from the uncomfortable feelings necessarily attending it, and occasionally from some peevish allusions of her mother. As for the gentleman himself, _his_ feelings were chiefly expressed, not by embarrassment or dejection, or by trying to avoid her, but by stiffness of manner and resentful silence. He scarcely ever spoke to her, and the assiduous attentions which he had been so sensible of himself were transferred for the rest of the day to Miss Lucas, whose civility in listening to him was a seasonable relief to them all, and especially to her friend.\",\n",
              " \"The morrow produced no abatement of Mrs. Bennet's ill-humour or ill health. Mr. Collins was also in the same state of angry pride. Elizabeth had hoped that his resentment might shorten his visit, but his plan did not appear in the least affected by it. He was always to have gone on Saturday, and to Saturday he meant to stay.\",\n",
              " \"After breakfast, the girls walked to Meryton to inquire if Mr. Wickham were returned, and to lament over his absence from the Netherfield ball. He joined them on their entering the town, and attended them to their aunt's where his regret and vexation, and the concern of everybody, was well talked over. To Elizabeth, however, he voluntarily acknowledged that the necessity of his absence _had_ been self-imposed.\",\n",
              " '\"I found,\" said he, \"as the time drew near that I had better not meet Mr. Darcy; that to be in the same room, the same party with him for so many hours together, might be more than I could bear, and that scenes might arise unpleasant to more than myself.\"',\n",
              " 'She highly approved his forbearance, and they had leisure for a full discussion of it, and for all the commendation which they civilly bestowed on each other, as Wickham and another officer walked back with them to Longbourn, and during the walk he particularly attended to her. His accompanying them was a double advantage; she felt all the compliment it offered to herself, and it was most acceptable as an occasion of introducing him to her father and mother.',\n",
              " \"Soon after their return, a letter was delivered to Miss Bennet; it came from Netherfield. The envelope contained a sheet of elegant, little, hot-pressed paper, well covered with a lady's fair, flowing hand; and Elizabeth saw her sister's countenance change as she read it, and saw her dwelling intently on some particular passages. Jane recollected herself soon, and putting the letter away, tried to join with her usual cheerfulness in the general conversation; but Elizabeth felt an anxiety on the subject which drew off her attention even from Wickham; and no sooner had he and his companion taken leave, than a glance from Jane invited her to follow her upstairs. When they had gained their own room, Jane, taking out the letter, said:\",\n",
              " '\"This is from Caroline Bingley; what it contains has surprised me a good deal. The whole party have left Netherfield by this time, and are on their way to town--and without any intention of coming back again. You shall hear what she says.\"',\n",
              " 'She then read the first sentence aloud, which comprised the information of their having just resolved to follow their brother to town directly, and of their meaning to dine in Grosvenor Street, where Mr. Hurst had a house. The next was in these words: \"I do not pretend to regret anything I shall leave in Hertfordshire, except your society, my dearest friend; but we will hope, at some future period, to enjoy many returns of that delightful intercourse we have known, and in the meanwhile may lessen the pain of separation by a very frequent and most unreserved correspondence. I depend on you for that.\" To these highflown expressions Elizabeth listened with all the insensibility of distrust; and though the suddenness of their removal surprised her, she saw nothing in it really to lament; it was not to be supposed that their absence from Netherfield would prevent Mr. Bingley\\'s being there; and as to the loss of their society, she was persuaded that Jane must cease to regard it, in the enjoyment of his.',\n",
              " '\"It is unlucky,\" said she, after a short pause, \"that you should not be able to see your friends before they leave the country. But may we not hope that the period of future happiness to which Miss Bingley looks forward may arrive earlier than she is aware, and that the delightful intercourse you have known as friends will be renewed with yet greater satisfaction as sisters? Mr. Bingley will not be detained in London by them.\"',\n",
              " '\"Caroline decidedly says that none of the party will return into Hertfordshire this winter. I will read it to you:\"',\n",
              " '\"When my brother left us yesterday, he imagined that the business which took him to London might be concluded in three or four days; but as we are certain it cannot be so, and at the same time convinced that when Charles gets to town he will be in no hurry to leave it again, we have determined on following him thither, that he may not be obliged to spend his vacant hours in a comfortless hotel. Many of my acquaintances are already there for the winter; I wish that I could hear that you, my dearest friend, had any intention of making one of the crowd--but of that I despair. I sincerely hope your Christmas in Hertfordshire may abound in the gaieties which that season generally brings, and that your beaux will be so numerous as to prevent your feeling the loss of the three of whom we shall deprive you.\"',\n",
              " '\"It is evident by this,\" added Jane, \"that he comes back no more this winter.\"',\n",
              " '\"It is only evident that Miss Bingley does not mean that he _should_.\"',\n",
              " '\"Why will you think so? It must be his own doing. He is his own master. But you do not know _all_. I _will_ read you the passage which particularly hurts me. I will have no reserves from _you_.\"',\n",
              " '\"Mr. Darcy is impatient to see his sister; and, to confess the truth, _we_ are scarcely less eager to meet her again. I really do not think Georgiana Darcy has her equal for beauty, elegance, and accomplishments; and the affection she inspires in Louisa and myself is heightened into something still more interesting, from the hope we dare entertain of her being hereafter our sister. I do not know whether I ever before mentioned to you my feelings on this subject; but I will not leave the country without confiding them, and I trust you will not esteem them unreasonable. My brother admires her greatly already; he will have frequent opportunity now of seeing her on the most intimate footing; her relations all wish the connection as much as his own; and a sister\\'s partiality is not misleading me, I think, when I call Charles most capable of engaging any woman\\'s heart. With all these circumstances to favour an attachment, and nothing to prevent it, am I wrong, my dearest Jane, in indulging the hope of an event which will secure the happiness of so many?\"',\n",
              " '\"What do you think of _this_ sentence, my dear Lizzy?\" said Jane as she finished it. \"Is it not clear enough? Does it not expressly declare that Caroline neither expects nor wishes me to be her sister; that she is perfectly convinced of her brother\\'s indifference; and that if she suspects the nature of my feelings for him, she means (most kindly!) to put me on my guard? Can there be any other opinion on the subject?\"',\n",
              " '\"Yes, there can; for mine is totally different. Will you hear it?\"',\n",
              " '\"Most willingly.\"',\n",
              " '\"You shall have it in a few words. Miss Bingley sees that her brother is in love with you, and wants him to marry Miss Darcy. She follows him to town in hope of keeping him there, and tries to persuade you that he does not care about you.\"',\n",
              " 'Jane shook her head.',\n",
              " '\"Indeed, Jane, you ought to believe me. No one who has ever seen you together can doubt his affection. Miss Bingley, I am sure, cannot. She is not such a simpleton. Could she have seen half as much love in Mr. Darcy for herself, she would have ordered her wedding clothes. But the case is this: We are not rich enough or grand enough for them; and she is the more anxious to get Miss Darcy for her brother, from the notion that when there has been _one_ intermarriage, she may have less trouble in achieving a second; in which there is certainly some ingenuity, and I dare say it would succeed, if Miss de Bourgh were out of the way. But, my dearest Jane, you cannot seriously imagine that because Miss Bingley tells you her brother greatly admires Miss Darcy, he is in the smallest degree less sensible of _your_ merit than when he took leave of you on Tuesday, or that it will be in her power to persuade him that, instead of being in love with you, he is very much in love with her friend.\"',\n",
              " '\"If we thought alike of Miss Bingley,\" replied Jane, \"your representation of all this might make me quite easy. But I know the foundation is unjust. Caroline is incapable of wilfully deceiving anyone; and all that I can hope in this case is that she is deceiving herself.\"',\n",
              " '\"That is right. You could not have started a more happy idea, since you will not take comfort in mine. Believe her to be deceived, by all means. You have now done your duty by her, and must fret no longer.\"',\n",
              " '\"But, my dear sister, can I be happy, even supposing the best, in accepting a man whose sisters and friends are all wishing him to marry elsewhere?\"',\n",
              " '\"You must decide for yourself,\" said Elizabeth; \"and if, upon mature deliberation, you find that the misery of disobliging his two sisters is more than equivalent to the happiness of being his wife, I advise you by all means to refuse him.\"',\n",
              " '\"How can you talk so?\" said Jane, faintly smiling. \"You must know that though I should be exceedingly grieved at their disapprobation, I could not hesitate.\"',\n",
              " '\"I did not think you would; and that being the case, I cannot consider your situation with much compassion.\"',\n",
              " '\"But if he returns no more this winter, my choice will never be required. A thousand things may arise in six months!\"',\n",
              " \"The idea of his returning no more Elizabeth treated with the utmost contempt. It appeared to her merely the suggestion of Caroline's interested wishes, and she could not for a moment suppose that those wishes, however openly or artfully spoken, could influence a young man so totally independent of everyone.\",\n",
              " \"She represented to her sister as forcibly as possible what she felt on the subject, and had soon the pleasure of seeing its happy effect. Jane's temper was not desponding, and she was gradually led to hope, though the diffidence of affection sometimes overcame the hope, that Bingley would return to Netherfield and answer every wish of her heart.\",\n",
              " \"They agreed that Mrs. Bennet should only hear of the departure of the family, without being alarmed on the score of the gentleman's conduct; but even this partial communication gave her a great deal of concern, and she bewailed it as exceedingly unlucky that the ladies should happen to go away just as they were all getting so intimate together. After lamenting it, however, at some length, she had the consolation that Mr. Bingley would be soon down again and soon dining at Longbourn, and the conclusion of all was the comfortable declaration, that though he had been invited only to a family dinner, she would take care to have two full courses.\",\n",
              " 'The Bennets were engaged to dine with the Lucases and again during the chief of the day was Miss Lucas so kind as to listen to Mr. Collins. Elizabeth took an opportunity of thanking her. \"It keeps him in good humour,\" said she, \"and I am more obliged to you than I can express.\" Charlotte assured her friend of her satisfaction in being useful, and that it amply repaid her for the little sacrifice of her time. This was very amiable, but Charlotte\\'s kindness extended farther than Elizabeth had any conception of; its object was nothing else than to secure her from any return of Mr. Collins\\'s addresses, by engaging them towards herself. Such was Miss Lucas\\'s scheme; and appearances were so favourable, that when they parted at night, she would have felt almost secure of success if he had not been to leave Hertfordshire so very soon. But here she did injustice to the fire and independence of his character, for it led him to escape out of Longbourn House the next morning with admirable slyness, and hasten to Lucas Lodge to throw himself at her feet. He was anxious to avoid the notice of his cousins, from a conviction that if they saw him depart, they could not fail to conjecture his design, and he was not willing to have the attempt known till its success might be known likewise; for though feeling almost secure, and with reason, for Charlotte had been tolerably encouraging, he was comparatively diffident since the adventure of Wednesday. His reception, however, was of the most flattering kind. Miss Lucas perceived him from an upper window as he walked towards the house, and instantly set out to meet him accidentally in the lane. But little had she dared to hope that so much love and eloquence awaited her there.',\n",
              " \"In as short a time as Mr. Collins's long speeches would allow, everything was settled between them to the satisfaction of both; and as they entered the house he earnestly entreated her to name the day that was to make him the happiest of men; and though such a solicitation must be waived for the present, the lady felt no inclination to trifle with his happiness. The stupidity with which he was favoured by nature must guard his courtship from any charm that could make a woman wish for its continuance; and Miss Lucas, who accepted him solely from the pure and disinterested desire of an establishment, cared not how soon that establishment were gained.\",\n",
              " \"Sir William and Lady Lucas were speedily applied to for their consent; and it was bestowed with a most joyful alacrity. Mr. Collins's present circumstances made it a most eligible match for their daughter, to whom they could give little fortune; and his prospects of future wealth were exceedingly fair. Lady Lucas began directly to calculate, with more interest than the matter had ever excited before, how many years longer Mr. Bennet was likely to live; and Sir William gave it as his decided opinion, that whenever Mr. Collins should be in possession of the Longbourn estate, it would be highly expedient that both he and his wife should make their appearance at St. James's. The whole family, in short, were properly overjoyed on the occasion. The younger girls formed hopes of _coming out_ a year or two sooner than they might otherwise have done; and the boys were relieved from their apprehension of Charlotte's dying an old maid. Charlotte herself was tolerably composed. She had gained her point, and had time to consider of it. Her reflections were in general satisfactory. Mr. Collins, to be sure, was neither sensible nor agreeable; his society was irksome, and his attachment to her must be imaginary. But still he would be her husband. Without thinking highly either of men or matrimony, marriage had always been her object; it was the only provision for well-educated young women of small fortune, and however uncertain of giving happiness, must be their pleasantest preservative from want. This preservative she had now obtained; and at the age of twenty-seven, without having ever been handsome, she felt all the good luck of it. The least agreeable circumstance in the business was the surprise it must occasion to Elizabeth Bennet, whose friendship she valued beyond that of any other person. Elizabeth would wonder, and probably would blame her; and though her resolution was not to be shaken, her feelings must be hurt by such a disapprobation. She resolved to give her the information herself, and therefore charged Mr. Collins, when he returned to Longbourn to dinner, to drop no hint of what had passed before any of the family. A promise of secrecy was of course very dutifully given, but it could not be kept without difficulty; for the curiosity excited by his long absence burst forth in such very direct questions on his return as required some ingenuity to evade, and he was at the same time exercising great self-denial, for he was longing to publish his prosperous love.\",\n",
              " 'As he was to begin his journey too early on the morrow to see any of the family, the ceremony of leave-taking was performed when the ladies moved for the night; and Mrs. Bennet, with great politeness and cordiality, said how happy they should be to see him at Longbourn again, whenever his engagements might allow him to visit them.',\n",
              " '\"My dear madam,\" he replied, \"this invitation is particularly gratifying, because it is what I have been hoping to receive; and you may be very certain that I shall avail myself of it as soon as possible.\"',\n",
              " 'They were all astonished; and Mr. Bennet, who could by no means wish for so speedy a return, immediately said:',\n",
              " '\"But is there not danger of Lady Catherine\\'s disapprobation here, my good sir? You had better neglect your relations than run the risk of offending your patroness.\"',\n",
              " '\"My dear sir,\" replied Mr. Collins, \"I am particularly obliged to you for this friendly caution, and you may depend upon my not taking so material a step without her ladyship\\'s concurrence.\"',\n",
              " '\"You cannot be too much upon your guard. Risk anything rather than her displeasure; and if you find it likely to be raised by your coming to us again, which I should think exceedingly probable, stay quietly at home, and be satisfied that _we_ shall take no offence.\"',\n",
              " '\"Believe me, my dear sir, my gratitude is warmly excited by such affectionate attention; and depend upon it, you will speedily receive from me a letter of thanks for this, and for every other mark of your regard during my stay in Hertfordshire. As for my fair cousins, though my absence may not be long enough to render it necessary, I shall now take the liberty of wishing them health and happiness, not excepting my cousin Elizabeth.\"',\n",
              " 'With proper civilities the ladies then withdrew; all of them equally surprised that he meditated a quick return. Mrs. Bennet wished to understand by it that he thought of paying his addresses to one of her younger girls, and Mary might have been prevailed on to accept him. She rated his abilities much higher than any of the others; there was a solidity in his reflections which often struck her, and though by no means so clever as herself, she thought that if encouraged to read and improve himself by such an example as hers, he might become a very agreeable companion. But on the following morning, every hope of this kind was done away. Miss Lucas called soon after breakfast, and in a private conference with Elizabeth related the event of the day before.',\n",
              " \"The possibility of Mr. Collins's fancying himself in love with her friend had once occurred to Elizabeth within the last day or two; but that Charlotte could encourage him seemed almost as far from possibility as she could encourage him herself, and her astonishment was consequently so great as to overcome at first the bounds of decorum, and she could not help crying out:\",\n",
              " '\"Engaged to Mr. Collins! My dear Charlotte--impossible!\"',\n",
              " 'The steady countenance which Miss Lucas had commanded in telling her story, gave way to a momentary confusion here on receiving so direct a reproach; though, as it was no more than she expected, she soon regained her composure, and calmly replied:',\n",
              " '\"Why should you be surprised, my dear Eliza? Do you think it incredible that Mr. Collins should be able to procure any woman\\'s good opinion, because he was not so happy as to succeed with you?\"',\n",
              " 'But Elizabeth had now recollected herself, and making a strong effort for it, was able to assure with tolerable firmness that the prospect of their relationship was highly grateful to her, and that she wished her all imaginable happiness.',\n",
              " '\"I see what you are feeling,\" replied Charlotte. \"You must be surprised, very much surprised--so lately as Mr. Collins was wishing to marry you. But when you have had time to think it over, I hope you will be satisfied with what I have done. I am not romantic, you know; I never was. I ask only a comfortable home; and considering Mr. Collins\\'s character, connection, and situation in life, I am convinced that my chance of happiness with him is as fair as most people can boast on entering the marriage state.\"',\n",
              " 'Elizabeth quietly answered \"Undoubtedly;\" and after an awkward pause, they returned to the rest of the family. Charlotte did not stay much longer, and Elizabeth was then left to reflect on what she had heard. It was a long time before she became at all reconciled to the idea of so unsuitable a match. The strangeness of Mr. Collins\\'s making two offers of marriage within three days was nothing in comparison of his being now accepted. She had always felt that Charlotte\\'s opinion of matrimony was not exactly like her own, but she had not supposed it to be possible that, when called into action, she would have sacrificed every better feeling to worldly advantage. Charlotte the wife of Mr. Collins was a most humiliating picture! And to the pang of a friend disgracing herself and sunk in her esteem, was added the distressing conviction that it was impossible for that friend to be tolerably happy in the lot she had chosen.',\n",
              " 'Elizabeth was sitting with her mother and sisters, reflecting on what she had heard, and doubting whether she was authorised to mention it, when Sir William Lucas himself appeared, sent by his daughter, to announce her engagement to the family. With many compliments to them, and much self-gratulation on the prospect of a connection between the houses, he unfolded the matter--to an audience not merely wondering, but incredulous; for Mrs. Bennet, with more perseverance than politeness, protested he must be entirely mistaken; and Lydia, always unguarded and often uncivil, boisterously exclaimed:',\n",
              " '\"Good Lord! Sir William, how can you tell such a story? Do not you know that Mr. Collins wants to marry Lizzy?\"',\n",
              " \"Nothing less than the complaisance of a courtier could have borne without anger such treatment; but Sir William's good breeding carried him through it all; and though he begged leave to be positive as to the truth of his information, he listened to all their impertinence with the most forbearing courtesy.\",\n",
              " 'Elizabeth, feeling it incumbent on her to relieve him from so unpleasant a situation, now put herself forward to confirm his account, by mentioning her prior knowledge of it from Charlotte herself; and endeavoured to put a stop to the exclamations of her mother and sisters by the earnestness of her congratulations to Sir William, in which she was readily joined by Jane, and by making a variety of remarks on the happiness that might be expected from the match, the excellent character of Mr. Collins, and the convenient distance of Hunsford from London.',\n",
              " 'Mrs. Bennet was in fact too much overpowered to say a great deal while Sir William remained; but no sooner had he left them than her feelings found a rapid vent. In the first place, she persisted in disbelieving the whole of the matter; secondly, she was very sure that Mr. Collins had been taken in; thirdly, she trusted that they would never be happy together; and fourthly, that the match might be broken off. Two inferences, however, were plainly deduced from the whole: one, that Elizabeth was the real cause of the mischief; and the other that she herself had been barbarously misused by them all; and on these two points she principally dwelt during the rest of the day. Nothing could console and nothing could appease her. Nor did that day wear out her resentment. A week elapsed before she could see Elizabeth without scolding her, a month passed away before she could speak to Sir William or Lady Lucas without being rude, and many months were gone before she could at all forgive their daughter.',\n",
              " \"Mr. Bennet's emotions were much more tranquil on the occasion, and such as he did experience he pronounced to be of a most agreeable sort; for it gratified him, he said, to discover that Charlotte Lucas, whom he had been used to think tolerably sensible, was as foolish as his wife, and more foolish than his daughter!\",\n",
              " 'Jane confessed herself a little surprised at the match; but she said less of her astonishment than of her earnest desire for their happiness; nor could Elizabeth persuade her to consider it as improbable. Kitty and Lydia were far from envying Miss Lucas, for Mr. Collins was only a clergyman; and it affected them in no other way than as a piece of news to spread at Meryton.',\n",
              " \"Lady Lucas could not be insensible of triumph on being able to retort on Mrs. Bennet the comfort of having a daughter well married; and she called at Longbourn rather oftener than usual to say how happy she was, though Mrs. Bennet's sour looks and ill-natured remarks might have been enough to drive happiness away.\",\n",
              " 'Between Elizabeth and Charlotte there was a restraint which kept them mutually silent on the subject; and Elizabeth felt persuaded that no real confidence could ever subsist between them again. Her disappointment in Charlotte made her turn with fonder regard to her sister, of whose rectitude and delicacy she was sure her opinion could never be shaken, and for whose happiness she grew daily more anxious, as Bingley had now been gone a week and nothing more was heard of his return.',\n",
              " \"Jane had sent Caroline an early answer to her letter, and was counting the days till she might reasonably hope to hear again. The promised letter of thanks from Mr. Collins arrived on Tuesday, addressed to their father, and written with all the solemnity of gratitude which a twelvemonth's abode in the family might have prompted. After discharging his conscience on that head, he proceeded to inform them, with many rapturous expressions, of his happiness in having obtained the affection of their amiable neighbour, Miss Lucas, and then explained that it was merely with the view of enjoying her society that he had been so ready to close with their kind wish of seeing him again at Longbourn, whither he hoped to be able to return on Monday fortnight; for Lady Catherine, he added, so heartily approved his marriage, that she wished it to take place as soon as possible, which he trusted would be an unanswerable argument with his amiable Charlotte to name an early day for making him the happiest of men.\",\n",
              " \"Mr. Collins's return into Hertfordshire was no longer a matter of pleasure to Mrs. Bennet. On the contrary, she was as much disposed to complain of it as her husband. It was very strange that he should come to Longbourn instead of to Lucas Lodge; it was also very inconvenient and exceedingly troublesome. She hated having visitors in the house while her health was so indifferent, and lovers were of all people the most disagreeable. Such were the gentle murmurs of Mrs. Bennet, and they gave way only to the greater distress of Mr. Bingley's continued absence.\",\n",
              " 'Neither Jane nor Elizabeth were comfortable on this subject. Day after day passed away without bringing any other tidings of him than the report which shortly prevailed in Meryton of his coming no more to Netherfield the whole winter; a report which highly incensed Mrs. Bennet, and which she never failed to contradict as a most scandalous falsehood.',\n",
              " \"Even Elizabeth began to fear--not that Bingley was indifferent--but that his sisters would be successful in keeping him away. Unwilling as she was to admit an idea so destructive of Jane's happiness, and so dishonorable to the stability of her lover, she could not prevent its frequently occurring. The united efforts of his two unfeeling sisters and of his overpowering friend, assisted by the attractions of Miss Darcy and the amusements of London might be too much, she feared, for the strength of his attachment.\",\n",
              " \"As for Jane, _her_ anxiety under this suspense was, of course, more painful than Elizabeth's, but whatever she felt she was desirous of concealing, and between herself and Elizabeth, therefore, the subject was never alluded to. But as no such delicacy restrained her mother, an hour seldom passed in which she did not talk of Bingley, express her impatience for his arrival, or even require Jane to confess that if he did not come back she would think herself very ill used. It needed all Jane's steady mildness to bear these attacks with tolerable tranquillity.\",\n",
              " 'Mr. Collins returned most punctually on Monday fortnight, but his reception at Longbourn was not quite so gracious as it had been on his first introduction. He was too happy, however, to need much attention; and luckily for the others, the business of love-making relieved them from a great deal of his company. The chief of every day was spent by him at Lucas Lodge, and he sometimes returned to Longbourn only in time to make an apology for his absence before the family went to bed.',\n",
              " 'Mrs. Bennet was really in a most pitiable state. The very mention of anything concerning the match threw her into an agony of ill-humour, and wherever she went she was sure of hearing it talked of. The sight of Miss Lucas was odious to her. As her successor in that house, she regarded her with jealous abhorrence. Whenever Charlotte came to see them, she concluded her to be anticipating the hour of possession; and whenever she spoke in a low voice to Mr. Collins, was convinced that they were talking of the Longbourn estate, and resolving to turn herself and her daughters out of the house, as soon as Mr. Bennet were dead. She complained bitterly of all this to her husband.',\n",
              " '\"Indeed, Mr. Bennet,\" said she, \"it is very hard to think that Charlotte Lucas should ever be mistress of this house, that I should be forced to make way for _her_, and live to see her take her place in it!\"',\n",
              " '\"My dear, do not give way to such gloomy thoughts. Let us hope for better things. Let us flatter ourselves that I may be the survivor.\"',\n",
              " 'This was not very consoling to Mrs. Bennet, and therefore, instead of making any answer, she went on as before.',\n",
              " '\"I cannot bear to think that they should have all this estate. If it was not for the entail, I should not mind it.\"',\n",
              " '\"What should not you mind?\"',\n",
              " '\"I should not mind anything at all.\"',\n",
              " '\"Let us be thankful that you are preserved from a state of such insensibility.\"',\n",
              " '\"I never can be thankful, Mr. Bennet, for anything about the entail. How anyone could have the conscience to entail away an estate from one\\'s own daughters, I cannot understand; and all for the sake of Mr. Collins too! Why should _he_ have it more than anybody else?\"',\n",
              " '\"I leave it to yourself to determine,\" said Mr. Bennet.',\n",
              " \"Miss Bingley's letter arrived, and put an end to doubt. The very first sentence conveyed the assurance of their being all settled in London for the winter, and concluded with her brother's regret at not having had time to pay his respects to his friends in Hertfordshire before he left the country.\",\n",
              " \"Hope was over, entirely over; and when Jane could attend to the rest of the letter, she found little, except the professed affection of the writer, that could give her any comfort. Miss Darcy's praise occupied the chief of it. Her many attractions were again dwelt on, and Caroline boasted joyfully of their increasing intimacy, and ventured to predict the accomplishment of the wishes which had been unfolded in her former letter. She wrote also with great pleasure of her brother's being an inmate of Mr. Darcy's house, and mentioned with raptures some plans of the latter with regard to new furniture.\",\n",
              " \"Elizabeth, to whom Jane very soon communicated the chief of all this, heard it in silent indignation. Her heart was divided between concern for her sister, and resentment against all others. To Caroline's assertion of her brother's being partial to Miss Darcy she paid no credit. That he was really fond of Jane, she doubted no more than she had ever done; and much as she had always been disposed to like him, she could not think without anger, hardly without contempt, on that easiness of temper, that want of proper resolution, which now made him the slave of his designing friends, and led him to sacrifice of his own happiness to the caprice of their inclination. Had his own happiness, however, been the only sacrifice, he might have been allowed to sport with it in whatever manner he thought best, but her sister's was involved in it, as she thought he must be sensible himself. It was a subject, in short, on which reflection would be long indulged, and must be unavailing. She could think of nothing else; and yet whether Bingley's regard had really died away, or were suppressed by his friends' interference; whether he had been aware of Jane's attachment, or whether it had escaped his observation; whatever were the case, though her opinion of him must be materially affected by the difference, her sister's situation remained the same, her peace equally wounded.\",\n",
              " \"A day or two passed before Jane had courage to speak of her feelings to Elizabeth; but at last, on Mrs. Bennet's leaving them together, after a longer irritation than usual about Netherfield and its master, she could not help saying:\",\n",
              " '\"Oh, that my dear mother had more command over herself! She can have no idea of the pain she gives me by her continual reflections on him. But I will not repine. It cannot last long. He will be forgot, and we shall all be as we were before.\"',\n",
              " 'Elizabeth looked at her sister with incredulous solicitude, but said nothing.',\n",
              " '\"You doubt me,\" cried Jane, slightly colouring; \"indeed, you have no reason. He may live in my memory as the most amiable man of my acquaintance, but that is all. I have nothing either to hope or fear, and nothing to reproach him with. Thank God! I have not _that_ pain. A little time, therefore--I shall certainly try to get the better.\"',\n",
              " 'With a stronger voice she soon added, \"I have this comfort immediately, that it has not been more than an error of fancy on my side, and that it has done no harm to anyone but myself.\"',\n",
              " '\"My dear Jane!\" exclaimed Elizabeth, \"you are too good. Your sweetness and disinterestedness are really angelic; I do not know what to say to you. I feel as if I had never done you justice, or loved you as you deserve.\"',\n",
              " \"Miss Bennet eagerly disclaimed all extraordinary merit, and threw back the praise on her sister's warm affection.\",\n",
              " '\"Nay,\" said Elizabeth, \"this is not fair. _You_ wish to think all the world respectable, and are hurt if I speak ill of anybody. I only want to think _you_ perfect, and you set yourself against it. Do not be afraid of my running into any excess, of my encroaching on your privilege of universal good-will. You need not. There are few people whom I really love, and still fewer of whom I think well. The more I see of the world, the more am I dissatisfied with it; and every day confirms my belief of the inconsistency of all human characters, and of the little dependence that can be placed on the appearance of merit or sense. I have met with two instances lately, one I will not mention; the other is Charlotte\\'s marriage. It is unaccountable! In every view it is unaccountable!\"',\n",
              " '\"My dear Lizzy, do not give way to such feelings as these. They will ruin your happiness. You do not make allowance enough for difference of situation and temper. Consider Mr. Collins\\'s respectability, and Charlotte\\'s steady, prudent character. Remember that she is one of a large family; that as to fortune, it is a most eligible match; and be ready to believe, for everybody\\'s sake, that she may feel something like regard and esteem for our cousin.\"',\n",
              " '\"To oblige you, I would try to believe almost anything, but no one else could be benefited by such a belief as this; for were I persuaded that Charlotte had any regard for him, I should only think worse of her understanding than I now do of her heart. My dear Jane, Mr. Collins is a conceited, pompous, narrow-minded, silly man; you know he is, as well as I do; and you must feel, as well as I do, that the woman who married him cannot have a proper way of thinking. You shall not defend her, though it is Charlotte Lucas. You shall not, for the sake of one individual, change the meaning of principle and integrity, nor endeavour to persuade yourself or me, that selfishness is prudence, and insensibility of danger security for happiness.\"',\n",
              " '\"I must think your language too strong in speaking of both,\" replied Jane; \"and I hope you will be convinced of it by seeing them happy together. But enough of this. You alluded to something else. You mentioned _two_ instances. I cannot misunderstand you, but I entreat you, dear Lizzy, not to pain me by thinking _that person_ to blame, and saying your opinion of him is sunk. We must not be so ready to fancy ourselves intentionally injured. We must not expect a lively young man to be always so guarded and circumspect. It is very often nothing but our own vanity that deceives us. Women fancy admiration means more than it does.\"',\n",
              " '\"And men take care that they should.\"',\n",
              " '\"If it is designedly done, they cannot be justified; but I have no idea of there being so much design in the world as some persons imagine.\"',\n",
              " '\"I am far from attributing any part of Mr. Bingley\\'s conduct to design,\" said Elizabeth; \"but without scheming to do wrong, or to make others unhappy, there may be error, and there may be misery. Thoughtlessness, want of attention to other people\\'s feelings, and want of resolution, will do the business.\"',\n",
              " '\"And do you impute it to either of those?\"',\n",
              " '\"Yes; to the last. But if I go on, I shall displease you by saying what I think of persons you esteem. Stop me whilst you can.\"',\n",
              " '\"You persist, then, in supposing his sisters influence him?\"',\n",
              " '\"Yes, in conjunction with his friend.\"',\n",
              " '\"I cannot believe it. Why should they try to influence him? They can only wish his happiness; and if he is attached to me, no other woman can secure it.\"',\n",
              " '\"Your first position is false. They may wish many things besides his happiness; they may wish his increase of wealth and consequence; they may wish him to marry a girl who has all the importance of money, great connections, and pride.\"',\n",
              " '\"Beyond a doubt, they _do_ wish him to choose Miss Darcy,\" replied Jane; \"but this may be from better feelings than you are supposing. They have known her much longer than they have known me; no wonder if they love her better. But, whatever may be their own wishes, it is very unlikely they should have opposed their brother\\'s. What sister would think herself at liberty to do it, unless there were something very objectionable? If they believed him attached to me, they would not try to part us; if he were so, they could not succeed. By supposing such an affection, you make everybody acting unnaturally and wrong, and me most unhappy. Do not distress me by the idea. I am not ashamed of having been mistaken--or, at least, it is light, it is nothing in comparison of what I should feel in thinking ill of him or his sisters. Let me take it in the best light, in the light in which it may be understood.\"',\n",
              " \"Elizabeth could not oppose such a wish; and from this time Mr. Bingley's name was scarcely ever mentioned between them.\",\n",
              " \"Mrs. Bennet still continued to wonder and repine at his returning no more, and though a day seldom passed in which Elizabeth did not account for it clearly, there was little chance of her ever considering it with less perplexity. Her daughter endeavoured to convince her of what she did not believe herself, that his attentions to Jane had been merely the effect of a common and transient liking, which ceased when he saw her no more; but though the probability of the statement was admitted at the time, she had the same story to repeat every day. Mrs. Bennet's best comfort was that Mr. Bingley must be down again in the summer.\",\n",
              " 'Mr. Bennet treated the matter differently. \"So, Lizzy,\" said he one day, \"your sister is crossed in love, I find. I congratulate her. Next to being married, a girl likes to be crossed a little in love now and then. It is something to think of, and it gives her a sort of distinction among her companions. When is your turn to come? You will hardly bear to be long outdone by Jane. Now is your time. Here are officers enough in Meryton to disappoint all the young ladies in the country. Let Wickham be _your_ man. He is a pleasant fellow, and would jilt you creditably.\"',\n",
              " '\"Thank you, sir, but a less agreeable man would satisfy me. We must not all expect Jane\\'s good fortune.\"',\n",
              " '\"True,\" said Mr. Bennet, \"but it is a comfort to think that whatever of that kind may befall you, you have an affectionate mother who will make the most of it.\"',\n",
              " \"Mr. Wickham's society was of material service in dispelling the gloom which the late perverse occurrences had thrown on many of the Longbourn family. They saw him often, and to his other recommendations was now added that of general unreserve. The whole of what Elizabeth had already heard, his claims on Mr. Darcy, and all that he had suffered from him, was now openly acknowledged and publicly canvassed; and everybody was pleased to know how much they had always disliked Mr. Darcy before they had known anything of the matter.\",\n",
              " 'Miss Bennet was the only creature who could suppose there might be any extenuating circumstances in the case, unknown to the society of Hertfordshire; her mild and steady candour always pleaded for allowances, and urged the possibility of mistakes--but by everybody else Mr. Darcy was condemned as the worst of men.',\n",
              " 'After a week spent in professions of love and schemes of felicity, Mr. Collins was called from his amiable Charlotte by the arrival of Saturday. The pain of separation, however, might be alleviated on his side, by preparations for the reception of his bride; as he had reason to hope, that shortly after his return into Hertfordshire, the day would be fixed that was to make him the happiest of men. He took leave of his relations at Longbourn with as much solemnity as before; wished his fair cousins health and happiness again, and promised their father another letter of thanks.',\n",
              " 'On the following Monday, Mrs. Bennet had the pleasure of receiving her brother and his wife, who came as usual to spend the Christmas at Longbourn. Mr. Gardiner was a sensible, gentlemanlike man, greatly superior to his sister, as well by nature as education. The Netherfield ladies would have had difficulty in believing that a man who lived by trade, and within view of his own warehouses, could have been so well-bred and agreeable. Mrs. Gardiner, who was several years younger than Mrs. Bennet and Mrs. Phillips, was an amiable, intelligent, elegant woman, and a great favourite with all her Longbourn nieces. Between the two eldest and herself especially, there subsisted a particular regard. They had frequently been staying with her in town.',\n",
              " \"The first part of Mrs. Gardiner's business on her arrival was to distribute her presents and describe the newest fashions. When this was done she had a less active part to play. It became her turn to listen. Mrs. Bennet had many grievances to relate, and much to complain of. They had all been very ill-used since she last saw her sister. Two of her girls had been upon the point of marriage, and after all there was nothing in it.\",\n",
              " '\"I do not blame Jane,\" she continued, \"for Jane would have got Mr. Bingley if she could. But Lizzy! Oh, sister! It is very hard to think that she might have been Mr. Collins\\'s wife by this time, had it not been for her own perverseness. He made her an offer in this very room, and she refused him. The consequence of it is, that Lady Lucas will have a daughter married before I have, and that the Longbourn estate is just as much entailed as ever. The Lucases are very artful people indeed, sister. They are all for what they can get. I am sorry to say it of them, but so it is. It makes me very nervous and poorly, to be thwarted so in my own family, and to have neighbours who think of themselves before anybody else. However, your coming just at this time is the greatest of comforts, and I am very glad to hear what you tell us, of long sleeves.\"',\n",
              " \"Mrs. Gardiner, to whom the chief of this news had been given before, in the course of Jane and Elizabeth's correspondence with her, made her sister a slight answer, and, in compassion to her nieces, turned the conversation.\",\n",
              " 'When alone with Elizabeth afterwards, she spoke more on the subject. \"It seems likely to have been a desirable match for Jane,\" said she. \"I am sorry it went off. But these things happen so often! A young man, such as you describe Mr. Bingley, so easily falls in love with a pretty girl for a few weeks, and when accident separates them, so easily forgets her, that these sort of inconsistencies are very frequent.\"',\n",
              " '\"An excellent consolation in its way,\" said Elizabeth, \"but it will not do for _us_. We do not suffer by _accident_. It does not often happen that the interference of friends will persuade a young man of independent fortune to think no more of a girl whom he was violently in love with only a few days before.\"',\n",
              " '\"But that expression of \\'violently in love\\' is so hackneyed, so doubtful, so indefinite, that it gives me very little idea. It is as often applied to feelings which arise from a half-hour\\'s acquaintance, as to a real, strong attachment. Pray, how _violent was_ Mr. Bingley\\'s love?\"',\n",
              " '\"I never saw a more promising inclination; he was growing quite inattentive to other people, and wholly engrossed by her. Every time they met, it was more decided and remarkable. At his own ball he offended two or three young ladies, by not asking them to dance; and I spoke to him twice myself, without receiving an answer. Could there be finer symptoms? Is not general incivility the very essence of love?\"',\n",
              " '\"Oh, yes!--of that kind of love which I suppose him to have felt. Poor Jane! I am sorry for her, because, with her disposition, she may not get over it immediately. It had better have happened to _you_, Lizzy; you would have laughed yourself out of it sooner. But do you think she would be prevailed upon to go back with us? Change of scene might be of service--and perhaps a little relief from home may be as useful as anything.\"',\n",
              " \"Elizabeth was exceedingly pleased with this proposal, and felt persuaded of her sister's ready acquiescence.\",\n",
              " '\"I hope,\" added Mrs. Gardiner, \"that no consideration with regard to this young man will influence her. We live in so different a part of town, all our connections are so different, and, as you well know, we go out so little, that it is very improbable that they should meet at all, unless he really comes to see her.\"',\n",
              " '\"And _that_ is quite impossible; for he is now in the custody of his friend, and Mr. Darcy would no more suffer him to call on Jane in such a part of London! My dear aunt, how could you think of it? Mr. Darcy may perhaps have _heard_ of such a place as Gracechurch Street, but he would hardly think a month\\'s ablution enough to cleanse him from its impurities, were he once to enter it; and depend upon it, Mr. Bingley never stirs without him.\"',\n",
              " '\"So much the better. I hope they will not meet at all. But does not Jane correspond with his sister? _She_ will not be able to help calling.\"',\n",
              " '\"She will drop the acquaintance entirely.\"',\n",
              " \"But in spite of the certainty in which Elizabeth affected to place this point, as well as the still more interesting one of Bingley's being withheld from seeing Jane, she felt a solicitude on the subject which convinced her, on examination, that she did not consider it entirely hopeless. It was possible, and sometimes she thought it probable, that his affection might be reanimated, and the influence of his friends successfully combated by the more natural influence of Jane's attractions.\",\n",
              " \"Miss Bennet accepted her aunt's invitation with pleasure; and the Bingleys were no otherwise in her thoughts at the same time, than as she hoped by Caroline's not living in the same house with her brother, she might occasionally spend a morning with her, without any danger of seeing him.\",\n",
              " \"The Gardiners stayed a week at Longbourn; and what with the Phillipses, the Lucases, and the officers, there was not a day without its engagement. Mrs. Bennet had so carefully provided for the entertainment of her brother and sister, that they did not once sit down to a family dinner. When the engagement was for home, some of the officers always made part of it--of which officers Mr. Wickham was sure to be one; and on these occasion, Mrs. Gardiner, rendered suspicious by Elizabeth's warm commendation, narrowly observed them both. Without supposing them, from what she saw, to be very seriously in love, their preference of each other was plain enough to make her a little uneasy; and she resolved to speak to Elizabeth on the subject before she left Hertfordshire, and represent to her the imprudence of encouraging such an attachment.\",\n",
              " \"To Mrs. Gardiner, Wickham had one means of affording pleasure, unconnected with his general powers. About ten or a dozen years ago, before her marriage, she had spent a considerable time in that very part of Derbyshire to which he belonged. They had, therefore, many acquaintances in common; and though Wickham had been little there since the death of Darcy's father, it was yet in his power to give her fresher intelligence of her former friends than she had been in the way of procuring.\",\n",
              " \"Mrs. Gardiner had seen Pemberley, and known the late Mr. Darcy by character perfectly well. Here consequently was an inexhaustible subject of discourse. In comparing her recollection of Pemberley with the minute description which Wickham could give, and in bestowing her tribute of praise on the character of its late possessor, she was delighting both him and herself. On being made acquainted with the present Mr. Darcy's treatment of him, she tried to remember some of that gentleman's reputed disposition when quite a lad which might agree with it, and was confident at last that she recollected having heard Mr. Fitzwilliam Darcy formerly spoken of as a very proud, ill-natured boy.\",\n",
              " \"Mrs. Gardiner's caution to Elizabeth was punctually and kindly given on the first favourable opportunity of speaking to her alone; after honestly telling her what she thought, she thus went on:\",\n",
              " '\"You are too sensible a girl, Lizzy, to fall in love merely because you are warned against it; and, therefore, I am not afraid of speaking openly. Seriously, I would have you be on your guard. Do not involve yourself or endeavour to involve him in an affection which the want of fortune would make so very imprudent. I have nothing to say against _him_; he is a most interesting young man; and if he had the fortune he ought to have, I should think you could not do better. But as it is, you must not let your fancy run away with you. You have sense, and we all expect you to use it. Your father would depend on _your_ resolution and good conduct, I am sure. You must not disappoint your father.\"',\n",
              " '\"My dear aunt, this is being serious indeed.\"',\n",
              " '\"Yes, and I hope to engage you to be serious likewise.\"',\n",
              " '\"Well, then, you need not be under any alarm. I will take care of myself, and of Mr. Wickham too. He shall not be in love with me, if I can prevent it.\"',\n",
              " '\"Elizabeth, you are not serious now.\"',\n",
              " '\"I beg your pardon, I will try again. At present I am not in love with Mr. Wickham; no, I certainly am not. But he is, beyond all comparison, the most agreeable man I ever saw--and if he becomes really attached to me--I believe it will be better that he should not. I see the imprudence of it. Oh! _that_ abominable Mr. Darcy! My father\\'s opinion of me does me the greatest honour, and I should be miserable to forfeit it. My father, however, is partial to Mr. Wickham. In short, my dear aunt, I should be very sorry to be the means of making any of you unhappy; but since we see every day that where there is affection, young people are seldom withheld by immediate want of fortune from entering into engagements with each other, how can I promise to be wiser than so many of my fellow-creatures if I am tempted, or how am I even to know that it would be wisdom to resist? All that I can promise you, therefore, is not to be in a hurry. I will not be in a hurry to believe myself his first object. When I am in company with him, I will not be wishing. In short, I will do my best.\"',\n",
              " '\"Perhaps it will be as well if you discourage his coming here so very often. At least, you should not _remind_ your mother of inviting him.\"',\n",
              " '\"As I did the other day,\" said Elizabeth with a conscious smile: \"very true, it will be wise in me to refrain from _that_. But do not imagine that he is always here so often. It is on your account that he has been so frequently invited this week. You know my mother\\'s ideas as to the necessity of constant company for her friends. But really, and upon my honour, I will try to do what I think to be the wisest; and now I hope you are satisfied.\"',\n",
              " 'Her aunt assured her that she was, and Elizabeth having thanked her for the kindness of her hints, they parted; a wonderful instance of advice being given on such a point, without being resented.',\n",
              " 'Mr. Collins returned into Hertfordshire soon after it had been quitted by the Gardiners and Jane; but as he took up his abode with the Lucases, his arrival was no great inconvenience to Mrs. Bennet. His marriage was now fast approaching, and she was at length so far resigned as to think it inevitable, and even repeatedly to say, in an ill-natured tone, that she \"_wished_ they might be happy.\" Thursday was to be the wedding day, and on Wednesday Miss Lucas paid her farewell visit; and when she rose to take leave, Elizabeth, ashamed of her mother\\'s ungracious and reluctant good wishes, and sincerely affected herself, accompanied her out of the room. As they went downstairs together, Charlotte said:',\n",
              " '\"I shall depend on hearing from you very often, Eliza.\"',\n",
              " '\"_That_ you certainly shall.\"',\n",
              " '\"And I have another favour to ask you. Will you come and see me?\"',\n",
              " '\"We shall often meet, I hope, in Hertfordshire.\"',\n",
              " '\"I am not likely to leave Kent for some time. Promise me, therefore, to come to Hunsford.\"',\n",
              " 'Elizabeth could not refuse, though she foresaw little pleasure in the visit.',\n",
              " '\"My father and Maria are coming to me in March,\" added Charlotte, \"and I hope you will consent to be of the party. Indeed, Eliza, you will be as welcome as either of them.\"',\n",
              " \"The wedding took place; the bride and bridegroom set off for Kent from the church door, and everybody had as much to say, or to hear, on the subject as usual. Elizabeth soon heard from her friend; and their correspondence was as regular and frequent as it had ever been; that it should be equally unreserved was impossible. Elizabeth could never address her without feeling that all the comfort of intimacy was over, and though determined not to slacken as a correspondent, it was for the sake of what had been, rather than what was. Charlotte's first letters were received with a good deal of eagerness; there could not but be curiosity to know how she would speak of her new home, how she would like Lady Catherine, and how happy she would dare pronounce herself to be; though, when the letters were read, Elizabeth felt that Charlotte expressed herself on every point exactly as she might have foreseen. She wrote cheerfully, seemed surrounded with comforts, and mentioned nothing which she could not praise. The house, furniture, neighbourhood, and roads, were all to her taste, and Lady Catherine's behaviour was most friendly and obliging. It was Mr. Collins's picture of Hunsford and Rosings rationally softened; and Elizabeth perceived that she must wait for her own visit there to know the rest.\",\n",
              " 'Jane had already written a few lines to her sister to announce their safe arrival in London; and when she wrote again, Elizabeth hoped it would be in her power to say something of the Bingleys.',\n",
              " 'Her impatience for this second letter was as well rewarded as impatience generally is. Jane had been a week in town without either seeing or hearing from Caroline. She accounted for it, however, by supposing that her last letter to her friend from Longbourn had by some accident been lost.',\n",
              " '\"My aunt,\" she continued, \"is going to-morrow into that part of the town, and I shall take the opportunity of calling in Grosvenor Street.\"',\n",
              " 'She wrote again when the visit was paid, and she had seen Miss Bingley. \"I did not think Caroline in spirits,\" were her words, \"but she was very glad to see me, and reproached me for giving her no notice of my coming to London. I was right, therefore, my last letter had never reached her. I inquired after their brother, of course. He was well, but so much engaged with Mr. Darcy that they scarcely ever saw him. I found that Miss Darcy was expected to dinner. I wish I could see her. My visit was not long, as Caroline and Mrs. Hurst were going out. I dare say I shall see them soon here.\"',\n",
              " \"Elizabeth shook her head over this letter. It convinced her that accident only could discover to Mr. Bingley her sister's being in town.\",\n",
              " \"Four weeks passed away, and Jane saw nothing of him. She endeavoured to persuade herself that she did not regret it; but she could no longer be blind to Miss Bingley's inattention. After waiting at home every morning for a fortnight, and inventing every evening a fresh excuse for her, the visitor did at last appear; but the shortness of her stay, and yet more, the alteration of her manner would allow Jane to deceive herself no longer. The letter which she wrote on this occasion to her sister will prove what she felt.\",\n",
              " '\"My dearest Lizzy will, I am sure, be incapable of triumphing in her better judgement, at my expense, when I confess myself to have been entirely deceived in Miss Bingley\\'s regard for me. But, my dear sister, though the event has proved you right, do not think me obstinate if I still assert that, considering what her behaviour was, my confidence was as natural as your suspicion. I do not at all comprehend her reason for wishing to be intimate with me; but if the same circumstances were to happen again, I am sure I should be deceived again. Caroline did not return my visit till yesterday; and not a note, not a line, did I receive in the meantime. When she did come, it was very evident that she had no pleasure in it; she made a slight, formal apology, for not calling before, said not a word of wishing to see me again, and was in every respect so altered a creature, that when she went away I was perfectly resolved to continue the acquaintance no longer. I pity, though I cannot help blaming her. She was very wrong in singling me out as she did; I can safely say that every advance to intimacy began on her side. But I pity her, because she must feel that she has been acting wrong, and because I am very sure that anxiety for her brother is the cause of it. I need not explain myself farther; and though _we_ know this anxiety to be quite needless, yet if she feels it, it will easily account for her behaviour to me; and so deservedly dear as he is to his sister, whatever anxiety she must feel on his behalf is natural and amiable. I cannot but wonder, however, at her having any such fears now, because, if he had at all cared about me, we must have met, long ago. He knows of my being in town, I am certain, from something she said herself; and yet it would seem, by her manner of talking, as if she wanted to persuade herself that he is really partial to Miss Darcy. I cannot understand it. If I were not afraid of judging harshly, I should be almost tempted to say that there is a strong appearance of duplicity in all this. But I will endeavour to banish every painful thought, and think only of what will make me happy--your affection, and the invariable kindness of my dear uncle and aunt. Let me hear from you very soon. Miss Bingley said something of his never returning to Netherfield again, of giving up the house, but not with any certainty. We had better not mention it. I am extremely glad that you have such pleasant accounts from our friends at Hunsford. Pray go to see them, with Sir William and Maria. I am sure you will be very comfortable there.--Yours, etc.\"',\n",
              " \"This letter gave Elizabeth some pain; but her spirits returned as she considered that Jane would no longer be duped, by the sister at least. All expectation from the brother was now absolutely over. She would not even wish for a renewal of his attentions. His character sunk on every review of it; and as a punishment for him, as well as a possible advantage to Jane, she seriously hoped he might really soon marry Mr. Darcy's sister, as by Wickham's account, she would make him abundantly regret what he had thrown away.\",\n",
              " \"Mrs. Gardiner about this time reminded Elizabeth of her promise concerning that gentleman, and required information; and Elizabeth had such to send as might rather give contentment to her aunt than to herself. His apparent partiality had subsided, his attentions were over, he was the admirer of some one else. Elizabeth was watchful enough to see it all, but she could see it and write of it without material pain. Her heart had been but slightly touched, and her vanity was satisfied with believing that _she_ would have been his only choice, had fortune permitted it. The sudden acquisition of ten thousand pounds was the most remarkable charm of the young lady to whom he was now rendering himself agreeable; but Elizabeth, less clear-sighted perhaps in this case than in Charlotte's, did not quarrel with him for his wish of independence. Nothing, on the contrary, could be more natural; and while able to suppose that it cost him a few struggles to relinquish her, she was ready to allow it a wise and desirable measure for both, and could very sincerely wish him happy.\",\n",
              " 'All this was acknowledged to Mrs. Gardiner; and after relating the circumstances, she thus went on: \"I am now convinced, my dear aunt, that I have never been much in love; for had I really experienced that pure and elevating passion, I should at present detest his very name, and wish him all manner of evil. But my feelings are not only cordial towards _him_; they are even impartial towards Miss King. I cannot find out that I hate her at all, or that I am in the least unwilling to think her a very good sort of girl. There can be no love in all this. My watchfulness has been effectual; and though I certainly should be a more interesting object to all my acquaintances were I distractedly in love with him, I cannot say that I regret my comparative insignificance. Importance may sometimes be purchased too dearly. Kitty and Lydia take his defection much more to heart than I do. They are young in the ways of the world, and not yet open to the mortifying conviction that handsome young men must have something to live on as well as the plain.\"',\n",
              " \"With no greater events than these in the Longbourn family, and otherwise diversified by little beyond the walks to Meryton, sometimes dirty and sometimes cold, did January and February pass away. March was to take Elizabeth to Hunsford. She had not at first thought very seriously of going thither; but Charlotte, she soon found, was depending on the plan and she gradually learned to consider it herself with greater pleasure as well as greater certainty. Absence had increased her desire of seeing Charlotte again, and weakened her disgust of Mr. Collins. There was novelty in the scheme, and as, with such a mother and such uncompanionable sisters, home could not be faultless, a little change was not unwelcome for its own sake. The journey would moreover give her a peep at Jane; and, in short, as the time drew near, she would have been very sorry for any delay. Everything, however, went on smoothly, and was finally settled according to Charlotte's first sketch. She was to accompany Sir William and his second daughter. The improvement of spending a night in London was added in time, and the plan became perfect as plan could be.\",\n",
              " 'The only pain was in leaving her father, who would certainly miss her, and who, when it came to the point, so little liked her going, that he told her to write to him, and almost promised to answer her letter.',\n",
              " 'The farewell between herself and Mr. Wickham was perfectly friendly; on his side even more. His present pursuit could not make him forget that Elizabeth had been the first to excite and to deserve his attention, the first to listen and to pity, the first to be admired; and in his manner of bidding her adieu, wishing her every enjoyment, reminding her of what she was to expect in Lady Catherine de Bourgh, and trusting their opinion of her--their opinion of everybody--would always coincide, there was a solicitude, an interest which she felt must ever attach her to him with a most sincere regard; and she parted from him convinced that, whether married or single, he must always be her model of the amiable and pleasing.',\n",
              " \"Her fellow-travellers the next day were not of a kind to make her think him less agreeable. Sir William Lucas, and his daughter Maria, a good-humoured girl, but as empty-headed as himself, had nothing to say that could be worth hearing, and were listened to with about as much delight as the rattle of the chaise. Elizabeth loved absurdities, but she had known Sir William's too long. He could tell her nothing new of the wonders of his presentation and knighthood; and his civilities were worn out, like his information.\",\n",
              " \"It was a journey of only twenty-four miles, and they began it so early as to be in Gracechurch Street by noon. As they drove to Mr. Gardiner's door, Jane was at a drawing-room window watching their arrival; when they entered the passage she was there to welcome them, and Elizabeth, looking earnestly in her face, was pleased to see it healthful and lovely as ever. On the stairs were a troop of little boys and girls, whose eagerness for their cousin's appearance would not allow them to wait in the drawing-room, and whose shyness, as they had not seen her for a twelvemonth, prevented their coming lower. All was joy and kindness. The day passed most pleasantly away; the morning in bustle and shopping, and the evening at one of the theatres.\",\n",
              " \"Elizabeth then contrived to sit by her aunt. Their first object was her sister; and she was more grieved than astonished to hear, in reply to her minute inquiries, that though Jane always struggled to support her spirits, there were periods of dejection. It was reasonable, however, to hope that they would not continue long. Mrs. Gardiner gave her the particulars also of Miss Bingley's visit in Gracechurch Street, and repeated conversations occurring at different times between Jane and herself, which proved that the former had, from her heart, given up the acquaintance.\",\n",
              " \"Mrs. Gardiner then rallied her niece on Wickham's desertion, and complimented her on bearing it so well.\",\n",
              " '\"But my dear Elizabeth,\" she added, \"what sort of girl is Miss King? I should be sorry to think our friend mercenary.\"',\n",
              " '\"Pray, my dear aunt, what is the difference in matrimonial affairs, between the mercenary and the prudent motive? Where does discretion end, and avarice begin? Last Christmas you were afraid of his marrying me, because it would be imprudent; and now, because he is trying to get a girl with only ten thousand pounds, you want to find out that he is mercenary.\"',\n",
              " '\"If you will only tell me what sort of girl Miss King is, I shall know what to think.\"',\n",
              " '\"She is a very good kind of girl, I believe. I know no harm of her.\"',\n",
              " '\"But he paid her not the smallest attention till her grandfather\\'s death made her mistress of this fortune.\"',\n",
              " '\"No--what should he? If it were not allowable for him to gain _my_ affections because I had no money, what occasion could there be for making love to a girl whom he did not care about, and who was equally poor?\"',\n",
              " '\"But there seems an indelicacy in directing his attentions towards her so soon after this event.\"',\n",
              " '\"A man in distressed circumstances has not time for all those elegant decorums which other people may observe. If _she_ does not object to it, why should _we_?\"',\n",
              " '\"_Her_ not objecting does not justify _him_. It only shows her being deficient in something herself--sense or feeling.\"',\n",
              " '\"Well,\" cried Elizabeth, \"have it as you choose. _He_ shall be mercenary, and _she_ shall be foolish.\"',\n",
              " '\"No, Lizzy, that is what I do _not_ choose. I should be sorry, you know, to think ill of a young man who has lived so long in Derbyshire.\"',\n",
              " '\"Oh! if that is all, I have a very poor opinion of young men who live in Derbyshire; and their intimate friends who live in Hertfordshire are not much better. I am sick of them all. Thank Heaven! I am going to-morrow where I shall find a man who has not one agreeable quality, who has neither manner nor sense to recommend him. Stupid men are the only ones worth knowing, after all.\"',\n",
              " '\"Take care, Lizzy; that speech savours strongly of disappointment.\"',\n",
              " 'Before they were separated by the conclusion of the play, she had the unexpected happiness of an invitation to accompany her uncle and aunt in a tour of pleasure which they proposed taking in the summer.',\n",
              " '\"We have not determined how far it shall carry us,\" said Mrs. Gardiner, \"but, perhaps, to the Lakes.\"',\n",
              " 'No scheme could have been more agreeable to Elizabeth, and her acceptance of the invitation was most ready and grateful. \"Oh, my dear, dear aunt,\" she rapturously cried, \"what delight! what felicity! You give me fresh life and vigour. Adieu to disappointment and spleen. What are young men to rocks and mountains? Oh! what hours of transport we shall spend! And when we _do_ return, it shall not be like other travellers, without being able to give one accurate idea of anything. We _will_ know where we have gone--we _will_ recollect what we have seen. Lakes, mountains, and rivers shall not be jumbled together in our imaginations; nor when we attempt to describe any particular scene, will we begin quarreling about its relative situation. Let _our_ first effusions be less insupportable than those of the generality of travellers.\"',\n",
              " \"Every object in the next day's journey was new and interesting to Elizabeth; and her spirits were in a state of enjoyment; for she had seen her sister looking so well as to banish all fear for her health, and the prospect of her northern tour was a constant source of delight.\",\n",
              " 'When they left the high road for the lane to Hunsford, every eye was in search of the Parsonage, and every turning expected to bring it in view. The palings of Rosings Park was their boundary on one side. Elizabeth smiled at the recollection of all that she had heard of its inhabitants.',\n",
              " \"At length the Parsonage was discernible. The garden sloping to the road, the house standing in it, the green pales, and the laurel hedge, everything declared they were arriving. Mr. Collins and Charlotte appeared at the door, and the carriage stopped at the small gate which led by a short gravel walk to the house, amidst the nods and smiles of the whole party. In a moment they were all out of the chaise, rejoicing at the sight of each other. Mrs. Collins welcomed her friend with the liveliest pleasure, and Elizabeth was more and more satisfied with coming when she found herself so affectionately received. She saw instantly that her cousin's manners were not altered by his marriage; his formal civility was just what it had been, and he detained her some minutes at the gate to hear and satisfy his inquiries after all her family. They were then, with no other delay than his pointing out the neatness of the entrance, taken into the house; and as soon as they were in the parlour, he welcomed them a second time, with ostentatious formality to his humble abode, and punctually repeated all his wife's offers of refreshment.\",\n",
              " 'Elizabeth was prepared to see him in his glory; and she could not help in fancying that in displaying the good proportion of the room, its aspect and its furniture, he addressed himself particularly to her, as if wishing to make her feel what she had lost in refusing him. But though everything seemed neat and comfortable, she was not able to gratify him by any sigh of repentance, and rather looked with wonder at her friend that she could have so cheerful an air with such a companion. When Mr. Collins said anything of which his wife might reasonably be ashamed, which certainly was not unseldom, she involuntarily turned her eye on Charlotte. Once or twice she could discern a faint blush; but in general Charlotte wisely did not hear. After sitting long enough to admire every article of furniture in the room, from the sideboard to the fender, to give an account of their journey, and of all that had happened in London, Mr. Collins invited them to take a stroll in the garden, which was large and well laid out, and to the cultivation of which he attended himself. To work in this garden was one of his most respectable pleasures; and Elizabeth admired the command of countenance with which Charlotte talked of the healthfulness of the exercise, and owned she encouraged it as much as possible. Here, leading the way through every walk and cross walk, and scarcely allowing them an interval to utter the praises he asked for, every view was pointed out with a minuteness which left beauty entirely behind. He could number the fields in every direction, and could tell how many trees there were in the most distant clump. But of all the views which his garden, or which the country or kingdom could boast, none were to be compared with the prospect of Rosings, afforded by an opening in the trees that bordered the park nearly opposite the front of his house. It was a handsome modern building, well situated on rising ground.',\n",
              " \"From his garden, Mr. Collins would have led them round his two meadows; but the ladies, not having shoes to encounter the remains of a white frost, turned back; and while Sir William accompanied him, Charlotte took her sister and friend over the house, extremely well pleased, probably, to have the opportunity of showing it without her husband's help. It was rather small, but well built and convenient; and everything was fitted up and arranged with a neatness and consistency of which Elizabeth gave Charlotte all the credit. When Mr. Collins could be forgotten, there was really an air of great comfort throughout, and by Charlotte's evident enjoyment of it, Elizabeth supposed he must be often forgotten.\",\n",
              " 'She had already learnt that Lady Catherine was still in the country. It was spoken of again while they were at dinner, when Mr. Collins joining in, observed:',\n",
              " '\"Yes, Miss Elizabeth, you will have the honour of seeing Lady Catherine de Bourgh on the ensuing Sunday at church, and I need not say you will be delighted with her. She is all affability and condescension, and I doubt not but you will be honoured with some portion of her notice when service is over. I have scarcely any hesitation in saying she will include you and my sister Maria in every invitation with which she honours us during your stay here. Her behaviour to my dear Charlotte is charming. We dine at Rosings twice every week, and are never allowed to walk home. Her ladyship\\'s carriage is regularly ordered for us. I _should_ say, one of her ladyship\\'s carriages, for she has several.\"',\n",
              " '\"Lady Catherine is a very respectable, sensible woman indeed,\" added Charlotte, \"and a most attentive neighbour.\"',\n",
              " '\"Very true, my dear, that is exactly what I say. She is the sort of woman whom one cannot regard with too much deference.\"',\n",
              " \"The evening was spent chiefly in talking over Hertfordshire news, and telling again what had already been written; and when it closed, Elizabeth, in the solitude of her chamber, had to meditate upon Charlotte's degree of contentment, to understand her address in guiding, and composure in bearing with, her husband, and to acknowledge that it was all done very well. She had also to anticipate how her visit would pass, the quiet tenor of their usual employments, the vexatious interruptions of Mr. Collins, and the gaieties of their intercourse with Rosings. A lively imagination soon settled it all.\",\n",
              " 'About the middle of the next day, as she was in her room getting ready for a walk, a sudden noise below seemed to speak the whole house in confusion; and, after listening a moment, she heard somebody running upstairs in a violent hurry, and calling loudly after her. She opened the door and met Maria in the landing place, who, breathless with agitation, cried out--',\n",
              " '\"Oh, my dear Eliza! pray make haste and come into the dining-room, for there is such a sight to be seen! I will not tell you what it is. Make haste, and come down this moment.\"',\n",
              " 'Elizabeth asked questions in vain; Maria would tell her nothing more, and down they ran into the dining-room, which fronted the lane, in quest of this wonder; It was two ladies stopping in a low phaeton at the garden gate.',\n",
              " '\"And is this all?\" cried Elizabeth. \"I expected at least that the pigs were got into the garden, and here is nothing but Lady Catherine and her daughter.\"',\n",
              " '\"La! my dear,\" said Maria, quite shocked at the mistake, \"it is not Lady Catherine. The old lady is Mrs. Jenkinson, who lives with them; the other is Miss de Bourgh. Only look at her. She is quite a little creature. Who would have thought that she could be so thin and small?\"',\n",
              " '\"She is abominably rude to keep Charlotte out of doors in all this wind. Why does she not come in?\"',\n",
              " '\"Oh, Charlotte says she hardly ever does. It is the greatest of favours when Miss de Bourgh comes in.\"',\n",
              " '\"I like her appearance,\" said Elizabeth, struck with other ideas. \"She looks sickly and cross. Yes, she will do for him very well. She will make him a very proper wife.\"',\n",
              " \"Mr. Collins and Charlotte were both standing at the gate in conversation with the ladies; and Sir William, to Elizabeth's high diversion, was stationed in the doorway, in earnest contemplation of the greatness before him, and constantly bowing whenever Miss de Bourgh looked that way.\",\n",
              " 'At length there was nothing more to be said; the ladies drove on, and the others returned into the house. Mr. Collins no sooner saw the two girls than he began to congratulate them on their good fortune, which Charlotte explained by letting them know that the whole party was asked to dine at Rosings the next day.',\n",
              " \"Mr. Collins's triumph, in consequence of this invitation, was complete. The power of displaying the grandeur of his patroness to his wondering visitors, and of letting them see her civility towards himself and his wife, was exactly what he had wished for; and that an opportunity of doing it should be given so soon, was such an instance of Lady Catherine's condescension, as he knew not how to admire enough.\",\n",
              " '\"I confess,\" said he, \"that I should not have been at all surprised by her ladyship\\'s asking us on Sunday to drink tea and spend the evening at Rosings. I rather expected, from my knowledge of her affability, that it would happen. But who could have foreseen such an attention as this? Who could have imagined that we should receive an invitation to dine there (an invitation, moreover, including the whole party) so immediately after your arrival!\"',\n",
              " '\"I am the less surprised at what has happened,\" replied Sir William, \"from that knowledge of what the manners of the great really are, which my situation in life has allowed me to acquire. About the court, such instances of elegant breeding are not uncommon.\"',\n",
              " 'Scarcely anything was talked of the whole day or next morning but their visit to Rosings. Mr. Collins was carefully instructing them in what they were to expect, that the sight of such rooms, so many servants, and so splendid a dinner, might not wholly overpower them.',\n",
              " 'When the ladies were separating for the toilette, he said to Elizabeth--',\n",
              " '\"Do not make yourself uneasy, my dear cousin, about your apparel. Lady Catherine is far from requiring that elegance of dress in us which becomes herself and her daughter. I would advise you merely to put on whatever of your clothes is superior to the rest--there is no occasion for anything more. Lady Catherine will not think the worse of you for being simply dressed. She likes to have the distinction of rank preserved.\"',\n",
              " \"While they were dressing, he came two or three times to their different doors, to recommend their being quick, as Lady Catherine very much objected to be kept waiting for her dinner. Such formidable accounts of her ladyship, and her manner of living, quite frightened Maria Lucas who had been little used to company, and she looked forward to her introduction at Rosings with as much apprehension as her father had done to his presentation at St. James's.\",\n",
              " 'As the weather was fine, they had a pleasant walk of about half a mile across the park. Every park has its beauty and its prospects; and Elizabeth saw much to be pleased with, though she could not be in such raptures as Mr. Collins expected the scene to inspire, and was but slightly affected by his enumeration of the windows in front of the house, and his relation of what the glazing altogether had originally cost Sir Lewis de Bourgh.',\n",
              " \"When they ascended the steps to the hall, Maria's alarm was every moment increasing, and even Sir William did not look perfectly calm. Elizabeth's courage did not fail her. She had heard nothing of Lady Catherine that spoke her awful from any extraordinary talents or miraculous virtue, and the mere stateliness of money or rank she thought she could witness without trepidation.\",\n",
              " 'From the entrance-hall, of which Mr. Collins pointed out, with a rapturous air, the fine proportion and the finished ornaments, they followed the servants through an ante-chamber, to the room where Lady Catherine, her daughter, and Mrs. Jenkinson were sitting. Her ladyship, with great condescension, arose to receive them; and as Mrs. Collins had settled it with her husband that the office of introduction should be hers, it was performed in a proper manner, without any of those apologies and thanks which he would have thought necessary.',\n",
              " \"In spite of having been at St. James's Sir William was so completely awed by the grandeur surrounding him, that he had but just courage enough to make a very low bow, and take his seat without saying a word; and his daughter, frightened almost out of her senses, sat on the edge of her chair, not knowing which way to look. Elizabeth found herself quite equal to the scene, and could observe the three ladies before her composedly. Lady Catherine was a tall, large woman, with strongly-marked features, which might once have been handsome. Her air was not conciliating, nor was her manner of receiving them such as to make her visitors forget their inferior rank. She was not rendered formidable by silence; but whatever she said was spoken in so authoritative a tone, as marked her self-importance, and brought Mr. Wickham immediately to Elizabeth's mind; and from the observation of the day altogether, she believed Lady Catherine to be exactly what he represented.\",\n",
              " \"When, after examining the mother, in whose countenance and deportment she soon found some resemblance of Mr. Darcy, she turned her eyes on the daughter, she could almost have joined in Maria's astonishment at her being so thin and so small. There was neither in figure nor face any likeness between the ladies. Miss de Bourgh was pale and sickly; her features, though not plain, were insignificant; and she spoke very little, except in a low voice, to Mrs. Jenkinson, in whose appearance there was nothing remarkable, and who was entirely engaged in listening to what she said, and placing a screen in the proper direction before her eyes.\",\n",
              " 'After sitting a few minutes, they were all sent to one of the windows to admire the view, Mr. Collins attending them to point out its beauties, and Lady Catherine kindly informing them that it was much better worth looking at in the summer.',\n",
              " \"The dinner was exceedingly handsome, and there were all the servants and all the articles of plate which Mr. Collins had promised; and, as he had likewise foretold, he took his seat at the bottom of the table, by her ladyship's desire, and looked as if he felt that life could furnish nothing greater. He carved, and ate, and praised with delighted alacrity; and every dish was commended, first by him and then by Sir William, who was now enough recovered to echo whatever his son-in-law said, in a manner which Elizabeth wondered Lady Catherine could bear. But Lady Catherine seemed gratified by their excessive admiration, and gave most gracious smiles, especially when any dish on the table proved a novelty to them. The party did not supply much conversation. Elizabeth was ready to speak whenever there was an opening, but she was seated between Charlotte and Miss de Bourgh--the former of whom was engaged in listening to Lady Catherine, and the latter said not a word to her all dinner-time. Mrs. Jenkinson was chiefly employed in watching how little Miss de Bourgh ate, pressing her to try some other dish, and fearing she was indisposed. Maria thought speaking out of the question, and the gentlemen did nothing but eat and admire.\",\n",
              " \"When the ladies returned to the drawing-room, there was little to be done but to hear Lady Catherine talk, which she did without any intermission till coffee came in, delivering her opinion on every subject in so decisive a manner, as proved that she was not used to have her judgement controverted. She inquired into Charlotte's domestic concerns familiarly and minutely, gave her a great deal of advice as to the management of them all; told her how everything ought to be regulated in so small a family as hers, and instructed her as to the care of her cows and her poultry. Elizabeth found that nothing was beneath this great lady's attention, which could furnish her with an occasion of dictating to others. In the intervals of her discourse with Mrs. Collins, she addressed a variety of questions to Maria and Elizabeth, but especially to the latter, of whose connections she knew the least, and who she observed to Mrs. Collins was a very genteel, pretty kind of girl. She asked her, at different times, how many sisters she had, whether they were older or younger than herself, whether any of them were likely to be married, whether they were handsome, where they had been educated, what carriage her father kept, and what had been her mother's maiden name? Elizabeth felt all the impertinence of her questions but answered them very composedly. Lady Catherine then observed,\",\n",
              " '\"Your father\\'s estate is entailed on Mr. Collins, I think. For your sake,\" turning to Charlotte, \"I am glad of it; but otherwise I see no occasion for entailing estates from the female line. It was not thought necessary in Sir Lewis de Bourgh\\'s family. Do you play and sing, Miss Bennet?\"',\n",
              " '\"A little.\"',\n",
              " '\"Oh! then--some time or other we shall be happy to hear you. Our instrument is a capital one, probably superior to----You shall try it some day. Do your sisters play and sing?\"',\n",
              " '\"One of them does.\"',\n",
              " '\"Why did not you all learn? You ought all to have learned. The Miss Webbs all play, and their father has not so good an income as yours. Do you draw?\"',\n",
              " '\"No, not at all.\"',\n",
              " '\"What, none of you?\"',\n",
              " '\"Not one.\"',\n",
              " '\"That is very strange. But I suppose you had no opportunity. Your mother should have taken you to town every spring for the benefit of masters.\"',\n",
              " '\"My mother would have had no objection, but my father hates London.\"',\n",
              " '\"Has your governess left you?\"',\n",
              " '\"We never had any governess.\"',\n",
              " '\"No governess! How was that possible? Five daughters brought up at home without a governess! I never heard of such a thing. Your mother must have been quite a slave to your education.\"',\n",
              " 'Elizabeth could hardly help smiling as she assured her that had not been the case.',\n",
              " '\"Then, who taught you? who attended to you? Without a governess, you must have been neglected.\"',\n",
              " '\"Compared with some families, I believe we were; but such of us as wished to learn never wanted the means. We were always encouraged to read, and had all the masters that were necessary. Those who chose to be idle, certainly might.\"',\n",
              " '\"Aye, no doubt; but that is what a governess will prevent, and if I had known your mother, I should have advised her most strenuously to engage one. I always say that nothing is to be done in education without steady and regular instruction, and nobody but a governess can give it. It is wonderful how many families I have been the means of supplying in that way. I am always glad to get a young person well placed out. Four nieces of Mrs. Jenkinson are most delightfully situated through my means; and it was but the other day that I recommended another young person, who was merely accidentally mentioned to me, and the family are quite delighted with her. Mrs. Collins, did I tell you of Lady Metcalf\\'s calling yesterday to thank me? She finds Miss Pope a treasure. \\'Lady Catherine,\\' said she, \\'you have given me a treasure.\\' Are any of your younger sisters out, Miss Bennet?\"',\n",
              " '\"Yes, ma\\'am, all.\"',\n",
              " '\"All! What, all five out at once? Very odd! And you only the second. The younger ones out before the elder ones are married! Your younger sisters must be very young?\"',\n",
              " '\"Yes, my youngest is not sixteen. Perhaps _she_ is full young to be much in company. But really, ma\\'am, I think it would be very hard upon younger sisters, that they should not have their share of society and amusement, because the elder may not have the means or inclination to marry early. The last-born has as good a right to the pleasures of youth at the first. And to be kept back on _such_ a motive! I think it would not be very likely to promote sisterly affection or delicacy of mind.\"',\n",
              " '\"Upon my word,\" said her ladyship, \"you give your opinion very decidedly for so young a person. Pray, what is your age?\"',\n",
              " '\"With three younger sisters grown up,\" replied Elizabeth, smiling, \"your ladyship can hardly expect me to own it.\"',\n",
              " 'Lady Catherine seemed quite astonished at not receiving a direct answer; and Elizabeth suspected herself to be the first creature who had ever dared to trifle with so much dignified impertinence.',\n",
              " '\"You cannot be more than twenty, I am sure, therefore you need not conceal your age.\"',\n",
              " '\"I am not one-and-twenty.\"',\n",
              " \"When the gentlemen had joined them, and tea was over, the card-tables were placed. Lady Catherine, Sir William, and Mr. and Mrs. Collins sat down to quadrille; and as Miss de Bourgh chose to play at cassino, the two girls had the honour of assisting Mrs. Jenkinson to make up her party. Their table was superlatively stupid. Scarcely a syllable was uttered that did not relate to the game, except when Mrs. Jenkinson expressed her fears of Miss de Bourgh's being too hot or too cold, or having too much or too little light. A great deal more passed at the other table. Lady Catherine was generally speaking--stating the mistakes of the three others, or relating some anecdote of herself. Mr. Collins was employed in agreeing to everything her ladyship said, thanking her for every fish he won, and apologising if he thought he won too many. Sir William did not say much. He was storing his memory with anecdotes and noble names.\",\n",
              " \"When Lady Catherine and her daughter had played as long as they chose, the tables were broken up, the carriage was offered to Mrs. Collins, gratefully accepted and immediately ordered. The party then gathered round the fire to hear Lady Catherine determine what weather they were to have on the morrow. From these instructions they were summoned by the arrival of the coach; and with many speeches of thankfulness on Mr. Collins's side and as many bows on Sir William's they departed. As soon as they had driven from the door, Elizabeth was called on by her cousin to give her opinion of all that she had seen at Rosings, which, for Charlotte's sake, she made more favourable than it really was. But her commendation, though costing her some trouble, could by no means satisfy Mr. Collins, and he was very soon obliged to take her ladyship's praise into his own hands.\",\n",
              " \"Sir William stayed only a week at Hunsford, but his visit was long enough to convince him of his daughter's being most comfortably settled, and of her possessing such a husband and such a neighbour as were not often met with. While Sir William was with them, Mr. Collins devoted his morning to driving him out in his gig, and showing him the country; but when he went away, the whole family returned to their usual employments, and Elizabeth was thankful to find that they did not see more of her cousin by the alteration, for the chief of the time between breakfast and dinner was now passed by him either at work in the garden or in reading and writing, and looking out of the window in his own book-room, which fronted the road. The room in which the ladies sat was backwards. Elizabeth had at first rather wondered that Charlotte should not prefer the dining-parlour for common use; it was a better sized room, and had a more pleasant aspect; but she soon saw that her friend had an excellent reason for what she did, for Mr. Collins would undoubtedly have been much less in his own apartment, had they sat in one equally lively; and she gave Charlotte credit for the arrangement.\",\n",
              " \"From the drawing-room they could distinguish nothing in the lane, and were indebted to Mr. Collins for the knowledge of what carriages went along, and how often especially Miss de Bourgh drove by in her phaeton, which he never failed coming to inform them of, though it happened almost every day. She not unfrequently stopped at the Parsonage, and had a few minutes' conversation with Charlotte, but was scarcely ever prevailed upon to get out.\",\n",
              " \"Very few days passed in which Mr. Collins did not walk to Rosings, and not many in which his wife did not think it necessary to go likewise; and till Elizabeth recollected that there might be other family livings to be disposed of, she could not understand the sacrifice of so many hours. Now and then they were honoured with a call from her ladyship, and nothing escaped her observation that was passing in the room during these visits. She examined into their employments, looked at their work, and advised them to do it differently; found fault with the arrangement of the furniture; or detected the housemaid in negligence; and if she accepted any refreshment, seemed to do it only for the sake of finding out that Mrs. Collins's joints of meat were too large for her family.\",\n",
              " 'Elizabeth soon perceived, that though this great lady was not in commission of the peace of the county, she was a most active magistrate in her own parish, the minutest concerns of which were carried to her by Mr. Collins; and whenever any of the cottagers were disposed to be quarrelsome, discontented, or too poor, she sallied forth into the village to settle their differences, silence their complaints, and scold them into harmony and plenty.',\n",
              " \"The entertainment of dining at Rosings was repeated about twice a week; and, allowing for the loss of Sir William, and there being only one card-table in the evening, every such entertainment was the counterpart of the first. Their other engagements were few, as the style of living in the neighbourhood in general was beyond Mr. Collins's reach. This, however, was no evil to Elizabeth, and upon the whole she spent her time comfortably enough; there were half-hours of pleasant conversation with Charlotte, and the weather was so fine for the time of year that she had often great enjoyment out of doors. Her favourite walk, and where she frequently went while the others were calling on Lady Catherine, was along the open grove which edged that side of the park, where there was a nice sheltered path, which no one seemed to value but herself, and where she felt beyond the reach of Lady Catherine's curiosity.\",\n",
              " \"In this quiet way, the first fortnight of her visit soon passed away. Easter was approaching, and the week preceding it was to bring an addition to the family at Rosings, which in so small a circle must be important. Elizabeth had heard soon after her arrival that Mr. Darcy was expected there in the course of a few weeks, and though there were not many of her acquaintances whom she did not prefer, his coming would furnish one comparatively new to look at in their Rosings parties, and she might be amused in seeing how hopeless Miss Bingley's designs on him were, by his behaviour to his cousin, for whom he was evidently destined by Lady Catherine, who talked of his coming with the greatest satisfaction, spoke of him in terms of the highest admiration, and seemed almost angry to find that he had already been frequently seen by Miss Lucas and herself.\",\n",
              " \"His arrival was soon known at the Parsonage; for Mr. Collins was walking the whole morning within view of the lodges opening into Hunsford Lane, in order to have the earliest assurance of it, and after making his bow as the carriage turned into the Park, hurried home with the great intelligence. On the following morning he hastened to Rosings to pay his respects. There were two nephews of Lady Catherine to require them, for Mr. Darcy had brought with him a Colonel Fitzwilliam, the younger son of his uncle Lord ----, and, to the great surprise of all the party, when Mr. Collins returned, the gentlemen accompanied him. Charlotte had seen them from her husband's room, crossing the road, and immediately running into the other, told the girls what an honour they might expect, adding:\",\n",
              " '\"I may thank you, Eliza, for this piece of civility. Mr. Darcy would never have come so soon to wait upon me.\"',\n",
              " 'Elizabeth had scarcely time to disclaim all right to the compliment, before their approach was announced by the door-bell, and shortly afterwards the three gentlemen entered the room. Colonel Fitzwilliam, who led the way, was about thirty, not handsome, but in person and address most truly the gentleman. Mr. Darcy looked just as he had been used to look in Hertfordshire--paid his compliments, with his usual reserve, to Mrs. Collins, and whatever might be his feelings toward her friend, met her with every appearance of composure. Elizabeth merely curtseyed to him without saying a word.',\n",
              " \"Colonel Fitzwilliam entered into conversation directly with the readiness and ease of a well-bred man, and talked very pleasantly; but his cousin, after having addressed a slight observation on the house and garden to Mrs. Collins, sat for some time without speaking to anybody. At length, however, his civility was so far awakened as to inquire of Elizabeth after the health of her family. She answered him in the usual way, and after a moment's pause, added:\",\n",
              " '\"My eldest sister has been in town these three months. Have you never happened to see her there?\"',\n",
              " 'She was perfectly sensible that he never had; but she wished to see whether he would betray any consciousness of what had passed between the Bingleys and Jane, and she thought he looked a little confused as he answered that he had never been so fortunate as to meet Miss Bennet. The subject was pursued no farther, and the gentlemen soon afterwards went away.',\n",
              " \"Colonel Fitzwilliam's manners were very much admired at the Parsonage, and the ladies all felt that he must add considerably to the pleasures of their engagements at Rosings. It was some days, however, before they received any invitation thither--for while there were visitors in the house, they could not be necessary; and it was not till Easter-day, almost a week after the gentlemen's arrival, that they were honoured by such an attention, and then they were merely asked on leaving church to come there in the evening. For the last week they had seen very little of Lady Catherine or her daughter. Colonel Fitzwilliam had called at the Parsonage more than once during the time, but Mr. Darcy they had seen only at church.\",\n",
              " \"The invitation was accepted of course, and at a proper hour they joined the party in Lady Catherine's drawing-room. Her ladyship received them civilly, but it was plain that their company was by no means so acceptable as when she could get nobody else; and she was, in fact, almost engrossed by her nephews, speaking to them, especially to Darcy, much more than to any other person in the room.\",\n",
              " \"Colonel Fitzwilliam seemed really glad to see them; anything was a welcome relief to him at Rosings; and Mrs. Collins's pretty friend had moreover caught his fancy very much. He now seated himself by her, and talked so agreeably of Kent and Hertfordshire, of travelling and staying at home, of new books and music, that Elizabeth had never been half so well entertained in that room before; and they conversed with so much spirit and flow, as to draw the attention of Lady Catherine herself, as well as of Mr. Darcy. _His_ eyes had been soon and repeatedly turned towards them with a look of curiosity; and that her ladyship, after a while, shared the feeling, was more openly acknowledged, for she did not scruple to call out:\",\n",
              " '\"What is that you are saying, Fitzwilliam? What is it you are talking of? What are you telling Miss Bennet? Let me hear what it is.\"',\n",
              " '\"We are speaking of music, madam,\" said he, when no longer able to avoid a reply.',\n",
              " '\"Of music! Then pray speak aloud. It is of all subjects my delight. I must have my share in the conversation if you are speaking of music. There are few people in England, I suppose, who have more true enjoyment of music than myself, or a better natural taste. If I had ever learnt, I should have been a great proficient. And so would Anne, if her health had allowed her to apply. I am confident that she would have performed delightfully. How does Georgiana get on, Darcy?\"',\n",
              " \"Mr. Darcy spoke with affectionate praise of his sister's proficiency.\",\n",
              " '\"I am very glad to hear such a good account of her,\" said Lady Catherine; \"and pray tell her from me, that she cannot expect to excel if she does not practice a good deal.\"',\n",
              " '\"I assure you, madam,\" he replied, \"that she does not need such advice. She practises very constantly.\"',\n",
              " '\"So much the better. It cannot be done too much; and when I next write to her, I shall charge her not to neglect it on any account. I often tell young ladies that no excellence in music is to be acquired without constant practice. I have told Miss Bennet several times, that she will never play really well unless she practises more; and though Mrs. Collins has no instrument, she is very welcome, as I have often told her, to come to Rosings every day, and play on the pianoforte in Mrs. Jenkinson\\'s room. She would be in nobody\\'s way, you know, in that part of the house.\"',\n",
              " \"Mr. Darcy looked a little ashamed of his aunt's ill-breeding, and made no answer.\",\n",
              " \"When coffee was over, Colonel Fitzwilliam reminded Elizabeth of having promised to play to him; and she sat down directly to the instrument. He drew a chair near her. Lady Catherine listened to half a song, and then talked, as before, to her other nephew; till the latter walked away from her, and making with his usual deliberation towards the pianoforte stationed himself so as to command a full view of the fair performer's countenance. Elizabeth saw what he was doing, and at the first convenient pause, turned to him with an arch smile, and said:\",\n",
              " '\"You mean to frighten me, Mr. Darcy, by coming in all this state to hear me? I will not be alarmed though your sister _does_ play so well. There is a stubbornness about me that never can bear to be frightened at the will of others. My courage always rises at every attempt to intimidate me.\"',\n",
              " '\"I shall not say you are mistaken,\" he replied, \"because you could not really believe me to entertain any design of alarming you; and I have had the pleasure of your acquaintance long enough to know that you find great enjoyment in occasionally professing opinions which in fact are not your own.\"',\n",
              " 'Elizabeth laughed heartily at this picture of herself, and said to Colonel Fitzwilliam, \"Your cousin will give you a very pretty notion of me, and teach you not to believe a word I say. I am particularly unlucky in meeting with a person so able to expose my real character, in a part of the world where I had hoped to pass myself off with some degree of credit. Indeed, Mr. Darcy, it is very ungenerous in you to mention all that you knew to my disadvantage in Hertfordshire--and, give me leave to say, very impolitic too--for it is provoking me to retaliate, and such things may come out as will shock your relations to hear.\"',\n",
              " '\"I am not afraid of you,\" said he, smilingly.',\n",
              " '\"Pray let me hear what you have to accuse him of,\" cried Colonel Fitzwilliam. \"I should like to know how he behaves among strangers.\"',\n",
              " '\"You shall hear then--but prepare yourself for something very dreadful. The first time of my ever seeing him in Hertfordshire, you must know, was at a ball--and at this ball, what do you think he did? He danced only four dances, though gentlemen were scarce; and, to my certain knowledge, more than one young lady was sitting down in want of a partner. Mr. Darcy, you cannot deny the fact.\"',\n",
              " '\"I had not at that time the honour of knowing any lady in the assembly beyond my own party.\"',\n",
              " '\"True; and nobody can ever be introduced in a ball-room. Well, Colonel Fitzwilliam, what do I play next? My fingers wait your orders.\"',\n",
              " '\"Perhaps,\" said Darcy, \"I should have judged better, had I sought an introduction; but I am ill-qualified to recommend myself to strangers.\"',\n",
              " '\"Shall we ask your cousin the reason of this?\" said Elizabeth, still addressing Colonel Fitzwilliam. \"Shall we ask him why a man of sense and education, and who has lived in the world, is ill qualified to recommend himself to strangers?\"',\n",
              " '\"I can answer your question,\" said Fitzwilliam, \"without applying to him. It is because he will not give himself the trouble.\"',\n",
              " '\"I certainly have not the talent which some people possess,\" said Darcy, \"of conversing easily with those I have never seen before. I cannot catch their tone of conversation, or appear interested in their concerns, as I often see done.\"',\n",
              " '\"My fingers,\" said Elizabeth, \"do not move over this instrument in the masterly manner which I see so many women\\'s do. They have not the same force or rapidity, and do not produce the same expression. But then I have always supposed it to be my own fault--because I will not take the trouble of practising. It is not that I do not believe _my_ fingers as capable as any other woman\\'s of superior execution.\"',\n",
              " 'Darcy smiled and said, \"You are perfectly right. You have employed your time much better. No one admitted to the privilege of hearing you can think anything wanting. We neither of us perform to strangers.\"',\n",
              " 'Here they were interrupted by Lady Catherine, who called out to know what they were talking of. Elizabeth immediately began playing again. Lady Catherine approached, and, after listening for a few minutes, said to Darcy:',\n",
              " '\"Miss Bennet would not play at all amiss if she practised more, and could have the advantage of a London master. She has a very good notion of fingering, though her taste is not equal to Anne\\'s. Anne would have been a delightful performer, had her health allowed her to learn.\"',\n",
              " \"Elizabeth looked at Darcy to see how cordially he assented to his cousin's praise; but neither at that moment nor at any other could she discern any symptom of love; and from the whole of his behaviour to Miss de Bourgh she derived this comfort for Miss Bingley, that he might have been just as likely to marry _her_, had she been his relation.\",\n",
              " \"Lady Catherine continued her remarks on Elizabeth's performance, mixing with them many instructions on execution and taste. Elizabeth received them with all the forbearance of civility, and, at the request of the gentlemen, remained at the instrument till her ladyship's carriage was ready to take them all home.\",\n",
              " 'Elizabeth was sitting by herself the next morning, and writing to Jane while Mrs. Collins and Maria were gone on business into the village, when she was startled by a ring at the door, the certain signal of a visitor. As she had heard no carriage, she thought it not unlikely to be Lady Catherine, and under that apprehension was putting away her half-finished letter that she might escape all impertinent questions, when the door opened, and, to her very great surprise, Mr. Darcy, and Mr. Darcy only, entered the room.',\n",
              " 'He seemed astonished too on finding her alone, and apologised for his intrusion by letting her know that he had understood all the ladies were to be within.',\n",
              " 'They then sat down, and when her inquiries after Rosings were made, seemed in danger of sinking into total silence. It was absolutely necessary, therefore, to think of something, and in this emergence recollecting _when_ she had seen him last in Hertfordshire, and feeling curious to know what he would say on the subject of their hasty departure, she observed:',\n",
              " '\"How very suddenly you all quitted Netherfield last November, Mr. Darcy! It must have been a most agreeable surprise to Mr. Bingley to see you all after him so soon; for, if I recollect right, he went but the day before. He and his sisters were well, I hope, when you left London?\"',\n",
              " '\"Perfectly so, I thank you.\"',\n",
              " 'She found that she was to receive no other answer, and, after a short pause added:',\n",
              " '\"I think I have understood that Mr. Bingley has not much idea of ever returning to Netherfield again?\"',\n",
              " '\"I have never heard him say so; but it is probable that he may spend very little of his time there in the future. He has many friends, and is at a time of life when friends and engagements are continually increasing.\"',\n",
              " '\"If he means to be but little at Netherfield, it would be better for the neighbourhood that he should give up the place entirely, for then we might possibly get a settled family there. But, perhaps, Mr. Bingley did not take the house so much for the convenience of the neighbourhood as for his own, and we must expect him to keep it or quit it on the same principle.\"',\n",
              " '\"I should not be surprised,\" said Darcy, \"if he were to give it up as soon as any eligible purchase offers.\"',\n",
              " 'Elizabeth made no answer. She was afraid of talking longer of his friend; and, having nothing else to say, was now determined to leave the trouble of finding a subject to him.',\n",
              " 'He took the hint, and soon began with, \"This seems a very comfortable house. Lady Catherine, I believe, did a great deal to it when Mr. Collins first came to Hunsford.\"',\n",
              " '\"I believe she did--and I am sure she could not have bestowed her kindness on a more grateful object.\"',\n",
              " '\"Mr. Collins appears to be very fortunate in his choice of a wife.\"',\n",
              " '\"Yes, indeed, his friends may well rejoice in his having met with one of the very few sensible women who would have accepted him, or have made him happy if they had. My friend has an excellent understanding--though I am not certain that I consider her marrying Mr. Collins as the wisest thing she ever did. She seems perfectly happy, however, and in a prudential light it is certainly a very good match for her.\"',\n",
              " '\"It must be very agreeable for her to be settled within so easy a distance of her own family and friends.\"',\n",
              " '\"An easy distance, do you call it? It is nearly fifty miles.\"',\n",
              " '\"And what is fifty miles of good road? Little more than half a day\\'s journey. Yes, I call it a _very_ easy distance.\"',\n",
              " '\"I should never have considered the distance as one of the _advantages_ of the match,\" cried Elizabeth. \"I should never have said Mrs. Collins was settled _near_ her family.\"',\n",
              " '\"It is a proof of your own attachment to Hertfordshire. Anything beyond the very neighbourhood of Longbourn, I suppose, would appear far.\"',\n",
              " 'As he spoke there was a sort of smile which Elizabeth fancied she understood; he must be supposing her to be thinking of Jane and Netherfield, and she blushed as she answered:',\n",
              " '\"I do not mean to say that a woman may not be settled too near her family. The far and the near must be relative, and depend on many varying circumstances. Where there is fortune to make the expenses of travelling unimportant, distance becomes no evil. But that is not the case _here_. Mr. and Mrs. Collins have a comfortable income, but not such a one as will allow of frequent journeys--and I am persuaded my friend would not call herself _near_ her family under less than _half_ the present distance.\"',\n",
              " 'Mr. Darcy drew his chair a little towards her, and said, \"_You_ cannot have a right to such very strong local attachment. _You_ cannot have been always at Longbourn.\"',\n",
              " 'Elizabeth looked surprised. The gentleman experienced some change of feeling; he drew back his chair, took a newspaper from the table, and glancing over it, said, in a colder voice:',\n",
              " '\"Are you pleased with Kent?\"',\n",
              " 'A short dialogue on the subject of the country ensued, on either side calm and concise--and soon put an end to by the entrance of Charlotte and her sister, just returned from her walk. The tete-a-tete surprised them. Mr. Darcy related the mistake which had occasioned his intruding on Miss Bennet, and after sitting a few minutes longer without saying much to anybody, went away.',\n",
              " '\"What can be the meaning of this?\" said Charlotte, as soon as he was gone. \"My dear, Eliza, he must be in love with you, or he would never have called us in this familiar way.\"',\n",
              " \"But when Elizabeth told of his silence; it did not seem very likely, even to Charlotte's wishes, to be the case; and after various conjectures, they could at last only suppose his visit to proceed from the difficulty of finding anything to do, which was the more probable from the time of year. All field sports were over. Within doors there was Lady Catherine, books, and a billiard-table, but gentlemen cannot always be within doors; and in the nearness of the Parsonage, or the pleasantness of the walk to it, or of the people who lived in it, the two cousins found a temptation from this period of walking thither almost every day. They called at various times of the morning, sometimes separately, sometimes together, and now and then accompanied by their aunt. It was plain to them all that Colonel Fitzwilliam came because he had pleasure in their society, a persuasion which of course recommended him still more; and Elizabeth was reminded by her own satisfaction in being with him, as well as by his evident admiration of her, of her former favourite George Wickham; and though, in comparing them, she saw there was less captivating softness in Colonel Fitzwilliam's manners, she believed he might have the best informed mind.\",\n",
              " \"But why Mr. Darcy came so often to the Parsonage, it was more difficult to understand. It could not be for society, as he frequently sat there ten minutes together without opening his lips; and when he did speak, it seemed the effect of necessity rather than of choice--a sacrifice to propriety, not a pleasure to himself. He seldom appeared really animated. Mrs. Collins knew not what to make of him. Colonel Fitzwilliam's occasionally laughing at his stupidity, proved that he was generally different, which her own knowledge of him could not have told her; and as she would liked to have believed this change the effect of love, and the object of that love her friend Eliza, she set herself seriously to work to find it out. She watched him whenever they were at Rosings, and whenever he came to Hunsford; but without much success. He certainly looked at her friend a great deal, but the expression of that look was disputable. It was an earnest, steadfast gaze, but she often doubted whether there were much admiration in it, and sometimes it seemed nothing but absence of mind.\",\n",
              " \"She had once or twice suggested to Elizabeth the possibility of his being partial to her, but Elizabeth always laughed at the idea; and Mrs. Collins did not think it right to press the subject, from the danger of raising expectations which might only end in disappointment; for in her opinion it admitted not of a doubt, that all her friend's dislike would vanish, if she could suppose him to be in her power.\",\n",
              " 'In her kind schemes for Elizabeth, she sometimes planned her marrying Colonel Fitzwilliam. He was beyond comparison the most pleasant man; he certainly admired her, and his situation in life was most eligible; but, to counterbalance these advantages, Mr. Darcy had considerable patronage in the church, and his cousin could have none at all.',\n",
              " \"More than once did Elizabeth, in her ramble within the park, unexpectedly meet Mr. Darcy. She felt all the perverseness of the mischance that should bring him where no one else was brought, and, to prevent its ever happening again, took care to inform him at first that it was a favourite haunt of hers. How it could occur a second time, therefore, was very odd! Yet it did, and even a third. It seemed like wilful ill-nature, or a voluntary penance, for on these occasions it was not merely a few formal inquiries and an awkward pause and then away, but he actually thought it necessary to turn back and walk with her. He never said a great deal, nor did she give herself the trouble of talking or of listening much; but it struck her in the course of their third rencontre that he was asking some odd unconnected questions--about her pleasure in being at Hunsford, her love of solitary walks, and her opinion of Mr. and Mrs. Collins's happiness; and that in speaking of Rosings and her not perfectly understanding the house, he seemed to expect that whenever she came into Kent again she would be staying _there_ too. His words seemed to imply it. Could he have Colonel Fitzwilliam in his thoughts? She supposed, if he meant anything, he must mean an allusion to what might arise in that quarter. It distressed her a little, and she was quite glad to find herself at the gate in the pales opposite the Parsonage.\",\n",
              " \"She was engaged one day as she walked, in perusing Jane's last letter, and dwelling on some passages which proved that Jane had not written in spirits, when, instead of being again surprised by Mr. Darcy, she saw on looking up that Colonel Fitzwilliam was meeting her. Putting away the letter immediately and forcing a smile, she said:\",\n",
              " '\"I did not know before that you ever walked this way.\"',\n",
              " '\"I have been making the tour of the park,\" he replied, \"as I generally do every year, and intend to close it with a call at the Parsonage. Are you going much farther?\"',\n",
              " ...]"
            ]
          },
          "metadata": {
            "tags": []
          },
          "execution_count": 10
        }
      ]
    },
    {
      "cell_type": "markdown",
      "metadata": {
        "id": "hQ1oK0kXaV5p"
      },
      "source": [
        "We need to get an idea of how long our training documents are.\n",
        "\n",
        "I'm not going to use the same tokenizer as the GPT2 one, which is a [byte pair encoding tokenizer](https://blog.floydhub.com/tokenization-nlp/). Instead, I'm using a simple one just to get a rough understanding."
      ]
    },
    {
      "cell_type": "code",
      "metadata": {
        "id": "cKsH2sU0OCQA",
        "colab": {
          "base_uri": "https://localhost:8080/",
          "height": 336
        },
        "outputId": "1d860b7a-5c44-44ce-cdc2-f271153fb585"
      },
      "source": [
        "doc_lengths = []\n",
        "\n",
        "for bio in bios:\n",
        "\n",
        "    # get rough token count distribution\n",
        "    tokens = nltk.word_tokenize(bio)\n",
        "\n",
        "    doc_lengths.append(len(tokens))\n",
        "\n",
        "doc_lengths = np.array(doc_lengths)\n",
        "\n",
        "sns.distplot(doc_lengths)"
      ],
      "execution_count": 11,
      "outputs": [
        {
          "output_type": "stream",
          "text": [
            "/usr/local/lib/python3.7/dist-packages/seaborn/distributions.py:2557: FutureWarning: `distplot` is a deprecated function and will be removed in a future version. Please adapt your code to use either `displot` (a figure-level function with similar flexibility) or `histplot` (an axes-level function for histograms).\n",
            "  warnings.warn(msg, FutureWarning)\n"
          ],
          "name": "stderr"
        },
        {
          "output_type": "execute_result",
          "data": {
            "text/plain": [
              "<matplotlib.axes._subplots.AxesSubplot at 0x7f5eb0ee5e90>"
            ]
          },
          "metadata": {
            "tags": []
          },
          "execution_count": 11
        },
        {
          "output_type": "display_data",
          "data": {
            "image/png": "[encoded data removed]",
            "text/plain": [
              "<Figure size 432x288 with 1 Axes>"
            ]
          },
          "metadata": {
            "tags": [],
            "needs_background": "light"
          }
        }
      ]
    },
    {
      "cell_type": "code",
      "metadata": {
        "id": "u6P6bTItJEIj",
        "colab": {
          "base_uri": "https://localhost:8080/"
        },
        "outputId": "1628f372-c4bf-4ae7-8236-647141419cd6"
      },
      "source": [
        "# the max token length   \n",
        "len(doc_lengths[doc_lengths > 768])/len(doc_lengths)"
      ],
      "execution_count": 12,
      "outputs": [
        {
          "output_type": "execute_result",
          "data": {
            "text/plain": [
              "0.0004847309743092584"
            ]
          },
          "metadata": {
            "tags": []
          },
          "execution_count": 12
        }
      ]
    },
    {
      "cell_type": "code",
      "metadata": {
        "id": "63t_69HjlwAj",
        "colab": {
          "base_uri": "https://localhost:8080/"
        },
        "outputId": "7d99fc57-4b6a-4eb8-e1ad-eba6f859826c"
      },
      "source": [
        "np.average(doc_lengths)"
      ],
      "execution_count": 13,
      "outputs": [
        {
          "output_type": "execute_result",
          "data": {
            "text/plain": [
              "69.48715462918081"
            ]
          },
          "metadata": {
            "tags": []
          },
          "execution_count": 13
        }
      ]
    },
    {
      "cell_type": "markdown",
      "metadata": {
        "id": "Tuq5bqdr4_a6"
      },
      "source": [
        "Even though these token counts won't match up to the BPE tokenizer's, I'm confident that most bios will be fit under the 768 embedding size limit for the small GPT2 model."
      ]
    },
    {
      "cell_type": "markdown",
      "metadata": {
        "id": "cMml12FJGjPW"
      },
      "source": [
        "# GPT2 Tokenizer"
      ]
    },
    {
      "cell_type": "markdown",
      "metadata": {
        "id": "ANJhbBwdxN-b"
      },
      "source": [
        "Although the defaults take care of this,I thought I'd show that you can specify some of the special tokens. "
      ]
    },
    {
      "cell_type": "code",
      "metadata": {
        "id": "Z474sSC6oe7A",
        "colab": {
          "base_uri": "https://localhost:8080/",
          "height": 201,
          "referenced_widgets": [
            "b040df67f22341d2a1a6659b068be9ce",
            "09f3f6db79e44c18aa2fe7d61bfc709f",
            "da24027b10184e07ae3c1465436131b4",
            "7bffabf311b74048a26cce0977c64ec1",
            "9ec36e8390534dceb260214a6f73df26",
            "5a48f54240024c8fabf01654f828a373",
            "3cbf7c30a1e044f28432b38157f3ed94",
            "fc34b9018b3a4f20ab2bac44161b26c0",
            "211b18071e80418c9e31f3d710908255",
            "d116ced1e6c64c27bc03f17f0abd6264",
            "8fcf65a793aa45879e53361bb146b123",
            "dba6386834a54e7dad2cf961baeada75",
            "65702e35f15a44d6b8efb57b87dd092b",
            "6b0ebbeea3e5496290b9cb392e1e44cb",
            "ba4d54b3b7ae43ef80bfa363d0c92e7d",
            "530ff01872ca45f684898a859639bc5a",
            "2fdf7c9acaa04801b488a42b4894c4fe",
            "94cbe9fc6aa7405693450f8fd88101b6",
            "932af4ad04b24b6d91a9211222a87cfa",
            "e93fd8e586e548cd884784a2e618ab1a",
            "3e9debc7a3724fd2a2c63f244c5074e2",
            "a0f02988875b41b4bf5258cedb12e929",
            "ade4bce17a464e28844b60492bb229de",
            "f21ae27c32fb43258106fa8807f157cb"
          ]
        },
        "outputId": "1a7f74dd-0036-41e8-89e1-b2e1743f0075"
      },
      "source": [
        "# Load the GPT tokenizer.\n",
        "tokenizer = GPT2Tokenizer.from_pretrained('gpt2', bos_token='<|startoftext|>', eos_token='<|endoftext|>', pad_token='<|pad|>') #gpt2-medium\n"
      ],
      "execution_count": 14,
      "outputs": [
        {
          "output_type": "display_data",
          "data": {
            "application/vnd.jupyter.widget-view+json": {
              "model_id": "b040df67f22341d2a1a6659b068be9ce",
              "version_minor": 0,
              "version_major": 2
            },
            "text/plain": [
              "HBox(children=(FloatProgress(value=0.0, description='Downloading', max=1042301.0, style=ProgressStyle(descript…"
            ]
          },
          "metadata": {
            "tags": []
          }
        },
        {
          "output_type": "stream",
          "text": [
            "\n"
          ],
          "name": "stdout"
        },
        {
          "output_type": "display_data",
          "data": {
            "application/vnd.jupyter.widget-view+json": {
              "model_id": "211b18071e80418c9e31f3d710908255",
              "version_minor": 0,
              "version_major": 2
            },
            "text/plain": [
              "HBox(children=(FloatProgress(value=0.0, description='Downloading', max=456318.0, style=ProgressStyle(descripti…"
            ]
          },
          "metadata": {
            "tags": []
          }
        },
        {
          "output_type": "stream",
          "text": [
            "\n"
          ],
          "name": "stdout"
        },
        {
          "output_type": "display_data",
          "data": {
            "application/vnd.jupyter.widget-view+json": {
              "model_id": "2fdf7c9acaa04801b488a42b4894c4fe",
              "version_minor": 0,
              "version_major": 2
            },
            "text/plain": [
              "HBox(children=(FloatProgress(value=0.0, description='Downloading', max=1355256.0, style=ProgressStyle(descript…"
            ]
          },
          "metadata": {
            "tags": []
          }
        },
        {
          "output_type": "stream",
          "text": [
            "Special tokens have been added in the vocabulary, make sure the associated word embedding are fine-tuned or trained.\n"
          ],
          "name": "stderr"
        },
        {
          "output_type": "stream",
          "text": [
            "\n"
          ],
          "name": "stdout"
        }
      ]
    },
    {
      "cell_type": "code",
      "metadata": {
        "id": "sh0XKuDvnryn",
        "colab": {
          "base_uri": "https://localhost:8080/"
        },
        "outputId": "35ecbaf9-08f4-4218-add6-00b1aa8ac78e"
      },
      "source": [
        "print(\"The max model length is {} for this model, although the actual embedding size for GPT small is 768\".format(tokenizer.model_max_length))\n",
        "print(\"The beginning of sequence token {} token has the id {}\".format(tokenizer.convert_ids_to_tokens(tokenizer.bos_token_id), tokenizer.bos_token_id))\n",
        "print(\"The end of sequence token {} has the id {}\".format(tokenizer.convert_ids_to_tokens(tokenizer.eos_token_id), tokenizer.eos_token_id))\n",
        "print(\"The padding token {} has the id {}\".format(tokenizer.convert_ids_to_tokens(tokenizer.pad_token_id), tokenizer.pad_token_id))"
      ],
      "execution_count": 15,
      "outputs": [
        {
          "output_type": "stream",
          "text": [
            "The max model length is 1024 for this model, although the actual embedding size for GPT small is 768\n",
            "The beginning of sequence token <|startoftext|> token has the id 50257\n",
            "The end of sequence token <|endoftext|> has the id 50256\n",
            "The padding token <|pad|> has the id 50258\n"
          ],
          "name": "stdout"
        }
      ]
    },
    {
      "cell_type": "markdown",
      "metadata": {
        "id": "ex5O1eV-Pfct"
      },
      "source": [
        "# PyTorch Datasets & Dataloaders\n"
      ]
    },
    {
      "cell_type": "markdown",
      "metadata": {
        "id": "3lgZoOYkxZfx"
      },
      "source": [
        "GPT2 is a large model. Increasing the batch size above 2 has lead to out of memory problems. This can be mitigated by accumulating the gradients but that is out of scope here."
      ]
    },
    {
      "cell_type": "code",
      "metadata": {
        "id": "scqrzmqhV__z"
      },
      "source": [
        "batch_size = 2"
      ],
      "execution_count": 16,
      "outputs": []
    },
    {
      "cell_type": "markdown",
      "metadata": {
        "id": "lqGMee7Isfpx"
      },
      "source": [
        "I'm using the standard PyTorch approach of loading data in using a [dataset class](https://pytorch.org/tutorials/beginner/data_loading_tutorial.html).\n",
        "\n",
        "I'm passing in the tokenizer as an argument but normally I would  instantiate it within the class."
      ]
    },
    {
      "cell_type": "code",
      "metadata": {
        "id": "U_XJVIetKN-h"
      },
      "source": [
        "class GPT2Dataset(Dataset):\n",
        "\n",
        "  def __init__(self, txt_list, tokenizer, gpt2_type=\"gpt2\", max_length=768):\n",
        "\n",
        "    self.tokenizer = tokenizer\n",
        "    self.input_ids = []\n",
        "    self.attn_masks = []\n",
        "\n",
        "    for txt in txt_list:\n",
        "\n",
        "      encodings_dict = tokenizer('<|startoftext|>'+ txt + '<|endoftext|>', truncation=True, max_length=max_length, padding=\"max_length\")\n",
        "\n",
        "      self.input_ids.append(torch.tensor(encodings_dict['input_ids']))\n",
        "      self.attn_masks.append(torch.tensor(encodings_dict['attention_mask']))\n",
        "    \n",
        "  def __len__(self):\n",
        "    return len(self.input_ids)\n",
        "\n",
        "  def __getitem__(self, idx):\n",
        "    return self.input_ids[idx], self.attn_masks[idx] "
      ],
      "execution_count": 17,
      "outputs": []
    },
    {
      "cell_type": "markdown",
      "metadata": {
        "id": "89Z7aYUgpWrd"
      },
      "source": [
        "To understand how I've used the tokenizer, it's worth reading [the docs](https://huggingface.co/transformers/main_classes/tokenizer.html). I've wrapped each bio in the bos and eos tokens.\n",
        "\n",
        "Every tensor passed to the model should be the same length.\n",
        "\n",
        "If the bio is shorter than 768 tokens, it will be padded to a length of 768 using the padding token. In addition, an attention mask will be returned that needs to be passed to the model to tell it to ignore the padding tokens. \n",
        "\n",
        "If the bio is longer than 768 tokens, it will be truncated without the eos_token. This isn't a problem."
      ]
    },
    {
      "cell_type": "code",
      "metadata": {
        "id": "Xza_O1_rD7yh",
        "colab": {
          "base_uri": "https://localhost:8080/"
        },
        "outputId": "b1271d08-3ce4-46d0-d213-e5d71be4b0b3"
      },
      "source": [
        "dataset = GPT2Dataset(bios, tokenizer, max_length=768)\n",
        "\n",
        "# Split into training and validation sets\n",
        "train_size = int(0.9 * len(dataset))\n",
        "val_size = len(dataset) - train_size\n",
        "\n",
        "train_dataset, val_dataset = random_split(dataset, [train_size, val_size])\n",
        "\n",
        "print('{:>5,} training samples'.format(train_size))\n",
        "print('{:>5,} validation samples'.format(val_size))"
      ],
      "execution_count": 18,
      "outputs": [
        {
          "output_type": "stream",
          "text": [
            "1,856 training samples\n",
            "  207 validation samples\n"
          ],
          "name": "stdout"
        }
      ]
    },
    {
      "cell_type": "code",
      "metadata": {
        "id": "x0WeP5PREUuy"
      },
      "source": [
        "# Create the DataLoaders for our training and validation datasets.\n",
        "# We'll take training samples in random order. \n",
        "train_dataloader = DataLoader(\n",
        "            train_dataset,  # The training samples.\n",
        "            sampler = RandomSampler(train_dataset), # Select batches randomly\n",
        "            batch_size = batch_size # Trains with this batch size.\n",
        "        )\n",
        "\n",
        "# For validation the order doesn't matter, so we'll just read them sequentially.\n",
        "validation_dataloader = DataLoader(\n",
        "            val_dataset, # The validation samples.\n",
        "            sampler = SequentialSampler(val_dataset), # Pull out batches sequentially.\n",
        "            batch_size = batch_size # Evaluate with this batch size.\n",
        "        )"
      ],
      "execution_count": 19,
      "outputs": []
    },
    {
      "cell_type": "markdown",
      "metadata": {
        "id": "D6TKgyUzPIQc"
      },
      "source": [
        "# Finetune GPT2 Language Model"
      ]
    },
    {
      "cell_type": "code",
      "metadata": {
        "id": "gFsCTp_mporB",
        "colab": {
          "base_uri": "https://localhost:8080/",
          "height": 115,
          "referenced_widgets": [
            "91a65d5295f446fdb3e43649ac2914bf",
            "f8a38d6022e14ebf8d545543598b9048",
            "b44c63ec25754359947d3ad13e35c5f5",
            "6df32eb98b964734a14d70bae4f12822",
            "11076008c95940049a5f50295e5aa042",
            "d6e9b10d06c24d3893c567759a7df391",
            "27948d8b89244e81907891ef5a54cd36",
            "44c32227f3bd4969bb4a347464ae672f",
            "2023ea9d83894e0aa523481696ef9682",
            "23dcad9f84e14d29bdd6b03fbdf0c19a",
            "cc743fe0709047df81cc065ded1f2173",
            "e0294b8e7f6a4679832c6e41b05f44c4",
            "a116a90d29694487a42cd947d2db4e90",
            "0f615f5a811c45bd8e9b5f8e952c2274",
            "02f496189f9c48ef9f6634c45c40440f",
            "0f39a13bf6634f879833ebb9427f4c88"
          ]
        },
        "outputId": "d92bb27c-7ef5-4326-cbdf-bfb004b9fa87"
      },
      "source": [
        "# I'm not really doing anything with the config buheret\n",
        "configuration = GPT2Config.from_pretrained('gpt2', output_hidden_states=False)\n",
        "\n",
        "# instantiate the model\n",
        "model = GPT2LMHeadModel.from_pretrained(\"gpt2\", config=configuration)\n",
        "\n",
        "# this step is necessary because I've added some tokens (bos_token, etc) to the embeddings\n",
        "# otherwise the tokenizer and model tensors won't match up\n",
        "model.resize_token_embeddings(len(tokenizer))\n",
        "\n",
        "# Tell pytorch to run this model on the GPU.\n",
        "device = torch.device(\"cuda\")\n",
        "model.cuda()\n",
        "\n",
        "# Set the seed value all over the place to make this reproducible.\n",
        "seed_val = 42\n",
        "\n",
        "random.seed(seed_val)\n",
        "np.random.seed(seed_val)\n",
        "torch.manual_seed(seed_val)\n",
        "torch.cuda.manual_seed_all(seed_val)"
      ],
      "execution_count": 20,
      "outputs": [
        {
          "output_type": "display_data",
          "data": {
            "application/vnd.jupyter.widget-view+json": {
              "model_id": "91a65d5295f446fdb3e43649ac2914bf",
              "version_minor": 0,
              "version_major": 2
            },
            "text/plain": [
              "HBox(children=(FloatProgress(value=0.0, description='Downloading', max=665.0, style=ProgressStyle(description_…"
            ]
          },
          "metadata": {
            "tags": []
          }
        },
        {
          "output_type": "stream",
          "text": [
            "\n"
          ],
          "name": "stdout"
        },
        {
          "output_type": "display_data",
          "data": {
            "application/vnd.jupyter.widget-view+json": {
              "model_id": "2023ea9d83894e0aa523481696ef9682",
              "version_minor": 0,
              "version_major": 2
            },
            "text/plain": [
              "HBox(children=(FloatProgress(value=0.0, description='Downloading', max=548118077.0, style=ProgressStyle(descri…"
            ]
          },
          "metadata": {
            "tags": []
          }
        },
        {
          "output_type": "stream",
          "text": [
            "\n"
          ],
          "name": "stdout"
        }
      ]
    },
    {
      "cell_type": "code",
      "metadata": {
        "id": "pBEVY2PYSTXJ"
      },
      "source": [
        "# some parameters I cooked up that work reasonably well\n",
        "\n",
        "epochs = 5\n",
        "learning_rate = 5e-4\n",
        "warmup_steps = 1e2\n",
        "epsilon = 1e-8\n",
        "\n",
        "# this produces sample output every 100 steps\n",
        "sample_every = 100"
      ],
      "execution_count": 21,
      "outputs": []
    },
    {
      "cell_type": "code",
      "metadata": {
        "id": "GLs72DuMODJO"
      },
      "source": [
        "# Note: AdamW is a class from the huggingface library (as opposed to pytorch) \n",
        "optimizer = AdamW(model.parameters(),\n",
        "                  lr = learning_rate,\n",
        "                  eps = epsilon\n",
        "                )"
      ],
      "execution_count": 22,
      "outputs": []
    },
    {
      "cell_type": "code",
      "metadata": {
        "id": "-p0upAhhRiIx"
      },
      "source": [
        "# Total number of training steps is [number of batches] x [number of epochs]. \n",
        "# (Note that this is not the same as the number of training samples).\n",
        "total_steps = len(train_dataloader) * epochs\n",
        "\n",
        "# Create the learning rate scheduler.\n",
        "# This changes the learning rate as the training loop progresses\n",
        "scheduler = get_linear_schedule_with_warmup(optimizer, \n",
        "                                            num_warmup_steps = warmup_steps, \n",
        "                                            num_training_steps = total_steps)"
      ],
      "execution_count": 23,
      "outputs": []
    },
    {
      "cell_type": "code",
      "metadata": {
        "id": "gpt6tR83keZD"
      },
      "source": [
        "def format_time(elapsed):\n",
        "    return str(datetime.timedelta(seconds=int(round((elapsed)))))"
      ],
      "execution_count": 24,
      "outputs": []
    },
    {
      "cell_type": "code",
      "metadata": {
        "id": "vCPohrZ-CTWu",
        "colab": {
          "base_uri": "https://localhost:8080/"
        },
        "outputId": "c3cd37b7-1348-4395-9ea8-f175c73dcf7d"
      },
      "source": [
        "total_t0 = time.time()\n",
        "\n",
        "training_stats = []\n",
        "\n",
        "model = model.to(device)\n",
        "\n",
        "for epoch_i in range(0, epochs):\n",
        "\n",
        "    # ========================================\n",
        "    #               Training\n",
        "    # ========================================\n",
        "\n",
        "    print(\"\")\n",
        "    print('======== Epoch {:} / {:} ========'.format(epoch_i + 1, epochs))\n",
        "    print('Training...')\n",
        "\n",
        "    t0 = time.time()\n",
        "\n",
        "    total_train_loss = 0\n",
        "\n",
        "    model.train()\n",
        "\n",
        "    for step, batch in enumerate(train_dataloader):\n",
        "\n",
        "        b_input_ids = batch[0].to(device)\n",
        "        b_labels = batch[0].to(device)\n",
        "        b_masks = batch[1].to(device)\n",
        "\n",
        "        model.zero_grad()        \n",
        "\n",
        "        outputs = model(  b_input_ids,\n",
        "                          labels=b_labels, \n",
        "                          attention_mask = b_masks,\n",
        "                          token_type_ids=None\n",
        "                        )\n",
        "\n",
        "        loss = outputs[0]  \n",
        "\n",
        "        batch_loss = loss.item()\n",
        "        total_train_loss += batch_loss\n",
        "\n",
        "        # Get sample every x batches.\n",
        "        if step % sample_every == 0 and not step == 0:\n",
        "\n",
        "            elapsed = format_time(time.time() - t0)\n",
        "            print('  Batch {:>5,}  of  {:>5,}. Loss: {:>5,}.   Elapsed: {:}.'.format(step, len(train_dataloader), batch_loss, elapsed))\n",
        "\n",
        "            model.eval()\n",
        "\n",
        "            sample_outputs = model.generate(\n",
        "                                    bos_token_id=random.randint(1,30000),\n",
        "                                    do_sample=True,   \n",
        "                                    top_k=50, \n",
        "                                    max_length = 200,\n",
        "                                    top_p=0.95, \n",
        "                                    num_return_sequences=1\n",
        "                                )\n",
        "            for i, sample_output in enumerate(sample_outputs):\n",
        "                  print(\"{}: {}\".format(i, tokenizer.decode(sample_output, skip_special_tokens=True)))\n",
        "            \n",
        "            model.train()\n",
        "\n",
        "        loss.backward()\n",
        "\n",
        "        optimizer.step()\n",
        "\n",
        "        scheduler.step()\n",
        "\n",
        "    # Calculate the average loss over all of the batches.\n",
        "    avg_train_loss = total_train_loss / len(train_dataloader)       \n",
        "    \n",
        "    # Measure how long this epoch took.\n",
        "    training_time = format_time(time.time() - t0)\n",
        "\n",
        "    print(\"\")\n",
        "    print(\"  Average training loss: {0:.2f}\".format(avg_train_loss))\n",
        "    print(\"  Training epoch took: {:}\".format(training_time))\n",
        "        \n",
        "    # ========================================\n",
        "    #               Validation\n",
        "    # ========================================\n",
        "\n",
        "    print(\"\")\n",
        "    print(\"Running Validation...\")\n",
        "\n",
        "    t0 = time.time()\n",
        "\n",
        "    model.eval()\n",
        "\n",
        "    total_eval_loss = 0\n",
        "    nb_eval_steps = 0\n",
        "\n",
        "    # Evaluate data for one epoch\n",
        "    for batch in validation_dataloader:\n",
        "        \n",
        "        b_input_ids = batch[0].to(device)\n",
        "        b_labels = batch[0].to(device)\n",
        "        b_masks = batch[1].to(device)\n",
        "        \n",
        "        with torch.no_grad():        \n",
        "\n",
        "            outputs  = model(b_input_ids, \n",
        "#                            token_type_ids=None, \n",
        "                             attention_mask = b_masks,\n",
        "                            labels=b_labels)\n",
        "          \n",
        "            loss = outputs[0]  \n",
        "            \n",
        "        batch_loss = loss.item()\n",
        "        total_eval_loss += batch_loss        \n",
        "\n",
        "    avg_val_loss = total_eval_loss / len(validation_dataloader)\n",
        "    \n",
        "    validation_time = format_time(time.time() - t0)    \n",
        "\n",
        "    print(\"  Validation Loss: {0:.2f}\".format(avg_val_loss))\n",
        "    print(\"  Validation took: {:}\".format(validation_time))\n",
        "\n",
        "    # Record all statistics from this epoch.\n",
        "    training_stats.append(\n",
        "        {\n",
        "            'epoch': epoch_i + 1,\n",
        "            'Training Loss': avg_train_loss,\n",
        "            'Valid. Loss': avg_val_loss,\n",
        "            'Training Time': training_time,\n",
        "            'Validation Time': validation_time\n",
        "        }\n",
        "    )\n",
        "\n",
        "print(\"\")\n",
        "print(\"Training complete!\")\n",
        "print(\"Total training took {:} (h:mm:ss)\".format(format_time(time.time()-total_t0)))"
      ],
      "execution_count": 25,
      "outputs": [
        {
          "output_type": "stream",
          "text": [
            "\n",
            "======== Epoch 1 / 5 ========\n",
            "Training...\n"
          ],
          "name": "stdout"
        },
        {
          "output_type": "stream",
          "text": [
            "Setting `pad_token_id` to `eos_token_id`:50256 for open-end generation.\n"
          ],
          "name": "stderr"
        },
        {
          "output_type": "stream",
          "text": [
            "  Batch   100  of    928. Loss: 0.3894178569316864.   Elapsed: 0:00:51.\n",
            "0:  bipartisan\" But but how much he can he say.--No, but I believe that she is too great as a fool to think. She can no longer make him a man whom you must think a great friend to love. The very idea of marrying you began to make it all too easily to be imagined. That it were really so much more pleasing to you, than to yourself, and to myself, though it was impossible for them. I know how much better you would be if you could stay so much longer, and do much for others. I shall never think much of doing what he might not have done so far; but--you may make much more good at that, and shall be much better at it. But there is the whole world, when you consider your brother's whole life--his mother, his aunt, his friends--all this is without question--and you are no longer much inclined to speak of the whole situation.\"\n"
          ],
          "name": "stdout"
        },
        {
          "output_type": "stream",
          "text": [
            "Setting `pad_token_id` to `eos_token_id`:50256 for open-end generation.\n"
          ],
          "name": "stderr"
        },
        {
          "output_type": "stream",
          "text": [
            "  Batch   200  of    928. Loss: 0.16121838986873627.   Elapsed: 0:01:46.\n",
            "0:  increasing\"They have never been. They have not been in Scotland for the last two years; nor have they ever been at Netherfield; nor have they ever been at London. They have never been to Derbyshire. Their journey is not till winter or winter; and they do not come back to Scotland. Their house is at Netherfield, but it is not quite the house of Netherfield.\"\n"
          ],
          "name": "stdout"
        },
        {
          "output_type": "stream",
          "text": [
            "Setting `pad_token_id` to `eos_token_id`:50256 for open-end generation.\n"
          ],
          "name": "stderr"
        },
        {
          "output_type": "stream",
          "text": [
            "  Batch   300  of    928. Loss: 0.3062319755554199.   Elapsed: 0:02:40.\n",
            "0: day\"Yes; Lydia's sister was an object of many kindness. Her sister and I have talked. I am not. So well settled, indeed, of my understanding.\"\n"
          ],
          "name": "stdout"
        },
        {
          "output_type": "stream",
          "text": [
            "Setting `pad_token_id` to `eos_token_id`:50256 for open-end generation.\n"
          ],
          "name": "stderr"
        },
        {
          "output_type": "stream",
          "text": [
            "  Batch   400  of    928. Loss: 0.134327694773674.   Elapsed: 0:03:33.\n",
            "0:  HangWhen Elizabeth was gone she went downstairs and bought a dress, as had been done before, and, after watching, she had the greatest pleasure in visiting such a beauty as Mr. Darcy. Her eyes were opened at Longbourn. She had the same pleasure in going down to the country, and walking about. When a man's age was approaching it would make even a moment of walking, and in the course of the journey she saw a few young ladies of whom she knew nothing. The young girls whom Elizabeth saw, were always of her own sex. The young woman who Miss Lucas saw had a great deal of politeness, and would allow her daughter to know when they had left Longb.\n"
          ],
          "name": "stdout"
        },
        {
          "output_type": "stream",
          "text": [
            "Setting `pad_token_id` to `eos_token_id`:50256 for open-end generation.\n"
          ],
          "name": "stderr"
        },
        {
          "output_type": "stream",
          "text": [
            "  Batch   500  of    928. Loss: 0.20536209642887115.   Elapsed: 0:04:27.\n",
            "0:  foodsThe ladies were eagerly looking forward to hearing her address. She talked them all about it with a certain rapt attention; but Elizabeth did not seem to know how she felt.\n"
          ],
          "name": "stdout"
        },
        {
          "output_type": "stream",
          "text": [
            "Setting `pad_token_id` to `eos_token_id`:50256 for open-end generation.\n"
          ],
          "name": "stderr"
        },
        {
          "output_type": "stream",
          "text": [
            "  Batch   600  of    928. Loss: 0.08150218427181244.   Elapsed: 0:05:20.\n",
            "0:  trail\"My dear Darcy, do you know which day is she?\"\n"
          ],
          "name": "stdout"
        },
        {
          "output_type": "stream",
          "text": [
            "Setting `pad_token_id` to `eos_token_id`:50256 for open-end generation.\n"
          ],
          "name": "stderr"
        },
        {
          "output_type": "stream",
          "text": [
            "  Batch   700  of    928. Loss: 0.6885817646980286.   Elapsed: 0:06:13.\n",
            "0: intendThey had a little time to spend: they only wanted Mr. Darcy. Kitty was not likely to come at all. When he entered the house, however, he looked as if he might still have time. To all the officers and girls there, he was no longer a man to be talked to; he was merely going to come soon, and everybody was to have dinner.\n"
          ],
          "name": "stdout"
        },
        {
          "output_type": "stream",
          "text": [
            "Setting `pad_token_id` to `eos_token_id`:50256 for open-end generation.\n"
          ],
          "name": "stderr"
        },
        {
          "output_type": "stream",
          "text": [
            "  Batch   800  of    928. Loss: 0.2642064690589905.   Elapsed: 0:07:07.\n",
            "0:  surroundYou soon discovered her. He did not look at her as she spoke, but as he walked towards her: the former looked angry with them, looked angry with them all. Miss Bingley, on her second visit, tried to persuade her of their attachment. Her sister's behaviour was nothing without resentment. Their marriage was at a loss to say. It did not seem quite right. Their behaviour against each other was never to be allowed to enter the present. They knew that if Mrs. Darcy did not return to the house without a very little more, and it was a very unimportant and useless marriage, it would be made known to them, in their hopes of succeeding with Miss Bennet. The resentment of the family would no longer continue in her head to be an excuse, for her sister had just done the same--an occasion for a much more favourable opinion of herself.\n"
          ],
          "name": "stdout"
        },
        {
          "output_type": "stream",
          "text": [
            "Setting `pad_token_id` to `eos_token_id`:50256 for open-end generation.\n"
          ],
          "name": "stderr"
        },
        {
          "output_type": "stream",
          "text": [
            "  Batch   900  of    928. Loss: 0.07428628206253052.   Elapsed: 0:08:02.\n",
            "0:  reflex\"Yes, Mrs. Bennet. I have been deceived, as I am ashamed of you.\"\n",
            "\n",
            "  Average training loss: 0.55\n",
            "  Training epoch took: 0:08:16\n",
            "\n",
            "Running Validation...\n",
            "  Validation Loss: 0.32\n",
            "  Validation took: 0:00:17\n",
            "\n",
            "======== Epoch 2 / 5 ========\n",
            "Training...\n"
          ],
          "name": "stdout"
        },
        {
          "output_type": "stream",
          "text": [
            "Setting `pad_token_id` to `eos_token_id`:50256 for open-end generation.\n"
          ],
          "name": "stderr"
        },
        {
          "output_type": "stream",
          "text": [
            "  Batch   100  of    928. Loss: 0.1263657510280609.   Elapsed: 0:00:53.\n",
            "0:  display\"And how could a girl so handsome as Mrs. Phillips have been so handsome?\" said Darcy; \"I cannot imagine how such a circumstance would have prevented their marrying--if not by the necessity of being handsome enough, or the necessity of marrying them with the smallest fortune. For the two eldest, it must be more than likely that either, or both, had the strength of appearance, or the inclination of fashion. They might have had great fortune, but there was only one of them.\"\n"
          ],
          "name": "stdout"
        },
        {
          "output_type": "stream",
          "text": [
            "Setting `pad_token_id` to `eos_token_id`:50256 for open-end generation.\n"
          ],
          "name": "stderr"
        },
        {
          "output_type": "stream",
          "text": [
            "  Batch   200  of    928. Loss: 0.21422205865383148.   Elapsed: 0:01:47.\n",
            "0:  pastor\"You are certainly a better young person than they themselves!\"\n"
          ],
          "name": "stdout"
        },
        {
          "output_type": "stream",
          "text": [
            "Setting `pad_token_id` to `eos_token_id`:50256 for open-end generation.\n"
          ],
          "name": "stderr"
        },
        {
          "output_type": "stream",
          "text": [
            "  Batch   300  of    928. Loss: 0.29649391770362854.   Elapsed: 0:02:40.\n",
            "0:  illicitAs the party entered the carriage, Jane had the greatest wish of seeing Mrs. Collins at Longbourn, where she could receive tea, as soon as her sister and her husband-in-law came down to town. But Elizabeth's plan of living in her own neighbourhood proved highly insufficient. For, as she frequently assured her husband, the prospect of their leaving home would be too much for her. It was at such a distance, and so distance so far away, that she really must not consider herself in danger of being mistaken for the person to whom she addressed her in this declaration.\n"
          ],
          "name": "stdout"
        },
        {
          "output_type": "stream",
          "text": [
            "Setting `pad_token_id` to `eos_token_id`:50256 for open-end generation.\n"
          ],
          "name": "stderr"
        },
        {
          "output_type": "stream",
          "text": [
            "  Batch   400  of    928. Loss: 0.0537886843085289.   Elapsed: 0:03:34.\n",
            "0:  LiberationThe prospect of Mr. Darcy's being killed in such a way was dreadful, and I was obliged to take no orders from any of his correspondents, unless it was my own. When he informed them of his father's returning them all, I told him that I could not expect Mr. Darcy to be prevailed on to marry again again. Though they had been at Netherfield many months, it was impossible to escape their astonishment and surprise; on one side, there was all astonishment and horror at the sight of a young man with five thousand a year, standing there with a twelvemonth's income in the neighbourhood, with a respectable living there, and with nothing but ten thousand a year, a respectable estate, and a good family. On the other side, there was another, and very different kind of hope, which had been most cherished by his friend, who could not but remember seeing in his sister, that, however ill she had been on the point of quitting\n"
          ],
          "name": "stdout"
        },
        {
          "output_type": "stream",
          "text": [
            "Setting `pad_token_id` to `eos_token_id`:50256 for open-end generation.\n"
          ],
          "name": "stderr"
        },
        {
          "output_type": "stream",
          "text": [
            "  Batch   500  of    928. Loss: 0.14788015186786652.   Elapsed: 0:04:29.\n",
            "0:  Nam\"Oh! I have the good opinion of Mr. Wickham's, and I dare say my sister's, that is to be my profession.\"\n"
          ],
          "name": "stdout"
        },
        {
          "output_type": "stream",
          "text": [
            "Setting `pad_token_id` to `eos_token_id`:50256 for open-end generation.\n"
          ],
          "name": "stderr"
        },
        {
          "output_type": "stream",
          "text": [
            "  Batch   600  of    928. Loss: 0.4635508060455322.   Elapsed: 0:05:22.\n",
            "0: ION\"Well, I hope,\" cried Elizabeth, after a pause, \"I think you must confess what I am. I feel that every thing that I believe in is false. It was a false statement. Who did you say was wrong, that I was wrong? But I am persuaded that whatever you may have suffered I have been ignorant of what you were under, and in fact I am convinced that this is because I was misunderstood.\"\n"
          ],
          "name": "stdout"
        },
        {
          "output_type": "stream",
          "text": [
            "Setting `pad_token_id` to `eos_token_id`:50256 for open-end generation.\n"
          ],
          "name": "stderr"
        },
        {
          "output_type": "stream",
          "text": [
            "  Batch   700  of    928. Loss: 0.21540583670139313.   Elapsed: 0:06:16.\n",
            "0:  glimpse\"It is true. I remember it not, you see, as you always tell us, but, perhaps, I suppose it to be merely a case of common sense. I did not, I did not pretend to give you any explanation.\"\n"
          ],
          "name": "stdout"
        },
        {
          "output_type": "stream",
          "text": [
            "Setting `pad_token_id` to `eos_token_id`:50256 for open-end generation.\n"
          ],
          "name": "stderr"
        },
        {
          "output_type": "stream",
          "text": [
            "  Batch   800  of    928. Loss: 0.2444801926612854.   Elapsed: 0:07:09.\n",
            "0:  Laure\"Yes, or I suppose it. If my father does not like it, I will not think to pass it up. But I know _that_ I would not go so far. I will go to my aunt's, as soon as I get acquainted with her.\"\n"
          ],
          "name": "stdout"
        },
        {
          "output_type": "stream",
          "text": [
            "Setting `pad_token_id` to `eos_token_id`:50256 for open-end generation.\n"
          ],
          "name": "stderr"
        },
        {
          "output_type": "stream",
          "text": [
            "  Batch   900  of    928. Loss: 0.2547406554222107.   Elapsed: 0:08:02.\n",
            "0: ism\"Yes, I have done; but I _must_ take it for my own.\"\n",
            "\n",
            "  Average training loss: 0.30\n",
            "  Training epoch took: 0:08:17\n",
            "\n",
            "Running Validation...\n",
            "  Validation Loss: 0.31\n",
            "  Validation took: 0:00:17\n",
            "\n",
            "======== Epoch 3 / 5 ========\n",
            "Training...\n"
          ],
          "name": "stdout"
        },
        {
          "output_type": "stream",
          "text": [
            "Setting `pad_token_id` to `eos_token_id`:50256 for open-end generation.\n"
          ],
          "name": "stderr"
        },
        {
          "output_type": "stream",
          "text": [
            "  Batch   100  of    928. Loss: 0.23440882563591003.   Elapsed: 0:00:52.\n",
            "0: oun\"This young lady, Mr. Darcy, who could have lived with others but toil away in the farm, has been brought up with us.\"\n"
          ],
          "name": "stdout"
        },
        {
          "output_type": "stream",
          "text": [
            "Setting `pad_token_id` to `eos_token_id`:50256 for open-end generation.\n"
          ],
          "name": "stderr"
        },
        {
          "output_type": "stream",
          "text": [
            "  Batch   200  of    928. Loss: 0.28719672560691833.   Elapsed: 0:01:45.\n",
            "0:  election\"Yes, indeed, that is true,\" said Elizabeth, \"and I am very glad we parted with Mr. Bingley, as it shows a mutual affection for one other, for the sake of both, his happiness is absolutely dependent on the kindness and goodness of another. And though there may be faults in our conduct, he has the means of making all the difference.\"\n"
          ],
          "name": "stdout"
        },
        {
          "output_type": "stream",
          "text": [
            "Setting `pad_token_id` to `eos_token_id`:50256 for open-end generation.\n"
          ],
          "name": "stderr"
        },
        {
          "output_type": "stream",
          "text": [
            "  Batch   300  of    928. Loss: 0.07045816630125046.   Elapsed: 0:02:38.\n",
            "0:  crazy\"Certainly,\" replied Mr. Gardiner, \"it would not be advisable to _remind_ of such a point.\"\n"
          ],
          "name": "stdout"
        },
        {
          "output_type": "stream",
          "text": [
            "Setting `pad_token_id` to `eos_token_id`:50256 for open-end generation.\n"
          ],
          "name": "stderr"
        },
        {
          "output_type": "stream",
          "text": [
            "  Batch   400  of    928. Loss: 0.8061708211898804.   Elapsed: 0:03:30.\n",
            "0:  bench\"My mother died about eight months ago. She was married. It seems quite shocking to me. My eldest child, Miss Lucas Lucas, was so ill a month. At that moment I told her story. But she did not listen. Perhaps my father did not, too. Mr. Collins told her of a connection between us. When it was discovered he asked her why she had not settled her own affairs. She answered with: 'You did not know that you had two daughters married before. You were not very rich. How can you be in so small a family? You are likely to think that some day will bring some relief to my family that may not be in your favour. My father, you know, was the godson of my father in town about a long time, and you know that they were married, and _they_ were settled. I did not write to you. He wrote it as his own, and his character told it. He came home only the\n"
          ],
          "name": "stdout"
        },
        {
          "output_type": "stream",
          "text": [
            "Setting `pad_token_id` to `eos_token_id`:50256 for open-end generation.\n"
          ],
          "name": "stderr"
        },
        {
          "output_type": "stream",
          "text": [
            "  Batch   500  of    928. Loss: 0.13294483721256256.   Elapsed: 0:04:25.\n",
            "0:  incorporated\"Oh, dear! I know it!\" said Miss Darcy, still smiling at her father. \"Perhaps not as much as that, but I believe he can do something for him. Oh, _that_. I wish he had been so much better, but we cannot know what. He is not good enough to be trusted. And now we may as well forget your feelings, you may well believe me. There have been many a schemes of us all. We never intended to expose Mr. Darcy. I suppose there will be a few more. However, we will not expose ourselves, you know.\"\n"
          ],
          "name": "stdout"
        },
        {
          "output_type": "stream",
          "text": [
            "Setting `pad_token_id` to `eos_token_id`:50256 for open-end generation.\n"
          ],
          "name": "stderr"
        },
        {
          "output_type": "stream",
          "text": [
            "  Batch   600  of    928. Loss: 0.15174004435539246.   Elapsed: 0:05:19.\n",
            "0: Peter\"Oh! no--it will be my mother's--and Wickham's. But to see my sister-in-law and Mr. Darcy together, I hope they will be good friends again; and I hope to hear more of both of them in the same parish. Mrs. Phillips herself says she has a great deal to relate; but it does not appear to be in the least. Only think of Mr. Darcy's seeing me.--Yours\"\n"
          ],
          "name": "stdout"
        },
        {
          "output_type": "stream",
          "text": [
            "Setting `pad_token_id` to `eos_token_id`:50256 for open-end generation.\n"
          ],
          "name": "stderr"
        },
        {
          "output_type": "stream",
          "text": [
            "  Batch   700  of    928. Loss: 0.4033648371696472.   Elapsed: 0:06:12.\n",
            "0: uring\"How far, Madam, I might call it possible,\" said she, \"for a man to be always moving about about the room and talking in terms of dancing, and then getting wet.\"\n"
          ],
          "name": "stdout"
        },
        {
          "output_type": "stream",
          "text": [
            "Setting `pad_token_id` to `eos_token_id`:50256 for open-end generation.\n"
          ],
          "name": "stderr"
        },
        {
          "output_type": "stream",
          "text": [
            "  Batch   800  of    928. Loss: 0.07864251732826233.   Elapsed: 0:07:05.\n",
            "0:  reproductive\"And how often have you ever seen your partner dance?\"\n"
          ],
          "name": "stdout"
        },
        {
          "output_type": "stream",
          "text": [
            "Setting `pad_token_id` to `eos_token_id`:50256 for open-end generation.\n"
          ],
          "name": "stderr"
        },
        {
          "output_type": "stream",
          "text": [
            "  Batch   900  of    928. Loss: 0.39940953254699707.   Elapsed: 0:07:57.\n",
            "0:  zoneAs soon as Mr. Darcy returned to Jane, the whole party, rejoicing in her good wishes, and in general astonishment at her ungracious treatment, set off together in the attempt to console her of the truth; and at that hour, a short conversation was just to be had between them.\n",
            "\n",
            "  Average training loss: 0.26\n",
            "  Training epoch took: 0:08:12\n",
            "\n",
            "Running Validation...\n",
            "  Validation Loss: 0.32\n",
            "  Validation took: 0:00:17\n",
            "\n",
            "======== Epoch 4 / 5 ========\n",
            "Training...\n"
          ],
          "name": "stdout"
        },
        {
          "output_type": "stream",
          "text": [
            "Setting `pad_token_id` to `eos_token_id`:50256 for open-end generation.\n"
          ],
          "name": "stderr"
        },
        {
          "output_type": "stream",
          "text": [
            "  Batch   100  of    928. Loss: 0.4784427285194397.   Elapsed: 0:00:52.\n",
            "0:  commits\"Good gracious! What are you talking of?\" cried Maria, endeavouring to lift up her eyes.\n"
          ],
          "name": "stdout"
        },
        {
          "output_type": "stream",
          "text": [
            "Setting `pad_token_id` to `eos_token_id`:50256 for open-end generation.\n"
          ],
          "name": "stderr"
        },
        {
          "output_type": "stream",
          "text": [
            "  Batch   200  of    928. Loss: 0.10675109177827835.   Elapsed: 0:01:45.\n",
            "0:  irony\"I knew of you at a ball this evening.\"\n"
          ],
          "name": "stdout"
        },
        {
          "output_type": "stream",
          "text": [
            "Setting `pad_token_id` to `eos_token_id`:50256 for open-end generation.\n"
          ],
          "name": "stderr"
        },
        {
          "output_type": "stream",
          "text": [
            "  Batch   300  of    928. Loss: 0.34432387351989746.   Elapsed: 0:02:37.\n",
            "0:  Sah\"They have often been my intimate friends with Wickham,\" she added, \"as I saw him before; and since he left the country, I have known him better; and I cannot vouch for it myself, since I am persuaded, from the whole of that period, that his attachment to me was as natural as it was. I believe not it will be forgot, therefore, that Wickham will always be with them, after we have both been together for a very long time.\"\n"
          ],
          "name": "stdout"
        },
        {
          "output_type": "stream",
          "text": [
            "Setting `pad_token_id` to `eos_token_id`:50256 for open-end generation.\n"
          ],
          "name": "stderr"
        },
        {
          "output_type": "stream",
          "text": [
            "  Batch   400  of    928. Loss: 0.3349863588809967.   Elapsed: 0:03:30.\n",
            "0:  Bryan\"I was only ashamed of myself, for, though I should never have been esteemed by others, I should have always had hopes of happiness. I had the happiest memories of my life, and certainly the happiest memories of the whole. My father had made me a sincere apology for having injured my relations, by which I could only add, 'Oh! my dear father, I am so grieved for that ill-judged remark, that I must have told you before. And now, do you think there was some cruelity in the case, as you so often tell me, against your young cousin's character, in which you were accused of cruelty to yourself and to your own family? Heaven forbid! My father should not have allowed himself to be guilty of that. My mother should have resigned.\"\n"
          ],
          "name": "stdout"
        },
        {
          "output_type": "stream",
          "text": [
            "Setting `pad_token_id` to `eos_token_id`:50256 for open-end generation.\n"
          ],
          "name": "stderr"
        },
        {
          "output_type": "stream",
          "text": [
            "  Batch   500  of    928. Loss: 0.034921448677778244.   Elapsed: 0:04:24.\n",
            "0:  spirits\"My dear madam, do not repeat the actions which I have done. If you were to see them, you would find them unpardonable.\"\n"
          ],
          "name": "stdout"
        },
        {
          "output_type": "stream",
          "text": [
            "Setting `pad_token_id` to `eos_token_id`:50256 for open-end generation.\n"
          ],
          "name": "stderr"
        },
        {
          "output_type": "stream",
          "text": [
            "  Batch   600  of    928. Loss: 0.8329513669013977.   Elapsed: 0:05:16.\n",
            "0:  sees\"It will be very agreeable to _her_ to judge _me_.\"\n"
          ],
          "name": "stdout"
        },
        {
          "output_type": "stream",
          "text": [
            "Setting `pad_token_id` to `eos_token_id`:50256 for open-end generation.\n"
          ],
          "name": "stderr"
        },
        {
          "output_type": "stream",
          "text": [
            "  Batch   700  of    928. Loss: 0.22696024179458618.   Elapsed: 0:06:09.\n",
            "0:  hungryIn a few minutes, Mrs. Bennet began the projected conversation. Miss Bennet spoke in such terms of finery and ceremonious secrecy as made the possibility of Bingley's having any share of society exceedingly probable, that it should be everywhere believed, that all his acquaintances must be kept a secret, to assure his father of the probability of Miss Darcy's being in love with her, and that Jane would certainly not quit Netherfield. Mrs. Bennet thought that the subject was endless, and when Bingley was removed to the Parsonage, as had been conjectured, she saw all manner of encouragement in its flight, and all manner of encouragement for him to marry Miss Darcy and make the offer. Mr. Darcy, she believed, would not consent to a meeting with her on this score; and on this signal of cordiality, he kissed the lips of all the ladies at Parsonage; and when Miss Bennet was revived, the conversation was turned\n"
          ],
          "name": "stdout"
        },
        {
          "output_type": "stream",
          "text": [
            "Setting `pad_token_id` to `eos_token_id`:50256 for open-end generation.\n"
          ],
          "name": "stderr"
        },
        {
          "output_type": "stream",
          "text": [
            "  Batch   800  of    928. Loss: 0.2921043634414673.   Elapsed: 0:07:03.\n",
            "0:  PT\"If we had an estate in common,\" he cried, \"I should be sorry to think of setting it against a man that has so little money to live on, if I should have it. But, however, that estate does not comprise a vast fortune, and if we did not own it, I should have no opinion of it.\"\n"
          ],
          "name": "stdout"
        },
        {
          "output_type": "stream",
          "text": [
            "Setting `pad_token_id` to `eos_token_id`:50256 for open-end generation.\n"
          ],
          "name": "stderr"
        },
        {
          "output_type": "stream",
          "text": [
            "  Batch   900  of    928. Loss: 0.1925615668296814.   Elapsed: 0:07:56.\n",
            "0: ü\"How much I will take on Mr. Bingley is beyond me, I can easily believe.\"\n",
            "\n",
            "  Average training loss: 0.21\n",
            "  Training epoch took: 0:08:11\n",
            "\n",
            "Running Validation...\n",
            "  Validation Loss: 0.34\n",
            "  Validation took: 0:00:18\n",
            "\n",
            "======== Epoch 5 / 5 ========\n",
            "Training...\n"
          ],
          "name": "stdout"
        },
        {
          "output_type": "stream",
          "text": [
            "Setting `pad_token_id` to `eos_token_id`:50256 for open-end generation.\n"
          ],
          "name": "stderr"
        },
        {
          "output_type": "stream",
          "text": [
            "  Batch   100  of    928. Loss: 0.12268596887588501.   Elapsed: 0:00:52.\n",
            "0: ruce\"You would not have put yourself so much at a disadvantage as I am by this discovery, I believe, had I not discovered it myself earlier.\"\n"
          ],
          "name": "stdout"
        },
        {
          "output_type": "stream",
          "text": [
            "Setting `pad_token_id` to `eos_token_id`:50256 for open-end generation.\n"
          ],
          "name": "stderr"
        },
        {
          "output_type": "stream",
          "text": [
            "  Batch   200  of    928. Loss: 0.05989032983779907.   Elapsed: 0:01:45.\n",
            "0:  derivatives\"I had once or twice once told Miss Bennet my resolution of thanking you for the kind attentions you had received me during my visit. I feel all the good sense and good intention of speaking to you. We parted on good terms, and afterwards parted with all the kind of civility you seemed so ready to give to me; you showed me, indeed, how much you liked me, and showed me all the particulars which were of so much interest to both of us.\"\n"
          ],
          "name": "stdout"
        },
        {
          "output_type": "stream",
          "text": [
            "Setting `pad_token_id` to `eos_token_id`:50256 for open-end generation.\n"
          ],
          "name": "stderr"
        },
        {
          "output_type": "stream",
          "text": [
            "  Batch   300  of    928. Loss: 0.11189917474985123.   Elapsed: 0:02:38.\n",
            "0: \u0019\"I will endeavour to do as much as I can; but this subject matters greatly with me, and I shall endeavour to make the most of every moment. You must allow me to confess what I think of your daughter, and what I hope to do myself in the course of it. I do not regard your condition in any other way than as arising on your side from the marriage of your nephew. Your dependence on me cannot bear the thought that, under such circumstances, the very condition which I have been so concerned in affording you, could, in your disposition, have renewed to give you relief from obligations which, at that time, you must altogether suspend, without your having been aware of the other obligations. You cannot, I am persuaded, endeavour to remedy your feelings by any means that may be eligible. Assistance is absolutely indispensably to me, but I am perfectly willing to assist you in every endeavour of which you have undertaken. Your present distress must be alleviated in a\n"
          ],
          "name": "stdout"
        },
        {
          "output_type": "stream",
          "text": [
            "Setting `pad_token_id` to `eos_token_id`:50256 for open-end generation.\n"
          ],
          "name": "stderr"
        },
        {
          "output_type": "stream",
          "text": [
            "  Batch   400  of    928. Loss: 0.11340869218111038.   Elapsed: 0:03:32.\n",
            "0:  remembering\"Good Heaven!\" cried her mother, \"what am I to do? What sort of guardians do you send them? I never heard of you before, and since I have known her from my childhood I have not known how I should manage them. They are not very clever people, nor I dare say they are at all worth knowing. But they must be kept under frequent observation, and if they are good enough they may live to see many years. There is nothing to be done that I can think of without having a list of their good qualities; and though I have not the least intention of going on, I can easily perceive that a young man of sense and education, moreover with such an air and such manners, should not be properly guarded against.\"\n"
          ],
          "name": "stdout"
        },
        {
          "output_type": "stream",
          "text": [
            "Setting `pad_token_id` to `eos_token_id`:50256 for open-end generation.\n"
          ],
          "name": "stderr"
        },
        {
          "output_type": "stream",
          "text": [
            "  Batch   500  of    928. Loss: 0.06446993350982666.   Elapsed: 0:04:26.\n",
            "0:  SourcesAfter a little alteration, or an apology for troubling her relations, Jane could not be prevailed on to follow their example again, and return to their friends. Miss Bennet was determined to show her friends again, and she wrote to Mr. Collins directly, with all her heart; and, in spite of his threats and remarks against her relations, she made him voluntarily yield to her, and walk away, leaving them both to their fate.\n"
          ],
          "name": "stdout"
        },
        {
          "output_type": "stream",
          "text": [
            "Setting `pad_token_id` to `eos_token_id`:50256 for open-end generation.\n"
          ],
          "name": "stderr"
        },
        {
          "output_type": "stream",
          "text": [
            "  Batch   600  of    928. Loss: 0.4323817491531372.   Elapsed: 0:05:19.\n",
            "0: emsJane was not in such a way to avoid conversation with any of them as when Darcy had first called; and Elizabeth was so far from going away that it did not seem likely to be necessary for her to introduce any to whom she could not help saying:\n"
          ],
          "name": "stdout"
        },
        {
          "output_type": "stream",
          "text": [
            "Setting `pad_token_id` to `eos_token_id`:50256 for open-end generation.\n"
          ],
          "name": "stderr"
        },
        {
          "output_type": "stream",
          "text": [
            "  Batch   700  of    928. Loss: 0.3899417221546173.   Elapsed: 0:06:12.\n",
            "0: tz\"I have now given you the assurance, under these circumstances, of the sincerity, the delicacy, and the assurance of respect which I demand. I trust you will not esteem them unwillingly. No, no, depend upon my serving you. You must satisfy me in every possible method of passing this evening. I shall summon you by post, to show off your morning civility. My compliments to Mr. and Mrs. Gardiner, my dear Miss Eliza, and my fair niece Elizabeth, are all for the best. You will not regret it. I thank you again and again for your condescension to join me and my sister in dancing at the Parsonage this evening, and for your civility towards the young couple that we were yesterday invited to play at last. Miss Bennet has a large collection of fine muslins and cambric in her shop-boy-piece, Mr. Darcy. I dare say there are not half as many as are made\n"
          ],
          "name": "stdout"
        },
        {
          "output_type": "stream",
          "text": [
            "Setting `pad_token_id` to `eos_token_id`:50256 for open-end generation.\n"
          ],
          "name": "stderr"
        },
        {
          "output_type": "stream",
          "text": [
            "  Batch   800  of    928. Loss: 0.2589453160762787.   Elapsed: 0:07:06.\n",
            "0: matic\"Not so hasty, then. Mr. Bingley must marry. Promise me--I want it now.\"\n"
          ],
          "name": "stdout"
        },
        {
          "output_type": "stream",
          "text": [
            "Setting `pad_token_id` to `eos_token_id`:50256 for open-end generation.\n"
          ],
          "name": "stderr"
        },
        {
          "output_type": "stream",
          "text": [
            "  Batch   900  of    928. Loss: 0.04449087008833885.   Elapsed: 0:07:58.\n",
            "0:  synd\"You are very strange, Mr. Bennet, to think of a man who lived in Hertfordshire!\" cried his wife.\n",
            "\n",
            "  Average training loss: 0.17\n",
            "  Training epoch took: 0:08:13\n",
            "\n",
            "Running Validation...\n",
            "  Validation Loss: 0.38\n",
            "  Validation took: 0:00:17\n",
            "\n",
            "Training complete!\n",
            "Total training took 0:42:37 (h:mm:ss)\n"
          ],
          "name": "stdout"
        }
      ]
    },
    {
      "cell_type": "markdown",
      "metadata": {
        "id": "VQTvJ1vRP7u4"
      },
      "source": [
        "Let's view the summary of the training process."
      ]
    },
    {
      "cell_type": "code",
      "metadata": {
        "id": "6O_NbXFGMukX",
        "colab": {
          "base_uri": "https://localhost:8080/",
          "height": 235
        },
        "outputId": "bc8c0f63-74b3-420c-847b-8153b3400d4f"
      },
      "source": [
        "# Display floats with two decimal places.\n",
        "pd.set_option('precision', 2)\n",
        "\n",
        "# Create a DataFrame from our training statistics.\n",
        "df_stats = pd.DataFrame(data=training_stats)\n",
        "\n",
        "# Use the 'epoch' as the row index.\n",
        "df_stats = df_stats.set_index('epoch')\n",
        "\n",
        "# A hack to force the column headers to wrap.\n",
        "#df = df.style.set_table_styles([dict(selector=\"th\",props=[('max-width', '70px')])])\n",
        "\n",
        "# Display the table.\n",
        "df_stats"
      ],
      "execution_count": 26,
      "outputs": [
        {
          "output_type": "execute_result",
          "data": {
            "text/html": [
              "<div>\n",
              "<style scoped>\n",
              "    .dataframe tbody tr th:only-of-type {\n",
              "        vertical-align: middle;\n",
              "    }\n",
              "\n",
              "    .dataframe tbody tr th {\n",
              "        vertical-align: top;\n",
              "    }\n",
              "\n",
              "    .dataframe thead th {\n",
              "        text-align: right;\n",
              "    }\n",
              "</style>\n",
              "<table border=\"1\" class=\"dataframe\">\n",
              "  <thead>\n",
              "    <tr style=\"text-align: right;\">\n",
              "      <th></th>\n",
              "      <th>Training Loss</th>\n",
              "      <th>Valid. Loss</th>\n",
              "      <th>Training Time</th>\n",
              "      <th>Validation Time</th>\n",
              "    </tr>\n",
              "    <tr>\n",
              "      <th>epoch</th>\n",
              "      <th></th>\n",
              "      <th></th>\n",
              "      <th></th>\n",
              "      <th></th>\n",
              "    </tr>\n",
              "  </thead>\n",
              "  <tbody>\n",
              "    <tr>\n",
              "      <th>1</th>\n",
              "      <td>0.55</td>\n",
              "      <td>0.32</td>\n",
              "      <td>0:08:16</td>\n",
              "      <td>0:00:17</td>\n",
              "    </tr>\n",
              "    <tr>\n",
              "      <th>2</th>\n",
              "      <td>0.30</td>\n",
              "      <td>0.31</td>\n",
              "      <td>0:08:17</td>\n",
              "      <td>0:00:17</td>\n",
              "    </tr>\n",
              "    <tr>\n",
              "      <th>3</th>\n",
              "      <td>0.26</td>\n",
              "      <td>0.32</td>\n",
              "      <td>0:08:12</td>\n",
              "      <td>0:00:17</td>\n",
              "    </tr>\n",
              "    <tr>\n",
              "      <th>4</th>\n",
              "      <td>0.21</td>\n",
              "      <td>0.34</td>\n",
              "      <td>0:08:11</td>\n",
              "      <td>0:00:18</td>\n",
              "    </tr>\n",
              "    <tr>\n",
              "      <th>5</th>\n",
              "      <td>0.17</td>\n",
              "      <td>0.38</td>\n",
              "      <td>0:08:13</td>\n",
              "      <td>0:00:17</td>\n",
              "    </tr>\n",
              "  </tbody>\n",
              "</table>\n",
              "</div>"
            ],
            "text/plain": [
              "       Training Loss  Valid. Loss Training Time Validation Time\n",
              "epoch                                                          \n",
              "1               0.55         0.32       0:08:16         0:00:17\n",
              "2               0.30         0.31       0:08:17         0:00:17\n",
              "3               0.26         0.32       0:08:12         0:00:17\n",
              "4               0.21         0.34       0:08:11         0:00:18\n",
              "5               0.17         0.38       0:08:13         0:00:17"
            ]
          },
          "metadata": {
            "tags": []
          },
          "execution_count": 26
        }
      ]
    },
    {
      "cell_type": "code",
      "metadata": {
        "id": "68xreA9JAmG5",
        "colab": {
          "base_uri": "https://localhost:8080/",
          "height": 427
        },
        "outputId": "6dfb0539-cb45-40f5-b286-902f03e85c8f"
      },
      "source": [
        "# Use plot styling from seaborn.\n",
        "sns.set(style='darkgrid')\n",
        "\n",
        "# Increase the plot size and font size.\n",
        "sns.set(font_scale=1.5)\n",
        "plt.rcParams[\"figure.figsize\"] = (12,6)\n",
        "\n",
        "# Plot the learning curve.\n",
        "plt.plot(df_stats['Training Loss'], 'b-o', label=\"Training\")\n",
        "plt.plot(df_stats['Valid. Loss'], 'g-o', label=\"Validation\")\n",
        "\n",
        "# Label the plot.\n",
        "plt.title(\"Training & Validation Loss\")\n",
        "plt.xlabel(\"Epoch\")\n",
        "plt.ylabel(\"Loss\")\n",
        "plt.legend()\n",
        "plt.xticks([1, 2, 3, 4])\n",
        "\n",
        "plt.show()"
      ],
      "execution_count": 27,
      "outputs": [
        {
          "output_type": "display_data",
          "data": {
            "image/png": "[encoded data removed]",
            "text/plain": [
              "<Figure size 864x432 with 1 Axes>"
            ]
          },
          "metadata": {
            "tags": []
          }
        }
      ]
    },
    {
      "cell_type": "markdown",
      "metadata": {
        "id": "GfjYoa6WmkN6"
      },
      "source": [
        "# Display Model Info"
      ]
    },
    {
      "cell_type": "code",
      "metadata": {
        "id": "8PIiVlDYCtSq",
        "colab": {
          "base_uri": "https://localhost:8080/"
        },
        "outputId": "95c3333e-d745-4933-e78d-0ee30176026f"
      },
      "source": [
        "# Get all of the model's parameters as a list of tuples.\n",
        "params = list(model.named_parameters())\n",
        "\n",
        "print('The GPT-2 model has {:} different named parameters.\\n'.format(len(params)))\n",
        "\n",
        "print('==== Embedding Layer ====\\n')\n",
        "\n",
        "for p in params[0:2]:\n",
        "    print(\"{:<55} {:>12}\".format(p[0], str(tuple(p[1].size()))))\n",
        "\n",
        "print('\\n==== First Transformer ====\\n')\n",
        "\n",
        "for p in params[2:14]:\n",
        "    print(\"{:<55} {:>12}\".format(p[0], str(tuple(p[1].size()))))\n",
        "\n",
        "print('\\n==== Output Layer ====\\n')\n",
        "\n",
        "for p in params[-2:]:\n",
        "    print(\"{:<55} {:>12}\".format(p[0], str(tuple(p[1].size()))))"
      ],
      "execution_count": 28,
      "outputs": [
        {
          "output_type": "stream",
          "text": [
            "The GPT-2 model has 148 different named parameters.\n",
            "\n",
            "==== Embedding Layer ====\n",
            "\n",
            "transformer.wte.weight                                  (50259, 768)\n",
            "transformer.wpe.weight                                   (1024, 768)\n",
            "\n",
            "==== First Transformer ====\n",
            "\n",
            "transformer.h.0.ln_1.weight                                   (768,)\n",
            "transformer.h.0.ln_1.bias                                     (768,)\n",
            "transformer.h.0.attn.c_attn.weight                       (768, 2304)\n",
            "transformer.h.0.attn.c_attn.bias                             (2304,)\n",
            "transformer.h.0.attn.c_proj.weight                        (768, 768)\n",
            "transformer.h.0.attn.c_proj.bias                              (768,)\n",
            "transformer.h.0.ln_2.weight                                   (768,)\n",
            "transformer.h.0.ln_2.bias                                     (768,)\n",
            "transformer.h.0.mlp.c_fc.weight                          (768, 3072)\n",
            "transformer.h.0.mlp.c_fc.bias                                (3072,)\n",
            "transformer.h.0.mlp.c_proj.weight                        (3072, 768)\n",
            "transformer.h.0.mlp.c_proj.bias                               (768,)\n",
            "\n",
            "==== Output Layer ====\n",
            "\n",
            "transformer.ln_f.weight                                       (768,)\n",
            "transformer.ln_f.bias                                         (768,)\n"
          ],
          "name": "stdout"
        }
      ]
    },
    {
      "cell_type": "markdown",
      "metadata": {
        "id": "q2079Qyn8Mt8"
      },
      "source": [
        "# Saving & Loading Fine-Tuned Model\n"
      ]
    },
    {
      "cell_type": "code",
      "metadata": {
        "id": "6ulTWaOr8QNY",
        "colab": {
          "base_uri": "https://localhost:8080/"
        },
        "outputId": "9d317d6e-880a-4033-fb5f-9b45d8e7f2e4"
      },
      "source": [
        "# Saving best-practices: if you use defaults names for the model, you can reload it using from_pretrained()\n",
        "\n",
        "output_dir = './model_save/'\n",
        "\n",
        "# Create output directory if needed\n",
        "if not os.path.exists(output_dir):\n",
        "    os.makedirs(output_dir)\n",
        "\n",
        "print(\"Saving model to %s\" % output_dir)\n",
        "\n",
        "# Save a trained model, configuration and tokenizer using `save_pretrained()`.\n",
        "# They can then be reloaded using `from_pretrained()`\n",
        "model_to_save = model.module if hasattr(model, 'module') else model  # Take care of distributed/parallel training\n",
        "model_to_save.save_pretrained(output_dir)\n",
        "tokenizer.save_pretrained(output_dir)\n",
        "\n",
        "# Good practice: save your training arguments together with the trained model\n",
        "# torch.save(args, os.path.join(output_dir, 'training_args.bin'))\n"
      ],
      "execution_count": 29,
      "outputs": [
        {
          "output_type": "stream",
          "text": [
            "Saving model to ./model_save/\n"
          ],
          "name": "stdout"
        },
        {
          "output_type": "execute_result",
          "data": {
            "text/plain": [
              "('./model_save/tokenizer_config.json',\n",
              " './model_save/special_tokens_map.json',\n",
              " './model_save/vocab.json',\n",
              " './model_save/merges.txt',\n",
              " './model_save/added_tokens.json')"
            ]
          },
          "metadata": {
            "tags": []
          },
          "execution_count": 29
        }
      ]
    },
    {
      "cell_type": "code",
      "metadata": {
        "id": "mqMzI3VTCZo5",
        "colab": {
          "base_uri": "https://localhost:8080/"
        },
        "outputId": "398852f2-77e8-42be-fd69-12a5f489f805"
      },
      "source": [
        "!ls -l --block-size=K ./model_save/"
      ],
      "execution_count": 30,
      "outputs": [
        {
          "output_type": "stream",
          "text": [
            "total 499796K\n",
            "-rw-r--r-- 1 root root      1K Apr 11 08:09 added_tokens.json\n",
            "-rw-r--r-- 1 root root      1K Apr 11 08:09 config.json\n",
            "-rw-r--r-- 1 root root    446K Apr 11 08:09 merges.txt\n",
            "-rw-r--r-- 1 root root 498452K Apr 11 08:09 pytorch_model.bin\n",
            "-rw-r--r-- 1 root root      1K Apr 11 08:09 special_tokens_map.json\n",
            "-rw-r--r-- 1 root root      1K Apr 11 08:09 tokenizer_config.json\n",
            "-rw-r--r-- 1 root root    878K Apr 11 08:09 vocab.json\n"
          ],
          "name": "stdout"
        }
      ]
    },
    {
      "cell_type": "code",
      "metadata": {
        "id": "-WUFUIQ8Cu8D",
        "colab": {
          "base_uri": "https://localhost:8080/"
        },
        "outputId": "07c31cb6-564b-4958-f851-02b7677bcdb7"
      },
      "source": [
        "!ls -l --block-size=M ./model_save/pytorch_model.bin"
      ],
      "execution_count": 31,
      "outputs": [
        {
          "output_type": "stream",
          "text": [
            "-rw-r--r-- 1 root root 487M Apr 11 08:09 ./model_save/pytorch_model.bin\n"
          ],
          "name": "stdout"
        }
      ]
    },
    {
      "cell_type": "code",
      "metadata": {
        "id": "NxlZsafTC-V5"
      },
      "source": [
        "# Copy the model files to a directory in your Google Drive.\n",
        "!cp -r ./model_save/ $data_dir\n",
        "\n",
        "# # Load a trained model and vocabulary that you have fine-tuned\n",
        "#model = GPT2LMHeadModel.from_pretrained(output_dir)\n",
        "#tokenizer = GPT2Tokenizer.from_pretrained(output_dir)\n",
        "#model.to(device)"
      ],
      "execution_count": 32,
      "outputs": []
    },
    {
      "cell_type": "markdown",
      "metadata": {
        "id": "ZLf6rbRglYhQ"
      },
      "source": [
        "# Generate Text"
      ]
    },
    {
      "cell_type": "code",
      "metadata": {
        "id": "v4XhewaV93-_",
        "colab": {
          "base_uri": "https://localhost:8080/"
        },
        "outputId": "5e3be2e4-6ed6-4df8-ea0b-e14efb73cb5f"
      },
      "source": [
        "model.eval()\n",
        "\n",
        "prompt = \"<|startoftext|>\"\n",
        "\n",
        "generated = torch.tensor(tokenizer.encode(prompt)).unsqueeze(0)\n",
        "generated = generated.to(device)\n",
        "\n",
        "print(generated)\n",
        "\n",
        "sample_outputs = model.generate(\n",
        "                                generated, \n",
        "                                #bos_token_id=random.randint(1,30000),\n",
        "                                do_sample=True,   \n",
        "                                top_k=50, \n",
        "                                max_length = 300,\n",
        "                                top_p=0.95, \n",
        "                                num_return_sequences=3\n",
        "                                )\n",
        "\n",
        "for i, sample_output in enumerate(sample_outputs):\n",
        "  print(\"{}: {}\\n\\n\".format(i, tokenizer.decode(sample_output, skip_special_tokens=True)))"
      ],
      "execution_count": 33,
      "outputs": [
        {
          "output_type": "stream",
          "text": [
            "Setting `pad_token_id` to `eos_token_id`:50256 for open-end generation.\n"
          ],
          "name": "stderr"
        },
        {
          "output_type": "stream",
          "text": [
            "tensor([[50257]], device='cuda:0')\n",
            "0: \"We had better go the other way.\"\n",
            "\n",
            "\n",
            "1: \"Yes, of course of course.\"\n",
            "\n",
            "\n",
            "2: He was now on the point of no returning till they reached the plantation, for that part of the evening, when he was first invited to breakfast by Mrs. Bennet. The invitation was accepted; and as he took leave of his relations, the whole party, with many of their aunties, were seated at table. The youngest, Kitty, was eight years old; the tallest, Lydia, eight years old; and, though the two youngest were very small, the younger ones were as handsome as Mr. Darcy's sisters. In distinguishing the younger girls from the rest, he was particularly instructive; for she was to prefer either Jane or Elizabeth to anybody else, for it was not in her power to determine between the two.\n",
            "\n",
            "\n"
          ],
          "name": "stdout"
        }
      ]
    },
    {
      "cell_type": "markdown",
      "metadata": {
        "id": "t4LrX5H-0nAU"
      },
      "source": [
        "(10 pts) These aren't bad at all! Now train the model on your chosen text and report 10 example generations that you think are interesting!\n"
      ]
    },
    {
      "cell_type": "code",
      "metadata": {
        "colab": {
          "base_uri": "https://localhost:8080/"
        },
        "id": "-xdzlgpfBNyP",
        "outputId": "079622fb-93d0-4120-d100-7d990a15a152"
      },
      "source": [
        "filename = 'speeches.txt'\n",
        "!cp $data_dir/$filename .\n",
        "\n",
        "f=open(filename)\n",
        "bios=f.readlines()\n",
        "bios=[b.strip() for b in bios]\n",
        "bios = [x for x in bios if x != '']\n",
        "bios"
      ],
      "execution_count": 54,
      "outputs": [
        {
          "output_type": "execute_result",
          "data": {
            "text/plain": [
              "['\\ufeffSPEECH 1',\n",
              " \"...Thank you so much.  That's so nice.  Isn't he a great guy.  He doesn't get a fair press; he doesn't get it.  It's just not fair.  And I have to tell you I'm here, and very strongly here, because I have great respect for Steve King and have great respect likewise for Citizens United, David and everybody, and tremendous resect for the Tea Party.  Also, also the people of Iowa.  They have something in common.  Hard-working people.  They want to work, they want to make the country great.  I love the people of Iowa.  So that's the way it is.  Very simple.\",\n",
              " \"With that said, our country is really headed in the wrong direction with a president who is doing an absolutely terrible job.  The world is collapsing around us, and many of the problems we've caused.  Our president is either grossly incompetent, a word that more and more people are using, and I think I was the first to use it, or he has a completely different agenda than you want to know about, which could be possible.  In any event, Washington is broken, and our country is in serious trouble and total disarray.  Very simple.  Politicians are all talk, no action.  They are all talk and no action.  And it's constant; it never ends.\",\n",
              " \"And I'm a conservative, actually very conservative, and I'm a Republican.  And I'm very disappointed by our Republican politicians.  Because they let the president get away with absolute murder.  You see always, oh we're going to do this, we're going to--.  Nothing ever happens; nothing ever happens.\",\n",
              " \"You look at Obamacare.  A total catastrophe and by the way it really kicks in in '16 and it is going to be a disaster.  People are closing up shops.  Doctors are quitting the business.  I have a friend of mine who's a doctor, a very good doctor, a very successful guy.  He said, I have more accountants than I have patients.  And he needs because it is so complicated and so terrible and he's never had that before and he's going to close up his business.  And he was very successful guy.  But it's happening more and more.\",\n",
              " \"Look at Obamacare with a $5 billion website.  I have many websites, many, many websites.  They're all over the place.  But for $10, okay?\",\n",
              " \"Now everything about Obamacare was a lie.  It was a filthy lie.  And when you think about it, lies, I mean are they prosecuted?  Does anyone do anything?  And what are the Republican politicians doing about it?  He lied about the doctor, he lied about every aspect.  You can keep your plan.  And you've all heard that hundreds of times.  That's like the real estate location, location.  I don't even say it anymore because everybody goes location, location.  But you have heard this about Obamacare.\",\n",
              " \"And it's disgraceful.  It's a big, fat, horrible lie.  Your deductibles are going through the roof.  You're not going to get--unless you're hit by an army tank, you're not going to get coverage.  And people that had plans that they loved, that they really loved, don't have those plans anymore.  So it's a real, real disaster.  And somebody has to repeal and replace Obamacare.  And they have to do it fast and not just talk about it.\",\n",
              " \"Now, we have to build a fence.  And it's got to be a beauty.  Who can build better than Trump?  I build; it's what I do.  I build; I build nice fences, but I build great buildings.  Fences are easy, believe me.  I saw the other day on television people just walking across the border.  They're walking.  The military is standing there holding guns and people are just walking right in front, coming into our country.  It is so terrible.  It is so unfair.  It is so incompetent.  And we don't have the best coming in.  We have people that are criminals, we have people that are crooks.  You can certainly have terrorists.  You can certainly have Islamic terrorists.  You can have anything coming across the border.  We don't do anything about it.  So I would say that if I run and if I win, I would certainly start by building a very, very powerful border.\",\n",
              " 'Again, the politicians talk about it and they do nothing about it.  Benghazi.  Oh, Benghazi, Benghazi.  Everything is Benghazi.  What happens?  Nothing.',\n",
              " \"IRS, e-mails.  I get sued all the time, okay.  I run a big business.  You know I've always said it's very, very hard for a person who is very successful.  I have done so many deals.  Almost all of them have been tremendously successful.  You'll see that when I file my statements.  I mean you will see; you will be very proud of me, okay.  But I've always said, and I said it strongly, it's very hard for somebody that does tremendous numbers of deals to run for politics, run for political office, any office, let alone president.  Because you've done so much; you've beaten so many people; you've created so many--  Look, Obama, what did he do?  No deal.  He never did a deal.  He did one deal.  A house.  And if you did that house you'd be in jail right now, okay.  He got away with murder.  But I can tell you, e-mails.  IRS, the e-mails, thousands of them, they were lost; they were lost.  If you were in my world you would know that e-mails can't be lost; they can't be lost.  So why aren't our politicians finding out where those e-mails are?\",\n",
              " \"They talk about executive orders and they talk about immigration and they talk about oh well we have to stop the border; that's the end of it.  Believe me if I did something you would have a border that would be great.  But they talk about it.  And then you have a president that does an executive order.  Nobody even heard of an executive order.  He does it to let people come in and nobody does anything about executive orders.  Why didn't they go to court and ask for declaratory judgment--which is something that when you know somebody is going to go after you and when it's in writing, and he's been saying it for a long time; he said, I'm going to approve this and that--why didn't our Republicans go in and get a declaratory judgment from the courts because you could have started the process six months earlier.  Instead they have a weak lawsuit, that probably the time it's finished, I know so much about this, six, seven, eight years from now everyone's going to forget about it.  We'll be into a different mode, and our country will be further destroyed.  So we have to do something.\",\n",
              " \"Jobs.  China.  I mean I've made so much money fighting against the Chinese.  One of the best deals I ever did was against the Chinese, and they respect me for it.  And I know them.  And they say, we can't believe what we're getting away with.  We can't believe how stupid your leaders are.  They tell me that.  Now they don't know I'm going to go and make a speech about it, but why not.  But they tell me that.\",\n",
              " \"And by the way, especially for the folks here that sell so much--goods, I mean the goods you sell are incredible; I don't know if you've been watching what's happening with the devaluations of so many countries.  The Euro, China is going crazy with the devaluation.  I never thought that they'd have the guts to do what they're doing.  They are devaluing down to nothing.  And what it's going to do is make it impossible for you to sell your product; it's going make it impossible for you to compete.  And they're getting away with it.  And they wouldn't have even done it two years ago, but now they feel we're so weak and we have so many different problems all over the world that they can do it.  But you watch this devaluation of all of it.  I mean the Euro, China, Mexico; everybody is devaluing.  And when you hear the dollar is getting stronger, it sounds good.  You know it's one of those things, sounds good.  Be very careful.  Be very careful.  Because we're just going to lose more and more business to these foreign countries that really know what they are doing.  They have it set.  Don't forget another thing.  China became the number one economic power a year ago.  That was unthinkable; to think that that was going to happen.  It was absolutely unthinkable.  So it happened and it's very, very sad.\",\n",
              " \"Now we spent $2 trillion in Iraq.  We got nothing.  They don't even respect us; they don't even care about us.  Until they started getting their ass kicked, and call, oh please come back and help us.  We want you out; then all of the sudden a new group forms, ISIS.  By the way, you know how they formed.  They took the oil.  And for those of you that know and love Donald Trump--there are some of you--have I been saying for four years, keep the oil.  So now ISIS has the oil.  And the stuff that ISIS doesn't have, Iran is going to take.  So we get nothing.  We have $2 trillion and we have thousands of lives lost, thousands, and we have, what do we have.  I mean I walk down the streets of New York and I see so many wounded warriors, incredible people.  And we have to help those people, we have to help our vets, we have to help our military, we have to build our military.  But, and we have to do it fast; we have to do it fast.  We have incompetent people.  They put people in charge that have no clue what they're doing.  It needs money.\",\n",
              " \"We have to make our country rich again so we do that, so we can save Social Security.  'Cause I'm not a cutter; I'll probably be the only Republican that does not want to cut Social Security.  I'm not a cutter of Social Security; I want to make the country rich so that Social Security can be afforded, and Medicare and Medicaid.  Get rid of the waste, get rid of the fraud, but you deserve your Social Security; you've been paying your Security.  And like, I like Congressman Ryan, I like a lot of the people that are talking about you know cutting Social Security, and by the way the Democrats are eating your lunch on this issue.  It's an issue that you're not going to win; you've got to make the country rich again and strong again so that you can afford it, and so you can afford military, and all of the other things.\",\n",
              " \"Now, we have a game changer now, and the game changer is nuclear weapons.  We really do have to get strong, and we have to get strong fast.  We can't let Iran get a nuclear weapon.  We can't do it.  Can't do it.  We cannot let that happen.  You know in the old days, I would have said 100 years ago, 50 years ago, 30 years ago, pull out and let them fight each other.\",\n",
              " \"Here we are in Syria.  We're fighting people that want to overturn Syria.  Think of this.  We're fighting ISIS, but ISIS wants to overturn the government.  Maybe you let them fight for a little while and then you take out the one that remains, okay.  But think of it; think of it.  ISIS is fighting them and we are bombing the hell out of them, but we want Syria to fall.  There are so many things; there are so many things.\",\n",
              " \"But the one game changer that we have to be careful with, that we never really had to think about  too much before, other than a cetain number of years ago, is the nuclear.  Nuclear today, it's not like soldiers in uniforms shooting rifles.  You can take out the East Coast of this country, you can take out large sections of the Midwest, you can take out things that were unthinkable.  The power.  And we have to be in a position where that never, ever, ever, every happens.  We've never had this before.\",\n",
              " \"We have a situation in Afghanistan; we're spending tremendous amounts of money there.  We're trying to do the right thing.  We have leadership, again--no leadership respects us.  You know, leadership of other places never respect stupid people, okay, that's one thing you're going to find.  The same thing is happening there.  And I never knew that Afghanistan until a year ago or so, Afghanistan has tremendous wealth in minerals, different, not the oil, but minerals.  And we're fighting here, and on the other side of the mountain China is taking out all the minerals.  They're taking it out.  Trillion of dollars and millions of dollars of minerals.  So we're fighting here and they are taking it out, looking at us and saying thank you very much sucker.  It's really, really crazy.\",\n",
              " \"So we have to rebuild quickly our infrastructure of this country.  If we don't--  The other day in Ohio a bridge collapsed.  Bridges are collapsing all over the country.  The reports on bridges and the like are unbelievable, what's happening with our infrastructure.\",\n",
              " 'I go to Saudi Arabia, I go to Dubai; I am doing big jobs in Dubai.  I go to various different places.  I go to China.  They are building a bridge on every corner.  They have bridges that make the George Washington Bridge like small time stuff.  They\\'re building the most incredible things you have ever seen.  They are building airports in Qatar--which they like to say \"cutter\" but I\\'ve always said \"qatar\" so I\\'ll keep it \"qatar\" what the hell.  But they\\'re building, they\\'re building an airport and have just completed an airport the likes of which you have never seen, in Dubai an airport the likes of which you have never seen.  And then I come back to LaGuardia where the runways have potholes.  The place is falling apart.  You go into the main terminal and they have a terraza floor that\\'s so old it\\'s falling apart.  And they have a hole in it, and they replace it with asphalt.  So you have a white terraza floor and they put asphalt all over the place.  This is inside, not outside.  And I just left Dubai where they have the most incredible thing you\\'ve ever seen.  In fact my pilot said oh Mr. Trump this is such an honor.  I said it\\'s not an honor; they\\'re just smart.  But you look at LAX, and you look at Kennedy Airport, and you look at our airports generally, you look at our roadways where they\\'re crumbling.',\n",
              " \"You look at all of the things that are bad--  I'll give you an example. And this isn't part of what I was going to say, but I ride down the highways and somebody makes those guard rails.  You know the guard rails.  The ones that sort of go like this [demonstrates with hand] that are always  bent, rusted and horrible.  Did you ever see more than like 20 feet which isn't corroded, or bent or the heat, if it gets too hot, it just crushes.  Now they've been selling this thing for 25 years.  Why doesn't someone stop them and get something that works.  Because they don't know; they don't know what's happening.  Somebody made a lot of money on that.  They don't know what is happening.\",\n",
              " \"So we have to make our country great again.  We have to rebuild our country.  And we have a long way to go.  We are just in such serious trouble because we owe so much money.  Now we owe it to the Chinese, a lot of it.  We owe it to other countries.  They're the ones that hold the debt.  And then we give them money.  We have countries that we owe money to and yet we're giving them subsidies.  I just ordered thousands of television sets and between LG and Samsung and I mean you know--  No American company comes to see and comes to bid.  It's South Korea, and whenever they have a problem we send the battleships, we send the destroyers, we send our airplanes, we're going to protect them.  What are we doing; why aren't they paying us?  Why aren't they paying us; what are we doing?  I order thousands and thousands of sets all the time, for some reason it's South Korea.  You know whether it's China, South Korea, but in this case televisions, South Korea.  Why aren't they doing something to justify what is going on?\",\n",
              " 'Now, we have a very important election coming up.  We have a presidential election coming up. And we have some good people.  Nobody like Trump of course, but these are minor details.  We have some good people.',\n",
              " \"It' can't be Mitt because Mitt ran and failed.  He failed.  I mean I liked him.  Look--like him, dislike him--the 47% statement that he made, that's not going away.  The Romneycare from Massachusetts, that's not going away.  What do you think they're going to say oh we won't bring that up this time.  It's not fair because it was a long t--  That doesn't work.  But more importantly, he choked.  Something happened to him in the last month.  He had that election won.  And let me tell you something.  That election, sort of like a dealmaker that can't close the deal.  I know many of those guys; they get it up to the one-yard line, they go ah, ah I can't close it.  Or a golfer that can't sink the three-footer to win the tournament.  And there are many of them.  Most people are like that; I mean most people are like that.  You can't give somebody another chance, 'cause actually I think this election is tougher to win than beating a failed president.  I really do.  I think beating Obama would have been a much easier one than the one that's coming up, which is sad to say but true.  So you can't have Romney.  He choked.\",\n",
              " \"You can't have Bush.  The last thing we need is another Bush.  Now I made that statement very strongly, and now every one says the last thing--  You know they copied it.  I'll be accused of copying the statement; that's the bad thing.  But I said it.  I was the one that said it first, and I mean it.  The last thing we need is another Bush.  Now, he's totally in favor of Common Core; that's a disaster, that's bad, it should be local and all of that.  But he's totally in favor of Common Core.  He's very, very weak on immigration.  Don't forget--remember his statement--they come for love.  I say, what?  Come for love?  You've got these people coming, half of them are criminals.  They're coming for love?  They're coming for a lot of other reasons, and it's not love.  And when he runs, you got to remember his brother really gave us Obama.  I was never a big fan, but his brother gave us Obama.  'Cause Abraham Lincoln coming home back from the dead could not have won the election because it was going so badly and the economy was just absolutely in shambles that last couple of months.  And then he appointed Justice Roberts.  And Jeb wanted Justice Roberts.  And Justice Roberts basically approved Obamacare in a shocking decision that nobody believes.  So you can't have Jeb Bush.  And he's going to lose aside from that; he's not going to win.  So Mitt and--you just can't have those two.  That's it.  That's it.  It's so simple.\",\n",
              " \"So just in summing up and I just wrote a few of these little points down because it's very important.  And I watch these teleprompters, and by the way I think any president candidate that runs should not be allowed to use a teleprompter, because we got one that uses teleprompters.  And people say, oh he is so quick on his feet.  He is reading it.  I mean give me a break.  Everything is read.  You don't really test the mettle of a man or a woman unless they can get up on stage and talk.  And that's what we ended up getting--the king of teleprompters.  But, so when I look at these things here I say you know what, it's so much easier, it would be so nice, just bah, pa, bah, pa, bah, bing, bing, bing.  No problems, get off stage, everybody falls asleep and that's the end of that.  But we have to do something about these teleprompters.\",\n",
              " \"But in looking at these situations--  I built an incredible company.  And you'll see that.  An incredible company; a wonderful company.  I employ thousands of people and I love doing what I'm doing.  And in a certain way, I wish I weren't doing this, but our country is in such trouble and would be so easy to fix.  We have such great potential.\",\n",
              " 'So if I run for president and if I win, I would totally succeed in:',\n",
              " 'creating jobs;',\n",
              " 'defeating ISIS and stopping the Islamic terrorists--and you have to do that;',\n",
              " 'reducing the budget deficit--so important, have to do it;',\n",
              " 'securing our Southern border--and I mean seriously securing it;',\n",
              " 'stopping nuclear weapons in Iran and elsewhere;',\n",
              " \"saving Social Security, Medicare and Medicaid, without cutting it down to the bone because it's not fair to people that have been paying for their whole lives and other people and it's not fair to future people coming up, and we can do it;\",\n",
              " \"repealing Obamacare and replacing it with something far better for the people, and far less expensive, both for the people and for the country.  And believe me there are plans that are so much better for everybody.  And everybody can be covered.  I'm not saying leave 50-percent of the people out.  Everybody can be c-- This plan is just a basic disaster.  Nobody knows.  As bad as the website was, this is how bad the plan itself is;\",\n",
              " \"fixing our country's infrastructure, our bridges, our schools, our highways, our airports.  And that, I can tell you, nobody is close to Trump.  I just got the best hotel in North America.  I'm building, which is sort of interesting, think of this one.  I'm building one of the great hotels of the world on Pennsylvania Avenue, right opposite the White House, between the White House and Congress.  Right on Penn.--  The  Old Post Office site, and I got it from Obama.  Do you believe that?  And everybody wanted it.  So, I can't believe it myself.  But it's going to be fantastic;\",\n",
              " 'and so many other things.',\n",
              " 'I know what needs to be done to make America great again.  We can make this country great again.  The potential is enormous.  And I am serious thinking of running for president because I can do the job.',\n",
              " 'Thank you all very much.  Thank you.  Thank you.  Thank you.  Thank you.  Thank you very much, everybody.  Thank you.  Beautiful.  Thank you.',\n",
              " 'SPEECH 2',\n",
              " 'Thank you for the opportunity to speak to you, and thank you to the Center for National Interest for honoring me with this invitation. It truly is a great honor. I’d like to talk today about how to develop a new foreign policy direction for our country, one that replaces randomness with purpose, ideology with strategy, and chaos with peace.',\n",
              " 'It’s time to shake the rust off America’s foreign policy. It’s time to invite new voices and new visions into the fold, something we have to do. The direction I will outline today will also return us to a timeless principle. My foreign policy will always put the interests of the American people and American security above all else. It has to be first. Has to be.',\n",
              " 'That will be the foundation of every single decision that I will make.',\n",
              " 'America First will be the major and overriding theme of my administration. But to chart our path forward, we must first briefly take a look back. We have a lot to be proud of.',\n",
              " 'In the 1940s we saved the world. The greatest generation beat back the Nazis and Japanese imperialists. Then we saved the world again. This time, from totalitarianism and communism. The Cold War lasted for decades but, guess what, we won and we won big. Democrats and Republicans working together got Mr. Gorbachev to heed the words of President Reagan, our great president, when he said, tear down this wall.',\n",
              " 'History will not forget what he did. A very special man and president. Unfortunately, after the Cold War our foreign policy veered badly off course. We failed to develop a new vision for a new time. In fact, as time went on, our foreign policy began to make less and less sense. Logic was replaced with foolishness and arrogance, which led to one foreign policy disaster after another.',\n",
              " 'They just kept coming and coming. We went from mistakes in Iraq to Egypt to Libya, to President Obama’s line in the sand in Syria. Each of these actions have helped to throw the region into chaos and gave ISIS the space it needs to grow and prosper. Very bad. It all began with a dangerous idea that we could make western democracies out of countries that had no experience or interests in becoming a western democracy.',\n",
              " 'We tore up what institutions they had and then were surprised at what we unleashed. Civil war, religious fanaticism, thousands of Americans and just killed be lives, lives, lives wasted. Horribly wasted. Many trillions of dollars were lost as a result. The vacuum was created that ISIS would fill. Iran, too, would rush in and fill that void much to their really unjust enrichment.',\n",
              " 'They have benefited so much, so sadly, for us. Our foreign policy is a complete and total disaster. No vision. No purpose. No direction. No strategy. Today I want to identify five main weaknesses in our foreign policy.',\n",
              " 'First, our resources are totally over extended. President Obama has weakened our military by weakening our economy. He’s crippled us with wasteful spending, massive debt, low growth, a huge trade deficit and open borders. Our manufacturing trade deficit with the world is now approaching $1 trillion a year.',\n",
              " 'We’re rebuilding other countries while weakening our own. Ending the theft of American jobs will give us resources we need to rebuild our military, which has to happen and regain our financial independence and strength. I am the only person running for the presidency who understands this and this is a serious problem.',\n",
              " 'I’m the only one — believe me, I know them all, I’m the only one who knows how to fix it.',\n",
              " 'Secondly, our allies are not paying their fair share, and I’ve been talking about this recently a lot. Our allies must contribute toward their financial, political, and human costs, have to do it, of our tremendous security burden. But many of them are simply not doing so.',\n",
              " 'They look at the United States as weak and forgiving and feel no obligation to honor their agreements with us. In NATO, for instance, only 4 of 28 other member countries besides America, are spending the minimum required 2 percent of GDP on defense. We have spent trillions of dollars over time on planes, missiles, ships, equipment, building up our military to provide a strong defense for Europe and Asia.',\n",
              " 'The countries we are defending must pay for the cost of this defense, and if not, the U.S. must be prepared to let these countries defend themselves. We have no choice.',\n",
              " 'The whole world will be safer if our allies do their part to support our common defense and security. A Trump administration will lead a free world that is properly armed and funded, and funded beautifully.',\n",
              " 'Thirdly, our friends are beginning to think they can’t depend on us. We’ve had a president who dislikes our friends and bows to our enemies, something that we’ve never seen before in the history of our country. He negotiated a disastrous deal with Iran, and then we watched them ignore its terms even before the ink was dry. Iran cannot be allowed to have a nuclear weapon, cannot be allowed. Remember that, cannot be allowed to have a nuclear weapon.',\n",
              " 'And under a Trump administration, will never, ever be allowed to have that nuclear weapon.',\n",
              " 'All of this without even mentioning the humiliation of the United States with Iran’s treatment of our ten captured sailors — so vividly I remember that day. In negotiation, you must be willing to walk. The Iran deal, like so many of our worst agreements, is the result of not being willing to leave the table.',\n",
              " 'When the other side knows you’re not going to walk, it becomes absolutely impossible to win — you just can’t win. At the same time, your friends need to know that you will stick by the agreements that you have with them. You’ve made that agreement, you have to stand by it and the world will be a better place. President Obama gutted our missile defense program and then abandoned our missile defense plans with Poland and the Czech Republic. He supported the ouster of a friendly regime in Egypt that had a longstanding peace treaty with Israel, and then helped bring the Muslim Brotherhood to power in its place.',\n",
              " 'Israel, our great friend and the one true democracy in the Middle East has been snubbed and criticized by an administration that lacks moral clarity. Just a few days ago, Vice President Biden again criticized Israel, a force for justice and peace, for acting as an impatient peace area in the region.',\n",
              " 'President Obama has not been a friend to Israel. He has treated Iran with tender love and care and made it a great power. Iran has, indeed, become a great, great power in just a very short period of time, because of what we’ve done. All of the expense and all at the expense of Israel, our allies in the region and very importantly, the United States itself.',\n",
              " 'We’ve picked fights with our oldest friends, and now they’re starting to look elsewhere for help. Remember that. Not good.',\n",
              " 'Fourth, our rivals no longer respect us. In fact, they’re just as confused as our allies, but in an even bigger problem is they don’t take us seriously anymore. The truth is they don’t respect us. When President Obama landed in Cuba on Air Force One, no leader was there, nobody, to greet him.',\n",
              " 'Perhaps an incident without precedent in the long and prestigious history of Air Force One. Then amazingly, the same thing happened in Saudi Arabia. It’s called no respect. Absolutely no respect.',\n",
              " 'Do you remember when the president made a long and expensive trip to Copenhagen, Denmark, to get the Olympics for our country, and after this unprecedented effort, it was announced that the United States came in fourth — fourth place? The president of the United States making this trip — unprecedented — comes in fourth place. He should have known the result before making such an embarrassing commitment. We were laughed at all over the world, as we have been many, many times.',\n",
              " 'The list of humiliations go on and on and on. President Obama watches helplessly as North Korea increases its aggression and expands further and further with its nuclear reach. Our president has allowed China to continue its economic assault on American jobs and wealth, refusing to enforce trade deals and apply leverage on China necessary to rein in North Korea. We have the leverage. We have the power over China, economic power, and people don’t understand it. And with that economic power, we can rein in and we can get them to do what they have to do with North Korea, which is totally out of control.',\n",
              " 'He has even allowed China to steal government secrets with cyber attacks and engaged in industrial espionage against the United States and its companies. We’ve let our rivals and challengers think they can get away with anything, and they do. They do at will. It always happens. If President Obama’s goal had been to weaken America, he could not have done a better job.',\n",
              " 'Finally, America no longer has a clear understanding of our foreign policy goals. Since the end of the Cold War and the breakup of the Soviet Union, we’ve lacked a coherent foreign policy. One day, we’re bombing Libya and getting rid of a dictator to foster democracy for civilians. The next day, we’re watching the same civilians suffer while that country falls and absolutely falls apart. Lives lost, massive moneys lost. The world is a different place.',\n",
              " 'We’re a humanitarian nation, but the legacy of the Obama-Clinton interventions will be weakness, confusion and disarray, a mess. We’ve made the Middle East more unstable and chaotic than ever before. We left Christians subject to intense persecution and even genocide.',\n",
              " 'We have done nothing to help the Christians, nothing, and we should always be ashamed for that, for that lack of action. Our actions in Iraq, Libya and Syria have helped unleash ISIS, and we’re in a war against radical Islam, but President Obama won’t even name the enemy, and unless you name the enemy, you will never ever solve the problem.',\n",
              " 'Hillary Clinton also refuses to say the words radical Islam, even as she pushes for a massive increase in refugees coming into our country. After Secretary Clinton’s failed intervention in Libya, Islamic terrorists in Benghazi took down our consulate and killed our ambassador and three brave Americans. Then, instead of taking charge that night, Hillary Clinton decided to go home and sleep. Incredible.',\n",
              " 'Clinton blames it all on a video, an excuse that was a total lie, proven to be absolutely a total lie. Our ambassador was murdered and our secretary of state misled the nation. And, by the way, she was not awake to take that call at 3 o’clock in the morning. And now ISIS is making millions and millions of dollars a week selling Libya oil. And you know what? We don’t blockade, we don’t bomb, we don’t do anything about it. It’s almost as if our country doesn’t even know what’s happening, which could be a fact and could be true. This will all change when I become president.',\n",
              " 'To our friends and allies, I say America is going to be strong again. America is going to be reliable again. It’s going to be a great and reliable ally again. It’s going to be a friend again. We’re going to finally have a coherent foreign policy based upon American interests and the shared interests of our allies.',\n",
              " 'We’re getting out of the nation-building business and instead focusing on creating stability in the world. Our moments of greatest strength came when politics ended at the water’s edge. We need a new rational American foreign policy, informed by the best minds and supported by both parties, and it will be by both parties — Democrats, Republicans, independents, everybody, as well as by our close allies.',\n",
              " 'This is how we won the Cold War and it’s how we will win our new future struggles, which may be many, which may be complex, but we will win if I become president.',\n",
              " 'First, we need a long-term plan to halt the spread and reach of radical Islam. Containing the spread of radical Islam must be a major foreign policy goal of the United States and indeed the world. Events may require the use of military force, but it’s also a philosophical struggle, like our long struggle in the Cold War.',\n",
              " 'In this, we’re going to be working very closely with our allies in the Muslim world, all of which are at risk from radical Islamic violence, attacks and everything else. It is a dangerous world, more dangerous now than it has ever been.',\n",
              " 'We should work — thank you.',\n",
              " 'We should work together with any nation in the region that is threatened by the rise of radical Islam. But this has to be a two-way street. They must also be good to us. Remember that. They have to be good to us, no longer one way. It’s now two-way. And remember, us and all we’re doing, they have to appreciate what we’ve done to them. We’re going to help, but they have to appreciate what we’ve done for them. The struggle against radical Islam also takes place in our homeland. There are scores of recent migrants inside our borders charged with terrorism. For every case known to the public, there are dozens and dozens more. We must stop importing extremism through senseless immigration policies. We have no idea where these people are coming from. There’s no documentation. There’s no paperwork. There’s nothing. We have to be smart. We have to be vigilant.',\n",
              " 'A pause for reassessment will help us to prevent the next San Bernardino or frankly, much worse. All you have to do is look at the World Trade Center and September 11th, one of the great catastrophes, in my opinion, the single greatest military catastrophe in the history of our country; worse than Pearl Harbor because you take a look at what’s happened, and citizens were attacked, as opposed to the military being attacked — one of the true great catastrophes.',\n",
              " 'And then there’s ISIS. I have a simple message for them. Their days are numbered. I won’t tell them where and I won’t tell them how. We must...',\n",
              " '... we must as a nation be more unpredictable. We are totally predictable. We tell everything. We’re sending troops. We tell them. We’re sending something else. We have a news conference. We have to be unpredictable. And we have to be unpredictable starting now.',\n",
              " 'But they’re going to be gone. ISIS will be gone if I’m elected president. And they’ll be gone quickly. They will be gone very, very quickly.',\n",
              " 'Secondly, we have to rebuild our military and our economy. The Russians and Chinese have rapidly expanded their military capability, but look at what’s happened to us. Our nuclear weapons arsenal, our ultimate deterrent, has been allowed to atrophy and is desperately in need of modernization and renewal. And it has to happen immediately. Our active duty armed forces have shrunk from 2 million in 1991 to about 1.3 million today. The Navy has shrunk from over 500 ships to 272 ships during this same period of time. The Air Force is about one-third smaller than 1991. Pilots flying B-52s in combat missions today. These planes are older than virtually everybody in this room.',\n",
              " 'And what are we doing about this? President Obama has proposed a 2017 defense budget that in real dollars, cuts nearly 25 percent from what we were spending in 2011. Our military is depleted and we’re asking our generals and military leaders to worry about global warming.',\n",
              " 'We will spend what we need to rebuild our military. It is the cheapest, single investment we can make. We will develop, build and purchase the best equipment known to mankind. Our military dominance must be unquestioned, and I mean unquestioned, by anybody and everybody.',\n",
              " 'But we will look for savings and spend our money wisely. In this time of mounting debt, right now we have so much debt that nobody even knows how to address the problem. But I do. No one dollar can be wasted. Not one single dollar can we waste. We’re also going to have to change our trade, immigration and economic policies to make our economy strong again. And to put Americans first again.',\n",
              " 'This will ensure that our own workers, right here in America, get the jobs and higher pay that will grow our tax revenues, increase our economic might as a nation, make us strong financially again. So, so important. We need to think smart about areas where our technological superiority, and nobody comes close, gives us an edge.',\n",
              " 'This includes 3D printing, artificial intelligence and cyber warfare. A great country also takes care of its warriors. Our commitment to them is absolute, and I mean absolute. A Trump administration will give our servicemen and women the best equipment and support in the world when they serve and where they serve. And the best care in the world when they return as veterans and they come back home to civilian life. Our veterans...',\n",
              " 'Our veterans have not been treated fairly or justly. These are our great people and we must treat them fairly. We must even treat them really, really well and that will happen under the Trump administration.',\n",
              " 'Finally, we must develop a foreign policy based on American interests. Businesses do not succeed when they lose sight of their core interests and neither do countries. Look at what happened in the 1990s. Our embassies in Kenya and Tanzania — and this was a horrible time for us — were attacked. and 17 brave sailors were killed on the U.S.S. Cole.',\n",
              " 'And what did we do? It seemed we put more effort into adding China into the World Trade organization, which has been a total disaster for the United States. Frankly, we spent more time on that than we did in stopping Al Qaeda. We even had an opportunity to take out Osama bin Laden and we didn’t do it',\n",
              " 'And then we got hit at the World Trade Center and the Pentagon. Again, the worst attack on our country in its history. Our foreign policy goals must be based on America’s core national security interests. And the following will be my priorities.',\n",
              " 'In the Middle East our goals must be, and I mean must be, to defeat terrorists and promote regional stability, not radical change. We need to be clearsighted about the groups that will never be anything other than enemies. And believe me, we have groups that no matter what you do, they will be the enemy.: We have to be smart enough to recognize who those groups are, who those people are, and not help them. And we must only be generous to those that prove they are indeed our friends.',\n",
              " 'We desire to live peacefully and in friendship with Russia and China. We have serious differences with these two nations, and must regard them with open eyes, but we are not bound to be adversaries. We should seek common ground based on shared interests.',\n",
              " 'Russia, for instance, has also seen the horror of Islamic terrorism. I believe an easing of tensions, and improved relations with Russia from a position of strength only is possible, absolutely possible. Common sense says this cycle, this horrible cycle of hostility must end and ideally will end soon. Good for both countries.',\n",
              " 'Some say the Russians won’t be reasonable. I intend to find out. If we can’t make a deal under my administration, a deal that’s great — not good, great — for America, but also good for Russia, then we will quickly walk from the table. It’s as simple as that. We’re going to find out.',\n",
              " 'Fixing our relations with China is another important step — and really toward creating an even more prosperous period of time. China respects strength and by letting them take advantage of us economically, which they are doing like never before, we have lost all of their respect.',\n",
              " 'We have a massive trade deficit with China, a deficit that we have to find a way quickly, and I mean quickly, to balance. A strong and smart America is an America that will find a better friend in China, better than we have right now. Look at what China is doing in the South China Sea. They’re not supposed to be doing it.',\n",
              " 'No respect for this country or this president. We can both benefit or we can both go our separate ways. If need be, that’s what’s going to have to happen.',\n",
              " 'After I’m elected president, I will also call for a summit with our NATO allies and a separate summit with our Asian allies. In these summits, we will not only discuss a rebalancing of financial commitments, but take a fresh look at how we can adopt new strategies for tackling our common challenges. For instance, we will discuss how we can upgrade NATO’s outdated mission and structure, grown out of the Cold War to confront our shared challenges, including migration and Islamic terrorism.',\n",
              " 'I will not hesitate to deploy military force when there is no alternative. But if America fights, it must only fight to win.',\n",
              " 'I will never sent our finest into battle unless necessary, and I mean absolutely necessary, and will only do so if we have a plan for victory with a capital V.',\n",
              " 'Our goal is peace and prosperity, not war and destruction. The best way to achieve those goals is through a disciplined, deliberate and consistent foreign policy. With President Obama and Secretary Clinton we’ve had the exact opposite — a reckless, rudderless and aimless foreign policy, one that has blazed the path of destruction in its wake.',\n",
              " 'After losing thousands of lives and spending trillions of dollars, we are in far worst shape in the Middle East than ever, ever before. I challenge anyone to explain the strategic foreign policy vision of Obama/Clinton. It has been a complete and total disaster.',\n",
              " 'I will also be prepared to deploy America’s economic resources. Financial leverage and sanctions can be very, very persuasive, but we need to use them selectively and with total determination. Our power will be used if others do not play by the rules. In other words, if they do not treat us fairly. Our friends and enemies must know that if I draw a line in the sand, I will enforce that line in the sand. Believe me.',\n",
              " 'However, unlike other candidates for the presidency, war and aggression will not be my first instinct. You cannot have a foreign policy without diplomacy. A superpower understands that caution and restraint are really truly signs of strength. Although not in government service, I was totally against the war in Iraq, very proudly, saying for many years that it would destabilize the Middle East. Sadly, I was correct, and the biggest beneficiary has been has been Iran, who is systematically taking over Iraq and gaining access to their very rich oil reserves, something it has wanted to do for decades.',\n",
              " 'And now, to top it off, we have ISIS. My goal is to establish a foreign policy that will endure for several generations. That’s why I also look and have to look for talented experts with approaches and practical ideas, rather than surrounding myself with those who have perfect résumés but very little to brag about except responsibility for a long history of failed policies and continued losses at war. We have to look to new people.',\n",
              " 'We have to look to new people because many of the old people frankly don’t know what they’re doing, even though they may look awfully good writing in The New York Times or being watched on television.',\n",
              " 'Finally, I will work with our allies to reinvigorate Western values and institutions. Instead of trying to spread universal values that not everybody shares or wants, we should understand that strengthening and promoting Western civilization and its accomplishments will do more to inspire positive reforms around the world than military interventions.',\n",
              " 'These are my goals as president. I will seek a foreign policy that all Americans, whatever their party, can support, so important, and which our friends and allies will respect and totally welcome. The world must know that we do not go abroad in search of enemies, that we are always happy when old enemies become friends and when old friends become allies, that’s what we want. We want them to be our allies.',\n",
              " 'We want the world to be — we want to bring peace to the world. Too much destruction out there, too many destructive weapons. The power of weaponry is the single biggest problem that we have today in the world.',\n",
              " 'To achieve these goals, Americans must have confidence in their country and its leadership. Again, many Americans must wonder why we our politicians seem more interested in defending the borders of foreign countries than in defending their own. Americans.',\n",
              " 'Americans must know that we’re putting the American people first again on trade.',\n",
              " 'So true. On trade, on immigration, on foreign policy. The jobs, incomes and security of the American worker will always be my first priority.',\n",
              " 'No country has ever prospered that failed to put its own interests first. Both our friends and our enemies put their countries above ours and we, while being fair to them, must start doing the same. We will no longer surrender this country or its people to the false song of globalism. The nation-state remains the true foundation for happiness and harmony. I am skeptical of international unions that tie us up and bring America down and will never enter.',\n",
              " 'And under my administration, we will never enter America into any agreement that reduces our ability to control our own affairs.',\n",
              " 'NAFTA, as an example, has been a total disaster for the United States and has emptied our states — literally emptied our states of our manufacturing and our jobs. And I’ve just gotten to see it. I’ve toured Pennsylvania. I’ve toured New York. I’ve toured so many of the states. They have been cleaned out. Their manufacturing is gone.',\n",
              " 'Never again, only the reverse — and I have to say this strongly — never again; only the reverse will happen. We will keep our jobs and bring in new ones. There will be consequences for the companies that leave the United States only to exploit it later. They fire the people. They take advantage of the United States. There will be consequences for those companies. Never again.',\n",
              " 'Under a Trump administration, no American citizen will ever again feel that their needs come second to the citizens of a foreign country.',\n",
              " 'I will view as president the world through the clear lens of American interests. I will be America’s greatest defender and most loyal champion. We will not apologize for becoming successful again, but will instead embrace the unique heritage that makes us who we are.',\n",
              " 'The world is most peaceful and most prosperous when America is strongest. America will continue and continue forever to play the role of peacemaker. We will always help save lives and indeed humanity itself, but to play the role, we must make America strong again.',\n",
              " 'And always — always, always, we must make, and we have to look at it from every angle, and we have no choice, we must make America respected again. We must make America truly wealthy again. And we must — we have to and we will make America great again. And if we do that — and if we do that, perhaps this century can be the most peaceful and prosperous the world has ever, ever known. Thank you very much, everybody. I appreciate it. Thank you.',\n",
              " 'SPEECH 3',\n",
              " 'A hand with little fingers coming out of a stem. Like, little. Look at my hands. They’re fine. Nobody other than Graydon Carter years ago used to use that. My hands are normal hands. During a debate, he was losing, and he said, \"Oh, he has small hands and therefore, you know what that means.\" This was not me. This was Rubio that said, \"He has small hands and you know what that means.\" Okay? So, he started it. So, what I said a couple of days later ... and what happened is I was on line shaking hands with supporters, and one of supporters got up and he said, \"Mr. Trump, you have strong hands. You have good-sized hands.\" And then another one would say, \"You have great hands, Mr. Trump, I had no idea.\" I said, \"What do you mean?\" He said, \"I thought you were like deformed, and I thought you had small hands.\" I had fifty people ... Is that a correct statement? I mean people were writing, \"How are Mr. Trump’s hands?\" My hands are fine. You know, my hands are normal. Slightly large, actually. In fact, I buy a slightly smaller than large glove, okay? No, but I did this because everybody was saying to me, \"Oh, your hands are very nice. They are normal.\" So Rubio, in a debate, said, because he had nothing else to say ... now I was hitting him pretty hard. He wanted to do his Don Rickles stuff and it didn’t work out. Obviously, it didn’t work too well. But one of the things he said was \"He has small hands and therefore, you know what that means, he has small something else.\" You can look it up. I didn’t say it.',\n",
              " 'I don’t want people to go around thinking that I have a problem. I’m telling you, Ruth, I had so many people. I would say 25, 30 people would tell me ... every time I’d shake people’s hand, \"Oh, you have nice hands.\" Why shouldn’t I? And, by the way, by saying that I solved the problem. Nobody questions ... I even held up my hands, and said, \"Look, take a look at that hand.\"',\n",
              " 'I don’t know if it was presidential, honestly, whether it is or not. He said, ‘Donald Trump has small hands and therefore he has small something else.’ I didn’t say that. And all I did is when he failed, when he was failing, when he was, when Christie made him look bad, I gave him the– a little recap and I said, and I said, and I had this big strong powerful hand ready to grab him, because I thought he was going to faint. And everybody took it fine. Whether it was presidential or not I can’t tell you. I can just say that what he said was a lie. And everybody, they wanted to do stories on my hands; after I said that, they never did. And then I held up the hand, I showed people the hand. You know, when I’ve got a big audience. So yeah, I think it’s not a question of presidential ...',\n",
              " 'SPEECH 4',\n",
              " 'Oh boy. We love Nevada. We love Nevada. Thank you. Thank you. Oh this is a great place. Thank you very much. Great evening. We will be celebrating for a long time tonight. Have a good time. Have a good time.',\n",
              " 'You know we weren’t expecting—a couple of months ago, we weren’t expecting to win this one, you know that, right? We weren’t. Of course if you listen to the pundits, we weren’t expected to win too much, and now we’re winning, winning, winning the country. And soon the country’s going to start winning, winning, winning. So I want to thank the volunteers. They’ve been unbelievable. These people, they work like endlessly, endlessly. We’re not going to forget it. And we’ve had some great numbers coming out of Texas, and amazing numbers coming out of Tennessee and Georgia and Arkansas and then in a couple of weeks later Florida. We love Florida so. We’re going to do very well in Ohio. We’re beating the governor. It’s always nice to be beating the governor. And Michigan—the whole thing. It’s going to be an amazing two months.',\n",
              " 'We might not even need the two months, folks, to be honest. So tonight we had 45 to 46%, and tomorrow you’d hear them say, you know, if they could just take the other candidates and add them up, and if you could add them up because you know the other candidates amount to 55%. So if they could—they keep forgetting that when people drop out, we’re going to get a lot of votes. You know they keep forgetting.',\n",
              " 'So I want to begin by thanking my boys, Eric has been all over the place making speeches. He’s getting better than me so I’m a little jealous. And Don went to _____, you were all over, right?',\n",
              " 'He loves the rifle stuff. This is serious rifle. This is serious NRA, both of them, both of them. We love the Second Amendment folks. Nobody loves it more than us, so just remember that.',\n",
              " 'And Corey and Hope, the staff, the whole group, and Charles and Dan and what a group we have. I want to just thank a couple of friends of mine that are here, the owner of this incredible hotel, Mr. and Mrs. Phil Ruffin, stand up. Great guy. Phil said, \"Donald,\"—like for the last three months he’s driving me crazy, he said—\"Donald, I want to put $10 million into your campaign.\" I said, \"Phil I don’t want your money. I don’t want to do it. I’m self funding.\" Every time I see him. It’s hard for me to turn down money because that’s what I’ve done in my whole life. I grab and grab and grab. You know I get greedy. I want money, money.',\n",
              " 'I’ll tell you what we’re going to do, right? We get greedy, right? Now we’re going to get greedy for the United States. We’re going to grab and grab and grab. We’re going to bring in so much money and so much everything. We’re going to make America great again, folks, I’m telling you folks, we’re going to make America great again.',\n",
              " 'And another great friend of mine, someone respected by everybody, a great friend of Phil too—Mr. and Mrs. Steve Wynn. Stand up, Steve. Stand up. Two great people. Steve is always calling. He’s always got advice, right Steve? \"Donald I think you should do this and that.\" His advice I like to listen to, I’ll be honest. So Phil and Steve and families, we appreciate it. You’ve been great friends. Thank you, thank you.',\n",
              " 'So this was very exciting tonight. But I’ll tell you it looks like we won by a lot evangelicals. I love evangelicals, and I have to tell you pastor [Robert] Jeffress has been so incredible on television and elsewhere. He has been great. And as you know Liberty University—do we love Liberty University? Huh? Jerry Falwell Jr., an unbelievable guy, and he has been with us and with us from the beginning, and I want to thank Jerry and his family. It’s been amazing, the relationship. So we won the evangelicals.',\n",
              " 'We won with young. We won with old. We won with highly educated. We won with poorly educated. I love the poorly educated. We’re the smartest people, we’re the most loyal people, and you know what I’m happy about? Because I’ve been saying it for a long time. 46% were the Hispanics—46%, No. 1 one with Hispanics. I’m really happy about that.',\n",
              " 'So I’m very proud of you, this is an amazing night. I love the country, I love the country. We’re going in the wrong direction. We’re going to keep—as you know Gitmo, we’re keeping that open, and we’re going to load it up with bad dudes. We’re going to load it up w a lot of bad dudes out there. We’re going to have our borders nice and strong. We’re going to build the wall, you know that. We’re going to build the wall. And I have a lot of respect from Mexico, and you just heard we won Hispanics. But let me tell you Mexico is going to pay for the wall, right? It’s going to happen. It’s going to happen. They know it. I know it. We all know it.',\n",
              " 'We have a tremendous deficit. We have a trade deficit with Mexico. They’ll pay for the wall. They’ll be very happy about it. Believe me. I’ll talk to them. They’re going to be very, very thrilled. They’re going to be thrilled to be paying for the wall.',\n",
              " 'We’re going to be the smart people. We’re not going to be the people that get pushed around all over the place. We’re going to be the smart people. You’re going to be proud of your president, and you’re going to be even prouder of your country, OK?',\n",
              " 'So tonight folks, this was a great evening. I love this place. I love this state. I love Las Vegas. I have spent and invested so much money over here. Trump International Hotel—I keep telling Steve we have the best hotel in Las Vegas. He’s fighting me all the time. But that’s OK. But I just want to say it’s a great state, and they have great people. And I was so proud. You know, I went to caucus. I was all over the place tonight. The people are amazing. The enthusiasm, it was unbelievable to see.',\n",
              " 'The people of this country are absolutely amazing. I love you folks very much. Remember: Make America great again. We’re going to do it, and it’s going to happen fast. Thank you very much everybody. We love you. We love you.',\n",
              " 'SPEECH 5',\n",
              " 'Wow. Whoa. That is some group of people. Thousands.',\n",
              " 'So nice, thank you very much. That’s really nice. Thank you. It’s great to be at Trump Tower. It’s great to be in a wonderful city, New York. And it’s an honor to have everybody here. This is beyond anybody’s expectations. There’s been no crowd like this.',\n",
              " 'And, I can tell, some of the candidates, they went in. They didn’t know the air-conditioner didn’t work. They sweated like dogs.',\n",
              " 'They didn’t know the room was too big, because they didn’t have anybody there. How are they going to beat ISIS? I don’t think it’s gonna happen.',\n",
              " 'Our country is in serious trouble. We don’t have victories anymore. We used to have victories, but we don’t have them. When was the last time anybody saw us beating, let’s say, China in a trade deal? They kill us. I beat China all the time. All the time.',\n",
              " 'When did we beat Japan at anything? They send their cars over by the millions, and what do we do? When was the last time you saw a Chevrolet in Tokyo? It doesn’t exist, folks. They beat us all the time.',\n",
              " 'When do we beat Mexico at the border? They’re laughing at us, at our stupidity. And now they are beating us economically. They are not our friend, believe me. But they’re killing us economically.',\n",
              " 'The U.S. has become a dumping ground for everybody else’s problems.',\n",
              " 'SPEECH 6',\n",
              " 'Thank you. It’s true, and these are the best and the finest. When Mexico sends its people, they’re not sending their best. They’re not sending you. They’re not sending you. They’re sending people that have lots of problems, and they’re bringing those problems with us. They’re bringing drugs. They’re bringing crime. They’re rapists. And some, I assume, are good people.',\n",
              " 'oh And it only makes common sense. It only makes common sense. They’re sending us not the right people.',\n",
              " 'It’s coming from more than Mexico. It’s coming from all over South and Latin America, and it’s coming probably — probably — from the Middle East. But we don’t know. Because we have no protection and we have no competence, we don’t know what’s happening. And it’s got to stop and it’s got to stop fast.',\n",
              " 'Islamic terrorism is eating up large portions of the Middle East. They’ve become rich. I’m in competition with them.',\n",
              " 'They just built a hotel in Syria. Can you believe this? They built a hotel. When I have to build a hotel, I pay interest. They don’t have to pay interest, because they took the oil that, when we left Iraq, I said we should’ve taken.',\n",
              " 'So now ISIS has the oil, and what they don’t have, Iran has. And in 19 — and I will tell you this, and I said it very strongly, years ago, I said — and I love the military, and I want to have the strongest military that we’ve ever had, and we need it more now than ever. But I said, \"Don’t hit Iraq,\" because you’re going to totally destabilize the Middle East. Iran is going to take over the Middle East, Iran and somebody else will get the oil, and it turned out that Iran is now taking over Iraq. Think of it. Iran is taking over Iraq, and they’re taking it over big league.',\n",
              " 'We spent $2 trillion in Iraq, $2 trillion. We lost thousands of lives, thousands in Iraq. We have wounded soldiers, who I love, I love — they’re great — all over the place, thousands and thousands of wounded soldiers.',\n",
              " 'And we have nothing. We can’t even go there. We have nothing. And every time we give Iraq equipment, the first time a bullet goes off in the air, they leave it.',\n",
              " 'Last week, I read 2,300 Humvees — these are big vehicles — were left behind for the enemy. 2,000? You would say maybe two, maybe four? 2,300 sophisticated vehicles, they ran, and the enemy took them.',\n",
              " 'Last quarter, it was just announced our gross domestic product — a sign of strength, right? But not for us. It was below zero. Whoever heard of this? It’s never below zero.',\n",
              " 'Our labor participation rate was the worst since 1978. But think of it, GDP below zero, horrible labor participation rate.',\n",
              " 'And our real unemployment is anywhere from 18 to 20 percent. Don’t believe the 5.6. Don’t believe it.',\n",
              " 'That’s right. A lot of people up there can’t get jobs. They can’t get jobs, because there are no jobs, because China has our jobs and Mexico has our jobs. They all have jobs.',\n",
              " 'But the real number, the real number is anywhere from 18 to 19 and maybe even 21 percent, and nobody talks about it, because it’s a statistic that’s full of nonsense.',\n",
              " 'Our enemies are getting stronger and stronger by the way, and we as a country are getting weaker. Even our nuclear arsenal doesn’t work.',\n",
              " 'It came out recently they have equipment that is 30 years old. They don’t know if it worked. And I thought it was horrible when it was broadcast on television, because boy, does that send signals to Putin and all of the other people that look at us and they say, \"That is a group of people, and that is a nation that truly has no clue. They don’t know what they’re doing. They don’t know what they’re doing.\"',\n",
              " 'We have a disaster called the big lie: Obamacare. Obamacare.',\n",
              " 'Yesterday, it came out that costs are going for people up 29, 39, 49, and even 55 percent, and deductibles are through the roof. You have to be hit by a tractor, literally, a tractor, to use it, because the deductibles are so high, it’s virtually useless. It’s virtually useless. It is a disaster.TRUMP: And remember the $5 billion Web site? $5 billion we spent on a Web site, and to this day it doesn’t work. A $5 billion Web site.',\n",
              " 'If and when the Vatican is attacked by ISIS, which as everyone knows is ISIS’s ultimate trophy, I can promise you that the Pope would have only wished and prayed that Donald Trump would have been President because this would not have happened. ISIS would have been eradicated unlike what is happening now with our all talk, no action politicians.',\n",
              " 'The Mexican government and its leadership has made many disparaging remarks about me to the Pope, because they want to continue to rip off the United States, both on trade and at the border, and they understand I am totally wise to them. The Pope only heard one side of the story - he didn’t see the crime, the drug trafficking and the negative economic impact the current policies have on the United States. He doesn’t see how Mexican leadership is outsmarting President Obama and our leadership in every aspect of negotiation.',\n",
              " 'For a religious leader to question a person’s faith is disgraceful. I am proud to be a Christian and as President I will not allow Christianity to be consistently attacked and weakened, unlike what is happening now, with our current President. No leader, especially a religious leader, should have the right to question another man’s religion or faith. They are using the Pope as a pawn and they should be ashamed of themselves for doing so, especially when so many lives are involved and when illegal immigration is so rampant.',\n",
              " 'I have so many Web sites, I have them all over the place. I hire people, they do a Web site. It costs me $3. $5 billion Web site.',\n",
              " 'Well, you need somebody, because politicians are all talk, no action. Nothing’s gonna get done. They will not bring us — believe me — to the promised land. They will not.',\n",
              " 'As an example, I’ve been on the circuit making speeches, and I hear my fellow Republicans. And they’re wonderful people. I like them. They all want me to support them. They don’t know how to bring it about. They come up to my office. I’m meeting with three of them in the next week. And they don’t know — \"Are you running? Are you not running? Could we have your support? What do we do? How do we do it?\"',\n",
              " 'I like them. And I hear their speeches. And they don’t talk jobs and they don’t talk China. When was the last time you heard China is killing us? They’re devaluing their currency to a level that you wouldn’t believe. It makes it impossible for our companies to compete, impossible. They’re killing us.',\n",
              " 'But you don’t hear that from anybody else. You don’t hear it from anybody else. And I watch the speeches.',\n",
              " 'Thank you.',\n",
              " 'I watch the speeches of these people, and they say the sun will rise, the moon will set, all sorts of wonderful things will happen. And people are saying, \"What’s going on? I just want a job. Just get me a job. I don’t need the rhetoric. I want a job.\"',\n",
              " 'And that’s what’s happening. And it’s going to get worse, because remember, Obamacare really kicks in in ’16, 2016. Obama is going to be out playing golf. He might be on one of my courses. I would invite him, I actually would say. I have the best courses in the world, so I’d say, you what, if he wants to — I have one right next to the White House, right on the Potomac. If he’d like to play, that’s fine.',\n",
              " 'In fact, I’d love him to leave early and play, that would be a very good thing.',\n",
              " 'But Obamacare kicks in in 2016. Really big league. It is going to be amazingly destructive. Doctors are quitting. I have a friend who’s a doctor, and he said to me the other day, \"Donald, I never saw anything like it. I have more accountants than I have nurses. It’s a disaster. My patients are beside themselves. They had a plan that was good. They have no plan now.\"',\n",
              " 'We have to repeal Obamacare, and it can be — and — and it can be replaced with something much better for everybody. Let it be for everybody. But much better and much less expensive for people and for the government. And we can do it.',\n",
              " 'So I’ve watched the politicians. I’ve dealt with them all my life. If you can’t make a good deal with a politician, then there’s something wrong with you. You’re certainly not very good. And that’s what we have= representing us. They will never make America great again. They don’t even have a chance. They’re controlled fully — they’re controlled fully by the lobbyists, by the donors, and by the special interests, fully.',\n",
              " 'Yes, they control them. Hey, I have lobbyists. I have to tell you. I have lobbyists that can produce anything for me. They’re great. But you know what? it won’t happen. It won’t happen. Because we have to stop doing things for some people, but for this country, it’s destroying our country. We have to stop, and it has to stop now.',\n",
              " 'We need a leader that can bring back our jobs, can bring back our manufacturing, can bring back our military, can take care of our vets. Our vets have been abandoned.',\n",
              " 'And we also need a cheerleader.',\n",
              " 'You know, when President Obama was elected, I said, \"Well, the one thing, I think he’ll do well. I think he’ll be a great cheerleader for the country. I think he’d be a great spirit.\"',\n",
              " 'He was vibrant. He was young. I really thought that he would be a great cheerleader.',\n",
              " 'He’s not a leader. That’s true. You’re right about that.',\n",
              " 'But he wasn’t a cheerleader. He’s actually a negative force. He’s been a negative force. He wasn’t a cheerleader; he was the opposite.',\n",
              " 'We need somebody that can take the brand of the United States and make it great again. It’s not great again.',\n",
              " 'We need — we need somebody — we need somebody that literally will take this country and make it great again. We can do that.',\n",
              " 'And, I will tell you, I love my life. I have a wonderful family. They’re saying, \"Dad, you’re going to do something that’s going to be so tough.\"',\n",
              " 'You know, all of my life, I’ve heard that a truly successful person, a really, really successful person and even modestly successful cannot run for public office. Just can’t happen. And yet that’s the kind of mindset that you need to make this country great again.',\n",
              " 'So ladies and gentlemen...',\n",
              " 'I am officially running...',\n",
              " '... for president of the United States, and we are going to make our country great again.',\n",
              " 'It can happen. Our country has tremendous potential. We have tremendous people.',\n",
              " 'We have people that aren’t working. We have people that have no incentive to work. But they’re going to have incentive to work, because the greatest social program is a job. And they’ll be proud, and they’ll love it, and they’ll make much more than they would’ve ever made, and they’ll be — they’ll be doing so well, and we’re going to be thriving as a country, thriving. It can happen.',\n",
              " 'I will be the greatest jobs president that God ever created. I tell you that.',\n",
              " 'I’ll bring back our jobs from China, from Mexico, from Japan, from so many places. I’ll bring back our jobs, and I’ll bring back our money.',\n",
              " 'Right now, think of this: We owe China $1.3 trillion. We owe Japan more than that. So they come in, they take our jobs, they take our money, and then they loan us back the money, and we pay them in interest, and then the dollar goes up so their deal’s even better.',\n",
              " 'How stupid are our leaders? How stupid are these politicians to allow this to happen? How stupid are they?',\n",
              " 'I’m going to tell you — thank you. I’m going to tell you a couple of stories about trade, because I’m totally against the trade bill for a number of reasons.',\n",
              " 'Number one, the people negotiating don’t have a clue. Our president doesn’t have a clue. He’s a bad negotiator.',\n",
              " 'He’s the one that did Bergdahl. We get Bergdahl, they get five killer terrorists that everybody wanted over there.',\n",
              " 'We get Bergdahl. We get a traitor. We get a no-good traitor, and they get the five people that they wanted for years, and those people are now back on the battlefield trying to kill us. That’s the negotiator we have.',\n",
              " 'Take a look at the deal he’s making with Iran. He makes that deal, Israel maybe won’t exist very long. It’s a disaster, and we have to protect Israel. But...',\n",
              " 'So we need people — I’m a free trader. But the problem with free trade is you need really talented people to negotiate for you. If you don’t have talented people, if you don’t have great leadership, if you don’t have people that know business, not just a political hack that got the job because he made a contribution to a campaign, which is the way all jobs, just about, are gotten, free trade terrible.',\n",
              " 'Free trade can be wonderful if you have smart people, but we have people that are stupid. We have people that aren’t smart. And we have people that are controlled by special interests. And it’s just not going to work.',\n",
              " 'So, here’s a couple of stories happened recently. A friend of mine is a great manufacturer. And, you know, China comes over and they dump all their stuff, and I buy it. I buy it, because, frankly, I have an obligation to buy it, because they devalue their currency so brilliantly, they just did it recently, and nobody thought they could do it again.',\n",
              " 'But with all our problems with Russia, with all our problems with everything — everything, they got away with it again. And it’s impossible for our people here to compete.',\n",
              " 'So I want to tell you this story. A friend of mine who’s a great manufacturer, calls me up a few weeks ago. He’s very upset. I said, \"What’s your problem?\"',\n",
              " 'He said, \"You know, I make great product.\"',\n",
              " 'And I said, \"I know. I know that because I buy the product.\"',\n",
              " 'He said, \"I can’t get it into China. They won’t accept it. I sent a boat over and they actually sent it back. They talked about environmental, they talked about all sorts of crap that had nothing to do with it.\"',\n",
              " 'I said, \"Oh, wait a minute, that’s terrible. Does anyone know this?\"',\n",
              " 'He said, \"Yeah, they do it all the time with other people.\"',\n",
              " 'I said, \"They send it back?\"',\n",
              " '\"Yeah. So I finally got it over there and they charged me a big tariff. They’re not supposed to be doing that. I told them.\"',\n",
              " 'Now, they do charge you tariff on trucks, when we send trucks and other things over there.',\n",
              " 'Ask Boeing. They wanted Boeing’s secrets. They wanted their patents and all their secrets before they agreed to buy planes from Boeing.',\n",
              " 'Hey, I’m not saying they’re stupid. I like China. I sell apartments for — I just sold an apartment for $15 million to somebody from China. Am I supposed to dislike them? I own a big chunk of the Bank of America Building at 1290 Avenue of the Americas, that I got from China in a war. Very valuable.',\n",
              " 'I love China. The biggest bank in the world is from China. You know where their United States headquarters is located? In this building, in Trump Tower. I love China. People say, \"Oh, you don’t like China?\"',\n",
              " 'No, I love them. But their leaders are much smarter than our leaders, and we can’t sustain ourself with that. There’s too much — it’s like — it’s like take the New England Patriots and Tom Brady and have them play your high school football team. That’s the difference between China’s leaders and our leaders.',\n",
              " 'They are ripping us. We are rebuilding China. We’re rebuilding many countries. China, you go there now, roads, bridges, schools, you never saw anything like it. They have bridges that make the George Washington Bridge look like small potatoes. And they’re all over the place.',\n",
              " 'We have all the cards, but we don’t know how to use them. We don’t even know that we have the cards, because our leaders don’t understand the game. We could turn off that spigot by charging them tax until they behave properly.',\n",
              " 'Now they’re going militarily. They’re building a military island in the middle of the South China sea. A military island. Now, our country could never do that because we’d have to get environmental clearance, and the environmentalist wouldn’t let our country — we would never build in an ocean. They built it in about one year, this massive military port.',\n",
              " 'They’re building up their military to a point that is very scary. You have a problem with ISIS. You have a bigger problem with China.',\n",
              " 'And, in my opinion, the new China, believe it or not, in terms of trade, is Mexico.',\n",
              " 'So this man tells me about the manufacturing. I say, \"That’s a terrible story. I hate to hear it.\"',\n",
              " 'But I have another one, Ford.',\n",
              " 'So Mexico takes a company, a car company that was going to build in Tennessee, rips it out. Everybody thought the deal was dead. Reported it in the Wall Street Journal recently. Everybody thought it was a done deal. It’s going in and that’s going to be it, going into Tennessee. Great state, great people.TRUMP: All of a sudden, at the last moment, this big car manufacturer, foreign, announces they’re not going to Tennessee. They’re gonna spend their $1 billion in Mexico instead. Not good.',\n",
              " 'Now, Ford announces a few weeks ago that Ford is going to build a $2.5 billion car and truck and parts manufacturing plant in Mexico. $2.5 billion, it’s going to be one of the largest in the world. Ford. Good company.',\n",
              " 'So I announced that I’m running for president. I would...',\n",
              " '... one of the early things I would do, probably before I even got in — and I wouldn’t even use — you know, I have — I know the smartest negotiators in the world. I know the good ones. I know the bad ones. I know the overrated ones.',\n",
              " 'You get a lot of them that are overrated. They’re not good. They think they are. They get good stories, because the newspapers get buffaloed (ph). But they’re not good.',\n",
              " 'But I know the negotiators in the world, and I put them one for each country. Believe me, folks. We will do very, very well, very, very well.',\n",
              " 'But I wouldn’t even waste my time with this one. I would call up the head of Ford, who I know. If I was president, I’d say, \"Congratulations. I understand that you’re building a nice $2.5 billion car factory in Mexico and that you’re going to take your cars and sell them to the United States zero tax, just flow them across the border.\"',\n",
              " 'And you say to yourself, \"How does that help us,\" right? \"How does that help us? Where is that good\"? It’s not.',\n",
              " 'So I would say, \"Congratulations. That’s the good news. Let me give you the bad news. Every car and every truck and every part manufactured in this plant that comes across the border, we’re going to charge you a 35-percent tax, and that tax is going to be paid simultaneously with the transaction, and that’s it.',\n",
              " 'Now, here’s what is going to happen. If it’s not me in the position, it’s one of these politicians that we’re running against, you know, the 400 people that we’re (inaudible). And here’s what’s going to happen. They’re not so stupid. They know it’s not a good thing, and they may even be upset by it. But then they’re going to get a call from the donors or probably from the lobbyist for Ford and say, \"You can’t do that to Ford, because Ford takes care of me and I take care of you, and you can’t do that to Ford.\"',\n",
              " 'And guess what? No problem. They’re going to build in Mexico. They’re going to take away thousands of jobs. It’s very bad for us.',\n",
              " 'So under President Trump, here’s what would happen:',\n",
              " 'The head of Ford will call me back, I would say within an hour after I told them the bad news. But it could be he’d want to be cool, and he’ll wait until the next day. You know, they want to be a little cool.',\n",
              " 'And he’ll say, \"Please, please, please.\" He’ll beg for a little while, and I’ll say, \"No interest.\" Then he’ll call all sorts of political people, and I’ll say, \"Sorry, fellas. No interest,\" because I don’t need anybody’s money. It’s nice. I don’t need anybody’s money.',\n",
              " 'I’m using my own money. I’m not using the lobbyists. I’m not using donors. I don’t care. I’m really rich. I (inaudible).',\n",
              " 'And by the way, I’m not even saying that in a — that’s the kind of mindset, that’s the kind of thinking you need for this country.',\n",
              " 'So — because we got to make the country rich.',\n",
              " 'It sounds crass. Somebody said, \"Oh, that’s crass.\" It’s not crass.',\n",
              " 'We got $18 trillion in debt. We got nothing but problems.',\n",
              " 'We got a military that needs equipment all over the place. We got nuclear weapons that are obsolete.',\n",
              " 'We’ve got nothing. We’ve got Social Security that’s going to be destroyed if somebody like me doesn’t bring money into the country. All these other people want to cut the hell out of it. I’m not going to cut it at all; I’m going to bring money in, and we’re going to save it.',\n",
              " 'But here’s what’s going to happen:',\n",
              " 'After I’m called by 30 friends of mine who contributed to different campaigns, after I’m called by all of the special interests and by the — the donors and by the lobbyists — and they have zero chance at convincing me, zero — I’ll get a call the next day from the head of Ford. He’ll say. \"Please reconsider,\" I’ll say no.',\n",
              " 'He’ll say, \"Mr. President, we’ve decided to move the plant back to the United States, and we’re not going to build it in Mexico.\" That’s it. They have no choice. They have no choice.',\n",
              " 'There are hundreds of things like that. I’ll give you another example.TRUMP: Saudi Arabia, they make $1 billion a day. $1 billion a day. I love the Saudis. Many are in this building. They make a billion dollars a day. Whenever they have problems, we send over the ships. We say \"we’re gonna protect.\" What are we doing? They’ve got nothing but money.',\n",
              " 'If the right person asked them, they’d pay a fortune. They wouldn’t be there except for us.',\n",
              " 'And believe me, you look at the border with Yemen. You remember Obama a year ago, Yemen was a great victory. Two weeks later, the place was blown up. Everybody got out — and they kept our equipment.',\n",
              " 'They always keep our equipment. We ought to send used equipment, right? They always keep our equipment. We ought to send some real junk, because, frankly, it would be — we ought to send our surplus. We’re always losing this gorgeous brand-new stuff.',\n",
              " 'But look at that border with Saudi Arabia. Do you really think that these people are interested in Yemen? Saudi Arabia without us is gone. They;re gone.',\n",
              " 'And I’m the one that made all of the right predictions about Iraq. You know, all of these politicians that I’m running against now — it’s so nice to say I’m running as opposed to if I run, if I run. I’m running.',\n",
              " 'But all of these politicians that I’m running against now, they’re trying to disassociate. I mean, you looked at Bush, it took him five days to answer the question on Iraq. He couldn’t answer the question. He didn’t know. I said, \"Is he intelligent?\"',\n",
              " 'Then I looked at Rubio. He was unable to answer the question, is Iraq a good thing or bad thing? He didn’t know. He couldn’t answer the question.',\n",
              " 'How are these people gonna lead us? How are we gonna — how are we gonna go back and make it great again? We can’t. They don’t have a clue. They can’t lead us. They can’t. They can’t even answer simple questions. It was terrible.',\n",
              " 'But Saudi Arabia is in big, big trouble. Now, thanks to fracking and other things, the oil is all over the place. And I used to say it, there are ships at sea, and this was during the worst crisis, that were loaded up with oil, and the cartel kept the price up, because, again, they were smarter than our leaders. They were smarter than our leaders.',\n",
              " 'There is so much wealth out there that can make our country so rich again, and therefore make it great again. Because we need money. We’re dying. We’re dying. We need money. We have to do it. And we need the right people.',\n",
              " 'So Ford will come back. They’ll all come back. And I will say this, this is going to be an election, in my opinion, that’s based on competence.',\n",
              " 'So the reporter said to me the other day, \"But, Mr. Trump, you’re not a nice person. How can you get people to vote for you?\"',\n",
              " 'I said, \"I don’t know.\" I said, \"I think that number one, I am a nice person. I give a lot of money away to charities and other things. I think I’m actually a very nice person.\"',\n",
              " 'But, I said, \"This is going to be an election that’s based on competence, because people are tired of these nice people. And they’re tired of being ripped off by everybody in the world. And they’re tired of spending more money on education than any nation in the world per capita, than any nation in the world, and we are 26th in the world, 25 countries are better than us in education. And some of them are like third world countries. But we’re becoming a third word country, because of our infrastructure, our airports, our roads, everything. So one of the things I did, and I said, you know what I’ll do. I’ll do it. Because a lot of people said, \"He’ll never run. Number one, he won’t want to give up his lifestyle.\"',\n",
              " 'They’re right about that, but I’m doing it.',\n",
              " 'Number two, I’m a private company, so nobody knows what I’m worth. And the one thing is that when you run, you have to announce and certify to all sorts of governmental authorities your net worth.',\n",
              " 'So I said, \"That’s OK.\" I’m proud of my net worth. I’ve done an amazing job.',\n",
              " 'I started off — thank you — I started off in a small office with my father in Brooklyn and Queens, and my father said — and I love my father. I learned so much. He was a great negotiator. I learned so much just sitting at his feet playing with blocks listening to him negotiate with subcontractors. But I learned a lot.',\n",
              " 'But he used to say, \"Donald, don’t go into Manhattan. That’s the big leagues. We don’t know anything about that. Don’t do it.\"',\n",
              " 'I said, \"I gotta go into Manhattan. I gotta build those big buildings. I gotta do it, Dad. I’ve gotta do it.\"',\n",
              " 'And after four or five years in Brooklyn, I ventured into Manhattan and did a lot of great deals — the Grand Hyatt Hotel. I was responsible for the convention center on the west side. I did a lot of great deals, and I did them early and young. And now I’m building all over the world, and I love what I’m doing.',\n",
              " 'But they all said, a lot of the pundits on television, \"Well, Donald will never run, and one of the main reasons is he’s private and he’s probably not as successful as everybody thinks.\"',\n",
              " 'So I said to myself, you know, nobody’s ever going to know unless I run, because I’m really proud of my success. I really am.',\n",
              " 'I’ve employed — I’ve employed tens of thousands of people over my lifetime. That means medical. That means education. That means everything.',\n",
              " 'So a large accounting firm and my accountants have been working for months, because it’s big and complex, and they’ve put together a statement, a financial statement, just a summary. But everything will be filed eventually with the government, and we don’t extensions or anything. We’ll be filing it right on time. We don’t need anything.',\n",
              " 'And it was even reported incorrectly yesterday, because they said, \"He had assets of $9 billion.\" So I said (ph), \"No, that’s the wrong number. That’s the wrong number. Not assets.\"',\n",
              " 'So they put together this. And before I say it, I have to say this. I made it the old-fashioned way. It’s real estate. You know, it’s real estate.',\n",
              " 'It’s labor, and it’s unions good and some bad and lots of people that aren’t in unions, and it’s all over the place and building all over the world.',\n",
              " 'And I have assets — big accounting firm, one of the most highly respected — 9 billion 240 million dollars.',\n",
              " 'And I have liabilities of about $500 million (ph). That’s long-term debt, very low interest rates.',\n",
              " 'In fact, one of the big banks came to me and said, \"Donald, you don’t have enough borrowings. Could we loan you $4 billion\"? I said, \"I don’t need it. I don’t want it. And I’ve been there. I don’t want it.\"',\n",
              " 'But in two seconds, they give me whatever I wanted. So I have a total net worth, and now with the increase, it’ll be well-over $10 billion. But here, a total net worth of — net worth, not assets, not — a net worth, after all debt, after all expenses, the greatest assets — Trump Tower, 1290 Avenue of the Americas, Bank of America building in San Francisco, 40 Wall Street, sometimes referred to as the Trump building right opposite the New York — many other places all over the world.',\n",
              " 'So the total is $8,737,540,00.',\n",
              " 'Now I’m not doing that...',\n",
              " 'I’m not doing that to brag, because you know what? I don’t have to brag. I don’t have to, believe it or not.',\n",
              " 'I’m doing that to say that that’s the kind of thinking our country needs. We need that thinking. We have the opposite thinking.',\n",
              " 'We have losers. We have losers. We have people that don’t have it. We have people that are morally corrupt. We have people that are selling this country down the drain.',\n",
              " 'So I put together this statement, and the only reason I’m telling you about it today is because we really do have to get going, because if we have another three or four years — you know, we’re at $8 trillion now. We’re soon going to be at $20 trillion.TRUMP: According to the economists — who I’m not big believers in, but, nevertheless, this is what they’re saying — that $24 trillion — we’re very close — that’s the point of no return. $24 trillion. We will be there soon. That’s when we become Greece. That’s when we become a country that’s unsalvageable. And we’re gonna be there very soon. We’re gonna be there very soon.',\n",
              " 'I will immediately terminate President Obama’s illegal executive order on immigration, immediately.',\n",
              " 'Fully support and back up the Second Amendment.',\n",
              " 'Now, it’s very interesting. Today I heard it. Through stupidity, in a very, very hard core prison, interestingly named Clinton, two vicious murderers, two vicious people escaped, and nobody knows where they are. And a woman was on television this morning, and she said, \"You know, Mr. Trump,\" and she was telling other people, and I actually called her, and she said, \"You know, Mr. Trump, I always was against guns. I didn’t want guns. And now since this happened\" — it’s up in the prison area — \"my husband and I are finally in agreement, because he wanted the guns. We now have a gun on every table. We’re ready to start shooting.\"',\n",
              " 'I said, \"Very interesting.\"',\n",
              " 'So protect the Second Amendment.',\n",
              " 'End — end Common Core. Common Core should — it is a disaster. Bush is totally in favor of Common Core. I don’t see how he can possibly get the nomination. He’s weak on immigration. He’s in favor of Common Core. How the hell can you vote for this guy? You just can’t do it. We have to end — education has to be local.',\n",
              " 'Rebuild the country’s infrastructure.',\n",
              " 'Nobody can do that like me. Believe me. It will be done on time, on budget, way below cost, way below what anyone ever thought.',\n",
              " 'I look at the roads being built all over the country, and I say I can build those things for one-third. What they do is unbelievable, how bad.',\n",
              " 'You know, we’re building on Pennsylvania Avenue, the Old Post Office, we’re converting it into one of the world’s great hotels. It’s gonna be the best hotel in Washington, D.C. We got it from the General Services Administration in Washington. The Obama administration. We got it. It was the most highly sought after — or one of them, but I think the most highly sought after project in the history of General Services. We got it. People were shocked, Trump got it.',\n",
              " 'Well, I got it for two reasons. Number one, we’re really good. Number two, we had a really good plan. And I’ll add in the third, we had a great financial statement. Because the General Services, who are terrific people, by the way, and talented people, they wanted to do a great job. And they wanted to make sure it got built.',\n",
              " 'So we have to rebuild our infrastructure, our bridges, our roadways, our airports. You come into La Guardia Airport, it’s like we’re in a third world country. You look at the patches and the 40-year-old floor. They throw down asphalt, and they throw.',\n",
              " 'You look at these airports, we are like a third world country. And I come in from China and I come in from Qatar and I come in from different places, and they have the most incredible airports in the world. You come to back to this country and you have LAX, disaster. You have all of these disastrous airports. We have to rebuild our infrastructure.',\n",
              " 'Save Medicare, Medicaid and Social Security without cuts. Have to do it.',\n",
              " 'Get rid of the fraud. Get rid of the waste and abuse, but save it. People have been paying it for years. And now many of these candidates want to cut it. You save it by making the United States, by making us rich again, by taking back all of the money that’s being lost.',\n",
              " 'Renegotiate our foreign trade deals.',\n",
              " 'Reduce our $18 trillion in debt, because, believe me, we’re in a bubble. We have artificially low interest rates. We have a stock market that, frankly, has been good to me, but I still hate to see what’s happening. We have a stock market that is so bloated.',\n",
              " 'Be careful of a bubble because what you’ve seen in the past might be small potatoes compared to what happens. So be very, very careful.',\n",
              " 'And strengthen our military and take care of our vets. So, so important.',\n",
              " 'SPEECH 7',\n",
              " 'Chris, thank you very much. I appreciate it.',\n",
              " 'This has been an amazing evening. Already, we’ve won five major states and it looks like we could win six or seven or eight or nine.',\n",
              " 'It’s really been — it’s really been great.',\n",
              " 'I want to congratulation Ted on the winning of Texas. He worked hard on he — I know how hard he worked actually, and so I congratulate Ted Cruz on that win. That was an excellent win.',\n",
              " 'We’re going to make America great again, folks. We’re going to make it great again.',\n",
              " 'And, you know, I watched Hillary’s speech and she’s talking about wages have been poor and everything’s poor and everything’s doing badly, but we’re going to make it — she’s been there for so long. I mean, if she hasn’t straightened it out by now, she’s not going to straighten it out in the next four years. It’s just going to become worse and worse. She wants to make America whole again and I’m trying to figure out what is that all about. Make America great again is going to be much better than making America whole again.',\n",
              " 'So I just want to say that this was an exciting evening. It’s so great to be in Florida. It’s so great to be at Mar-A-Lago with friends and the press and the media and everybody.',\n",
              " 'I know it was a very tough night for Marco Rubio. He had a tough night but he worked hard. He spent a lot of money. He is a lightweight, as I’ve said many times before. But you know what? We’re going to go to Florida, we’re going to spend so much time in Florida. We’ve got about a 20-point lead. I know that a lot of groups, a lot of the special interests and a lot of the lobbyists and the people that want to have their little senator do exactly as they want, they’re going to put $20 million or $25 million into it over the next two weeks, from what just came over the wires. And frankly, I think that’s fine. As far as I’m concerned, it’s fine. And if he wins, they’ll have totally controlled — total control. But he’s not going anywhere anyway, but we’ll see what happens. But we’re going to spend a lot of time in Florida.',\n",
              " 'The Virginia one was just a great win because it’s a place that is just spectacular and a place that we have big investments in, as we have in Florida. Remember, we have thousands of employees in Florida, all along Miami, Doral and Mar-A-Lago and so many other places. And it’s been an amazing place to invest. It’s been amazing to have so many wonderful employees, so many of whom are here tonight, really urging us on.',\n",
              " 'And you know, I have thousands of employees all over the country, actually, all over the world but for purposes of tonight, we’ll just say all over the country. And it’s been just so beautiful to watch this company grow and to watch it grow so strongly.',\n",
              " 'Recent articles came out talking about how great a company we built, and now we want to put that same ability into doing something for our nation. I mean, our nation is in serious trouble. We’re being chilled on trade, absolutely destroyed. China is just taking advantage of us. I have nothing against China. I have great respect for China, but their leaders are too smart for our leaders. Our leaders don’t have a clue and the trade deficits at $400 billion and $500 are too much. No country can sustain that kind of trade deficit. It won’t be that way for long. We have the greatest business leaders in the world on my team already and, believe me, we’re going to redo those trade deals and it’s going to be a thing of beauty.',\n",
              " 'You look at countries like Mexico, where they’re killing us on the border, absolutely destroying us on the border. They’re destroying us in terms of economic development. Companies like Carrier Air Conditioner just moving into Mexico. Ford, moving into Mexico. Nabisco, closing up shop in Chicago and moving into Mexico. We have to stop it, folks. I know how to stop it. We’re going to create jobs. We’re going to create jobs like you’ve never seen.',\n",
              " 'We’re going to lower taxes. I have a plan that Larry Kudlow and so many others think is the best plan they’ve seen. We’re going to lower taxes substantially for the middle class. The middle class has been forgotten in our country. It really helped and really probably was the predominant factor in making our country into a country that we all love so much and we’re all so proud of, but we’ve forgotten the middle class. So we’re going to lower taxes.',\n",
              " 'We’re lowering taxes on business. You look at all the companies that are moving out. When you see Pfizer moving to Ireland and you see so many other companies, constantly now they’re leaving. They used to move from New York to Florida, or they’d move from New Jersey to someplace else, Chris. But now they’re moving from here —  — not that many people are leaving New Jersey. But Chris understands the problem, fully understands. Now they’re leaving from places that they used to move to into other parts of the world. We can’t let that happen.',\n",
              " 'We’ve lost our manufacturing jobs. We’ve lost our manufacturing. Millions and millions of jobs, thousands and thousands and thousands of plants, manufacturing plants, warehouses. I mean, we are losing so much. We can’t let it happen.',\n",
              " 'I tell the story often about a friend of mine who is in the excavation business and he always orders Caterpillar. And recently, he ordered Komatsu tractors from Japan because they’ve cut the yen. They’ve devalued the yen to such an extent that it was virtually impossible for Caterpillar to compete. And I don’t want that to happen. That’s not going to happen. They shouldn’t be allowed to do it.',\n",
              " 'We have tremendous power over everybody because we are really the source. We have great, great power. The problem is we have politicians who truly, truly, truly don’t know what they’re doing. So we’re going to work very, very hard.',\n",
              " 'I’m so honored by this evening. If you would’ve told me on June 16th, when I was with my wife, Melania, and we came down the escalator in Trump Tower and it looked, literally, well, a little bit like this. You have a lot of cameras here tonight.',\n",
              " 'It looked, literally, like the Academy Awards. I never saw so many cameras in my life. And it takes courage to run. I’ll tell you what, it takes a lot of courage to run for president. I’ve never done this before. I’ve been a job-producer. I’ve done a lot of things but this is something I’ve never done, but I felt we had to do it. When you look at the incompetence of the Iran deal, where we give $150 billion, we get absolutely nothing. When you look at all of the problems our country has and you look at our military, which is really being depleted rapidly, depleted. We’re going to make our military bigger and better and stronger than ever before, and nobody, nobody, nobody is going to mess with us, folks, nobody.',\n",
              " 'So it’s just an amazing honor to have you with me tonight. And if you want, press, I think we told you before we’d be okay if you want to ask a few questions.',\n",
              " 'Yes, go ahead.',\n",
              " 'Well, they can always do that and then they’ll — then they’ll just lose everything and that would be the — that would be the work of a loser.',\n",
              " 'But let me just explain something. If you’ve seen what’s happened, whether you go to South Carolina, where I had a huge victory, where we had a tremendous victory in New Hampshire, tremendous in Nevada, you look at what’s happened, and tonight, of course, is the best of all. I mean, right now, they’re projected I guess six, but we could be seven, eight, nine, and major states. It’s Georgia, Alabama, Massachusetts — (CHEERS) — Tennessee, Virginia. And you know, these are amazing states and we’re going to probably get a lot more. In fact, we’re projected to have some pretty good additional numbers.',\n",
              " 'But I will say this. Look, we have expanded the Republican Party. When you look at what’s happened in South Carolina and you see the kind of numbers that we got, in terms of extra people coming in. They came from the Democratic Party, or the Democrat Party, and they’re Democrats and they’re long-time Democrats and they were never going to switch and they all switched. And they were independents. And we’ve actually expanded the party. Look at the number of votes we had in that area, as an example. Four years ago, they had 390,000 or so votes. We doubled it. We were almost 800,000. Whereas the Democrats went down. There’s much less enthusiasm for the Democrats.',\n",
              " 'So I — look, I’m a unifier. I know people are going to find that a little bit hard to believe, but believe me, I am a unifier. Once we get all of this finished, I’m going to go after one person, that’s Hillary Clinton, on the assumption she’s allowed to run, which is a big assumption. I don’t know that she’s going to be allowed to run. And I think that’s, frankly, going to be an easy race. You see the polls. I beat Hillary in many polls. I know one thing. I don’t think Marco is going to be able to beat her. I don’t think — in all fairness, I think Ted’s going to have a very hard time. But Ted at least has a shot because at least he’s won a little bit.',\n",
              " 'So I just tell you this. We are going to be a much finer party, a much — we’re going to be a unified party, I mean, to be honest with you. And we are going to be a much bigger party, and you can see that happening. We’re going to be a much bigger party. Our party is expanding. And all you have to do it take a look at the primary states where I’ve won and just look — we’ve gone from X number to a much larger number. That hasn’t happened to the Republican Party in many, many decades. So I think we’re going to be more inclusive. I think we’re going to be more unified and I think we’re going to be a much bigger party, and I think we’re going to win in November. OK, yeah?',\n",
              " 'I’m just doing what’s right. Look, Planned Parenthood has done very good work for some — for many, many — for millions of women. And I’ll say it and I know a lot of the so-called conservatives, they say that’s really — because I’m a conservative, but I’m a common-sense conservative. But millions of women have been helped by Planned Parenthood. But we’re not going to allow and we’re not going to fund as long as you have the abortion going on at Planned Parenthood, and we understand that and I’ve said it loud and clear. But — and we’ll see what happens. But Planned Parenthood — millions of people — and I’ve had thousands of letters from women that have been helped. And this wasn’t a setup. This was people writing letters. I’m going to be really good for women. I’m going to be good for women’s health issues. It’s very important to me, very important to me.',\n",
              " 'And maybe that’s not a perfect conservative view, but I can tell you one thing. I’m more conservative than anybody on the military, on taking care of our vets, on the border, on the wall, on getting rid of Obamacare and coming up with something much, much better, and certainly, getting rid of common core and bringing education to a local level so that you’re going to have good education for our children who are being absolutely starved for proper education.',\n",
              " 'So Sarah, I mean, you know, you can call it what you want, but I am a truth-teller and I will tell the truth, OK?',\n",
              " 'Yeah, go ahead, finish it.',\n",
              " 'I feel awfully good. I mean, I’m watching your people — I’m watching your people on — and I’m going to be very nice, I’m going to be very nice — I’m watching your people on CNN and I’m watching the Fox people and I’m watching the MSNBC people, too, OK? See? I’m becoming diplomatic.  And they are certainly being very nice to me tonight. I mean, you know, they’re being very strong. And they are, they’re declaring Marco Rubio the big loser of the night, which is true. He didn’t win anything. He hasn’t won anything, period.',\n",
              " 'And by the way, and I have to tell you — and he was very, very nasty. I’ve never heard a person get up and speak on an evening like this and be so nasty, but he’s got a right to be nasty. He hasn’t won anything and he’s not going to win very much.',\n",
              " 'But I do congratulate Ted because I know how hard Ted worked on Texas and it’s a big get. Now I also did very well in Texas. I came in second. And one of the things my son, Eric, told me, which I didn’t even realize, is that not only did I win most of the states — and some are coming in and I’m expected to win them — but I came in second — I came in no worse than second. So it wasn’t like I won and then I disappeared. The worst I had was a second. So I’m very, very honored by the turnout, OK?',\n",
              " 'Yes, go ahead.',\n",
              " 'Right. Oh, they’re totally wrong. Look, I disavowed. I disavowed when I — in fact, Chris is my number one — Chris gave me the honor of joining the campaign. He called me. He said, \"Donald, what you’ve got is a movement.\" We spoke today in Kentucky. You’ve never seen a crowd like that. That had to be 20,000 people inside this massive convention center and it was incredible. And every place we’re speaking, if we have 10,000 people it’s like a small group. We had 35,000 people the other day in Alabama. And when Chris called, he said this is a movement; this is something like I’ve never seen. And in all fairness to the press, a lot of the press have said the same thing. They’ve never seen what’s happening right now. They’ve never seen anything like it. And I’m just honored by it.',\n",
              " 'Now, when Chris joined, we had a news conference and they asked me the exact same question. I said I disavow. Now, right after the program that we’re talking about — and I thought it was clear, but you know, we’re talking about groups, groups, groups. I do have to know the name of the group because, who knows? I mean, they have to give me the name of the group. But right after, when I reviewed it, I put out a tweet and I put out on Facebook that I totally disavow. Now everybody knew I did that but the press refused to look at that. It was right after. And I disavowed then; I disavowed today on ABC with George Stephanopoulos, I disavowed again. I mean, how many times are you supposed to disavow? But I disavow and hopefully it’s the final time I have to do it. But if you look at Facebook and if you look at Twitter, right after the show I put out a statement because I want everybody to be sure.',\n",
              " 'Yes, go ahead.',\n",
              " 'No, it’s not, but there is always going to be some negotiation, and it’s going to be a good negotiation, not a bad negotiation. It’s going to be a negotiation where we’ll start at certain levels and hopefully I will make a great deal, and lots of great deals, for the American people.',\n",
              " 'So you know, look, you can’t go around just signing our little notices that the president signs all the time, executive orders, he’s done executive order, executive order. It’s almost like, I don’t even know. Does he ever go a deal with Congress anymore? Does he ever speak to the Senate? Does he ever speak with congressmen and get them into a room and get things done?',\n",
              " 'You know, a good example of this, in all fairness, is something that I — is very, very important to me; corporate inversion. Carl Icahn, who’s a friend of mine who endorsed me, great businessman, he — it bothers him so much he calls me about it all the time, where we’re losing companies. And we’re losing for two reasons. We’re losing for a lot of reasons but the taxes are too high. We have the highest — we’re the highest taxed nation in the world.',\n",
              " 'And very importantly, they have trillions, for companies, trillions of dollars outside of this country. The Democrats agree it should be brought back in. The Republicans agree it should be brought back in. Everybody agrees it should be brought back in. I could sit in a room — or the Oval Office — for a period of, literally, a half hour and I really believe I could get everybody — every single — you know, it’s one thing they don’t agree on health care or they don’t agree on common core or they don’t agree on other things and they’ll fight. Here’s something every single — I mean, almost everybody agrees. These trillions and trillions of dollars should be brought into the country.',\n",
              " 'The president can’t make a deal. The reason is he doesn’t know how to make a deal, probably doesn’t work at it, probably doesn’t care, but you’re talking about tremendous number of — tremendous amounts of money. So when you have something that everybody wants and you can’t make a deal, there’s something going on that’s really wrong. And what it means is you have the wrong leader.',\n",
              " 'Yes?',\n",
              " 'Well, look, everything — we are going to have a wall. I can tell you we are going to have a wall. I watched the ex-president of Mexico, the arrogance of this man. And I get along great with Hispanics. You saw in Nevada, I won in the poll, the Hispanic vote. I have thousands of people that work for me right now that are Hispanic. I’ve had thousands and thousands over my lifetime. These are great people. The Mexican leaders are too smart for our leaders and you saw it. Vincente Fox, first of all, he used a word that you should never have — if I ever used that word you folks would’ve never, ever, ever let me get away with it. Nobody even talked about the word he used and this is the ultimate word. But he was angry at the concept of somebody saying that they were going to pay for the wall. Mexico is going to pay for the wall. We have a trade deficit with Mexico of $58 billion a year — $58 billion. The wall is going to cost $10 billion. It’s so easy. I’ve had these guys that I’m on the stage with go you don’t really mean Mexico is going to pay for the wall. One — as sure as you’re standing there, 100 percent, Mexico’s going to pay, 100 percent.',\n",
              " 'And the reason is I’m a businessman. I know how to do this. Politicians are all talk, no action. It’s not going to — except for Chris Christie, of course.  It’s not — look, it’s not going to happen. It’s not going to happen with these people.',\n",
              " 'So when you think of it — and then they say you’ll never be able to build a wall. Well, it’s 2,000 miles but we really need 1,000 miles. The Great Wall of China, built 2,000 years ago, is 13,000 miles, folks, and they didn’t have Caterpillar tractors, because I only want to use Caterpillar, if you want to know the truth, or John Deere. I buy a lot of equipment from John Deere. I love John Deere, too. But they didn’t have tractors. They didn’t have cranes. They didn’t have excavation equipment. The wall is 13,000 miles long. We need 1,000 miles and we have all of the materials. We can do that so beautifully. And this is going to be a serious wall. This is going to be high wall. This is going to be a very serious wall.',\n",
              " 'We’re going to stop drugs from coming into New Hampshire. You know, when I won New Hampshire, those people were so incredible to me. And when you go, you wouldn’t believe it because it’s so bucolic, so beautiful. You look at the fields and you look at everything, it’s so beautiful. And yet, you go to a meeting in New Hampshire, their number one problem, their number one problem is heroine. The heroine is pouring in and they have so many of their young people and other people addicted. And I told them I’m going to stop it. I’m going to stop it. We’re going to have a strong border, and I mean strong.',\n",
              " 'And by the way, speaking of people, people are going to come in and they’re going to come into this country, but they’re going to come in legally, OK?',\n",
              " 'I’ve got to find out what’s going on. We’ve got a big problem. We have a big, big problem. I’ll tell it like it is. We have a big, big problem. We’ve got to figure it out. We’re going to figure it out. Radical Islamic terrorism, big, big problem, not only for us. You take a look at Germany, you take a look at Sweden, you take a look at Brussels. You look at some of these places, it’s like a disaster. And we’re not going to allow people to come into our country who we have no idea who they are, we have no idea where they come from, they have no paperwork, they’re young and they’re strong. You look at that migration line; they’re young, they’re strong, they’re powerful. And you say why aren’t they back fighting for their country?',\n",
              " 'Now, with all of that being said, I feel strongly — I have a bigger heart than anybody. We’re going to build a safe zone. It’s going to be in Syria. And I’m going to get the Gulf states, who have more money than anybody — we’ve got to loosen up their wallets a little bit. We’re going to get — but they’re not accepting people. We’re going to get — wait, wait, wait. We’re going to get the Gulf states to pay for it because they should.',\n",
              " 'Oh, we’re going to bring them back. We’re going to bring them back. Look, I’m telling you — you know how I’m going to bring them back? First of all, we’re going to do great with the African- Americans, and you see that in the polls where I had in one poll where I’m 25 percent. And one of the commentators, who I think is standing right at the back of the room in the corner, said, you know, if Donald Trump gets 25 percent of the African-American vote, this election is over. You watch. And the reason I’m getting that — and I’m going to do great with the Hispanics. I’m going to do great with virtually every group. The reason is I’m going to bring jobs back. I’m going to get Apple to start making their computers and their iPhones on our land, not in China. How does it help us when they make it in China?',\n",
              " 'Well, look, I always liked Marco until about a week ago when he decided to go hostile. He decided to become Don Rickles, OK? But Don Rickles has a lot more talent. Honestly, I did, I always liked him but he became — you know, somebody told him you’re losing very badly. The only way you can possibly win, take the hail Mary, they called it a hail Mary, the folks in the back, and go hostile. It’s hurt him. In fact, one of the newscasts tonight said he went down 15 or 20 percent. It’s really hurt him.',\n",
              " 'But look, I’m not going to tell him what to do. I’m not going to tell anybody what to do. You have to run. He had a bad night, according to CNN, Fox. I watched their broadcasts. They say the loser of the night was Marco Rubio and it’s true. He didn’t win anything. He hasn’t won. I mean, at least you can say that Ted has won something, and you know, Marco has not won. You’ve got to be able to win. You can’t talk. You know, these politicians, all talk, no action. You’ve got to be able to win something. He hasn’t won anything. And he actually hasn’t come very close. So we’ll see what happens.',\n",
              " 'Yes, go ahead.',\n",
              " 'I’m going to be a good president for the world but we have a country that’s in big trouble. Our infrastructure is going to hell, our roads, our highways, our schools, our hospitals, our airports. I go throughout the world. I mean, you go to Qatar, you go to — some people say Qatar, but you go to Qatar, you go to any of — so many places. You go to different places in China, different places in Asia, different places in the Middle East, you look at some of the airports they have. You look at the roadways they have. You look at the transportation systems they have and the trains they have. We’re like a third world country.',\n",
              " 'So I am going to be very good for the world. I’m going to get along with the world. You’re going to be very proud of me. Even you will be very proud of me as a president. But we have to rebuild our country. Our country is going to hell and people don’t understand that.',\n",
              " 'And Hillary Clinton doesn’t have a clue. She can’t do that. She’s talking about — I mean, one of the things that has really bothered me, I think one of the reasons I have such great support, is that people, you take a look, people in the middle-income groups are making less money today — less money than they made 12 years ago. And in her speech, she just said they’re making less money. Well, she’s been there with Obama for a long period of time. Why hasn’t she done anything about it? Practically everything that she was complaining about — she’s picked up what I say. The difference is she’s been there for a long period of time. Why haven’t they done anything about it?',\n",
              " 'Then you look at her record as secretary of State. It’s abysmal. You look at what’s going on with Syria. You look at what’s going on with everything. It’s a disaster.',\n",
              " 'So we’re going to have an interesting period of time. I don’t know that she’s going to be allowed to run. What she did is a criminal act. If she’s allowed to run I would be very, very surprised. But if she’s allowed to run, honestly, it’ll be a sad day for this country because what she did was wrong. And what she did — (CHEERS) — let me just tell you, what she did was wrong and other people have done far less than her and they paid a very, very big price.',\n",
              " 'OK, one or two more questions. Yeah, go ahead, Jeremy',\n",
              " 'At this moment, absolutely not, no. We either have a country or we don’t. We have a country, or we don’t. We have borders or we don’t have borders. And at this moment, the answer is absolutely not.',\n",
              " 'Well, look, I don’t expect — I have a lot of respect for Reince and for the group and I like the RNC and I don’t know that I’ve been treated fairly or not. I really don’t know. I can’t tell you that. But I can tell you that I do respect them.',\n",
              " 'What I really have is a great number of people. I have millions and millions of people. And when I was watching this broadcast just a little while ago, before I came in here because I wanted to see exactly where we were before I started speaking, I was amazed at the kind of numbers. The Republicans have tremendous energy. The Democrats don’t. They don’t have any energy. Their numbers are down. Our number are through the roof. And people are making the statements they’ve never seen, in modern times, a party that was so energized.',\n",
              " 'I think if somebody is doing as well as I’m doing — and I’m not just speaking for myself, whether it be me or anybody else — but if I’m going to win five — I’ve already won five, but maybe it could be six, seven, eight, nine. It could be nine, could win nine states tonight. If I’m going to win all of these states with tremendous numbers, and if I’m going to come in the worst is second in the two or three that I might not win, I think, you know, we’re a democracy. I think it’s awfully hard to say that’s not the person we want to lead the party, right? You know, it’s very hard.',\n",
              " 'But I really think that — I think it’s a great question, David, because I really think that one of the biggest things that everybody is seeing happening, and everybody, is the Republican Party has become more dynamic. It’s become more diverse. We’re taking from the Democrats. We’re taking from the independents. We have a lot more people. We have a lot more people. I mean, take a look at South Carolina. Look at the numbers. Look at the numbers from four years ago when nobody even wanted to waste their time and vote. And then you look at — I was there and you had lines that went a mile long. And it was virtually more than doubled.',\n",
              " 'So we have a very, very dynamic party and I think we’re going to be able to unify the party. I hope to be able to get along with everybody. I don’t know Paul Ryan well but I hope to be able to get along with him. I do know Mitch McConnell a little bit but I hope to be able to get along with him. But remember this. I have millions and millions and millions of people. This isn’t like it’s a close match. I mean, it’s only too bad that winner didn’t take all, because if winner took all, this thing is over. We’re just having a celebration.',\n",
              " 'You know, we’re having a celebration.',\n",
              " 'So anyway, I would like to — look, I just want to end by thanking everybody. This has been an amazing period in my life. My wife just called and Ivanka, as you know, is going to be having a baby very soon and she’s a special person and it’s going to be great and we look forward to that. She’s back in New York. She wanted to be here. They all wanted to be here but they’re with Ivanka now and that could be, certainly, within the next week. But this this has been an amazing period of time. It’s been amazing for me, even from an educational standpoint. And I think, honestly, we’ve done something that almost nobody thought could be done and I’m very proud of it.',\n",
              " 'And I just want to leave you with this. I am a unifier. I would love to see the Republican Party and everybody get together and unify. And when we unify, there’s nobody, nobody that’s going to beat us.',\n",
              " 'Thank you very much everybody. Thank you.',\n",
              " 'Thank you very much. Thank you.',\n",
              " 'SPEECH 8',\n",
              " 'This is so — so incredible. —',\n",
              " 'We — we have had, no matter where we go — you know, it’s a movement, folks. This is a movement.',\n",
              " 'No matter where we go, it’s amazing. We go to Dallas. We go to Oklahoma. We go all over. We went to, the other night, Iowa — packed. Every place — New Hampshire, packed. Every place we go to, it’s like this. It’s amazing. And just great, great people.',\n",
              " 'And they actually had to tell over 3,000 people, \"go home.\" We’ll come back. We’ll do another one. But they had to go home. Would you like to leave and we’ll let them come in? No?',\n",
              " 'I don’t think so, but we — they turned away a lot of people, which is too bad, actually. So maybe next time. I don’t know. I think this is the largest room. I know it’s a record for the room.',\n",
              " 'You know, it has to be a record because every inch of the room is taken with people, and they’re standing. They’re not sitting. So that’s great. I love — we love setting records. We want the country to set records, right?',\n",
              " 'So, you know, I — I do this, and I love to do it. And I talk about our success because that’s ultimately what it’s all about. I think we’re going to do fantastically well in Iowa. I really think we’re going to do great there. And I could say, \"Oh, gee, if we came in the top four of five.\" I’m not — I’m looking to win everything. We want to run the table. We want to run it, because that sends a signal.',\n",
              " 'And, you know, we’ve been a little bit — we had to respond to Hillary. She came out with that — she came out — remember, she wrote — she said, \"He’s got a — he’s demonstrated a penchant\" — I demonstrated — \"a penchant for sexism.\" Can you believe it? Me? Nobody respects women more than Donald Trump. That I can tell you.',\n",
              " 'And, you know, when she said that, I had no choice, because I didn’t start it. I had no choice. And I did have to mention her husband’s situation. OK?',\n",
              " '(Laughter)',\n",
              " 'And that is now the biggest story on television by a factor of 10. So, we have to do it. You can’t let people push you around. You can’t let people tell lies. You can’t do it.',\n",
              " 'You know, it’s interesting. One of the polls came out from CNBC and they said that if it’s Trump against Hillary in the election, it will be the greatest voter turnout in the history of this country. I can see that. I can see it.',\n",
              " 'And they said all of these people that are going to come in new, that never vote — they never vote, they don’t care — they’re going to mostly — I’ll tell you what, they’re going to vote for Trump. That’s why they’re coming in, because they’re so fed up with the system — this corrupt, horrible system. They’re fed up with it and they’re fed up with those guys back there, the media.',\n",
              " 'TRUMP: They are the worst.',\n",
              " 'No, no, no. They’re fed up. They’re fed up with the media. I mean, I’ve got — and you know, not all bad, but there’s so much dishonesty in the media. And I like to call it out. And one of the things that’s really been amazing to me, and such — it’s been so beautiful to watch — the level of genius in the public. They get it, you know? They really get it. They want to marginalize us, they want to do all of this and they want to make everybody look like, \"Oh, gee.\"',\n",
              " 'The level of genius — they fully understand. They know they’re crooked, they know they’re dishonest and they really — otherwise, who gets worse publicity than me?',\n",
              " '(Laughter)',\n",
              " 'And yet, I see a poll at 42 percent. And you know, you’re talking about 15, 16 people, started with 17. How are you? Started with 17 people. And you know, I’d be happy with 42 if we had three, OK? Not thrilled, I’d like to be that — over that 50 mark, but I think we’re doing really well.',\n",
              " 'And you know, it’s interesting, but the debates — OK. So the debates — thank — I love you too, darling.',\n",
              " '(Laughter)',\n",
              " 'I love you. I do. I love you. I love every — you know what? The rooms, no matter where, whether it’s stadiums or big ballrooms like this one, it’s amazing, and there’s love in the room. And I told — the other night, I said and a friend of mine, very, very successful guy who I would love to have negotiating against China. That’s what we need, not these hacks that we have.',\n",
              " 'No, no. I have guys ...',\n",
              " 'Carl Icahn endorsed me. Great business man. We have — I have great, great business people that want to be involved. And we’re going to use — we have the best. We have the best in the world. We don’t use them. We use political hacks, we use special interest people that really don’t care about the country, they care about their deals.',\n",
              " 'This is going to change so fast. You know, last year, $500 billion trade deficit with China. Think about it. You know what $500 billion is? You do — you do $100 bills, you would fill the room to the ceiling, $500 billion deficit — trade deficit with China. What are we? Are we — yes, I guess the answer is certainly let’s not blame us.',\n",
              " 'Our leaders are stupid and — and/or — you have to say and/or they have deals, because what’s happened is all of this money is being given to them by special interests, by all of these people, including lobbyists, and these lobbyists make our leaders do — our leaders, can you believe our leaders? This is what — but they make the leaders of our country do things that they don’t even want to do because they’ve given them tens and tens and tens of millions of dollars.',\n",
              " 'I look at this guy Jeb Bush. He spent $59 million on his campaign and he is down in the grave. He is nowhere. No, no. Think of it. It’s got to be much more than that. It was actually $59 million a while ago. Every time I turn on an add, I see an ad about Trump. I mean, it’s not that bad an ad either. It’s like — you know.',\n",
              " 'If you’re going to do an ad, do an ad. But he’s a low-energy person. Let’s face it. We don’t need low-energy. We need lots of energy.',\n",
              " 'But he spent — think of it. Think of it. He spent $59 million. I spent nothing, right? Nothing.',\n",
              " 'Now, I’m going to be spending. You probably saw I’m going to spend — now, we’re going to start spending a lot of money because I don’t want to take any chances. You know, it’s — I love getting up — and for the last couple of months, I have been leading from practically the time I announced, right? And for the last — and leading a lot. I’m going to go over that because I go over (ph) polls. I love polls. I love polls.',\n",
              " 'Now, when they — if they turn negative, I don’t like them.',\n",
              " 'And I promise, if they turn negative, I’m not going to be talking about them. In fact, I get criticized all the time. You’re always talking about your polls. One of these guys just got two. He’s at two. I’m at 42. And one of these guys who’s at two said, \"He always talks about his polls and I don’t.\" I wouldn’t either if I had two, I swear I wouldn’t.',\n",
              " 'I wouldn’t. I wouldn’t do it at all. But you know, I love to tell the story where I have spent nothing and Bush has spent $59 million, but much higher than that. That’s just — you know, because I see since then — I mean, just — you can’t turn on this television without these commercials. And Fox — every two minutes it’s a commercial on Trump.',\n",
              " 'You know what he did? It’s false advertising. So I killed him in the debate. According to Reuters, according to everybody, Drudge, who’s an amazing guy, by the way. If you don’t know Drudge — Matt Drudge. Right? He’s a great guy. But Drudge, 46 percent. At 46 percent, you have 15 people. Now, if you noticed a couple have dropped out. A couple or more.',\n",
              " 'But 15, 16 people — 46 percent. Time magazine, 49 percent. Think of it. Slate, 51 percent. U.S. News and World Report — 69 percent said I won the debate. I wont the debate, right?',\n",
              " 'PBS, Public Broadcasting System — 69 percent said Trump won.',\n",
              " 'No, you know, it is amazing. We have Washington Times at 62 percent. CBS, 59 percent. Fox, 62 percent — Fox Las Vegas, 62 percent. So, they all say — then they go back home, after the debate. I like to see how did I do? Did I look good? Looking good is very important, right? Sometimes, it is not as much like what you say, it’s how did you look?',\n",
              " 'Oh, I looked good, didn’t sound too good, but that is OK. You wonder if that is a good trait. But I go home, and I watch, and the pundits will say — and they can’t totally kill me, because we know it is happening, we know what’s happening — well, Mr. Trump was OK tonight. He was — I won every single online poll, I won.',\n",
              " 'And then, here’s Bush. So, Bush does an ad. And he takes me — and he was talking about, you know, something, and manage — and then I killed him. I mean, he — by the way, I met 69 percent, he is at 1 percent, he got. He came in last.',\n",
              " 'He takes the ad — and I shouldn’t even talk about him. He’s down to two or three — I — but it bothers me when I see a guy spending, you know, $60 million on ads against me, a lot of it, right? I say, why is he doing this? Doesn’t he have something better, he should go home.',\n",
              " 'Just relax. You know, honestly, he should go home and relax. He shouldn’t be wasting his time. But it does. I say, why is this guy spending all this money? Now he is spending it actually against a couple of other guys, they were also very weak and somewhere — but here is my ad. So, he made a statement, and after that, his spin people said, oh, he was great. He took on Trump, he took on Trump. I’m standing here, he’s over here. Took on Trump, he made a statement that was written by his pollster. You know? So, he would remember (ph) it.',\n",
              " 'He said, \"Mr. Trump, why don’t you this?\" I said, OK. Then I gave him an answer. I said, \"Jeb, I’m at 42, you are at 2. Right? It is a simple answer. You started off here, right next to me, and then you were there, then you were there, by the next time, you are going to be off the stage. Right?',\n",
              " 'No, no, it’s true. And then — and then — and that was it. And so I responded. So, he asked me a question, question was fine. You know, professionally written. So, he asked me a question, good. I give him an answer, I blow him away. Right. Everyone says Trump won the debate. Everybody. And hat is it. So, the ad is him asking the question and I’m standing there like this, because I haven’t — in fact, you see in one of them, I’m just about ready to open my mouth.',\n",
              " 'But he doesn’t let me respond. That is almost false advertising, isn’t it? You know? So, I mentioned it, Hillary is a disaster. I mean, Hillary.',\n",
              " 'Hillary is controlled by her money. So is Jeb. So is — by the way, I’m the only one self-funding my campaign. I’m self-funding.',\n",
              " 'You know, one of the things that makes me happy. I heard one of my commentators this morning, said, \"you know, I’ve been watching this stuff for 50 years and I’ve never seen anything like what has happened with Trump. One of them actually said — one of them — I’m special. You’re special. I like you. I’m special.',\n",
              " 'Isn’t that nice? That’s a very — every once in a while, somebody can say something that hits you. Where are you? Who said that? Wow. So nice. Thank you. That is a nice one. That’s like, you know, very once in a while, there is a statement that is either nice or brutal. I think low-energy was a brutal statement, right?',\n",
              " 'Low-energy can be applied to Hillary. I just don’t like to use the same thing twice on one of my enemies. Right? Because I consider them enemies. We view this as war. Don’t we view this as war? It’s war.',\n",
              " 'It’s war. And so, you don’t like to use it. I hate to give it up. What?',\n",
              " 'How are you going to help my little girl (ph), daughter?  Oh, we are going to help your daughter. We are going to help the country, that’s called helping the daughter. We are going to help your country. So, here is the story. So, we are in a situation where we have incompetent leadership, where our trade deals are killing us, our military is not prepared. General Odierno when he left, just recently, he said that we are less prepared than at any time that he can remember. And I think he went back tot he beginning, but let’s say second World War. OK? That’s enough.',\n",
              " 'And we should be very prepared now, because the world hates us. She has done a terrible job as secretary of State. Think of it. Putin comes out, he said, Donald Trump is brilliant, he is doing an amazing job, and he is leading the pack. OK, that’s nice.',\n",
              " 'And she and my opponents — oh, isn’t it terrible that Putin said — wouldn’t it be nice if we could get along with the world? Wouldn’t it be? Seriously. No, no, wouldn’t it be nice?',\n",
              " 'I mean, they want me to refute his statement. How dare you say I’m brilliant? How dare — that’s — who’s going to do that? And by the way, if he said it about anyone of them, they would have been very happy.',\n",
              " 'But the point is, we have to get along. The world has blown up around Barack Obama.',\n",
              " 'Now, I don’t know if you saw his recent release. They were talking about the Department of State, State Department, and they said very strongly, you know, the things that they’ve done. Well, they couldn’t find it because what have they done that’s good? And they said bringing peace to Syria. Did you see that?',\n",
              " 'So instead of saying they made a mistake — call it a typo, they made a mistake — they’re trying to justify it. Well, we meant we’re working on it. Can you believe — bringing peace to Syria. The world is blowing up, the migration in Syria — they say one of their achievements for the year is bringing peace to Syria, and the whole world’s talking about it. It’s — the level of stupidity is incredible. I’m telling you. I used to use the word incompetent, now I just call them stupid.',\n",
              " 'I went to an Ivy League school, I’m very highly educated. I know words, I had the best words. I have — but there’s no better word than stupid.',\n",
              " 'Right? There is none. There is none.',\n",
              " 'There’s no — there’s no — there’s no word like that. So we are going to turn things around. But — and if we have Hillary — I’ve got to tell you. I just saw where for the last week she’s been hitting me really hard with the women card, OK? Really hard. And I had to say OK, that’s enough, that’s enough. And we did a strong number. She’s not going to win. Any by the way, I love the concept — I love, love, love having a woman president. Can’t be her. She’s horrible. She’s horrible.',\n",
              " 'And you know really don’t — I’ll tell you who does not like — yeah, we’ll get Ivanka. Good. Let’s do Ivanka.',\n",
              " 'But I’ll tell you who doesn’t like Hillary are women. Women don’t like Hillary.',\n",
              " 'I see it all the time. And always so theatrical; Mr. Trump said this and that and this. And you just — I actually — I shouldn’t do it. I just have to turn off the television so many times. She just gives me a headache.',\n",
              " 'But you know — although I think last night I gave her a big headache.',\n",
              " 'I can imagine — I can imagine those discussions. But you have to hit back hard, and you can’t let them push you around. And today, she gave a speech and she never even mentioned my name. You know, in the debate I was mentioned nine times, I mean everything. All of them. But her. I was mentioned nine times, none of the other candidates were mentioned. And then she came out with the sexism, which is so nonsense. And — but she’s playing that card. And then I had to hit her back, so I hit her back and I talked about her husband and the abuse of women and the tremendous abuse — no, it’s tremendous abuse.',\n",
              " 'I mean, you look at it, it’s tremendous abuse. And I talked about that. And now today, the television is going crazy, and she gets up, makes a speech and doesn’t even mention anything about me with sexism or anything else. I wonder why — I wonder why.',\n",
              " 'And remember this; it’s really important. A poll just came out where we’re tied, another one came out a couple of weeks ago, Fox, where I’m leading by four or five points against her individually. We’re doing great. I haven’t even focused on her yet.',\n",
              " 'Look at the people I’ve focused on. I don’t want to really knock them, I don’t want to mention their names. But, you know, of those people that are all gone, they were all people that attacked me. Wouldn’t it be nice if our country could have that same thing? You attack and they’re, boom, gone. And if we could do it verbally —',\n",
              " '— you know, if we could do it verbally that’s even better, right? You know, who wants to use our military? By the way, we are going to build the strongest, the best, the most powerful military ever. Ever. Ever.',\n",
              " 'And we’re going to take care of our vets, we’re going to take care of our vets —',\n",
              " 'And it will cost you much less money, and it will be great. I mean, you are signing in programs, things that you will never, ever use, You know that. And you are paying for it. And you will never ever use them. So we will get that straightened out. We are going to straighten a lot of things. We are going to straighten out Common Core. Common Core is dead. It’s going to be dead.',\n",
              " 'When I look at parents and I see local parents in Iowa and New Hampshire and South Carolina, I went to a school and I saw the parents, they love their children. They want that — they want education. They love — they don’t care about money, they don’t care about anything. They love their children and it’s local.',\n",
              " 'And they get together and they do wonderful programs. They are smart people as opposed to getting it done by bureaucrats that are getting big, fat checks in Washington. I mean, we have such talent in this country and we don’t use it. So, Obamacare, dead. Common core, gone. We are going to get rid of it. Department of Education, we are going to get rid of it.',\n",
              " 'We are bringing education to a local level. One thing on education. So, in the world, we are ranked number 28. There are third world countries that are ranked better than us in education and many other things. And yet, per pupil, we are number 1, by far — there is nobody close. Number two isn’t even close.',\n",
              " 'So we spend more money for pupil than any country in the world and we are ranked number 28 which is way down at the bottom, essentially. I mean, it’s — can you imagine we are ranked number 28 and we are number 1? And that’s what I do like saying about my campaign, I spent less money than anybody else and I have the best results.',\n",
              " 'I’m number one by a lot and I spent no money. I mean, my plane cost me some money, but I spent no ads. Took a little radio ad in Iowa. But I didn’t do that — I took — I think the station is so lovely if you want to know the truth. But I spent essentially no money.',\n",
              " 'And then you have all these other guys spending vast — and they like the way the United States is run. Now, why would we put a guy like Jeb, like some of the others. It’s not only Jeb Bush. They spend money. I see Rubio on the ads all day long.',\n",
              " 'You know, the black background. He’s got like a black thing. He should have put something like that behind him, right? Right there, the flag.',\n",
              " 'No, no. And I like him. I think he is a nice guy. But I see these ads with the backdrop and it is just somber. It’s not — I don’t think it’s good. So, think of it. I spent no money and I’m number one. Others spent — they will have spent hundreds of millions of dollars and they are not even in the race. That’s what we need for our country. What? OK. I’ve got 15,000, I don’t know what the hell he means by that but that’s OK. So, but I think he’s a fan. I don’t think he’s a — are you a protester? No. OK. No body likes Trump. OK. He’s not a protester. I love you.',\n",
              " 'You know, the only time — don’t worry about it. The only time the cameras focus on the crowd is when we have a protester. Cause I always have — like, look at this room, packed. I always have the biggest crowds.',\n",
              " 'And I go home and my wife said were there many people? I watched you on television tonight. I said, I had 20,000 people. She said, they didn’t show it. They have it right on your face. So I have 20,000 people. I have 20,000 in Oklahoma, 35,000 in Mobile, Alabama. Nobody knows. Because those cameras stay right in your face and I think they can’t move.',\n",
              " 'You know, I think they might be fixed because modern cameras maybe — except every time there is a guy that stands up protesting, you know, they are on drugs or something, cause some of those guys, it’s like. They don’t even know what the hell they are doing there, all the sudden, the cameras swerve and make perfect shots.',\n",
              " 'And I like it because then it shows how big the crowds are. So, you know. Some time I think I’m going to put in some false protesters. I’ll put in some friendly protesters. It’s the only way I’m going to be able to get the crowd in.',\n",
              " 'So when we started, I talked about trade. I talked about the border. I talked about a lot of things. And I started on June 16th and — in Trump Tower, the famous escalator ride. And it takes guts to run for president. I’ll tell you, you know, it’s like, I’ve never did this before.',\n",
              " 'And, you know, then they tell you on a debate we had the largest debate. We have the largest audience in the history of cable television. Then CNN a couple of weeks later had 23 million. Fox had 24 million. CNN had 23 million — the largest audience in the history of CNN.',\n",
              " 'Now, they’re there — the cameras are on live right now. I mean, you know. So, the largest audience in the history of (inaudible).',\n",
              " 'Now, the debates used to be, if you go back four years or eight years, you know, whenever the cycles came up, nobody even wanted — they didn’t want the debates. I think they were forced to take them for licensing. Nobody wanted the debates. They drew nothing, but now they’re drawing 24 million. Now they want to have more debates — \"Oh, can we have more? Can we have more?\" Can they go three hours?',\n",
              " 'Do you remember when they had the one go three hours? I said, no, I’m not doing three hours. It’s too long. Who wants — I could stand up here for 50 hours, but who the hell wants to sit home watching three hours of the stuff, right?',\n",
              " '\"Mr. Trump, you have 30 seconds. What would you do about ISIS?\" Oh, great. And by the way, that question — I hate those questions. You know why? Because I want to be unpredictable. I don’t want to tell ISIS what I’m going to do to knock the hell out of them.',\n",
              " 'Remember, I said very strongly — (inaudible) the oil for what, four years? You’ve been watching. I mean, four years. I’ve been \"get the oil, get the oil, get the oil.\" Because who’s going to get the oil? Iran is taking over Iraq. We made a deal for Iran, done by some of the dumbest people on earth, on our side. We gave them everything. They — we don’t even get our prisoners back.',\n",
              " 'And now Iran wants to start negotiating separately for them. Can you believe it? I go crazy. We would have gotten them back. All you had to do was say, \"We want our prisoners back.\" They would have said no. I would have said, \"I want them back; you don’t understand me. I want them back.\" They would have said, \"No, we won’t do that.\" I would have said, \"Bye-bye,\" and I would have left. Then I would have doubled up the sanctions. And I guarantee you...',\n",
              " '... I guarantee you that within 24 hours, they would have called back and they’ll say, \"You’ve got your prisoners; can we talk?\"',\n",
              " 'And I would have never given them $150 billion. I would have never given them the money. I would have never give — they’re using it — they don’t have to make nuclear. They can buy it. Why are they going to make it? Then we have the nuclear, where they have self- inspections. How about the area — you know, the big area? They don’t want us there. Oh, I wonder why. They don’t want us there. So they self-inspect, OK?',\n",
              " 'Then they have the 24-day inspection, but the self-inspection is the beauty. \"We think you’re making nuclear weapons here.\" \"Well, let us go check, Mr. President, we’ll check.\"',\n",
              " '\"No, sir, we’re not making nuclear weapons. Nobody — no, we’re not; we would never do a thing like that.\"',\n",
              " 'These are people that have deceived us. They’ve lied to us. They’re a terrorist state. But — and I used to say it’s the worst deal that I’ve ever seen negotiated. And by the way, just to finish prisoners. So they’d come back; we get our prisoners. But then when I hear the other day that now this deal is done. It’s all done. And now I hear they want to negotiate to get — and what do they say? They said very strongly, they said, \"We are going to want a lot for the prisoners. That’s out — we’re starting off; we’re going to want a lot.\"',\n",
              " 'Now, we’ve already taken off the sanctions. They’re already rich as hell. What — what’s going on there? That’s why I say, I mean, some people say it’s worst than stupidity. There’s something going on that we don’t know about. I mean, honest. And you almost think — I’m not saying that, and I’m not a conspiracy person. As you said, \"We are; we’re saying it.\"',\n",
              " 'Half the people in this room are saying it. I’m trying to be — you know, I’m just hoping they’re just stupid people, OK?',\n",
              " 'Which they are. Or there’s something going on. Because it’s — it’s inconceivable. You know, do you ever see where some things are so bad that it can’t be — that nobody can do what they did, right? Nobody.',\n",
              " 'So, Iran now wants to negotiate separately for the (inaudible). In other words, that deal is done; now we want to start all over again. And they want a lot. \"We want a lot.\" And I just — I want to just shoot the television, you know? Because they would have had it just by saying.',\n",
              " 'And, you know, when they asked Kerry and Obama, the deal was made. Everybody knows it’s a horrible deal. It’s going to need to — it’s going to lead to tremendous nuclear proliferation, and they’re so rich now. You know, they became — $150 billion — they became so rich. And many other things that you don’t even know about. Most people don’t even know what the agreement says.',\n",
              " 'But I’ll tell you what, when you look at what we’re doing, we’re not going to have — if we keep going like this, folks, we’re not going to have a country left. We’re not going to have a country. We’re not going to have a country.',\n",
              " 'And we’re like a dumping ground for the world. We’re a dumping ground. They want to take these migrants — the migrants, you know, and I feel terrible about the migration, caused by Hillary Clinton and Barack Obama. They’re the ones that caused it. They go into Libya. They knocked the hell out of Gadhafi. OK, so Gadhafi — they backed rebels who end up killing the ambassador and the other young people.',\n",
              " 'You know the ambassador was riding in a jeep, one of our jeeps, of course, a military jeep, holding the Libyan flag and you know, freedom, freedom, freedom. And then gets killed by the same people. So, we backed people that turned out to be far worse than Gadhafi.',\n",
              " 'Look at what we did in Iraq. Look at what we did in Iraq. I mean, what the hell did we get? We spent $2 trillion, and that was as a year and a half ago. I keep saying two or three, it’s a lot more than that. We spent $2 trillion, we have thousands of deaths, and I’m not even talking other side.',\n",
              " 'You are talking about hundreds of thousands, maybe millions. You have thousands of deaths. We have wounded warriors, who I love, all of. These guys are the toughest — these are the greatest people.',\n",
              " 'You know, these are the greatest people. And then what happens? We leave, and we have a president that announces the date of when we are leaving. So, I said, man, if I’m the enemy, I’m just going to go wait for 18 months right?',\n",
              " 'He gave a date. We are leaving Iraq, we will be gone by such and such a time. I said, I’m just sitting there watching and I’m saying, man, that’s really stupid. Because, believe me, the enemy doesn’t want to be killed. You know, you hear so much, oh they want to go with the virgins up to wherever they go, right?',\n",
              " 'They don’t. They want to live. And they want to take care of their families, always their families. You remember that, because their families know what’s going on OK? You think their wives don’t know what they are planning? You think their kids don’t know exactly what daddy is doing when daddy is going to fly into the World Trade Center? You think they don’t know? They know exactly what’s going on. Remember that. And frankly, I think they have more love for their family’s lives than they do for their own lives, OK. But they still want to live. So here is Obama, gives an exact date. He gives an exact date and so they pull back.',\n",
              " 'And everyone says, oh, we are doing so well. Look, we’re doing so well. Why should they fight when they know, in 18 months, they can go in and take the place? So what happens? So we have ISIS taking a lot of oil. I said take the oil. Remember when we left, I was opposed to going in because I said you’re going to destabilize the Middle East.',\n",
              " 'Because you had Iraq and you had Iran. And I said, they fight, they’re always fighting for decades and decades, for generations. They fight, that’s what they do. They fight. How we ever got involved in this mess is hard to believe. They fight and they were equal militarily. They go this way, 10 feet. They go this way, 10 feet. Then they rest a couple of years, then they start fighting again.',\n",
              " 'Then Saddam Hussein throws a little gas. Everyone goes crazy. Oh, it’s because (ph) of gas. They go back and forth. It’s the same. And they were stabilized. And I said, if you go after one or the other, in this case Iraq, you’re going to destabilize the Middle East. That’s what going to happen. You’re going to destabilize the Middle East. And that’s exactly what happened. We totally destabilized the Middle East.',\n",
              " 'We have now migrations ,largely because of what’s happened afterwards. You know Iraq was horrible. It was stupid to go in and we should have never gone in. But we shouldn’t have gotten out the way we went out. And we shouldn’t have given dates. I mean, I would have probably said we are going to stay forever. And they would have said, oh, man.',\n",
              " 'And then keep going, keep going and eventually they would get tired and say, this guy is crazy. I mean, he’s never going to leave and you’ll make a deal. But when you announce you are leaving in 18 months or whatever the hell he said, they just pull back. And then as soon as we left, they come in OK?',\n",
              " 'So they have the oil. You know who the biggest benefactor of the oil is right? China. Always China. I love China. I love Mexico. Their leaders are too smart for us. We have no border. We will build a wall. Mexico will pay for the wall by the way.',\n",
              " 'We’re building a wall, we are going to have a border. And people are going to come into our country, but they are going to come in through a legal process. They’re not coming in the way they’re coming in now, just walking in like nothing.',\n",
              " 'They are going to come in, but they are going to come through a legal process. So, with Iraq, so we give them the date and they take over. We didn’t take the year. So for four years, I have been talking about it. Then because of Paris, all of sudden they start bombing the oil.',\n",
              " 'But I didn’t want to just bomb the oil. I wanted to take oil. They’re bombing. You know, we are bombing. Great. What’s going to happen after that? So we’re bombing. And, you know, we are not really bombing it, because they are still selling it.',\n",
              " 'I said, how could they keep selling it? Obama does not want to hit them too hard because he is afraid he is going to pollute the atmosphere. No, this is serious. Now think of it. He talks about the carbon footprint and yet he will fly a very old Air Force one, an old Boeing 747, with the old engines and you know, spewing stuff.',\n",
              " 'So, he’s got a problem with the carbon footprint. You can’t use hair spray because hair spray is going to affect the ozone. I’m trying to figure out. Let’s see, I’m in my room in New York City and I want to put a little spray so that I can —',\n",
              " '— right? Right? But I hear where they don’t want me to use hair spray, they want me to use the pump because the other one which I really like better than going bing, bing, bing —',\n",
              " '— and then it comes out in big globs, right, and you — it’s stuck in your hair and you say oh my God, I’ve got to take a shower again. My hair’s all screwed up, right?',\n",
              " 'I want to use hair spray. They say don’t use hair spray, it’s bad for the ozone. So I’m sitting in this concealed apartment, this concealed unit — you know, I really do live in a very nice apartment, right?',\n",
              " 'But it’s sealed, it’s beautiful. I don’t think anything gets out. And I’m not supposed to be using hair spray. But think of it. So Obama’s always talking about the global warming, that global warming is our biggest and most dangerous problem, OK? No, no, think of it. I mean, even if you’re a believer in global warming, ISIS is a big problem, Russia’s a problem, China’s a problem. We’ve got a lot of problems. By the way, the maniac in North Korea is a problem. He actually has nuclear weapons, right? That’s a problem.',\n",
              " 'We’ve got a lot of problems. We’ve got a lot of problems. That’s right, we don’t win anymore. He said we want to win. We don’t win anymore. We’re going to win a lot — if I get elected, we’re going to win a lot.',\n",
              " 'We’re going to win so much — we’re going to win a lot. We’re going to win a lot. We’re going to win so much you’re all going to get sick and tired of winning. You’re going to say oh no, not again. I’m only kidding. You never get tired of winning, right? Never.',\n",
              " 'But think of it. So Obama’s talking about all of this with the global warming and the — a lot of it’s a hoax, it’s a hoax. I mean, it’s a money-making industry, OK? It’s a hoax, a lot of it. And look, I want clean air and I want clean water. That’s my global — I want clean, clean crystal water and I want clean air. And we can do that, but we don’t have to destroy our businesses, we don’t have to destroy our —',\n",
              " 'And by the way, China isn’t abiding by anything. They’re buying all of our coal; we can’t use coal anymore essentially. They’re buying our coal and they’re using it. Now when you talk about the planet, it’s so big out there — we’re here, they’re there, it’s like they’re our next door neighbor, right, in terms of the universe. Miss Universe, by the way, I made a great deal when I sold — oh did I get rich.',\n",
              " 'That was a great deal. You know, they broke my choppers on that. They said he talks about illegal immigration, we’re not going to put him on television. First of all, Univision is being sued like crazy; you wouldn’t believe it. And NBC, I made a great deal with them, just like an amazing deal, far more than I would have ever gotten — I mean, I made an unbelievable deal — far more than I ever would have gotten if I said I think I’m going to sell it if times were normal, right? Isn’t it amazing the way that stuff can work out?',\n",
              " 'But I love Miss Universe and I love the universe. But think of it. So China is spewing up all this stuff and we’re holding back. And with China — you know, we signed these agreements where we have to do it now, they have to do it within 30 or 35 years. I don’t think they’re going to be doing it.',\n",
              " 'It’s like Japan. If somebody attacks Japan, we have to immediately go and start World War III, OK? If we get attacked, Japan doesn’t have to help us. Somehow, that doesn’t sound so fair. Does that sound good?',\n",
              " 'So South Korea — I order televisions, I order thousands of televisions a year. I order televisions because I have a lot of stuff and I like nice brand new — they’re all made in South Korea, most — other than Sony, and Sony, in all fairness, has lost its way. But a lot of them — Samsung, all of them. I mean, they’re all pretty much — all of them, right? I think just about. But I order thousands of televisions, they’re all from South Korea. So we have 28,000 people on the border separating South Korea from this maniac in North Korea, we get nothing. What do — we get nothing. They’re making a fortune. It’s an economic behemoth.',\n",
              " 'A lot of you don’t know we protect Germany. Germany! Mercedes Benz, how many people have a Mercedes Benz? We protect Germany. It’s an economic behemoth.',\n",
              " 'We protect Saudi Arabia. They were, during the good oil days — now it’s probably half, which is fine. But during the good old — they were making a billion — listen to this — a billion dollars a day, and we protect them. Our military — they pay us peanuts, like nothing. And then if we want to buy — we want to move to another location, well, that’s very expensive if we do that. We want — they charge us rent?',\n",
              " 'I mean, look. We are run by people that are so bad, they’re so out of their league — and I see it, I see it on the stage. You know, they’re — a lot of them are nice people. You know, a lot of people think I don’t like these people. I do like them. But they don’t have business sense, they don’t have business ability, they don’t have common sense. They’re politicians, they’re all talk, they’re no action.',\n",
              " 'When I say...',\n",
              " '... folks, when I say, \"We’re going to build a wall.\" Most of them say, \"You can’t build a wall — build a wall.\" In China 2,000 years ago, they built the Great Wall of China, which is bigger than any wall we’re thinking about, OK? The Great Wall of China goes 18,000 miles. We have 2,000 miles of which we only need 1,000 miles, because you have a lot of natural barriers, right, that are extremely tough to get across. We have 1,000 miles.',\n",
              " 'So, China has 18,000 or 13,000 miles, and we have 1,000 miles. We have modern cranes. We have Caterpillar tractors — I want to use Caterpillar; I don’t want to use Komatsu.',\n",
              " 'Made in America.',\n",
              " 'Even my hats, they’re made in America. It wasn’t easy to find a guy that could do those hats. You know what I’m talking about. I see so many knock-offs of my hat, right? \"Make America Great Again.\" I see these things that are out of plastic. They’re out of all sorts of crap. Mine are made in America. And honestly, they do a great job, but they don’t produce as many as I’d like because, frankly, there’s a big — I mean, it’s amazing. Those hats are amazing. But I wanted to have it made. And you know why I wanted it — I wanted it, anyway, but I also knew that as soon as the hats came out, and other things — we have a website — as soon as the hats came out, I knew the press would be calling. And it’s true. First hour when the hats were announced, I get a call from the New York Times. \"Mr. Trump, where are those hats made?\" I said, \"America.\"',\n",
              " 'I knew it. I knew it. Because as you know, if I would have said China, I would have been in big, big trouble. But they’re being knocked off all over the world. I mean, I see hats — they’re like helmets. I see them all. But what are you going to do?',\n",
              " 'But here’s the story. We’ve got to build a wall. So when I talk and when I’m up on the stage with these guys, these people — wonderful people — and a very nice woman, Carly. She’s a nice woman. When I’m up on the stage with them, they think I’m crazy when I say \"Mexico\" — I’m saying, \"We’re going to build a wall; it’s going to be a great wall; it’s going to be real wall. See this ceiling? This ceiling is peanuts compared to the height of the wall I’m talking about.\"',\n",
              " 'I’m talking about a van to get up there. They’re not coming down because it’s too dangerous.',\n",
              " 'All right? Did you ever see what they do now? We have these little walls. They build ramps. They build a ramp. I say, \"Wouldn’t it be cheaper just to knock the wall down and just...\" And then they drive over it with jeeps loaded up with drugs. Do you see this? They build ramps. There was a picture in Time magazine. It’s a ramp — a little ramp that goes over the wall. So, they have a jeep — over, down, bump, make money. We get the drugs. Think of it. We — \"build a wall\" is right. You’ve got to build a wall.',\n",
              " 'We get the drugs. They get the cash. No so good, right? We don’t like that deal. Our politicians don’t know — they don’t know.',\n",
              " 'So when I say \"Mexico’s going to pay for it,\" these guys on the stage with me, they’re not business people. They don’t understand. Mexico makes a fortune off the United States. Number one, we give them a lot of money. But in addition to that, they’re taking our businesses. They’re making — you talk about a trade deficit. I’ll tell you what, Mexico in a certain way is in a mini-version the new China. Mexico is making an absolute fortune — peanuts, compared to the cost of the wall.',\n",
              " 'Let’s say the cost of the wall is $10 billion. That’s a good — I can do great job at $10 billion. I think we’ll have a lot of money left over. Somebody else would — and by the way, 20 years ago, they wanted to build a wall. People that are opposed to it now, they wanted to stop and they wanted to build a wall. You know one of the reasons they didn’t build the wall? Because of the Environmental Protection Agency, they couldn’t get an environmental impact study approved. Can you believe it? Because there was a toad or a turtle or a snake or something was in the way.',\n",
              " 'Now, think of it. In China, in the South China Sea, there were these low-level land masses that were covered by water, but pretty close to the top. China sends in massive excavators and they’re (inaudible). They’re building military fortresses in the South China Sea. And a friend of mine, who is one of the biggest and richest people in China — he’s a great guy. They’re great people. They’re fine. They’re just too smart. I mean, the leaders are too smart for our people.',\n",
              " 'They won’t be too smart when I put my people there.',\n",
              " 'When they call up, \"We’d like to speak to the donor that is negotiating it.\" \"No, no. The donor now is Carl Icahn. You’re going to speak to Carl Icahn.\" You know Carl — great businessman. You have so many people — they call all these business people — call. So, a friend of mine, so I call him, I say, \"You’re actually doing that.\" And then jokingly, I said, \"How long did it take to get started? Did you have to get an environmental impact study approved in order to excavate?\"',\n",
              " 'He looked at me, goes, \"I — I hope you’re kidding when you say that.',\n",
              " 'They conceived of the idea and they started digging four hours later, OK? There is no, you know, go through 25 years of environmental impact, you are going to hurt the snail. You’re going to hurt this. You are going to — they are doing a big thing.',\n",
              " 'They excavated — massive, massive — take a look, massive. The biggest excavation. They are ripping the hell out of that ocean. They are ripping it and they are taking their dirt and they are putting it — and they’re building air fields and they’re building forts.',\n",
              " 'We couldn’t do it because, just like I said for the law. Legitimately, they could not get an environmental impact statement. Now, that’s probably not the only reason it didn’t happen. I heard their costs were too high. With me, that’s easy.',\n",
              " 'You know, I’m doing the old post office or watch (ph) you (ph). I’m under budget, I’m ahead of schedule. Hey, look at the campaign. The guy’s at $59 million and he’s down at the bottom. I’m nothing and I’m at the top. It’s the same thing.',\n",
              " 'I actually said — it’s funny. The other day I got this great review. They said trump is a great speaker. The crowd is spellbound. But he has one problem. And I’m reading, and I want to see. The problem is, he speaks through the Applause. In other words, like I say that, you applaud, I start talking you finish your Applause. And you know why? Because I’m so excited, because we have so much potential. It’s true.',\n",
              " 'I don’t want to wait for your freaking Applause. We have — I have so many — we have so much potential. There are so many things to do. I don’t really sort of want to wait. I want to do it. And I just noticed, I did it again. You were getting ready to give a big Applause, because you like that, and I’m speaking. I killed the Applause. But he is right. But except, I’m not a speaker. What I am is a doer. I get things done.',\n",
              " 'So, when the people up on the stage with me — and Hillary, Hillary doesn’t have a clue. By the way, you talk about low energy. She has lower energy than Jeb Bush, which is hard to believe. She does. And I’ll tell you and I’ve been saying it. And maybe it’s rude, maybe it is not. But it doesn’t matter. We have a much bigger problem. We have to save our country.',\n",
              " 'So, if I’m rude and if people think I’m rude — I’m actually a nice person. I have a big heart. I want to help people. I want to help the migration. I want to do a safe zone in Syria. I don’t want them coming here. We don’t know who these people are. They are undocumented.',\n",
              " 'And we should do a safe zone over there. We should have the Gulf states — Saudi Arabia and these states they are not spending. They have got to spend. They have to pay. You know, we are protecting them. We’re doing — they wouldn’t be there for two minutes if we weren’t protecting them. They have to start paying. They are not taking anybody, OK?',\n",
              " 'How about Germany taking millions of migrants. Can you believe what she is doing to that country? And she was the person of the year and I wasn’t. Everybody said Trump was supposed to.',\n",
              " '(BOOING)',\n",
              " 'Hey, what are you going to do. I think she has made a terrible mistake. We will find out. Time will tell. They have tremendous crime problems. I think she has made a tremendous mistake. But what I like is in Syria, with other people’s money, meaning the Gulf states and others and Germany and others.',\n",
              " 'Because, look, Germany is paying a fortune to accept all these people. They’ll give us the money. We do a massive safe zone. And then eventually when this whole catastrophe straightens out, which I will probably be able to get it straightened out, I understand this now.',\n",
              " 'But once it’s straightened out, they could go home to their country, you know, to their area. It is interesting, I have thousands of people that work for me. Thousands. And I have people that come from far — they are all here legally, don’t worry about it. I use E- verify. But I have people — oh, they go and check. These guys go check.',\n",
              " 'They went into the old post office checking everybody who walked their dog, are you hear illegally? They said they found one person out of hundreds and hundreds. I don’t believe it. But, you know, it is possible somebody slipped — hey, we do have 11 million people in the country. And it is probably a much higher number than that, OK? It is probably a much higher number.',\n",
              " 'But we have to do something about it and we are going to. So, I just want to finish by saying this. Look, we have a situation that is out of control. Our country is a dumping ground for the rest of the world. We are laughed at by the rest of the world.',\n",
              " 'And when I started this journey, and it is a journey, and I do love you people. You’re amazing people. And by the way, you are so smart. A lot of times, they will say, well Mr. Trump’s people are blue-collar. I love blue-collar. I’m honored by that.',\n",
              " 'But they are not blue-collar. We have blue-collar and we have executives and we have young people. They say the audience is old. It’s not older. The audience is young. The other night in Iowa, I told that, and I said, we have so many young people and the place erupted. They are all young people. We have an amazing thing happening, it’s just...',\n",
              " 'Look, that’s their way of marginalizing, not even me, they are marginalizing you. It is disgusting. But when I started this journey and that’s what it is, it’s a journey and it’s a movement that’s taking place. It’s a movement. Remember the old days? Silent majority? It’s not right. It’s a noisy majority. People are angry. It’s a noisy majority. These aren’t silent people anymore. I go to people — you can’t even hear.',\n",
              " 'This is an amazing thing that’s happened. I received a call from one of the biggest reporters, who happens to be liberal, but that’s OK. (inaudible) a couple of them, right? But, a guy who’s really respected, recently, and he said, \"How does it feel?\" I said, \"How does what feel?\" He said, \"What you have done has never been done in the history of politics in the United States.\" I mean, even CNN said, \"Number one political story of the year is Trump.\" You know what number two was? ISIS — ISIS was two. I’d rather reverse it. Let ISIS be one; let me be two, because I want to knock the hell out of them and make me number one next year.',\n",
              " 'Make me number one next year. But this reporter, who is a great intellect, actually, and a very smart guy, very good guy. He said — he said, \"What you’ve done has never been done before in the history of this country.\" Newt Gingrich was on a television show the other say, and said, \"This is one the great phenomenons (ph) I’ve ever seen in politics; nobody’s ever seen it.\"',\n",
              " 'Crowds like this? Forget it. I mean, it’s only confined to this (inaudible). Again, they sent 3,000 people home. Can you believe it? More than 3,000. It’s — it’s unbelievable what’s happening. It’s beautiful what’s happening. It’s beautiful what’s happening. But Newt Gingrich said he’s never seen anything like this.',\n",
              " 'But he said to me, the reporter, he said, \"never been done before.\" I said, \"Well, you know, it’s fine, but if I don’t win, it’s just a waste of time.\" He goes, \"No, no, no. What you’ve done is incredible.\" He said, \"Even if you don’t win, what you’ve done is incredible; you’ve totally changed the landscape of politics.\"',\n",
              " 'No, don’t applaud, don’t applaud, don’t applaud. He said, \"You’ve totally changed the landscape of politics; it’s forever going to be different. Your campaign — there’s never been anything like it.\" OK, he was very nice. I said, \"You don’t understand. You don’t understand. If I don’t win, I will consider this\" — and I mean this — \"a total and complete waste of time.\" I really do.',\n",
              " 'So — because we’re not going to do anything. It’s wonderful. Oh, good, I had nice crowds. They’ll write about me every once in a while; every two years I’ll have a story, \"Trump ran this rather good campaign.\" If we don’t win, to me, and honestly you should feel the same thing, if we don’t win, it’s a terrible waste of time, because you’ll have somebody else in there. They won’t be able to do what I do. They’re not going to be able to. And even if you get one of these Republicans in, like, I didn’t finish the — so, the wall.',\n",
              " 'When I say \"Mexico is going to pay,\" they all laugh. They all go \"heh, heh, heh.\" They think it’s funny. Honestly, these are people — they think it’s funny. They’re laughing. You know, lightly, like \"Oh ho, that’s so funny; ha, ha, ha.\" They’re going to pay for the wall, folks. They’re making billions and billions and billions of dollars on deficits that we have with Mexico. The wall is peanuts. They’re going to pay for the wall.',\n",
              " 'But I mention it, now they don’t laugh because they’re starting to agree with me. And then the other day, one of the people said — it was Ted Cruz, who is a nice guy. But he said, \"We’re going to build a wall at the southern border.\" I said, \"Look\" — and my wife is sitting (inaudible) — where did that come from, right? No, Ted’s a good guy.',\n",
              " 'But he said on one of — I think it was on Fox, he was being interviewed. And he said, \"We’re going to build a wall at the southern border.\" He didn’t say Mexico was going to pay was going to pay. He hasn’t gone that far yet, but believe me that’s going to happen. See, they’re all trying to catch up with me. Because when I did this stuff, it was very out there.',\n",
              " 'Now, I’m the one that everybody wants to sort of aspire to. But what happens is — so Ted’s up and he’s talking. And, you know, routinely we’re going to have the border; we’re going to have this and that. And we’re going to build a wall.',\n",
              " 'My wife is sitting there. She says, \"Darling, did you hear that? He just said they’re going to build a wall. That’s the first time I’ve — you know, that’s what you say.\" She hasn’t heard that from any other candidate.',\n",
              " 'OK. So we’re going to build a wall. Mexico is going to pay for it. There are so many things we’re going to do. But when I — when I started the journey, it was amazing. I came down — it took courage. I went down in to the lobby of Trump Tower, on the escalator with Melania. I have never seen — it looked like the Academy Awards, the press. We have a lot of press here today. They’re all live — look at all those live cameras.',\n",
              " 'So when I came down — when I came down on the escalator, we came down. And I said, \"We’re going to do things.\" And I mentioned illegal immigration. You wouldn’t even be talking about illegal — it wasn’t even on the radar. Nobody was talking about illegal immigration. Is that right? Now, it’s one of the big subjects.',\n",
              " 'And that’s why — and one of the beautiful polls that came out, and I’m so proud of it, CNN just came out with a poll a couple of, I guess a week ago — 36 percent for Trump; second is 16; third is 14; then 12. So they’re way down. But on the economy, they give me 55 — 55 percent. That’s with 16 people at the time.',\n",
              " 'On the budget, I mean, I understand — the budget, the economy, I win — I win it hands down, all right.',\n",
              " 'But listen to this. On illegal immigration, I’m almost at 50 percent.',\n",
              " 'And on ISIS, likewise, almost at 50 percent. So people want to be protected, they want to feel safe. They need strength, they need toughness, they need smarts. I don’t want to be tough — you know, I know a lot of tough guys but they’re not smart, and they’re the — they’re the easiest. You can be tough, you’ve got to be smart.',\n",
              " 'Let’s start smart first. You’ve got to be smart-tough. You’ve got to be tough because the world is trying to take advantage of us. So what happens is this. I came out, I started — I did it, I was, oh, that first couple of weeks with illegal immigration and Mexico and all of this stuff. Then Kate was killed in San Francisco and Jamiel was killed in Los Angeles. Jamiel Shaw, an unbelievable young man, was killed, just shot right through the head by an illegal immigrant. Kate was shot by a guy who came in five or six times, shot in the back.',\n",
              " 'So many great people. And that’s — these are two, so many. And then you have the economy and the jobs that are being lost and people aren’t paying taxes and all of this stuff, right? And all of a sudden, people are coming over, and I say the wall and now they’re starting to say the wall. We have to be progressive in our thinking. When I say progressive, I mean like smart. I’m not talking progressive like a Bernie Sanders would say, the guy want to tax you. Think of it.',\n",
              " 'Think of it. This guy wants to raise your taxes to 90 percent. No, no, think — you’ll have to move out of this — I love this area, by the way. I’ve been here many times. Great golfing area, right? We love it.',\n",
              " 'No more golf if Bernie Sanders — no more golf. No, no, you won’t have any golf anymore. There won’t be — you won’t have any money left to be — you’ll be paying it in taxes. This guy is a total disaster.',\n",
              " 'And I’m not saying that — I’ll tell you why. You know, Hillary said well, I’d like to run against Trump, believe me.',\n",
              " 'This poor Chuck Todd, Meet the Press. His show is dying and he keeps saying do it, do it, but I never liked it. You know, I just — he never treated me fairly. So I do his show, he gets the highest ratings he’s had in years. He went from, like — believe me, I won’t even give you the numbers, they were massive, the numbers, right? I saved his life, and then he goes Hillary Clinton said that she would most like to run against Donald Trump. And yes — and they’re looking forward to it. Trust me, the last person — she’s already gotten a dose last night, do you agree?',\n",
              " 'She had a tough night. She had a tough one. She had a tough night looking at the beauty pageant, OK?',\n",
              " 'So Hillary Clinton said — and here’s Chuck Todd — and he’s a nice guy. I’m not trying to knock him. Please don’t be insulted, Chuck. But she says she doesn’t like him. But he doesn’t treat me right. So he goes the Clinton campaign said they’d most like to run against Trump, like I’m some kind of a sap. So I call him and I say Chuck, let me explain something. When they say they want to run against me, that means they don’t want to run against me, do you understand that? Do you understand it’s reverse psychology.',\n",
              " 'They say they want to run against me — first of all, I’m winning and tied in the polls now and I haven’t even hit her yet. But look at what happened to all the guys I hit. They’re gonzo, they’re gone or they’re failing badly, OK, and they’ll be gone soon.',\n",
              " 'But Hillary Clinton — think of it. I say so Chuck, report it like properly. Trust me, they don’t want to run against Trump. The last thing she wants in her whole life is — this was only — I did this in, like, 15 minutes what happened to them, because the husband wants to come and she wants to accuse me of things and the husband’s one of the great abusers of the world? Give me a break. Give me a break.',\n",
              " 'Give me a break. So the last person she wants to run against is me.',\n",
              " 'Now here’s the story. Look, here’s the story. It’s very simple. So I announced — and I was talking about trade, I was talking about the wall, I was talking about the borders, I was talking about Obamacare, I was talking about the 2nd Amendment will be saved, by the way. The 2nd Amendment.',\n",
              " 'It will be saved. The 2nd Amendment is going to be with us if I’m president. You know, they’re doing everything. They want to get rid of the bullets now, they’re doing everything they can —',\n",
              " 'Think of Paris, think of Los Angeles. Think if you had some guns in Paris on the good side, right? They had no guns. Paris has the toughest guns in the world, folks. And France — I mean, you get caught with a gun, it’s — the only one that has guns are the bad guys. So they go in these various places, they called the guy the mastermind. He’s a moron. I mean, this guy was a moron. I call him the guy with the dirty hat, right? They got him so good. By the way, the French police did a great job and our Los Angeles police did a phenomenal job. They did a great job.',\n",
              " 'Wouldn’t it be wonderful if, let’s see, this guy right here in front of me, he’s a tough guy. This guy with the hat, with the lousy head of hair, but he’s a strong-looking guy right here. This guy right there, see? And that one. Wouldn’t it be nice if they had a gun on their waist? Somebody. Him, him, him, so that when they — you know what they were doing in Paris? Get over here, boom. Get over here, boom. Your turn, get over here, boom. One hundred and thirty people with more to follow because there are people that are so badly injured right now in hospitals. Other people are going to die.',\n",
              " 'Same thing over there. These are people that gave a party in honor of their marriage. There’s something going on, folks. It’s wrong. They gave them a party. They worked — they gave them a party. She came in on a fiance permit or some nonsense and she was radicalized, and he was probably radicalized by her or he was already radicalized.',\n",
              " 'And people knew that they were radicalized and people in the area knew that they had bombs — who the hell doesn’t know? You’re their next door neighbor. And they didn’t want to talk about it. You’ve got to report these people. We’ve got a real problem. You’ve got to report them. No more nonsense.',\n",
              " 'They didn’t report them, and the reason they didn’t is because they don’t disagree with them so much. OK? Believe me. It’s not because they were afraid. You saw the one who wasn’t politically correct to (ph) report them. They didn’t want to report them. I mean, give me a break. So we have to change.',\n",
              " 'So it started off with me where I was going to talk about trade, I was going to talk about all the things, I was going to talk about the military, building it up. I was going to do all of this, but after Paris and California, and there will be others because they have no fear of us, but after Paris and California, it has totally changed and my poll numbers went up 10 points.',\n",
              " 'It’s amazing. They went up 10 points. I said, \"What, you think it was the debate?\" Because I did good in the debate. They said, \"No. People view you as a tough cookie that’s not going to take this crap.\" That’s what it is.',\n",
              " 'And now I talk about protection. I talk about — trust me. The trade — that’s so easy for me. I’ve got the greatest guys in the world. They’re going to come in, they’re going to do a great job. I’m going to do some myself. I always talk about Ford. They’re going to built a plant, $2.5 billion in Mexico. That’s not going to happen with me. That stuff is — those deals are no good.',\n",
              " 'Ford’s leaving. They’re closing plants all over Michigan to build a plant in — in Mexico. How the hell does that help us? OK. Who are the people that think this is a good thing for us? And in the meantime, in Michigan and other places, we have plants closing all over the place and they’re spending — think about a $2.5 billion — then they’re going to sell cars, trucks and parts into the United States, no tax, no nothing.',\n",
              " 'I’ll say you don’t have to pay a tax, folks. And you know what? Ford will say \"If I (inaudible) pay a tax, we’re going to stay in the United States.\" I mean, it’s very simple.',\n",
              " 'It’s very simple. How about two weeks ago, Nabisco announced a big — Chicago. They announced they’re going to leave Chicago with one of their big plants and they’re going to move it to Mexico. What’s my statement? We’re not eating oreos anymore, right? No more.',\n",
              " 'But I don’t want this. It’s not going to happen. Then they’re make — they’re going to make product and they’re going to sell it into the United States? Not going to happen. It’s not going to happen. And by the way, I’m a free trader. I believe — we’ve got to be smart. I mean, we’ve got to get something. We don’t get anything out of anything. We don’t get anything.',\n",
              " 'We lose on everything. That Iran deal was a disaster. By the way, think of the Iran deal for one second. I always — and this came to me two weeks ago. I don’t know why I didn’t think of it sooner. Very disappointed with myself.',\n",
              " 'The Iran deal is the worst deal I’ve ever seen negotiated, OK? I’m wrong. You know what the worst deal is? Iran’s a part of that one too. We gave them Iraq. That’s even better. Think of it. We gave Iran Iraq. Iran has the biggest — think of it. They’re going to have the richest oil — if you go to Iraq, take a look. Among the largest oil reserves in the world.',\n",
              " 'We gave them, by decapitating Iraq and then leaving, because frankly, once we did it we should have kept 20,00 troops or something, we give Iraq. So not only did they make a great deal in terms of the Iran deal that we know having to do with nuclear, we also gave them Iraq. We gave them Iraq, that they’ve been after for 100 years. We handed it to them.',\n",
              " 'So now, they have the largest oil reserves among — in the world. That’s even better than the original deal. I mean, whoever is representing Iran is doing a hell of a job. OK? If that was a stock, you’ve got to buy some.',\n",
              " 'So we are not going to have deals like that with me. It’s not going to happen. We’re going to become rich again, we are going to become safe again and we are going to become strong again. And...',\n",
              " 'And you’re going to remember this moment. This is going to be an important moment for all of us. The one thing I have to say and I have to ask you to do, go out and vote. It’s going to be your turn.',\n",
              " 'Number three. Remember, it starts on February 1st with Iowa. We go to New Hampshire, then we go to the finals (ph), so three weeks. We’ve got four weeks to go, and then we have three weeks after we start. No matter what is going on in your life, you have got to out and vote. Because if you don’t, it’s not going to happen.',\n",
              " 'Don’t sit back and say, oh, Trump is going to do well. The more we can win by, you know, the more power we have in a sense, because it is like a mandate. But you have got to go out and vote. And I will tell you this. It has been an honor to be here, I love this area, I love the people here. It’s been an honor.',\n",
              " 'But we will make America great again, I promise. Thank you.',\n",
              " \"(OFF-MIKE) Thank you very much, everybody. Well, I want to begin by thanking the people of South Carolina. This is a special state. Thank you. These are special people and we got a little boost last week from a place we all remember -- New Hampshire. We can't forget it. Special, special. We love it. And they sent us in here with a very good feeling, right?\",\n",
              " 'Very good feeling. So I really want to thank you and my volunteers. All of these people -- volunteers and they travel and they -- and I say, \"what are you doing?\" And now they\\'re going to Texas and they\\'re going all over. Some are going to Nevada. I\\'ll be going to Nevada. We\\'re making a big speech tomorrow in Atlanta and then we\\'re going right to Nevada.',\n",
              " \"And I think we're going to do terrific and the SEC's (ph) going to be very, very exciting. We expect to do very, very well. Very well ...\",\n",
              " \"I want to just say thank you to my family. It's been not easy for them. They don't see me anymore. I'm making speeches all the time and I have a great. I really have a great family so I just want to thank all of you.\",\n",
              " \"And Ivanka -- you know we have a hospital ready just in case. In South Carolina we're going to have a baby. There's nothing wrong with that, right? So ...\",\n",
              " \"Could be -- it could be any second. It could even be before I'm finished but it's -- but she insisted on being here. It was so important to Ivanka to insist on being here so thank you. Really good and Jared, Vanessa, Don.\",\n",
              " 'We have a wonderful lieutenant governor who backed us very early in the process.',\n",
              " 'You know Henry, right? The lieutenant governor of South Carolina. I will take him over the governor anytime because we won. We won ...',\n",
              " \"He handle that very nicely. He's tough. He's very tough. Tiffany, Eric, Lara and Melania. Melania, say something. Go ahead, please ...\",\n",
              " \"M. TRUMP: Just want to say an amazing place -- South Carolina. Congratulation to my husband. He was working very hard and he loves you. We love you and we're going ahead to Nevada. And we will see what happen (sic). He would be the best president ...\",\n",
              " 'And representing some very, very wonderful children, Ivanka. Just say a few words.',\n",
              " \"I. TRUMP: Thank you, South Carolina. This is an amazing, amazing night. The momentum since the beginning of this campaign has been unbelievable and that's because my father's message resonants so deeply with so many people. So as our family we're incredibly proud. We're incredibly grateful to each of you so thank you for being here to support us. And I will say this, my father is an incredibly hard worker and he'll be working for each and every one of you. So together we'll make America great again. Thank you ...\",\n",
              " 'Thank you very much. Thank you very much. So I was watching upstairs and it was really amazing to be watching what I was watching. And some of the pundits and overall fair but not too much. But a number of the pundits said, \"well, if a couple of the other candidates dropped out if you add their scores together it\\'s going to equal Trump.\"',\n",
              " \"But these geniuses -- they're geniuses -- they don't understand that as people drop out I'm going to get a lot of those votes also. You don't just ...\",\n",
              " \"You don't just add them together. So I think we're going to do very, very well. I think we're going to do very well. I want to also congratulate the other candidates. In particular I have to say Ted and Marco did a really good job and they got -- they did quite well as I understand. No, come on. Just one minute. Come on. One second, right? Good.\",\n",
              " \"OK. We go back to war tomorrow morning. Tomorrow morning we'll be back but I just want to congratulate the other candidates. There's nothing easy about running for president, I can tell you. It's tough, it's nasty, it's mean, it's vicious, it's beautiful.\",\n",
              " '(LAUGHTER)',\n",
              " \"When you win it's beautiful and we're going to start -- we are going to start winning for our country. We're going to start winning.\",\n",
              " \"Because our country doesn't win anymore. Doesn't win. We don't win with the military, we can't beat ISIS. We have great military but we can't beat ISIS. We don't win on trade. You look at what China's doing to us, what Japan does to us, what Mexico is just killing us at the border -- at the border and with trade. Mexico is killing us -- absolutely. We'll do the wall. Don't worry. We're going to do the wall.\",\n",
              " \"We're going to do the wall and by the way, who's going to pay for the wall?\",\n",
              " 'Mexico\\'s going to pay for the wall and it\\'s very easy. The other politicians come down, \"you can\\'t get Mexico to pay for the wall.\" I said, \"100 percent.\" We have a $58 billion trade deficit with Mexico. The wall is going to cost $10 to $12 billion, OK? Believe me, they will pay. One of the officials -- actually, one of the ex-officials from Mexico had a news conference.',\n",
              " 'And he announced that we will not be paying for the wall. Who does Mr. Trump think he is? They came to me -- the press. These people -- look at all those cameras back there.',\n",
              " 'The press came to me and they told me that he said that he would not pay for the wall. Do you have a comment? I said, \"yes. The wall just got 10 feet taller.\"',\n",
              " \"It's true. And I love Mexico. I love Mexico, I love China, I love many of these countries that rip us off because we have leaders that are incomptent and don't know what they're doing. I love these countries. They're great. I have thousands and thousands of Hispanics. We're going to Nevada.\",\n",
              " \"I lead -- I lead with the Hispanics. I'm leading in every poll with the Hispanics. They love me, I love them. The problem is -- the problem is that the leaders of these countries whether it's Mexico or Japan or Viet Nam which is just doing a big number now all of a sudden or China in particular -- that's the big one. The greatest abuse of a country that I think I've ever seen financially -- China.\",\n",
              " \"What they've done to us is the greatest single theft in the history of the world. They've taken our jobs, they've taken our money, they've taken everything. We're bringing our jobs back, folks. We're bringing our jobs back. We're going to bring them back ...\",\n",
              " \"And I know how to do it. We've had so many -- we've had so many incredible endorsements and to me getting the greatest business people to endorse me is very important. Carl Icahn endorsed me, so many others have endorsed me.\",\n",
              " \"And we're going to put these great business people in charge of trade and when China wants to come and negotiate, they're going to negotiate not with a political hack which is what they have now. They're going to negotiate with the best business minds in the world and we have them in this country.\",\n",
              " \"So we're going to do a lot of beautiful work. We're going to terminate Obamacare. It's going to terminated. It's going to be over ...\",\n",
              " \"It's going to be repealed and it's going to be replaced. And you're going to have much better health care at a much smaller cost because Obamacare -- if you look -- look at the increases in your Obamacare. Twenty-five, 35, 45, even 55 percent. It's dead. It's not working. We're going to go to a plan that's going to be so much better and so much less expensive.\",\n",
              " 'So second amendment by the way -- this is a room loves the second amendment. Thank you, fellows. This is a room loves and cherishes the second amendment. We are going to protect our second amendment. Totally ...',\n",
              " \"Common core is gone. We are getting rid of common core. We're brining education to a local level. The people in this community -- every time I see them they want education locally. The parents, the teachers. They want to do it -- they don't want bureaucrats in Washington telling them how to educate their children.\",\n",
              " \"We spend as a nation more for education per pupil than any other nation in the world. Not even close. More per pupil -- second place doesn't even exist it's so different. And yet out of 30 countries we're ranked number 30. You have China, you have Norway, Swenden, Denmark and then you have number 30, the United States. So we spend the most and we're at the bottom of the heap. It's not going to happen anymore, folks. It's not going to happen anymore.\",\n",
              " 'We are going to build our military which I thank because a number of the people came down and a number of the pundits in Washington I -- we love our military.',\n",
              " 'We love our military. And by the way we love our police. Our police are terrific. We love our police ...',\n",
              " \"They are not being treated properly. We're going to build our military so big, so good, so strong, so powerful that nobody is ever going to mess with us, folks.\",\n",
              " \"And we're going to buy -- we're going to buy the equipment that our generals, our soldiers, that everybody that's in the know want. We're not buying equipment that sells because they have political pull (ph). Because they take campaign and they give campaign contributions.\",\n",
              " \"We are going to get the equipment that they want, not the equipment that they're told to have by senators and congressmen in Washington. We're going to have great equipment.\",\n",
              " \"And the reason I can say that is I'm self-funding my campaign. I'm not getting millions of dollars from all of these ...\",\n",
              " \"I'm not getting millions of dollars from all of these special interests and lobbyists and donors that once they get it they literally do whatever the politicians want. That's not going to happen. And we're going to take care of our vets. We love our vets and they're being treated terribly. We're taking care of our vets.\",\n",
              " \"So we're now off to Nevada and it's a great state. We have great people. We have great people in our nation. No matter where we go -- I went to Mobile, Alabama -- 35,000 people. We went to Oklahoma recently twice -- 20,000 people, 20,000 people. No matter where we go we fill up the arenas.\",\n",
              " \"Over here the other day we had a 9,000 -- we had a 10,000 -- we have people. The only thing that stops the crowds are the walls because we can't get them in. We have to send thousands of people away.\",\n",
              " 'Time Magazine -- Time Magazine last year did an incredible cover story. They said \"it\\'s a movement.\" And that\\'s what it is. It\\'s an incredible movement with incredible people. Incredible people.',\n",
              " \"It's an incredible movement with incredible people. I tell you. And whether we go -- honestly whether we go to Dallas or whether we go anywhere you say -- you go to L.A. -- you go anywhere you say. Our people are incredible. And our theme -- what's our theme? You know it, right?\",\n",
              " \"Our theme which I love may be the greatest theme of all time, right? And the word again eventually is going to come off. We're going to get rid of the whole theme because what's going to happen -- make America great again, right?\",\n",
              " \"And the last two weeks because I've gotten to see so many -- I guess millions when you add them all up with all of these rooms and all of these speeches. And I've met so many people. But the people are so incredible that I've been saying make America great again and it's going to be greater than ever before. That's the kind of potential we have. Greater then every before.\",\n",
              " 'I don’t see how there is any room for misunderstanding or misinterpretation of the statement I made on June 16th during my Presidential announcement speech. Here is what I said, and yet this statement is deliberately distorted by the media:',\n",
              " '\"When Mexico (meaning the Mexican Government) sends its people, they’re not sending their best. They’re not sending you (pointing to the audience). They’re not sending you (pointing again). They’re sending people that have lots of problems, and they’re bringing those problems to us. They’re bringing drugs.They’re bringing crime. They’re rapists. And some, I assume, are good people! But I speak to border guards and they tell us what we’re getting. And it only makes common sense. They’re sending us not the right people. It’s coming from more than Mexico. It’s coming from all over South and Latin America, and it’s coming probably from the Middle East. But we don’t know. Because we have no protection and we have no competence, we don’t know what’s happening. And it’s got to stop and it’s got to stop fast.\"',\n",
              " 'What can be simpler or more accurately stated? The Mexican Government is forcing their most unwanted people into the United States. They are, in many cases, criminals, drug dealers, rapists, etc. This was evident just this week when, as an example, a young woman in San Francisco was viciously killed by a 5 time deported Mexican with a long criminal record, who was forced back into the United States because they didn’t want him in Mexico. This is merely one of thousands of similar incidents throughout the United States. In other words, the worst elements in Mexico are being pushed into the United States by the Mexican',\n",
              " 'government. The largest suppliers of heroin, cocaine and other illicit drugs are Mexican cartels that arrange to have Mexican immigrants trying to cross the borders and smuggle in the drugs. The Border Patrol knows this. Likewise, tremendous infectious disease is pouring across the border. The United States has become a dumping ground for Mexico and, in fact, for many other parts of the world. On the other hand, many fabulous people come in from Mexico and our country is better for it. But these people are here legally, and are severely hurt by those coming in illegally. I am proud to say that I know many hard working Mexicans—many of them are working for and with me...and, just like our country, my organization is better for it.',\n",
              " 'The Mexican Government wants an open border as long as it’s a ONE WAY open border into the United States. Not only are they killing us at the border, but they are killing us on trade ... and the country of Mexico is making billions of dollars in doing so.',\n",
              " 'I have great respect for Mexico and love their people and their peoples’ great spirit. The problem is, however, that their leaders are far smarter, more cunning, and better negotiators than ours. To the citizens of the United States, who I will represent far better than anyone else as President, the Mexican government is not our friend...and why should they be when the relationship is totally one sided in their favor on both illegal immigration and trade. I have pointed this out during my speeches and it is something Mexico doesn’t want me to say. In actuality, it was only after my significant rise in the polls that Univision, previously my friend, went ballistic. I believe that my examples of bad trade deals for the United States was of even more concern to the Mexican government than my talk of border security.',\n",
              " 'I have lost a lot during this Presidential run defending the people of the United States. I have always heard that it is very hard for a successful person to run for President. Macy’s, NBC, Serta and NASCAR have all taken the weak and very sad position of being politically correct even though they are wrong in terms of what is good for our country. Univision, because 70% of their business comes from Mexico, in my opinion, is being dictated to by the Mexican Government. The last thing Mexico wants is Donald Trump as President in that I will make great trade deals for the United States and will have an impenetrable border--only legally approved people will come through easily.',\n",
              " 'Interestingly, Univision has just announced they are attempting to go public despite very poor and even negative earnings, which is not a good situation for a successful IPO or high stock price—not to mention that I am currently suing them for breach of contract. Remember, Univision is the one who began this charade in the first place, and they are owned by one of Hillary Clinton’s biggest backers. After the speech was made, there were numerous compliments and indeed, many rave \"reviews\"—there was very little criticism. It wasn’t until a week after my announcement that people started to totally distort these very easy to understand words. If there was something stated incorrectly, it would have been brought up immediately and with great enthusiasm.',\n",
              " 'The issues I have addressed, and continue to address, are vital steps to Make America Great Again! Additionally, I would be the best jobs President that God ever created. Let’s get to work!',\n",
              " 'TRUMP: (OFF-MIKE) This was going to be a speech on Hillary Clinton and all of the bad things and we all know what’s going on, and especially how poor she’d do as president in these very, very troubled times of radical Islamic terrorism.',\n",
              " 'TRUMP: Even her former Secret Service agent, who’s seen her under pressure and in times of stress, has stated that she lacks the temperament and integrity to be our president. There will be plenty of opportunity to discuss these important issues at a later time, and I will deliver that speech very, very soon.',\n",
              " 'But today, there’s only one thing to discuss, the growing threat of terrorism inside of our borders. The attack on the Pulse nightclub in Orlando, Florida, was the worst terror strike on our soil since September 11th, and the worst mass shooting in our country’s history.',\n",
              " 'So many people — it’s just hard to believe, but just so many people dead, so many people gravely injured, so much carnage, such a disgrace. The horror is beyond description. The families of these wonderful people are totally devastated, and they will be forever. Likewise, our whole nation and indeed the whole world is devastated.',\n",
              " 'We express our deepest sympathies to the victims, the wounded, and their families. We mourn as one people for our nation’s loss, and pledge our support to any and all who need it. I would like to ask now that we all observe a moment of silence for the victims of this attack.',\n",
              " 'Thank you. Our nation stands together in solidarity with the members of Orlando’s LGBT community. They have been through something that nobody could ever experience. This is a very dark moment in America’s history. A radical Islamic terrorist targeted the nightclub, not only because he wanted to kill Americans, but in order to execute gay and lesbian citizens, because of their sexual orientation.',\n",
              " 'It’s a strike at the heart and soul of who we are as a nation. It’s an assault on the ability of free people to live their lives, love who they want, and express their identity. It’s an attack on the right of every single American to live in peace and safety in their own country.',\n",
              " 'We need to respond to this attack on America as one united people, with force, purpose, and determination. But the current politically correct response cripples our ability to talk and to think and act clearly. We’re not acting clearly, we’re not talking clearly, we’ve got problems.',\n",
              " 'If we don’t get tough, and if we don’t get smart, and fast, we’re not going to have our country anymore. There will be nothing, absolutely nothing, left. The killer, whose name I will not use, or ever say, was born in Afghan, of Afghan parents, who immigrated to the United States.',\n",
              " 'His father published support for the Afghan Taliban, a regime which murders those who don’t share its radical views, and they murdered plenty. The father even said he was running for president of Afghanistan. The bottom line is that the only reason the killer was in America in the first place, was because we allowed his family to come here.',\n",
              " 'That is a fact, and it’s a fact we need to talk about. We have a dysfunctional immigration system, which does not permit us to know who we let into our country, and it does not permit us to protect our citizens properly. We have an incompetent administration.',\n",
              " 'And if I’m elected president, that will not change, I will tell you, that will not change over the next four years. We have an administration that will not change. But if I get in there, it’s going to change, and it’s going to change quickly. We’re going from totally incompetent to just the opposite, believe me.',\n",
              " 'TRUMP: Thank you.',\n",
              " 'With 50 people dead and perhaps more ultimately and dozens more wounded, we cannot afford to talk around issues anymore. We have to address these issues head-on. I called for a ban after San Bernardino and was met with great scorn and anger but now many years and I have to say many years but many are saying that I was right to do so. And although the pause is temporary we must find out what is going on. We have to do it.',\n",
              " 'It will be lifted — this ban — when and as a nation we’re in a position to properly and perfectly screen these people coming into our country. They’re pouring in and we don’t know what we’re doing. The immigration laws of the United States give the president powers to suspend entry into the country of any class of persons. Now, any class — it really is determined and to be determined by the president for the interests of the United States. And it’s as he or she deems appropriate. Hopefully it’s he in this case.',\n",
              " 'Thank you. I will use this power to protect the American people. When I’m elected I will suspend immigration from areas of the world where there’s a proven history of terrorism against the United States, Europe or our allies until we fully understand how to end these threats. After a full ...',\n",
              " 'Thank you.',\n",
              " 'And by the way we have no choice. After a full and partial and long — really long overdue security assessment we will develop a responsible immigration policy that serves the interests and values of America.',\n",
              " 'We cannot continue to allow thousands upon thousands of people to pour into our country many of whom have the same thought process as this savage killer. Many of the principles of radical Islam are incompatible with Western values and institutions.',\n",
              " 'Remember this, radical Islam is anti-woman, anti-gay and anti- American.',\n",
              " 'I refuse to allow America to become a place where gay people, Christian people, Jewish people are targets of persecution and intimation by radical Islamic preachers of hate and violence.',\n",
              " 'This is not just a national security issue. It’s a quality of life issue. If we want to protect the quality of life for all Americans — women and children, gay and straight, Jews and Christians and all people then we need to tell the truth about radical Islam and we need to do it now.',\n",
              " 'We need to tell the truth also about how radical Islam is coming to our shores. And it’s coming ...',\n",
              " 'With these people, folks, it’s coming. We’re importing radical Islamic terrorism into the West through a failed immigration system and through an intelligence community held back by our president. Even our own FBI director has admitted that we cannot effectively check the backgrounds of people we’re letting into America. All of the September 11th hijackists were issued visas. Large numbers of Somali refugees in Minnesota have tried to join ISIS.',\n",
              " 'The Boston bombers came here through political asylum. The male shooter in San Bernardino again whose name I will not mention was the child of immigrants from Pakistan and he brought his wife, the other terrorist from Saudi Arabia through another one of our easily exploited visa programs.',\n",
              " 'TRUMP: Immigration from Afghanistan into the United States has increased nearly five fold — five fold in just one year. According to Pew Research, 99 percent of the people in Afghanistan support oppressive sharia law. We admit many more, and that’s just the way it is. We admit many more from other countries in the region.',\n",
              " 'And I’ll tell you what: They share these oppressive views and values. We want to remain a free and open society. Then, and if we do, then we have to control our borders. We have to control, and we have to control them now, not later. Right now.',\n",
              " 'Thank you.',\n",
              " 'Yet Hillary Clinton, for months, and despite so many attacks, repeatedly refused to even say the words radical Islam until I challenged her yesterday. And, guess what, she will probably say them. She sort of has said them, but let’s see what happens. She really has no choice, but she doesn’t want to.',\n",
              " 'However, she’s really been forced, and she has been forced to say these words. She supports, and the reason is, she supports so much of what is wrong, and what is wrong with this country, and what’s going wrong with our country and our borders. She has no clue, in my opinion, what radical Islam is and she won’t speak honestly about it if she does, in fact, know. She’s in total denial, and her continuing reluctance to ever name the enemy broadcasts weakness across the entire world — true weakness.',\n",
              " 'I don’t know if you know this, but just a few weeks before San Bernardino, the slaughter, that’s all it was was a slaughter, Hillary Clinton explained her refusal to say the words \"radical Islam.\" Here is what she said, exact quote, \"Muslims are peaceful and tolerant people, and have nothing whatsoever to do with terrorism.\" That is Hillary Clinton.',\n",
              " 'So, she says the solution is to ban guns. They tried that in France which has among the toughest gun laws anywhere in the world, and 130 people were brutally murdered by Islamic terrorists in cold blood. Her plan is to disarm law abiding Americans, abolishing the Second Amendment, and leaving only the bad guys and terrorists with guns. No good. Not going to happen, folks. Not going to happen. Not going to happen.',\n",
              " 'Thank you.',\n",
              " 'She wants to take away American’s guns and then admit the very people who want to slaughter us. Let them come into the country, we don’t have guns. Let them come in, let them have all the fun they want.',\n",
              " 'I will be meeting with the NRA, which has given me their earliest endorsement in a presidential race, to discuss how to ensure Americans have the means to protect themselves in this age of terror. I will be always defending the Second Amendment.',\n",
              " 'Thank you. Thank you.',\n",
              " 'The bottom line is that Hillary supports policies that bring the threat of radical Islam into American and allow it to grow oversees, and it is growing. In fact, Hillary Clinton’s catastrophic immigration plan will bring vastly more radical Islamic immigration into this country, threatening not only our society but our entire way of life. When it comes to radical Islamic terrorism, ignorance is not bliss. It’s deadly — totally deadly.',\n",
              " 'The Obama administration, with the support of Hillary Clinton and others, has also damaged our security by restraining our intelligence gathering and we have, just, no intelligence gathering information. We need this information so badly, and he stopped it. We don’t have the support. We don’t have the support of the law enforcement system because Obama is not letting them do their job. They are not being allowed to do their job. And, they can do it well — better than anybody.',\n",
              " 'We need a new leader. We need a new leader fast.',\n",
              " 'TRUMP: Thank you.',\n",
              " 'They have put political correctness above common sense, above your safety, and above all else. I refuse to be politically correct.',\n",
              " 'I want to do the right thing. I want to straighten things out and I want to make America great again.',\n",
              " 'The days of deadly ignorance will end, and they will end soon if I’m elected. As president I will give our intelligence community, law enforcement and military the tools they need to prevent terrorist attacks. They don’t have those tools now.',\n",
              " 'We need an intelligence gathering system second to none. Second to none. That includes better cooperation between state, local and federal officials, and with our allies, very importantly. I will have an Attorney General, a Director of National Intelligence and a Secretary of Defense who’ll know how to fight a war on radical Islamic terrorism.',\n",
              " 'And they will have the support that they need to get the job done right, not like it is right now. It’s not right.',\n",
              " 'We also must ensure the American people are provided the information they need to understand the threat. The Senate subcommittee on Immigration has already identified hundreds of immigrants charged with terrorist activities inside the United States since September 11th. Nearly a year ago, the Senate Subcommittee asked President Obama’s Department of Justice, State and Homeland Security to provide the immigration history of all terrorists inside the United States. These Departments refused to comply. Nobody even knows why. They refused to comply.',\n",
              " 'President Obama must release the full and complete immigration histories of all individuals implicated in terrorist activities of any kind since September 11th. So important. The public has a right to know how these people got here, how they came on to this great land, why are they here?',\n",
              " 'We have to screen applicants to know whether they are affiliated with or supporting radical groups and beliefs, very simple. We have to control the amount of future immigration into this country and we have to prevent large pockets of radicalization from forming inside America. Not complicated.',\n",
              " 'Every – and just think of this. Take a look. Every single event, even a single individual can be devastating, and all you have to do is take a look at what happened in Orlando and what happened in other cases. Just a single event. And just one person. Can you imagine what they’ll do in large groups, which we’re allowing now to come here.',\n",
              " 'Truly our President doesn’t know what he’s doing. He’s failed us and he’s failed us badly. Under his leadership this situation will not get any better, it will only get worse. And I’ve been saying that for a long time. Each year the United States permanently admits 100,000 immigrants from the Middle East and many more from Muslim countries outside of the Middle East. Our government has been admitting ever- growing numbers, year after year, without any effective plan for our own security.',\n",
              " 'In fact, Clinton’s State Department was in charge of admissions and the admissions process for people applying to enter from overseas. Having learned nothing from these attacks, she now plans to massively increase admissions without a screening plan including a 500 percent increase in Syrian refugees coming into our country. Tell me, tell me – how stupid is that?',\n",
              " 'This could be a better, bigger, more horrible version than the legendary Trojan Horse ever was. Altogether, under the Clinton plan, you’d be admitting hundreds of thousands of refugees from the Middle East with no system to vet them, or to prevent the radicalization of the children and their children. Not only their children, by the way, they’re trying to take over our children and convince them how wonderful ISIS is and how wonderful Islam is and we don’t know what’s happening.',\n",
              " 'TRUMP: The burden is on Hillary Clinton to tell us why she believes immigration from these dangerous countries should be increased without any effective system to really to screen. We’re not screening people.',\n",
              " 'So why don’t we have an effective screening system? We don’t. We’re being laughed at all over the world. The burden is on Hillary Clinton to tell us why we should admit anyone into our country who supports violence of any kind against gay and lesbian Americans. The burden is on Hillary Clinton to tell us how she will pay for it, her plan will cost hundreds of billions of dollars long term.',\n",
              " 'Wouldn’t this be money better spent rebuilding America for our current population including the many poor people already living here. We have cities, we have inner cities...',\n",
              " 'We have poverty all over and this is how we’re spending billions of dollars. We have to stop the tremendous flow of Syrian refugees into the United States. We don’t know who they are, they have no documentation and we don’t know what they’re planning and we won’t unless we have proper supervisor and proper leadership in which case they’re out of here. What I want...',\n",
              " 'What I want is common sense. I want a mainstream immigration policy that promotes American values. That’s a choice I put before the American people. A mainstream immigration policy designed to benefit America or Hillary Clinton’s radical immigration policy designed to benefit politically correct special interests. That’s all it is. We’ve got to get smart and tough and vigilant and we’ve got to do it now because later is too late — going to be too late for our country.',\n",
              " 'The media talks about home grown terrorism but Islamic radicalism and that’s a very, very important term — a term that the president refuses to use and the networks that nurture it are imports from overseas whether you like it or whether you don’t like it. Yes, there are many radicalized people already inside our country as a result of poor policies of the past.',\n",
              " 'But the whole point is that we will be much, much and it will be easier to deal with our current problem if we don’t keep on bringing people who add to the problem. And that’s what they’re doing. We’re letting all of these people — hundreds of thousands of people come in and all they’re doing is adding to this incredible problem we have.',\n",
              " 'For instance, the controversial mosque attended by the Boston bombers had at its founder and as its founder an immigrant from overseas charged in an assassination plot. This shooter and amazingly in Orlando was the child of an immigrant father who supported one of the most repressive regimes on earth. Why would we admit people who support violent hatred?',\n",
              " 'Hillary Clinton can never claim to be a friend of the gay community as long as she continues to support immigration policies that bring Islamic extremists to our country and who suppress women, gays and anyone who doesn’t share their views or values.',\n",
              " 'She can’t have it both ways. She can’t claim to be supportive of these communities while trying to increase the number of people coming in who want to oppress these same communities. How does this kind of immigration make our lives better? How does this kind of immigration make our country better? Why does Hillary Clinton want to bring people in in vast numbers who reject our values? Why? Explain.',\n",
              " 'Ask yourself who is really the friend of women and the LGBT community, Donald Trump with actions or Hillary Clinton with her words?',\n",
              " 'TRUMP: I will tell you who the better friend is and some day I believe that will be proven out bigly (ph).',\n",
              " 'And by the way the LGBT community is just — what’s happened to them is just so sad and to be thinking about where their policies are currently with this administration is a disgrace to that community, I will tell you right now.',\n",
              " 'Clinton wants to allow radical Islamic terrorists to pour into our country. They enslave women, and they murder gays. I don’t want them in our country.',\n",
              " 'Immigration is a privilege, and we should not let anyone into this country who doesn’t support our communities. All of our communities, every single one of them. Americans already admitted four times more immigrants than any country on Earth, anybody in the world. Four times more. At least, because we don’t even know who’s coming in. And we continue to admit millions more with no real checks or scrutiny.',\n",
              " 'Not surprisingly, wages for our workers haven’t budged. In almost 20 years. You wonder why we get the crowds, you wonder why we get this tremendous support, you wonder why I’ve gotten more votes than any Republican in any primary in the history of the Republican Party? Take a look at that. Take a look at your security, take a look at the wages. For 18 years they’ve been stagnant, they’ve even gone down.',\n",
              " 'So whether it’s a matter of national security, or financial security, we can’t afford to keep on going like this. Cannot afford it. We owe $19 trillion in debt. And no longer have any options. Our communities from all backgrounds are ready for some relief. This is not an act of offense against anyone. It’s really an act of defense. I want us all, all of us, to work together. We have to form a partnership, with our Muslim communities. We have Muslim communities in this country that are great, and we have to form that partnership.',\n",
              " 'Now, the Muslim community, so important. They have to work with us. They have to cooperate with law enforcement and turn in the people who they know are bad. They know it. And they have to do it, and they have to do it forthwith. I want to fix our schools. I want to fix our bridges. And our jobs market, we’re going to have it rocket again, we’re going to make great trade deals. But I want every American to succeed including Muslims.',\n",
              " 'But the Muslims have to work with us. They have to work with us. They know what’s going on. They know that he was bad. They knew the people in San Bernardino were bad. But you know what? They didn’t turn them in. And you know what? We had death, and destruction.',\n",
              " 'Hillary Clinton wants to empty out the Treasury to bring people into the country that include individuals who preach hate against our citizens. I want to protect our citizens, all of our citizens. The terrorist attack on Pulse nightclub demands a full and complete investigation into every single aspect of the assault. In San Bernardino, as an example, people who knew what was going on, they knew exactly, but they used the excuse of racial profiling for not reporting it. They said oh, \"We thought so but we didn’t want to use racial profiling.\" Which was probably an excuse given to them by their lawyer, so they don’t get in trouble.',\n",
              " 'We need to know what the killer discussed with his relatives, parents, friends and associates. We need to know if he was affiliated with any radical mosques or radical activists and what, if any, is their immigration status. We have to know, and we have to know fast. We need to know if he traveled anywhere and who he traveled with. We need to know, and we need to make sure, every single last person involved in this plan, including anyone who knew something but didn’t tell us, is brought to justice, so when people know what’s going on and they don’t tell us, and we have an attack, and people die, these people have to have consequences. Big consequences.',\n",
              " 'America must do more — much more — to protect its citizens, especially people who are potential victims of crimes based on their backgrounds or sexual orientation, as you just saw in Orlando.',\n",
              " 'TRUMP: It also means we must change our foreign policy. The decision to overthrow the regime in Libya, then pushing for the overthrow of the regime in Syria, among other things, without plans for the day after, have created space for ISIS to expand and grow like nobody has ever seen before.',\n",
              " 'These actions, along with our disastrous Iran deal, have also reduced our ability to work in partnership with our Muslim allies in the region. That is why our new goal must be to defeat Islamic terrorism not nation building. No more nation building. It’s never going to work.',\n",
              " 'And by the way we’ve spent almost $5 trillion over the years on trying to nation build in the Middle East and it has been complete and total disaster. We’re further away now than we were 15 years ago. For instance, the last major NATO mission was Hillary Clinton’s war in Libya. That mission helped to unleash ISIS on a new continent.',\n",
              " 'I’ve said NATO need to change its focus and stop terrorism. We have to focus on terrorism and we have to stop terrorism. Since I’ve raised that criticism and it’s OK. I’ve gotten no credit for it but these are minor details — NATO has since announced a new initiative — front page of the Wall Street Journal four days ago focused on just that. America must unite the whole civilized world in the fight against Islamic terrorism.',\n",
              " 'Pretty much like we did with communism during the Cold War. We tried it President Obama’s way, doesn’t work. He gave the world his apology tour. We got ISIS and many other problems in return. That’s what we got. Remember the famous apology tour. We’re sorry for everything.',\n",
              " 'I’d like to conclude my remarks today by again expressing our solitarily with the people of Orlando who have come under this horrific attack. When I’m president I pledge to protect and defend all Americans who live inside our borders. Wherever they come from, wherever they were born, I don’t care. All Americans living here and following our laws not other laws will be protected.',\n",
              " 'Thank you. Thank you. We’re going to be tough and we’re going to be smart and we’re going to do it right. America will be a tolerant and open society. America will also be a safe society. We will protect our borders at home. We will defeat ISIS overseas. We have no choice. We will ensure every parent can raise their children in peace and safety. We will make America rich again. We will make America safe again. We will make America great again. Thank you. Thank you very much. Thank you very much.',\n",
              " 'Thank you. Thank you very much, everybody. Appreciate it. Thank you.',\n",
              " 'Good evening. Thank you very much. I speak to you today as a lifelong supporter and true friend of Israel. I am a newcomer to politics but not to backing the Jewish state.',\n",
              " 'In late 2001, weeks after the attacks on New York City, and on Washington, and frankly the attacks on all of us, attacks that perpetrated... and they were perpetrated by the Islamic fundamentalists, Mayor Rudy Giuliani visited Israel to show solidarity with terror victims. I sent my plane because I backed the mission for Israel 100 percent.',\n",
              " 'In Spring of 2004, at the height of the violence in the Gaza Strip, I was the Grand Marshal of the 40th Salute to Israel Parade, the largest single gathering in support of the Jewish state. It was a very dangerous time for Israel and frankly for anyone supporting Israel, many people turned down this honor. I did not. I took the risk and I’m glad I did.',\n",
              " 'But I didn’t come here tonight to pander to you about Israel. That’s what politicians do. All talk, no action, believe me. I came here to speak to you about where I stand on the future of American relations with our strategic ally, our unbreakable friendship, and our cultural brother. The only democracy in the Middle East, the State of Israel.',\n",
              " 'My number one priority is to dismantle the disastrous deal with Iran. I have been in business a long time. I know deal-making and let me tell you, this deal is catastrophic, for America, for Israel, and for the whole of the Middle East.',\n",
              " 'The problem here is fundamental. We have rewarded the world’s leading state sponsor of terror with $150 billion dollars, and we received absolutely nothing in return.',\n",
              " 'I’ve studied this issue in great detail. I would say actually, greater by far than anybody else. Believe me, and it’s a bad deal. The biggest concern with the deal is not necessarily that Iran is going to violate it, because already, as you know, it has. The bigger problem is that they can keep the terms and still get the bomb by simply running out the clock. And of course, they’ll keep the billions and billions of dollars that we so stupidly and foolishly gave them.',\n",
              " 'The deal doesn’t even require Iran to dismantle its military nuclear capability. Yes, it places limits on its military nuclear program for only a certain number of years. But when those restrictions expire, Iran will have an industrial size military nuclear capability ready to go, and with zero provision for delay, no matter how bad Iran’s behavior is. Terrible, terrible situation that we are all placed in, and especially Israel.',\n",
              " 'When I’m president, I will adopt a strategy that focuses on three things when it comes to Iran. First, we will stand up to Iran’s aggressive push to destabilize and dominate the region. Iran is a very big problem and will continue to be, but if I’m not elected President, I know how to deal with trouble, and believe me, that’s why I’m going to be elected president folks. And we are leading in every poll, remember that please.',\n",
              " 'Iran is a problem in Iraq, a problem in Syria, a problem in Lebanon, a problem in Yemen, and will be a very, very major problem for Saudi Arabia. Literally every day, Iran provides more and better weapons to support their puppet states. Hezbollah, Lebanon received, and I’ll tell you what, it has received sophisticated anti-ship weapons, anti-aircraft weapons, and GPS systems and rockets. like very few people anywhere in the world, and certainly very few countries have.',\n",
              " 'Now they’re in Syria trying to establish another front against Israel from the Syrian side of the Golan Heights. In Gaza, Iran is supporting Hamas and Islamic Jihad. And in the West Bank they’re openly offering Palestinians $7,000 per terror attack and $30,000 for every Palestinian terrorist’s home that’s been destroyed. A deplorable, deplorable situation. Iran is financing military forces throughout the Middle East, and it’s absolutely incredible that we handed them over $150 billion to do even more toward the many horrible acts of terror.',\n",
              " 'Secondly, we will totally dismantle Iran’s global terror network, which is big and powerful, but not powerful like us. Iran has seeded terror groups all over the world. During the last five years, Iran has perpetrated terror attacks in 25 different countries on five continents. They’ve got terror cells everywhere, including in the western hemisphere very close to home. Iran is the biggest sponsor of terrorism around the world and we will work to dismantle that reach, believe me, believe me.',\n",
              " 'Third, at the very least, we must enforce the terms of the previous deal, to hold Iran totally accountable. And we will enforce it like you’ve never seen a contract enforced before folks. Believe me.',\n",
              " 'Iran has already since the deal is in place, test-fired ballistic missiles three times. Those ballistic missiles with a range of 1,250 miles were designed to intimidate not only Israel, which is only 600 miles away, but also intended to frighten Europe, and maybe someday hit even the United States. And we’re not going to let that happen. We’re not letting it happen, and we’re not letting it happen to Israel, believe me.',\n",
              " 'Do you want to hear something really shocking? As many of the great people in this room know, painted on those missiles in both Hebrew and Farsi, were the words \"Israel must be wiped off the face of the earth.\" You can forget that!',\n",
              " 'What kind of demented minds write that in Hebrew? And here’s, you talk about twisted, here’s another twisted part: testing these missiles does not even violate the horrible deal that we made! The deal is silent on test missiles, but those tests do violate United Nations Security Council resolutions. The problem is, no one has done anything about it. We will, we will, I promise we will.',\n",
              " 'Which brings me to my next point. The utter weakness and incompetence of the United Nations. The United Nations is not a friend of democracy. It’s not a friend to freedom. It’s not a friend even to the United States of America, where as you know, it has its home. And it surely is not a friend to Israel.',\n",
              " 'With President Obama in his final year, yay! He may be the worst thing to ever happen to Israel, believe me. Believe me, and you know it, and you know it better than anybody.',\n",
              " 'So with the president in his final year, discussions have been swirling about an attempt to bring a Security Council resolution on terms of an eventual agreement between Israel and Palestine. Let me be clear. An agreement imposed by the United Nations would be a total and complete disaster. The United States must oppose this resolution and use the power of our veto, which I will use as president, 100 percent.',\n",
              " 'When people ask why, it’s because that’s not how you make a deal. Deals are made when parties come together. They come to a table and they negotiate. Each side must give up something it values, I mean we have to do something where there’s value in exchange for something that it requires. That’s what a deal is. A deal is really something that when we impose it on Israel and Palestine, we bring together a group of people that come up with something. That’s not going to happen with the United Nations. It will only further, very importantly, it will only further delegitimize Israel. It will be a catastrophe and a disaster for Israel. It’s not going to happen folks.',\n",
              " 'And further, it would reward Palestinian terrorism, because every day they’re stabbing Israelis, and even Americans. Just last week, American Taylor Allen Force, a West Point grad, phenomenol young person who served in Iraq and Afghanistan, was murdered in the street by a knife-wielding Palestinian. You don’t reward behavior like that. You can not do it! There is only one way you treat that kind of behavior. You have to confront it!',\n",
              " 'So, it’s not up the United Nations to go with a solution. It’s really the parties that must negotiate a resolution themselves. You have no choice. They have to do it themselves, or it will never hold up anyway. The United States can be useful as a facilitator of negotiations, but no one should be telling Israel that it must abide by some agreement made by others thousands of miles away that don’t even really know what’s happening to Israel, to anything in the area. It’s so preposterous. We’re not going to let that happen. When I’m president, believe me, I will veto any attempt by the UN to impose its will on the Jewish state. It will be vetoed 100 percent.',\n",
              " 'You see, I know about deal-making. That’s what I do. I wrote ‘The Art of the Deal’. One of the best-selling, all-time, and I mean seriously, I’m saying ‘one of’, because I’ll be criticized as though I say ‘the’, so I’m going to be very diplomatic. One of... I’ll be criticized. I think it is number one, but why take a chance. One of the best-selling, all-time books about deals and deal making.',\n",
              " 'To make a great deal, you need two willing participants. We know Israel is willing to deal. Israel has been trying to sit down at the negotiating table without pre-conditions for years. You had Camp David in 2000, where Prime Minister Barak made an incredible offer, maybe even too generous. Arafat rejected it. In 2008, Prime Minister Olmert made an equally generous offer. The Palestinian Authority rejected it also. Then John Kerry tried to come up with a framework and Abbas didn’t even respond, not even to the Secretary of State of the United States of America. They didn’t even respond.',\n",
              " 'When I become President, the days of treating Israel like a second-class citizen will end on Day One. And when I say something, I mean it. I mean it. I will meet with Prime Minister Netanyahu immediately. I have known him for many years and we’ll be able to work closely together to help bring stability and peace to Israel and to the entire region.',\n",
              " 'Meanwhile, every single day, you have rampant incitement and children being taught to hate Israel and hate the Jews. It has to stop. When you live in a society where the firefighters are the hero’s, little kids want to be firefighters. When you live in a society where athletes and movie stars are the heroes, little kids want to be athletes and movie stars. In Palestinian society, the heroes are those who murder Jews. we can’t let this continue. We can’t let this happen any longer.',\n",
              " 'You cannot achieve peace if terrorists are treated as martyrs. Glorifying terrorists is a tremendous barrier to peace. It is a horrible, horrible way to think. It’s a barrier that can’t be broken. That will end, and it’ll end soon, believe me. In Palestinian textbooks and mosques, you’ve got a culture of hatred that has been fermenting there for years, and if we want to achieve peace, they’ve got to go out, and they’ve got to start this educational process. They have to end education of hatred. They have to end it, and now!',\n",
              " 'There is no moral equivalency. Israel does not name public squares after terrorists. Israel does not pay its children to stab random Palestinians. You see, what President Obama gets wrong about deal making is that he constantly applies pressure to our friends and rewards our enemies. And you see that happening all the time. That pattern practiced by the President and his administration, including former Secretary of State, Hillary Clinton, who is a total disaster by the way. She and President Obama have treated Israel very, very badly. But its repeated itself over and over again, and has done nothing to embolden those who hate America. We saw that with releasing the $150 billion dollars to Iran in the hope that they would magically join the world community. It didn’t happen.',\n",
              " 'President Obama thinks that applying pressure to Israel will force the issue, but it’s precisely the opposite that happened. Already, half of the population of Palestine has been taken over by the Palestinian ISIS in Hamas, and the other half refuses to confront the first half, so it’s a very difficult situation thats never going to get solved, unless you have great leadership right here in the United States. We’ll get it solved, one way or the other. We will get it solved. But when the United States stands with Israel, the chances of peace really rise, and rises exponentially. That’s what will happen when Donald Trump is President of the United States.',\n",
              " 'We will move the American embassy to the eternal capital of the Jewish people, Jerusalem. And we will send a clear signal that there is no daylight between America and our most reliable ally, the State of Israel. The Palestinians must come to the table knowing that the bond between the United States and Israel is absolutely, totally unbreakable. They must come to the table willing and able to stop the terror being committed on a daily basis against Israel. They must do that. And they must come to the table willing to accept that Israel is a Jewish State and it will forever exist as a Jewish State.',\n",
              " 'I love the people in this room. I love Israel. I love Israel. I’ve been with Israel so long in terms of, I’ve received some of my greatest honors from Israel. My father before me, incredible. My daughter Ivanka is about to have a beautiful Jewish baby. In fact it could be happening right now which would be very nice as far as I’m concerned.',\n",
              " 'So I want to thank you very much. This has been a truly great honor. Thank you everybody. Thank you. Thank you very much.',\n",
              " 'Wow. Thank you very much. Hello. I’d like to begin by thanking the people of Montana, South Dakota, New Mexico, New Jersey and California. We had some big, big days and we have some big numbers coming in, very big numbers.',\n",
              " 'I’m truly honored by your support. Together, we accomplished what nobody thought was absolutely possible and you know what that is and we’re only getting started and it’s going to be beautiful, remember that.',\n",
              " 'Tonight we close one chapter in history and we begin another. Our campaign received more primary votes than any GOP campaign in history, no matter who it is, no matter who they are, we received more votes. This is a great feeling. That’s a great feeling.',\n",
              " 'This is not a testament to me but a testament to all of the people who believed real change, not Obama change, but real change is possible. You’ve given me the honor to lead the Republican Party to victory this fall. We’re going to do it. We’re going to do it, folks. We’re going to do it.',\n",
              " 'I understand the responsibility of carrying the mantle and I will never, ever let you down – too much work, too many people, blood, sweat and tears. I’m never going to let you down. I will make you proud of your party and our movement, and that’s what it is, is a movement.',\n",
              " 'Now recent polls have shown that I’m beating Hillary Clinton and with all of her many problems and the tremendous mistakes that she’s made and she has tremendous mistakes, we expect our lead to continue to grow and grow substantially. To everyone who voted for me throughout this campaign, I want to thank you. I want to thank you very, very much.',\n",
              " 'To those who voted for someone else in either party, I will work hard to earn your support and I will work very hard to earn that support. To all of those Bernie Sanders voters who have been left out in the cold by a rigged system of super delegates, we welcome you with open arms. And by the way, the terrible trade deals that Bernie was so vehemently against and he’s right on that will be taken care of far better than anyone ever thought possible and that’s what I do. We are going to have fantastic trade deals. We’re going to start making money and bringing in jobs.',\n",
              " 'Now I know some people say I’m too much of a fighter. My preference is always peace, however and I’ve shown that. I’ve shown that for a long time. I built an extraordinary business on relationships and deals that benefit all parties involved, always. My goal is always again to bring people together. But if I’m forced to fight for something I really care about, I will never, ever back down and our country will never, ever back down.',\n",
              " 'Thank you. I’ve fought for my family. I’ve fought for my business. I’ve fought for my employees. And now, I’m going to fight for you, the American people like nobody has ever fought before. And I’m not a politician fighting, I’m me. You’re going to see some real good things happen.',\n",
              " 'Just remember this: I’m going to be your champion. I’m going to be America’s champion because you see this election isn’t about Republican or Democrat; it’s about who runs this country – the special interests or the people and I mean the American people.',\n",
              " 'Every election year politicians promise change. Obama promised change and it didn’t work out too well. And every year they fail to deliver. Why would politicians want to change a system that’s totally rigged in order to keep them in power? That’s what they’re doing, folks. Why would politicians want to change a system that’s made them and their friends very, very wealthy? I beat a rigged system by winning with overwhelming support, the only way you could’ve done it – landslides all over the country with every demographic on track to win; 37 primary caucus victories in a field that began with 17 very talented people.',\n",
              " 'After years of disappointment, there is one thing we all have learned – we can’t fix the rigged system by relying on very, and I mean this so, so strongly, on the very people who rigged it, and they rigged it, and do not ever think anything differently. We can’t solve our problems by counting on the politicians who created our problems.',\n",
              " 'The Clintons have turned the politics of personal enrichment into an art form for themselves. They’ve made hundreds of millions of dollars selling access, selling favors, selling government contracts, and I mean hundreds of millions of dollars. Secretary Clinton even did all of the work on a totally illegal private server. Something about how she’s getting away with this folks nobody understands.',\n",
              " 'Designed to keep her corrupt dealings out of the public record, putting the security of the entire country at risk and a President in a corrupt system is totally protecting her – not right. I am going to give a major speech on probably Monday of next week and we’re going to be discussing all of the things that have taken place with the Clintons. I think you’re going to find it very informative and very, very interesting. I wonder if the press will want to attend, who knows.',\n",
              " 'Hillary Clinton turned the State Department into her private hedge fund – the Russians, the Saudis, the Chinese – all gave money to Bill and Hillary and got favorable treatment in return. It’s a sad day in America when foreign governments with deep pockets have more influence in our own country than our great citizens.',\n",
              " 'I didn’t need to do this. It’s not easy, believe me. I didn’t need to do it. But I felt I had to give back to our wonderful country which has been so good to me and to my family. I’ve traveled to many of our states and seen the suffering in people’s eyes. I’ve visited communities in New York, New Jersey, Pennsylvania, Connecticut, Indiana and Ohio whose manufacturing jobs, they literally, these jobs have virtually disappeared, an embarrassment to our country and it’s horrible. I’ve embraced the victims of illegal immigration, moms and dads who have had to bury their own children because of people that shouldn’t have been in the country – remember it, folks, remember it.',\n",
              " 'I visited the crumbling cities and the struggling schools. I’ve seen our dilapidated airports, highways, bridges and I’ve compared them to other countries where we see facilities so far superior to ours it’s really not to be believed, hard to imagine what’s happened to our country. America is getting taken apart piece by piece, auctioned off, and just rapidly, auctioned off to the highest bidder. We’re broke, we’re broke. We owe $19 trillion dollars going quickly to $21 trillion. Our infrastructure is a disaster. Our schools are failing. Crime is rising. People are scared. The last thing we need is Hillary Clinton in the White House or an extension of the Obama disaster.',\n",
              " 'What a crowd, what a crowd. Thank you all very much. We love our country, we love our country. But we can turn this all around. We’re going to do it by putting America first. That commitment is the foundation for change that’s been missing and it’s been missing for a long time. It’s important to understand what America First means. It means on foreign policy we will never enter into any kind conflict unless it makes us safer as a nation. It has to make us safer as a nation. This is the opposite of Hillary’s foreign policy which invaded Libya, destabilized Iraq, unleashed ISIS and threw Syria into chaos and created the mass migration which is wreaking havoc all over the world, and while putting Iran on the path to nuclear weapons and making them a dominant power in the Middle East and they are dominant and we have made them that way, folks. We have made them that way.',\n",
              " 'You better hope I’m President. On trade, America First means the American worker will have his or her job protected from unfair foreign competition. What’s happening there is absolutely a disgrace. No PPP, you’re right about that and you mean no PP. We are going, and remember this; we are only going to have great trade deals, OK. We are only going to have that. We’re not going to approve, as somebody just said, the TransPacific Partnership which is a disaster, a disaster, for our country, almost as bad as NAFTA signed by Bill Clinton, which has just stripped our country of our factories and our manufacturing and moved them to other places, in particular Mexico. If it’s not a great deal for our country, we will not sign it. It’s got to be great for our country, for our community, for everybody in here because believe me we are all suffering and we’re suffering bigly and it’s getting worse.',\n",
              " 'On energy policy, America First means opening up America’s great potential to bring wealth and prosperity to our own workers including our wonderful and hard-working miners who have been absolutely totally mistreated by this Administration.',\n",
              " 'On economic policy, America First means having tax and regulatory policies that keep jobs and wealth in the United States, substantially lowering taxes for middle class Americans and business; likewise, regulation which is strangling our economy which would be brought down from its present insane level. We will make it very, very good for our companies, for our small business and for people that want to survive and do well in our country.',\n",
              " 'On immigration policy, America First means protecting the jobs, wages and security of American workers, whether first or tenth generation. No matter who you are, we’re going to protect your job because let me tell you our jobs are being stripped from our country like we’re babies. The beauty of America First is that it brings us all together. Every American worker of every background is entitled to the same benefits, protections and rights and privileges; it’s got to be that way. Now, the people in charge say things can’t change. I’m here today to tell you that we have to change. We have no choice. We have to change.',\n",
              " 'We’re going to put America back to work. We’re going to make our own products. We’re going to put America back to work. We’re going to rebuild our inner cities which are absolutely a shame and so sad. We’re going to take care of our African American people that have been mistreated for so long. We’re going to make you and your family safe, secure and prosperous, prosperous again. Together, we will put the American people first again, first again.',\n",
              " 'We will make our communities wealthy. We will make our cities safe again. We will make our country strong again. Ladies and gentlemen, we will make America great again, remember. Thank you. Thank you very much everybody.',\n",
              " 'Thank you for joining me today.',\n",
              " 'This was going to be a speech on Hillary Clinton and how bad a President, especially in these times of Radical Islamic Terrorism, she would be.',\n",
              " 'Even her former Secret Service Agent, who has seen her under pressure and in times of stress, has stated that she lacks the temperament and integrity to be president.',\n",
              " 'There will be plenty of opportunity to discuss these important issues at a later time, and I will deliver that speech soon.',\n",
              " 'But today there is only one thing to discuss: the growing threat of terrorism inside of our borders.',\n",
              " 'The attack on the Pulse Nightclub in Orlando, Florida, was the worst terrorist strike on our soil since September 11th, and the worst mass shooting in our country’s history.',\n",
              " 'So many people dead, so many people gravely injured, so much carnage, such a disgrace.',\n",
              " 'The horror is beyond description.',\n",
              " 'The families of these wonderful people are totally devastated. Likewise, our whole nation, and indeed the whole world, is devastated.',\n",
              " 'We express our deepest sympathies to the victims, the wounded, and their families.',\n",
              " 'We mourn, as one people, for our nation’s loss – and pledge our support to any and all who need it.',\n",
              " 'I would like to ask now that we all observe a moment of silence for the victims of the attack.',\n",
              " '[SILENCE]',\n",
              " \"Our nation stands together in solidarity with the members of Orlando's LGBT Community.\",\n",
              " 'This is a very dark moment in America’s history.',\n",
              " 'A radical Islamic terrorist targeted the nightclub not only because he wanted to kill Americans, but in order to execute gay and lesbian citizens because of their sexual orientation.',\n",
              " 'It is a strike at the heart and soul of who we are as a nation.',\n",
              " 'It is an assault on the ability of free people to live their lives, love who they want and express their identity.',\n",
              " 'It is an attack on the right of every single American to live in peace and safety in their own country.',\n",
              " 'We need to respond to this attack on America as one united people – with force, purpose and determination.',\n",
              " 'But the current politically correct response cripples our ability to talk and think and act clearly.',\n",
              " \"If we don't get tough, and we don't get smart – and fast – we're not going to have a country anymore -- there will be nothing left.\",\n",
              " 'The killer, whose name I will not use, or ever say, was born to Afghan parents who immigrated to the United States. His father published support for the Afghan Taliban, a regime which murders those who don’t share its radical views. The father even said he was running for President of that country.',\n",
              " 'The bottom line is that the only reason the killer was in America in the first place was because we allowed his family to come here.',\n",
              " \"That is a fact, and it's a fact we need to talk about.\",\n",
              " 'We have a dysfunctional immigration system which does not permit us to know who we let into our country, and it does not permit us to protect our citizens.',\n",
              " 'We have an incompetent administration, and if I am not elected President, that will not change over the next four years -- but it must change, and it must change now.',\n",
              " 'With fifty people dead, and dozens more wounded, we cannot afford to talk around the issue anymore -- we have to address it head on.',\n",
              " 'I called for a ban after San Bernardino, and was met with great scorn and anger but now, many are saying I was right to do so -- and although the pause is temporary, we must find out what is going on. The ban will be lifted when we as a nation are in a position to properly and perfectly screen those people coming into our country.',\n",
              " 'The immigration laws of the United States give the President the power to suspend entry into the country of any class of persons that the President deems detrimental to the interests or security of the United States, as he deems appropriate.',\n",
              " 'I will use this power to protect the American people. When I am elected, I will suspend immigration from areas of the world when there is a proven history of terrorism against the United States, Europe or our allies, until we understand how to end these threats.',\n",
              " 'After a full, impartial and long overdue security assessment, we will develop a responsible immigration policy that serves the interests and values of America.',\n",
              " 'We cannot continue to allow thousands upon thousands of people to pour into our country, many of whom have the same thought process as this savage killer.',\n",
              " 'Many of the principles of Radical Islam are incompatible with Western values and institutions.',\n",
              " 'Radical Islam is anti-woman, anti-gay and anti-American.',\n",
              " 'I refuse to allow America to become a place where gay people, Christian people, and Jewish people, are the targets of persecution and intimidation by Radical Islamic preachers of hate and violence.',\n",
              " 'It’s not just a national security issue. It is a quality of life issue.',\n",
              " 'If we want to protect the quality of life for all Americans – women and children, gay and straight, Jews and Christians and all people – then we need to tell the truth about Radical Islam.',\n",
              " 'We need to tell the truth, also, about how Radical Islam is coming to our shores.',\n",
              " 'We are importing Radical Islamic Terrorism into the West through a failed immigration system -- and through an intelligence community held back by our president.',\n",
              " 'Even our own FBI Director has admitted that we cannot effectively check the backgrounds of the people we are letting into America.',\n",
              " 'All of the September 11th hijackers were issued visas.',\n",
              " 'Large numbers of Somali refugees in Minnesota have tried to join ISIS.',\n",
              " 'The Boston Bombers came here through political asylum.',\n",
              " \"The male shooter in San Bernardino – again, whose name I won't mention -- was the child of immigrants from Pakistan, and he brought his wife – the other terrorist - from Saudi Arabia, through another one of our easily exploited visa programs.\",\n",
              " 'Immigration from Afghanistan into the United States has increased nearly five-fold in just one year. According to Pew Research, 99% of people in Afghanistan support oppressive Sharia Law.',\n",
              " 'We admit many more from other countries in the region who share these same oppressive views.',\n",
              " 'If we want to remain a free and open society, then we have to control our borders.',\n",
              " 'Yet, Hillary Clinton – for months and despite so many attacks – repeatedly refused to even say the words \"radical Islam,\" until I challenged her yesterday to say the words or leave the race.',\n",
              " 'However, Hillary Clinton – who has been forced to say the words today after policies she supports have caused us so much damage – still has no clue what Radical Islam is, and won’t speak honestly about what it is.',\n",
              " 'She is in total denial, and her continuing reluctance to ever name the enemy broadcasts weakness across the world.',\n",
              " 'In fact, just a few weeks before the San Bernardino slaughter, Hillary Clinton explained her refusal to say the words Radical Islam. Here is what she said: \"Muslims are peaceful and tolerant people, and have nothing whatsoever to do with terrorism.\"',\n",
              " 'Hillary Clinton says the solution is to ban guns. They tried that in France, which has among the toughest gun laws in the world, and 130 were brutally murdered by Islamic terrorists in cold blood. Her plan is to disarm law-abiding Americans, abolishing the 2nd amendment, and leaving only the bad guys and terrorists with guns. She wants to take away Americans’ guns, then admit the very people who want to slaughter us.',\n",
              " 'I will be meeting with the NRA, which has given me their earliest endorsement in a Presidential race, to discuss how to ensure Americans have the means to protect themselves in this age of terror.',\n",
              " 'The bottom line is that Hillary supports the policies that bring the threat of Radical Islam into America, and allow it to grow overseas.',\n",
              " 'In fact, Hillary Clinton’s catastrophic immigration plan will bring vastly more Radical Islamic immigration into this country, threatening not only our security but our way of life.',\n",
              " \"When it comes to Radical Islamic terrorism, ignorance is not bliss – it's deadly.\",\n",
              " 'The Obama Administration, with the support of Hillary Clinton and others, has also damaged our security by restraining our intelligence-gathering and failing to support law enforcement. They have put political correctness above common sense, above your safety, and above all else.',\n",
              " 'I refuse to be politically correct.',\n",
              " 'I will do the right thing--I want to straighten things out and to Make America Great Again.',\n",
              " 'The days of deadly ignorance will end, and they will end soon.',\n",
              " 'As President I will give our intelligence community, law enforcement and military the tools they need to prevent terrorist attacks.',\n",
              " 'We need an intelligence-gathering system second to none. That includes better cooperation between state, local and federal officials – and with our allies.',\n",
              " 'I will have an Attorney General, a Director of National Intelligence, and a Secretary of Defense who will know how to fight the war on Radical Islamic Terrorism – and who will have the support they require to get the job done.',\n",
              " 'We also must ensure the American people are provided the information they need to understand the threat.',\n",
              " 'The Senate Subcommittee on Immigration has already identified hundreds of immigrants charged with terrorist activities inside the United States since September 11th.',\n",
              " \"Nearly a year ago, the Senate Subcommittee asked President Obama's Departments of Justice, State and Homeland Security to provide the immigration history of all terrorists inside the United States.\",\n",
              " 'These Departments refused to comply.',\n",
              " 'President Obama must release the full and complete immigration histories of all individuals implicated in terrorist activity of any kind since 9/11.',\n",
              " 'The public has a right to know how these people got here.',\n",
              " 'We have to screen applicants to know whether they are affiliated with, or support, radical groups and beliefs.',\n",
              " 'We have to control the amount of future immigration into this country to prevent large pockets of radicalization from forming inside America.',\n",
              " 'Even a single individual can be devastating, just look at what happened in Orlando. Can you imagine large groups?',\n",
              " \"Truly, our President doesn't know what he is doing. He has failed us, and failed us badly, and under his leadership, this situation will not get any better -- it will only get worse.\",\n",
              " 'Each year, the United States permanently admits more than 100,000 immigrants from the Middle East, and many more from Muslim countries outside the Middle East. Our government has been admitting ever-growing numbers, year after year, without any effective plan for our security.',\n",
              " \"In fact, Clinton's State Department was in charge of the admissions process for people applying to enter from overseas.\",\n",
              " 'Having learned nothing from these attacks, she now plans to massively increase admissions without a screening plan, including a 500% increase in Syrian refugees.',\n",
              " 'This could be a better, bigger version of the legendary Trojan Horse.',\n",
              " \"We can't let this happen.\",\n",
              " \"Altogether, under the Clinton plan, you'd be admitting hundreds of thousands of refugees from the Middle East with no system to vet them, or to prevent the radicalization of their children.\",\n",
              " 'The burden is on Hillary Clinton to tell us why she believes immigration from these dangerous countries should be increased without any effective system to screen who we are bringing in.',\n",
              " 'The burden is on Hillary Clinton to tell us why we should admit anyone into our country who supports violence of any kind against gay and lesbian Americans.',\n",
              " 'The burden is also on Hillary Clinton to tell us how she will pay for it. Her plan will cost Americans hundreds of billions of dollars long-term.',\n",
              " \"Wouldn't this money be better spent on rebuilding America for our current population, including the many poor people already living here?\",\n",
              " \"We have to stop the tremendous flow of Syrian refugees into the United States – we don't know who they are, they have no documentation, and we don't know what they're planning.\",\n",
              " 'What I want is common sense. I want a mainstream immigration policy that promotes American values.',\n",
              " \"That is the choice I put before the American people: a mainstream immigration policy designed to benefit America, or Hillary Clinton's radical immigration policy designed to benefit politically-correct special interests.\",\n",
              " \"We've got to get smart, and tough, and vigilant, and we've got to do it now, because later is too late.\",\n",
              " 'The media talks about \"homegrown,\" terrorism, but Islamic radicalism, and the networks that nurture it, are imports from overseas.',\n",
              " 'Yes, there are many radicalized people already inside our country as a result of the poor policies of the past. But the whole point is that it will be much, much easier to deal with our current problem if we don’t keep on bringing in people who add to the problem.',\n",
              " 'For instance, the controversial Mosque attended by the Boston Bombers had as its founder an immigrant from overseas charged in an assassination plot.',\n",
              " 'This shooter in Orlando was the child of an immigrant father who supported one of the most repressive regimes on Earth. Why would we admit people who support violent hatred?',\n",
              " 'Hillary Clinton can never claim to be a friend of the gay community as long as she continues to support immigration policies that bring Islamic extremists to our country who suppress women, gays and anyone who doesn’t share their views.',\n",
              " 'She can’t have it both ways. She can’t claim to be supportive of these communities while trying to increase the number of people coming in who want to oppress them.',\n",
              " 'How does this kind of immigration make our life better? How does this kind of immigration make our country better?',\n",
              " 'Why does Hillary Clinton want to bring people here—in vast numbers—who reject our values?',\n",
              " 'Ask yourself, who is really the friend of women and the LGBT community, Donald Trump with his actions, or Hillary Clinton with her words? Clinton wants to allow Radical Islamic terrorists to pour into our country—they enslave women, and murder gays.',\n",
              " 'I don’t want them in our country.',\n",
              " 'Immigration is a privilege, and we should not let anyone into this country who doesn’t support our communities – all of our communities.',\n",
              " 'America has already admitted four times more immigrants than any country on earth, and we continue to admit millions more with no real checks or scrutiny.',\n",
              " 'Not surprisingly, wages for our workers haven’t budged in many years.',\n",
              " 'So whether it’s matter of national security, or financial security, we can’t afford to keep on going like this. We owe $19 trillion in debt, and no longer have options.',\n",
              " 'All our communities, from all backgrounds, are ready for some relief. This is not an act of offense against anyone; it is an act of defense.',\n",
              " 'I want us all to work together, including in partnership with our Muslim communities. But Muslim communities must cooperate with law enforcement and turn in the people who they know are bad – and they do know where they are.',\n",
              " 'I want to fix our schools, roads, bridges and job market. I want every American to succeed. Hillary Clinton wants to empty out the Treasury to bring people into the country that include individuals who preach hate against our own citizens.',\n",
              " 'I want to protect our citizens – all of our citizens.',\n",
              " 'The terrorist attack on the Pulse Night Club demands a full and complete investigation into every aspect of the assault.',\n",
              " 'In San Bernardino, as an example, people knew what was going on, but they used the excuse of racial profiling for not reporting it.',\n",
              " 'We need to know what the killer discussed with his relatives, parents, friends and associates.',\n",
              " 'We need to know if he was affiliated with any radical Mosques or radical activists and what, if any, is their immigration status.',\n",
              " 'We need to know if he travelled anywhere, and who he travelled with.',\n",
              " \"We need to make sure every single last person involved in this plan – including anyone who knew something but didn't tell us – is brought to justice.\",\n",
              " 'If it can be proven that somebody had information about any attack, and did not give this information to authorities, they must serve prison time .',\n",
              " 'America must do more – much more – to protect its citizens, especially people who are potential victims of crimes based on their backgrounds or sexual orientations.',\n",
              " 'It also means we must change our foreign policy.',\n",
              " 'The decision to overthrow the regime in Libya, then pushing for the overthrow of the regime in Syria, among other things, without plans for the day after, have created space for ISIS to expand and grow.',\n",
              " 'These actions, along with our disastrous Iran deal, have also reduced our ability to work in partnership with our Muslim allies in the region.',\n",
              " 'That is why our new goal must be to defeat Islamic terrorism, not nation-building.',\n",
              " \"For instance, the last major NATO mission was Hillary Clinton's war in Libya. That mission helped unleash ISIS on a new continent.\",\n",
              " \"I've said NATO needs to change its focus to stopping terrorism. Since I've raised that criticism, NATO has since announced a new initiative focused on just that.\",\n",
              " 'America must unite the whole civilized world in the fight against Islamic terrorism, just like we did against communism in the Cold War.',\n",
              " \"We've tried it President Obama's way. He gave the world his apology tour, we got ISIS, and many other problems, in return.\",\n",
              " \"I'd like to conclude my remarks today by again expressing our solidarity with the people of Orlando who have come under attack.\",\n",
              " 'When I am President, I pledge to protect and defend all Americans who live inside of our borders. Wherever they come from, wherever they were born, all Americans living here and following our laws will be protected.',\n",
              " 'America will be a tolerant and open society.',\n",
              " 'America will also be a safe society.',\n",
              " 'We will protect our borders at home.',\n",
              " 'We will defeat ISIS overseas.',\n",
              " 'We will ensure every parent can raise their children in peace and safety.',\n",
              " 'We will make America rich again.',\n",
              " 'We will make America safe again.',\n",
              " 'We will make American Great Again.',\n",
              " 'Thank you.',\n",
              " '...We’re doing really well. Iowa’s been amazing. It’s been amazing. We’re doing so well and I love this place and I’m back here all the time and I’m going to be here a lot in January.',\n",
              " 'You’re going to be so sick of me. You’ll probably say, \"We can’t give – the caucus, just forget it. We can’t stand the guy any more.\"',\n",
              " 'No, you’re going to like me and we’re going to be back and we’re going to do a great job for you. Most importantly, we’re going to get to that office and we’re going to do the right thing. We’re going to do the right thing.',\n",
              " 'So, a few things. A lot – so much has happened.',\n",
              " 'You know, when we first came out, we were all talking together. And we were talking border security, which we’re just doing so great with the border security.',\n",
              " 'We’re going to build a wall. Mexico’s going to pay for the wall. We all know that. But we’re going to have security. And the drugs are going to stop and the people that are going to come into the country but they’re going to come into the country they’re going to be legal, they’re coming in legally, and that’s the way. That’s the way.',\n",
              " 'And it affects Iowa so much.',\n",
              " 'So we were talking about. So we were talking about that. We were talking about repealing Obamacare. Boom. It’s going to be repealed. It’s going to be replaced.',\n",
              " 'I don’t know if you’ve been seeing what’s happening but Obamacare is a total disaster. It’s dying of its own weight.',\n",
              " 'And by ’17, meaning he’ll be playing golf and I’ll be working very hard. But ’17 instead you’re not getting the people signed up. There’s been a lot of talk about it and a lot of stories about it.',\n",
              " 'Obamacare’s dead but we’ll terminate it quicker than that.',\n",
              " 'And we will come up with something that will be so good, so much better.',\n",
              " 'Premiums are going through the roof. Deductibles are so high that unless you’re close to death, you’ll never going to get to use. And even then I don’t think you’re going to get to use it really.',\n",
              " 'So, we’re going to take care of that.',\n",
              " 'And by the way, we have a lot of good people. We have ethanol. Nobody is really – we have the ethanol – where are the ethanol people? Right?',\n",
              " 'I was here a month ago and I met with them all and they do a fantastic job. I toured the plants and they do a fantastic job but it’s so important. And it’s another form of let’s stay away from OPEC and let’s stay away from that Middle East stuff. It’s so important...',\n",
              " 'Actually what I don’t understand because the one guy that’s doing pretty good with me in Iowa is Ted Cruz and he’s a nice guy. I mean, everything I say he agrees with me. No matter what I say.',\n",
              " 'I was going to do one really wild but he agrees.',\n",
              " 'But with the ethanol, really, he’s got to come a long way because he’s right now for the oil.',\n",
              " 'But I understand it. Oil pays him a lot of money. He’s got to be for oil, right? The oil companies give him a lot of money.',\n",
              " 'But I’m with you. I’m with everybody. Look, I’m self funding. I have no oil company. I have no special interest. I have no lobbyist that want me and you know, they’re representing countries that are ripping off the country, they’re representing companies that are ripping off our country.',\n",
              " 'All I do is I’m going to be working for you folks. We’re going to do this thing together. We’re going to make America so great again and maybe better than ever before. So important.',\n",
              " 'So when we first started, I talked about China how they’re ripping us and Japan and Mexico.',\n",
              " 'Mexico both at the border and in trade. They’re taking so many of our companies. Nabisco’s moving there with their big plant. Ford is moving there with a big plant. They took a big plant away from Tennessee – a great state – they took it away at the last moment.',\n",
              " 'I’m not going to let that stuff. We’re going to do what we have to do, okay?',\n",
              " 'But I talked about that...and I talk about it a lot. The fact is that about 2.5 weeks ago with Paris, I’m speaking a little bit differently now.',\n",
              " 'Believe me, I can take care of China in my back pocket. That’s easy for me. That’s what I do.',\n",
              " 'And we have all the cards. A lot of people don’t know. You know, these politicians they don’t understand we have the cards.',\n",
              " 'You know, with China, our people pay tax. They pay no tax. It’s not supposed to be that way. They call it a tariff because it sounds better. But we’ll take care of that. We’ll take care of all of that.',\n",
              " 'What happened is with Paris, there’s a different mindset.',\n",
              " 'And when the polls came out last week, my numbers went way up because people felt more secure with me.',\n",
              " 'Now, maybe it had to do – who knows why? Who knows?',\n",
              " 'But my poll numbers went up. And do you ever notice whenever there’s something that I do that’s proper but controversial, they’d say \"Oh, now he’s gone. That’s it. That’s the end.\"',\n",
              " 'I won’t go over all of the different things because maybe you’ll change your minds.',\n",
              " 'But they’d say, \"That’s it. It’s over.\"',\n",
              " 'And then they’d come in, \"Sir, your poll number went up 9 points this week.\" I said, \"They did?\" Because I have to do what’s right. I have to do what’s right.',\n",
              " 'And you know what? If I don’t make it, I don’t make it.',\n",
              " 'I have a good life. We all hopefully have a good life. I have a great family, nice people, wonderful people. They love me. I think. I hope. I think. But I have a great family and I built a great business.',\n",
              " '...There’s such spirit...There’s such spirit no matter where I go. You know, I go to Dallas. We have 20,000. 35,000 people in Mobile, Alabama. 20,000 people in Oklahoma. Wherever we go in Iowa, we have these crowds. You know this is supposed to be...for like a record.',\n",
              " 'It is big and yet it feels intimate. It feels good...',\n",
              " '...So I changed a couple of weeks ago. When I saw Paris I changed. And a big, big part of what I’m doing now is safety and security and smartness and smartness.',\n",
              " 'Sort of interesting. You know, the slogan is \"Make America Great Again\" and I’m adding \"Make America Great Again and Safe Again\" because we don’t feel safe anymore.',\n",
              " 'And the problem we have now that we’ve never had to this extent is the power of weaponry. It’s the power. It’s the tremendous power.',\n",
              " 'You know, 100 years ago, I would have said \"Let’s not go.\" I said \"Don’t go there\" anyway. And I said it strongly \"Don’t go. You’re going to destabilize the Middle East.\"',\n",
              " 'But the fact is right now, we’re going to have to do things because we have some really, really sick degenerates.',\n",
              " 'And the press – look at all those cameras going all live, all – you know, nobody else has cameras like this. They can make a speech 100 times they make a speech, nobody cares. Look at this.',\n",
              " 'And don’t worry, they never pan the crowd. You know, they never; they have me. That’s why I’m walking around. I figured I’ll walk around maybe they’ll get the crowd. They never pan the crowd. I tell them \"Pan the crowd\", they never do.',\n",
              " '...I had a crowd 7,000 people last week. More. 7,000 people and in a confined space. They had 3,000 people outside that couldn’t get in. My wife says, \"Darling, the speech was excellent. Did you have many people there?\" I said \"What?\" She said, \"Well, they never leave your face.\" They keep it purposely. But I’ll tell you the cameras may be a little screwed up where you can’t move them, right?',\n",
              " 'But every time there’s a protester \"Well, I’m protesting\" and it can be in the back lefthand corner of the room, the cameras swoop over there. It’s true. It’s true. It’s true.',\n",
              " 'No, I used to think they couldn’t move. You know, maybe there’s something with the crazy computers.',\n",
              " 'You know, in the old days everything was better right? The car seats. You’d sit in your car and you want to move forward and back, you press a button. Bing, bing. Now, you have to open up things, press a computer, takes you 15 minutes.',\n",
              " 'Well, the same thing I figured with cameras. I didn’t think they moved. I figured they were fixed for certain reasons. And then I saw a protester and those cameras were bent in positions like you wouldn’t believe possible.',\n",
              " 'So, they’re very dishonest people. What can I say? Not all of them but most of them.',\n",
              " 'I’ll tell you, you have one of the most dishonest right here in your backyard. The Des Moines Register is the worst. They are the worst. The worst. No, they’re very dishonest.',\n",
              " 'You have some reporter named Jacobs. She is the worst. She will write – so – it’s such misrepresentation. And so I don’t care. I mean, who cares? So I’m saying it right in their backyard. They’re failing anyway. They probably won’t be in business in two years. I think they’re losing a fortune. I think.',\n",
              " 'You know, it’s funny. Every time the Des Moines Register does a poll, I always do badly.',\n",
              " '...I’m only doing this so they don’t sue me but I don’t mind if they do. I hope they sue me because they don’t have enough money to sue me. That’s the good thing.',\n",
              " 'But I believe and I may be wrong – in fact, I’ll say I’m sure I’m wrong but it’s my opinion that they don’t do it properly because you know they poll like 300 or 400 people. I’ll explain it...You know, if they lose 20 people in the pocket. \"Oh, Trump? Oh, forget that one. Forget that one.\"',\n",
              " 'Now, I don’t know that they do that. Do you do that, Des Moines Register?',\n",
              " 'But every time I have a Des Moines Register poll, I do poorly. I also do poorly with the Bloomberg polls. I don’t know why.',\n",
              " 'But we had a great poll come in – CNN last couple of days – where we’re leading I think by 13 points in Iowa. In Iowa.',\n",
              " 'And then we have another coming where we’re doing well.',\n",
              " ...]"
            ]
          },
          "metadata": {
            "tags": []
          },
          "execution_count": 54
        }
      ]
    },
    {
      "cell_type": "code",
      "metadata": {
        "colab": {
          "base_uri": "https://localhost:8080/",
          "height": 456
        },
        "id": "LibhDkxgB0u9",
        "outputId": "239f3e3a-70a4-4315-9d4c-54b347d78f18"
      },
      "source": [
        "doc_lengths = []\n",
        "\n",
        "for bio in bios:\n",
        "\n",
        "    # get rough token count distribution\n",
        "    tokens = nltk.word_tokenize(bio)\n",
        "\n",
        "    doc_lengths.append(len(tokens))\n",
        "\n",
        "doc_lengths = np.array(doc_lengths)\n",
        "\n",
        "sns.distplot(doc_lengths)"
      ],
      "execution_count": 55,
      "outputs": [
        {
          "output_type": "stream",
          "text": [
            "/usr/local/lib/python3.7/dist-packages/seaborn/distributions.py:2557: FutureWarning: `distplot` is a deprecated function and will be removed in a future version. Please adapt your code to use either `displot` (a figure-level function with similar flexibility) or `histplot` (an axes-level function for histograms).\n",
            "  warnings.warn(msg, FutureWarning)\n"
          ],
          "name": "stderr"
        },
        {
          "output_type": "execute_result",
          "data": {
            "text/plain": [
              "<matplotlib.axes._subplots.AxesSubplot at 0x7f5eace2ffd0>"
            ]
          },
          "metadata": {
            "tags": []
          },
          "execution_count": 55
        },
        {
          "output_type": "display_data",
          "data": {
            "image/png": "[encoded data removed]",
            "text/plain": [
              "<Figure size 864x432 with 1 Axes>"
            ]
          },
          "metadata": {
            "tags": []
          }
        }
      ]
    },
    {
      "cell_type": "code",
      "metadata": {
        "colab": {
          "base_uri": "https://localhost:8080/"
        },
        "id": "l7LjC0wrCGGJ",
        "outputId": "fe1819f1-1e69-48a3-d2c6-26fb49f1fbc0"
      },
      "source": [
        "len(doc_lengths[doc_lengths > 768])/len(doc_lengths)"
      ],
      "execution_count": 56,
      "outputs": [
        {
          "output_type": "execute_result",
          "data": {
            "text/plain": [
              "0.00046948356807511736"
            ]
          },
          "metadata": {
            "tags": []
          },
          "execution_count": 56
        }
      ]
    },
    {
      "cell_type": "code",
      "metadata": {
        "colab": {
          "base_uri": "https://localhost:8080/"
        },
        "id": "z2PU3U0pC2re",
        "outputId": "83d34929-65b5-4c2d-860c-bb8ebd9eca23"
      },
      "source": [
        "np.average(doc_lengths)"
      ],
      "execution_count": 57,
      "outputs": [
        {
          "output_type": "execute_result",
          "data": {
            "text/plain": [
              "50.194835680751176"
            ]
          },
          "metadata": {
            "tags": []
          },
          "execution_count": 57
        }
      ]
    },
    {
      "cell_type": "code",
      "metadata": {
        "colab": {
          "base_uri": "https://localhost:8080/"
        },
        "id": "KMRdtf63DDaV",
        "outputId": "2e0d0a94-6752-4efe-b9ac-d2dccb2a8428"
      },
      "source": [
        "# Load the GPT tokenizer.\n",
        "tokenizer = GPT2Tokenizer.from_pretrained('gpt2', bos_token='<|startoftext|>', eos_token='<|endoftext|>', pad_token='<|pad|>') #gpt2-medium\n",
        "\n",
        "print(\"The max model length is {} for this model, although the actual embedding size for GPT small is 768\".format(tokenizer.model_max_length))\n",
        "print(\"The beginning of sequence token {} token has the id {}\".format(tokenizer.convert_ids_to_tokens(tokenizer.bos_token_id), tokenizer.bos_token_id))\n",
        "print(\"The end of sequence token {} has the id {}\".format(tokenizer.convert_ids_to_tokens(tokenizer.eos_token_id), tokenizer.eos_token_id))\n",
        "print(\"The padding token {} has the id {}\".format(tokenizer.convert_ids_to_tokens(tokenizer.pad_token_id), tokenizer.pad_token_id))"
      ],
      "execution_count": 58,
      "outputs": [
        {
          "output_type": "stream",
          "text": [
            "Special tokens have been added in the vocabulary, make sure the associated word embedding are fine-tuned or trained.\n"
          ],
          "name": "stderr"
        },
        {
          "output_type": "stream",
          "text": [
            "The max model length is 1024 for this model, although the actual embedding size for GPT small is 768\n",
            "The beginning of sequence token <|startoftext|> token has the id 50257\n",
            "The end of sequence token <|endoftext|> has the id 50256\n",
            "The padding token <|pad|> has the id 50258\n"
          ],
          "name": "stdout"
        }
      ]
    },
    {
      "cell_type": "code",
      "metadata": {
        "colab": {
          "base_uri": "https://localhost:8080/"
        },
        "id": "O7ZGQ51jDiZL",
        "outputId": "ec6a5a46-1c10-4de1-98c8-591a28e42255"
      },
      "source": [
        "dataset = GPT2Dataset(bios, tokenizer, max_length=768)\n",
        "\n",
        "# Split into training and validation sets\n",
        "train_size = int(0.9 * len(dataset))\n",
        "val_size = len(dataset) - train_size\n",
        "\n",
        "train_dataset, val_dataset = random_split(dataset, [train_size, val_size])\n",
        "\n",
        "print('{:>5,} training samples'.format(train_size))\n",
        "print('{:>5,} validation samples'.format(val_size))"
      ],
      "execution_count": 59,
      "outputs": [
        {
          "output_type": "stream",
          "text": [
            "3,834 training samples\n",
            "  426 validation samples\n"
          ],
          "name": "stdout"
        }
      ]
    },
    {
      "cell_type": "code",
      "metadata": {
        "id": "HSGGXRzxD0IL"
      },
      "source": [
        "# Create the DataLoaders for our training and validation datasets.\n",
        "# We'll take training samples in random order. \n",
        "train_dataloader = DataLoader(\n",
        "            train_dataset,  # The training samples.\n",
        "            sampler = RandomSampler(train_dataset), # Select batches randomly\n",
        "            batch_size = batch_size # Trains with this batch size.\n",
        "        )\n",
        "\n",
        "# For validation the order doesn't matter, so we'll just read them sequentially.\n",
        "validation_dataloader = DataLoader(\n",
        "            val_dataset, # The validation samples.\n",
        "            sampler = SequentialSampler(val_dataset), # Pull out batches sequentially.\n",
        "            batch_size = batch_size # Evaluate with this batch size.\n",
        "        )\n",
        "\n",
        "# I'm not really doing anything with the config buheret\n",
        "configuration = GPT2Config.from_pretrained('gpt2', output_hidden_states=False)\n",
        "\n",
        "# instantiate the model\n",
        "model = GPT2LMHeadModel.from_pretrained(\"gpt2\", config=configuration)\n",
        "\n",
        "# this step is necessary because I've added some tokens (bos_token, etc) to the embeddings\n",
        "# otherwise the tokenizer and model tensors won't match up\n",
        "model.resize_token_embeddings(len(tokenizer))\n",
        "\n",
        "# Tell pytorch to run this model on the GPU.\n",
        "device = torch.device(\"cuda\")\n",
        "model.cuda()\n",
        "\n",
        "# Set the seed value all over the place to make this reproducible.\n",
        "seed_val = 42\n",
        "\n",
        "random.seed(seed_val)\n",
        "np.random.seed(seed_val)\n",
        "torch.manual_seed(seed_val)\n",
        "torch.cuda.manual_seed_all(seed_val)\n",
        "# some parameters I cooked up that work reasonably well\n",
        "\n",
        "epochs = 5\n",
        "learning_rate = 5e-4\n",
        "warmup_steps = 1e2\n",
        "epsilon = 1e-8\n",
        "\n",
        "# this produces sample output every 100 steps\n",
        "sample_every = 100\n",
        "# Note: AdamW is a class from the huggingface library (as opposed to pytorch) \n",
        "optimizer = AdamW(model.parameters(),\n",
        "                  lr = learning_rate,\n",
        "                  eps = epsilon\n",
        "                )\n",
        "# Total number of training steps is [number of batches] x [number of epochs]. \n",
        "# (Note that this is not the same as the number of training samples).\n",
        "total_steps = len(train_dataloader) * epochs\n",
        "\n",
        "# Create the learning rate scheduler.\n",
        "# This changes the learning rate as the training loop progresses\n",
        "scheduler = get_linear_schedule_with_warmup(optimizer, \n",
        "                                            num_warmup_steps = warmup_steps, \n",
        "                                            num_training_steps = total_steps)"
      ],
      "execution_count": 60,
      "outputs": []
    },
    {
      "cell_type": "code",
      "metadata": {
        "colab": {
          "base_uri": "https://localhost:8080/"
        },
        "id": "V3vTbFnFDdkw",
        "outputId": "f7f8aef3-26f8-4a6f-81dc-a34bd6630fb2"
      },
      "source": [
        "total_t0 = time.time()\n",
        "\n",
        "training_stats = []\n",
        "\n",
        "model = model.to(device)\n",
        "\n",
        "for epoch_i in range(0, epochs):\n",
        "\n",
        "    # ========================================\n",
        "    #               Training\n",
        "    # ========================================\n",
        "\n",
        "    print(\"\")\n",
        "    print('======== Epoch {:} / {:} ========'.format(epoch_i + 1, epochs))\n",
        "    print('Training...')\n",
        "\n",
        "    t0 = time.time()\n",
        "\n",
        "    total_train_loss = 0\n",
        "\n",
        "    model.train()\n",
        "\n",
        "    for step, batch in enumerate(train_dataloader):\n",
        "\n",
        "        b_input_ids = batch[0].to(device)\n",
        "        b_labels = batch[0].to(device)\n",
        "        b_masks = batch[1].to(device)\n",
        "\n",
        "        model.zero_grad()        \n",
        "\n",
        "        outputs = model(  b_input_ids,\n",
        "                          labels=b_labels, \n",
        "                          attention_mask = b_masks,\n",
        "                          token_type_ids=None\n",
        "                        )\n",
        "\n",
        "        loss = outputs[0]  \n",
        "\n",
        "        batch_loss = loss.item()\n",
        "        total_train_loss += batch_loss\n",
        "\n",
        "        # Get sample every x batches.\n",
        "        if step % sample_every == 0 and not step == 0:\n",
        "\n",
        "            elapsed = format_time(time.time() - t0)\n",
        "            print('  Batch {:>5,}  of  {:>5,}. Loss: {:>5,}.   Elapsed: {:}.'.format(step, len(train_dataloader), batch_loss, elapsed))\n",
        "\n",
        "            model.eval()\n",
        "\n",
        "            sample_outputs = model.generate(\n",
        "                                    bos_token_id=random.randint(1,30000),\n",
        "                                    do_sample=True,   \n",
        "                                    top_k=50, \n",
        "                                    max_length = 200,\n",
        "                                    top_p=0.95, \n",
        "                                    num_return_sequences=1\n",
        "                                )\n",
        "            for i, sample_output in enumerate(sample_outputs):\n",
        "                  print(\"{}: {}\".format(i, tokenizer.decode(sample_output, skip_special_tokens=True)))\n",
        "            \n",
        "            model.train()\n",
        "\n",
        "        loss.backward()\n",
        "\n",
        "        optimizer.step()\n",
        "\n",
        "        scheduler.step()\n",
        "\n",
        "    # Calculate the average loss over all of the batches.\n",
        "    avg_train_loss = total_train_loss / len(train_dataloader)       \n",
        "    \n",
        "    # Measure how long this epoch took.\n",
        "    training_time = format_time(time.time() - t0)\n",
        "\n",
        "    print(\"\")\n",
        "    print(\"  Average training loss: {0:.2f}\".format(avg_train_loss))\n",
        "    print(\"  Training epoch took: {:}\".format(training_time))\n",
        "        \n",
        "    # ========================================\n",
        "    #               Validation\n",
        "    # ========================================\n",
        "\n",
        "    print(\"\")\n",
        "    print(\"Running Validation...\")\n",
        "\n",
        "    t0 = time.time()\n",
        "\n",
        "    model.eval()\n",
        "\n",
        "    total_eval_loss = 0\n",
        "    nb_eval_steps = 0\n",
        "\n",
        "    # Evaluate data for one epoch\n",
        "    for batch in validation_dataloader:\n",
        "        \n",
        "        b_input_ids = batch[0].to(device)\n",
        "        b_labels = batch[0].to(device)\n",
        "        b_masks = batch[1].to(device)\n",
        "        \n",
        "        with torch.no_grad():        \n",
        "\n",
        "            outputs  = model(b_input_ids, \n",
        "#                            token_type_ids=None, \n",
        "                             attention_mask = b_masks,\n",
        "                            labels=b_labels)\n",
        "          \n",
        "            loss = outputs[0]  \n",
        "            \n",
        "        batch_loss = loss.item()\n",
        "        total_eval_loss += batch_loss        \n",
        "\n",
        "    avg_val_loss = total_eval_loss / len(validation_dataloader)\n",
        "    \n",
        "    validation_time = format_time(time.time() - t0)    \n",
        "\n",
        "    print(\"  Validation Loss: {0:.2f}\".format(avg_val_loss))\n",
        "    print(\"  Validation took: {:}\".format(validation_time))\n",
        "\n",
        "    # Record all statistics from this epoch.\n",
        "    training_stats.append(\n",
        "        {\n",
        "            'epoch': epoch_i + 1,\n",
        "            'Training Loss': avg_train_loss,\n",
        "            'Valid. Loss': avg_val_loss,\n",
        "            'Training Time': training_time,\n",
        "            'Validation Time': validation_time\n",
        "        }\n",
        "    )\n",
        "\n",
        "print(\"\")\n",
        "print(\"Training complete!\")\n",
        "print(\"Total training took {:} (h:mm:ss)\".format(format_time(time.time()-total_t0)))"
      ],
      "execution_count": 61,
      "outputs": [
        {
          "output_type": "stream",
          "text": [
            "\n",
            "======== Epoch 1 / 5 ========\n",
            "Training...\n"
          ],
          "name": "stdout"
        },
        {
          "output_type": "stream",
          "text": [
            "Setting `pad_token_id` to `eos_token_id`:50256 for open-end generation.\n"
          ],
          "name": "stderr"
        },
        {
          "output_type": "stream",
          "text": [
            "  Batch   100  of  1,917. Loss: 0.17953041195869446.   Elapsed: 0:00:53.\n",
            "0:  bipartisan to have the \"red. that they have gone where it is the most going to have a \"n-way you do the I need to go with the \"most you want. do the world and going to do – – – –The – – – they —… TheThe –’ –the.And’are theSo’ — Theare theThe been are the — they. I knowthey were not gone. them.…\n",
            "\n"
          ],
          "name": "stdout"
        },
        {
          "output_type": "stream",
          "text": [
            "Setting `pad_token_id` to `eos_token_id`:50256 for open-end generation.\n"
          ],
          "name": "stderr"
        },
        {
          "output_type": "stream",
          "text": [
            "  Batch   200  of  1,917. Loss: 0.25562191009521484.   Elapsed: 0:01:47.\n",
            "0:  increasingS’t the United States. I’re going to be in the US to be in a country which is like America that is what we are doing here. And these things I’ve heard. So Ive got it, Ive got it. You look at it, you know it, you’re going to be like what’s happening in our country? Youre going to have to have to keep a country here. You have to’t make it a little bit of money off here in the world and don’t know it’t happen here? So do you’re going to have to get money off here.\n"
          ],
          "name": "stdout"
        },
        {
          "output_type": "stream",
          "text": [
            "Setting `pad_token_id` to `eos_token_id`:50256 for open-end generation.\n"
          ],
          "name": "stderr"
        },
        {
          "output_type": "stream",
          "text": [
            "  Batch   300  of  1,917. Loss: 0.30140310525894165.   Elapsed: 0:02:40.\n",
            "0: dayOne. We’re not going to use their money for anything like the amount you can spend on your money.\n"
          ],
          "name": "stdout"
        },
        {
          "output_type": "stream",
          "text": [
            "Setting `pad_token_id` to `eos_token_id`:50256 for open-end generation.\n"
          ],
          "name": "stderr"
        },
        {
          "output_type": "stream",
          "text": [
            "  Batch   400  of  1,917. Loss: 0.4042942225933075.   Elapsed: 0:03:32.\n",
            "0:  HangThe American worker is going to be taken advantage of China in trade, as we have so much of privilege in this world and so many countries.\n"
          ],
          "name": "stdout"
        },
        {
          "output_type": "stream",
          "text": [
            "Setting `pad_token_id` to `eos_token_id`:50256 for open-end generation.\n"
          ],
          "name": "stderr"
        },
        {
          "output_type": "stream",
          "text": [
            "  Batch   500  of  1,917. Loss: 0.14511217176914215.   Elapsed: 0:04:25.\n",
            "0:  foodsBut I didn’t think it was so big. I didn’t think it was so big. I really didn’t think it was so big. And it’s so much.\n"
          ],
          "name": "stdout"
        },
        {
          "output_type": "stream",
          "text": [
            "Setting `pad_token_id` to `eos_token_id`:50256 for open-end generation.\n"
          ],
          "name": "stderr"
        },
        {
          "output_type": "stream",
          "text": [
            "  Batch   600  of  1,917. Loss: 0.18224404752254486.   Elapsed: 0:05:17.\n",
            "0:  trailAnd you know, they get a lot of money, and you get a lot of money from you. And I’m talking to Hillary Clinton, and I’m talking to her. But I’m talking to her. I think she has more money than Trump because she’s not so good. I think you get a lot from me. And I think you get a lot from the people that get $.\n"
          ],
          "name": "stdout"
        },
        {
          "output_type": "stream",
          "text": [
            "Setting `pad_token_id` to `eos_token_id`:50256 for open-end generation.\n"
          ],
          "name": "stderr"
        },
        {
          "output_type": "stream",
          "text": [
            "  Batch   700  of  1,917. Loss: 0.27324536442756653.   Elapsed: 0:06:10.\n",
            "0: intendI mean, for instance, it has been a long time that there have been millions of people trying to get these jobs, and many of these people are doing it for less money than you can imagine.\n"
          ],
          "name": "stdout"
        },
        {
          "output_type": "stream",
          "text": [
            "Setting `pad_token_id` to `eos_token_id`:50256 for open-end generation.\n"
          ],
          "name": "stderr"
        },
        {
          "output_type": "stream",
          "text": [
            "  Batch   800  of  1,917. Loss: 0.13460077345371246.   Elapsed: 0:07:02.\n",
            "0:  surroundI think somebody’s probably self-funding them. Okay? So you know, my book has a little bit in the book where they say you don’t know how that is. Okay? Right?\n"
          ],
          "name": "stdout"
        },
        {
          "output_type": "stream",
          "text": [
            "Setting `pad_token_id` to `eos_token_id`:50256 for open-end generation.\n"
          ],
          "name": "stderr"
        },
        {
          "output_type": "stream",
          "text": [
            "  Batch   900  of  1,917. Loss: 0.10616878420114517.   Elapsed: 0:07:55.\n",
            "0:  reflexThey will be very serious.\n"
          ],
          "name": "stdout"
        },
        {
          "output_type": "stream",
          "text": [
            "Setting `pad_token_id` to `eos_token_id`:50256 for open-end generation.\n"
          ],
          "name": "stderr"
        },
        {
          "output_type": "stream",
          "text": [
            "  Batch 1,000  of  1,917. Loss: 0.25674161314964294.   Elapsed: 0:08:47.\n",
            "0:  displayBut I know if you say, $1.5 trillion dollars, $2 trillion, $2 trillion, we're going to make it out as a lot of money and get our people that will put back in their own place. And that’s a lot of jobs that’s going to be lost if they’re not elected. Now it’s going to be the other thing. He’ll probably’t will have been a president that’s going to make a very successful president if our people don’t want us to do it for any period of time, period of time, no longer going to come into office. If we’re going to have any more, no longer going to come in. Okay? We’re going to be able to take care of our prisoners, our prisoners we’re not going to have any longer.\n"
          ],
          "name": "stdout"
        },
        {
          "output_type": "stream",
          "text": [
            "Setting `pad_token_id` to `eos_token_id`:50256 for open-end generation.\n"
          ],
          "name": "stderr"
        },
        {
          "output_type": "stream",
          "text": [
            "  Batch 1,100  of  1,917. Loss: 0.1835140734910965.   Elapsed: 0:09:41.\n",
            "0:  pastorWe’m going to make America great again. We’re going to make America great again. We don’t know where. We can’t know. We have a great border. The best way to do it is to keep the country of United the way. We’re going to make the country great again. We’re going to make America great again.\n"
          ],
          "name": "stdout"
        },
        {
          "output_type": "stream",
          "text": [
            "Setting `pad_token_id` to `eos_token_id`:50256 for open-end generation.\n"
          ],
          "name": "stderr"
        },
        {
          "output_type": "stream",
          "text": [
            "  Batch 1,200  of  1,917. Loss: 0.13354359567165375.   Elapsed: 0:10:34.\n",
            "0:  illicitAnd I mean, we’re doing some great things.\n"
          ],
          "name": "stdout"
        },
        {
          "output_type": "stream",
          "text": [
            "Setting `pad_token_id` to `eos_token_id`:50256 for open-end generation.\n"
          ],
          "name": "stderr"
        },
        {
          "output_type": "stream",
          "text": [
            "  Batch 1,300  of  1,917. Loss: 0.20117796957492828.   Elapsed: 0:11:26.\n",
            "0:  LiberationBut I love to be doing things. I love everything about the Mexican border. It’s not so easy. Just because I love the Mexican border and I love the border with Mexico and I love the wall with the wall, I love Mexico and I love the wall with the wall. That’s good for the border.\n"
          ],
          "name": "stdout"
        },
        {
          "output_type": "stream",
          "text": [
            "Setting `pad_token_id` to `eos_token_id`:50256 for open-end generation.\n"
          ],
          "name": "stderr"
        },
        {
          "output_type": "stream",
          "text": [
            "  Batch 1,400  of  1,917. Loss: 0.10855407267808914.   Elapsed: 0:12:18.\n",
            "0:  NamOn a date of record and with $6 million in real cash, I’m telling you that it’s never even met the expectations that we need.\n"
          ],
          "name": "stdout"
        },
        {
          "output_type": "stream",
          "text": [
            "Setting `pad_token_id` to `eos_token_id`:50256 for open-end generation.\n"
          ],
          "name": "stderr"
        },
        {
          "output_type": "stream",
          "text": [
            "  Batch 1,500  of  1,917. Loss: 0.08358248323202133.   Elapsed: 0:13:11.\n",
            "0: IONWe have to have a responsible foreign policy. So a responsible foreign policy. If you don’t believe me, the worst thing’s happening now is ISIS. If you don’t believe me, you can’t believe me. If you don’t believe me, you can’t believe what we do now. They’re doing with radicalized cells across the world and that’s what they’re doing right now. They are doing with a group of people that are bringing back Islamic radical Islam with drugs and they’re rapists. They’re rapists.\n"
          ],
          "name": "stdout"
        },
        {
          "output_type": "stream",
          "text": [
            "Setting `pad_token_id` to `eos_token_id`:50256 for open-end generation.\n"
          ],
          "name": "stderr"
        },
        {
          "output_type": "stream",
          "text": [
            "  Batch 1,600  of  1,917. Loss: 0.1096920594573021.   Elapsed: 0:14:04.\n",
            "0:  glimpseIt doesn’t matter where you go from all to this because I mean, you know, everybody knows that. You have to understand the kind of stuff that happens with us.\n"
          ],
          "name": "stdout"
        },
        {
          "output_type": "stream",
          "text": [
            "Setting `pad_token_id` to `eos_token_id`:50256 for open-end generation.\n"
          ],
          "name": "stderr"
        },
        {
          "output_type": "stream",
          "text": [
            "  Batch 1,700  of  1,917. Loss: 0.10063577443361282.   Elapsed: 0:14:56.\n",
            "0:  LaureSo we’re going to have great trade deals – we’re going to give a lot of bad deals that have some of the bad deals.\n"
          ],
          "name": "stdout"
        },
        {
          "output_type": "stream",
          "text": [
            "Setting `pad_token_id` to `eos_token_id`:50256 for open-end generation.\n"
          ],
          "name": "stderr"
        },
        {
          "output_type": "stream",
          "text": [
            "  Batch 1,800  of  1,917. Loss: 0.15760459005832672.   Elapsed: 0:15:48.\n",
            "0: ismWhat’s a big number. What’s a big number. I’m a big number. I’m a big number and I think it’s got a long-term relationship and a lot of people will say a lot. But I’m a big number.\n"
          ],
          "name": "stdout"
        },
        {
          "output_type": "stream",
          "text": [
            "Setting `pad_token_id` to `eos_token_id`:50256 for open-end generation.\n"
          ],
          "name": "stderr"
        },
        {
          "output_type": "stream",
          "text": [
            "  Batch 1,900  of  1,917. Loss: 0.2069856971502304.   Elapsed: 0:16:41.\n",
            "0: ounI don’t have time to waste trying to do something about it.\n",
            "\n",
            "  Average training loss: 0.26\n",
            "  Training epoch took: 0:16:50\n",
            "\n",
            "Running Validation...\n",
            "  Validation Loss: 0.20\n",
            "  Validation took: 0:00:36\n",
            "\n",
            "======== Epoch 2 / 5 ========\n",
            "Training...\n"
          ],
          "name": "stdout"
        },
        {
          "output_type": "stream",
          "text": [
            "Setting `pad_token_id` to `eos_token_id`:50256 for open-end generation.\n"
          ],
          "name": "stderr"
        },
        {
          "output_type": "stream",
          "text": [
            "  Batch   100  of  1,917. Loss: 0.12531575560569763.   Elapsed: 0:00:52.\n",
            "0:  electionWe’re going to use this stuff really hard. We’re going to use all of this stuff. We’re going to use this stuff really hard.\n"
          ],
          "name": "stdout"
        },
        {
          "output_type": "stream",
          "text": [
            "Setting `pad_token_id` to `eos_token_id`:50256 for open-end generation.\n"
          ],
          "name": "stderr"
        },
        {
          "output_type": "stream",
          "text": [
            "  Batch   200  of  1,917. Loss: 0.21006150543689728.   Elapsed: 0:01:44.\n",
            "0:  crazyAnd we can do it. Right?\n"
          ],
          "name": "stdout"
        },
        {
          "output_type": "stream",
          "text": [
            "Setting `pad_token_id` to `eos_token_id`:50256 for open-end generation.\n"
          ],
          "name": "stderr"
        },
        {
          "output_type": "stream",
          "text": [
            "  Batch   300  of  1,917. Loss: 0.6587506532669067.   Elapsed: 0:02:36.\n",
            "0:  benchThey just let us do it. I mean, look, they said, \"We’re going to put our resources to help your people. We’re going to give you what’s going to be so important, just don’t go anywhere else. Okay? Don’t worry about it. Don’t worry about it. Don’t worry about it. Don’t worry about it. Don’t worry about it. I don’t care about your money. We are going to get it out of here.\"\n"
          ],
          "name": "stdout"
        },
        {
          "output_type": "stream",
          "text": [
            "Setting `pad_token_id` to `eos_token_id`:50256 for open-end generation.\n"
          ],
          "name": "stderr"
        },
        {
          "output_type": "stream",
          "text": [
            "  Batch   400  of  1,917. Loss: 0.09434966742992401.   Elapsed: 0:03:29.\n",
            "0:  incorporatedBut everybody comes to the same thing.\n"
          ],
          "name": "stdout"
        },
        {
          "output_type": "stream",
          "text": [
            "Setting `pad_token_id` to `eos_token_id`:50256 for open-end generation.\n"
          ],
          "name": "stderr"
        },
        {
          "output_type": "stream",
          "text": [
            "  Batch   500  of  1,917. Loss: 0.18616771697998047.   Elapsed: 0:04:21.\n",
            "0: PeterYou know, the other thing is the energy that I build.\n"
          ],
          "name": "stdout"
        },
        {
          "output_type": "stream",
          "text": [
            "Setting `pad_token_id` to `eos_token_id`:50256 for open-end generation.\n"
          ],
          "name": "stderr"
        },
        {
          "output_type": "stream",
          "text": [
            "  Batch   600  of  1,917. Loss: 0.09736371785402298.   Elapsed: 0:05:14.\n",
            "0: uringThe burden is on Hillary Clinton to tell us why she believes that America First means the American people cannot enter into any dangerous zone that anyone believes to be a threat to them. It is one thing she believes she has not been able to straighten out, which we all know is a big problem.\n"
          ],
          "name": "stdout"
        },
        {
          "output_type": "stream",
          "text": [
            "Setting `pad_token_id` to `eos_token_id`:50256 for open-end generation.\n"
          ],
          "name": "stderr"
        },
        {
          "output_type": "stream",
          "text": [
            "  Batch   700  of  1,917. Loss: 0.12318176031112671.   Elapsed: 0:06:06.\n",
            "0:  reproductiveI think that’s what’s happening with respect to China. We have so much debt, so much debt and so many problems, they can buy things for us with nothing.\n"
          ],
          "name": "stdout"
        },
        {
          "output_type": "stream",
          "text": [
            "Setting `pad_token_id` to `eos_token_id`:50256 for open-end generation.\n"
          ],
          "name": "stderr"
        },
        {
          "output_type": "stream",
          "text": [
            "  Batch   800  of  1,917. Loss: 0.3039207458496094.   Elapsed: 0:06:58.\n",
            "0:  zoneAnd we’re going to get rid of Common Core. And you know it’s going to be so great, I see your people outside of Iowa. You look at a lot of the networks that are so powerful right now in Iowa.\n"
          ],
          "name": "stdout"
        },
        {
          "output_type": "stream",
          "text": [
            "Setting `pad_token_id` to `eos_token_id`:50256 for open-end generation.\n"
          ],
          "name": "stderr"
        },
        {
          "output_type": "stream",
          "text": [
            "  Batch   900  of  1,917. Loss: 0.24487712979316711.   Elapsed: 0:07:51.\n",
            "0:  commitsSo we’re going to have all – I mean, it’s got to be very, very complicated.\n"
          ],
          "name": "stdout"
        },
        {
          "output_type": "stream",
          "text": [
            "Setting `pad_token_id` to `eos_token_id`:50256 for open-end generation.\n"
          ],
          "name": "stderr"
        },
        {
          "output_type": "stream",
          "text": [
            "  Batch 1,000  of  1,917. Loss: 0.10306809842586517.   Elapsed: 0:08:43.\n",
            "0:  ironyBut we’re going to do a great job with the evangelicals. We’re going to do a fantastic job with the evangelicals. We’re going to have a great relationship with evangelicals.\n"
          ],
          "name": "stdout"
        },
        {
          "output_type": "stream",
          "text": [
            "Setting `pad_token_id` to `eos_token_id`:50256 for open-end generation.\n"
          ],
          "name": "stderr"
        },
        {
          "output_type": "stream",
          "text": [
            "  Batch 1,100  of  1,917. Loss: 0.17872951924800873.   Elapsed: 0:09:36.\n",
            "0:  SahI know what is going to happen, it’s not going to happen. But when you think of it, it’s going to happen.\n"
          ],
          "name": "stdout"
        },
        {
          "output_type": "stream",
          "text": [
            "Setting `pad_token_id` to `eos_token_id`:50256 for open-end generation.\n"
          ],
          "name": "stderr"
        },
        {
          "output_type": "stream",
          "text": [
            "  Batch 1,200  of  1,917. Loss: 0.14355553686618805.   Elapsed: 0:10:28.\n",
            "0:  BryanTRUMP:\n"
          ],
          "name": "stdout"
        },
        {
          "output_type": "stream",
          "text": [
            "Setting `pad_token_id` to `eos_token_id`:50256 for open-end generation.\n"
          ],
          "name": "stderr"
        },
        {
          "output_type": "stream",
          "text": [
            "  Batch 1,300  of  1,917. Loss: 0.17416314780712128.   Elapsed: 0:11:20.\n",
            "0:  spiritsLook at this.\n"
          ],
          "name": "stdout"
        },
        {
          "output_type": "stream",
          "text": [
            "Setting `pad_token_id` to `eos_token_id`:50256 for open-end generation.\n"
          ],
          "name": "stderr"
        },
        {
          "output_type": "stream",
          "text": [
            "  Batch 1,400  of  1,917. Loss: 0.04610416293144226.   Elapsed: 0:12:12.\n",
            "0:  seesAnd I'm going to be doing great with people, with people who look good. We're going to work very closely together. We're going to do very closely what I'm doing. It's going to be very, very exciting.\n"
          ],
          "name": "stdout"
        },
        {
          "output_type": "stream",
          "text": [
            "Setting `pad_token_id` to `eos_token_id`:50256 for open-end generation.\n"
          ],
          "name": "stderr"
        },
        {
          "output_type": "stream",
          "text": [
            "  Batch 1,500  of  1,917. Loss: 0.08849121630191803.   Elapsed: 0:13:04.\n",
            "0:  hungryWe will make our communities wealthy. The United States will be wealthy again. We will not be poor again. We will win again. We will not be poor again.\n"
          ],
          "name": "stdout"
        },
        {
          "output_type": "stream",
          "text": [
            "Setting `pad_token_id` to `eos_token_id`:50256 for open-end generation.\n"
          ],
          "name": "stderr"
        },
        {
          "output_type": "stream",
          "text": [
            "  Batch 1,600  of  1,917. Loss: 0.05139412730932236.   Elapsed: 0:13:56.\n",
            "0:  PTAnd we’re going to go see – I’ll tell you I’m not looking at you because there’s a tremendous amount of false equivalency in these two words, and I’m a practical guy. I think it’s going to be an easy way of putting my side up. And I’m very good at it. But I’m going to have real issues. And honestly, I’m going to vote for Hillary. But you know what that means. I’m just saying. We have to change that. And I’m saying.\n"
          ],
          "name": "stdout"
        },
        {
          "output_type": "stream",
          "text": [
            "Setting `pad_token_id` to `eos_token_id`:50256 for open-end generation.\n"
          ],
          "name": "stderr"
        },
        {
          "output_type": "stream",
          "text": [
            "  Batch 1,700  of  1,917. Loss: 0.20765891671180725.   Elapsed: 0:14:50.\n",
            "0: üWhen you think about it for a second, we’re very much over here right now. It’s so interesting. I don’t even want them to have to do it. You know, you know, it’s so interesting.\n"
          ],
          "name": "stdout"
        },
        {
          "output_type": "stream",
          "text": [
            "Setting `pad_token_id` to `eos_token_id`:50256 for open-end generation.\n"
          ],
          "name": "stderr"
        },
        {
          "output_type": "stream",
          "text": [
            "  Batch 1,800  of  1,917. Loss: 0.1351350098848343.   Elapsed: 0:15:42.\n",
            "0: ruceNow, you know, when the other day they said, \"Wait a minute.\" It’s like they’re getting out. We’re doing great. They’re doing great. They’re doing great in China.\n"
          ],
          "name": "stdout"
        },
        {
          "output_type": "stream",
          "text": [
            "Setting `pad_token_id` to `eos_token_id`:50256 for open-end generation.\n"
          ],
          "name": "stderr"
        },
        {
          "output_type": "stream",
          "text": [
            "  Batch 1,900  of  1,917. Loss: 0.4674343168735504.   Elapsed: 0:16:35.\n",
            "0:  derivativesThe people who voted for Trump during the campaign said they were disappointed when he left. They were disappointed when he left.\n",
            "\n",
            "  Average training loss: 0.17\n",
            "  Training epoch took: 0:16:44\n",
            "\n",
            "Running Validation...\n",
            "  Validation Loss: 0.21\n",
            "  Validation took: 0:00:36\n",
            "\n",
            "======== Epoch 3 / 5 ========\n",
            "Training...\n"
          ],
          "name": "stdout"
        },
        {
          "output_type": "stream",
          "text": [
            "Setting `pad_token_id` to `eos_token_id`:50256 for open-end generation.\n"
          ],
          "name": "stderr"
        },
        {
          "output_type": "stream",
          "text": [
            "  Batch   100  of  1,917. Loss: 0.1630983203649521.   Elapsed: 0:00:52.\n",
            "0: \u0019And you know, I’ve been with Ivanka for a very long time. I’ve been with Ivanka a very long time. Ivanka and Eric and Ivanka and Ivanka, Eric and Ivanka, Ivanka and Ivanka.\n"
          ],
          "name": "stdout"
        },
        {
          "output_type": "stream",
          "text": [
            "Setting `pad_token_id` to `eos_token_id`:50256 for open-end generation.\n"
          ],
          "name": "stderr"
        },
        {
          "output_type": "stream",
          "text": [
            "  Batch   200  of  1,917. Loss: 0.09704679250717163.   Elapsed: 0:01:44.\n",
            "0:  rememberingYou know, if you look at what it did to Israel, you have the right to self-inspect. You know, we have to control. We have to control.\n"
          ],
          "name": "stdout"
        },
        {
          "output_type": "stream",
          "text": [
            "Setting `pad_token_id` to `eos_token_id`:50256 for open-end generation.\n"
          ],
          "name": "stderr"
        },
        {
          "output_type": "stream",
          "text": [
            "  Batch   300  of  1,917. Loss: 0.1332128942012787.   Elapsed: 0:02:37.\n",
            "0:  SourcesThank you, everybody. Thank you, everybody. Let us go over one last thing – let’s go over three, four, five, six. And we’re going to take it all over.\n"
          ],
          "name": "stdout"
        },
        {
          "output_type": "stream",
          "text": [
            "Setting `pad_token_id` to `eos_token_id`:50256 for open-end generation.\n"
          ],
          "name": "stderr"
        },
        {
          "output_type": "stream",
          "text": [
            "  Batch   400  of  1,917. Loss: 0.06517904996871948.   Elapsed: 0:03:29.\n",
            "0: emsWe will not lose our jobs. Our jobs will be back. We’re going to save our wealth. Our country is going to be great.\n"
          ],
          "name": "stdout"
        },
        {
          "output_type": "stream",
          "text": [
            "Setting `pad_token_id` to `eos_token_id`:50256 for open-end generation.\n"
          ],
          "name": "stderr"
        },
        {
          "output_type": "stream",
          "text": [
            "  Batch   500  of  1,917. Loss: 0.09277714788913727.   Elapsed: 0:04:22.\n",
            "0: tzWe’re going to have a country that has the power over everybody.\n"
          ],
          "name": "stdout"
        },
        {
          "output_type": "stream",
          "text": [
            "Setting `pad_token_id` to `eos_token_id`:50256 for open-end generation.\n"
          ],
          "name": "stderr"
        },
        {
          "output_type": "stream",
          "text": [
            "  Batch   600  of  1,917. Loss: 0.07377324253320694.   Elapsed: 0:05:14.\n",
            "0: maticWith Japan and Mexico and all these places we have a trade imbalance. We pay a lot of money for our apartments in apartments. We buy apartments from China, for apartments.\n"
          ],
          "name": "stdout"
        },
        {
          "output_type": "stream",
          "text": [
            "Setting `pad_token_id` to `eos_token_id`:50256 for open-end generation.\n"
          ],
          "name": "stderr"
        },
        {
          "output_type": "stream",
          "text": [
            "  Batch   700  of  1,917. Loss: 0.2575938105583191.   Elapsed: 0:06:06.\n",
            "0:  syndYou know, I want to thank my daughter. And Melania just said to me she’s very special. He’s not going to say about that. They don’t want to show up for that reason. So we’re going to be celebrating this election, and I want to be celebrating.\n"
          ],
          "name": "stdout"
        },
        {
          "output_type": "stream",
          "text": [
            "Setting `pad_token_id` to `eos_token_id`:50256 for open-end generation.\n"
          ],
          "name": "stderr"
        },
        {
          "output_type": "stream",
          "text": [
            "  Batch   800  of  1,917. Loss: 0.05279169976711273.   Elapsed: 0:06:59.\n",
            "0:  gamI’ll never be embarrassed to lead the Republican Party to victory if we do. You have to lead it. Okay?\n"
          ],
          "name": "stdout"
        },
        {
          "output_type": "stream",
          "text": [
            "Setting `pad_token_id` to `eos_token_id`:50256 for open-end generation.\n"
          ],
          "name": "stderr"
        },
        {
          "output_type": "stream",
          "text": [
            "  Batch   900  of  1,917. Loss: 0.20365281403064728.   Elapsed: 0:07:51.\n",
            "0:  injuryI’ll tell you I got to go to Dallas and I think we can win New York, because I’ve been watching the New York Times. They’re very dishonest people. They’re very dishonest people.\n"
          ],
          "name": "stdout"
        },
        {
          "output_type": "stream",
          "text": [
            "Setting `pad_token_id` to `eos_token_id`:50256 for open-end generation.\n"
          ],
          "name": "stderr"
        },
        {
          "output_type": "stream",
          "text": [
            "  Batch 1,000  of  1,917. Loss: 0.03980141878128052.   Elapsed: 0:08:43.\n",
            "0: azaI am proud to be a part of the establishment. I know all of the great people. I know so many of them. I love the people. We have so many of the people. We have so many of the people. And we have tremendous support. We have tremendous numbers of people. We have unbelievable support.\n"
          ],
          "name": "stdout"
        },
        {
          "output_type": "stream",
          "text": [
            "Setting `pad_token_id` to `eos_token_id`:50256 for open-end generation.\n"
          ],
          "name": "stderr"
        },
        {
          "output_type": "stream",
          "text": [
            "  Batch 1,100  of  1,917. Loss: 0.2603034973144531.   Elapsed: 0:09:36.\n",
            "0:  membraneWe had a meeting recently in L.A. We had a great gathering of people. And I had a good evening. I had a great gathering. But there were some very beautiful people – a group of people.\n"
          ],
          "name": "stdout"
        },
        {
          "output_type": "stream",
          "text": [
            "Setting `pad_token_id` to `eos_token_id`:50256 for open-end generation.\n"
          ],
          "name": "stderr"
        },
        {
          "output_type": "stream",
          "text": [
            "  Batch 1,200  of  1,917. Loss: 0.1012309119105339.   Elapsed: 0:10:28.\n",
            "0: ijingAnd you know, we did it. We did it. And it’s not supposed to happen anymore. So it’s sort of interesting to me because they said, \"Well, it’s a very negative situation\" to this man and he has a good friend who likes him very much. He says he’d like us.\n"
          ],
          "name": "stdout"
        },
        {
          "output_type": "stream",
          "text": [
            "Setting `pad_token_id` to `eos_token_id`:50256 for open-end generation.\n"
          ],
          "name": "stderr"
        },
        {
          "output_type": "stream",
          "text": [
            "  Batch 1,300  of  1,917. Loss: 0.09403080493211746.   Elapsed: 0:11:21.\n",
            "0:  castWe’re going to rebuild our military. That’s why NATO must take over our nuclear arsenal. That is why we need to get them to do their job properly. I said, why aren’t we paying?\n"
          ],
          "name": "stdout"
        },
        {
          "output_type": "stream",
          "text": [
            "Setting `pad_token_id` to `eos_token_id`:50256 for open-end generation.\n"
          ],
          "name": "stderr"
        },
        {
          "output_type": "stream",
          "text": [
            "  Batch 1,400  of  1,917. Loss: 0.4477303624153137.   Elapsed: 0:12:14.\n",
            "0:  purchYou know, what happens when you see – you look at what happened to John McCain. I was in the Marine – I had four people. I’ll tell you that I had four people that I actually love. I’ll tell you what. I loved the Marine because they’re the best – they’re tough, smart, tough and tough, right?\n"
          ],
          "name": "stdout"
        },
        {
          "output_type": "stream",
          "text": [
            "Setting `pad_token_id` to `eos_token_id`:50256 for open-end generation.\n"
          ],
          "name": "stderr"
        },
        {
          "output_type": "stream",
          "text": [
            "  Batch 1,500  of  1,917. Loss: 0.12063158303499222.   Elapsed: 0:13:07.\n",
            "0:  shouldersWe’re going to bring you back. We’re going to bring you back. We’re going to bring it back. We’re going to bring back jobs, our infrastructure, our roads and everything, so importantly.\n"
          ],
          "name": "stdout"
        },
        {
          "output_type": "stream",
          "text": [
            "Setting `pad_token_id` to `eos_token_id`:50256 for open-end generation.\n"
          ],
          "name": "stderr"
        },
        {
          "output_type": "stream",
          "text": [
            "  Batch 1,600  of  1,917. Loss: 0.2135007530450821.   Elapsed: 0:13:59.\n",
            "0:  builtThis is a record of tremendous amounts of money. And we will be very happy. Thank you very much. Thank you very much. Thank you very much everybody. Thank you very much.\n"
          ],
          "name": "stdout"
        },
        {
          "output_type": "stream",
          "text": [
            "Setting `pad_token_id` to `eos_token_id`:50256 for open-end generation.\n"
          ],
          "name": "stderr"
        },
        {
          "output_type": "stream",
          "text": [
            "  Batch 1,700  of  1,917. Loss: 0.07300354540348053.   Elapsed: 0:14:51.\n",
            "0:  openlyI’m not a man that was fighting for a paycheck but a job, and I was, you know, we’re going to bring back the jobs and we’re going to be terrific and our manufacturing will be phenomenal and if people want jobs that can be shipped across the border and they don’t have an incentive to work for another job.\n"
          ],
          "name": "stdout"
        },
        {
          "output_type": "stream",
          "text": [
            "Setting `pad_token_id` to `eos_token_id`:50256 for open-end generation.\n"
          ],
          "name": "stderr"
        },
        {
          "output_type": "stream",
          "text": [
            "  Batch 1,800  of  1,917. Loss: 0.19359539449214935.   Elapsed: 0:15:44.\n",
            "0:  haltedIn fact, Hillary is the only candidate who’s running for President. And the reason I said that — I’m the only candidate who’s going to run for President. And the reason I’m running is a tremendous amount of money that I’m running for the presidency. That’s what I’m doing. We’re going to have a wall; Mexico is going to come through, and a lot of money that we need to build this wall is going to come through.\n"
          ],
          "name": "stdout"
        },
        {
          "output_type": "stream",
          "text": [
            "Setting `pad_token_id` to `eos_token_id`:50256 for open-end generation.\n"
          ],
          "name": "stderr"
        },
        {
          "output_type": "stream",
          "text": [
            "  Batch 1,900  of  1,917. Loss: 0.08573777973651886.   Elapsed: 0:16:37.\n",
            "0:  NikAnd the number of – now, they’re leading by almost 300%. You’re looking at these numbers – they’re leading by way by a lot. So it’s not even close. And they’re leading by a lot because we have so much money in invested in education – tremendous – in education.\n",
            "\n",
            "  Average training loss: 0.14\n",
            "  Training epoch took: 0:16:47\n",
            "\n",
            "Running Validation...\n",
            "  Validation Loss: 0.20\n",
            "  Validation took: 0:00:36\n",
            "\n",
            "======== Epoch 4 / 5 ========\n",
            "Training...\n"
          ],
          "name": "stdout"
        },
        {
          "output_type": "stream",
          "text": [
            "Setting `pad_token_id` to `eos_token_id`:50256 for open-end generation.\n"
          ],
          "name": "stderr"
        },
        {
          "output_type": "stream",
          "text": [
            "  Batch   100  of  1,917. Loss: 0.035939935594797134.   Elapsed: 0:00:52.\n",
            "0:  tinAnd then I’m at 50 percent. And then I’m at 32 percent. So when I was at zero percent, and you know, you’re getting hit by so many different elements and you know, it’s just very, very sad to think that we’re at 33 percent, and that just goes way down.\n"
          ],
          "name": "stdout"
        },
        {
          "output_type": "stream",
          "text": [
            "Setting `pad_token_id` to `eos_token_id`:50256 for open-end generation.\n"
          ],
          "name": "stderr"
        },
        {
          "output_type": "stream",
          "text": [
            "  Batch   200  of  1,917. Loss: 0.24209269881248474.   Elapsed: 0:01:45.\n",
            "0:  clinicalYou know, I really do. If you look at what happened with Ben, he lost his whole Super PAC. You know, you know what I mean. That’s very sad. That’s very sad.\n"
          ],
          "name": "stdout"
        },
        {
          "output_type": "stream",
          "text": [
            "Setting `pad_token_id` to `eos_token_id`:50256 for open-end generation.\n"
          ],
          "name": "stderr"
        },
        {
          "output_type": "stream",
          "text": [
            "  Batch   300  of  1,917. Loss: 0.1127476766705513.   Elapsed: 0:02:37.\n",
            "0: lectionsAnd he [referring to Ted Cruz] has not been treated fairly. He’s not been a great businessman.\n"
          ],
          "name": "stdout"
        },
        {
          "output_type": "stream",
          "text": [
            "Setting `pad_token_id` to `eos_token_id`:50256 for open-end generation.\n"
          ],
          "name": "stderr"
        },
        {
          "output_type": "stream",
          "text": [
            "  Batch   400  of  1,917. Loss: 0.08544085174798965.   Elapsed: 0:03:29.\n",
            "0: elsI won’t say it in any big league fashion. I won’t say it in any big league fashion. I don’t think I should tell anybody.\n"
          ],
          "name": "stdout"
        },
        {
          "output_type": "stream",
          "text": [
            "Setting `pad_token_id` to `eos_token_id`:50256 for open-end generation.\n"
          ],
          "name": "stderr"
        },
        {
          "output_type": "stream",
          "text": [
            "  Batch   500  of  1,917. Loss: 0.14641405642032623.   Elapsed: 0:04:22.\n",
            "0: labI don’t even know if they’re going to do as well as they should. But I think they can do something that’s important and there are some people outside. I don’t know if they’re going to do.\n"
          ],
          "name": "stdout"
        },
        {
          "output_type": "stream",
          "text": [
            "Setting `pad_token_id` to `eos_token_id`:50256 for open-end generation.\n"
          ],
          "name": "stderr"
        },
        {
          "output_type": "stream",
          "text": [
            "  Batch   600  of  1,917. Loss: 0.040742427110672.   Elapsed: 0:05:14.\n",
            "0:  tripleNo, no, they don’t want — they don’t like me or this, believe me, but we have a lot more people than our president. It is — they have more than anybody in the world.\n"
          ],
          "name": "stdout"
        },
        {
          "output_type": "stream",
          "text": [
            "Setting `pad_token_id` to `eos_token_id`:50256 for open-end generation.\n"
          ],
          "name": "stderr"
        },
        {
          "output_type": "stream",
          "text": [
            "  Batch   700  of  1,917. Loss: 0.04574256390333176.   Elapsed: 0:06:07.\n",
            "0: 220But the point is, the oil is being sold. The oil is being sold. And every time we get close to $20 billion in the Middle East, we can see the sign. The sign is the wrong price because people are selling it. It’s true. And we’re getting that money. So, we are getting that money from Saudi Arabia. But they get it from the United States. The $ was on the Interpol. The $ was on the Obama administration.\"\n"
          ],
          "name": "stdout"
        },
        {
          "output_type": "stream",
          "text": [
            "Setting `pad_token_id` to `eos_token_id`:50256 for open-end generation.\n"
          ],
          "name": "stderr"
        },
        {
          "output_type": "stream",
          "text": [
            "  Batch   800  of  1,917. Loss: 0.1067822203040123.   Elapsed: 0:07:00.\n",
            "0:  SeeAnd it’s going to be a very interesting evening.\n"
          ],
          "name": "stdout"
        },
        {
          "output_type": "stream",
          "text": [
            "Setting `pad_token_id` to `eos_token_id`:50256 for open-end generation.\n"
          ],
          "name": "stderr"
        },
        {
          "output_type": "stream",
          "text": [
            "  Batch   900  of  1,917. Loss: 0.2329442799091339.   Elapsed: 0:07:52.\n",
            "0: @@A few days ago, I watched the television. The cameras swerve. They are moving from the ceiling. And then the cameras swoop over and I say \"Okay, we’re going to do well.\" And then I say you’re going to win. And then it goes to the floor. And the cameras swoop over and we have a little break.\n"
          ],
          "name": "stdout"
        },
        {
          "output_type": "stream",
          "text": [
            "Setting `pad_token_id` to `eos_token_id`:50256 for open-end generation.\n"
          ],
          "name": "stderr"
        },
        {
          "output_type": "stream",
          "text": [
            "  Batch 1,000  of  1,917. Loss: 0.09240201115608215.   Elapsed: 0:08:45.\n",
            "0:  hostThey said – look at all the credit I got for it. So I didn’t mention names.\n"
          ],
          "name": "stdout"
        },
        {
          "output_type": "stream",
          "text": [
            "Setting `pad_token_id` to `eos_token_id`:50256 for open-end generation.\n"
          ],
          "name": "stderr"
        },
        {
          "output_type": "stream",
          "text": [
            "  Batch 1,100  of  1,917. Loss: 0.13015511631965637.   Elapsed: 0:09:37.\n",
            "0: roleAnd I can tell you that the establishment doesn’t want money to be spent – they want money to be spent in Washington. They’ve got trillions and trillions of dollars overseas. They’ve got trillions more dollars now than they used to be spending.\n"
          ],
          "name": "stdout"
        },
        {
          "output_type": "stream",
          "text": [
            "Setting `pad_token_id` to `eos_token_id`:50256 for open-end generation.\n"
          ],
          "name": "stderr"
        },
        {
          "output_type": "stream",
          "text": [
            "  Batch 1,200  of  1,917. Loss: 0.19428661465644836.   Elapsed: 0:10:29.\n",
            "0: iacAnd they say, \"You know we have to stop illegal immigration. We’re going to stop it. I’m the one that made the statement.\" My kids in those early years, they just remember him. \"Immigration from these places is finished. This is finished. We’re finished.\" And then they went to see him and they loved it.\n"
          ],
          "name": "stdout"
        },
        {
          "output_type": "stream",
          "text": [
            "Setting `pad_token_id` to `eos_token_id`:50256 for open-end generation.\n"
          ],
          "name": "stderr"
        },
        {
          "output_type": "stream",
          "text": [
            "  Batch 1,300  of  1,917. Loss: 0.0954013541340828.   Elapsed: 0:11:22.\n",
            "0:  LDI’ve got such endorsements.\n"
          ],
          "name": "stdout"
        },
        {
          "output_type": "stream",
          "text": [
            "Setting `pad_token_id` to `eos_token_id`:50256 for open-end generation.\n"
          ],
          "name": "stderr"
        },
        {
          "output_type": "stream",
          "text": [
            "  Batch 1,400  of  1,917. Loss: 0.12104388326406479.   Elapsed: 0:12:14.\n",
            "0:  ListenThey’ve got to get out and vote. And they’re going to have to get out and vote. It’s one of the reasons I have so much enthusiasm for this country. And people are coming into the country, and they’re coming into this country through illegal immigration. And I will say that for a while, and I will say that for the next very next few weeks.\n"
          ],
          "name": "stdout"
        },
        {
          "output_type": "stream",
          "text": [
            "Setting `pad_token_id` to `eos_token_id`:50256 for open-end generation.\n"
          ],
          "name": "stderr"
        },
        {
          "output_type": "stream",
          "text": [
            "  Batch 1,500  of  1,917. Loss: 0.14325110614299774.   Elapsed: 0:13:07.\n",
            "0:  dyBut I’m a believer in education. I have an interest in education. I have a great company – a great company, very good employees, a great people and that’s where I do well.\n"
          ],
          "name": "stdout"
        },
        {
          "output_type": "stream",
          "text": [
            "Setting `pad_token_id` to `eos_token_id`:50256 for open-end generation.\n"
          ],
          "name": "stderr"
        },
        {
          "output_type": "stream",
          "text": [
            "  Batch 1,600  of  1,917. Loss: 0.12958098948001862.   Elapsed: 0:14:00.\n",
            "0:  DomesticTRUMP: Thank you, everybody. Thank you. Thank you very much. Thank you.\n"
          ],
          "name": "stdout"
        },
        {
          "output_type": "stream",
          "text": [
            "Setting `pad_token_id` to `eos_token_id`:50256 for open-end generation.\n"
          ],
          "name": "stderr"
        },
        {
          "output_type": "stream",
          "text": [
            "  Batch 1,700  of  1,917. Loss: 0.13347280025482178.   Elapsed: 0:14:52.\n",
            "0:  beneficiariesSo, we’re going to do it now because we’re going to bring our party together.\n"
          ],
          "name": "stdout"
        },
        {
          "output_type": "stream",
          "text": [
            "Setting `pad_token_id` to `eos_token_id`:50256 for open-end generation.\n"
          ],
          "name": "stderr"
        },
        {
          "output_type": "stream",
          "text": [
            "  Batch 1,800  of  1,917. Loss: 0.039465151727199554.   Elapsed: 0:15:44.\n",
            "0:  TitleI look at the statistics of Obamacare. I look at the number of people dead, the cost, the waste, and abuse. I’ve heard a hundred – what I heard is absolute absolute absolute disaster.\n"
          ],
          "name": "stdout"
        },
        {
          "output_type": "stream",
          "text": [
            "Setting `pad_token_id` to `eos_token_id`:50256 for open-end generation.\n"
          ],
          "name": "stderr"
        },
        {
          "output_type": "stream",
          "text": [
            "  Batch 1,900  of  1,917. Loss: 0.13888144493103027.   Elapsed: 0:16:36.\n",
            "0:  μWhen somebody’s doing an ad that hits me on the strength or just on the stamina, I’m not going to hit them.\n",
            "\n",
            "  Average training loss: 0.12\n",
            "  Training epoch took: 0:16:45\n",
            "\n",
            "Running Validation...\n",
            "  Validation Loss: 0.22\n",
            "  Validation took: 0:00:36\n",
            "\n",
            "======== Epoch 5 / 5 ========\n",
            "Training...\n"
          ],
          "name": "stdout"
        },
        {
          "output_type": "stream",
          "text": [
            "Setting `pad_token_id` to `eos_token_id`:50256 for open-end generation.\n"
          ],
          "name": "stderr"
        },
        {
          "output_type": "stream",
          "text": [
            "  Batch   100  of  1,917. Loss: 0.04902688041329384.   Elapsed: 0:00:52.\n",
            "0:  selling...I don’t care. I don’t care that much. I’ll care no so much.\n"
          ],
          "name": "stdout"
        },
        {
          "output_type": "stream",
          "text": [
            "Setting `pad_token_id` to `eos_token_id`:50256 for open-end generation.\n"
          ],
          "name": "stderr"
        },
        {
          "output_type": "stream",
          "text": [
            "  Batch   200  of  1,917. Loss: 0.062290485948324203.   Elapsed: 0:01:44.\n",
            "0:  migrantWe’re doing very well.\n"
          ],
          "name": "stdout"
        },
        {
          "output_type": "stream",
          "text": [
            "Setting `pad_token_id` to `eos_token_id`:50256 for open-end generation.\n"
          ],
          "name": "stderr"
        },
        {
          "output_type": "stream",
          "text": [
            "  Batch   300  of  1,917. Loss: 0.15061473846435547.   Elapsed: 0:02:36.\n",
            "0: ivelyNow, what she says is absolutely wrong. I don’t want — nobody’s ever going to mess with her again. I want them to. That’s what they want. They’re never going to mess with us. They’re never going to mess with our country. They’re never going to mess with us.\n"
          ],
          "name": "stdout"
        },
        {
          "output_type": "stream",
          "text": [
            "Setting `pad_token_id` to `eos_token_id`:50256 for open-end generation.\n"
          ],
          "name": "stderr"
        },
        {
          "output_type": "stream",
          "text": [
            "  Batch   400  of  1,917. Loss: 0.036001067608594894.   Elapsed: 0:03:29.\n",
            "0:  orderWe’re in war. We have to do that. We have to do it. We have to do it.\n"
          ],
          "name": "stdout"
        },
        {
          "output_type": "stream",
          "text": [
            "Setting `pad_token_id` to `eos_token_id`:50256 for open-end generation.\n"
          ],
          "name": "stderr"
        },
        {
          "output_type": "stream",
          "text": [
            "  Batch   500  of  1,917. Loss: 0.04203635826706886.   Elapsed: 0:04:21.\n",
            "0:  VPNBut what happens is they say \"We will do this.\" I don’t know. I say, \"By the way, we’re going to do this.\" They’re doing all of a sudden ISIS has all of a sudden the biggest oil reserves in the world, massive.\n"
          ],
          "name": "stdout"
        },
        {
          "output_type": "stream",
          "text": [
            "Setting `pad_token_id` to `eos_token_id`:50256 for open-end generation.\n"
          ],
          "name": "stderr"
        },
        {
          "output_type": "stream",
          "text": [
            "  Batch   600  of  1,917. Loss: 0.05714265629649162.   Elapsed: 0:05:14.\n",
            "0:  explanationWe’re going to build a wall at the southern border of Mexico. I want it to be as good as you’re talking about building a wall. Okay? Thank you very much. I love the wall.\n"
          ],
          "name": "stdout"
        },
        {
          "output_type": "stream",
          "text": [
            "Setting `pad_token_id` to `eos_token_id`:50256 for open-end generation.\n"
          ],
          "name": "stderr"
        },
        {
          "output_type": "stream",
          "text": [
            "  Batch   700  of  1,917. Loss: 0.06664855778217316.   Elapsed: 0:06:07.\n",
            "0:  BachYou know, everybody agrees that we have the SEC at the best place in the world. We have the SEC at the best place in the world. Nobody has heard my name. Everybody. We have the SEC at the best place in the world and they say, \"We have to go and see our president.\"\n"
          ],
          "name": "stdout"
        },
        {
          "output_type": "stream",
          "text": [
            "Setting `pad_token_id` to `eos_token_id`:50256 for open-end generation.\n"
          ],
          "name": "stderr"
        },
        {
          "output_type": "stream",
          "text": [
            "  Batch   800  of  1,917. Loss: 0.029228759929537773.   Elapsed: 0:06:59.\n",
            "0:  folderYou know what I’m talking about? I’m talking about corporate inversions and I’m talking about lots of things.\n"
          ],
          "name": "stdout"
        },
        {
          "output_type": "stream",
          "text": [
            "Setting `pad_token_id` to `eos_token_id`:50256 for open-end generation.\n"
          ],
          "name": "stderr"
        },
        {
          "output_type": "stream",
          "text": [
            "  Batch   900  of  1,917. Loss: 0.07433179020881653.   Elapsed: 0:07:51.\n",
            "0:  building…The veterans have been incredible. They’re not going to forget it.\n"
          ],
          "name": "stdout"
        },
        {
          "output_type": "stream",
          "text": [
            "Setting `pad_token_id` to `eos_token_id`:50256 for open-end generation.\n"
          ],
          "name": "stderr"
        },
        {
          "output_type": "stream",
          "text": [
            "  Batch 1,000  of  1,917. Loss: 0.04778321459889412.   Elapsed: 0:08:44.\n",
            "0:  BabylonIt has been a truly great honor to have you with me, and a truly great honor to have you with me on Saturday morning to talk about something so important.\n"
          ],
          "name": "stdout"
        },
        {
          "output_type": "stream",
          "text": [
            "Setting `pad_token_id` to `eos_token_id`:50256 for open-end generation.\n"
          ],
          "name": "stderr"
        },
        {
          "output_type": "stream",
          "text": [
            "  Batch 1,100  of  1,917. Loss: 0.07751314342021942.   Elapsed: 0:09:36.\n",
            "0: perialYou know, Hillary Clinton said the Veterans Administration is one of the worst. Okay? Veterans Administration. That’s the worst. The worst.\n"
          ],
          "name": "stdout"
        },
        {
          "output_type": "stream",
          "text": [
            "Setting `pad_token_id` to `eos_token_id`:50256 for open-end generation.\n"
          ],
          "name": "stderr"
        },
        {
          "output_type": "stream",
          "text": [
            "  Batch 1,200  of  1,917. Loss: 0.12329424917697906.   Elapsed: 0:10:28.\n",
            "0:  rentsAnd by the way, Ford is building $2.5 billion factory here and I’m building it bigger. But they closed down that deal and now we’re going to have two. But they’re building a plant over here and they’re going to come in and probably buy Ford cars from here and they’re going to sell them to us and we’ll sell them to us because they’re going to want to build jobs here and they’re going to be happy.\n"
          ],
          "name": "stdout"
        },
        {
          "output_type": "stream",
          "text": [
            "Setting `pad_token_id` to `eos_token_id`:50256 for open-end generation.\n"
          ],
          "name": "stderr"
        },
        {
          "output_type": "stream",
          "text": [
            "  Batch 1,300  of  1,917. Loss: 0.0748073160648346.   Elapsed: 0:11:21.\n",
            "0:  RegBut the bottom line is that we’re going to change things around. I want to make America rich again. And I want to make our country safe again so we have a sense of security. We have a President that has a bad temperament – that doesn’t know how to use the words. We have a weak person that doesn’t understand the threat, that doesn’t know how to use them properly.\n"
          ],
          "name": "stdout"
        },
        {
          "output_type": "stream",
          "text": [
            "Setting `pad_token_id` to `eos_token_id`:50256 for open-end generation.\n"
          ],
          "name": "stderr"
        },
        {
          "output_type": "stream",
          "text": [
            "  Batch 1,400  of  1,917. Loss: 0.07485943287611008.   Elapsed: 0:12:14.\n",
            "0: olasWe need somebody that can take the brand of the United States, make great, and bring it back.\n"
          ],
          "name": "stdout"
        },
        {
          "output_type": "stream",
          "text": [
            "Setting `pad_token_id` to `eos_token_id`:50256 for open-end generation.\n"
          ],
          "name": "stderr"
        },
        {
          "output_type": "stream",
          "text": [
            "  Batch 1,500  of  1,917. Loss: 0.09806516021490097.   Elapsed: 0:13:07.\n",
            "0:  responsesSo I think you’re going to see – I’ll tell you what, there are so many things. And then we have all the strikes.\n"
          ],
          "name": "stdout"
        },
        {
          "output_type": "stream",
          "text": [
            "Setting `pad_token_id` to `eos_token_id`:50256 for open-end generation.\n"
          ],
          "name": "stderr"
        },
        {
          "output_type": "stream",
          "text": [
            "  Batch 1,600  of  1,917. Loss: 0.054956771433353424.   Elapsed: 0:13:59.\n",
            "0:  attendanceSo if you’re a Republican that said \"Chris, why don’t you vote for Obama?\" You vote for Obama because you know how to win. You’re going to have to be there because you’re going to have an incredible family. They’re going to be there. They’re going to be having unbelievably happy lives. We’re all going to be there.\n"
          ],
          "name": "stdout"
        },
        {
          "output_type": "stream",
          "text": [
            "Setting `pad_token_id` to `eos_token_id`:50256 for open-end generation.\n"
          ],
          "name": "stderr"
        },
        {
          "output_type": "stream",
          "text": [
            "  Batch 1,700  of  1,917. Loss: 0.05884086340665817.   Elapsed: 0:14:52.\n",
            "0:  rigidI will totally succeed in every single respect. I will totally succeed in this country, because believe me I have the best chance of ever getting the job because nobody is giving up what I’m giving.\n"
          ],
          "name": "stdout"
        },
        {
          "output_type": "stream",
          "text": [
            "Setting `pad_token_id` to `eos_token_id`:50256 for open-end generation.\n"
          ],
          "name": "stderr"
        },
        {
          "output_type": "stream",
          "text": [
            "  Batch 1,800  of  1,917. Loss: 0.12479827553033829.   Elapsed: 0:15:44.\n",
            "0: groSo that was great and we got tremendous response.\n"
          ],
          "name": "stdout"
        },
        {
          "output_type": "stream",
          "text": [
            "Setting `pad_token_id` to `eos_token_id`:50256 for open-end generation.\n"
          ],
          "name": "stderr"
        },
        {
          "output_type": "stream",
          "text": [
            "  Batch 1,900  of  1,917. Loss: 0.09182991087436676.   Elapsed: 0:16:36.\n",
            "0:  GreBut it’s still very exciting to be working with our allies. And it’s going to be fantastic and we’re going to be having fantastic trade deals.\n",
            "\n",
            "  Average training loss: 0.09\n",
            "  Training epoch took: 0:16:46\n",
            "\n",
            "Running Validation...\n",
            "  Validation Loss: 0.24\n",
            "  Validation took: 0:00:36\n",
            "\n",
            "Training complete!\n",
            "Total training took 1:26:51 (h:mm:ss)\n"
          ],
          "name": "stdout"
        }
      ]
    },
    {
      "cell_type": "code",
      "metadata": {
        "colab": {
          "base_uri": "https://localhost:8080/"
        },
        "id": "YIgZZPxHEU0Z",
        "outputId": "b452f33b-0791-430c-9ea0-343a37f0b21b"
      },
      "source": [
        "model.eval()\n",
        "\n",
        "prompt = \"<|startoftext|>\"\n",
        "\n",
        "generated = torch.tensor(tokenizer.encode(prompt)).unsqueeze(0)\n",
        "generated = generated.to(device)\n",
        "\n",
        "print(generated)\n",
        "\n",
        "sample_outputs = model.generate(\n",
        "                                generated, \n",
        "                                #bos_token_id=random.randint(1,30000),\n",
        "                                do_sample=True,   \n",
        "                                top_k=50, \n",
        "                                max_length = 300,\n",
        "                                top_p=0.95, \n",
        "                                num_return_sequences=10\n",
        "                                )\n",
        "\n",
        "for i, sample_output in enumerate(sample_outputs):\n",
        "  print(\"{}: {}\\n\\n\".format(i, tokenizer.decode(sample_output, skip_special_tokens=True)))"
      ],
      "execution_count": 62,
      "outputs": [
        {
          "output_type": "stream",
          "text": [
            "Setting `pad_token_id` to `eos_token_id`:50256 for open-end generation.\n"
          ],
          "name": "stderr"
        },
        {
          "output_type": "stream",
          "text": [
            "tensor([[50257]], device='cuda:0')\n",
            "0: You know, I have a great business sense. I have a great ability because of my business ability, tremendous people come in to my office, \"Mr. Trump, we’re doing well. We’re doing well in South Carolina. We’re doing great with the people of Iowa. We’re doing great in New Hampshire. We’re doing great in Florida. We’re doing great in Texas.\n",
            "\n",
            "\n",
            "1: I’m not angry at China. They’re ripping us off. China respects us. I’m angry at our leadership for not being able to compete with them and we’re not going to let them rip us off.\n",
            "\n",
            "\n",
            "2: So, we’re going to do something that’s special.\n",
            "\n",
            "\n",
            "3: And I will say this: I love you. I want to help. But we have a lot of things coming our way and some of them are not so good.\n",
            "\n",
            "\n",
            "4: We’re doing very well with the evangelicals. We’re doing well with the Tea Party. We have the Tea Party people – they’re great people.\n",
            "\n",
            "\n",
            "5: So we will have a fair border. We will have a border with a level border that’s as good as our country’s going to get. This is going to be a real wall. This is going to be a wall.\n",
            "\n",
            "\n",
            "6: And honestly, I think the press – I think it’s one of the reasons I have such a big net worth. Much of my net worth is paid out fairly early and probably is the only thing – you know, with the companies that make so much money, they probably should make as much as they can. They probably should have, but somebody else pays the bills.\n",
            "\n",
            "\n",
            "7: So we just went through. And a couple of you saw what happened with Bibi. You saw it again.\n",
            "\n",
            "\n",
            "8: This is not a testament to me or a testament to all of the people who believed real change, not Obama change, but real change is possible.\n",
            "\n",
            "\n",
            "9: And I have to say this, this is a tough deal. We have a deal where you can do so much. I know it.\n",
            "\n",
            "\n"
          ],
          "name": "stdout"
        }
      ]
    },
    {
      "cell_type": "markdown",
      "metadata": {
        "id": "b072HzBPdX_Y"
      },
      "source": [
        ">I used the speeches from Donald Trump to fine-tone the model, and we can see the generated output are really the words that Trump would say."
      ]
    },
    {
      "cell_type": "markdown",
      "metadata": {
        "id": "-LRDJV1_h735"
      },
      "source": [
        ">0: You know, I have a great business sense. I have a great ability because of my business ability, tremendous people come in to my office, \"Mr. Trump, we’re doing well. We’re doing well in South Carolina. We’re doing great with the people of Iowa. We’re doing great in New Hampshire. We’re doing great in Florida. We’re doing great in Texas.\n",
        "\n",
        "\n",
        ">1: I’m not angry at China. They’re ripping us off. China respects us. I’m angry at our leadership for not being able to compete with them and we’re not going to let them rip us off.\n",
        "\n",
        "\n",
        ">2: So, we’re going to do something that’s special.\n",
        "\n",
        "\n",
        ">3: And I will say this: I love you. I want to help. But we have a lot of things coming our way and some of them are not so good.\n",
        "\n",
        "\n",
        ">4: We’re doing very well with the evangelicals. We’re doing well with the Tea Party. We have the Tea Party people – they’re great people.\n",
        "\n",
        "\n",
        ">5: So we will have a fair border. We will have a border with a level border that’s as good as our country’s going to get. This is going to be a real wall. This is going to be a wall.\n",
        "\n",
        "\n",
        ">6: And honestly, I think the press – I think it’s one of the reasons I have such a big net worth. Much of my net worth is paid out fairly early and probably is the only thing – you know, with the companies that make so much money, they probably should make as much as they can. They probably should have, but somebody else pays the bills.\n",
        "\n",
        "\n",
        ">7: So we just went through. And a couple of you saw what happened with Bibi. You saw it again.\n",
        "\n",
        "\n",
        ">8: This is not a testament to me or a testament to all of the people who believed real change, not Obama change, but real change is possible.\n",
        "\n",
        "\n",
        ">9: And I have to say this, this is a tough deal. We have a deal where you can do so much. I know it."
      ]
    }
  ]
}